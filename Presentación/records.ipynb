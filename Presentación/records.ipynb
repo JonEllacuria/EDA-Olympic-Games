{
 "cells": [
  {
   "cell_type": "code",
   "execution_count": 138,
   "metadata": {},
   "outputs": [],
   "source": [
    "import pandas as pd\n",
    "import seaborn as sns\n",
    "import matplotlib.pyplot as plt\n",
    "import plotly.express as px\n",
    "import plotly.graph_objs as go\n",
    "from plotly.subplots import make_subplots\n",
    "from plotly.offline import init_notebook_mode, iplot, plot\n",
    "import plotly.offline as pyo\n",
    "import matplotlib"
   ]
  },
  {
   "cell_type": "code",
   "execution_count": 139,
   "metadata": {},
   "outputs": [],
   "source": [
    "records=pd.read_csv(\"records.csv\")\n",
    "record_batido_misma_edicion=pd.read_csv(\"record_batido_misma_edicion.csv\")\n",
    "atletismo_olimpiadas=pd.read_csv(\"atletismo_olimpiadas.csv\")"
   ]
  },
  {
   "cell_type": "code",
   "execution_count": 140,
   "metadata": {},
   "outputs": [
    {
     "data": {
      "text/html": [
       "<div>\n",
       "<style scoped>\n",
       "    .dataframe tbody tr th:only-of-type {\n",
       "        vertical-align: middle;\n",
       "    }\n",
       "\n",
       "    .dataframe tbody tr th {\n",
       "        vertical-align: top;\n",
       "    }\n",
       "\n",
       "    .dataframe thead th {\n",
       "        text-align: right;\n",
       "    }\n",
       "</style>\n",
       "<table border=\"1\" class=\"dataframe\">\n",
       "  <thead>\n",
       "    <tr style=\"text-align: right;\">\n",
       "      <th></th>\n",
       "      <th>Event</th>\n",
       "      <th>Year</th>\n",
       "      <th>Athlete</th>\n",
       "      <th>Country</th>\n",
       "      <th>Mark</th>\n",
       "      <th>Record</th>\n",
       "      <th>Round</th>\n",
       "    </tr>\n",
       "  </thead>\n",
       "  <tbody>\n",
       "    <tr>\n",
       "      <th>0</th>\n",
       "      <td>100m M</td>\n",
       "      <td>2012</td>\n",
       "      <td>Usain Bolt</td>\n",
       "      <td>JAM</td>\n",
       "      <td>9.63</td>\n",
       "      <td>OR</td>\n",
       "      <td>Final</td>\n",
       "    </tr>\n",
       "    <tr>\n",
       "      <th>1</th>\n",
       "      <td>100m M</td>\n",
       "      <td>2008</td>\n",
       "      <td>Usain Bolt</td>\n",
       "      <td>JAM</td>\n",
       "      <td>9.69</td>\n",
       "      <td>WR</td>\n",
       "      <td>Final</td>\n",
       "    </tr>\n",
       "    <tr>\n",
       "      <th>2</th>\n",
       "      <td>100m M</td>\n",
       "      <td>1996</td>\n",
       "      <td>Donovan Bailey</td>\n",
       "      <td>CAN</td>\n",
       "      <td>9.84</td>\n",
       "      <td>WR</td>\n",
       "      <td>Final</td>\n",
       "    </tr>\n",
       "    <tr>\n",
       "      <th>3</th>\n",
       "      <td>100m M</td>\n",
       "      <td>1988</td>\n",
       "      <td>Carl Lewis</td>\n",
       "      <td>USA</td>\n",
       "      <td>9.92</td>\n",
       "      <td>OR</td>\n",
       "      <td>Final</td>\n",
       "    </tr>\n",
       "    <tr>\n",
       "      <th>4</th>\n",
       "      <td>100m M</td>\n",
       "      <td>1968</td>\n",
       "      <td>Jim Hines</td>\n",
       "      <td>USA</td>\n",
       "      <td>9.95</td>\n",
       "      <td>WR</td>\n",
       "      <td>Final</td>\n",
       "    </tr>\n",
       "    <tr>\n",
       "      <th>...</th>\n",
       "      <td>...</td>\n",
       "      <td>...</td>\n",
       "      <td>...</td>\n",
       "      <td>...</td>\n",
       "      <td>...</td>\n",
       "      <td>...</td>\n",
       "      <td>...</td>\n",
       "    </tr>\n",
       "    <tr>\n",
       "      <th>703</th>\n",
       "      <td>50km Walk M</td>\n",
       "      <td>1964</td>\n",
       "      <td>Abdon Pamich</td>\n",
       "      <td>ITA</td>\n",
       "      <td>4.11.12,4</td>\n",
       "      <td>WR</td>\n",
       "      <td>Final</td>\n",
       "    </tr>\n",
       "    <tr>\n",
       "      <th>704</th>\n",
       "      <td>50km Walk M</td>\n",
       "      <td>1960</td>\n",
       "      <td>Donald Thompson</td>\n",
       "      <td>GBR</td>\n",
       "      <td>4.25.30,0</td>\n",
       "      <td>OR</td>\n",
       "      <td>Final</td>\n",
       "    </tr>\n",
       "    <tr>\n",
       "      <th>705</th>\n",
       "      <td>50km Walk M</td>\n",
       "      <td>1952</td>\n",
       "      <td>Giuseppe Dordoni</td>\n",
       "      <td>ITA</td>\n",
       "      <td>4.28.07,8</td>\n",
       "      <td>OR</td>\n",
       "      <td>Final</td>\n",
       "    </tr>\n",
       "    <tr>\n",
       "      <th>706</th>\n",
       "      <td>50km Walk M</td>\n",
       "      <td>1936</td>\n",
       "      <td>Harold Whitlock</td>\n",
       "      <td>GBR</td>\n",
       "      <td>4.30.41,4</td>\n",
       "      <td>OR</td>\n",
       "      <td>Final</td>\n",
       "    </tr>\n",
       "    <tr>\n",
       "      <th>707</th>\n",
       "      <td>50km Walk M</td>\n",
       "      <td>1932</td>\n",
       "      <td>Thomas Green</td>\n",
       "      <td>GBR</td>\n",
       "      <td>4.50.10</td>\n",
       "      <td>OR</td>\n",
       "      <td>Final</td>\n",
       "    </tr>\n",
       "  </tbody>\n",
       "</table>\n",
       "<p>708 rows × 7 columns</p>\n",
       "</div>"
      ],
      "text/plain": [
       "           Event  Year           Athlete Country       Mark Record  Round\n",
       "0         100m M  2012        Usain Bolt     JAM       9.63     OR  Final\n",
       "1         100m M  2008        Usain Bolt     JAM       9.69     WR  Final\n",
       "2         100m M  1996    Donovan Bailey     CAN       9.84     WR  Final\n",
       "3         100m M  1988        Carl Lewis     USA       9.92     OR  Final\n",
       "4         100m M  1968         Jim Hines     USA       9.95     WR  Final\n",
       "..           ...   ...               ...     ...        ...    ...    ...\n",
       "703  50km Walk M  1964      Abdon Pamich     ITA  4.11.12,4     WR  Final\n",
       "704  50km Walk M  1960   Donald Thompson     GBR  4.25.30,0     OR  Final\n",
       "705  50km Walk M  1952  Giuseppe Dordoni     ITA  4.28.07,8     OR  Final\n",
       "706  50km Walk M  1936   Harold Whitlock     GBR  4.30.41,4     OR  Final\n",
       "707  50km Walk M  1932      Thomas Green     GBR    4.50.10     OR  Final\n",
       "\n",
       "[708 rows x 7 columns]"
      ]
     },
     "execution_count": 140,
     "metadata": {},
     "output_type": "execute_result"
    }
   ],
   "source": [
    "records"
   ]
  },
  {
   "cell_type": "code",
   "execution_count": 141,
   "metadata": {},
   "outputs": [],
   "source": [
    "#Por un lado ver qué records llevan más tiempo vigentes y después ver cuántas ediciones de las\n",
    "# olimpiadas han incluido ese deporte. No tiene sentido incluir lanzamiento de peso, que no está en las olimpiadas ya"
   ]
  },
  {
   "cell_type": "code",
   "execution_count": 142,
   "metadata": {},
   "outputs": [],
   "source": [
    "fecha_ultimo_record=records.groupby(\"Event\")[\"Year\"].max()"
   ]
  },
  {
   "cell_type": "code",
   "execution_count": 143,
   "metadata": {},
   "outputs": [
    {
     "data": {
      "text/plain": [
       "Event\n",
       "Weight Throw M          1920\n",
       "Long Jump M             1968\n",
       "100m hurdles W          1968\n",
       "Shot Put W              1980\n",
       "800m W                  1980\n",
       "Long Jump W             1988\n",
       "Javelin Throw W         1988\n",
       "Heptathlon W            1988\n",
       "Hammer Throw M          1988\n",
       "Discus Throw W          1988\n",
       "4x400m W                1988\n",
       "5000m W                 1988\n",
       "200m W                  1988\n",
       "Triple Jump M           1996\n",
       "400m W                  1996\n",
       "High Jump M             1996\n",
       "Discus Throw M          1996\n",
       "110m hurdles M          2004\n",
       "High Jump W             2004\n",
       "200m M                  2008\n",
       "10000m W                2008\n",
       "Pole Vault W            2008\n",
       "Marathon M              2008\n",
       "Javelin Throw M         2008\n",
       "10000m M                2008\n",
       "3000m steeplechase W    2008\n",
       "5000m M                 2008\n",
       "50km Walk M             2008\n",
       "4x400m M                2008\n",
       "800m M                  2012\n",
       "Pole Vault M            2012\n",
       "Marathon W              2012\n",
       "100m M                  2012\n",
       "4x100m W                2012\n",
       "4x100m M                2012\n",
       "20km Walk W             2012\n",
       "20km Walk M             2012\n",
       "Hammer Throw W          2016\n",
       "400m M                  2016\n",
       "3000m steeplechase M    2016\n",
       "1500m M                 2020\n",
       "100m W                  2020\n",
       "1500m W                 2020\n",
       "400m hurdles W          2020\n",
       "Decathlon M             2020\n",
       "400m hurdles M          2020\n",
       "Shot Put M              2020\n",
       "Triple Jump W           2020\n",
       "Name: Year, dtype: int64"
      ]
     },
     "execution_count": 143,
     "metadata": {},
     "output_type": "execute_result"
    }
   ],
   "source": [
    "fecha_ultimo_record.sort_values()"
   ]
  },
  {
   "cell_type": "code",
   "execution_count": 144,
   "metadata": {},
   "outputs": [
    {
     "data": {
      "text/plain": [
       "Event\n",
       "Weight Throw M     1920\n",
       "100m hurdles W     1968\n",
       "Long Jump M        1968\n",
       "800m W             1980\n",
       "Shot Put W         1980\n",
       "200m W             1988\n",
       "4x400m W           1988\n",
       "5000m W            1988\n",
       "Discus Throw W     1988\n",
       "Hammer Throw M     1988\n",
       "Heptathlon W       1988\n",
       "Javelin Throw W    1988\n",
       "Long Jump W        1988\n",
       "400m W             1996\n",
       "Discus Throw M     1996\n",
       "High Jump M        1996\n",
       "Triple Jump M      1996\n",
       "110m hurdles M     2004\n",
       "High Jump W        2004\n",
       "Name: Year, dtype: int64"
      ]
     },
     "execution_count": 144,
     "metadata": {},
     "output_type": "execute_result"
    }
   ],
   "source": [
    "fecha_ultimo_record.nsmallest(19)"
   ]
  },
  {
   "cell_type": "code",
   "execution_count": 145,
   "metadata": {},
   "outputs": [],
   "source": [
    "#scatterplot"
   ]
  },
  {
   "cell_type": "code",
   "execution_count": 146,
   "metadata": {},
   "outputs": [],
   "source": [
    "indice=[1896,1900,1904,1908,1912,1916,1920,1924,1928,1932,1936,1940,1944,1948,1952,1956,1960,1964,1968,1972,1976,1980,1984,1988,1992,1996,2000,2004,2008,2012,2016,2021,2024,2028,2032,2036]"
   ]
  },
  {
   "cell_type": "code",
   "execution_count": 147,
   "metadata": {},
   "outputs": [],
   "source": [
    "atletismo_olimpiadas.set_index(pd.Index(indice),inplace=True)"
   ]
  },
  {
   "cell_type": "code",
   "execution_count": 148,
   "metadata": {},
   "outputs": [
    {
     "data": {
      "text/plain": [
       "1896"
      ]
     },
     "execution_count": 148,
     "metadata": {},
     "output_type": "execute_result"
    }
   ],
   "source": [
    "atletismo_olimpiadas.index[0]"
   ]
  },
  {
   "cell_type": "code",
   "execution_count": 149,
   "metadata": {},
   "outputs": [
    {
     "data": {
      "text/html": [
       "<div>\n",
       "<style scoped>\n",
       "    .dataframe tbody tr th:only-of-type {\n",
       "        vertical-align: middle;\n",
       "    }\n",
       "\n",
       "    .dataframe tbody tr th {\n",
       "        vertical-align: top;\n",
       "    }\n",
       "\n",
       "    .dataframe thead th {\n",
       "        text-align: right;\n",
       "    }\n",
       "</style>\n",
       "<table border=\"1\" class=\"dataframe\">\n",
       "  <thead>\n",
       "    <tr style=\"text-align: right;\">\n",
       "      <th></th>\n",
       "      <th>100m M</th>\n",
       "      <th>100 W</th>\n",
       "      <th>200m M</th>\n",
       "      <th>200m W</th>\n",
       "      <th>400m M</th>\n",
       "      <th>400m W</th>\n",
       "      <th>800m M</th>\n",
       "      <th>800m W</th>\n",
       "      <th>1500m M</th>\n",
       "      <th>1500m W</th>\n",
       "      <th>...</th>\n",
       "      <th>Hammer Throw M</th>\n",
       "      <th>Hammer Throw W</th>\n",
       "      <th>Weight Throw M</th>\n",
       "      <th>Shot Put M</th>\n",
       "      <th>Shot Put W</th>\n",
       "      <th>Heptathlon W</th>\n",
       "      <th>Decathlon M</th>\n",
       "      <th>20km Walk M</th>\n",
       "      <th>20km Walk W</th>\n",
       "      <th>50km Walk M</th>\n",
       "    </tr>\n",
       "  </thead>\n",
       "  <tbody>\n",
       "    <tr>\n",
       "      <th>1960</th>\n",
       "      <td>True</td>\n",
       "      <td>True</td>\n",
       "      <td>True</td>\n",
       "      <td>True</td>\n",
       "      <td>True</td>\n",
       "      <td>False</td>\n",
       "      <td>True</td>\n",
       "      <td>True</td>\n",
       "      <td>True</td>\n",
       "      <td>False</td>\n",
       "      <td>...</td>\n",
       "      <td>True</td>\n",
       "      <td>False</td>\n",
       "      <td>False</td>\n",
       "      <td>True</td>\n",
       "      <td>True</td>\n",
       "      <td>False</td>\n",
       "      <td>True</td>\n",
       "      <td>True</td>\n",
       "      <td>False</td>\n",
       "      <td>True</td>\n",
       "    </tr>\n",
       "    <tr>\n",
       "      <th>1964</th>\n",
       "      <td>True</td>\n",
       "      <td>True</td>\n",
       "      <td>True</td>\n",
       "      <td>True</td>\n",
       "      <td>True</td>\n",
       "      <td>True</td>\n",
       "      <td>True</td>\n",
       "      <td>True</td>\n",
       "      <td>True</td>\n",
       "      <td>False</td>\n",
       "      <td>...</td>\n",
       "      <td>True</td>\n",
       "      <td>False</td>\n",
       "      <td>False</td>\n",
       "      <td>True</td>\n",
       "      <td>True</td>\n",
       "      <td>False</td>\n",
       "      <td>True</td>\n",
       "      <td>True</td>\n",
       "      <td>False</td>\n",
       "      <td>True</td>\n",
       "    </tr>\n",
       "    <tr>\n",
       "      <th>1968</th>\n",
       "      <td>True</td>\n",
       "      <td>True</td>\n",
       "      <td>True</td>\n",
       "      <td>True</td>\n",
       "      <td>True</td>\n",
       "      <td>True</td>\n",
       "      <td>True</td>\n",
       "      <td>True</td>\n",
       "      <td>True</td>\n",
       "      <td>False</td>\n",
       "      <td>...</td>\n",
       "      <td>True</td>\n",
       "      <td>False</td>\n",
       "      <td>False</td>\n",
       "      <td>True</td>\n",
       "      <td>True</td>\n",
       "      <td>False</td>\n",
       "      <td>True</td>\n",
       "      <td>True</td>\n",
       "      <td>False</td>\n",
       "      <td>True</td>\n",
       "    </tr>\n",
       "    <tr>\n",
       "      <th>1972</th>\n",
       "      <td>True</td>\n",
       "      <td>True</td>\n",
       "      <td>True</td>\n",
       "      <td>True</td>\n",
       "      <td>True</td>\n",
       "      <td>True</td>\n",
       "      <td>True</td>\n",
       "      <td>True</td>\n",
       "      <td>True</td>\n",
       "      <td>True</td>\n",
       "      <td>...</td>\n",
       "      <td>True</td>\n",
       "      <td>False</td>\n",
       "      <td>False</td>\n",
       "      <td>True</td>\n",
       "      <td>True</td>\n",
       "      <td>False</td>\n",
       "      <td>True</td>\n",
       "      <td>True</td>\n",
       "      <td>False</td>\n",
       "      <td>True</td>\n",
       "    </tr>\n",
       "    <tr>\n",
       "      <th>1976</th>\n",
       "      <td>True</td>\n",
       "      <td>True</td>\n",
       "      <td>True</td>\n",
       "      <td>True</td>\n",
       "      <td>True</td>\n",
       "      <td>True</td>\n",
       "      <td>True</td>\n",
       "      <td>True</td>\n",
       "      <td>True</td>\n",
       "      <td>True</td>\n",
       "      <td>...</td>\n",
       "      <td>True</td>\n",
       "      <td>False</td>\n",
       "      <td>False</td>\n",
       "      <td>True</td>\n",
       "      <td>True</td>\n",
       "      <td>False</td>\n",
       "      <td>True</td>\n",
       "      <td>True</td>\n",
       "      <td>False</td>\n",
       "      <td>False</td>\n",
       "    </tr>\n",
       "    <tr>\n",
       "      <th>1980</th>\n",
       "      <td>True</td>\n",
       "      <td>True</td>\n",
       "      <td>True</td>\n",
       "      <td>True</td>\n",
       "      <td>True</td>\n",
       "      <td>True</td>\n",
       "      <td>True</td>\n",
       "      <td>True</td>\n",
       "      <td>True</td>\n",
       "      <td>True</td>\n",
       "      <td>...</td>\n",
       "      <td>True</td>\n",
       "      <td>False</td>\n",
       "      <td>False</td>\n",
       "      <td>True</td>\n",
       "      <td>True</td>\n",
       "      <td>False</td>\n",
       "      <td>True</td>\n",
       "      <td>True</td>\n",
       "      <td>False</td>\n",
       "      <td>True</td>\n",
       "    </tr>\n",
       "    <tr>\n",
       "      <th>1984</th>\n",
       "      <td>True</td>\n",
       "      <td>True</td>\n",
       "      <td>True</td>\n",
       "      <td>True</td>\n",
       "      <td>True</td>\n",
       "      <td>True</td>\n",
       "      <td>True</td>\n",
       "      <td>True</td>\n",
       "      <td>True</td>\n",
       "      <td>True</td>\n",
       "      <td>...</td>\n",
       "      <td>True</td>\n",
       "      <td>False</td>\n",
       "      <td>False</td>\n",
       "      <td>True</td>\n",
       "      <td>True</td>\n",
       "      <td>True</td>\n",
       "      <td>True</td>\n",
       "      <td>True</td>\n",
       "      <td>False</td>\n",
       "      <td>True</td>\n",
       "    </tr>\n",
       "    <tr>\n",
       "      <th>1988</th>\n",
       "      <td>True</td>\n",
       "      <td>True</td>\n",
       "      <td>True</td>\n",
       "      <td>True</td>\n",
       "      <td>True</td>\n",
       "      <td>True</td>\n",
       "      <td>True</td>\n",
       "      <td>True</td>\n",
       "      <td>True</td>\n",
       "      <td>True</td>\n",
       "      <td>...</td>\n",
       "      <td>True</td>\n",
       "      <td>False</td>\n",
       "      <td>False</td>\n",
       "      <td>True</td>\n",
       "      <td>True</td>\n",
       "      <td>True</td>\n",
       "      <td>True</td>\n",
       "      <td>True</td>\n",
       "      <td>False</td>\n",
       "      <td>True</td>\n",
       "    </tr>\n",
       "    <tr>\n",
       "      <th>1992</th>\n",
       "      <td>True</td>\n",
       "      <td>True</td>\n",
       "      <td>True</td>\n",
       "      <td>True</td>\n",
       "      <td>True</td>\n",
       "      <td>True</td>\n",
       "      <td>True</td>\n",
       "      <td>True</td>\n",
       "      <td>True</td>\n",
       "      <td>True</td>\n",
       "      <td>...</td>\n",
       "      <td>True</td>\n",
       "      <td>False</td>\n",
       "      <td>False</td>\n",
       "      <td>True</td>\n",
       "      <td>True</td>\n",
       "      <td>True</td>\n",
       "      <td>True</td>\n",
       "      <td>True</td>\n",
       "      <td>False</td>\n",
       "      <td>True</td>\n",
       "    </tr>\n",
       "    <tr>\n",
       "      <th>1996</th>\n",
       "      <td>True</td>\n",
       "      <td>True</td>\n",
       "      <td>True</td>\n",
       "      <td>True</td>\n",
       "      <td>True</td>\n",
       "      <td>True</td>\n",
       "      <td>True</td>\n",
       "      <td>True</td>\n",
       "      <td>True</td>\n",
       "      <td>True</td>\n",
       "      <td>...</td>\n",
       "      <td>True</td>\n",
       "      <td>False</td>\n",
       "      <td>False</td>\n",
       "      <td>True</td>\n",
       "      <td>True</td>\n",
       "      <td>True</td>\n",
       "      <td>True</td>\n",
       "      <td>True</td>\n",
       "      <td>False</td>\n",
       "      <td>True</td>\n",
       "    </tr>\n",
       "    <tr>\n",
       "      <th>2000</th>\n",
       "      <td>True</td>\n",
       "      <td>True</td>\n",
       "      <td>True</td>\n",
       "      <td>True</td>\n",
       "      <td>True</td>\n",
       "      <td>True</td>\n",
       "      <td>True</td>\n",
       "      <td>True</td>\n",
       "      <td>True</td>\n",
       "      <td>True</td>\n",
       "      <td>...</td>\n",
       "      <td>True</td>\n",
       "      <td>True</td>\n",
       "      <td>False</td>\n",
       "      <td>True</td>\n",
       "      <td>True</td>\n",
       "      <td>True</td>\n",
       "      <td>True</td>\n",
       "      <td>True</td>\n",
       "      <td>True</td>\n",
       "      <td>True</td>\n",
       "    </tr>\n",
       "    <tr>\n",
       "      <th>2004</th>\n",
       "      <td>True</td>\n",
       "      <td>True</td>\n",
       "      <td>True</td>\n",
       "      <td>True</td>\n",
       "      <td>True</td>\n",
       "      <td>True</td>\n",
       "      <td>True</td>\n",
       "      <td>True</td>\n",
       "      <td>True</td>\n",
       "      <td>True</td>\n",
       "      <td>...</td>\n",
       "      <td>True</td>\n",
       "      <td>True</td>\n",
       "      <td>False</td>\n",
       "      <td>True</td>\n",
       "      <td>True</td>\n",
       "      <td>True</td>\n",
       "      <td>True</td>\n",
       "      <td>True</td>\n",
       "      <td>True</td>\n",
       "      <td>True</td>\n",
       "    </tr>\n",
       "    <tr>\n",
       "      <th>2008</th>\n",
       "      <td>True</td>\n",
       "      <td>True</td>\n",
       "      <td>True</td>\n",
       "      <td>True</td>\n",
       "      <td>True</td>\n",
       "      <td>True</td>\n",
       "      <td>True</td>\n",
       "      <td>True</td>\n",
       "      <td>True</td>\n",
       "      <td>True</td>\n",
       "      <td>...</td>\n",
       "      <td>True</td>\n",
       "      <td>True</td>\n",
       "      <td>False</td>\n",
       "      <td>True</td>\n",
       "      <td>True</td>\n",
       "      <td>True</td>\n",
       "      <td>True</td>\n",
       "      <td>True</td>\n",
       "      <td>True</td>\n",
       "      <td>True</td>\n",
       "    </tr>\n",
       "    <tr>\n",
       "      <th>2012</th>\n",
       "      <td>True</td>\n",
       "      <td>True</td>\n",
       "      <td>True</td>\n",
       "      <td>True</td>\n",
       "      <td>True</td>\n",
       "      <td>True</td>\n",
       "      <td>True</td>\n",
       "      <td>True</td>\n",
       "      <td>True</td>\n",
       "      <td>True</td>\n",
       "      <td>...</td>\n",
       "      <td>True</td>\n",
       "      <td>True</td>\n",
       "      <td>False</td>\n",
       "      <td>True</td>\n",
       "      <td>True</td>\n",
       "      <td>True</td>\n",
       "      <td>True</td>\n",
       "      <td>True</td>\n",
       "      <td>True</td>\n",
       "      <td>True</td>\n",
       "    </tr>\n",
       "    <tr>\n",
       "      <th>2016</th>\n",
       "      <td>True</td>\n",
       "      <td>True</td>\n",
       "      <td>True</td>\n",
       "      <td>True</td>\n",
       "      <td>True</td>\n",
       "      <td>True</td>\n",
       "      <td>True</td>\n",
       "      <td>True</td>\n",
       "      <td>True</td>\n",
       "      <td>True</td>\n",
       "      <td>...</td>\n",
       "      <td>True</td>\n",
       "      <td>True</td>\n",
       "      <td>False</td>\n",
       "      <td>True</td>\n",
       "      <td>True</td>\n",
       "      <td>True</td>\n",
       "      <td>True</td>\n",
       "      <td>True</td>\n",
       "      <td>True</td>\n",
       "      <td>True</td>\n",
       "    </tr>\n",
       "    <tr>\n",
       "      <th>2021</th>\n",
       "      <td>True</td>\n",
       "      <td>True</td>\n",
       "      <td>True</td>\n",
       "      <td>True</td>\n",
       "      <td>True</td>\n",
       "      <td>True</td>\n",
       "      <td>True</td>\n",
       "      <td>True</td>\n",
       "      <td>True</td>\n",
       "      <td>True</td>\n",
       "      <td>...</td>\n",
       "      <td>True</td>\n",
       "      <td>True</td>\n",
       "      <td>False</td>\n",
       "      <td>True</td>\n",
       "      <td>True</td>\n",
       "      <td>True</td>\n",
       "      <td>True</td>\n",
       "      <td>True</td>\n",
       "      <td>True</td>\n",
       "      <td>True</td>\n",
       "    </tr>\n",
       "  </tbody>\n",
       "</table>\n",
       "<p>16 rows × 48 columns</p>\n",
       "</div>"
      ],
      "text/plain": [
       "      100m M  100 W  200m M  200m W  400m M  400m W  800m M  800m W  1500m M  \\\n",
       "1960    True   True    True    True    True   False    True    True     True   \n",
       "1964    True   True    True    True    True    True    True    True     True   \n",
       "1968    True   True    True    True    True    True    True    True     True   \n",
       "1972    True   True    True    True    True    True    True    True     True   \n",
       "1976    True   True    True    True    True    True    True    True     True   \n",
       "1980    True   True    True    True    True    True    True    True     True   \n",
       "1984    True   True    True    True    True    True    True    True     True   \n",
       "1988    True   True    True    True    True    True    True    True     True   \n",
       "1992    True   True    True    True    True    True    True    True     True   \n",
       "1996    True   True    True    True    True    True    True    True     True   \n",
       "2000    True   True    True    True    True    True    True    True     True   \n",
       "2004    True   True    True    True    True    True    True    True     True   \n",
       "2008    True   True    True    True    True    True    True    True     True   \n",
       "2012    True   True    True    True    True    True    True    True     True   \n",
       "2016    True   True    True    True    True    True    True    True     True   \n",
       "2021    True   True    True    True    True    True    True    True     True   \n",
       "\n",
       "      1500m W  ...  Hammer Throw M  Hammer Throw W  Weight Throw M  \\\n",
       "1960    False  ...            True           False           False   \n",
       "1964    False  ...            True           False           False   \n",
       "1968    False  ...            True           False           False   \n",
       "1972     True  ...            True           False           False   \n",
       "1976     True  ...            True           False           False   \n",
       "1980     True  ...            True           False           False   \n",
       "1984     True  ...            True           False           False   \n",
       "1988     True  ...            True           False           False   \n",
       "1992     True  ...            True           False           False   \n",
       "1996     True  ...            True           False           False   \n",
       "2000     True  ...            True            True           False   \n",
       "2004     True  ...            True            True           False   \n",
       "2008     True  ...            True            True           False   \n",
       "2012     True  ...            True            True           False   \n",
       "2016     True  ...            True            True           False   \n",
       "2021     True  ...            True            True           False   \n",
       "\n",
       "      Shot Put M  Shot Put W  Heptathlon W  Decathlon M  20km Walk M  \\\n",
       "1960        True        True         False         True         True   \n",
       "1964        True        True         False         True         True   \n",
       "1968        True        True         False         True         True   \n",
       "1972        True        True         False         True         True   \n",
       "1976        True        True         False         True         True   \n",
       "1980        True        True         False         True         True   \n",
       "1984        True        True          True         True         True   \n",
       "1988        True        True          True         True         True   \n",
       "1992        True        True          True         True         True   \n",
       "1996        True        True          True         True         True   \n",
       "2000        True        True          True         True         True   \n",
       "2004        True        True          True         True         True   \n",
       "2008        True        True          True         True         True   \n",
       "2012        True        True          True         True         True   \n",
       "2016        True        True          True         True         True   \n",
       "2021        True        True          True         True         True   \n",
       "\n",
       "      20km Walk W  50km Walk M  \n",
       "1960        False         True  \n",
       "1964        False         True  \n",
       "1968        False         True  \n",
       "1972        False         True  \n",
       "1976        False        False  \n",
       "1980        False         True  \n",
       "1984        False         True  \n",
       "1988        False         True  \n",
       "1992        False         True  \n",
       "1996        False         True  \n",
       "2000         True         True  \n",
       "2004         True         True  \n",
       "2008         True         True  \n",
       "2012         True         True  \n",
       "2016         True         True  \n",
       "2021         True         True  \n",
       "\n",
       "[16 rows x 48 columns]"
      ]
     },
     "execution_count": 149,
     "metadata": {},
     "output_type": "execute_result"
    }
   ],
   "source": [
    "atletismo_olimpiadas_1960=atletismo_olimpiadas.loc[1960:]\n",
    "atletismo_olimpiadas_1960=atletismo_olimpiadas_1960.iloc[0:-4]\n",
    "atletismo_olimpiadas_1960"
   ]
  },
  {
   "cell_type": "code",
   "execution_count": 150,
   "metadata": {},
   "outputs": [
    {
     "data": {
      "text/plain": [
       "1960    False\n",
       "1964    False\n",
       "1968    False\n",
       "1972    False\n",
       "1976    False\n",
       "1980    False\n",
       "1984    False\n",
       "1988    False\n",
       "1992    False\n",
       "1996    False\n",
       "2000    False\n",
       "2004    False\n",
       "2008    False\n",
       "2012    False\n",
       "2016    False\n",
       "2021    False\n",
       "dtype: bool"
      ]
     },
     "execution_count": 150,
     "metadata": {},
     "output_type": "execute_result"
    }
   ],
   "source": [
    "atletismo_olimpiadas_1960.all(True)"
   ]
  },
  {
   "cell_type": "code",
   "execution_count": 151,
   "metadata": {},
   "outputs": [
    {
     "data": {
      "text/plain": [
       "14"
      ]
     },
     "execution_count": 151,
     "metadata": {},
     "output_type": "execute_result"
    }
   ],
   "source": [
    "deportes_desaparecidos=[\"1500m W\",\"5000m W\",\"10000m W\",\"Marathon W\",\"100m hurdles W\",\"400m hurdles W\",\n",
    "                        \"3000m steeplechase W\",\"4x400m W\",\"Triple Jump W\",\"Pole Vault W\",\"Hammer Throw W\",\n",
    "                        \"Weight Throw M\",\"Heptathlon W\",\"20km Walk W\"]\n",
    "len(deportes_desaparecidos)"
   ]
  },
  {
   "cell_type": "code",
   "execution_count": 152,
   "metadata": {},
   "outputs": [
    {
     "data": {
      "text/plain": [
       "Event\n",
       "10000m M                2008\n",
       "10000m W                2008\n",
       "100m M                  2012\n",
       "100m W                  2020\n",
       "100m hurdles W          1968\n",
       "110m hurdles M          2004\n",
       "1500m M                 2020\n",
       "1500m W                 2020\n",
       "200m M                  2008\n",
       "200m W                  1988\n",
       "20km Walk M             2012\n",
       "20km Walk W             2012\n",
       "3000m steeplechase M    2016\n",
       "3000m steeplechase W    2008\n",
       "400m M                  2016\n",
       "400m W                  1996\n",
       "400m hurdles M          2020\n",
       "400m hurdles W          2020\n",
       "4x100m M                2012\n",
       "4x100m W                2012\n",
       "4x400m M                2008\n",
       "4x400m W                1988\n",
       "5000m M                 2008\n",
       "5000m W                 1988\n",
       "50km Walk M             2008\n",
       "800m M                  2012\n",
       "800m W                  1980\n",
       "Decathlon M             2020\n",
       "Discus Throw M          1996\n",
       "Discus Throw W          1988\n",
       "Hammer Throw M          1988\n",
       "Hammer Throw W          2016\n",
       "Heptathlon W            1988\n",
       "High Jump M             1996\n",
       "High Jump W             2004\n",
       "Javelin Throw M         2008\n",
       "Javelin Throw W         1988\n",
       "Long Jump M             1968\n",
       "Long Jump W             1988\n",
       "Marathon M              2008\n",
       "Marathon W              2012\n",
       "Pole Vault M            2012\n",
       "Pole Vault W            2008\n",
       "Shot Put M              2020\n",
       "Shot Put W              1980\n",
       "Triple Jump M           1996\n",
       "Triple Jump W           2020\n",
       "Weight Throw M          1920\n",
       "Name: Year, dtype: int64"
      ]
     },
     "execution_count": 152,
     "metadata": {},
     "output_type": "execute_result"
    }
   ],
   "source": [
    "fecha_ultimo_record"
   ]
  },
  {
   "cell_type": "code",
   "execution_count": 153,
   "metadata": {},
   "outputs": [],
   "source": [
    "fecha_ultimo_record=fecha_ultimo_record.drop(deportes_desaparecidos)"
   ]
  },
  {
   "cell_type": "code",
   "execution_count": 154,
   "metadata": {},
   "outputs": [
    {
     "data": {
      "text/plain": [
       "Event\n",
       "10000m M                2008\n",
       "100m M                  2012\n",
       "100m W                  2020\n",
       "110m hurdles M          2004\n",
       "1500m M                 2020\n",
       "200m M                  2008\n",
       "200m W                  1988\n",
       "20km Walk M             2012\n",
       "3000m steeplechase M    2016\n",
       "400m M                  2016\n",
       "400m W                  1996\n",
       "400m hurdles M          2020\n",
       "4x100m M                2012\n",
       "4x100m W                2012\n",
       "4x400m M                2008\n",
       "5000m M                 2008\n",
       "50km Walk M             2008\n",
       "800m M                  2012\n",
       "800m W                  1980\n",
       "Decathlon M             2020\n",
       "Discus Throw M          1996\n",
       "Discus Throw W          1988\n",
       "Hammer Throw M          1988\n",
       "High Jump M             1996\n",
       "High Jump W             2004\n",
       "Javelin Throw M         2008\n",
       "Javelin Throw W         1988\n",
       "Long Jump M             1968\n",
       "Long Jump W             1988\n",
       "Marathon M              2008\n",
       "Pole Vault M            2012\n",
       "Shot Put M              2020\n",
       "Shot Put W              1980\n",
       "Triple Jump M           1996\n",
       "Name: Year, dtype: int64"
      ]
     },
     "execution_count": 154,
     "metadata": {},
     "output_type": "execute_result"
    }
   ],
   "source": [
    "fecha_ultimo_record"
   ]
  },
  {
   "cell_type": "code",
   "execution_count": 155,
   "metadata": {},
   "outputs": [
    {
     "data": {
      "image/png": "[encoded data removed]",
      "text/plain": [
       "<Figure size 640x480 with 1 Axes>"
      ]
     },
     "metadata": {},
     "output_type": "display_data"
    }
   ],
   "source": [
    "x=fecha_ultimo_record\n",
    "y=fecha_ultimo_record.index\n",
    "\n",
    "plt.scatter(x, y)\n",
    "plt.show()"
   ]
  },
  {
   "cell_type": "code",
   "execution_count": 156,
   "metadata": {},
   "outputs": [
    {
     "ename": "ValueError",
     "evalue": "Value of 'hover_name' is not the name of a column in 'data_frame'. Expected one of ['Year'] but received: deporte",
     "output_type": "error",
     "traceback": [
      "\u001b[1;31m---------------------------------------------------------------------------\u001b[0m",
      "\u001b[1;31mValueError\u001b[0m                                Traceback (most recent call last)",
      "\u001b[1;32m~\\AppData\\Local\\Temp\\ipykernel_19940\\2227311627.py\u001b[0m in \u001b[0;36m<module>\u001b[1;34m\u001b[0m\n\u001b[0;32m      6\u001b[0m \u001b[1;33m\u001b[0m\u001b[0m\n\u001b[0;32m      7\u001b[0m \u001b[1;31m# Crear un scatterplot interactivo con Plotly\u001b[0m\u001b[1;33m\u001b[0m\u001b[1;33m\u001b[0m\u001b[1;33m\u001b[0m\u001b[0m\n\u001b[1;32m----> 8\u001b[1;33m \u001b[0mfig\u001b[0m \u001b[1;33m=\u001b[0m \u001b[0mpx\u001b[0m\u001b[1;33m.\u001b[0m\u001b[0mscatter\u001b[0m\u001b[1;33m(\u001b[0m\u001b[0mfecha_ultimo_record\u001b[0m\u001b[1;33m,\u001b[0m \u001b[0mx\u001b[0m\u001b[1;33m=\u001b[0m\u001b[0mfecha_ultimo_record\u001b[0m\u001b[1;33m,\u001b[0m \u001b[0my\u001b[0m\u001b[1;33m=\u001b[0m\u001b[0mfecha_ultimo_record\u001b[0m\u001b[1;33m.\u001b[0m\u001b[0mindex\u001b[0m\u001b[1;33m,\u001b[0m \u001b[0mhover_name\u001b[0m\u001b[1;33m=\u001b[0m\u001b[1;34m'deporte'\u001b[0m\u001b[1;33m)\u001b[0m\u001b[1;33m\u001b[0m\u001b[1;33m\u001b[0m\u001b[0m\n\u001b[0m\u001b[0;32m      9\u001b[0m \u001b[1;33m\u001b[0m\u001b[0m\n\u001b[0;32m     10\u001b[0m \u001b[1;31m# Mostrar el gráfico\u001b[0m\u001b[1;33m\u001b[0m\u001b[1;33m\u001b[0m\u001b[1;33m\u001b[0m\u001b[0m\n",
      "\u001b[1;32mc:\\Users\\Admin\\AppData\\Local\\Programs\\Python\\Python37\\lib\\site-packages\\plotly\\express\\_chart_types.py\u001b[0m in \u001b[0;36mscatter\u001b[1;34m(data_frame, x, y, color, symbol, size, hover_name, hover_data, custom_data, text, facet_row, facet_col, facet_col_wrap, facet_row_spacing, facet_col_spacing, error_x, error_x_minus, error_y, error_y_minus, animation_frame, animation_group, category_orders, labels, orientation, color_discrete_sequence, color_discrete_map, color_continuous_scale, range_color, color_continuous_midpoint, symbol_sequence, symbol_map, opacity, size_max, marginal_x, marginal_y, trendline, trendline_options, trendline_color_override, trendline_scope, log_x, log_y, range_x, range_y, render_mode, title, template, width, height)\u001b[0m\n\u001b[0;32m     64\u001b[0m     \u001b[0mmark\u001b[0m \u001b[1;32min\u001b[0m \u001b[1;36m2\u001b[0m\u001b[0mD\u001b[0m \u001b[0mspace\u001b[0m\u001b[1;33m.\u001b[0m\u001b[1;33m\u001b[0m\u001b[1;33m\u001b[0m\u001b[0m\n\u001b[0;32m     65\u001b[0m     \"\"\"\n\u001b[1;32m---> 66\u001b[1;33m     \u001b[1;32mreturn\u001b[0m \u001b[0mmake_figure\u001b[0m\u001b[1;33m(\u001b[0m\u001b[0margs\u001b[0m\u001b[1;33m=\u001b[0m\u001b[0mlocals\u001b[0m\u001b[1;33m(\u001b[0m\u001b[1;33m)\u001b[0m\u001b[1;33m,\u001b[0m \u001b[0mconstructor\u001b[0m\u001b[1;33m=\u001b[0m\u001b[0mgo\u001b[0m\u001b[1;33m.\u001b[0m\u001b[0mScatter\u001b[0m\u001b[1;33m)\u001b[0m\u001b[1;33m\u001b[0m\u001b[1;33m\u001b[0m\u001b[0m\n\u001b[0m\u001b[0;32m     67\u001b[0m \u001b[1;33m\u001b[0m\u001b[0m\n\u001b[0;32m     68\u001b[0m \u001b[1;33m\u001b[0m\u001b[0m\n",
      "\u001b[1;32mc:\\Users\\Admin\\AppData\\Local\\Programs\\Python\\Python37\\lib\\site-packages\\plotly\\express\\_core.py\u001b[0m in \u001b[0;36mmake_figure\u001b[1;34m(args, constructor, trace_patch, layout_patch)\u001b[0m\n\u001b[0;32m   1989\u001b[0m     \u001b[0mapply_default_cascade\u001b[0m\u001b[1;33m(\u001b[0m\u001b[0margs\u001b[0m\u001b[1;33m)\u001b[0m\u001b[1;33m\u001b[0m\u001b[1;33m\u001b[0m\u001b[0m\n\u001b[0;32m   1990\u001b[0m \u001b[1;33m\u001b[0m\u001b[0m\n\u001b[1;32m-> 1991\u001b[1;33m     \u001b[0margs\u001b[0m \u001b[1;33m=\u001b[0m \u001b[0mbuild_dataframe\u001b[0m\u001b[1;33m(\u001b[0m\u001b[0margs\u001b[0m\u001b[1;33m,\u001b[0m \u001b[0mconstructor\u001b[0m\u001b[1;33m)\u001b[0m\u001b[1;33m\u001b[0m\u001b[1;33m\u001b[0m\u001b[0m\n\u001b[0m\u001b[0;32m   1992\u001b[0m     \u001b[1;32mif\u001b[0m \u001b[0mconstructor\u001b[0m \u001b[1;32min\u001b[0m \u001b[1;33m[\u001b[0m\u001b[0mgo\u001b[0m\u001b[1;33m.\u001b[0m\u001b[0mTreemap\u001b[0m\u001b[1;33m,\u001b[0m \u001b[0mgo\u001b[0m\u001b[1;33m.\u001b[0m\u001b[0mSunburst\u001b[0m\u001b[1;33m,\u001b[0m \u001b[0mgo\u001b[0m\u001b[1;33m.\u001b[0m\u001b[0mIcicle\u001b[0m\u001b[1;33m]\u001b[0m \u001b[1;32mand\u001b[0m \u001b[0margs\u001b[0m\u001b[1;33m[\u001b[0m\u001b[1;34m\"path\"\u001b[0m\u001b[1;33m]\u001b[0m \u001b[1;32mis\u001b[0m \u001b[1;32mnot\u001b[0m \u001b[1;32mNone\u001b[0m\u001b[1;33m:\u001b[0m\u001b[1;33m\u001b[0m\u001b[1;33m\u001b[0m\u001b[0m\n\u001b[0;32m   1993\u001b[0m         \u001b[0margs\u001b[0m \u001b[1;33m=\u001b[0m \u001b[0mprocess_dataframe_hierarchy\u001b[0m\u001b[1;33m(\u001b[0m\u001b[0margs\u001b[0m\u001b[1;33m)\u001b[0m\u001b[1;33m\u001b[0m\u001b[1;33m\u001b[0m\u001b[0m\n",
      "\u001b[1;32mc:\\Users\\Admin\\AppData\\Local\\Programs\\Python\\Python37\\lib\\site-packages\\plotly\\express\\_core.py\u001b[0m in \u001b[0;36mbuild_dataframe\u001b[1;34m(args, constructor)\u001b[0m\n\u001b[0;32m   1405\u001b[0m \u001b[1;33m\u001b[0m\u001b[0m\n\u001b[0;32m   1406\u001b[0m     df_output, wide_id_vars = process_args_into_dataframe(\n\u001b[1;32m-> 1407\u001b[1;33m         \u001b[0margs\u001b[0m\u001b[1;33m,\u001b[0m \u001b[0mwide_mode\u001b[0m\u001b[1;33m,\u001b[0m \u001b[0mvar_name\u001b[0m\u001b[1;33m,\u001b[0m \u001b[0mvalue_name\u001b[0m\u001b[1;33m\u001b[0m\u001b[1;33m\u001b[0m\u001b[0m\n\u001b[0m\u001b[0;32m   1408\u001b[0m     )\n\u001b[0;32m   1409\u001b[0m \u001b[1;33m\u001b[0m\u001b[0m\n",
      "\u001b[1;32mc:\\Users\\Admin\\AppData\\Local\\Programs\\Python\\Python37\\lib\\site-packages\\plotly\\express\\_core.py\u001b[0m in \u001b[0;36mprocess_args_into_dataframe\u001b[1;34m(args, wide_mode, var_name, value_name)\u001b[0m\n\u001b[0;32m   1206\u001b[0m                         \u001b[1;32mif\u001b[0m \u001b[0margument\u001b[0m \u001b[1;33m==\u001b[0m \u001b[1;34m\"index\"\u001b[0m\u001b[1;33m:\u001b[0m\u001b[1;33m\u001b[0m\u001b[1;33m\u001b[0m\u001b[0m\n\u001b[0;32m   1207\u001b[0m                             \u001b[0merr_msg\u001b[0m \u001b[1;33m+=\u001b[0m \u001b[1;34m\"\\n To use the index, pass it in directly as `df.index`.\"\u001b[0m\u001b[1;33m\u001b[0m\u001b[1;33m\u001b[0m\u001b[0m\n\u001b[1;32m-> 1208\u001b[1;33m                         \u001b[1;32mraise\u001b[0m \u001b[0mValueError\u001b[0m\u001b[1;33m(\u001b[0m\u001b[0merr_msg\u001b[0m\u001b[1;33m)\u001b[0m\u001b[1;33m\u001b[0m\u001b[1;33m\u001b[0m\u001b[0m\n\u001b[0m\u001b[0;32m   1209\u001b[0m                 \u001b[1;32melif\u001b[0m \u001b[0mlength\u001b[0m \u001b[1;32mand\u001b[0m \u001b[0mlen\u001b[0m\u001b[1;33m(\u001b[0m\u001b[0mdf_input\u001b[0m\u001b[1;33m[\u001b[0m\u001b[0margument\u001b[0m\u001b[1;33m]\u001b[0m\u001b[1;33m)\u001b[0m \u001b[1;33m!=\u001b[0m \u001b[0mlength\u001b[0m\u001b[1;33m:\u001b[0m\u001b[1;33m\u001b[0m\u001b[1;33m\u001b[0m\u001b[0m\n\u001b[0;32m   1210\u001b[0m                     raise ValueError(\n",
      "\u001b[1;31mValueError\u001b[0m: Value of 'hover_name' is not the name of a column in 'data_frame'. Expected one of ['Year'] but received: deporte"
     ]
    }
   ],
   "source": [
    "\n",
    "df = pd.DataFrame({\n",
    "    'deporte': ['Atletismo', 'Natación', 'Ciclismo', 'Gimnasia'],\n",
    "    'ultimo_record': [2012, 2008, 2016, 2004],\n",
    "    'records_imbatibles': [False, True, False, True]\n",
    "})\n",
    "\n",
    "# Crear un scatterplot interactivo con Plotly\n",
    "fig = px.scatter(fecha_ultimo_record, x=fecha_ultimo_record, y=fecha_ultimo_record.index, hover_name='deporte')\n",
    "\n",
    "# Mostrar el gráfico\n",
    "fig.show()"
   ]
  },
  {
   "cell_type": "code",
   "execution_count": null,
   "metadata": {},
   "outputs": [],
   "source": [
    "fecha_ultimo_record_nombre=records[[\"Year\",\"Event\",\"Athlete\"]]"
   ]
  },
  {
   "cell_type": "code",
   "execution_count": null,
   "metadata": {},
   "outputs": [
    {
     "data": {
      "text/html": [
       "<div>\n",
       "<style scoped>\n",
       "    .dataframe tbody tr th:only-of-type {\n",
       "        vertical-align: middle;\n",
       "    }\n",
       "\n",
       "    .dataframe tbody tr th {\n",
       "        vertical-align: top;\n",
       "    }\n",
       "\n",
       "    .dataframe thead th {\n",
       "        text-align: right;\n",
       "    }\n",
       "</style>\n",
       "<table border=\"1\" class=\"dataframe\">\n",
       "  <thead>\n",
       "    <tr style=\"text-align: right;\">\n",
       "      <th></th>\n",
       "      <th>Year</th>\n",
       "      <th>Event</th>\n",
       "      <th>Athlete</th>\n",
       "    </tr>\n",
       "  </thead>\n",
       "  <tbody>\n",
       "    <tr>\n",
       "      <th>0</th>\n",
       "      <td>2012</td>\n",
       "      <td>100m M</td>\n",
       "      <td>Usain Bolt</td>\n",
       "    </tr>\n",
       "    <tr>\n",
       "      <th>1</th>\n",
       "      <td>2008</td>\n",
       "      <td>100m M</td>\n",
       "      <td>Usain Bolt</td>\n",
       "    </tr>\n",
       "    <tr>\n",
       "      <th>2</th>\n",
       "      <td>1996</td>\n",
       "      <td>100m M</td>\n",
       "      <td>Donovan Bailey</td>\n",
       "    </tr>\n",
       "    <tr>\n",
       "      <th>3</th>\n",
       "      <td>1988</td>\n",
       "      <td>100m M</td>\n",
       "      <td>Carl Lewis</td>\n",
       "    </tr>\n",
       "    <tr>\n",
       "      <th>4</th>\n",
       "      <td>1968</td>\n",
       "      <td>100m M</td>\n",
       "      <td>Jim Hines</td>\n",
       "    </tr>\n",
       "    <tr>\n",
       "      <th>...</th>\n",
       "      <td>...</td>\n",
       "      <td>...</td>\n",
       "      <td>...</td>\n",
       "    </tr>\n",
       "    <tr>\n",
       "      <th>703</th>\n",
       "      <td>1964</td>\n",
       "      <td>50km Walk M</td>\n",
       "      <td>Abdon Pamich</td>\n",
       "    </tr>\n",
       "    <tr>\n",
       "      <th>704</th>\n",
       "      <td>1960</td>\n",
       "      <td>50km Walk M</td>\n",
       "      <td>Donald Thompson</td>\n",
       "    </tr>\n",
       "    <tr>\n",
       "      <th>705</th>\n",
       "      <td>1952</td>\n",
       "      <td>50km Walk M</td>\n",
       "      <td>Giuseppe Dordoni</td>\n",
       "    </tr>\n",
       "    <tr>\n",
       "      <th>706</th>\n",
       "      <td>1936</td>\n",
       "      <td>50km Walk M</td>\n",
       "      <td>Harold Whitlock</td>\n",
       "    </tr>\n",
       "    <tr>\n",
       "      <th>707</th>\n",
       "      <td>1932</td>\n",
       "      <td>50km Walk M</td>\n",
       "      <td>Thomas Green</td>\n",
       "    </tr>\n",
       "  </tbody>\n",
       "</table>\n",
       "<p>708 rows × 3 columns</p>\n",
       "</div>"
      ],
      "text/plain": [
       "     Year        Event           Athlete\n",
       "0    2012       100m M        Usain Bolt\n",
       "1    2008       100m M        Usain Bolt\n",
       "2    1996       100m M    Donovan Bailey\n",
       "3    1988       100m M        Carl Lewis\n",
       "4    1968       100m M         Jim Hines\n",
       "..    ...          ...               ...\n",
       "703  1964  50km Walk M      Abdon Pamich\n",
       "704  1960  50km Walk M   Donald Thompson\n",
       "705  1952  50km Walk M  Giuseppe Dordoni\n",
       "706  1936  50km Walk M   Harold Whitlock\n",
       "707  1932  50km Walk M      Thomas Green\n",
       "\n",
       "[708 rows x 3 columns]"
      ]
     },
     "execution_count": 44,
     "metadata": {},
     "output_type": "execute_result"
    }
   ],
   "source": [
    "fecha_ultimo_record_nombre"
   ]
  },
  {
   "cell_type": "code",
   "execution_count": null,
   "metadata": {},
   "outputs": [],
   "source": [
    "#fecha_ultimo_record_nombre=fecha_ultimo_record_nombre.groupby(\"Event\")[\"Year\"].max()\n",
    "fecha_ultimo_record_nombre= fecha_ultimo_record_nombre.loc[fecha_ultimo_record_nombre.groupby('Event')['Year'].idxmax()].reset_index(drop=True)\n"
   ]
  },
  {
   "cell_type": "code",
   "execution_count": null,
   "metadata": {},
   "outputs": [
    {
     "data": {
      "text/html": [
       "<div>\n",
       "<style scoped>\n",
       "    .dataframe tbody tr th:only-of-type {\n",
       "        vertical-align: middle;\n",
       "    }\n",
       "\n",
       "    .dataframe tbody tr th {\n",
       "        vertical-align: top;\n",
       "    }\n",
       "\n",
       "    .dataframe thead th {\n",
       "        text-align: right;\n",
       "    }\n",
       "</style>\n",
       "<table border=\"1\" class=\"dataframe\">\n",
       "  <thead>\n",
       "    <tr style=\"text-align: right;\">\n",
       "      <th></th>\n",
       "      <th>Year</th>\n",
       "      <th>Event</th>\n",
       "      <th>Athlete</th>\n",
       "    </tr>\n",
       "  </thead>\n",
       "  <tbody>\n",
       "    <tr>\n",
       "      <th>0</th>\n",
       "      <td>2008</td>\n",
       "      <td>10000m M</td>\n",
       "      <td>Kenenisa Bekele</td>\n",
       "    </tr>\n",
       "    <tr>\n",
       "      <th>1</th>\n",
       "      <td>2008</td>\n",
       "      <td>10000m W</td>\n",
       "      <td>Tirunesh Dibaba</td>\n",
       "    </tr>\n",
       "    <tr>\n",
       "      <th>2</th>\n",
       "      <td>2012</td>\n",
       "      <td>100m M</td>\n",
       "      <td>Usain Bolt</td>\n",
       "    </tr>\n",
       "    <tr>\n",
       "      <th>3</th>\n",
       "      <td>2020</td>\n",
       "      <td>100m W</td>\n",
       "      <td>Elaine Thompson-Herah</td>\n",
       "    </tr>\n",
       "    <tr>\n",
       "      <th>4</th>\n",
       "      <td>1968</td>\n",
       "      <td>100m hurdles W</td>\n",
       "      <td>Maureen Caird</td>\n",
       "    </tr>\n",
       "    <tr>\n",
       "      <th>5</th>\n",
       "      <td>2004</td>\n",
       "      <td>110m hurdles M</td>\n",
       "      <td>Liu Xiang</td>\n",
       "    </tr>\n",
       "    <tr>\n",
       "      <th>6</th>\n",
       "      <td>2020</td>\n",
       "      <td>1500m M</td>\n",
       "      <td>Jakob Ingebrigtsen</td>\n",
       "    </tr>\n",
       "    <tr>\n",
       "      <th>7</th>\n",
       "      <td>2020</td>\n",
       "      <td>1500m W</td>\n",
       "      <td>Faith Chepngetich Kipyegon</td>\n",
       "    </tr>\n",
       "    <tr>\n",
       "      <th>8</th>\n",
       "      <td>2008</td>\n",
       "      <td>200m M</td>\n",
       "      <td>Usain Bolt</td>\n",
       "    </tr>\n",
       "    <tr>\n",
       "      <th>9</th>\n",
       "      <td>1988</td>\n",
       "      <td>200m W</td>\n",
       "      <td>Florence Griffith Joyner</td>\n",
       "    </tr>\n",
       "    <tr>\n",
       "      <th>10</th>\n",
       "      <td>2012</td>\n",
       "      <td>20km Walk M</td>\n",
       "      <td>Chen Ding</td>\n",
       "    </tr>\n",
       "    <tr>\n",
       "      <th>11</th>\n",
       "      <td>2012</td>\n",
       "      <td>20km Walk W</td>\n",
       "      <td>Elena Lashmanova</td>\n",
       "    </tr>\n",
       "    <tr>\n",
       "      <th>12</th>\n",
       "      <td>2016</td>\n",
       "      <td>3000m steeplechase M</td>\n",
       "      <td>Conseslus Kipruto</td>\n",
       "    </tr>\n",
       "    <tr>\n",
       "      <th>13</th>\n",
       "      <td>2008</td>\n",
       "      <td>3000m steeplechase W</td>\n",
       "      <td>Gulnara Galkina-Samitova</td>\n",
       "    </tr>\n",
       "    <tr>\n",
       "      <th>14</th>\n",
       "      <td>2016</td>\n",
       "      <td>400m M</td>\n",
       "      <td>Wayde van Niekerk</td>\n",
       "    </tr>\n",
       "    <tr>\n",
       "      <th>15</th>\n",
       "      <td>1996</td>\n",
       "      <td>400m W</td>\n",
       "      <td>Marie-Jose Pérec</td>\n",
       "    </tr>\n",
       "    <tr>\n",
       "      <th>16</th>\n",
       "      <td>2020</td>\n",
       "      <td>400m hurdles M</td>\n",
       "      <td>Karsten Warholm</td>\n",
       "    </tr>\n",
       "    <tr>\n",
       "      <th>17</th>\n",
       "      <td>2020</td>\n",
       "      <td>400m hurdles W</td>\n",
       "      <td>Sydney McLaughlin</td>\n",
       "    </tr>\n",
       "    <tr>\n",
       "      <th>18</th>\n",
       "      <td>2012</td>\n",
       "      <td>4x100m M</td>\n",
       "      <td>NaN</td>\n",
       "    </tr>\n",
       "    <tr>\n",
       "      <th>19</th>\n",
       "      <td>2012</td>\n",
       "      <td>4x100m W</td>\n",
       "      <td>NaN</td>\n",
       "    </tr>\n",
       "    <tr>\n",
       "      <th>20</th>\n",
       "      <td>2008</td>\n",
       "      <td>4x400m M</td>\n",
       "      <td>NaN</td>\n",
       "    </tr>\n",
       "    <tr>\n",
       "      <th>21</th>\n",
       "      <td>1988</td>\n",
       "      <td>4x400m W</td>\n",
       "      <td>NaN</td>\n",
       "    </tr>\n",
       "    <tr>\n",
       "      <th>22</th>\n",
       "      <td>2008</td>\n",
       "      <td>5000m M</td>\n",
       "      <td>Kenenisa Bekele</td>\n",
       "    </tr>\n",
       "    <tr>\n",
       "      <th>23</th>\n",
       "      <td>1988</td>\n",
       "      <td>5000m W</td>\n",
       "      <td>Tatyana Samolenko</td>\n",
       "    </tr>\n",
       "    <tr>\n",
       "      <th>24</th>\n",
       "      <td>2008</td>\n",
       "      <td>50km Walk M</td>\n",
       "      <td>Alex Schwazer</td>\n",
       "    </tr>\n",
       "    <tr>\n",
       "      <th>25</th>\n",
       "      <td>2012</td>\n",
       "      <td>800m M</td>\n",
       "      <td>David Lekuta Rudisha</td>\n",
       "    </tr>\n",
       "    <tr>\n",
       "      <th>26</th>\n",
       "      <td>1980</td>\n",
       "      <td>800m W</td>\n",
       "      <td>Nadiya Olizarenko</td>\n",
       "    </tr>\n",
       "    <tr>\n",
       "      <th>27</th>\n",
       "      <td>2020</td>\n",
       "      <td>Decathlon M</td>\n",
       "      <td>Damian Warner</td>\n",
       "    </tr>\n",
       "    <tr>\n",
       "      <th>28</th>\n",
       "      <td>1996</td>\n",
       "      <td>Discus Throw M</td>\n",
       "      <td>Lars Riedel</td>\n",
       "    </tr>\n",
       "    <tr>\n",
       "      <th>29</th>\n",
       "      <td>1988</td>\n",
       "      <td>Discus Throw W</td>\n",
       "      <td>Martina Hellmann</td>\n",
       "    </tr>\n",
       "    <tr>\n",
       "      <th>30</th>\n",
       "      <td>1988</td>\n",
       "      <td>Hammer Throw M</td>\n",
       "      <td>Sergey Litvinov</td>\n",
       "    </tr>\n",
       "    <tr>\n",
       "      <th>31</th>\n",
       "      <td>2016</td>\n",
       "      <td>Hammer Throw W</td>\n",
       "      <td>Anita Wlodarczyk</td>\n",
       "    </tr>\n",
       "    <tr>\n",
       "      <th>32</th>\n",
       "      <td>1988</td>\n",
       "      <td>Heptathlon W</td>\n",
       "      <td>Jackie Joyner-Kersee</td>\n",
       "    </tr>\n",
       "    <tr>\n",
       "      <th>33</th>\n",
       "      <td>1996</td>\n",
       "      <td>High Jump M</td>\n",
       "      <td>Charles Austin</td>\n",
       "    </tr>\n",
       "    <tr>\n",
       "      <th>34</th>\n",
       "      <td>2004</td>\n",
       "      <td>High Jump W</td>\n",
       "      <td>Yelena Slesarenko</td>\n",
       "    </tr>\n",
       "    <tr>\n",
       "      <th>35</th>\n",
       "      <td>2008</td>\n",
       "      <td>Javelin Throw M</td>\n",
       "      <td>Andreas Thorkildsen</td>\n",
       "    </tr>\n",
       "    <tr>\n",
       "      <th>36</th>\n",
       "      <td>1988</td>\n",
       "      <td>Javelin Throw W</td>\n",
       "      <td>Petra Felke</td>\n",
       "    </tr>\n",
       "    <tr>\n",
       "      <th>37</th>\n",
       "      <td>1968</td>\n",
       "      <td>Long Jump M</td>\n",
       "      <td>Bob Beamon</td>\n",
       "    </tr>\n",
       "    <tr>\n",
       "      <th>38</th>\n",
       "      <td>1988</td>\n",
       "      <td>Long Jump W</td>\n",
       "      <td>Jackie Joyner-Kersee</td>\n",
       "    </tr>\n",
       "    <tr>\n",
       "      <th>39</th>\n",
       "      <td>2008</td>\n",
       "      <td>Marathon M</td>\n",
       "      <td>Samuel Kamau Wansiro</td>\n",
       "    </tr>\n",
       "    <tr>\n",
       "      <th>40</th>\n",
       "      <td>2012</td>\n",
       "      <td>Marathon W</td>\n",
       "      <td>Tiki Gelana</td>\n",
       "    </tr>\n",
       "    <tr>\n",
       "      <th>41</th>\n",
       "      <td>2012</td>\n",
       "      <td>Pole Vault M</td>\n",
       "      <td>Renaud Lavillenie</td>\n",
       "    </tr>\n",
       "    <tr>\n",
       "      <th>42</th>\n",
       "      <td>2008</td>\n",
       "      <td>Pole Vault W</td>\n",
       "      <td>Yelena Isinbayeva</td>\n",
       "    </tr>\n",
       "    <tr>\n",
       "      <th>43</th>\n",
       "      <td>2020</td>\n",
       "      <td>Shot Put M</td>\n",
       "      <td>Ryan Crouser</td>\n",
       "    </tr>\n",
       "    <tr>\n",
       "      <th>44</th>\n",
       "      <td>1980</td>\n",
       "      <td>Shot Put W</td>\n",
       "      <td>Ilona Slupianek</td>\n",
       "    </tr>\n",
       "    <tr>\n",
       "      <th>45</th>\n",
       "      <td>1996</td>\n",
       "      <td>Triple Jump M</td>\n",
       "      <td>Kenny Harrison</td>\n",
       "    </tr>\n",
       "    <tr>\n",
       "      <th>46</th>\n",
       "      <td>2020</td>\n",
       "      <td>Triple Jump W</td>\n",
       "      <td>Yulimar Rojas</td>\n",
       "    </tr>\n",
       "    <tr>\n",
       "      <th>47</th>\n",
       "      <td>1920</td>\n",
       "      <td>Weight Throw M</td>\n",
       "      <td>Patrick McDonald</td>\n",
       "    </tr>\n",
       "  </tbody>\n",
       "</table>\n",
       "</div>"
      ],
      "text/plain": [
       "    Year                 Event                     Athlete\n",
       "0   2008              10000m M             Kenenisa Bekele\n",
       "1   2008              10000m W             Tirunesh Dibaba\n",
       "2   2012                100m M                  Usain Bolt\n",
       "3   2020                100m W       Elaine Thompson-Herah\n",
       "4   1968        100m hurdles W               Maureen Caird\n",
       "5   2004        110m hurdles M                   Liu Xiang\n",
       "6   2020               1500m M          Jakob Ingebrigtsen\n",
       "7   2020               1500m W  Faith Chepngetich Kipyegon\n",
       "8   2008                200m M                  Usain Bolt\n",
       "9   1988                200m W    Florence Griffith Joyner\n",
       "10  2012           20km Walk M                   Chen Ding\n",
       "11  2012           20km Walk W            Elena Lashmanova\n",
       "12  2016  3000m steeplechase M           Conseslus Kipruto\n",
       "13  2008  3000m steeplechase W    Gulnara Galkina-Samitova\n",
       "14  2016                400m M           Wayde van Niekerk\n",
       "15  1996                400m W            Marie-Jose Pérec\n",
       "16  2020        400m hurdles M             Karsten Warholm\n",
       "17  2020        400m hurdles W           Sydney McLaughlin\n",
       "18  2012              4x100m M                         NaN\n",
       "19  2012              4x100m W                         NaN\n",
       "20  2008              4x400m M                         NaN\n",
       "21  1988              4x400m W                         NaN\n",
       "22  2008               5000m M             Kenenisa Bekele\n",
       "23  1988               5000m W           Tatyana Samolenko\n",
       "24  2008           50km Walk M               Alex Schwazer\n",
       "25  2012                800m M        David Lekuta Rudisha\n",
       "26  1980                800m W           Nadiya Olizarenko\n",
       "27  2020           Decathlon M               Damian Warner\n",
       "28  1996        Discus Throw M                 Lars Riedel\n",
       "29  1988        Discus Throw W            Martina Hellmann\n",
       "30  1988        Hammer Throw M             Sergey Litvinov\n",
       "31  2016        Hammer Throw W            Anita Wlodarczyk\n",
       "32  1988          Heptathlon W        Jackie Joyner-Kersee\n",
       "33  1996           High Jump M              Charles Austin\n",
       "34  2004           High Jump W           Yelena Slesarenko\n",
       "35  2008       Javelin Throw M         Andreas Thorkildsen\n",
       "36  1988       Javelin Throw W                 Petra Felke\n",
       "37  1968           Long Jump M                  Bob Beamon\n",
       "38  1988           Long Jump W        Jackie Joyner-Kersee\n",
       "39  2008            Marathon M        Samuel Kamau Wansiro\n",
       "40  2012            Marathon W                 Tiki Gelana\n",
       "41  2012          Pole Vault M           Renaud Lavillenie\n",
       "42  2008          Pole Vault W           Yelena Isinbayeva\n",
       "43  2020            Shot Put M                Ryan Crouser\n",
       "44  1980            Shot Put W             Ilona Slupianek\n",
       "45  1996         Triple Jump M              Kenny Harrison\n",
       "46  2020         Triple Jump W               Yulimar Rojas\n",
       "47  1920        Weight Throw M            Patrick McDonald"
      ]
     },
     "execution_count": 48,
     "metadata": {},
     "output_type": "execute_result"
    }
   ],
   "source": [
    "fecha_ultimo_record_nombre"
   ]
  },
  {
   "cell_type": "code",
   "execution_count": null,
   "metadata": {},
   "outputs": [],
   "source": [
    "#fecha_ultimo_record_nombre=fecha_ultimo_record_nombre.drop(deportes_desaparecidos)\n",
    "fecha_ultimo_record_nombre = fecha_ultimo_record_nombre[~fecha_ultimo_record_nombre['Event'].isin(deportes_desaparecidos)]"
   ]
  },
  {
   "cell_type": "code",
   "execution_count": null,
   "metadata": {},
   "outputs": [
    {
     "data": {
      "application/vnd.plotly.v1+json": {
       "config": {
        "plotlyServerURL": "https://plot.ly"
       },
       "data": [
        {
         "hovertemplate": "<b>%{hovertext}</b><br><br>Year=%{x}<br>Event=%{y}<extra></extra>",
         "hovertext": [
          "Kenenisa Bekele",
          "Usain Bolt",
          "Elaine Thompson-Herah",
          "Liu Xiang",
          "Jakob Ingebrigtsen",
          "Usain Bolt",
          "Florence Griffith Joyner",
          "Chen Ding",
          "Conseslus Kipruto",
          "Wayde van Niekerk",
          "Marie-Jose Pérec",
          "Karsten Warholm",
          null,
          null,
          null,
          "Kenenisa Bekele",
          "Alex Schwazer",
          "David Lekuta Rudisha",
          "Nadiya Olizarenko",
          "Damian Warner",
          "Lars Riedel",
          "Martina Hellmann",
          "Sergey Litvinov",
          "Charles Austin",
          "Yelena Slesarenko",
          "Andreas Thorkildsen",
          "Petra Felke",
          "Bob Beamon",
          "Jackie Joyner-Kersee",
          "Samuel Kamau Wansiro",
          "Renaud Lavillenie",
          "Ryan Crouser",
          "Ilona Slupianek",
          "Kenny Harrison"
         ],
         "legendgroup": "",
         "marker": {
          "color": "#636efa",
          "symbol": "circle"
         },
         "mode": "markers",
         "name": "",
         "orientation": "h",
         "showlegend": false,
         "type": "scatter",
         "x": [
          2008,
          2012,
          2020,
          2004,
          2020,
          2008,
          1988,
          2012,
          2016,
          2016,
          1996,
          2020,
          2012,
          2012,
          2008,
          2008,
          2008,
          2012,
          1980,
          2020,
          1996,
          1988,
          1988,
          1996,
          2004,
          2008,
          1988,
          1968,
          1988,
          2008,
          2012,
          2020,
          1980,
          1996
         ],
         "xaxis": "x",
         "y": [
          "10000m M",
          "100m M",
          "100m W",
          "110m hurdles M",
          "1500m M",
          "200m M",
          "200m W",
          "20km Walk M",
          "3000m steeplechase M",
          "400m M",
          "400m W",
          "400m hurdles M",
          "4x100m M",
          "4x100m W",
          "4x400m M",
          "5000m M",
          "50km Walk M",
          "800m M",
          "800m W",
          "Decathlon M",
          "Discus Throw M",
          "Discus Throw W",
          "Hammer Throw M",
          "High Jump M",
          "High Jump W",
          "Javelin Throw M",
          "Javelin Throw W",
          "Long Jump M",
          "Long Jump W",
          "Marathon M",
          "Pole Vault M",
          "Shot Put M",
          "Shot Put W",
          "Triple Jump M"
         ],
         "yaxis": "y"
        }
       ],
       "layout": {
        "legend": {
         "tracegroupgap": 0
        },
        "margin": {
         "t": 60
        },
        "template": {
         "data": {
          "bar": [
           {
            "error_x": {
             "color": "#2a3f5f"
            },
            "error_y": {
             "color": "#2a3f5f"
            },
            "marker": {
             "line": {
              "color": "#E5ECF6",
              "width": 0.5
             },
             "pattern": {
              "fillmode": "overlay",
              "size": 10,
              "solidity": 0.2
             }
            },
            "type": "bar"
           }
          ],
          "barpolar": [
           {
            "marker": {
             "line": {
              "color": "#E5ECF6",
              "width": 0.5
             },
             "pattern": {
              "fillmode": "overlay",
              "size": 10,
              "solidity": 0.2
             }
            },
            "type": "barpolar"
           }
          ],
          "carpet": [
           {
            "aaxis": {
             "endlinecolor": "#2a3f5f",
             "gridcolor": "white",
             "linecolor": "white",
             "minorgridcolor": "white",
             "startlinecolor": "#2a3f5f"
            },
            "baxis": {
             "endlinecolor": "#2a3f5f",
             "gridcolor": "white",
             "linecolor": "white",
             "minorgridcolor": "white",
             "startlinecolor": "#2a3f5f"
            },
            "type": "carpet"
           }
          ],
          "choropleth": [
           {
            "colorbar": {
             "outlinewidth": 0,
             "ticks": ""
            },
            "type": "choropleth"
           }
          ],
          "contour": [
           {
            "colorbar": {
             "outlinewidth": 0,
             "ticks": ""
            },
            "colorscale": [
             [
              0,
              "#0d0887"
             ],
             [
              0.1111111111111111,
              "#46039f"
             ],
             [
              0.2222222222222222,
              "#7201a8"
             ],
             [
              0.3333333333333333,
              "#9c179e"
             ],
             [
              0.4444444444444444,
              "#bd3786"
             ],
             [
              0.5555555555555556,
              "#d8576b"
             ],
             [
              0.6666666666666666,
              "#ed7953"
             ],
             [
              0.7777777777777778,
              "#fb9f3a"
             ],
             [
              0.8888888888888888,
              "#fdca26"
             ],
             [
              1,
              "#f0f921"
             ]
            ],
            "type": "contour"
           }
          ],
          "contourcarpet": [
           {
            "colorbar": {
             "outlinewidth": 0,
             "ticks": ""
            },
            "type": "contourcarpet"
           }
          ],
          "heatmap": [
           {
            "colorbar": {
             "outlinewidth": 0,
             "ticks": ""
            },
            "colorscale": [
             [
              0,
              "#0d0887"
             ],
             [
              0.1111111111111111,
              "#46039f"
             ],
             [
              0.2222222222222222,
              "#7201a8"
             ],
             [
              0.3333333333333333,
              "#9c179e"
             ],
             [
              0.4444444444444444,
              "#bd3786"
             ],
             [
              0.5555555555555556,
              "#d8576b"
             ],
             [
              0.6666666666666666,
              "#ed7953"
             ],
             [
              0.7777777777777778,
              "#fb9f3a"
             ],
             [
              0.8888888888888888,
              "#fdca26"
             ],
             [
              1,
              "#f0f921"
             ]
            ],
            "type": "heatmap"
           }
          ],
          "heatmapgl": [
           {
            "colorbar": {
             "outlinewidth": 0,
             "ticks": ""
            },
            "colorscale": [
             [
              0,
              "#0d0887"
             ],
             [
              0.1111111111111111,
              "#46039f"
             ],
             [
              0.2222222222222222,
              "#7201a8"
             ],
             [
              0.3333333333333333,
              "#9c179e"
             ],
             [
              0.4444444444444444,
              "#bd3786"
             ],
             [
              0.5555555555555556,
              "#d8576b"
             ],
             [
              0.6666666666666666,
              "#ed7953"
             ],
             [
              0.7777777777777778,
              "#fb9f3a"
             ],
             [
              0.8888888888888888,
              "#fdca26"
             ],
             [
              1,
              "#f0f921"
             ]
            ],
            "type": "heatmapgl"
           }
          ],
          "histogram": [
           {
            "marker": {
             "pattern": {
              "fillmode": "overlay",
              "size": 10,
              "solidity": 0.2
             }
            },
            "type": "histogram"
           }
          ],
          "histogram2d": [
           {
            "colorbar": {
             "outlinewidth": 0,
             "ticks": ""
            },
            "colorscale": [
             [
              0,
              "#0d0887"
             ],
             [
              0.1111111111111111,
              "#46039f"
             ],
             [
              0.2222222222222222,
              "#7201a8"
             ],
             [
              0.3333333333333333,
              "#9c179e"
             ],
             [
              0.4444444444444444,
              "#bd3786"
             ],
             [
              0.5555555555555556,
              "#d8576b"
             ],
             [
              0.6666666666666666,
              "#ed7953"
             ],
             [
              0.7777777777777778,
              "#fb9f3a"
             ],
             [
              0.8888888888888888,
              "#fdca26"
             ],
             [
              1,
              "#f0f921"
             ]
            ],
            "type": "histogram2d"
           }
          ],
          "histogram2dcontour": [
           {
            "colorbar": {
             "outlinewidth": 0,
             "ticks": ""
            },
            "colorscale": [
             [
              0,
              "#0d0887"
             ],
             [
              0.1111111111111111,
              "#46039f"
             ],
             [
              0.2222222222222222,
              "#7201a8"
             ],
             [
              0.3333333333333333,
              "#9c179e"
             ],
             [
              0.4444444444444444,
              "#bd3786"
             ],
             [
              0.5555555555555556,
              "#d8576b"
             ],
             [
              0.6666666666666666,
              "#ed7953"
             ],
             [
              0.7777777777777778,
              "#fb9f3a"
             ],
             [
              0.8888888888888888,
              "#fdca26"
             ],
             [
              1,
              "#f0f921"
             ]
            ],
            "type": "histogram2dcontour"
           }
          ],
          "mesh3d": [
           {
            "colorbar": {
             "outlinewidth": 0,
             "ticks": ""
            },
            "type": "mesh3d"
           }
          ],
          "parcoords": [
           {
            "line": {
             "colorbar": {
              "outlinewidth": 0,
              "ticks": ""
             }
            },
            "type": "parcoords"
           }
          ],
          "pie": [
           {
            "automargin": true,
            "type": "pie"
           }
          ],
          "scatter": [
           {
            "fillpattern": {
             "fillmode": "overlay",
             "size": 10,
             "solidity": 0.2
            },
            "type": "scatter"
           }
          ],
          "scatter3d": [
           {
            "line": {
             "colorbar": {
              "outlinewidth": 0,
              "ticks": ""
             }
            },
            "marker": {
             "colorbar": {
              "outlinewidth": 0,
              "ticks": ""
             }
            },
            "type": "scatter3d"
           }
          ],
          "scattercarpet": [
           {
            "marker": {
             "colorbar": {
              "outlinewidth": 0,
              "ticks": ""
             }
            },
            "type": "scattercarpet"
           }
          ],
          "scattergeo": [
           {
            "marker": {
             "colorbar": {
              "outlinewidth": 0,
              "ticks": ""
             }
            },
            "type": "scattergeo"
           }
          ],
          "scattergl": [
           {
            "marker": {
             "colorbar": {
              "outlinewidth": 0,
              "ticks": ""
             }
            },
            "type": "scattergl"
           }
          ],
          "scattermapbox": [
           {
            "marker": {
             "colorbar": {
              "outlinewidth": 0,
              "ticks": ""
             }
            },
            "type": "scattermapbox"
           }
          ],
          "scatterpolar": [
           {
            "marker": {
             "colorbar": {
              "outlinewidth": 0,
              "ticks": ""
             }
            },
            "type": "scatterpolar"
           }
          ],
          "scatterpolargl": [
           {
            "marker": {
             "colorbar": {
              "outlinewidth": 0,
              "ticks": ""
             }
            },
            "type": "scatterpolargl"
           }
          ],
          "scatterternary": [
           {
            "marker": {
             "colorbar": {
              "outlinewidth": 0,
              "ticks": ""
             }
            },
            "type": "scatterternary"
           }
          ],
          "surface": [
           {
            "colorbar": {
             "outlinewidth": 0,
             "ticks": ""
            },
            "colorscale": [
             [
              0,
              "#0d0887"
             ],
             [
              0.1111111111111111,
              "#46039f"
             ],
             [
              0.2222222222222222,
              "#7201a8"
             ],
             [
              0.3333333333333333,
              "#9c179e"
             ],
             [
              0.4444444444444444,
              "#bd3786"
             ],
             [
              0.5555555555555556,
              "#d8576b"
             ],
             [
              0.6666666666666666,
              "#ed7953"
             ],
             [
              0.7777777777777778,
              "#fb9f3a"
             ],
             [
              0.8888888888888888,
              "#fdca26"
             ],
             [
              1,
              "#f0f921"
             ]
            ],
            "type": "surface"
           }
          ],
          "table": [
           {
            "cells": {
             "fill": {
              "color": "#EBF0F8"
             },
             "line": {
              "color": "white"
             }
            },
            "header": {
             "fill": {
              "color": "#C8D4E3"
             },
             "line": {
              "color": "white"
             }
            },
            "type": "table"
           }
          ]
         },
         "layout": {
          "annotationdefaults": {
           "arrowcolor": "#2a3f5f",
           "arrowhead": 0,
           "arrowwidth": 1
          },
          "autotypenumbers": "strict",
          "coloraxis": {
           "colorbar": {
            "outlinewidth": 0,
            "ticks": ""
           }
          },
          "colorscale": {
           "diverging": [
            [
             0,
             "#8e0152"
            ],
            [
             0.1,
             "#c51b7d"
            ],
            [
             0.2,
             "#de77ae"
            ],
            [
             0.3,
             "#f1b6da"
            ],
            [
             0.4,
             "#fde0ef"
            ],
            [
             0.5,
             "#f7f7f7"
            ],
            [
             0.6,
             "#e6f5d0"
            ],
            [
             0.7,
             "#b8e186"
            ],
            [
             0.8,
             "#7fbc41"
            ],
            [
             0.9,
             "#4d9221"
            ],
            [
             1,
             "#276419"
            ]
           ],
           "sequential": [
            [
             0,
             "#0d0887"
            ],
            [
             0.1111111111111111,
             "#46039f"
            ],
            [
             0.2222222222222222,
             "#7201a8"
            ],
            [
             0.3333333333333333,
             "#9c179e"
            ],
            [
             0.4444444444444444,
             "#bd3786"
            ],
            [
             0.5555555555555556,
             "#d8576b"
            ],
            [
             0.6666666666666666,
             "#ed7953"
            ],
            [
             0.7777777777777778,
             "#fb9f3a"
            ],
            [
             0.8888888888888888,
             "#fdca26"
            ],
            [
             1,
             "#f0f921"
            ]
           ],
           "sequentialminus": [
            [
             0,
             "#0d0887"
            ],
            [
             0.1111111111111111,
             "#46039f"
            ],
            [
             0.2222222222222222,
             "#7201a8"
            ],
            [
             0.3333333333333333,
             "#9c179e"
            ],
            [
             0.4444444444444444,
             "#bd3786"
            ],
            [
             0.5555555555555556,
             "#d8576b"
            ],
            [
             0.6666666666666666,
             "#ed7953"
            ],
            [
             0.7777777777777778,
             "#fb9f3a"
            ],
            [
             0.8888888888888888,
             "#fdca26"
            ],
            [
             1,
             "#f0f921"
            ]
           ]
          },
          "colorway": [
           "#636efa",
           "#EF553B",
           "#00cc96",
           "#ab63fa",
           "#FFA15A",
           "#19d3f3",
           "#FF6692",
           "#B6E880",
           "#FF97FF",
           "#FECB52"
          ],
          "font": {
           "color": "#2a3f5f"
          },
          "geo": {
           "bgcolor": "white",
           "lakecolor": "white",
           "landcolor": "#E5ECF6",
           "showlakes": true,
           "showland": true,
           "subunitcolor": "white"
          },
          "hoverlabel": {
           "align": "left"
          },
          "hovermode": "closest",
          "mapbox": {
           "style": "light"
          },
          "paper_bgcolor": "white",
          "plot_bgcolor": "#E5ECF6",
          "polar": {
           "angularaxis": {
            "gridcolor": "white",
            "linecolor": "white",
            "ticks": ""
           },
           "bgcolor": "#E5ECF6",
           "radialaxis": {
            "gridcolor": "white",
            "linecolor": "white",
            "ticks": ""
           }
          },
          "scene": {
           "xaxis": {
            "backgroundcolor": "#E5ECF6",
            "gridcolor": "white",
            "gridwidth": 2,
            "linecolor": "white",
            "showbackground": true,
            "ticks": "",
            "zerolinecolor": "white"
           },
           "yaxis": {
            "backgroundcolor": "#E5ECF6",
            "gridcolor": "white",
            "gridwidth": 2,
            "linecolor": "white",
            "showbackground": true,
            "ticks": "",
            "zerolinecolor": "white"
           },
           "zaxis": {
            "backgroundcolor": "#E5ECF6",
            "gridcolor": "white",
            "gridwidth": 2,
            "linecolor": "white",
            "showbackground": true,
            "ticks": "",
            "zerolinecolor": "white"
           }
          },
          "shapedefaults": {
           "line": {
            "color": "#2a3f5f"
           }
          },
          "ternary": {
           "aaxis": {
            "gridcolor": "white",
            "linecolor": "white",
            "ticks": ""
           },
           "baxis": {
            "gridcolor": "white",
            "linecolor": "white",
            "ticks": ""
           },
           "bgcolor": "#E5ECF6",
           "caxis": {
            "gridcolor": "white",
            "linecolor": "white",
            "ticks": ""
           }
          },
          "title": {
           "x": 0.05
          },
          "xaxis": {
           "automargin": true,
           "gridcolor": "white",
           "linecolor": "white",
           "ticks": "",
           "title": {
            "standoff": 15
           },
           "zerolinecolor": "white",
           "zerolinewidth": 2
          },
          "yaxis": {
           "automargin": true,
           "gridcolor": "white",
           "linecolor": "white",
           "ticks": "",
           "title": {
            "standoff": 15
           },
           "zerolinecolor": "white",
           "zerolinewidth": 2
          }
         }
        },
        "xaxis": {
         "anchor": "y",
         "domain": [
          0,
          1
         ],
         "title": {
          "text": "Year"
         }
        },
        "yaxis": {
         "anchor": "x",
         "domain": [
          0,
          1
         ],
         "title": {
          "text": "Event"
         }
        }
       }
      }
     },
     "metadata": {},
     "output_type": "display_data"
    },
    {
     "data": {
      "text/plain": [
       "'Records.html'"
      ]
     },
     "execution_count": 53,
     "metadata": {},
     "output_type": "execute_result"
    }
   ],
   "source": [
    "# Crear un scatterplot interactivo con Plotly\n",
    "fig = px.scatter(fecha_ultimo_record_nombre, x=\"Year\", y=\"Event\", hover_name='Athlete')\n",
    "\n",
    "# Mostrar el gráfico\n",
    "fig.show()\n",
    "\n",
    "fig.update_layout(title='Records year set')\n",
    "\n",
    "pyo.plot(fig, filename='Records.html')"
   ]
  },
  {
   "cell_type": "code",
   "execution_count": null,
   "metadata": {},
   "outputs": [
    {
     "data": {
      "text/html": [
       "<div>\n",
       "<style scoped>\n",
       "    .dataframe tbody tr th:only-of-type {\n",
       "        vertical-align: middle;\n",
       "    }\n",
       "\n",
       "    .dataframe tbody tr th {\n",
       "        vertical-align: top;\n",
       "    }\n",
       "\n",
       "    .dataframe thead th {\n",
       "        text-align: right;\n",
       "    }\n",
       "</style>\n",
       "<table border=\"1\" class=\"dataframe\">\n",
       "  <thead>\n",
       "    <tr style=\"text-align: right;\">\n",
       "      <th></th>\n",
       "      <th>Year</th>\n",
       "      <th>Event</th>\n",
       "      <th>Athlete</th>\n",
       "    </tr>\n",
       "  </thead>\n",
       "  <tbody>\n",
       "    <tr>\n",
       "      <th>0</th>\n",
       "      <td>2008</td>\n",
       "      <td>10000m M</td>\n",
       "      <td>Kenenisa Bekele</td>\n",
       "    </tr>\n",
       "    <tr>\n",
       "      <th>2</th>\n",
       "      <td>2012</td>\n",
       "      <td>100m M</td>\n",
       "      <td>Usain Bolt</td>\n",
       "    </tr>\n",
       "    <tr>\n",
       "      <th>3</th>\n",
       "      <td>2020</td>\n",
       "      <td>100m W</td>\n",
       "      <td>Elaine Thompson-Herah</td>\n",
       "    </tr>\n",
       "    <tr>\n",
       "      <th>5</th>\n",
       "      <td>2004</td>\n",
       "      <td>110m hurdles M</td>\n",
       "      <td>Liu Xiang</td>\n",
       "    </tr>\n",
       "    <tr>\n",
       "      <th>6</th>\n",
       "      <td>2020</td>\n",
       "      <td>1500m M</td>\n",
       "      <td>Jakob Ingebrigtsen</td>\n",
       "    </tr>\n",
       "    <tr>\n",
       "      <th>8</th>\n",
       "      <td>2008</td>\n",
       "      <td>200m M</td>\n",
       "      <td>Usain Bolt</td>\n",
       "    </tr>\n",
       "    <tr>\n",
       "      <th>9</th>\n",
       "      <td>1988</td>\n",
       "      <td>200m W</td>\n",
       "      <td>Florence Griffith Joyner</td>\n",
       "    </tr>\n",
       "    <tr>\n",
       "      <th>10</th>\n",
       "      <td>2012</td>\n",
       "      <td>20km Walk M</td>\n",
       "      <td>Chen Ding</td>\n",
       "    </tr>\n",
       "    <tr>\n",
       "      <th>12</th>\n",
       "      <td>2016</td>\n",
       "      <td>3000m steeplechase M</td>\n",
       "      <td>Conseslus Kipruto</td>\n",
       "    </tr>\n",
       "    <tr>\n",
       "      <th>14</th>\n",
       "      <td>2016</td>\n",
       "      <td>400m M</td>\n",
       "      <td>Wayde van Niekerk</td>\n",
       "    </tr>\n",
       "    <tr>\n",
       "      <th>15</th>\n",
       "      <td>1996</td>\n",
       "      <td>400m W</td>\n",
       "      <td>Marie-Jose Pérec</td>\n",
       "    </tr>\n",
       "    <tr>\n",
       "      <th>16</th>\n",
       "      <td>2020</td>\n",
       "      <td>400m hurdles M</td>\n",
       "      <td>Karsten Warholm</td>\n",
       "    </tr>\n",
       "    <tr>\n",
       "      <th>18</th>\n",
       "      <td>2012</td>\n",
       "      <td>4x100m M</td>\n",
       "      <td>NaN</td>\n",
       "    </tr>\n",
       "    <tr>\n",
       "      <th>19</th>\n",
       "      <td>2012</td>\n",
       "      <td>4x100m W</td>\n",
       "      <td>NaN</td>\n",
       "    </tr>\n",
       "    <tr>\n",
       "      <th>20</th>\n",
       "      <td>2008</td>\n",
       "      <td>4x400m M</td>\n",
       "      <td>NaN</td>\n",
       "    </tr>\n",
       "    <tr>\n",
       "      <th>22</th>\n",
       "      <td>2008</td>\n",
       "      <td>5000m M</td>\n",
       "      <td>Kenenisa Bekele</td>\n",
       "    </tr>\n",
       "    <tr>\n",
       "      <th>24</th>\n",
       "      <td>2008</td>\n",
       "      <td>50km Walk M</td>\n",
       "      <td>Alex Schwazer</td>\n",
       "    </tr>\n",
       "    <tr>\n",
       "      <th>25</th>\n",
       "      <td>2012</td>\n",
       "      <td>800m M</td>\n",
       "      <td>David Lekuta Rudisha</td>\n",
       "    </tr>\n",
       "    <tr>\n",
       "      <th>26</th>\n",
       "      <td>1980</td>\n",
       "      <td>800m W</td>\n",
       "      <td>Nadiya Olizarenko</td>\n",
       "    </tr>\n",
       "    <tr>\n",
       "      <th>27</th>\n",
       "      <td>2020</td>\n",
       "      <td>Decathlon M</td>\n",
       "      <td>Damian Warner</td>\n",
       "    </tr>\n",
       "    <tr>\n",
       "      <th>28</th>\n",
       "      <td>1996</td>\n",
       "      <td>Discus Throw M</td>\n",
       "      <td>Lars Riedel</td>\n",
       "    </tr>\n",
       "    <tr>\n",
       "      <th>29</th>\n",
       "      <td>1988</td>\n",
       "      <td>Discus Throw W</td>\n",
       "      <td>Martina Hellmann</td>\n",
       "    </tr>\n",
       "    <tr>\n",
       "      <th>30</th>\n",
       "      <td>1988</td>\n",
       "      <td>Hammer Throw M</td>\n",
       "      <td>Sergey Litvinov</td>\n",
       "    </tr>\n",
       "    <tr>\n",
       "      <th>33</th>\n",
       "      <td>1996</td>\n",
       "      <td>High Jump M</td>\n",
       "      <td>Charles Austin</td>\n",
       "    </tr>\n",
       "    <tr>\n",
       "      <th>34</th>\n",
       "      <td>2004</td>\n",
       "      <td>High Jump W</td>\n",
       "      <td>Yelena Slesarenko</td>\n",
       "    </tr>\n",
       "    <tr>\n",
       "      <th>35</th>\n",
       "      <td>2008</td>\n",
       "      <td>Javelin Throw M</td>\n",
       "      <td>Andreas Thorkildsen</td>\n",
       "    </tr>\n",
       "    <tr>\n",
       "      <th>36</th>\n",
       "      <td>1988</td>\n",
       "      <td>Javelin Throw W</td>\n",
       "      <td>Petra Felke</td>\n",
       "    </tr>\n",
       "    <tr>\n",
       "      <th>37</th>\n",
       "      <td>1968</td>\n",
       "      <td>Long Jump M</td>\n",
       "      <td>Bob Beamon</td>\n",
       "    </tr>\n",
       "    <tr>\n",
       "      <th>38</th>\n",
       "      <td>1988</td>\n",
       "      <td>Long Jump W</td>\n",
       "      <td>Jackie Joyner-Kersee</td>\n",
       "    </tr>\n",
       "    <tr>\n",
       "      <th>39</th>\n",
       "      <td>2008</td>\n",
       "      <td>Marathon M</td>\n",
       "      <td>Samuel Kamau Wansiro</td>\n",
       "    </tr>\n",
       "    <tr>\n",
       "      <th>41</th>\n",
       "      <td>2012</td>\n",
       "      <td>Pole Vault M</td>\n",
       "      <td>Renaud Lavillenie</td>\n",
       "    </tr>\n",
       "    <tr>\n",
       "      <th>43</th>\n",
       "      <td>2020</td>\n",
       "      <td>Shot Put M</td>\n",
       "      <td>Ryan Crouser</td>\n",
       "    </tr>\n",
       "    <tr>\n",
       "      <th>44</th>\n",
       "      <td>1980</td>\n",
       "      <td>Shot Put W</td>\n",
       "      <td>Ilona Slupianek</td>\n",
       "    </tr>\n",
       "    <tr>\n",
       "      <th>45</th>\n",
       "      <td>1996</td>\n",
       "      <td>Triple Jump M</td>\n",
       "      <td>Kenny Harrison</td>\n",
       "    </tr>\n",
       "  </tbody>\n",
       "</table>\n",
       "</div>"
      ],
      "text/plain": [
       "    Year                 Event                   Athlete\n",
       "0   2008              10000m M           Kenenisa Bekele\n",
       "2   2012                100m M                Usain Bolt\n",
       "3   2020                100m W     Elaine Thompson-Herah\n",
       "5   2004        110m hurdles M                 Liu Xiang\n",
       "6   2020               1500m M        Jakob Ingebrigtsen\n",
       "8   2008                200m M                Usain Bolt\n",
       "9   1988                200m W  Florence Griffith Joyner\n",
       "10  2012           20km Walk M                 Chen Ding\n",
       "12  2016  3000m steeplechase M         Conseslus Kipruto\n",
       "14  2016                400m M         Wayde van Niekerk\n",
       "15  1996                400m W          Marie-Jose Pérec\n",
       "16  2020        400m hurdles M           Karsten Warholm\n",
       "18  2012              4x100m M                       NaN\n",
       "19  2012              4x100m W                       NaN\n",
       "20  2008              4x400m M                       NaN\n",
       "22  2008               5000m M           Kenenisa Bekele\n",
       "24  2008           50km Walk M             Alex Schwazer\n",
       "25  2012                800m M      David Lekuta Rudisha\n",
       "26  1980                800m W         Nadiya Olizarenko\n",
       "27  2020           Decathlon M             Damian Warner\n",
       "28  1996        Discus Throw M               Lars Riedel\n",
       "29  1988        Discus Throw W          Martina Hellmann\n",
       "30  1988        Hammer Throw M           Sergey Litvinov\n",
       "33  1996           High Jump M            Charles Austin\n",
       "34  2004           High Jump W         Yelena Slesarenko\n",
       "35  2008       Javelin Throw M       Andreas Thorkildsen\n",
       "36  1988       Javelin Throw W               Petra Felke\n",
       "37  1968           Long Jump M                Bob Beamon\n",
       "38  1988           Long Jump W      Jackie Joyner-Kersee\n",
       "39  2008            Marathon M      Samuel Kamau Wansiro\n",
       "41  2012          Pole Vault M         Renaud Lavillenie\n",
       "43  2020            Shot Put M              Ryan Crouser\n",
       "44  1980            Shot Put W           Ilona Slupianek\n",
       "45  1996         Triple Jump M            Kenny Harrison"
      ]
     },
     "execution_count": 51,
     "metadata": {},
     "output_type": "execute_result"
    }
   ],
   "source": [
    "fecha_ultimo_record_nombre"
   ]
  },
  {
   "cell_type": "code",
   "execution_count": null,
   "metadata": {},
   "outputs": [
    {
     "data": {
      "text/plain": [
       "Al Oerter                   6\n",
       "Florence Griffith Joyner    6\n",
       "Shirley Strickland          5\n",
       "Jesse Owens                 5\n",
       "Clarence Houser             4\n",
       "                           ..\n",
       "Rodney Milburn              1\n",
       "Allen Johnson               1\n",
       "Liu Xiang                   1\n",
       "Trebisonda Valla            1\n",
       "Thomas Green                1\n",
       "Name: Athlete, Length: 466, dtype: int64"
      ]
     },
     "execution_count": 55,
     "metadata": {},
     "output_type": "execute_result"
    }
   ],
   "source": [
    "records[\"Athlete\"].value_counts()"
   ]
  },
  {
   "cell_type": "code",
   "execution_count": null,
   "metadata": {},
   "outputs": [],
   "source": [
    "records['Total_Records'] = records[\"Event\"].groupby(records['Athlete']).transform(\"sum\")"
   ]
  },
  {
   "cell_type": "code",
   "execution_count": null,
   "metadata": {},
   "outputs": [],
   "source": [
    "total_records =records.groupby('Athlete')['Event'].count()\n",
    "records['Total_Records'] = records['Athlete'].map(total_records)\n",
    "\n"
   ]
  },
  {
   "cell_type": "code",
   "execution_count": null,
   "metadata": {},
   "outputs": [],
   "source": [
    "records[\"discipline_records\"]= records.groupby('Athlete')['Event'].transform('sum')\n",
    "\n",
    "\n",
    "\n",
    "\n"
   ]
  },
  {
   "cell_type": "code",
   "execution_count": null,
   "metadata": {},
   "outputs": [
    {
     "data": {
      "text/html": [
       "<div>\n",
       "<style scoped>\n",
       "    .dataframe tbody tr th:only-of-type {\n",
       "        vertical-align: middle;\n",
       "    }\n",
       "\n",
       "    .dataframe tbody tr th {\n",
       "        vertical-align: top;\n",
       "    }\n",
       "\n",
       "    .dataframe thead th {\n",
       "        text-align: right;\n",
       "    }\n",
       "</style>\n",
       "<table border=\"1\" class=\"dataframe\">\n",
       "  <thead>\n",
       "    <tr style=\"text-align: right;\">\n",
       "      <th></th>\n",
       "      <th>Event</th>\n",
       "      <th>Year</th>\n",
       "      <th>Athlete</th>\n",
       "      <th>Country</th>\n",
       "      <th>Mark</th>\n",
       "      <th>Record</th>\n",
       "      <th>Round</th>\n",
       "      <th>Total_Records</th>\n",
       "      <th>discipline_records</th>\n",
       "    </tr>\n",
       "  </thead>\n",
       "  <tbody>\n",
       "    <tr>\n",
       "      <th>0</th>\n",
       "      <td>100m M</td>\n",
       "      <td>2012</td>\n",
       "      <td>Usain Bolt</td>\n",
       "      <td>JAM</td>\n",
       "      <td>9.63</td>\n",
       "      <td>OR</td>\n",
       "      <td>Final</td>\n",
       "      <td>3</td>\n",
       "      <td>100m M100m M200m M</td>\n",
       "    </tr>\n",
       "    <tr>\n",
       "      <th>1</th>\n",
       "      <td>100m M</td>\n",
       "      <td>2008</td>\n",
       "      <td>Usain Bolt</td>\n",
       "      <td>JAM</td>\n",
       "      <td>9.69</td>\n",
       "      <td>WR</td>\n",
       "      <td>Final</td>\n",
       "      <td>3</td>\n",
       "      <td>100m M100m M200m M</td>\n",
       "    </tr>\n",
       "    <tr>\n",
       "      <th>6</th>\n",
       "      <td>100m M</td>\n",
       "      <td>1968</td>\n",
       "      <td>Charles Greene</td>\n",
       "      <td>USA</td>\n",
       "      <td>10</td>\n",
       "      <td>EOR</td>\n",
       "      <td>Semifinal</td>\n",
       "      <td>3</td>\n",
       "      <td>100m M100m M100m M</td>\n",
       "    </tr>\n",
       "    <tr>\n",
       "      <th>7</th>\n",
       "      <td>100m M</td>\n",
       "      <td>1968</td>\n",
       "      <td>Charles Greene</td>\n",
       "      <td>USA</td>\n",
       "      <td>10</td>\n",
       "      <td>EOR</td>\n",
       "      <td>Quarterfinal</td>\n",
       "      <td>3</td>\n",
       "      <td>100m M100m M100m M</td>\n",
       "    </tr>\n",
       "    <tr>\n",
       "      <th>8</th>\n",
       "      <td>100m M</td>\n",
       "      <td>1968</td>\n",
       "      <td>Charles Greene</td>\n",
       "      <td>USA</td>\n",
       "      <td>10</td>\n",
       "      <td>EOR</td>\n",
       "      <td>Round 1</td>\n",
       "      <td>3</td>\n",
       "      <td>100m M100m M100m M</td>\n",
       "    </tr>\n",
       "    <tr>\n",
       "      <th>...</th>\n",
       "      <td>...</td>\n",
       "      <td>...</td>\n",
       "      <td>...</td>\n",
       "      <td>...</td>\n",
       "      <td>...</td>\n",
       "      <td>...</td>\n",
       "      <td>...</td>\n",
       "      <td>...</td>\n",
       "      <td>...</td>\n",
       "    </tr>\n",
       "    <tr>\n",
       "      <th>637</th>\n",
       "      <td>Weight Throw M</td>\n",
       "      <td>1920</td>\n",
       "      <td>Patrick McDonald</td>\n",
       "      <td>USA</td>\n",
       "      <td>11.26</td>\n",
       "      <td>OR</td>\n",
       "      <td>Final</td>\n",
       "      <td>3</td>\n",
       "      <td>Weight Throw MWeight Throw MShot Put M</td>\n",
       "    </tr>\n",
       "    <tr>\n",
       "      <th>638</th>\n",
       "      <td>Weight Throw M</td>\n",
       "      <td>1920</td>\n",
       "      <td>Patrick McDonald</td>\n",
       "      <td>USA</td>\n",
       "      <td>11</td>\n",
       "      <td>OR</td>\n",
       "      <td>Qualifying Round</td>\n",
       "      <td>3</td>\n",
       "      <td>Weight Throw MWeight Throw MShot Put M</td>\n",
       "    </tr>\n",
       "    <tr>\n",
       "      <th>653</th>\n",
       "      <td>Shot Put M</td>\n",
       "      <td>1912</td>\n",
       "      <td>Patrick McDonald</td>\n",
       "      <td>USA</td>\n",
       "      <td>15.34</td>\n",
       "      <td>OR</td>\n",
       "      <td>Final</td>\n",
       "      <td>3</td>\n",
       "      <td>Weight Throw MWeight Throw MShot Put M</td>\n",
       "    </tr>\n",
       "    <tr>\n",
       "      <th>661</th>\n",
       "      <td>Shot Put W</td>\n",
       "      <td>1964</td>\n",
       "      <td>Tamara Press</td>\n",
       "      <td>URS</td>\n",
       "      <td>18.14</td>\n",
       "      <td>OR</td>\n",
       "      <td>Final</td>\n",
       "      <td>3</td>\n",
       "      <td>Discus Throw WShot Put WShot Put W</td>\n",
       "    </tr>\n",
       "    <tr>\n",
       "      <th>662</th>\n",
       "      <td>Shot Put W</td>\n",
       "      <td>1960</td>\n",
       "      <td>Tamara Press</td>\n",
       "      <td>URS</td>\n",
       "      <td>17.32</td>\n",
       "      <td>OR</td>\n",
       "      <td>Final</td>\n",
       "      <td>3</td>\n",
       "      <td>Discus Throw WShot Put WShot Put W</td>\n",
       "    </tr>\n",
       "  </tbody>\n",
       "</table>\n",
       "<p>138 rows × 9 columns</p>\n",
       "</div>"
      ],
      "text/plain": [
       "              Event  Year           Athlete Country   Mark Record  \\\n",
       "0            100m M  2012        Usain Bolt     JAM   9.63     OR   \n",
       "1            100m M  2008        Usain Bolt     JAM   9.69     WR   \n",
       "6            100m M  1968    Charles Greene     USA     10    EOR   \n",
       "7            100m M  1968    Charles Greene     USA     10    EOR   \n",
       "8            100m M  1968    Charles Greene     USA     10    EOR   \n",
       "..              ...   ...               ...     ...    ...    ...   \n",
       "637  Weight Throw M  1920  Patrick McDonald     USA  11.26     OR   \n",
       "638  Weight Throw M  1920  Patrick McDonald     USA     11     OR   \n",
       "653      Shot Put M  1912  Patrick McDonald     USA  15.34     OR   \n",
       "661      Shot Put W  1964      Tamara Press     URS  18.14     OR   \n",
       "662      Shot Put W  1960      Tamara Press     URS  17.32     OR   \n",
       "\n",
       "                Round  Total_Records                      discipline_records  \n",
       "0               Final              3                      100m M100m M200m M  \n",
       "1               Final              3                      100m M100m M200m M  \n",
       "6           Semifinal              3                      100m M100m M100m M  \n",
       "7        Quarterfinal              3                      100m M100m M100m M  \n",
       "8             Round 1              3                      100m M100m M100m M  \n",
       "..                ...            ...                                     ...  \n",
       "637             Final              3  Weight Throw MWeight Throw MShot Put M  \n",
       "638  Qualifying Round              3  Weight Throw MWeight Throw MShot Put M  \n",
       "653             Final              3  Weight Throw MWeight Throw MShot Put M  \n",
       "661             Final              3      Discus Throw WShot Put WShot Put W  \n",
       "662             Final              3      Discus Throw WShot Put WShot Put W  \n",
       "\n",
       "[138 rows x 9 columns]"
      ]
     },
     "execution_count": 128,
     "metadata": {},
     "output_type": "execute_result"
    }
   ],
   "source": [
    "records"
   ]
  },
  {
   "cell_type": "code",
   "execution_count": null,
   "metadata": {},
   "outputs": [
    {
     "data": {
      "text/html": [
       "<div>\n",
       "<style scoped>\n",
       "    .dataframe tbody tr th:only-of-type {\n",
       "        vertical-align: middle;\n",
       "    }\n",
       "\n",
       "    .dataframe tbody tr th {\n",
       "        vertical-align: top;\n",
       "    }\n",
       "\n",
       "    .dataframe thead th {\n",
       "        text-align: right;\n",
       "    }\n",
       "</style>\n",
       "<table border=\"1\" class=\"dataframe\">\n",
       "  <thead>\n",
       "    <tr style=\"text-align: right;\">\n",
       "      <th></th>\n",
       "      <th>Event</th>\n",
       "      <th>Year</th>\n",
       "      <th>Athlete</th>\n",
       "      <th>Country</th>\n",
       "      <th>Mark</th>\n",
       "      <th>Record</th>\n",
       "      <th>Round</th>\n",
       "      <th>Total_Records</th>\n",
       "      <th>discipline_records</th>\n",
       "    </tr>\n",
       "  </thead>\n",
       "  <tbody>\n",
       "    <tr>\n",
       "      <th>0</th>\n",
       "      <td>100m M</td>\n",
       "      <td>2012</td>\n",
       "      <td>Usain Bolt</td>\n",
       "      <td>JAM</td>\n",
       "      <td>9.63</td>\n",
       "      <td>OR</td>\n",
       "      <td>Final</td>\n",
       "      <td>3</td>\n",
       "      <td>100m M100m M200m M</td>\n",
       "    </tr>\n",
       "    <tr>\n",
       "      <th>246</th>\n",
       "      <td>10000m M</td>\n",
       "      <td>1928</td>\n",
       "      <td>Paavo Nurmi</td>\n",
       "      <td>FIN</td>\n",
       "      <td>30.18,8</td>\n",
       "      <td>OR</td>\n",
       "      <td>Final</td>\n",
       "      <td>3</td>\n",
       "      <td>1500m M5000m M10000m M</td>\n",
       "    </tr>\n",
       "    <tr>\n",
       "      <th>244</th>\n",
       "      <td>10000m M</td>\n",
       "      <td>1952</td>\n",
       "      <td>Emil Zatopek</td>\n",
       "      <td>TCH</td>\n",
       "      <td>29.17,0</td>\n",
       "      <td>OR</td>\n",
       "      <td>Final</td>\n",
       "      <td>3</td>\n",
       "      <td>5000m M10000m MMarathon M</td>\n",
       "    </tr>\n",
       "    <tr>\n",
       "      <th>236</th>\n",
       "      <td>10000m M</td>\n",
       "      <td>2004</td>\n",
       "      <td>Kenenisa Bekele</td>\n",
       "      <td>ETH</td>\n",
       "      <td>27.05,10</td>\n",
       "      <td>OR</td>\n",
       "      <td>Final</td>\n",
       "      <td>3</td>\n",
       "      <td>5000m M10000m M10000m M</td>\n",
       "    </tr>\n",
       "    <tr>\n",
       "      <th>235</th>\n",
       "      <td>10000m M</td>\n",
       "      <td>2008</td>\n",
       "      <td>Kenenisa Bekele</td>\n",
       "      <td>ETH</td>\n",
       "      <td>27.01,17</td>\n",
       "      <td>OR</td>\n",
       "      <td>Final</td>\n",
       "      <td>3</td>\n",
       "      <td>5000m M10000m M10000m M</td>\n",
       "    </tr>\n",
       "    <tr>\n",
       "      <th>...</th>\n",
       "      <td>...</td>\n",
       "      <td>...</td>\n",
       "      <td>...</td>\n",
       "      <td>...</td>\n",
       "      <td>...</td>\n",
       "      <td>...</td>\n",
       "      <td>...</td>\n",
       "      <td>...</td>\n",
       "      <td>...</td>\n",
       "    </tr>\n",
       "    <tr>\n",
       "      <th>577</th>\n",
       "      <td>Discus Throw M</td>\n",
       "      <td>1968</td>\n",
       "      <td>Al Oerter</td>\n",
       "      <td>USA</td>\n",
       "      <td>64.78</td>\n",
       "      <td>OR</td>\n",
       "      <td>Final</td>\n",
       "      <td>6</td>\n",
       "      <td>Discus Throw MDiscus Throw MDiscus Throw MDisc...</td>\n",
       "    </tr>\n",
       "    <tr>\n",
       "      <th>37</th>\n",
       "      <td>100m W</td>\n",
       "      <td>1988</td>\n",
       "      <td>Florence Griffith Joyner</td>\n",
       "      <td>USA</td>\n",
       "      <td>10.54</td>\n",
       "      <td>OR</td>\n",
       "      <td>Final</td>\n",
       "      <td>6</td>\n",
       "      <td>100m W100m W100m W200m W200m W200m W</td>\n",
       "    </tr>\n",
       "    <tr>\n",
       "      <th>38</th>\n",
       "      <td>100m W</td>\n",
       "      <td>1988</td>\n",
       "      <td>Florence Griffith Joyner</td>\n",
       "      <td>USA</td>\n",
       "      <td>10.62</td>\n",
       "      <td>OR</td>\n",
       "      <td>Quarterfinal</td>\n",
       "      <td>6</td>\n",
       "      <td>100m W100m W100m W200m W200m W200m W</td>\n",
       "    </tr>\n",
       "    <tr>\n",
       "      <th>101</th>\n",
       "      <td>200m W</td>\n",
       "      <td>1988</td>\n",
       "      <td>Florence Griffith Joyner</td>\n",
       "      <td>USA</td>\n",
       "      <td>21.34</td>\n",
       "      <td>WR</td>\n",
       "      <td>Final</td>\n",
       "      <td>6</td>\n",
       "      <td>100m W100m W100m W200m W200m W200m W</td>\n",
       "    </tr>\n",
       "    <tr>\n",
       "      <th>580</th>\n",
       "      <td>Discus Throw M</td>\n",
       "      <td>1964</td>\n",
       "      <td>Al Oerter</td>\n",
       "      <td>USA</td>\n",
       "      <td>60.54</td>\n",
       "      <td>OR</td>\n",
       "      <td>Qualifying Round</td>\n",
       "      <td>6</td>\n",
       "      <td>Discus Throw MDiscus Throw MDiscus Throw MDisc...</td>\n",
       "    </tr>\n",
       "  </tbody>\n",
       "</table>\n",
       "<p>138 rows × 9 columns</p>\n",
       "</div>"
      ],
      "text/plain": [
       "              Event  Year                   Athlete Country      Mark Record  \\\n",
       "0            100m M  2012                Usain Bolt     JAM      9.63     OR   \n",
       "246        10000m M  1928               Paavo Nurmi     FIN   30.18,8     OR   \n",
       "244        10000m M  1952              Emil Zatopek     TCH   29.17,0     OR   \n",
       "236        10000m M  2004           Kenenisa Bekele     ETH  27.05,10     OR   \n",
       "235        10000m M  2008           Kenenisa Bekele     ETH  27.01,17     OR   \n",
       "..              ...   ...                       ...     ...       ...    ...   \n",
       "577  Discus Throw M  1968                 Al Oerter     USA     64.78     OR   \n",
       "37           100m W  1988  Florence Griffith Joyner     USA     10.54     OR   \n",
       "38           100m W  1988  Florence Griffith Joyner     USA     10.62     OR   \n",
       "101          200m W  1988  Florence Griffith Joyner     USA     21.34     WR   \n",
       "580  Discus Throw M  1964                 Al Oerter     USA     60.54     OR   \n",
       "\n",
       "                Round  Total_Records  \\\n",
       "0               Final              3   \n",
       "246             Final              3   \n",
       "244             Final              3   \n",
       "236             Final              3   \n",
       "235             Final              3   \n",
       "..                ...            ...   \n",
       "577             Final              6   \n",
       "37              Final              6   \n",
       "38       Quarterfinal              6   \n",
       "101             Final              6   \n",
       "580  Qualifying Round              6   \n",
       "\n",
       "                                    discipline_records  \n",
       "0                                   100m M100m M200m M  \n",
       "246                             1500m M5000m M10000m M  \n",
       "244                          5000m M10000m MMarathon M  \n",
       "236                            5000m M10000m M10000m M  \n",
       "235                            5000m M10000m M10000m M  \n",
       "..                                                 ...  \n",
       "577  Discus Throw MDiscus Throw MDiscus Throw MDisc...  \n",
       "37                100m W100m W100m W200m W200m W200m W  \n",
       "38                100m W100m W100m W200m W200m W200m W  \n",
       "101               100m W100m W100m W200m W200m W200m W  \n",
       "580  Discus Throw MDiscus Throw MDiscus Throw MDisc...  \n",
       "\n",
       "[138 rows x 9 columns]"
      ]
     },
     "execution_count": 129,
     "metadata": {},
     "output_type": "execute_result"
    }
   ],
   "source": [
    "records.sort_values(by=\"Total_Records\")"
   ]
  },
  {
   "cell_type": "code",
   "execution_count": null,
   "metadata": {},
   "outputs": [],
   "source": [
    "records.dropna(inplace=True)"
   ]
  },
  {
   "cell_type": "code",
   "execution_count": null,
   "metadata": {},
   "outputs": [],
   "source": [
    "records=records[records[\"Total_Records\"]>=3]"
   ]
  },
  {
   "cell_type": "code",
   "execution_count": null,
   "metadata": {},
   "outputs": [
    {
     "data": {
      "text/html": [
       "<div>\n",
       "<style scoped>\n",
       "    .dataframe tbody tr th:only-of-type {\n",
       "        vertical-align: middle;\n",
       "    }\n",
       "\n",
       "    .dataframe tbody tr th {\n",
       "        vertical-align: top;\n",
       "    }\n",
       "\n",
       "    .dataframe thead th {\n",
       "        text-align: right;\n",
       "    }\n",
       "</style>\n",
       "<table border=\"1\" class=\"dataframe\">\n",
       "  <thead>\n",
       "    <tr style=\"text-align: right;\">\n",
       "      <th></th>\n",
       "      <th>Event</th>\n",
       "      <th>Year</th>\n",
       "      <th>Athlete</th>\n",
       "      <th>Country</th>\n",
       "      <th>Mark</th>\n",
       "      <th>Record</th>\n",
       "      <th>Round</th>\n",
       "      <th>Total_Records</th>\n",
       "      <th>discipline_records</th>\n",
       "    </tr>\n",
       "  </thead>\n",
       "  <tbody>\n",
       "    <tr>\n",
       "      <th>0</th>\n",
       "      <td>100m M</td>\n",
       "      <td>2012</td>\n",
       "      <td>Usain Bolt</td>\n",
       "      <td>JAM</td>\n",
       "      <td>9.63</td>\n",
       "      <td>OR</td>\n",
       "      <td>Final</td>\n",
       "      <td>3</td>\n",
       "      <td>100m M100m M200m M</td>\n",
       "    </tr>\n",
       "    <tr>\n",
       "      <th>1</th>\n",
       "      <td>100m M</td>\n",
       "      <td>2008</td>\n",
       "      <td>Usain Bolt</td>\n",
       "      <td>JAM</td>\n",
       "      <td>9.69</td>\n",
       "      <td>WR</td>\n",
       "      <td>Final</td>\n",
       "      <td>3</td>\n",
       "      <td>100m M100m M200m M</td>\n",
       "    </tr>\n",
       "    <tr>\n",
       "      <th>6</th>\n",
       "      <td>100m M</td>\n",
       "      <td>1968</td>\n",
       "      <td>Charles Greene</td>\n",
       "      <td>USA</td>\n",
       "      <td>10</td>\n",
       "      <td>EOR</td>\n",
       "      <td>Semifinal</td>\n",
       "      <td>3</td>\n",
       "      <td>100m M100m M100m M</td>\n",
       "    </tr>\n",
       "    <tr>\n",
       "      <th>7</th>\n",
       "      <td>100m M</td>\n",
       "      <td>1968</td>\n",
       "      <td>Charles Greene</td>\n",
       "      <td>USA</td>\n",
       "      <td>10</td>\n",
       "      <td>EOR</td>\n",
       "      <td>Quarterfinal</td>\n",
       "      <td>3</td>\n",
       "      <td>100m M100m M100m M</td>\n",
       "    </tr>\n",
       "    <tr>\n",
       "      <th>8</th>\n",
       "      <td>100m M</td>\n",
       "      <td>1968</td>\n",
       "      <td>Charles Greene</td>\n",
       "      <td>USA</td>\n",
       "      <td>10</td>\n",
       "      <td>EOR</td>\n",
       "      <td>Round 1</td>\n",
       "      <td>3</td>\n",
       "      <td>100m M100m M100m M</td>\n",
       "    </tr>\n",
       "    <tr>\n",
       "      <th>...</th>\n",
       "      <td>...</td>\n",
       "      <td>...</td>\n",
       "      <td>...</td>\n",
       "      <td>...</td>\n",
       "      <td>...</td>\n",
       "      <td>...</td>\n",
       "      <td>...</td>\n",
       "      <td>...</td>\n",
       "      <td>...</td>\n",
       "    </tr>\n",
       "    <tr>\n",
       "      <th>637</th>\n",
       "      <td>Weight Throw M</td>\n",
       "      <td>1920</td>\n",
       "      <td>Patrick McDonald</td>\n",
       "      <td>USA</td>\n",
       "      <td>11.26</td>\n",
       "      <td>OR</td>\n",
       "      <td>Final</td>\n",
       "      <td>3</td>\n",
       "      <td>Weight Throw MWeight Throw MShot Put M</td>\n",
       "    </tr>\n",
       "    <tr>\n",
       "      <th>638</th>\n",
       "      <td>Weight Throw M</td>\n",
       "      <td>1920</td>\n",
       "      <td>Patrick McDonald</td>\n",
       "      <td>USA</td>\n",
       "      <td>11</td>\n",
       "      <td>OR</td>\n",
       "      <td>Qualifying Round</td>\n",
       "      <td>3</td>\n",
       "      <td>Weight Throw MWeight Throw MShot Put M</td>\n",
       "    </tr>\n",
       "    <tr>\n",
       "      <th>653</th>\n",
       "      <td>Shot Put M</td>\n",
       "      <td>1912</td>\n",
       "      <td>Patrick McDonald</td>\n",
       "      <td>USA</td>\n",
       "      <td>15.34</td>\n",
       "      <td>OR</td>\n",
       "      <td>Final</td>\n",
       "      <td>3</td>\n",
       "      <td>Weight Throw MWeight Throw MShot Put M</td>\n",
       "    </tr>\n",
       "    <tr>\n",
       "      <th>661</th>\n",
       "      <td>Shot Put W</td>\n",
       "      <td>1964</td>\n",
       "      <td>Tamara Press</td>\n",
       "      <td>URS</td>\n",
       "      <td>18.14</td>\n",
       "      <td>OR</td>\n",
       "      <td>Final</td>\n",
       "      <td>3</td>\n",
       "      <td>Discus Throw WShot Put WShot Put W</td>\n",
       "    </tr>\n",
       "    <tr>\n",
       "      <th>662</th>\n",
       "      <td>Shot Put W</td>\n",
       "      <td>1960</td>\n",
       "      <td>Tamara Press</td>\n",
       "      <td>URS</td>\n",
       "      <td>17.32</td>\n",
       "      <td>OR</td>\n",
       "      <td>Final</td>\n",
       "      <td>3</td>\n",
       "      <td>Discus Throw WShot Put WShot Put W</td>\n",
       "    </tr>\n",
       "  </tbody>\n",
       "</table>\n",
       "<p>138 rows × 9 columns</p>\n",
       "</div>"
      ],
      "text/plain": [
       "              Event  Year           Athlete Country   Mark Record  \\\n",
       "0            100m M  2012        Usain Bolt     JAM   9.63     OR   \n",
       "1            100m M  2008        Usain Bolt     JAM   9.69     WR   \n",
       "6            100m M  1968    Charles Greene     USA     10    EOR   \n",
       "7            100m M  1968    Charles Greene     USA     10    EOR   \n",
       "8            100m M  1968    Charles Greene     USA     10    EOR   \n",
       "..              ...   ...               ...     ...    ...    ...   \n",
       "637  Weight Throw M  1920  Patrick McDonald     USA  11.26     OR   \n",
       "638  Weight Throw M  1920  Patrick McDonald     USA     11     OR   \n",
       "653      Shot Put M  1912  Patrick McDonald     USA  15.34     OR   \n",
       "661      Shot Put W  1964      Tamara Press     URS  18.14     OR   \n",
       "662      Shot Put W  1960      Tamara Press     URS  17.32     OR   \n",
       "\n",
       "                Round  Total_Records                      discipline_records  \n",
       "0               Final              3                      100m M100m M200m M  \n",
       "1               Final              3                      100m M100m M200m M  \n",
       "6           Semifinal              3                      100m M100m M100m M  \n",
       "7        Quarterfinal              3                      100m M100m M100m M  \n",
       "8             Round 1              3                      100m M100m M100m M  \n",
       "..                ...            ...                                     ...  \n",
       "637             Final              3  Weight Throw MWeight Throw MShot Put M  \n",
       "638  Qualifying Round              3  Weight Throw MWeight Throw MShot Put M  \n",
       "653             Final              3  Weight Throw MWeight Throw MShot Put M  \n",
       "661             Final              3      Discus Throw WShot Put WShot Put W  \n",
       "662             Final              3      Discus Throw WShot Put WShot Put W  \n",
       "\n",
       "[138 rows x 9 columns]"
      ]
     },
     "execution_count": 132,
     "metadata": {},
     "output_type": "execute_result"
    }
   ],
   "source": [
    "records"
   ]
  },
  {
   "cell_type": "code",
   "execution_count": null,
   "metadata": {},
   "outputs": [
    {
     "data": {
      "application/vnd.plotly.v1+json": {
       "config": {
        "plotlyServerURL": "https://plot.ly"
       },
       "data": [
        {
         "alignmentgroup": "True",
         "hovertemplate": "<b>%{hovertext}</b><br><br>Athlete=%{x}<br>Total_Records=%{y}<extra></extra>",
         "hovertext": [
          "100m M100m M200m M",
          "100m M100m M200m M",
          "100m M100m M100m M",
          "100m M100m M100m M",
          "100m M100m M100m M",
          "100m M100m M200m M",
          "100m M100m M200m M",
          "100m M200m M200m M200m MLong Jump M",
          "100m M100m M200m M200m M",
          "100m M100m M200m M200m M",
          "100m M100m M100m M",
          "100m M100m M100m M",
          "100m M100m M100m M",
          "100m M200m M400m hurdles M400m hurdles M",
          "100m W100m W100m W200m W200m W200m W",
          "100m W100m W100m W200m W200m W200m W",
          "100m W100m W100m W200m W200m W200m W",
          "100m W100m W100m W100m W",
          "100m W100m W100m W100m W",
          "100m W200m W400m W400m W",
          "100m W200m W200m W",
          "100m W200m W200m W",
          "100m W100m W100m W100m W",
          "100m W100m W100m W100m W",
          "100m W100m W200m W200m W",
          "100m W100m W200m W200m W",
          "100m W100m W100m W",
          "100m W100m W100m W",
          "100m W100m W100m W",
          "100m M100m M200m M",
          "200m M200m M200m M200m M",
          "200m M200m M200m M200m M",
          "200m M200m M200m M200m M",
          "200m M200m M200m M200m M",
          "100m M100m M200m M",
          "100m M200m M200m M200m MLong Jump M",
          "100m M200m M200m M200m MLong Jump M",
          "100m M200m M200m M200m MLong Jump M",
          "100m M100m M200m M200m M",
          "100m M100m M200m M200m M",
          "100m M200m M400m hurdles M400m hurdles M",
          "100m W100m W100m W200m W200m W200m W",
          "100m W100m W100m W200m W200m W200m W",
          "100m W100m W100m W200m W200m W200m W",
          "100m W200m W400m W400m W",
          "100m W200m W200m W",
          "100m W200m W200m W",
          "100m W200m W200m W",
          "100m W200m W200m W",
          "100m W100m W200m W200m W",
          "100m W100m W200m W200m W",
          "200m W200m W100m hurdles W100m hurdles W",
          "200m W200m W100m hurdles W100m hurdles W",
          "400m M400m M400m M",
          "400m M400m M400m M",
          "400m M400m M400m M",
          "100m W200m W400m W400m W",
          "100m W200m W400m W400m W",
          "400m W400m W800m W",
          "400m W400m W800m W",
          "800m M1500m M1500m M",
          "800m W1500m W1500m W",
          "400m W400m W800m W",
          "1500m M5000m M10000m M",
          "800m M1500m M1500m M",
          "800m M1500m M1500m M",
          "800m W1500m W1500m W",
          "800m W1500m W1500m W",
          "1500m W1500m W1500m W",
          "1500m W1500m W1500m W",
          "1500m W1500m W1500m W",
          "5000m M10000m M10000m M",
          "5000m M10000m MMarathon M",
          "1500m M5000m M10000m M",
          "5000m M10000m M10000m MMarathon M",
          "5000m M10000m M10000m M",
          "5000m M10000m M10000m M",
          "5000m M10000m MMarathon M",
          "1500m M5000m M10000m M",
          "5000m M10000m M10000m MMarathon M",
          "5000m M10000m M10000m MMarathon M",
          "5000m M10000m MMarathon M",
          "5000m M10000m M10000m MMarathon M",
          "100m hurdles W100m hurdles W100m hurdles W",
          "100m hurdles W100m hurdles W100m hurdles W",
          "100m hurdles W100m hurdles W100m hurdles W",
          "100m hurdles W100m hurdles W100m hurdles W100m hurdles W100m hurdles W",
          "100m hurdles W100m hurdles W100m hurdles W100m hurdles W100m hurdles W",
          "100m hurdles W100m hurdles W100m hurdles W100m hurdles W100m hurdles W",
          "100m hurdles W100m hurdles W100m hurdles W100m hurdles W100m hurdles W",
          "100m hurdles W100m hurdles W100m hurdles W100m hurdles W100m hurdles W",
          "200m W200m W100m hurdles W100m hurdles W",
          "200m W200m W100m hurdles W100m hurdles W",
          "100m hurdles W100m hurdles WHigh Jump WJavelin Throw W",
          "100m hurdles W100m hurdles WHigh Jump WJavelin Throw W",
          "110m hurdles M110m hurdles M110m hurdles M110m hurdles M",
          "110m hurdles M110m hurdles M110m hurdles M110m hurdles M",
          "110m hurdles M110m hurdles M110m hurdles M110m hurdles M",
          "110m hurdles M110m hurdles M110m hurdles M110m hurdles M",
          "110m hurdles M110m hurdles MLong Jump M",
          "110m hurdles M110m hurdles MLong Jump M",
          "100m M200m M400m hurdles M400m hurdles M",
          "100m M200m M400m hurdles M400m hurdles M",
          "100m hurdles W100m hurdles WHigh Jump WJavelin Throw W",
          "100m M200m M200m M200m MLong Jump M",
          "110m hurdles M110m hurdles MLong Jump M",
          "Triple Jump MTriple Jump MTriple Jump M",
          "Triple Jump MTriple Jump MTriple Jump M",
          "Triple Jump MTriple Jump MTriple Jump M",
          "Javelin Throw MJavelin Throw MJavelin Throw M",
          "Javelin Throw MJavelin Throw MJavelin Throw M",
          "Javelin Throw MJavelin Throw MJavelin Throw M",
          "100m hurdles W100m hurdles WHigh Jump WJavelin Throw W",
          "Discus Throw MDiscus Throw MDiscus Throw MDiscus Throw MDiscus Throw MDiscus Throw M",
          "Discus Throw MDiscus Throw MDiscus Throw MDiscus Throw MDiscus Throw MDiscus Throw M",
          "Discus Throw MDiscus Throw MDiscus Throw MDiscus Throw MDiscus Throw MDiscus Throw M",
          "Discus Throw MDiscus Throw MDiscus Throw MDiscus Throw MDiscus Throw MDiscus Throw M",
          "Discus Throw MDiscus Throw MDiscus Throw MDiscus Throw MDiscus Throw MDiscus Throw M",
          "Discus Throw MDiscus Throw MDiscus Throw MDiscus Throw MDiscus Throw MDiscus Throw M",
          "Discus Throw MDiscus Throw MDiscus Throw MDiscus Throw M",
          "Discus Throw MDiscus Throw MDiscus Throw MDiscus Throw M",
          "Discus Throw MDiscus Throw MDiscus Throw MDiscus Throw M",
          "Discus Throw MDiscus Throw MDiscus Throw MDiscus Throw M",
          "Discus Throw WShot Put WShot Put W",
          "Hammer Throw MHammer Throw MHammer Throw M",
          "Hammer Throw MHammer Throw MHammer Throw M",
          "Hammer Throw MHammer Throw MHammer Throw M",
          "Hammer Throw MHammer Throw MHammer Throw M",
          "Hammer Throw MHammer Throw MHammer Throw M",
          "Hammer Throw MHammer Throw MHammer Throw M",
          "Hammer Throw WHammer Throw WHammer Throw W",
          "Hammer Throw WHammer Throw WHammer Throw W",
          "Hammer Throw WHammer Throw WHammer Throw W",
          "Weight Throw MWeight Throw MShot Put M",
          "Weight Throw MWeight Throw MShot Put M",
          "Weight Throw MWeight Throw MShot Put M",
          "Discus Throw WShot Put WShot Put W",
          "Discus Throw WShot Put WShot Put W"
         ],
         "legendgroup": "",
         "marker": {
          "color": "#636efa",
          "pattern": {
           "shape": ""
          }
         },
         "name": "",
         "offsetgroup": "",
         "orientation": "v",
         "showlegend": false,
         "textposition": "auto",
         "type": "bar",
         "x": [
          "Usain Bolt",
          "Usain Bolt",
          "Charles Greene",
          "Charles Greene",
          "Charles Greene",
          "Bobby Morrow",
          "Bobby Morrow",
          "Jesse Owens",
          "Eddie Tolan",
          "Eddie Tolan",
          "Harold Abrahams",
          "Harold Abrahams",
          "Harold Abrahams",
          "Walter Tewksbury",
          "Florence Griffith Joyner",
          "Florence Griffith Joyner",
          "Florence Griffith Joyner",
          "Wyomia Tyus",
          "Wyomia Tyus",
          "Irena Szewinska",
          "Raelene Boyle",
          "Barbara Ferrell",
          "Wyomia Tyus",
          "Wyomia Tyus",
          "Marjorie Jackson",
          "Marjorie Jackson",
          "Stanislawa Walasiewicz",
          "Stanislawa Walasiewicz",
          "Stanislawa Walasiewicz",
          "Usain Bolt",
          "Tommie Smith",
          "Tommie Smith",
          "Tommie Smith",
          "Tommie Smith",
          "Bobby Morrow",
          "Jesse Owens",
          "Jesse Owens",
          "Jesse Owens",
          "Eddie Tolan",
          "Eddie Tolan",
          "Walter Tewksbury",
          "Florence Griffith Joyner",
          "Florence Griffith Joyner",
          "Florence Griffith Joyner",
          "Irena Szewinska",
          "Raelene Boyle",
          "Raelene Boyle",
          "Barbara Ferrell",
          "Barbara Ferrell",
          "Marjorie Jackson",
          "Marjorie Jackson",
          "Fanny Blankers-Koen",
          "Fanny Blankers-Koen",
          "Otis Davis",
          "Otis Davis",
          "Otis Davis",
          "Irena Szewinska",
          "Irena Szewinska",
          "Ann Packer",
          "Ann Packer",
          "Melvin Sheppard",
          "Tatyana Kazankina",
          "Ann Packer",
          "Paavo Nurmi",
          "Melvin Sheppard",
          "Melvin Sheppard",
          "Tatyana Kazankina",
          "Tatyana Kazankina",
          "Lyudmila Bragina",
          "Lyudmila Bragina",
          "Lyudmila Bragina",
          "Kenenisa Bekele",
          "Emil Zatopek",
          "Paavo Nurmi",
          "Hannes Kolehmainen",
          "Kenenisa Bekele",
          "Kenenisa Bekele",
          "Emil Zatopek",
          "Paavo Nurmi",
          "Hannes Kolehmainen",
          "Hannes Kolehmainen",
          "Emil Zatopek",
          "Hannes Kolehmainen",
          "Pamela Kilborn",
          "Pamela Kilborn",
          "Pamela Kilborn",
          "Shirley Strickland",
          "Shirley Strickland",
          "Shirley Strickland",
          "Shirley Strickland",
          "Shirley Strickland",
          "Fanny Blankers-Koen",
          "Fanny Blankers-Koen",
          "Mildred Didrikson",
          "Mildred Didrikson",
          "Roger Kingdom",
          "Roger Kingdom",
          "Roger Kingdom",
          "Roger Kingdom",
          "Alvin Kraenzlein",
          "Alvin Kraenzlein",
          "Walter Tewksbury",
          "Walter Tewksbury",
          "Mildred Didrikson",
          "Jesse Owens",
          "Alvin Kraenzlein",
          "Jozef Schmidt",
          "Jozef Schmidt",
          "Jozef Schmidt",
          "Jan Zelezný",
          "Jan Zelezný",
          "Jan Zelezný",
          "Mildred Didrikson",
          "Al Oerter",
          "Al Oerter",
          "Al Oerter",
          "Al Oerter",
          "Al Oerter",
          "Al Oerter",
          "Clarence Houser",
          "Clarence Houser",
          "Clarence Houser",
          "Clarence Houser",
          "Tamara Press",
          "Yuri Sedykh",
          "Yuri Sedykh",
          "Yuri Sedykh",
          "John Flanagan",
          "John Flanagan",
          "John Flanagan",
          "Olga Kuzenkova",
          "Olga Kuzenkova",
          "Olga Kuzenkova",
          "Patrick McDonald",
          "Patrick McDonald",
          "Patrick McDonald",
          "Tamara Press",
          "Tamara Press"
         ],
         "xaxis": "x",
         "y": [
          3,
          3,
          3,
          3,
          3,
          3,
          3,
          5,
          4,
          4,
          3,
          3,
          3,
          4,
          6,
          6,
          6,
          4,
          4,
          4,
          3,
          3,
          4,
          4,
          4,
          4,
          3,
          3,
          3,
          3,
          4,
          4,
          4,
          4,
          3,
          5,
          5,
          5,
          4,
          4,
          4,
          6,
          6,
          6,
          4,
          3,
          3,
          3,
          3,
          4,
          4,
          4,
          4,
          3,
          3,
          3,
          4,
          4,
          3,
          3,
          3,
          3,
          3,
          3,
          3,
          3,
          3,
          3,
          3,
          3,
          3,
          3,
          3,
          3,
          4,
          3,
          3,
          3,
          3,
          4,
          4,
          3,
          4,
          3,
          3,
          3,
          5,
          5,
          5,
          5,
          5,
          4,
          4,
          4,
          4,
          4,
          4,
          4,
          4,
          3,
          3,
          4,
          4,
          4,
          5,
          3,
          3,
          3,
          3,
          3,
          3,
          3,
          4,
          6,
          6,
          6,
          6,
          6,
          6,
          4,
          4,
          4,
          4,
          3,
          3,
          3,
          3,
          3,
          3,
          3,
          3,
          3,
          3,
          3,
          3,
          3,
          3,
          3
         ],
         "yaxis": "y"
        }
       ],
       "layout": {
        "barmode": "relative",
        "legend": {
         "tracegroupgap": 0
        },
        "template": {
         "data": {
          "bar": [
           {
            "error_x": {
             "color": "#2a3f5f"
            },
            "error_y": {
             "color": "#2a3f5f"
            },
            "marker": {
             "line": {
              "color": "#E5ECF6",
              "width": 0.5
             },
             "pattern": {
              "fillmode": "overlay",
              "size": 10,
              "solidity": 0.2
             }
            },
            "type": "bar"
           }
          ],
          "barpolar": [
           {
            "marker": {
             "line": {
              "color": "#E5ECF6",
              "width": 0.5
             },
             "pattern": {
              "fillmode": "overlay",
              "size": 10,
              "solidity": 0.2
             }
            },
            "type": "barpolar"
           }
          ],
          "carpet": [
           {
            "aaxis": {
             "endlinecolor": "#2a3f5f",
             "gridcolor": "white",
             "linecolor": "white",
             "minorgridcolor": "white",
             "startlinecolor": "#2a3f5f"
            },
            "baxis": {
             "endlinecolor": "#2a3f5f",
             "gridcolor": "white",
             "linecolor": "white",
             "minorgridcolor": "white",
             "startlinecolor": "#2a3f5f"
            },
            "type": "carpet"
           }
          ],
          "choropleth": [
           {
            "colorbar": {
             "outlinewidth": 0,
             "ticks": ""
            },
            "type": "choropleth"
           }
          ],
          "contour": [
           {
            "colorbar": {
             "outlinewidth": 0,
             "ticks": ""
            },
            "colorscale": [
             [
              0,
              "#0d0887"
             ],
             [
              0.1111111111111111,
              "#46039f"
             ],
             [
              0.2222222222222222,
              "#7201a8"
             ],
             [
              0.3333333333333333,
              "#9c179e"
             ],
             [
              0.4444444444444444,
              "#bd3786"
             ],
             [
              0.5555555555555556,
              "#d8576b"
             ],
             [
              0.6666666666666666,
              "#ed7953"
             ],
             [
              0.7777777777777778,
              "#fb9f3a"
             ],
             [
              0.8888888888888888,
              "#fdca26"
             ],
             [
              1,
              "#f0f921"
             ]
            ],
            "type": "contour"
           }
          ],
          "contourcarpet": [
           {
            "colorbar": {
             "outlinewidth": 0,
             "ticks": ""
            },
            "type": "contourcarpet"
           }
          ],
          "heatmap": [
           {
            "colorbar": {
             "outlinewidth": 0,
             "ticks": ""
            },
            "colorscale": [
             [
              0,
              "#0d0887"
             ],
             [
              0.1111111111111111,
              "#46039f"
             ],
             [
              0.2222222222222222,
              "#7201a8"
             ],
             [
              0.3333333333333333,
              "#9c179e"
             ],
             [
              0.4444444444444444,
              "#bd3786"
             ],
             [
              0.5555555555555556,
              "#d8576b"
             ],
             [
              0.6666666666666666,
              "#ed7953"
             ],
             [
              0.7777777777777778,
              "#fb9f3a"
             ],
             [
              0.8888888888888888,
              "#fdca26"
             ],
             [
              1,
              "#f0f921"
             ]
            ],
            "type": "heatmap"
           }
          ],
          "heatmapgl": [
           {
            "colorbar": {
             "outlinewidth": 0,
             "ticks": ""
            },
            "colorscale": [
             [
              0,
              "#0d0887"
             ],
             [
              0.1111111111111111,
              "#46039f"
             ],
             [
              0.2222222222222222,
              "#7201a8"
             ],
             [
              0.3333333333333333,
              "#9c179e"
             ],
             [
              0.4444444444444444,
              "#bd3786"
             ],
             [
              0.5555555555555556,
              "#d8576b"
             ],
             [
              0.6666666666666666,
              "#ed7953"
             ],
             [
              0.7777777777777778,
              "#fb9f3a"
             ],
             [
              0.8888888888888888,
              "#fdca26"
             ],
             [
              1,
              "#f0f921"
             ]
            ],
            "type": "heatmapgl"
           }
          ],
          "histogram": [
           {
            "marker": {
             "pattern": {
              "fillmode": "overlay",
              "size": 10,
              "solidity": 0.2
             }
            },
            "type": "histogram"
           }
          ],
          "histogram2d": [
           {
            "colorbar": {
             "outlinewidth": 0,
             "ticks": ""
            },
            "colorscale": [
             [
              0,
              "#0d0887"
             ],
             [
              0.1111111111111111,
              "#46039f"
             ],
             [
              0.2222222222222222,
              "#7201a8"
             ],
             [
              0.3333333333333333,
              "#9c179e"
             ],
             [
              0.4444444444444444,
              "#bd3786"
             ],
             [
              0.5555555555555556,
              "#d8576b"
             ],
             [
              0.6666666666666666,
              "#ed7953"
             ],
             [
              0.7777777777777778,
              "#fb9f3a"
             ],
             [
              0.8888888888888888,
              "#fdca26"
             ],
             [
              1,
              "#f0f921"
             ]
            ],
            "type": "histogram2d"
           }
          ],
          "histogram2dcontour": [
           {
            "colorbar": {
             "outlinewidth": 0,
             "ticks": ""
            },
            "colorscale": [
             [
              0,
              "#0d0887"
             ],
             [
              0.1111111111111111,
              "#46039f"
             ],
             [
              0.2222222222222222,
              "#7201a8"
             ],
             [
              0.3333333333333333,
              "#9c179e"
             ],
             [
              0.4444444444444444,
              "#bd3786"
             ],
             [
              0.5555555555555556,
              "#d8576b"
             ],
             [
              0.6666666666666666,
              "#ed7953"
             ],
             [
              0.7777777777777778,
              "#fb9f3a"
             ],
             [
              0.8888888888888888,
              "#fdca26"
             ],
             [
              1,
              "#f0f921"
             ]
            ],
            "type": "histogram2dcontour"
           }
          ],
          "mesh3d": [
           {
            "colorbar": {
             "outlinewidth": 0,
             "ticks": ""
            },
            "type": "mesh3d"
           }
          ],
          "parcoords": [
           {
            "line": {
             "colorbar": {
              "outlinewidth": 0,
              "ticks": ""
             }
            },
            "type": "parcoords"
           }
          ],
          "pie": [
           {
            "automargin": true,
            "type": "pie"
           }
          ],
          "scatter": [
           {
            "fillpattern": {
             "fillmode": "overlay",
             "size": 10,
             "solidity": 0.2
            },
            "type": "scatter"
           }
          ],
          "scatter3d": [
           {
            "line": {
             "colorbar": {
              "outlinewidth": 0,
              "ticks": ""
             }
            },
            "marker": {
             "colorbar": {
              "outlinewidth": 0,
              "ticks": ""
             }
            },
            "type": "scatter3d"
           }
          ],
          "scattercarpet": [
           {
            "marker": {
             "colorbar": {
              "outlinewidth": 0,
              "ticks": ""
             }
            },
            "type": "scattercarpet"
           }
          ],
          "scattergeo": [
           {
            "marker": {
             "colorbar": {
              "outlinewidth": 0,
              "ticks": ""
             }
            },
            "type": "scattergeo"
           }
          ],
          "scattergl": [
           {
            "marker": {
             "colorbar": {
              "outlinewidth": 0,
              "ticks": ""
             }
            },
            "type": "scattergl"
           }
          ],
          "scattermapbox": [
           {
            "marker": {
             "colorbar": {
              "outlinewidth": 0,
              "ticks": ""
             }
            },
            "type": "scattermapbox"
           }
          ],
          "scatterpolar": [
           {
            "marker": {
             "colorbar": {
              "outlinewidth": 0,
              "ticks": ""
             }
            },
            "type": "scatterpolar"
           }
          ],
          "scatterpolargl": [
           {
            "marker": {
             "colorbar": {
              "outlinewidth": 0,
              "ticks": ""
             }
            },
            "type": "scatterpolargl"
           }
          ],
          "scatterternary": [
           {
            "marker": {
             "colorbar": {
              "outlinewidth": 0,
              "ticks": ""
             }
            },
            "type": "scatterternary"
           }
          ],
          "surface": [
           {
            "colorbar": {
             "outlinewidth": 0,
             "ticks": ""
            },
            "colorscale": [
             [
              0,
              "#0d0887"
             ],
             [
              0.1111111111111111,
              "#46039f"
             ],
             [
              0.2222222222222222,
              "#7201a8"
             ],
             [
              0.3333333333333333,
              "#9c179e"
             ],
             [
              0.4444444444444444,
              "#bd3786"
             ],
             [
              0.5555555555555556,
              "#d8576b"
             ],
             [
              0.6666666666666666,
              "#ed7953"
             ],
             [
              0.7777777777777778,
              "#fb9f3a"
             ],
             [
              0.8888888888888888,
              "#fdca26"
             ],
             [
              1,
              "#f0f921"
             ]
            ],
            "type": "surface"
           }
          ],
          "table": [
           {
            "cells": {
             "fill": {
              "color": "#EBF0F8"
             },
             "line": {
              "color": "white"
             }
            },
            "header": {
             "fill": {
              "color": "#C8D4E3"
             },
             "line": {
              "color": "white"
             }
            },
            "type": "table"
           }
          ]
         },
         "layout": {
          "annotationdefaults": {
           "arrowcolor": "#2a3f5f",
           "arrowhead": 0,
           "arrowwidth": 1
          },
          "autotypenumbers": "strict",
          "coloraxis": {
           "colorbar": {
            "outlinewidth": 0,
            "ticks": ""
           }
          },
          "colorscale": {
           "diverging": [
            [
             0,
             "#8e0152"
            ],
            [
             0.1,
             "#c51b7d"
            ],
            [
             0.2,
             "#de77ae"
            ],
            [
             0.3,
             "#f1b6da"
            ],
            [
             0.4,
             "#fde0ef"
            ],
            [
             0.5,
             "#f7f7f7"
            ],
            [
             0.6,
             "#e6f5d0"
            ],
            [
             0.7,
             "#b8e186"
            ],
            [
             0.8,
             "#7fbc41"
            ],
            [
             0.9,
             "#4d9221"
            ],
            [
             1,
             "#276419"
            ]
           ],
           "sequential": [
            [
             0,
             "#0d0887"
            ],
            [
             0.1111111111111111,
             "#46039f"
            ],
            [
             0.2222222222222222,
             "#7201a8"
            ],
            [
             0.3333333333333333,
             "#9c179e"
            ],
            [
             0.4444444444444444,
             "#bd3786"
            ],
            [
             0.5555555555555556,
             "#d8576b"
            ],
            [
             0.6666666666666666,
             "#ed7953"
            ],
            [
             0.7777777777777778,
             "#fb9f3a"
            ],
            [
             0.8888888888888888,
             "#fdca26"
            ],
            [
             1,
             "#f0f921"
            ]
           ],
           "sequentialminus": [
            [
             0,
             "#0d0887"
            ],
            [
             0.1111111111111111,
             "#46039f"
            ],
            [
             0.2222222222222222,
             "#7201a8"
            ],
            [
             0.3333333333333333,
             "#9c179e"
            ],
            [
             0.4444444444444444,
             "#bd3786"
            ],
            [
             0.5555555555555556,
             "#d8576b"
            ],
            [
             0.6666666666666666,
             "#ed7953"
            ],
            [
             0.7777777777777778,
             "#fb9f3a"
            ],
            [
             0.8888888888888888,
             "#fdca26"
            ],
            [
             1,
             "#f0f921"
            ]
           ]
          },
          "colorway": [
           "#636efa",
           "#EF553B",
           "#00cc96",
           "#ab63fa",
           "#FFA15A",
           "#19d3f3",
           "#FF6692",
           "#B6E880",
           "#FF97FF",
           "#FECB52"
          ],
          "font": {
           "color": "#2a3f5f"
          },
          "geo": {
           "bgcolor": "white",
           "lakecolor": "white",
           "landcolor": "#E5ECF6",
           "showlakes": true,
           "showland": true,
           "subunitcolor": "white"
          },
          "hoverlabel": {
           "align": "left"
          },
          "hovermode": "closest",
          "mapbox": {
           "style": "light"
          },
          "paper_bgcolor": "white",
          "plot_bgcolor": "#E5ECF6",
          "polar": {
           "angularaxis": {
            "gridcolor": "white",
            "linecolor": "white",
            "ticks": ""
           },
           "bgcolor": "#E5ECF6",
           "radialaxis": {
            "gridcolor": "white",
            "linecolor": "white",
            "ticks": ""
           }
          },
          "scene": {
           "xaxis": {
            "backgroundcolor": "#E5ECF6",
            "gridcolor": "white",
            "gridwidth": 2,
            "linecolor": "white",
            "showbackground": true,
            "ticks": "",
            "zerolinecolor": "white"
           },
           "yaxis": {
            "backgroundcolor": "#E5ECF6",
            "gridcolor": "white",
            "gridwidth": 2,
            "linecolor": "white",
            "showbackground": true,
            "ticks": "",
            "zerolinecolor": "white"
           },
           "zaxis": {
            "backgroundcolor": "#E5ECF6",
            "gridcolor": "white",
            "gridwidth": 2,
            "linecolor": "white",
            "showbackground": true,
            "ticks": "",
            "zerolinecolor": "white"
           }
          },
          "shapedefaults": {
           "line": {
            "color": "#2a3f5f"
           }
          },
          "ternary": {
           "aaxis": {
            "gridcolor": "white",
            "linecolor": "white",
            "ticks": ""
           },
           "baxis": {
            "gridcolor": "white",
            "linecolor": "white",
            "ticks": ""
           },
           "bgcolor": "#E5ECF6",
           "caxis": {
            "gridcolor": "white",
            "linecolor": "white",
            "ticks": ""
           }
          },
          "title": {
           "x": 0.05
          },
          "xaxis": {
           "automargin": true,
           "gridcolor": "white",
           "linecolor": "white",
           "ticks": "",
           "title": {
            "standoff": 15
           },
           "zerolinecolor": "white",
           "zerolinewidth": 2
          },
          "yaxis": {
           "automargin": true,
           "gridcolor": "white",
           "linecolor": "white",
           "ticks": "",
           "title": {
            "standoff": 15
           },
           "zerolinecolor": "white",
           "zerolinewidth": 2
          }
         }
        },
        "title": {
         "text": "Athletism Record-Masters"
        },
        "xaxis": {
         "anchor": "y",
         "domain": [
          0,
          1
         ],
         "title": {
          "text": "Athlete"
         }
        },
        "yaxis": {
         "anchor": "x",
         "domain": [
          0,
          1
         ],
         "title": {
          "text": "Total_Records"
         }
        }
       }
      }
     },
     "metadata": {},
     "output_type": "display_data"
    },
    {
     "data": {
      "text/plain": [
       "'Record_Brakers.html'"
      ]
     },
     "execution_count": 134,
     "metadata": {},
     "output_type": "execute_result"
    }
   ],
   "source": [
    "fig = px.bar(records, x='Athlete', y='Total_Records', orientation='v', hover_name=\"discipline_records\",\n",
    "             title='Athletism Record-Masters')\n",
    "fig.show()\n",
    "pyo.plot(fig, filename='Record_Brakers.html')"
   ]
  },
  {
   "cell_type": "code",
   "execution_count": null,
   "metadata": {},
   "outputs": [
    {
     "data": {
      "text/html": [
       "<div>\n",
       "<style scoped>\n",
       "    .dataframe tbody tr th:only-of-type {\n",
       "        vertical-align: middle;\n",
       "    }\n",
       "\n",
       "    .dataframe tbody tr th {\n",
       "        vertical-align: top;\n",
       "    }\n",
       "\n",
       "    .dataframe thead th {\n",
       "        text-align: right;\n",
       "    }\n",
       "</style>\n",
       "<table border=\"1\" class=\"dataframe\">\n",
       "  <thead>\n",
       "    <tr style=\"text-align: right;\">\n",
       "      <th></th>\n",
       "      <th>Country</th>\n",
       "    </tr>\n",
       "  </thead>\n",
       "  <tbody>\n",
       "    <tr>\n",
       "      <th>0</th>\n",
       "      <td>2</td>\n",
       "    </tr>\n",
       "    <tr>\n",
       "      <th>1</th>\n",
       "      <td>1</td>\n",
       "    </tr>\n",
       "    <tr>\n",
       "      <th>2</th>\n",
       "      <td>1</td>\n",
       "    </tr>\n",
       "    <tr>\n",
       "      <th>3</th>\n",
       "      <td>1</td>\n",
       "    </tr>\n",
       "    <tr>\n",
       "      <th>4</th>\n",
       "      <td>1</td>\n",
       "    </tr>\n",
       "    <tr>\n",
       "      <th>...</th>\n",
       "      <td>...</td>\n",
       "    </tr>\n",
       "    <tr>\n",
       "      <th>563</th>\n",
       "      <td>1</td>\n",
       "    </tr>\n",
       "    <tr>\n",
       "      <th>564</th>\n",
       "      <td>1</td>\n",
       "    </tr>\n",
       "    <tr>\n",
       "      <th>565</th>\n",
       "      <td>1</td>\n",
       "    </tr>\n",
       "    <tr>\n",
       "      <th>566</th>\n",
       "      <td>1</td>\n",
       "    </tr>\n",
       "    <tr>\n",
       "      <th>567</th>\n",
       "      <td>2</td>\n",
       "    </tr>\n",
       "  </tbody>\n",
       "</table>\n",
       "<p>568 rows × 1 columns</p>\n",
       "</div>"
      ],
      "text/plain": [
       "     Country\n",
       "0          2\n",
       "1          1\n",
       "2          1\n",
       "3          1\n",
       "4          1\n",
       "..       ...\n",
       "563        1\n",
       "564        1\n",
       "565        1\n",
       "566        1\n",
       "567        2\n",
       "\n",
       "[568 rows x 1 columns]"
      ]
     },
     "execution_count": 135,
     "metadata": {},
     "output_type": "execute_result"
    }
   ],
   "source": [
    "record_batido_misma_edicion"
   ]
  },
  {
   "cell_type": "code",
   "execution_count": 158,
   "metadata": {},
   "outputs": [
    {
     "data": {
      "text/html": [
       "<div>\n",
       "<style scoped>\n",
       "    .dataframe tbody tr th:only-of-type {\n",
       "        vertical-align: middle;\n",
       "    }\n",
       "\n",
       "    .dataframe tbody tr th {\n",
       "        vertical-align: top;\n",
       "    }\n",
       "\n",
       "    .dataframe thead th {\n",
       "        text-align: right;\n",
       "    }\n",
       "</style>\n",
       "<table border=\"1\" class=\"dataframe\">\n",
       "  <thead>\n",
       "    <tr style=\"text-align: right;\">\n",
       "      <th></th>\n",
       "      <th>Event</th>\n",
       "      <th>Year</th>\n",
       "      <th>Athlete</th>\n",
       "      <th>Country</th>\n",
       "      <th>Mark</th>\n",
       "      <th>Record</th>\n",
       "      <th>Round</th>\n",
       "    </tr>\n",
       "  </thead>\n",
       "  <tbody>\n",
       "    <tr>\n",
       "      <th>0</th>\n",
       "      <td>100m M</td>\n",
       "      <td>2012</td>\n",
       "      <td>Usain Bolt</td>\n",
       "      <td>JAM</td>\n",
       "      <td>9.63</td>\n",
       "      <td>OR</td>\n",
       "      <td>Final</td>\n",
       "    </tr>\n",
       "    <tr>\n",
       "      <th>1</th>\n",
       "      <td>100m M</td>\n",
       "      <td>2008</td>\n",
       "      <td>Usain Bolt</td>\n",
       "      <td>JAM</td>\n",
       "      <td>9.69</td>\n",
       "      <td>WR</td>\n",
       "      <td>Final</td>\n",
       "    </tr>\n",
       "    <tr>\n",
       "      <th>2</th>\n",
       "      <td>100m M</td>\n",
       "      <td>1996</td>\n",
       "      <td>Donovan Bailey</td>\n",
       "      <td>CAN</td>\n",
       "      <td>9.84</td>\n",
       "      <td>WR</td>\n",
       "      <td>Final</td>\n",
       "    </tr>\n",
       "    <tr>\n",
       "      <th>3</th>\n",
       "      <td>100m M</td>\n",
       "      <td>1988</td>\n",
       "      <td>Carl Lewis</td>\n",
       "      <td>USA</td>\n",
       "      <td>9.92</td>\n",
       "      <td>OR</td>\n",
       "      <td>Final</td>\n",
       "    </tr>\n",
       "    <tr>\n",
       "      <th>4</th>\n",
       "      <td>100m M</td>\n",
       "      <td>1968</td>\n",
       "      <td>Jim Hines</td>\n",
       "      <td>USA</td>\n",
       "      <td>9.95</td>\n",
       "      <td>WR</td>\n",
       "      <td>Final</td>\n",
       "    </tr>\n",
       "    <tr>\n",
       "      <th>...</th>\n",
       "      <td>...</td>\n",
       "      <td>...</td>\n",
       "      <td>...</td>\n",
       "      <td>...</td>\n",
       "      <td>...</td>\n",
       "      <td>...</td>\n",
       "      <td>...</td>\n",
       "    </tr>\n",
       "    <tr>\n",
       "      <th>703</th>\n",
       "      <td>50km Walk M</td>\n",
       "      <td>1964</td>\n",
       "      <td>Abdon Pamich</td>\n",
       "      <td>ITA</td>\n",
       "      <td>4.11.12,4</td>\n",
       "      <td>WR</td>\n",
       "      <td>Final</td>\n",
       "    </tr>\n",
       "    <tr>\n",
       "      <th>704</th>\n",
       "      <td>50km Walk M</td>\n",
       "      <td>1960</td>\n",
       "      <td>Donald Thompson</td>\n",
       "      <td>GBR</td>\n",
       "      <td>4.25.30,0</td>\n",
       "      <td>OR</td>\n",
       "      <td>Final</td>\n",
       "    </tr>\n",
       "    <tr>\n",
       "      <th>705</th>\n",
       "      <td>50km Walk M</td>\n",
       "      <td>1952</td>\n",
       "      <td>Giuseppe Dordoni</td>\n",
       "      <td>ITA</td>\n",
       "      <td>4.28.07,8</td>\n",
       "      <td>OR</td>\n",
       "      <td>Final</td>\n",
       "    </tr>\n",
       "    <tr>\n",
       "      <th>706</th>\n",
       "      <td>50km Walk M</td>\n",
       "      <td>1936</td>\n",
       "      <td>Harold Whitlock</td>\n",
       "      <td>GBR</td>\n",
       "      <td>4.30.41,4</td>\n",
       "      <td>OR</td>\n",
       "      <td>Final</td>\n",
       "    </tr>\n",
       "    <tr>\n",
       "      <th>707</th>\n",
       "      <td>50km Walk M</td>\n",
       "      <td>1932</td>\n",
       "      <td>Thomas Green</td>\n",
       "      <td>GBR</td>\n",
       "      <td>4.50.10</td>\n",
       "      <td>OR</td>\n",
       "      <td>Final</td>\n",
       "    </tr>\n",
       "  </tbody>\n",
       "</table>\n",
       "<p>708 rows × 7 columns</p>\n",
       "</div>"
      ],
      "text/plain": [
       "           Event  Year           Athlete Country       Mark Record  Round\n",
       "0         100m M  2012        Usain Bolt     JAM       9.63     OR  Final\n",
       "1         100m M  2008        Usain Bolt     JAM       9.69     WR  Final\n",
       "2         100m M  1996    Donovan Bailey     CAN       9.84     WR  Final\n",
       "3         100m M  1988        Carl Lewis     USA       9.92     OR  Final\n",
       "4         100m M  1968         Jim Hines     USA       9.95     WR  Final\n",
       "..           ...   ...               ...     ...        ...    ...    ...\n",
       "703  50km Walk M  1964      Abdon Pamich     ITA  4.11.12,4     WR  Final\n",
       "704  50km Walk M  1960   Donald Thompson     GBR  4.25.30,0     OR  Final\n",
       "705  50km Walk M  1952  Giuseppe Dordoni     ITA  4.28.07,8     OR  Final\n",
       "706  50km Walk M  1936   Harold Whitlock     GBR  4.30.41,4     OR  Final\n",
       "707  50km Walk M  1932      Thomas Green     GBR    4.50.10     OR  Final\n",
       "\n",
       "[708 rows x 7 columns]"
      ]
     },
     "execution_count": 158,
     "metadata": {},
     "output_type": "execute_result"
    }
   ],
   "source": [
    "records"
   ]
  },
  {
   "cell_type": "code",
   "execution_count": 157,
   "metadata": {},
   "outputs": [
    {
     "data": {
      "text/plain": [
       "Event           Year  Country\n",
       "200m M          1968  USA        5\n",
       "100m M          1968  USA        5\n",
       "100m hurdles W  1968  AUS        4\n",
       "110m hurdles M  1984  USA        4\n",
       "100m hurdles W  1956  AUS        4\n",
       "                                ..\n",
       "4x100m W        1952  USA        1\n",
       "                      AUS        1\n",
       "                1936  GER        1\n",
       "                1932  USA        1\n",
       "5000m M         1932  FIN        1\n",
       "Name: Country, Length: 568, dtype: int64"
      ]
     },
     "execution_count": 157,
     "metadata": {},
     "output_type": "execute_result"
    }
   ],
   "source": [
    "record_batido_misma_edicion=records.groupby([\"Event\",\"Year\"])[\"Country\"].value_counts()\n",
    "record_batido_misma_edicion.sort_values(ascending=False)"
   ]
  },
  {
   "cell_type": "code",
   "execution_count": 160,
   "metadata": {},
   "outputs": [
    {
     "data": {
      "text/plain": [
       "Event     Year\n",
       "100m W    1928    8\n",
       "200m M    1968    6\n",
       "100m M    1968    6\n",
       "100m W    1968    6\n",
       "200m W    1968    5\n",
       "                 ..\n",
       "4x100m M  1924    0\n",
       "          1928    0\n",
       "          1932    0\n",
       "          1936    0\n",
       "4x100m W  1928    0\n",
       "Name: Athlete, Length: 493, dtype: int64"
      ]
     },
     "execution_count": 160,
     "metadata": {},
     "output_type": "execute_result"
    }
   ],
   "source": [
    "record_batido_misma_edicion = records.groupby([\"Event\",\"Year\"])[\"Athlete\"].count()\n",
    "record_batido_misma_edicion.sort_values(ascending=False)"
   ]
  },
  {
   "cell_type": "code",
   "execution_count": 161,
   "metadata": {},
   "outputs": [],
   "source": [
    "record_batido_misma_edicion = record_batido_misma_edicion.reset_index(name='count')\n"
   ]
  },
  {
   "cell_type": "code",
   "execution_count": 162,
   "metadata": {},
   "outputs": [
    {
     "data": {
      "text/html": [
       "<div>\n",
       "<style scoped>\n",
       "    .dataframe tbody tr th:only-of-type {\n",
       "        vertical-align: middle;\n",
       "    }\n",
       "\n",
       "    .dataframe tbody tr th {\n",
       "        vertical-align: top;\n",
       "    }\n",
       "\n",
       "    .dataframe thead th {\n",
       "        text-align: right;\n",
       "    }\n",
       "</style>\n",
       "<table border=\"1\" class=\"dataframe\">\n",
       "  <thead>\n",
       "    <tr style=\"text-align: right;\">\n",
       "      <th></th>\n",
       "      <th>Event</th>\n",
       "      <th>Year</th>\n",
       "      <th>count</th>\n",
       "    </tr>\n",
       "  </thead>\n",
       "  <tbody>\n",
       "    <tr>\n",
       "      <th>0</th>\n",
       "      <td>10000m M</td>\n",
       "      <td>1912</td>\n",
       "      <td>3</td>\n",
       "    </tr>\n",
       "    <tr>\n",
       "      <th>1</th>\n",
       "      <td>10000m M</td>\n",
       "      <td>1924</td>\n",
       "      <td>1</td>\n",
       "    </tr>\n",
       "    <tr>\n",
       "      <th>2</th>\n",
       "      <td>10000m M</td>\n",
       "      <td>1928</td>\n",
       "      <td>1</td>\n",
       "    </tr>\n",
       "    <tr>\n",
       "      <th>3</th>\n",
       "      <td>10000m M</td>\n",
       "      <td>1932</td>\n",
       "      <td>1</td>\n",
       "    </tr>\n",
       "    <tr>\n",
       "      <th>4</th>\n",
       "      <td>10000m M</td>\n",
       "      <td>1952</td>\n",
       "      <td>1</td>\n",
       "    </tr>\n",
       "    <tr>\n",
       "      <th>...</th>\n",
       "      <td>...</td>\n",
       "      <td>...</td>\n",
       "      <td>...</td>\n",
       "    </tr>\n",
       "    <tr>\n",
       "      <th>488</th>\n",
       "      <td>Triple Jump W</td>\n",
       "      <td>1996</td>\n",
       "      <td>1</td>\n",
       "    </tr>\n",
       "    <tr>\n",
       "      <th>489</th>\n",
       "      <td>Triple Jump W</td>\n",
       "      <td>2008</td>\n",
       "      <td>1</td>\n",
       "    </tr>\n",
       "    <tr>\n",
       "      <th>490</th>\n",
       "      <td>Triple Jump W</td>\n",
       "      <td>2020</td>\n",
       "      <td>1</td>\n",
       "    </tr>\n",
       "    <tr>\n",
       "      <th>491</th>\n",
       "      <td>Weight Throw M</td>\n",
       "      <td>1904</td>\n",
       "      <td>1</td>\n",
       "    </tr>\n",
       "    <tr>\n",
       "      <th>492</th>\n",
       "      <td>Weight Throw M</td>\n",
       "      <td>1920</td>\n",
       "      <td>2</td>\n",
       "    </tr>\n",
       "  </tbody>\n",
       "</table>\n",
       "<p>493 rows × 3 columns</p>\n",
       "</div>"
      ],
      "text/plain": [
       "              Event  Year  count\n",
       "0          10000m M  1912      3\n",
       "1          10000m M  1924      1\n",
       "2          10000m M  1928      1\n",
       "3          10000m M  1932      1\n",
       "4          10000m M  1952      1\n",
       "..              ...   ...    ...\n",
       "488   Triple Jump W  1996      1\n",
       "489   Triple Jump W  2008      1\n",
       "490   Triple Jump W  2020      1\n",
       "491  Weight Throw M  1904      1\n",
       "492  Weight Throw M  1920      2\n",
       "\n",
       "[493 rows x 3 columns]"
      ]
     },
     "execution_count": 162,
     "metadata": {},
     "output_type": "execute_result"
    }
   ],
   "source": [
    "record_batido_misma_edicion"
   ]
  },
  {
   "cell_type": "code",
   "execution_count": 167,
   "metadata": {},
   "outputs": [
    {
     "data": {
      "application/vnd.plotly.v1+json": {
       "config": {
        "plotlyServerURL": "https://plot.ly"
       },
       "data": [
        {
         "hovertemplate": "Year=%{x}<br>Event=%{y}<br>count=%{marker.color}<extra></extra>",
         "legendgroup": "",
         "marker": {
          "color": [
           3,
           1,
           1,
           1,
           1,
           1,
           1,
           1,
           2,
           1,
           1,
           1,
           1,
           1,
           1,
           1,
           1,
           1,
           2,
           4,
           2,
           3,
           3,
           3,
           1,
           1,
           3,
           2,
           1,
           6,
           1,
           1,
           1,
           1,
           8,
           3,
           2,
           2,
           1,
           1,
           2,
           6,
           1,
           2,
           1,
           4,
           1,
           2,
           1,
           2,
           2,
           5,
           2,
           3,
           4,
           3,
           2,
           2,
           3,
           4,
           1,
           1,
           2,
           1,
           1,
           3,
           1,
           4,
           2,
           1,
           1,
           1,
           1,
           1,
           3,
           1,
           1,
           1,
           1,
           1,
           1,
           1,
           1,
           1,
           1,
           2,
           3,
           2,
           1,
           1,
           2,
           2,
           1,
           1,
           1,
           4,
           4,
           1,
           1,
           2,
           1,
           6,
           1,
           1,
           1,
           1,
           1,
           3,
           3,
           1,
           1,
           5,
           1,
           1,
           2,
           1,
           3,
           1,
           1,
           1,
           1,
           1,
           1,
           1,
           1,
           1,
           1,
           1,
           1,
           3,
           2,
           1,
           2,
           1,
           3,
           1,
           1,
           3,
           3,
           2,
           1,
           1,
           2,
           2,
           2,
           1,
           1,
           1,
           3,
           2,
           1,
           1,
           4,
           2,
           2,
           1,
           1,
           4,
           1,
           3,
           2,
           1,
           1,
           1,
           1,
           2,
           3,
           1,
           1,
           3,
           1,
           1,
           2,
           1,
           2,
           1,
           1,
           1,
           1,
           1,
           4,
           3,
           2,
           1,
           1,
           1,
           0,
           0,
           0,
           0,
           0,
           0,
           0,
           0,
           0,
           0,
           0,
           0,
           0,
           0,
           0,
           0,
           0,
           0,
           0,
           0,
           0,
           0,
           0,
           0,
           0,
           0,
           0,
           0,
           0,
           0,
           0,
           0,
           0,
           0,
           0,
           0,
           0,
           0,
           0,
           0,
           3,
           1,
           1,
           1,
           1,
           2,
           1,
           1,
           1,
           1,
           1,
           2,
           1,
           1,
           1,
           1,
           1,
           1,
           1,
           1,
           1,
           1,
           1,
           1,
           1,
           1,
           1,
           1,
           1,
           1,
           1,
           1,
           1,
           2,
           2,
           1,
           1,
           1,
           1,
           1,
           2,
           4,
           2,
           1,
           2,
           2,
           1,
           1,
           1,
           1,
           1,
           1,
           1,
           1,
           1,
           1,
           1,
           1,
           1,
           1,
           1,
           1,
           1,
           1,
           1,
           1,
           1,
           1,
           1,
           2,
           3,
           1,
           1,
           2,
           1,
           1,
           2,
           2,
           2,
           1,
           1,
           1,
           2,
           1,
           1,
           1,
           1,
           1,
           1,
           1,
           2,
           1,
           1,
           1,
           1,
           1,
           1,
           1,
           1,
           2,
           1,
           2,
           1,
           2,
           1,
           1,
           2,
           1,
           2,
           3,
           1,
           1,
           1,
           1,
           1,
           1,
           1,
           1,
           1,
           1,
           1,
           1,
           1,
           2,
           1,
           1,
           1,
           1,
           1,
           1,
           2,
           1,
           1,
           1,
           1,
           1,
           1,
           1,
           1,
           1,
           1,
           1,
           1,
           1,
           2,
           2,
           1,
           1,
           2,
           1,
           1,
           1,
           1,
           1,
           1,
           1,
           1,
           1,
           1,
           2,
           1,
           1,
           1,
           1,
           2,
           2,
           1,
           1,
           1,
           1,
           1,
           1,
           1,
           1,
           1,
           1,
           2,
           2,
           2,
           1,
           1,
           2,
           1,
           1,
           2,
           1,
           1,
           1,
           1,
           1,
           1,
           1,
           1,
           1,
           1,
           1,
           1,
           1,
           1,
           1,
           1,
           1,
           3,
           1,
           1,
           1,
           1,
           1,
           1,
           1,
           1,
           1,
           1,
           1,
           1,
           1,
           1,
           1,
           1,
           1,
           1,
           1,
           1,
           1,
           1,
           1,
           1,
           1,
           2,
           1,
           1,
           1,
           1,
           1,
           1,
           1,
           1,
           1,
           1,
           1,
           1,
           2,
           1,
           1,
           1,
           1,
           1,
           1,
           1,
           1,
           1,
           1,
           1,
           1,
           1,
           1,
           1,
           2,
           1,
           2,
           1,
           1,
           1,
           1,
           1,
           1,
           2
          ],
          "coloraxis": "coloraxis",
          "size": [
           3,
           1,
           1,
           1,
           1,
           1,
           1,
           1,
           2,
           1,
           1,
           1,
           1,
           1,
           1,
           1,
           1,
           1,
           2,
           4,
           2,
           3,
           3,
           3,
           1,
           1,
           3,
           2,
           1,
           6,
           1,
           1,
           1,
           1,
           8,
           3,
           2,
           2,
           1,
           1,
           2,
           6,
           1,
           2,
           1,
           4,
           1,
           2,
           1,
           2,
           2,
           5,
           2,
           3,
           4,
           3,
           2,
           2,
           3,
           4,
           1,
           1,
           2,
           1,
           1,
           3,
           1,
           4,
           2,
           1,
           1,
           1,
           1,
           1,
           3,
           1,
           1,
           1,
           1,
           1,
           1,
           1,
           1,
           1,
           1,
           2,
           3,
           2,
           1,
           1,
           2,
           2,
           1,
           1,
           1,
           4,
           4,
           1,
           1,
           2,
           1,
           6,
           1,
           1,
           1,
           1,
           1,
           3,
           3,
           1,
           1,
           5,
           1,
           1,
           2,
           1,
           3,
           1,
           1,
           1,
           1,
           1,
           1,
           1,
           1,
           1,
           1,
           1,
           1,
           3,
           2,
           1,
           2,
           1,
           3,
           1,
           1,
           3,
           3,
           2,
           1,
           1,
           2,
           2,
           2,
           1,
           1,
           1,
           3,
           2,
           1,
           1,
           4,
           2,
           2,
           1,
           1,
           4,
           1,
           3,
           2,
           1,
           1,
           1,
           1,
           2,
           3,
           1,
           1,
           3,
           1,
           1,
           2,
           1,
           2,
           1,
           1,
           1,
           1,
           1,
           4,
           3,
           2,
           1,
           1,
           1,
           0,
           0,
           0,
           0,
           0,
           0,
           0,
           0,
           0,
           0,
           0,
           0,
           0,
           0,
           0,
           0,
           0,
           0,
           0,
           0,
           0,
           0,
           0,
           0,
           0,
           0,
           0,
           0,
           0,
           0,
           0,
           0,
           0,
           0,
           0,
           0,
           0,
           0,
           0,
           0,
           3,
           1,
           1,
           1,
           1,
           2,
           1,
           1,
           1,
           1,
           1,
           2,
           1,
           1,
           1,
           1,
           1,
           1,
           1,
           1,
           1,
           1,
           1,
           1,
           1,
           1,
           1,
           1,
           1,
           1,
           1,
           1,
           1,
           2,
           2,
           1,
           1,
           1,
           1,
           1,
           2,
           4,
           2,
           1,
           2,
           2,
           1,
           1,
           1,
           1,
           1,
           1,
           1,
           1,
           1,
           1,
           1,
           1,
           1,
           1,
           1,
           1,
           1,
           1,
           1,
           1,
           1,
           1,
           1,
           2,
           3,
           1,
           1,
           2,
           1,
           1,
           2,
           2,
           2,
           1,
           1,
           1,
           2,
           1,
           1,
           1,
           1,
           1,
           1,
           1,
           2,
           1,
           1,
           1,
           1,
           1,
           1,
           1,
           1,
           2,
           1,
           2,
           1,
           2,
           1,
           1,
           2,
           1,
           2,
           3,
           1,
           1,
           1,
           1,
           1,
           1,
           1,
           1,
           1,
           1,
           1,
           1,
           1,
           2,
           1,
           1,
           1,
           1,
           1,
           1,
           2,
           1,
           1,
           1,
           1,
           1,
           1,
           1,
           1,
           1,
           1,
           1,
           1,
           1,
           2,
           2,
           1,
           1,
           2,
           1,
           1,
           1,
           1,
           1,
           1,
           1,
           1,
           1,
           1,
           2,
           1,
           1,
           1,
           1,
           2,
           2,
           1,
           1,
           1,
           1,
           1,
           1,
           1,
           1,
           1,
           1,
           2,
           2,
           2,
           1,
           1,
           2,
           1,
           1,
           2,
           1,
           1,
           1,
           1,
           1,
           1,
           1,
           1,
           1,
           1,
           1,
           1,
           1,
           1,
           1,
           1,
           1,
           3,
           1,
           1,
           1,
           1,
           1,
           1,
           1,
           1,
           1,
           1,
           1,
           1,
           1,
           1,
           1,
           1,
           1,
           1,
           1,
           1,
           1,
           1,
           1,
           1,
           1,
           2,
           1,
           1,
           1,
           1,
           1,
           1,
           1,
           1,
           1,
           1,
           1,
           1,
           2,
           1,
           1,
           1,
           1,
           1,
           1,
           1,
           1,
           1,
           1,
           1,
           1,
           1,
           1,
           1,
           2,
           1,
           2,
           1,
           1,
           1,
           1,
           1,
           1,
           2
          ],
          "sizemode": "area",
          "sizeref": 0.02,
          "symbol": "circle"
         },
         "mode": "markers",
         "name": "",
         "orientation": "h",
         "showlegend": false,
         "type": "scatter",
         "x": [
          1912,
          1924,
          1928,
          1932,
          1952,
          1956,
          1960,
          1964,
          1972,
          1988,
          1996,
          2004,
          2008,
          1988,
          1996,
          2000,
          2008,
          1896,
          1900,
          1908,
          1912,
          1924,
          1928,
          1932,
          1936,
          1948,
          1956,
          1960,
          1964,
          1968,
          1988,
          1996,
          2008,
          2012,
          1928,
          1932,
          1936,
          1952,
          1956,
          1960,
          1964,
          1968,
          1972,
          1976,
          1984,
          1988,
          2020,
          1932,
          1936,
          1948,
          1952,
          1956,
          1960,
          1964,
          1968,
          1896,
          1900,
          1908,
          1920,
          1928,
          1932,
          1936,
          1948,
          1952,
          1956,
          1968,
          1972,
          1984,
          1988,
          1996,
          2004,
          1896,
          1900,
          1904,
          1908,
          1924,
          1928,
          1932,
          1936,
          1952,
          1956,
          1960,
          1968,
          1984,
          2000,
          2020,
          1972,
          1980,
          1988,
          2020,
          1900,
          1904,
          1908,
          1924,
          1928,
          1932,
          1936,
          1952,
          1956,
          1960,
          1964,
          1968,
          1984,
          1988,
          1992,
          1996,
          2008,
          1948,
          1952,
          1956,
          1964,
          1968,
          1972,
          1976,
          1980,
          1984,
          1988,
          1956,
          1964,
          1972,
          1976,
          1980,
          1984,
          1988,
          2000,
          2012,
          2000,
          2008,
          2012,
          1920,
          1924,
          1928,
          1932,
          1936,
          1952,
          1956,
          1960,
          1964,
          1972,
          1976,
          1988,
          2016,
          2008,
          1896,
          1900,
          1904,
          1908,
          1912,
          1924,
          1932,
          1948,
          1952,
          1960,
          1968,
          1992,
          1996,
          2016,
          1964,
          1968,
          1972,
          1976,
          1980,
          1984,
          1988,
          1996,
          1900,
          1908,
          1920,
          1924,
          1932,
          1948,
          1952,
          1956,
          1960,
          1968,
          1972,
          1976,
          1988,
          1992,
          2020,
          1984,
          1988,
          1996,
          2004,
          2008,
          2020,
          1912,
          1920,
          1924,
          1928,
          1932,
          1936,
          1956,
          1960,
          1964,
          1968,
          1972,
          1984,
          1992,
          2012,
          1928,
          1932,
          1936,
          1952,
          1956,
          1960,
          1964,
          1968,
          1972,
          1976,
          1980,
          2012,
          1912,
          1924,
          1928,
          1932,
          1952,
          1960,
          1964,
          1968,
          1988,
          1992,
          2008,
          1972,
          1976,
          1988,
          1912,
          1924,
          1932,
          1936,
          1948,
          1952,
          1956,
          1972,
          1976,
          1984,
          2008,
          1984,
          1988,
          1932,
          1936,
          1952,
          1960,
          1964,
          1972,
          1980,
          1984,
          1988,
          2008,
          1896,
          1900,
          1904,
          1908,
          1912,
          1928,
          1932,
          1948,
          1952,
          1956,
          1960,
          1964,
          1968,
          1976,
          1984,
          1996,
          2012,
          1928,
          1960,
          1964,
          1968,
          1972,
          1976,
          1980,
          1904,
          1912,
          1924,
          1928,
          1932,
          1936,
          1952,
          1956,
          1960,
          1964,
          1968,
          1972,
          1976,
          1984,
          1996,
          2004,
          2020,
          1896,
          1900,
          1904,
          1908,
          1912,
          1924,
          1928,
          1932,
          1936,
          1948,
          1952,
          1956,
          1960,
          1964,
          1968,
          1976,
          1988,
          1996,
          1928,
          1932,
          1936,
          1952,
          1956,
          1960,
          1964,
          1968,
          1972,
          1976,
          1980,
          1988,
          1900,
          1904,
          1908,
          1912,
          1936,
          1952,
          1956,
          1960,
          1964,
          1968,
          1972,
          1976,
          1980,
          1988,
          2000,
          2004,
          2016,
          1984,
          1988,
          1896,
          1900,
          1908,
          1912,
          1920,
          1924,
          1936,
          1952,
          1956,
          1960,
          1964,
          1968,
          1976,
          1980,
          1988,
          1996,
          1928,
          1932,
          1948,
          1956,
          1960,
          1964,
          1972,
          1976,
          1980,
          1984,
          1988,
          1996,
          2004,
          1908,
          1912,
          1920,
          1928,
          1932,
          1952,
          1956,
          1968,
          1972,
          1976,
          1988,
          1992,
          2000,
          2008,
          1932,
          1936,
          1948,
          1952,
          1956,
          1960,
          1964,
          1972,
          1976,
          1980,
          1984,
          1988,
          1896,
          1900,
          1904,
          1908,
          1912,
          1928,
          1936,
          1960,
          1968,
          1948,
          1952,
          1956,
          1960,
          1964,
          1968,
          1980,
          1988,
          1896,
          1912,
          1920,
          1932,
          1936,
          1952,
          1960,
          1964,
          1976,
          1984,
          2008,
          1984,
          2000,
          2012,
          1896,
          1900,
          1904,
          1908,
          1912,
          1920,
          1928,
          1932,
          1936,
          1952,
          1956,
          1960,
          1964,
          1968,
          1972,
          1976,
          1980,
          1988,
          1996,
          2004,
          2008,
          2012,
          2000,
          2004,
          2008,
          1896,
          1900,
          1904,
          1912,
          1928,
          1932,
          1936,
          1948,
          1952,
          1956,
          1960,
          1964,
          1972,
          1980,
          1988,
          2020,
          1948,
          1952,
          1956,
          1960,
          1964,
          1968,
          1972,
          1976,
          1980,
          1896,
          1900,
          1908,
          1924,
          1932,
          1936,
          1952,
          1956,
          1960,
          1964,
          1968,
          1988,
          1996,
          1996,
          2008,
          2020,
          1904,
          1920
         ],
         "xaxis": "x",
         "y": [
          "10000m M",
          "10000m M",
          "10000m M",
          "10000m M",
          "10000m M",
          "10000m M",
          "10000m M",
          "10000m M",
          "10000m M",
          "10000m M",
          "10000m M",
          "10000m M",
          "10000m M",
          "10000m W",
          "10000m W",
          "10000m W",
          "10000m W",
          "100m M",
          "100m M",
          "100m M",
          "100m M",
          "100m M",
          "100m M",
          "100m M",
          "100m M",
          "100m M",
          "100m M",
          "100m M",
          "100m M",
          "100m M",
          "100m M",
          "100m M",
          "100m M",
          "100m M",
          "100m W",
          "100m W",
          "100m W",
          "100m W",
          "100m W",
          "100m W",
          "100m W",
          "100m W",
          "100m W",
          "100m W",
          "100m W",
          "100m W",
          "100m W",
          "100m hurdles W",
          "100m hurdles W",
          "100m hurdles W",
          "100m hurdles W",
          "100m hurdles W",
          "100m hurdles W",
          "100m hurdles W",
          "100m hurdles W",
          "110m hurdles M",
          "110m hurdles M",
          "110m hurdles M",
          "110m hurdles M",
          "110m hurdles M",
          "110m hurdles M",
          "110m hurdles M",
          "110m hurdles M",
          "110m hurdles M",
          "110m hurdles M",
          "110m hurdles M",
          "110m hurdles M",
          "110m hurdles M",
          "110m hurdles M",
          "110m hurdles M",
          "110m hurdles M",
          "1500m M",
          "1500m M",
          "1500m M",
          "1500m M",
          "1500m M",
          "1500m M",
          "1500m M",
          "1500m M",
          "1500m M",
          "1500m M",
          "1500m M",
          "1500m M",
          "1500m M",
          "1500m M",
          "1500m M",
          "1500m W",
          "1500m W",
          "1500m W",
          "1500m W",
          "200m M",
          "200m M",
          "200m M",
          "200m M",
          "200m M",
          "200m M",
          "200m M",
          "200m M",
          "200m M",
          "200m M",
          "200m M",
          "200m M",
          "200m M",
          "200m M",
          "200m M",
          "200m M",
          "200m M",
          "200m W",
          "200m W",
          "200m W",
          "200m W",
          "200m W",
          "200m W",
          "200m W",
          "200m W",
          "200m W",
          "200m W",
          "20km Walk M",
          "20km Walk M",
          "20km Walk M",
          "20km Walk M",
          "20km Walk M",
          "20km Walk M",
          "20km Walk M",
          "20km Walk M",
          "20km Walk M",
          "20km Walk W",
          "20km Walk W",
          "20km Walk W",
          "3000m steeplechase M",
          "3000m steeplechase M",
          "3000m steeplechase M",
          "3000m steeplechase M",
          "3000m steeplechase M",
          "3000m steeplechase M",
          "3000m steeplechase M",
          "3000m steeplechase M",
          "3000m steeplechase M",
          "3000m steeplechase M",
          "3000m steeplechase M",
          "3000m steeplechase M",
          "3000m steeplechase M",
          "3000m steeplechase W",
          "400m M",
          "400m M",
          "400m M",
          "400m M",
          "400m M",
          "400m M",
          "400m M",
          "400m M",
          "400m M",
          "400m M",
          "400m M",
          "400m M",
          "400m M",
          "400m M",
          "400m W",
          "400m W",
          "400m W",
          "400m W",
          "400m W",
          "400m W",
          "400m W",
          "400m W",
          "400m hurdles M",
          "400m hurdles M",
          "400m hurdles M",
          "400m hurdles M",
          "400m hurdles M",
          "400m hurdles M",
          "400m hurdles M",
          "400m hurdles M",
          "400m hurdles M",
          "400m hurdles M",
          "400m hurdles M",
          "400m hurdles M",
          "400m hurdles M",
          "400m hurdles M",
          "400m hurdles M",
          "400m hurdles W",
          "400m hurdles W",
          "400m hurdles W",
          "400m hurdles W",
          "400m hurdles W",
          "400m hurdles W",
          "4x100m M",
          "4x100m M",
          "4x100m M",
          "4x100m M",
          "4x100m M",
          "4x100m M",
          "4x100m M",
          "4x100m M",
          "4x100m M",
          "4x100m M",
          "4x100m M",
          "4x100m M",
          "4x100m M",
          "4x100m M",
          "4x100m W",
          "4x100m W",
          "4x100m W",
          "4x100m W",
          "4x100m W",
          "4x100m W",
          "4x100m W",
          "4x100m W",
          "4x100m W",
          "4x100m W",
          "4x100m W",
          "4x100m W",
          "4x400m M",
          "4x400m M",
          "4x400m M",
          "4x400m M",
          "4x400m M",
          "4x400m M",
          "4x400m M",
          "4x400m M",
          "4x400m M",
          "4x400m M",
          "4x400m M",
          "4x400m W",
          "4x400m W",
          "4x400m W",
          "5000m M",
          "5000m M",
          "5000m M",
          "5000m M",
          "5000m M",
          "5000m M",
          "5000m M",
          "5000m M",
          "5000m M",
          "5000m M",
          "5000m M",
          "5000m W",
          "5000m W",
          "50km Walk M",
          "50km Walk M",
          "50km Walk M",
          "50km Walk M",
          "50km Walk M",
          "50km Walk M",
          "50km Walk M",
          "50km Walk M",
          "50km Walk M",
          "50km Walk M",
          "800m M",
          "800m M",
          "800m M",
          "800m M",
          "800m M",
          "800m M",
          "800m M",
          "800m M",
          "800m M",
          "800m M",
          "800m M",
          "800m M",
          "800m M",
          "800m M",
          "800m M",
          "800m M",
          "800m M",
          "800m W",
          "800m W",
          "800m W",
          "800m W",
          "800m W",
          "800m W",
          "800m W",
          "Decathlon M",
          "Decathlon M",
          "Decathlon M",
          "Decathlon M",
          "Decathlon M",
          "Decathlon M",
          "Decathlon M",
          "Decathlon M",
          "Decathlon M",
          "Decathlon M",
          "Decathlon M",
          "Decathlon M",
          "Decathlon M",
          "Decathlon M",
          "Decathlon M",
          "Decathlon M",
          "Decathlon M",
          "Discus Throw M",
          "Discus Throw M",
          "Discus Throw M",
          "Discus Throw M",
          "Discus Throw M",
          "Discus Throw M",
          "Discus Throw M",
          "Discus Throw M",
          "Discus Throw M",
          "Discus Throw M",
          "Discus Throw M",
          "Discus Throw M",
          "Discus Throw M",
          "Discus Throw M",
          "Discus Throw M",
          "Discus Throw M",
          "Discus Throw M",
          "Discus Throw M",
          "Discus Throw W",
          "Discus Throw W",
          "Discus Throw W",
          "Discus Throw W",
          "Discus Throw W",
          "Discus Throw W",
          "Discus Throw W",
          "Discus Throw W",
          "Discus Throw W",
          "Discus Throw W",
          "Discus Throw W",
          "Discus Throw W",
          "Hammer Throw M",
          "Hammer Throw M",
          "Hammer Throw M",
          "Hammer Throw M",
          "Hammer Throw M",
          "Hammer Throw M",
          "Hammer Throw M",
          "Hammer Throw M",
          "Hammer Throw M",
          "Hammer Throw M",
          "Hammer Throw M",
          "Hammer Throw M",
          "Hammer Throw M",
          "Hammer Throw M",
          "Hammer Throw W",
          "Hammer Throw W",
          "Hammer Throw W",
          "Heptathlon W",
          "Heptathlon W",
          "High Jump M",
          "High Jump M",
          "High Jump M",
          "High Jump M",
          "High Jump M",
          "High Jump M",
          "High Jump M",
          "High Jump M",
          "High Jump M",
          "High Jump M",
          "High Jump M",
          "High Jump M",
          "High Jump M",
          "High Jump M",
          "High Jump M",
          "High Jump M",
          "High Jump W",
          "High Jump W",
          "High Jump W",
          "High Jump W",
          "High Jump W",
          "High Jump W",
          "High Jump W",
          "High Jump W",
          "High Jump W",
          "High Jump W",
          "High Jump W",
          "High Jump W",
          "High Jump W",
          "Javelin Throw M",
          "Javelin Throw M",
          "Javelin Throw M",
          "Javelin Throw M",
          "Javelin Throw M",
          "Javelin Throw M",
          "Javelin Throw M",
          "Javelin Throw M",
          "Javelin Throw M",
          "Javelin Throw M",
          "Javelin Throw M",
          "Javelin Throw M",
          "Javelin Throw M",
          "Javelin Throw M",
          "Javelin Throw W",
          "Javelin Throw W",
          "Javelin Throw W",
          "Javelin Throw W",
          "Javelin Throw W",
          "Javelin Throw W",
          "Javelin Throw W",
          "Javelin Throw W",
          "Javelin Throw W",
          "Javelin Throw W",
          "Javelin Throw W",
          "Javelin Throw W",
          "Long Jump M",
          "Long Jump M",
          "Long Jump M",
          "Long Jump M",
          "Long Jump M",
          "Long Jump M",
          "Long Jump M",
          "Long Jump M",
          "Long Jump M",
          "Long Jump W",
          "Long Jump W",
          "Long Jump W",
          "Long Jump W",
          "Long Jump W",
          "Long Jump W",
          "Long Jump W",
          "Long Jump W",
          "Marathon M",
          "Marathon M",
          "Marathon M",
          "Marathon M",
          "Marathon M",
          "Marathon M",
          "Marathon M",
          "Marathon M",
          "Marathon M",
          "Marathon M",
          "Marathon M",
          "Marathon W",
          "Marathon W",
          "Marathon W",
          "Pole Vault M",
          "Pole Vault M",
          "Pole Vault M",
          "Pole Vault M",
          "Pole Vault M",
          "Pole Vault M",
          "Pole Vault M",
          "Pole Vault M",
          "Pole Vault M",
          "Pole Vault M",
          "Pole Vault M",
          "Pole Vault M",
          "Pole Vault M",
          "Pole Vault M",
          "Pole Vault M",
          "Pole Vault M",
          "Pole Vault M",
          "Pole Vault M",
          "Pole Vault M",
          "Pole Vault M",
          "Pole Vault M",
          "Pole Vault M",
          "Pole Vault W",
          "Pole Vault W",
          "Pole Vault W",
          "Shot Put M",
          "Shot Put M",
          "Shot Put M",
          "Shot Put M",
          "Shot Put M",
          "Shot Put M",
          "Shot Put M",
          "Shot Put M",
          "Shot Put M",
          "Shot Put M",
          "Shot Put M",
          "Shot Put M",
          "Shot Put M",
          "Shot Put M",
          "Shot Put M",
          "Shot Put M",
          "Shot Put W",
          "Shot Put W",
          "Shot Put W",
          "Shot Put W",
          "Shot Put W",
          "Shot Put W",
          "Shot Put W",
          "Shot Put W",
          "Shot Put W",
          "Triple Jump M",
          "Triple Jump M",
          "Triple Jump M",
          "Triple Jump M",
          "Triple Jump M",
          "Triple Jump M",
          "Triple Jump M",
          "Triple Jump M",
          "Triple Jump M",
          "Triple Jump M",
          "Triple Jump M",
          "Triple Jump M",
          "Triple Jump M",
          "Triple Jump W",
          "Triple Jump W",
          "Triple Jump W",
          "Weight Throw M",
          "Weight Throw M"
         ],
         "yaxis": "y"
        }
       ],
       "layout": {
        "coloraxis": {
         "colorbar": {
          "title": {
           "text": "count"
          }
         },
         "colorscale": [
          [
           0,
           "#0d0887"
          ],
          [
           0.1111111111111111,
           "#46039f"
          ],
          [
           0.2222222222222222,
           "#7201a8"
          ],
          [
           0.3333333333333333,
           "#9c179e"
          ],
          [
           0.4444444444444444,
           "#bd3786"
          ],
          [
           0.5555555555555556,
           "#d8576b"
          ],
          [
           0.6666666666666666,
           "#ed7953"
          ],
          [
           0.7777777777777778,
           "#fb9f3a"
          ],
          [
           0.8888888888888888,
           "#fdca26"
          ],
          [
           1,
           "#f0f921"
          ]
         ]
        },
        "legend": {
         "itemsizing": "constant",
         "tracegroupgap": 0
        },
        "template": {
         "data": {
          "bar": [
           {
            "error_x": {
             "color": "#2a3f5f"
            },
            "error_y": {
             "color": "#2a3f5f"
            },
            "marker": {
             "line": {
              "color": "#E5ECF6",
              "width": 0.5
             },
             "pattern": {
              "fillmode": "overlay",
              "size": 10,
              "solidity": 0.2
             }
            },
            "type": "bar"
           }
          ],
          "barpolar": [
           {
            "marker": {
             "line": {
              "color": "#E5ECF6",
              "width": 0.5
             },
             "pattern": {
              "fillmode": "overlay",
              "size": 10,
              "solidity": 0.2
             }
            },
            "type": "barpolar"
           }
          ],
          "carpet": [
           {
            "aaxis": {
             "endlinecolor": "#2a3f5f",
             "gridcolor": "white",
             "linecolor": "white",
             "minorgridcolor": "white",
             "startlinecolor": "#2a3f5f"
            },
            "baxis": {
             "endlinecolor": "#2a3f5f",
             "gridcolor": "white",
             "linecolor": "white",
             "minorgridcolor": "white",
             "startlinecolor": "#2a3f5f"
            },
            "type": "carpet"
           }
          ],
          "choropleth": [
           {
            "colorbar": {
             "outlinewidth": 0,
             "ticks": ""
            },
            "type": "choropleth"
           }
          ],
          "contour": [
           {
            "colorbar": {
             "outlinewidth": 0,
             "ticks": ""
            },
            "colorscale": [
             [
              0,
              "#0d0887"
             ],
             [
              0.1111111111111111,
              "#46039f"
             ],
             [
              0.2222222222222222,
              "#7201a8"
             ],
             [
              0.3333333333333333,
              "#9c179e"
             ],
             [
              0.4444444444444444,
              "#bd3786"
             ],
             [
              0.5555555555555556,
              "#d8576b"
             ],
             [
              0.6666666666666666,
              "#ed7953"
             ],
             [
              0.7777777777777778,
              "#fb9f3a"
             ],
             [
              0.8888888888888888,
              "#fdca26"
             ],
             [
              1,
              "#f0f921"
             ]
            ],
            "type": "contour"
           }
          ],
          "contourcarpet": [
           {
            "colorbar": {
             "outlinewidth": 0,
             "ticks": ""
            },
            "type": "contourcarpet"
           }
          ],
          "heatmap": [
           {
            "colorbar": {
             "outlinewidth": 0,
             "ticks": ""
            },
            "colorscale": [
             [
              0,
              "#0d0887"
             ],
             [
              0.1111111111111111,
              "#46039f"
             ],
             [
              0.2222222222222222,
              "#7201a8"
             ],
             [
              0.3333333333333333,
              "#9c179e"
             ],
             [
              0.4444444444444444,
              "#bd3786"
             ],
             [
              0.5555555555555556,
              "#d8576b"
             ],
             [
              0.6666666666666666,
              "#ed7953"
             ],
             [
              0.7777777777777778,
              "#fb9f3a"
             ],
             [
              0.8888888888888888,
              "#fdca26"
             ],
             [
              1,
              "#f0f921"
             ]
            ],
            "type": "heatmap"
           }
          ],
          "heatmapgl": [
           {
            "colorbar": {
             "outlinewidth": 0,
             "ticks": ""
            },
            "colorscale": [
             [
              0,
              "#0d0887"
             ],
             [
              0.1111111111111111,
              "#46039f"
             ],
             [
              0.2222222222222222,
              "#7201a8"
             ],
             [
              0.3333333333333333,
              "#9c179e"
             ],
             [
              0.4444444444444444,
              "#bd3786"
             ],
             [
              0.5555555555555556,
              "#d8576b"
             ],
             [
              0.6666666666666666,
              "#ed7953"
             ],
             [
              0.7777777777777778,
              "#fb9f3a"
             ],
             [
              0.8888888888888888,
              "#fdca26"
             ],
             [
              1,
              "#f0f921"
             ]
            ],
            "type": "heatmapgl"
           }
          ],
          "histogram": [
           {
            "marker": {
             "pattern": {
              "fillmode": "overlay",
              "size": 10,
              "solidity": 0.2
             }
            },
            "type": "histogram"
           }
          ],
          "histogram2d": [
           {
            "colorbar": {
             "outlinewidth": 0,
             "ticks": ""
            },
            "colorscale": [
             [
              0,
              "#0d0887"
             ],
             [
              0.1111111111111111,
              "#46039f"
             ],
             [
              0.2222222222222222,
              "#7201a8"
             ],
             [
              0.3333333333333333,
              "#9c179e"
             ],
             [
              0.4444444444444444,
              "#bd3786"
             ],
             [
              0.5555555555555556,
              "#d8576b"
             ],
             [
              0.6666666666666666,
              "#ed7953"
             ],
             [
              0.7777777777777778,
              "#fb9f3a"
             ],
             [
              0.8888888888888888,
              "#fdca26"
             ],
             [
              1,
              "#f0f921"
             ]
            ],
            "type": "histogram2d"
           }
          ],
          "histogram2dcontour": [
           {
            "colorbar": {
             "outlinewidth": 0,
             "ticks": ""
            },
            "colorscale": [
             [
              0,
              "#0d0887"
             ],
             [
              0.1111111111111111,
              "#46039f"
             ],
             [
              0.2222222222222222,
              "#7201a8"
             ],
             [
              0.3333333333333333,
              "#9c179e"
             ],
             [
              0.4444444444444444,
              "#bd3786"
             ],
             [
              0.5555555555555556,
              "#d8576b"
             ],
             [
              0.6666666666666666,
              "#ed7953"
             ],
             [
              0.7777777777777778,
              "#fb9f3a"
             ],
             [
              0.8888888888888888,
              "#fdca26"
             ],
             [
              1,
              "#f0f921"
             ]
            ],
            "type": "histogram2dcontour"
           }
          ],
          "mesh3d": [
           {
            "colorbar": {
             "outlinewidth": 0,
             "ticks": ""
            },
            "type": "mesh3d"
           }
          ],
          "parcoords": [
           {
            "line": {
             "colorbar": {
              "outlinewidth": 0,
              "ticks": ""
             }
            },
            "type": "parcoords"
           }
          ],
          "pie": [
           {
            "automargin": true,
            "type": "pie"
           }
          ],
          "scatter": [
           {
            "fillpattern": {
             "fillmode": "overlay",
             "size": 10,
             "solidity": 0.2
            },
            "type": "scatter"
           }
          ],
          "scatter3d": [
           {
            "line": {
             "colorbar": {
              "outlinewidth": 0,
              "ticks": ""
             }
            },
            "marker": {
             "colorbar": {
              "outlinewidth": 0,
              "ticks": ""
             }
            },
            "type": "scatter3d"
           }
          ],
          "scattercarpet": [
           {
            "marker": {
             "colorbar": {
              "outlinewidth": 0,
              "ticks": ""
             }
            },
            "type": "scattercarpet"
           }
          ],
          "scattergeo": [
           {
            "marker": {
             "colorbar": {
              "outlinewidth": 0,
              "ticks": ""
             }
            },
            "type": "scattergeo"
           }
          ],
          "scattergl": [
           {
            "marker": {
             "colorbar": {
              "outlinewidth": 0,
              "ticks": ""
             }
            },
            "type": "scattergl"
           }
          ],
          "scattermapbox": [
           {
            "marker": {
             "colorbar": {
              "outlinewidth": 0,
              "ticks": ""
             }
            },
            "type": "scattermapbox"
           }
          ],
          "scatterpolar": [
           {
            "marker": {
             "colorbar": {
              "outlinewidth": 0,
              "ticks": ""
             }
            },
            "type": "scatterpolar"
           }
          ],
          "scatterpolargl": [
           {
            "marker": {
             "colorbar": {
              "outlinewidth": 0,
              "ticks": ""
             }
            },
            "type": "scatterpolargl"
           }
          ],
          "scatterternary": [
           {
            "marker": {
             "colorbar": {
              "outlinewidth": 0,
              "ticks": ""
             }
            },
            "type": "scatterternary"
           }
          ],
          "surface": [
           {
            "colorbar": {
             "outlinewidth": 0,
             "ticks": ""
            },
            "colorscale": [
             [
              0,
              "#0d0887"
             ],
             [
              0.1111111111111111,
              "#46039f"
             ],
             [
              0.2222222222222222,
              "#7201a8"
             ],
             [
              0.3333333333333333,
              "#9c179e"
             ],
             [
              0.4444444444444444,
              "#bd3786"
             ],
             [
              0.5555555555555556,
              "#d8576b"
             ],
             [
              0.6666666666666666,
              "#ed7953"
             ],
             [
              0.7777777777777778,
              "#fb9f3a"
             ],
             [
              0.8888888888888888,
              "#fdca26"
             ],
             [
              1,
              "#f0f921"
             ]
            ],
            "type": "surface"
           }
          ],
          "table": [
           {
            "cells": {
             "fill": {
              "color": "#EBF0F8"
             },
             "line": {
              "color": "white"
             }
            },
            "header": {
             "fill": {
              "color": "#C8D4E3"
             },
             "line": {
              "color": "white"
             }
            },
            "type": "table"
           }
          ]
         },
         "layout": {
          "annotationdefaults": {
           "arrowcolor": "#2a3f5f",
           "arrowhead": 0,
           "arrowwidth": 1
          },
          "autotypenumbers": "strict",
          "coloraxis": {
           "colorbar": {
            "outlinewidth": 0,
            "ticks": ""
           }
          },
          "colorscale": {
           "diverging": [
            [
             0,
             "#8e0152"
            ],
            [
             0.1,
             "#c51b7d"
            ],
            [
             0.2,
             "#de77ae"
            ],
            [
             0.3,
             "#f1b6da"
            ],
            [
             0.4,
             "#fde0ef"
            ],
            [
             0.5,
             "#f7f7f7"
            ],
            [
             0.6,
             "#e6f5d0"
            ],
            [
             0.7,
             "#b8e186"
            ],
            [
             0.8,
             "#7fbc41"
            ],
            [
             0.9,
             "#4d9221"
            ],
            [
             1,
             "#276419"
            ]
           ],
           "sequential": [
            [
             0,
             "#0d0887"
            ],
            [
             0.1111111111111111,
             "#46039f"
            ],
            [
             0.2222222222222222,
             "#7201a8"
            ],
            [
             0.3333333333333333,
             "#9c179e"
            ],
            [
             0.4444444444444444,
             "#bd3786"
            ],
            [
             0.5555555555555556,
             "#d8576b"
            ],
            [
             0.6666666666666666,
             "#ed7953"
            ],
            [
             0.7777777777777778,
             "#fb9f3a"
            ],
            [
             0.8888888888888888,
             "#fdca26"
            ],
            [
             1,
             "#f0f921"
            ]
           ],
           "sequentialminus": [
            [
             0,
             "#0d0887"
            ],
            [
             0.1111111111111111,
             "#46039f"
            ],
            [
             0.2222222222222222,
             "#7201a8"
            ],
            [
             0.3333333333333333,
             "#9c179e"
            ],
            [
             0.4444444444444444,
             "#bd3786"
            ],
            [
             0.5555555555555556,
             "#d8576b"
            ],
            [
             0.6666666666666666,
             "#ed7953"
            ],
            [
             0.7777777777777778,
             "#fb9f3a"
            ],
            [
             0.8888888888888888,
             "#fdca26"
            ],
            [
             1,
             "#f0f921"
            ]
           ]
          },
          "colorway": [
           "#636efa",
           "#EF553B",
           "#00cc96",
           "#ab63fa",
           "#FFA15A",
           "#19d3f3",
           "#FF6692",
           "#B6E880",
           "#FF97FF",
           "#FECB52"
          ],
          "font": {
           "color": "#2a3f5f"
          },
          "geo": {
           "bgcolor": "white",
           "lakecolor": "white",
           "landcolor": "#E5ECF6",
           "showlakes": true,
           "showland": true,
           "subunitcolor": "white"
          },
          "hoverlabel": {
           "align": "left"
          },
          "hovermode": "closest",
          "mapbox": {
           "style": "light"
          },
          "paper_bgcolor": "white",
          "plot_bgcolor": "#E5ECF6",
          "polar": {
           "angularaxis": {
            "gridcolor": "white",
            "linecolor": "white",
            "ticks": ""
           },
           "bgcolor": "#E5ECF6",
           "radialaxis": {
            "gridcolor": "white",
            "linecolor": "white",
            "ticks": ""
           }
          },
          "scene": {
           "xaxis": {
            "backgroundcolor": "#E5ECF6",
            "gridcolor": "white",
            "gridwidth": 2,
            "linecolor": "white",
            "showbackground": true,
            "ticks": "",
            "zerolinecolor": "white"
           },
           "yaxis": {
            "backgroundcolor": "#E5ECF6",
            "gridcolor": "white",
            "gridwidth": 2,
            "linecolor": "white",
            "showbackground": true,
            "ticks": "",
            "zerolinecolor": "white"
           },
           "zaxis": {
            "backgroundcolor": "#E5ECF6",
            "gridcolor": "white",
            "gridwidth": 2,
            "linecolor": "white",
            "showbackground": true,
            "ticks": "",
            "zerolinecolor": "white"
           }
          },
          "shapedefaults": {
           "line": {
            "color": "#2a3f5f"
           }
          },
          "ternary": {
           "aaxis": {
            "gridcolor": "white",
            "linecolor": "white",
            "ticks": ""
           },
           "baxis": {
            "gridcolor": "white",
            "linecolor": "white",
            "ticks": ""
           },
           "bgcolor": "#E5ECF6",
           "caxis": {
            "gridcolor": "white",
            "linecolor": "white",
            "ticks": ""
           }
          },
          "title": {
           "x": 0.05
          },
          "xaxis": {
           "automargin": true,
           "gridcolor": "white",
           "linecolor": "white",
           "ticks": "",
           "title": {
            "standoff": 15
           },
           "zerolinecolor": "white",
           "zerolinewidth": 2
          },
          "yaxis": {
           "automargin": true,
           "gridcolor": "white",
           "linecolor": "white",
           "ticks": "",
           "title": {
            "standoff": 15
           },
           "zerolinecolor": "white",
           "zerolinewidth": 2
          }
         }
        },
        "title": {
         "text": "Records History"
        },
        "xaxis": {
         "anchor": "y",
         "domain": [
          0,
          1
         ],
         "title": {
          "text": "Year"
         }
        },
        "yaxis": {
         "anchor": "x",
         "domain": [
          0,
          1
         ],
         "title": {
          "text": "Event"
         }
        }
       }
      }
     },
     "metadata": {},
     "output_type": "display_data"
    },
    {
     "data": {
      "text/plain": [
       "'Record_History.html'"
      ]
     },
     "execution_count": 167,
     "metadata": {},
     "output_type": "execute_result"
    }
   ],
   "source": [
    "fig = px.scatter(record_batido_misma_edicion.reset_index(), x=\"Year\", y=\"Event\", size=\"count\", color=\"count\",title=\"Records History\")\n",
    "fig.show()\n",
    "pyo.plot(fig, filename='Record_History.html')"
   ]
  }
 ],
 "metadata": {
  "kernelspec": {
   "display_name": "Python 3",
   "language": "python",
   "name": "python3"
  },
  "language_info": {
   "codemirror_mode": {
    "name": "ipython",
    "version": 3
   },
   "file_extension": ".py",
   "mimetype": "text/x-python",
   "name": "python",
   "nbconvert_exporter": "python",
   "pygments_lexer": "ipython3",
   "version": "3.7.4"
  },
  "orig_nbformat": 4
 },
 "nbformat": 4,
 "nbformat_minor": 2
}
