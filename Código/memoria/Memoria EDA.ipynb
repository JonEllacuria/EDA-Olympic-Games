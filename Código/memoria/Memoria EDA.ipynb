{
 "cells": [
  {
   "attachments": {},
   "cell_type": "markdown",
   "metadata": {},
   "source": [
    "# Proyecto final módulo Data Analysis\n",
    "El campeón olimpico... ¿nace o se hace? Evolución de los JJOO a lo largo de los 125 años de su historia"
   ]
  },
  {
   "attachments": {},
   "cell_type": "markdown",
   "metadata": {},
   "source": [
    "Para este proyecto, contaba con numerosa información que hay en la red.\n",
    "Montañas de Datos que había que trabajar, limpiar, juntar... para poder sacar las conclusiones a las Hipótesis que me planteé antes de comenzar."
   ]
  },
  {
   "attachments": {},
   "cell_type": "markdown",
   "metadata": {},
   "source": [
    "* Hipótesis_1: ¿Es cuestión de tiempo que EEUU lidere todas las categorías?\n",
    "* Hipótesis_2: ¿Los atletas de hoy son más homogéneos que los de hace un siglo? ¿Se mantiene la edad de los competidores? ¿Y de los campeones?\n",
    "* Hipótesis_3: ¿El PIB del país es un valor determinante a la hora de disputar las medallas?\n",
    "* Hipótesis_4: ¿Ser país anfitrión incide en el resultado de la delegación local?\n",
    "* Hipótesis_5: ¿En qué medida ha crecido la dimensión del evento?\n",
    "* Hipótesis_6: ¿Se siguen superando records? La lógica dice que cada vez es más difícil.\n",
    "* Hipótesis_7: ¿Hay territorios \"vetados\" para según qué países, regiones? ¿Ganan siempre los mismos?"
   ]
  },
  {
   "attachments": {},
   "cell_type": "markdown",
   "metadata": {},
   "source": [
    "Para ello, acudí a las siguientes fuentes buscando el material adecuado"
   ]
  },
  {
   "attachments": {},
   "cell_type": "markdown",
   "metadata": {},
   "source": [
    "* Kaggle: Descargué  una completa bbdd que recopilaba información sobre todos los deportistas que han participado en los JJOO entre las ediciones de 1896 y 2016. Sólo faltaba la última edición (2021-Tokyo)<br>\n",
    "* Por otro lado, y también desde Kaggle, localicé una base de datos con información sobre los deportistas de la edición de 2021. Desafortunadamente, el formato y los tipos de datos no tenían nada que ver con la bbdd anterior, así que hubo que hacer un gran trabajo de limpieza para adecuar las 2 tablas y poder mergearlas<br><br>\n",
    "* Olympics.com: Pude encontrar una tabla resumen con el número total de Países y Deportistas que competían en cada una de las ediciones. Si bien, con la información antes mencionada, yo mismo podría haber generado esta tabla, vino bien a la hora de comparar y confirmar datos.<br>\n",
    "De esta misma página, saqué tablas del medallero por cada una de las ediciones de forma individualizada.<br>\n",
    "También aquí encontré información sobre las diferentes pruebas, dentro de cada deporte, que se celebraron en cada una de las ediciones <br><br>\n",
    "* Banco Mundial: Pude extraer datos del PIB (total y per cápita) de todos los países desde 1960 (no hay datos anteriores). Finalmente, después de trabajarlos y limpiarlos, sólo di uso a la tabla referente al PIB per cápita, la otra no me pareció relevante.<br><br>\n",
    "* OlympianDatabase: Aquí localicé y estraje todo lo referente a los Records de Atletismo. Estuve buscando también sobre los de Natación, pero no encontré nada completo. Así que centré en los records de Atletismo.<br><br>\n",
    "* Wikipedia: De aquí no saqué ninguna data concreta, pero sí consulté varias cuestiones y pude encontrar contexto a algunas dudas que arrojaban los datos en frío<br><br>\n",
    "* Google y páginas varias para buscar cosas concretas.\n",
    "\n"
   ]
  },
  {
   "attachments": {},
   "cell_type": "markdown",
   "metadata": {},
   "source": [
    "En la presentación (adjunta) se pueden ver las conclusiones y gráficos que he podido trabajar de la siguiente forma:<br><br>\n",
    "La presentación se ha realizado en formato PowerPoint, en la misma se incluyen algunos gráficos generados con Matplotlib, Seaborn y Excel. De igual manera en varias de las diapositivas hay enlaces a gráficos interactivos generados con Plotly. Para la data con la que he trabajado y las Hipótesis que tenía, me parecen los gráficos más útiles."
   ]
  },
  {
   "attachments": {},
   "cell_type": "markdown",
   "metadata": {},
   "source": [
    "En los Notebooks adjuntos se puede ver que he ido desarrollando ideas que he ido plasmando en diferentes capitulos de la presentación.\n",
    "He tratado de separar los Notebook por temática para organizarme mejor. Si bien, puede ser algo caótico adentrarse en ellos, he preferido dejarlos tal cual por si alguien tuviera interés en seguir el desarrollo de la forma de trabajar (no siempre lineal o teniendo claro el final)"
   ]
  },
  {
   "attachments": {},
   "cell_type": "markdown",
   "metadata": {},
   "source": [
    "He tratado de conseguir la data más clarificadora, desechando por el camino otras más farragosas o liosas"
   ]
  }
 ],
 "metadata": {
  "language_info": {
   "name": "python"
  },
  "orig_nbformat": 4
 },
 "nbformat": 4,
 "nbformat_minor": 2
}
