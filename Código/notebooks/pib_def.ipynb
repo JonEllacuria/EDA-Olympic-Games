{
 "cells": [
  {
   "cell_type": "code",
   "execution_count": 86,
   "metadata": {},
   "outputs": [],
   "source": [
    "import pandas as pd\n",
    "import seaborn as sns\n",
    "import matplotlib.pyplot as plt\n",
    "import plotly.express as px\n",
    "import plotly.graph_objs as go\n",
    "from plotly.subplots import make_subplots\n",
    "from plotly.offline import init_notebook_mode, iplot, plot\n",
    "import plotly.offline as pyo\n",
    "import matplotlib"
   ]
  },
  {
   "cell_type": "code",
   "execution_count": 87,
   "metadata": {},
   "outputs": [],
   "source": [
    "pib_per_capita=pd.read_csv(\"pib_percapita.csv\")"
   ]
  },
  {
   "cell_type": "code",
   "execution_count": 88,
   "metadata": {},
   "outputs": [
    {
     "data": {
      "text/html": [
       "<div>\n",
       "<style scoped>\n",
       "    .dataframe tbody tr th:only-of-type {\n",
       "        vertical-align: middle;\n",
       "    }\n",
       "\n",
       "    .dataframe tbody tr th {\n",
       "        vertical-align: top;\n",
       "    }\n",
       "\n",
       "    .dataframe thead th {\n",
       "        text-align: right;\n",
       "    }\n",
       "</style>\n",
       "<table border=\"1\" class=\"dataframe\">\n",
       "  <thead>\n",
       "    <tr style=\"text-align: right;\">\n",
       "      <th></th>\n",
       "      <th>Countries</th>\n",
       "      <th>1960</th>\n",
       "      <th>1964</th>\n",
       "      <th>1968</th>\n",
       "      <th>1972</th>\n",
       "      <th>1976</th>\n",
       "      <th>1980</th>\n",
       "      <th>1984</th>\n",
       "      <th>1988</th>\n",
       "      <th>1992</th>\n",
       "      <th>1996</th>\n",
       "      <th>2000</th>\n",
       "      <th>2004</th>\n",
       "      <th>2008</th>\n",
       "      <th>2012</th>\n",
       "      <th>2016</th>\n",
       "      <th>2021</th>\n",
       "    </tr>\n",
       "  </thead>\n",
       "  <tbody>\n",
       "    <tr>\n",
       "      <th>0</th>\n",
       "      <td>United States</td>\n",
       "      <td>$3,014</td>\n",
       "      <td>$3,582</td>\n",
       "      <td>$4,720</td>\n",
       "      <td>$6,112</td>\n",
       "      <td>$8,611</td>\n",
       "      <td>$12,553</td>\n",
       "      <td>$17,086</td>\n",
       "      <td>$21,376</td>\n",
       "      <td>$25,393</td>\n",
       "      <td>$29,947</td>\n",
       "      <td>$36,313</td>\n",
       "      <td>$41,642</td>\n",
       "      <td>$48,471</td>\n",
       "      <td>$51,737</td>\n",
       "      <td>$57,840</td>\n",
       "      <td>$69,227</td>\n",
       "    </tr>\n",
       "    <tr>\n",
       "      <th>1</th>\n",
       "      <td>Euro zone</td>\n",
       "      <td>$923</td>\n",
       "      <td>$1,380</td>\n",
       "      <td>$1,828</td>\n",
       "      <td>$3,025</td>\n",
       "      <td>$5,399</td>\n",
       "      <td>$10,025</td>\n",
       "      <td>$7,830</td>\n",
       "      <td>$15,195</td>\n",
       "      <td>$21,994</td>\n",
       "      <td>$24,525</td>\n",
       "      <td>$20,594</td>\n",
       "      <td>$31,453</td>\n",
       "      <td>$42,907</td>\n",
       "      <td>$37,598</td>\n",
       "      <td>$35,167</td>\n",
       "      <td>$42,508</td>\n",
       "    </tr>\n",
       "    <tr>\n",
       "      <th>2</th>\n",
       "      <td>United Kingdom</td>\n",
       "      <td>$1,392</td>\n",
       "      <td>$1,742</td>\n",
       "      <td>$1,947</td>\n",
       "      <td>$3,026</td>\n",
       "      <td>$4,139</td>\n",
       "      <td>$10,715</td>\n",
       "      <td>$8,939</td>\n",
       "      <td>$17,398</td>\n",
       "      <td>$22,438</td>\n",
       "      <td>$24,465</td>\n",
       "      <td>$28,280</td>\n",
       "      <td>$40,415</td>\n",
       "      <td>$48,039</td>\n",
       "      <td>$42,691</td>\n",
       "      <td>$41,630</td>\n",
       "      <td>$46,681</td>\n",
       "    </tr>\n",
       "    <tr>\n",
       "      <th>3</th>\n",
       "      <td>Germany</td>\n",
       "      <td>NaN</td>\n",
       "      <td>NaN</td>\n",
       "      <td>NaN</td>\n",
       "      <td>$4,850</td>\n",
       "      <td>$8,459</td>\n",
       "      <td>$11,110</td>\n",
       "      <td>$8,538</td>\n",
       "      <td>$16,515</td>\n",
       "      <td>$26,538</td>\n",
       "      <td>$30,664</td>\n",
       "      <td>$23,925</td>\n",
       "      <td>$34,535</td>\n",
       "      <td>$46,368</td>\n",
       "      <td>$43,883</td>\n",
       "      <td>$42,124</td>\n",
       "      <td>$51,238</td>\n",
       "    </tr>\n",
       "    <tr>\n",
       "      <th>4</th>\n",
       "      <td>France</td>\n",
       "      <td>$1,335</td>\n",
       "      <td>$1,910</td>\n",
       "      <td>$2,536</td>\n",
       "      <td>$3,855</td>\n",
       "      <td>$6,867</td>\n",
       "      <td>$13,070</td>\n",
       "      <td>$9,697</td>\n",
       "      <td>$18,241</td>\n",
       "      <td>$24,591</td>\n",
       "      <td>$27,721</td>\n",
       "      <td>$23,212</td>\n",
       "      <td>$35,016</td>\n",
       "      <td>$47,155</td>\n",
       "      <td>$42,372</td>\n",
       "      <td>$38,349</td>\n",
       "      <td>$45,188</td>\n",
       "    </tr>\n",
       "    <tr>\n",
       "      <th>...</th>\n",
       "      <td>...</td>\n",
       "      <td>...</td>\n",
       "      <td>...</td>\n",
       "      <td>...</td>\n",
       "      <td>...</td>\n",
       "      <td>...</td>\n",
       "      <td>...</td>\n",
       "      <td>...</td>\n",
       "      <td>...</td>\n",
       "      <td>...</td>\n",
       "      <td>...</td>\n",
       "      <td>...</td>\n",
       "      <td>...</td>\n",
       "      <td>...</td>\n",
       "      <td>...</td>\n",
       "      <td>...</td>\n",
       "      <td>...</td>\n",
       "    </tr>\n",
       "    <tr>\n",
       "      <th>192</th>\n",
       "      <td>Tajikistan</td>\n",
       "      <td>NaN</td>\n",
       "      <td>NaN</td>\n",
       "      <td>NaN</td>\n",
       "      <td>NaN</td>\n",
       "      <td>NaN</td>\n",
       "      <td>NaN</td>\n",
       "      <td>NaN</td>\n",
       "      <td>NaN</td>\n",
       "      <td>$53</td>\n",
       "      <td>$183</td>\n",
       "      <td>$159</td>\n",
       "      <td>$309</td>\n",
       "      <td>$702</td>\n",
       "      <td>$950</td>\n",
       "      <td>$802</td>\n",
       "      <td>$897</td>\n",
       "    </tr>\n",
       "    <tr>\n",
       "      <th>193</th>\n",
       "      <td>Timor-Leste</td>\n",
       "      <td>NaN</td>\n",
       "      <td>NaN</td>\n",
       "      <td>NaN</td>\n",
       "      <td>NaN</td>\n",
       "      <td>NaN</td>\n",
       "      <td>NaN</td>\n",
       "      <td>NaN</td>\n",
       "      <td>NaN</td>\n",
       "      <td>$379</td>\n",
       "      <td>$615</td>\n",
       "      <td>$415</td>\n",
       "      <td>$454</td>\n",
       "      <td>$614</td>\n",
       "      <td>$1,024</td>\n",
       "      <td>$1,354</td>\n",
       "      <td>$2,741</td>\n",
       "    </tr>\n",
       "    <tr>\n",
       "      <th>194</th>\n",
       "      <td>Uzbekistan</td>\n",
       "      <td>NaN</td>\n",
       "      <td>NaN</td>\n",
       "      <td>NaN</td>\n",
       "      <td>NaN</td>\n",
       "      <td>NaN</td>\n",
       "      <td>NaN</td>\n",
       "      <td>NaN</td>\n",
       "      <td>NaN</td>\n",
       "      <td>$210</td>\n",
       "      <td>$755</td>\n",
       "      <td>$702</td>\n",
       "      <td>$585</td>\n",
       "      <td>$1,325</td>\n",
       "      <td>$2,285</td>\n",
       "      <td>$2,713</td>\n",
       "      <td>$2,002</td>\n",
       "    </tr>\n",
       "    <tr>\n",
       "      <th>195</th>\n",
       "      <td>Yemen</td>\n",
       "      <td>NaN</td>\n",
       "      <td>NaN</td>\n",
       "      <td>NaN</td>\n",
       "      <td>NaN</td>\n",
       "      <td>NaN</td>\n",
       "      <td>NaN</td>\n",
       "      <td>NaN</td>\n",
       "      <td>NaN</td>\n",
       "      <td>$1,348</td>\n",
       "      <td>$409</td>\n",
       "      <td>$542</td>\n",
       "      <td>$693</td>\n",
       "      <td>$1,204</td>\n",
       "      <td>$1,421</td>\n",
       "      <td>$1,135</td>\n",
       "      <td>$639</td>\n",
       "    </tr>\n",
       "    <tr>\n",
       "      <th>196</th>\n",
       "      <td>South Sudan</td>\n",
       "      <td>NaN</td>\n",
       "      <td>NaN</td>\n",
       "      <td>NaN</td>\n",
       "      <td>NaN</td>\n",
       "      <td>NaN</td>\n",
       "      <td>NaN</td>\n",
       "      <td>NaN</td>\n",
       "      <td>NaN</td>\n",
       "      <td>NaN</td>\n",
       "      <td>NaN</td>\n",
       "      <td>NaN</td>\n",
       "      <td>NaN</td>\n",
       "      <td>$1,653</td>\n",
       "      <td>$1,053</td>\n",
       "      <td>$316</td>\n",
       "      <td>$448</td>\n",
       "    </tr>\n",
       "  </tbody>\n",
       "</table>\n",
       "<p>197 rows × 17 columns</p>\n",
       "</div>"
      ],
      "text/plain": [
       "          Countries    1960    1964    1968    1972    1976     1980     1984  \\\n",
       "0     United States  $3,014  $3,582  $4,720  $6,112  $8,611  $12,553  $17,086   \n",
       "1         Euro zone    $923  $1,380  $1,828  $3,025  $5,399  $10,025   $7,830   \n",
       "2    United Kingdom  $1,392  $1,742  $1,947  $3,026  $4,139  $10,715   $8,939   \n",
       "3           Germany     NaN     NaN     NaN  $4,850  $8,459  $11,110   $8,538   \n",
       "4            France  $1,335  $1,910  $2,536  $3,855  $6,867  $13,070   $9,697   \n",
       "..              ...     ...     ...     ...     ...     ...      ...      ...   \n",
       "192      Tajikistan     NaN     NaN     NaN     NaN     NaN      NaN      NaN   \n",
       "193     Timor-Leste     NaN     NaN     NaN     NaN     NaN      NaN      NaN   \n",
       "194      Uzbekistan     NaN     NaN     NaN     NaN     NaN      NaN      NaN   \n",
       "195           Yemen     NaN     NaN     NaN     NaN     NaN      NaN      NaN   \n",
       "196     South Sudan     NaN     NaN     NaN     NaN     NaN      NaN      NaN   \n",
       "\n",
       "        1988     1992     1996     2000     2004     2008     2012     2016  \\\n",
       "0    $21,376  $25,393  $29,947  $36,313  $41,642  $48,471  $51,737  $57,840   \n",
       "1    $15,195  $21,994  $24,525  $20,594  $31,453  $42,907  $37,598  $35,167   \n",
       "2    $17,398  $22,438  $24,465  $28,280  $40,415  $48,039  $42,691  $41,630   \n",
       "3    $16,515  $26,538  $30,664  $23,925  $34,535  $46,368  $43,883  $42,124   \n",
       "4    $18,241  $24,591  $27,721  $23,212  $35,016  $47,155  $42,372  $38,349   \n",
       "..       ...      ...      ...      ...      ...      ...      ...      ...   \n",
       "192      NaN      $53     $183     $159     $309     $702     $950     $802   \n",
       "193      NaN     $379     $615     $415     $454     $614   $1,024   $1,354   \n",
       "194      NaN     $210     $755     $702     $585   $1,325   $2,285   $2,713   \n",
       "195      NaN   $1,348     $409     $542     $693   $1,204   $1,421   $1,135   \n",
       "196      NaN      NaN      NaN      NaN      NaN   $1,653   $1,053     $316   \n",
       "\n",
       "        2021  \n",
       "0    $69,227  \n",
       "1    $42,508  \n",
       "2    $46,681  \n",
       "3    $51,238  \n",
       "4    $45,188  \n",
       "..       ...  \n",
       "192     $897  \n",
       "193   $2,741  \n",
       "194   $2,002  \n",
       "195     $639  \n",
       "196     $448  \n",
       "\n",
       "[197 rows x 17 columns]"
      ]
     },
     "execution_count": 88,
     "metadata": {},
     "output_type": "execute_result"
    }
   ],
   "source": [
    "pib_per_capita"
   ]
  },
  {
   "cell_type": "code",
   "execution_count": 89,
   "metadata": {},
   "outputs": [
    {
     "data": {
      "text/html": [
       "<div>\n",
       "<style scoped>\n",
       "    .dataframe tbody tr th:only-of-type {\n",
       "        vertical-align: middle;\n",
       "    }\n",
       "\n",
       "    .dataframe tbody tr th {\n",
       "        vertical-align: top;\n",
       "    }\n",
       "\n",
       "    .dataframe thead th {\n",
       "        text-align: right;\n",
       "    }\n",
       "</style>\n",
       "<table border=\"1\" class=\"dataframe\">\n",
       "  <thead>\n",
       "    <tr style=\"text-align: right;\">\n",
       "      <th></th>\n",
       "      <th>Countries</th>\n",
       "      <th>1960</th>\n",
       "      <th>1964</th>\n",
       "      <th>1968</th>\n",
       "      <th>1972</th>\n",
       "      <th>1976</th>\n",
       "      <th>1980</th>\n",
       "      <th>1984</th>\n",
       "      <th>1988</th>\n",
       "      <th>1992</th>\n",
       "      <th>1996</th>\n",
       "      <th>2000</th>\n",
       "      <th>2004</th>\n",
       "      <th>2008</th>\n",
       "      <th>2012</th>\n",
       "      <th>2016</th>\n",
       "      <th>2021</th>\n",
       "    </tr>\n",
       "  </thead>\n",
       "  <tbody>\n",
       "    <tr>\n",
       "      <th>59</th>\n",
       "      <td>South Korea</td>\n",
       "      <td>$79</td>\n",
       "      <td>$106</td>\n",
       "      <td>$174</td>\n",
       "      <td>$324</td>\n",
       "      <td>$834</td>\n",
       "      <td>$1,714</td>\n",
       "      <td>$2,413</td>\n",
       "      <td>$4,755</td>\n",
       "      <td>$8,125</td>\n",
       "      <td>$13,398</td>\n",
       "      <td>$12,261</td>\n",
       "      <td>$16,506</td>\n",
       "      <td>$21,340</td>\n",
       "      <td>$25,458</td>\n",
       "      <td>$29,287</td>\n",
       "      <td>$34,744</td>\n",
       "    </tr>\n",
       "    <tr>\n",
       "      <th>141</th>\n",
       "      <td>North Korea</td>\n",
       "      <td>NaN</td>\n",
       "      <td>NaN</td>\n",
       "      <td>NaN</td>\n",
       "      <td>$381</td>\n",
       "      <td>$495</td>\n",
       "      <td>$550</td>\n",
       "      <td>$643</td>\n",
       "      <td>$703</td>\n",
       "      <td>$581</td>\n",
       "      <td>$468</td>\n",
       "      <td>$454</td>\n",
       "      <td>$466</td>\n",
       "      <td>$545</td>\n",
       "      <td>$639</td>\n",
       "      <td>$661</td>\n",
       "      <td>$681</td>\n",
       "    </tr>\n",
       "  </tbody>\n",
       "</table>\n",
       "</div>"
      ],
      "text/plain": [
       "       Countries 1960  1964  1968  1972  1976    1980    1984    1988    1992  \\\n",
       "59   South Korea  $79  $106  $174  $324  $834  $1,714  $2,413  $4,755  $8,125   \n",
       "141  North Korea  NaN   NaN   NaN  $381  $495    $550    $643    $703    $581   \n",
       "\n",
       "        1996     2000     2004     2008     2012     2016     2021  \n",
       "59   $13,398  $12,261  $16,506  $21,340  $25,458  $29,287  $34,744  \n",
       "141     $468     $454     $466     $545     $639     $661     $681  "
      ]
     },
     "execution_count": 89,
     "metadata": {},
     "output_type": "execute_result"
    }
   ],
   "source": [
    "pib_per_capita[pib_per_capita[\"Countries\"].str.contains(\"orea\")]"
   ]
  },
  {
   "cell_type": "code",
   "execution_count": 90,
   "metadata": {},
   "outputs": [],
   "source": [
    "pib_per_capita.replace(\"United Kingdom\",\"Great Britain\",inplace=True)\n",
    "pib_per_capita.replace(\"United States\",\"United States of America\",inplace=True)\n",
    "pib_per_capita.replace(\"Russia\",\"Russian Federation\",inplace=True)\n",
    "pib_per_capita.replace(\"South Korea\",\"Republic of Korea\",inplace=True)\n",
    "pib_per_capita.replace(\"Iran\",\"Islamic Republic of Iran\",inplace=True)\n",
    "pib_per_capita.replace(\"China\",\"People's Republic of China\",inplace=True)\n",
    "\n"
   ]
  },
  {
   "cell_type": "code",
   "execution_count": 91,
   "metadata": {},
   "outputs": [
    {
     "data": {
      "text/html": [
       "<div>\n",
       "<style scoped>\n",
       "    .dataframe tbody tr th:only-of-type {\n",
       "        vertical-align: middle;\n",
       "    }\n",
       "\n",
       "    .dataframe tbody tr th {\n",
       "        vertical-align: top;\n",
       "    }\n",
       "\n",
       "    .dataframe thead th {\n",
       "        text-align: right;\n",
       "    }\n",
       "</style>\n",
       "<table border=\"1\" class=\"dataframe\">\n",
       "  <thead>\n",
       "    <tr style=\"text-align: right;\">\n",
       "      <th></th>\n",
       "      <th>Countries</th>\n",
       "      <th>1960</th>\n",
       "      <th>1964</th>\n",
       "      <th>1968</th>\n",
       "      <th>1972</th>\n",
       "      <th>1976</th>\n",
       "      <th>1980</th>\n",
       "      <th>1984</th>\n",
       "      <th>1988</th>\n",
       "      <th>1992</th>\n",
       "      <th>1996</th>\n",
       "      <th>2000</th>\n",
       "      <th>2004</th>\n",
       "      <th>2008</th>\n",
       "      <th>2012</th>\n",
       "      <th>2016</th>\n",
       "      <th>2021</th>\n",
       "    </tr>\n",
       "  </thead>\n",
       "  <tbody>\n",
       "    <tr>\n",
       "      <th>0</th>\n",
       "      <td>United States of America</td>\n",
       "      <td>$3,014</td>\n",
       "      <td>$3,582</td>\n",
       "      <td>$4,720</td>\n",
       "      <td>$6,112</td>\n",
       "      <td>$8,611</td>\n",
       "      <td>$12,553</td>\n",
       "      <td>$17,086</td>\n",
       "      <td>$21,376</td>\n",
       "      <td>$25,393</td>\n",
       "      <td>$29,947</td>\n",
       "      <td>$36,313</td>\n",
       "      <td>$41,642</td>\n",
       "      <td>$48,471</td>\n",
       "      <td>$51,737</td>\n",
       "      <td>$57,840</td>\n",
       "      <td>$69,227</td>\n",
       "    </tr>\n",
       "    <tr>\n",
       "      <th>1</th>\n",
       "      <td>Euro zone</td>\n",
       "      <td>$923</td>\n",
       "      <td>$1,380</td>\n",
       "      <td>$1,828</td>\n",
       "      <td>$3,025</td>\n",
       "      <td>$5,399</td>\n",
       "      <td>$10,025</td>\n",
       "      <td>$7,830</td>\n",
       "      <td>$15,195</td>\n",
       "      <td>$21,994</td>\n",
       "      <td>$24,525</td>\n",
       "      <td>$20,594</td>\n",
       "      <td>$31,453</td>\n",
       "      <td>$42,907</td>\n",
       "      <td>$37,598</td>\n",
       "      <td>$35,167</td>\n",
       "      <td>$42,508</td>\n",
       "    </tr>\n",
       "    <tr>\n",
       "      <th>2</th>\n",
       "      <td>Great Britain</td>\n",
       "      <td>$1,392</td>\n",
       "      <td>$1,742</td>\n",
       "      <td>$1,947</td>\n",
       "      <td>$3,026</td>\n",
       "      <td>$4,139</td>\n",
       "      <td>$10,715</td>\n",
       "      <td>$8,939</td>\n",
       "      <td>$17,398</td>\n",
       "      <td>$22,438</td>\n",
       "      <td>$24,465</td>\n",
       "      <td>$28,280</td>\n",
       "      <td>$40,415</td>\n",
       "      <td>$48,039</td>\n",
       "      <td>$42,691</td>\n",
       "      <td>$41,630</td>\n",
       "      <td>$46,681</td>\n",
       "    </tr>\n",
       "    <tr>\n",
       "      <th>3</th>\n",
       "      <td>Germany</td>\n",
       "      <td>NaN</td>\n",
       "      <td>NaN</td>\n",
       "      <td>NaN</td>\n",
       "      <td>$4,850</td>\n",
       "      <td>$8,459</td>\n",
       "      <td>$11,110</td>\n",
       "      <td>$8,538</td>\n",
       "      <td>$16,515</td>\n",
       "      <td>$26,538</td>\n",
       "      <td>$30,664</td>\n",
       "      <td>$23,925</td>\n",
       "      <td>$34,535</td>\n",
       "      <td>$46,368</td>\n",
       "      <td>$43,883</td>\n",
       "      <td>$42,124</td>\n",
       "      <td>$51,238</td>\n",
       "    </tr>\n",
       "    <tr>\n",
       "      <th>4</th>\n",
       "      <td>France</td>\n",
       "      <td>$1,335</td>\n",
       "      <td>$1,910</td>\n",
       "      <td>$2,536</td>\n",
       "      <td>$3,855</td>\n",
       "      <td>$6,867</td>\n",
       "      <td>$13,070</td>\n",
       "      <td>$9,697</td>\n",
       "      <td>$18,241</td>\n",
       "      <td>$24,591</td>\n",
       "      <td>$27,721</td>\n",
       "      <td>$23,212</td>\n",
       "      <td>$35,016</td>\n",
       "      <td>$47,155</td>\n",
       "      <td>$42,372</td>\n",
       "      <td>$38,349</td>\n",
       "      <td>$45,188</td>\n",
       "    </tr>\n",
       "    <tr>\n",
       "      <th>...</th>\n",
       "      <td>...</td>\n",
       "      <td>...</td>\n",
       "      <td>...</td>\n",
       "      <td>...</td>\n",
       "      <td>...</td>\n",
       "      <td>...</td>\n",
       "      <td>...</td>\n",
       "      <td>...</td>\n",
       "      <td>...</td>\n",
       "      <td>...</td>\n",
       "      <td>...</td>\n",
       "      <td>...</td>\n",
       "      <td>...</td>\n",
       "      <td>...</td>\n",
       "      <td>...</td>\n",
       "      <td>...</td>\n",
       "      <td>...</td>\n",
       "    </tr>\n",
       "    <tr>\n",
       "      <th>192</th>\n",
       "      <td>Tajikistan</td>\n",
       "      <td>NaN</td>\n",
       "      <td>NaN</td>\n",
       "      <td>NaN</td>\n",
       "      <td>NaN</td>\n",
       "      <td>NaN</td>\n",
       "      <td>NaN</td>\n",
       "      <td>NaN</td>\n",
       "      <td>NaN</td>\n",
       "      <td>$53</td>\n",
       "      <td>$183</td>\n",
       "      <td>$159</td>\n",
       "      <td>$309</td>\n",
       "      <td>$702</td>\n",
       "      <td>$950</td>\n",
       "      <td>$802</td>\n",
       "      <td>$897</td>\n",
       "    </tr>\n",
       "    <tr>\n",
       "      <th>193</th>\n",
       "      <td>Timor-Leste</td>\n",
       "      <td>NaN</td>\n",
       "      <td>NaN</td>\n",
       "      <td>NaN</td>\n",
       "      <td>NaN</td>\n",
       "      <td>NaN</td>\n",
       "      <td>NaN</td>\n",
       "      <td>NaN</td>\n",
       "      <td>NaN</td>\n",
       "      <td>$379</td>\n",
       "      <td>$615</td>\n",
       "      <td>$415</td>\n",
       "      <td>$454</td>\n",
       "      <td>$614</td>\n",
       "      <td>$1,024</td>\n",
       "      <td>$1,354</td>\n",
       "      <td>$2,741</td>\n",
       "    </tr>\n",
       "    <tr>\n",
       "      <th>194</th>\n",
       "      <td>Uzbekistan</td>\n",
       "      <td>NaN</td>\n",
       "      <td>NaN</td>\n",
       "      <td>NaN</td>\n",
       "      <td>NaN</td>\n",
       "      <td>NaN</td>\n",
       "      <td>NaN</td>\n",
       "      <td>NaN</td>\n",
       "      <td>NaN</td>\n",
       "      <td>$210</td>\n",
       "      <td>$755</td>\n",
       "      <td>$702</td>\n",
       "      <td>$585</td>\n",
       "      <td>$1,325</td>\n",
       "      <td>$2,285</td>\n",
       "      <td>$2,713</td>\n",
       "      <td>$2,002</td>\n",
       "    </tr>\n",
       "    <tr>\n",
       "      <th>195</th>\n",
       "      <td>Yemen</td>\n",
       "      <td>NaN</td>\n",
       "      <td>NaN</td>\n",
       "      <td>NaN</td>\n",
       "      <td>NaN</td>\n",
       "      <td>NaN</td>\n",
       "      <td>NaN</td>\n",
       "      <td>NaN</td>\n",
       "      <td>NaN</td>\n",
       "      <td>$1,348</td>\n",
       "      <td>$409</td>\n",
       "      <td>$542</td>\n",
       "      <td>$693</td>\n",
       "      <td>$1,204</td>\n",
       "      <td>$1,421</td>\n",
       "      <td>$1,135</td>\n",
       "      <td>$639</td>\n",
       "    </tr>\n",
       "    <tr>\n",
       "      <th>196</th>\n",
       "      <td>South Sudan</td>\n",
       "      <td>NaN</td>\n",
       "      <td>NaN</td>\n",
       "      <td>NaN</td>\n",
       "      <td>NaN</td>\n",
       "      <td>NaN</td>\n",
       "      <td>NaN</td>\n",
       "      <td>NaN</td>\n",
       "      <td>NaN</td>\n",
       "      <td>NaN</td>\n",
       "      <td>NaN</td>\n",
       "      <td>NaN</td>\n",
       "      <td>NaN</td>\n",
       "      <td>$1,653</td>\n",
       "      <td>$1,053</td>\n",
       "      <td>$316</td>\n",
       "      <td>$448</td>\n",
       "    </tr>\n",
       "  </tbody>\n",
       "</table>\n",
       "<p>197 rows × 17 columns</p>\n",
       "</div>"
      ],
      "text/plain": [
       "                    Countries    1960    1964    1968    1972    1976  \\\n",
       "0    United States of America  $3,014  $3,582  $4,720  $6,112  $8,611   \n",
       "1                   Euro zone    $923  $1,380  $1,828  $3,025  $5,399   \n",
       "2               Great Britain  $1,392  $1,742  $1,947  $3,026  $4,139   \n",
       "3                     Germany     NaN     NaN     NaN  $4,850  $8,459   \n",
       "4                      France  $1,335  $1,910  $2,536  $3,855  $6,867   \n",
       "..                        ...     ...     ...     ...     ...     ...   \n",
       "192                Tajikistan     NaN     NaN     NaN     NaN     NaN   \n",
       "193               Timor-Leste     NaN     NaN     NaN     NaN     NaN   \n",
       "194                Uzbekistan     NaN     NaN     NaN     NaN     NaN   \n",
       "195                     Yemen     NaN     NaN     NaN     NaN     NaN   \n",
       "196               South Sudan     NaN     NaN     NaN     NaN     NaN   \n",
       "\n",
       "        1980     1984     1988     1992     1996     2000     2004     2008  \\\n",
       "0    $12,553  $17,086  $21,376  $25,393  $29,947  $36,313  $41,642  $48,471   \n",
       "1    $10,025   $7,830  $15,195  $21,994  $24,525  $20,594  $31,453  $42,907   \n",
       "2    $10,715   $8,939  $17,398  $22,438  $24,465  $28,280  $40,415  $48,039   \n",
       "3    $11,110   $8,538  $16,515  $26,538  $30,664  $23,925  $34,535  $46,368   \n",
       "4    $13,070   $9,697  $18,241  $24,591  $27,721  $23,212  $35,016  $47,155   \n",
       "..       ...      ...      ...      ...      ...      ...      ...      ...   \n",
       "192      NaN      NaN      NaN      $53     $183     $159     $309     $702   \n",
       "193      NaN      NaN      NaN     $379     $615     $415     $454     $614   \n",
       "194      NaN      NaN      NaN     $210     $755     $702     $585   $1,325   \n",
       "195      NaN      NaN      NaN   $1,348     $409     $542     $693   $1,204   \n",
       "196      NaN      NaN      NaN      NaN      NaN      NaN      NaN   $1,653   \n",
       "\n",
       "        2012     2016     2021  \n",
       "0    $51,737  $57,840  $69,227  \n",
       "1    $37,598  $35,167  $42,508  \n",
       "2    $42,691  $41,630  $46,681  \n",
       "3    $43,883  $42,124  $51,238  \n",
       "4    $42,372  $38,349  $45,188  \n",
       "..       ...      ...      ...  \n",
       "192     $950     $802     $897  \n",
       "193   $1,024   $1,354   $2,741  \n",
       "194   $2,285   $2,713   $2,002  \n",
       "195   $1,421   $1,135     $639  \n",
       "196   $1,053     $316     $448  \n",
       "\n",
       "[197 rows x 17 columns]"
      ]
     },
     "execution_count": 91,
     "metadata": {},
     "output_type": "execute_result"
    }
   ],
   "source": [
    "pib_per_capita"
   ]
  },
  {
   "cell_type": "code",
   "execution_count": 92,
   "metadata": {},
   "outputs": [],
   "source": [
    "medallas_por_pais_year=pd.read_csv(\"df_total_medallas.csv\")"
   ]
  },
  {
   "cell_type": "code",
   "execution_count": 93,
   "metadata": {},
   "outputs": [
    {
     "data": {
      "text/html": [
       "<div>\n",
       "<style scoped>\n",
       "    .dataframe tbody tr th:only-of-type {\n",
       "        vertical-align: middle;\n",
       "    }\n",
       "\n",
       "    .dataframe tbody tr th {\n",
       "        vertical-align: top;\n",
       "    }\n",
       "\n",
       "    .dataframe thead th {\n",
       "        text-align: right;\n",
       "    }\n",
       "</style>\n",
       "<table border=\"1\" class=\"dataframe\">\n",
       "  <thead>\n",
       "    <tr style=\"text-align: right;\">\n",
       "      <th></th>\n",
       "      <th>País</th>\n",
       "      <th>Oro</th>\n",
       "      <th>Plata</th>\n",
       "      <th>Bronce</th>\n",
       "      <th>Total</th>\n",
       "      <th>Año</th>\n",
       "    </tr>\n",
       "  </thead>\n",
       "  <tbody>\n",
       "    <tr>\n",
       "      <th>0</th>\n",
       "      <td>Australia</td>\n",
       "      <td>2</td>\n",
       "      <td>0</td>\n",
       "      <td>1</td>\n",
       "      <td>3.0</td>\n",
       "      <td>1896</td>\n",
       "    </tr>\n",
       "    <tr>\n",
       "      <th>1</th>\n",
       "      <td>Austria</td>\n",
       "      <td>2</td>\n",
       "      <td>1</td>\n",
       "      <td>2</td>\n",
       "      <td>5.0</td>\n",
       "      <td>1896</td>\n",
       "    </tr>\n",
       "    <tr>\n",
       "      <th>2</th>\n",
       "      <td>Denmark</td>\n",
       "      <td>1</td>\n",
       "      <td>2</td>\n",
       "      <td>3</td>\n",
       "      <td>6.0</td>\n",
       "      <td>1896</td>\n",
       "    </tr>\n",
       "    <tr>\n",
       "      <th>3</th>\n",
       "      <td>France</td>\n",
       "      <td>5</td>\n",
       "      <td>4</td>\n",
       "      <td>2</td>\n",
       "      <td>11.0</td>\n",
       "      <td>1896</td>\n",
       "    </tr>\n",
       "    <tr>\n",
       "      <th>4</th>\n",
       "      <td>Germany</td>\n",
       "      <td>7</td>\n",
       "      <td>5</td>\n",
       "      <td>2</td>\n",
       "      <td>14.0</td>\n",
       "      <td>1896</td>\n",
       "    </tr>\n",
       "    <tr>\n",
       "      <th>...</th>\n",
       "      <td>...</td>\n",
       "      <td>...</td>\n",
       "      <td>...</td>\n",
       "      <td>...</td>\n",
       "      <td>...</td>\n",
       "      <td>...</td>\n",
       "    </tr>\n",
       "    <tr>\n",
       "      <th>1342</th>\n",
       "      <td>Uganda</td>\n",
       "      <td>2</td>\n",
       "      <td>1</td>\n",
       "      <td>1</td>\n",
       "      <td>4.0</td>\n",
       "      <td>2021</td>\n",
       "    </tr>\n",
       "    <tr>\n",
       "      <th>1343</th>\n",
       "      <td>Ukraine</td>\n",
       "      <td>1</td>\n",
       "      <td>6</td>\n",
       "      <td>12</td>\n",
       "      <td>19.0</td>\n",
       "      <td>2021</td>\n",
       "    </tr>\n",
       "    <tr>\n",
       "      <th>1344</th>\n",
       "      <td>United States of America</td>\n",
       "      <td>39</td>\n",
       "      <td>41</td>\n",
       "      <td>33</td>\n",
       "      <td>113.0</td>\n",
       "      <td>2021</td>\n",
       "    </tr>\n",
       "    <tr>\n",
       "      <th>1345</th>\n",
       "      <td>Uzbekistan</td>\n",
       "      <td>3</td>\n",
       "      <td>0</td>\n",
       "      <td>2</td>\n",
       "      <td>5.0</td>\n",
       "      <td>2021</td>\n",
       "    </tr>\n",
       "    <tr>\n",
       "      <th>1346</th>\n",
       "      <td>Venezuela</td>\n",
       "      <td>1</td>\n",
       "      <td>3</td>\n",
       "      <td>0</td>\n",
       "      <td>4.0</td>\n",
       "      <td>2021</td>\n",
       "    </tr>\n",
       "  </tbody>\n",
       "</table>\n",
       "<p>1347 rows × 6 columns</p>\n",
       "</div>"
      ],
      "text/plain": [
       "                          País  Oro  Plata  Bronce  Total   Año\n",
       "0                    Australia    2      0       1    3.0  1896\n",
       "1                      Austria    2      1       2    5.0  1896\n",
       "2                      Denmark    1      2       3    6.0  1896\n",
       "3                       France    5      4       2   11.0  1896\n",
       "4                      Germany    7      5       2   14.0  1896\n",
       "...                        ...  ...    ...     ...    ...   ...\n",
       "1342                    Uganda    2      1       1    4.0  2021\n",
       "1343                   Ukraine    1      6      12   19.0  2021\n",
       "1344  United States of America   39     41      33  113.0  2021\n",
       "1345                Uzbekistan    3      0       2    5.0  2021\n",
       "1346                 Venezuela    1      3       0    4.0  2021\n",
       "\n",
       "[1347 rows x 6 columns]"
      ]
     },
     "execution_count": 93,
     "metadata": {},
     "output_type": "execute_result"
    }
   ],
   "source": [
    "medallas_por_pais_year"
   ]
  },
  {
   "cell_type": "code",
   "execution_count": 94,
   "metadata": {},
   "outputs": [],
   "source": [
    "pib_per_capita.rename(columns={\"Countries\":\"País\"},inplace=True)"
   ]
  },
  {
   "cell_type": "code",
   "execution_count": 95,
   "metadata": {},
   "outputs": [],
   "source": [
    "df_pib_melted = pd.melt(pib_per_capita, id_vars=[\"País\"], var_name=\"Año\", value_name=\"PIB per cápita\")"
   ]
  },
  {
   "cell_type": "code",
   "execution_count": 96,
   "metadata": {},
   "outputs": [
    {
     "data": {
      "text/html": [
       "<div>\n",
       "<style scoped>\n",
       "    .dataframe tbody tr th:only-of-type {\n",
       "        vertical-align: middle;\n",
       "    }\n",
       "\n",
       "    .dataframe tbody tr th {\n",
       "        vertical-align: top;\n",
       "    }\n",
       "\n",
       "    .dataframe thead th {\n",
       "        text-align: right;\n",
       "    }\n",
       "</style>\n",
       "<table border=\"1\" class=\"dataframe\">\n",
       "  <thead>\n",
       "    <tr style=\"text-align: right;\">\n",
       "      <th></th>\n",
       "      <th>País</th>\n",
       "      <th>Año</th>\n",
       "      <th>PIB per cápita</th>\n",
       "    </tr>\n",
       "  </thead>\n",
       "  <tbody>\n",
       "    <tr>\n",
       "      <th>0</th>\n",
       "      <td>United States of America</td>\n",
       "      <td>1960</td>\n",
       "      <td>$3,014</td>\n",
       "    </tr>\n",
       "    <tr>\n",
       "      <th>1</th>\n",
       "      <td>Euro zone</td>\n",
       "      <td>1960</td>\n",
       "      <td>$923</td>\n",
       "    </tr>\n",
       "    <tr>\n",
       "      <th>2</th>\n",
       "      <td>Great Britain</td>\n",
       "      <td>1960</td>\n",
       "      <td>$1,392</td>\n",
       "    </tr>\n",
       "    <tr>\n",
       "      <th>3</th>\n",
       "      <td>Germany</td>\n",
       "      <td>1960</td>\n",
       "      <td>NaN</td>\n",
       "    </tr>\n",
       "    <tr>\n",
       "      <th>4</th>\n",
       "      <td>France</td>\n",
       "      <td>1960</td>\n",
       "      <td>$1,335</td>\n",
       "    </tr>\n",
       "    <tr>\n",
       "      <th>...</th>\n",
       "      <td>...</td>\n",
       "      <td>...</td>\n",
       "      <td>...</td>\n",
       "    </tr>\n",
       "    <tr>\n",
       "      <th>3147</th>\n",
       "      <td>Tajikistan</td>\n",
       "      <td>2021</td>\n",
       "      <td>$897</td>\n",
       "    </tr>\n",
       "    <tr>\n",
       "      <th>3148</th>\n",
       "      <td>Timor-Leste</td>\n",
       "      <td>2021</td>\n",
       "      <td>$2,741</td>\n",
       "    </tr>\n",
       "    <tr>\n",
       "      <th>3149</th>\n",
       "      <td>Uzbekistan</td>\n",
       "      <td>2021</td>\n",
       "      <td>$2,002</td>\n",
       "    </tr>\n",
       "    <tr>\n",
       "      <th>3150</th>\n",
       "      <td>Yemen</td>\n",
       "      <td>2021</td>\n",
       "      <td>$639</td>\n",
       "    </tr>\n",
       "    <tr>\n",
       "      <th>3151</th>\n",
       "      <td>South Sudan</td>\n",
       "      <td>2021</td>\n",
       "      <td>$448</td>\n",
       "    </tr>\n",
       "  </tbody>\n",
       "</table>\n",
       "<p>3152 rows × 3 columns</p>\n",
       "</div>"
      ],
      "text/plain": [
       "                          País   Año PIB per cápita\n",
       "0     United States of America  1960         $3,014\n",
       "1                    Euro zone  1960           $923\n",
       "2                Great Britain  1960         $1,392\n",
       "3                      Germany  1960            NaN\n",
       "4                       France  1960         $1,335\n",
       "...                        ...   ...            ...\n",
       "3147                Tajikistan  2021           $897\n",
       "3148               Timor-Leste  2021         $2,741\n",
       "3149                Uzbekistan  2021         $2,002\n",
       "3150                     Yemen  2021           $639\n",
       "3151               South Sudan  2021           $448\n",
       "\n",
       "[3152 rows x 3 columns]"
      ]
     },
     "execution_count": 96,
     "metadata": {},
     "output_type": "execute_result"
    }
   ],
   "source": [
    "df_pib_melted"
   ]
  },
  {
   "cell_type": "code",
   "execution_count": 97,
   "metadata": {},
   "outputs": [],
   "source": [
    "medallas_por_pais_year=medallas_por_pais_year[medallas_por_pais_year[\"Año\"]>1959]"
   ]
  },
  {
   "cell_type": "code",
   "execution_count": 98,
   "metadata": {},
   "outputs": [
    {
     "name": "stderr",
     "output_type": "stream",
     "text": [
      "C:\\Users\\Admin\\AppData\\Roaming\\Python\\Python37\\site-packages\\ipykernel_launcher.py:1: SettingWithCopyWarning:\n",
      "\n",
      "\n",
      "A value is trying to be set on a copy of a slice from a DataFrame.\n",
      "Try using .loc[row_indexer,col_indexer] = value instead\n",
      "\n",
      "See the caveats in the documentation: https://pandas.pydata.org/pandas-docs/stable/user_guide/indexing.html#returning-a-view-versus-a-copy\n",
      "\n"
     ]
    }
   ],
   "source": [
    "medallas_por_pais_year[\"Año\"] = medallas_por_pais_year[\"Año\"].astype(int)\n"
   ]
  },
  {
   "cell_type": "code",
   "execution_count": 99,
   "metadata": {},
   "outputs": [
    {
     "data": {
      "text/html": [
       "<div>\n",
       "<style scoped>\n",
       "    .dataframe tbody tr th:only-of-type {\n",
       "        vertical-align: middle;\n",
       "    }\n",
       "\n",
       "    .dataframe tbody tr th {\n",
       "        vertical-align: top;\n",
       "    }\n",
       "\n",
       "    .dataframe thead th {\n",
       "        text-align: right;\n",
       "    }\n",
       "</style>\n",
       "<table border=\"1\" class=\"dataframe\">\n",
       "  <thead>\n",
       "    <tr style=\"text-align: right;\">\n",
       "      <th></th>\n",
       "      <th>País</th>\n",
       "      <th>Año</th>\n",
       "      <th>PIB per cápita</th>\n",
       "    </tr>\n",
       "  </thead>\n",
       "  <tbody>\n",
       "    <tr>\n",
       "      <th>0</th>\n",
       "      <td>United States of America</td>\n",
       "      <td>1960</td>\n",
       "      <td>$3,014</td>\n",
       "    </tr>\n",
       "    <tr>\n",
       "      <th>1</th>\n",
       "      <td>Euro zone</td>\n",
       "      <td>1960</td>\n",
       "      <td>$923</td>\n",
       "    </tr>\n",
       "    <tr>\n",
       "      <th>2</th>\n",
       "      <td>Great Britain</td>\n",
       "      <td>1960</td>\n",
       "      <td>$1,392</td>\n",
       "    </tr>\n",
       "    <tr>\n",
       "      <th>3</th>\n",
       "      <td>Germany</td>\n",
       "      <td>1960</td>\n",
       "      <td>NaN</td>\n",
       "    </tr>\n",
       "    <tr>\n",
       "      <th>4</th>\n",
       "      <td>France</td>\n",
       "      <td>1960</td>\n",
       "      <td>$1,335</td>\n",
       "    </tr>\n",
       "    <tr>\n",
       "      <th>...</th>\n",
       "      <td>...</td>\n",
       "      <td>...</td>\n",
       "      <td>...</td>\n",
       "    </tr>\n",
       "    <tr>\n",
       "      <th>3147</th>\n",
       "      <td>Tajikistan</td>\n",
       "      <td>2021</td>\n",
       "      <td>$897</td>\n",
       "    </tr>\n",
       "    <tr>\n",
       "      <th>3148</th>\n",
       "      <td>Timor-Leste</td>\n",
       "      <td>2021</td>\n",
       "      <td>$2,741</td>\n",
       "    </tr>\n",
       "    <tr>\n",
       "      <th>3149</th>\n",
       "      <td>Uzbekistan</td>\n",
       "      <td>2021</td>\n",
       "      <td>$2,002</td>\n",
       "    </tr>\n",
       "    <tr>\n",
       "      <th>3150</th>\n",
       "      <td>Yemen</td>\n",
       "      <td>2021</td>\n",
       "      <td>$639</td>\n",
       "    </tr>\n",
       "    <tr>\n",
       "      <th>3151</th>\n",
       "      <td>South Sudan</td>\n",
       "      <td>2021</td>\n",
       "      <td>$448</td>\n",
       "    </tr>\n",
       "  </tbody>\n",
       "</table>\n",
       "<p>3152 rows × 3 columns</p>\n",
       "</div>"
      ],
      "text/plain": [
       "                          País   Año PIB per cápita\n",
       "0     United States of America  1960         $3,014\n",
       "1                    Euro zone  1960           $923\n",
       "2                Great Britain  1960         $1,392\n",
       "3                      Germany  1960            NaN\n",
       "4                       France  1960         $1,335\n",
       "...                        ...   ...            ...\n",
       "3147                Tajikistan  2021           $897\n",
       "3148               Timor-Leste  2021         $2,741\n",
       "3149                Uzbekistan  2021         $2,002\n",
       "3150                     Yemen  2021           $639\n",
       "3151               South Sudan  2021           $448\n",
       "\n",
       "[3152 rows x 3 columns]"
      ]
     },
     "execution_count": 99,
     "metadata": {},
     "output_type": "execute_result"
    }
   ],
   "source": [
    "df_pib_melted"
   ]
  },
  {
   "cell_type": "code",
   "execution_count": 100,
   "metadata": {},
   "outputs": [
    {
     "name": "stderr",
     "output_type": "stream",
     "text": [
      "C:\\Users\\Admin\\AppData\\Roaming\\Python\\Python37\\site-packages\\ipykernel_launcher.py:2: SettingWithCopyWarning:\n",
      "\n",
      "\n",
      "A value is trying to be set on a copy of a slice from a DataFrame.\n",
      "Try using .loc[row_indexer,col_indexer] = value instead\n",
      "\n",
      "See the caveats in the documentation: https://pandas.pydata.org/pandas-docs/stable/user_guide/indexing.html#returning-a-view-versus-a-copy\n",
      "\n"
     ]
    }
   ],
   "source": [
    "df_pib_melted[\"Año\"] = df_pib_melted[\"Año\"].astype(int)\n",
    "medallas_por_pais_year[\"Año\"] = medallas_por_pais_year[\"Año\"].astype(int)"
   ]
  },
  {
   "cell_type": "code",
   "execution_count": 101,
   "metadata": {},
   "outputs": [
    {
     "data": {
      "text/html": [
       "<div>\n",
       "<style scoped>\n",
       "    .dataframe tbody tr th:only-of-type {\n",
       "        vertical-align: middle;\n",
       "    }\n",
       "\n",
       "    .dataframe tbody tr th {\n",
       "        vertical-align: top;\n",
       "    }\n",
       "\n",
       "    .dataframe thead th {\n",
       "        text-align: right;\n",
       "    }\n",
       "</style>\n",
       "<table border=\"1\" class=\"dataframe\">\n",
       "  <thead>\n",
       "    <tr style=\"text-align: right;\">\n",
       "      <th></th>\n",
       "      <th>País</th>\n",
       "      <th>Año</th>\n",
       "      <th>PIB per cápita</th>\n",
       "    </tr>\n",
       "  </thead>\n",
       "  <tbody>\n",
       "    <tr>\n",
       "      <th>0</th>\n",
       "      <td>United States of America</td>\n",
       "      <td>1960</td>\n",
       "      <td>$3,014</td>\n",
       "    </tr>\n",
       "    <tr>\n",
       "      <th>1</th>\n",
       "      <td>Euro zone</td>\n",
       "      <td>1960</td>\n",
       "      <td>$923</td>\n",
       "    </tr>\n",
       "    <tr>\n",
       "      <th>2</th>\n",
       "      <td>Great Britain</td>\n",
       "      <td>1960</td>\n",
       "      <td>$1,392</td>\n",
       "    </tr>\n",
       "    <tr>\n",
       "      <th>3</th>\n",
       "      <td>Germany</td>\n",
       "      <td>1960</td>\n",
       "      <td>NaN</td>\n",
       "    </tr>\n",
       "    <tr>\n",
       "      <th>4</th>\n",
       "      <td>France</td>\n",
       "      <td>1960</td>\n",
       "      <td>$1,335</td>\n",
       "    </tr>\n",
       "    <tr>\n",
       "      <th>...</th>\n",
       "      <td>...</td>\n",
       "      <td>...</td>\n",
       "      <td>...</td>\n",
       "    </tr>\n",
       "    <tr>\n",
       "      <th>3147</th>\n",
       "      <td>Tajikistan</td>\n",
       "      <td>2021</td>\n",
       "      <td>$897</td>\n",
       "    </tr>\n",
       "    <tr>\n",
       "      <th>3148</th>\n",
       "      <td>Timor-Leste</td>\n",
       "      <td>2021</td>\n",
       "      <td>$2,741</td>\n",
       "    </tr>\n",
       "    <tr>\n",
       "      <th>3149</th>\n",
       "      <td>Uzbekistan</td>\n",
       "      <td>2021</td>\n",
       "      <td>$2,002</td>\n",
       "    </tr>\n",
       "    <tr>\n",
       "      <th>3150</th>\n",
       "      <td>Yemen</td>\n",
       "      <td>2021</td>\n",
       "      <td>$639</td>\n",
       "    </tr>\n",
       "    <tr>\n",
       "      <th>3151</th>\n",
       "      <td>South Sudan</td>\n",
       "      <td>2021</td>\n",
       "      <td>$448</td>\n",
       "    </tr>\n",
       "  </tbody>\n",
       "</table>\n",
       "<p>3152 rows × 3 columns</p>\n",
       "</div>"
      ],
      "text/plain": [
       "                          País   Año PIB per cápita\n",
       "0     United States of America  1960         $3,014\n",
       "1                    Euro zone  1960           $923\n",
       "2                Great Britain  1960         $1,392\n",
       "3                      Germany  1960            NaN\n",
       "4                       France  1960         $1,335\n",
       "...                        ...   ...            ...\n",
       "3147                Tajikistan  2021           $897\n",
       "3148               Timor-Leste  2021         $2,741\n",
       "3149                Uzbekistan  2021         $2,002\n",
       "3150                     Yemen  2021           $639\n",
       "3151               South Sudan  2021           $448\n",
       "\n",
       "[3152 rows x 3 columns]"
      ]
     },
     "execution_count": 101,
     "metadata": {},
     "output_type": "execute_result"
    }
   ],
   "source": [
    "df_pib_melted"
   ]
  },
  {
   "cell_type": "code",
   "execution_count": 102,
   "metadata": {},
   "outputs": [],
   "source": [
    "df_medallas_pib = pd.merge(medallas_por_pais_year, df_pib_melted, on=[\"País\", \"Año\"])"
   ]
  },
  {
   "cell_type": "code",
   "execution_count": 103,
   "metadata": {},
   "outputs": [
    {
     "data": {
      "text/html": [
       "<div>\n",
       "<style scoped>\n",
       "    .dataframe tbody tr th:only-of-type {\n",
       "        vertical-align: middle;\n",
       "    }\n",
       "\n",
       "    .dataframe tbody tr th {\n",
       "        vertical-align: top;\n",
       "    }\n",
       "\n",
       "    .dataframe thead th {\n",
       "        text-align: right;\n",
       "    }\n",
       "</style>\n",
       "<table border=\"1\" class=\"dataframe\">\n",
       "  <thead>\n",
       "    <tr style=\"text-align: right;\">\n",
       "      <th></th>\n",
       "      <th>País</th>\n",
       "      <th>Oro</th>\n",
       "      <th>Plata</th>\n",
       "      <th>Bronce</th>\n",
       "      <th>Total</th>\n",
       "      <th>Año</th>\n",
       "      <th>PIB per cápita</th>\n",
       "    </tr>\n",
       "  </thead>\n",
       "  <tbody>\n",
       "    <tr>\n",
       "      <th>0</th>\n",
       "      <td>Argentina</td>\n",
       "      <td>0</td>\n",
       "      <td>1</td>\n",
       "      <td>1</td>\n",
       "      <td>2.0</td>\n",
       "      <td>1960</td>\n",
       "      <td>NaN</td>\n",
       "    </tr>\n",
       "    <tr>\n",
       "      <th>1</th>\n",
       "      <td>Australia</td>\n",
       "      <td>8</td>\n",
       "      <td>8</td>\n",
       "      <td>6</td>\n",
       "      <td>22.0</td>\n",
       "      <td>1960</td>\n",
       "      <td>$1,811</td>\n",
       "    </tr>\n",
       "    <tr>\n",
       "      <th>2</th>\n",
       "      <td>Austria</td>\n",
       "      <td>1</td>\n",
       "      <td>1</td>\n",
       "      <td>0</td>\n",
       "      <td>2.0</td>\n",
       "      <td>1960</td>\n",
       "      <td>$933</td>\n",
       "    </tr>\n",
       "    <tr>\n",
       "      <th>3</th>\n",
       "      <td>Belgium</td>\n",
       "      <td>0</td>\n",
       "      <td>2</td>\n",
       "      <td>2</td>\n",
       "      <td>4.0</td>\n",
       "      <td>1960</td>\n",
       "      <td>$1,270</td>\n",
       "    </tr>\n",
       "    <tr>\n",
       "      <th>4</th>\n",
       "      <td>Brazil</td>\n",
       "      <td>0</td>\n",
       "      <td>0</td>\n",
       "      <td>2</td>\n",
       "      <td>2.0</td>\n",
       "      <td>1960</td>\n",
       "      <td>$233</td>\n",
       "    </tr>\n",
       "    <tr>\n",
       "      <th>...</th>\n",
       "      <td>...</td>\n",
       "      <td>...</td>\n",
       "      <td>...</td>\n",
       "      <td>...</td>\n",
       "      <td>...</td>\n",
       "      <td>...</td>\n",
       "      <td>...</td>\n",
       "    </tr>\n",
       "    <tr>\n",
       "      <th>914</th>\n",
       "      <td>Uganda</td>\n",
       "      <td>2</td>\n",
       "      <td>1</td>\n",
       "      <td>1</td>\n",
       "      <td>4.0</td>\n",
       "      <td>2021</td>\n",
       "      <td>$1,012</td>\n",
       "    </tr>\n",
       "    <tr>\n",
       "      <th>915</th>\n",
       "      <td>Ukraine</td>\n",
       "      <td>1</td>\n",
       "      <td>6</td>\n",
       "      <td>12</td>\n",
       "      <td>19.0</td>\n",
       "      <td>2021</td>\n",
       "      <td>$4,880</td>\n",
       "    </tr>\n",
       "    <tr>\n",
       "      <th>916</th>\n",
       "      <td>United States of America</td>\n",
       "      <td>39</td>\n",
       "      <td>41</td>\n",
       "      <td>33</td>\n",
       "      <td>113.0</td>\n",
       "      <td>2021</td>\n",
       "      <td>$69,227</td>\n",
       "    </tr>\n",
       "    <tr>\n",
       "      <th>917</th>\n",
       "      <td>Uzbekistan</td>\n",
       "      <td>3</td>\n",
       "      <td>0</td>\n",
       "      <td>2</td>\n",
       "      <td>5.0</td>\n",
       "      <td>2021</td>\n",
       "      <td>$2,002</td>\n",
       "    </tr>\n",
       "    <tr>\n",
       "      <th>918</th>\n",
       "      <td>Venezuela</td>\n",
       "      <td>1</td>\n",
       "      <td>3</td>\n",
       "      <td>0</td>\n",
       "      <td>4.0</td>\n",
       "      <td>2021</td>\n",
       "      <td>$3,423</td>\n",
       "    </tr>\n",
       "  </tbody>\n",
       "</table>\n",
       "<p>919 rows × 7 columns</p>\n",
       "</div>"
      ],
      "text/plain": [
       "                         País  Oro  Plata  Bronce  Total   Año PIB per cápita\n",
       "0                   Argentina    0      1       1    2.0  1960            NaN\n",
       "1                   Australia    8      8       6   22.0  1960         $1,811\n",
       "2                     Austria    1      1       0    2.0  1960           $933\n",
       "3                     Belgium    0      2       2    4.0  1960         $1,270\n",
       "4                      Brazil    0      0       2    2.0  1960           $233\n",
       "..                        ...  ...    ...     ...    ...   ...            ...\n",
       "914                    Uganda    2      1       1    4.0  2021         $1,012\n",
       "915                   Ukraine    1      6      12   19.0  2021         $4,880\n",
       "916  United States of America   39     41      33  113.0  2021        $69,227\n",
       "917                Uzbekistan    3      0       2    5.0  2021         $2,002\n",
       "918                 Venezuela    1      3       0    4.0  2021         $3,423\n",
       "\n",
       "[919 rows x 7 columns]"
      ]
     },
     "execution_count": 103,
     "metadata": {},
     "output_type": "execute_result"
    }
   ],
   "source": [
    "df_medallas_pib"
   ]
  },
  {
   "cell_type": "code",
   "execution_count": 104,
   "metadata": {},
   "outputs": [],
   "source": [
    "df_medallas_pib = df_medallas_pib.rename(columns={\"1960\": \"PIB per cápita (1960)\", \"1964\": \"PIB per cápita (1964)\",\n",
    "                                                  \"1968\": \"PIB per cápita (1968)\", \"1972\": \"PIB per cápita (1972)\",\n",
    "                                                  \"1976\": \"PIB per cápita (1976)\", \"1980\": \"PIB per cápita (1980)\",\n",
    "                                                  \"1984\": \"PIB per cápita (1984)\", \"1988\": \"PIB per cápita (1988)\",\n",
    "                                                  \"1992\": \"PIB per cápita (1992)\", \"1996\": \"PIB per cápita (1996)\",\n",
    "                                                  \"2000\": \"PIB per cápita (2000)\", \"2004\": \"PIB per cápita (2004)\",\n",
    "                                                  \"2008\": \"PIB per cápita (2008)\", \"2012\": \"PIB per cápita (2012)\",\n",
    "                                                  \"2016\": \"PIB per cápita (2016)\", \"2021\": \"PIB per cápita (2021)\"})"
   ]
  },
  {
   "cell_type": "code",
   "execution_count": 105,
   "metadata": {},
   "outputs": [
    {
     "data": {
      "text/html": [
       "<div>\n",
       "<style scoped>\n",
       "    .dataframe tbody tr th:only-of-type {\n",
       "        vertical-align: middle;\n",
       "    }\n",
       "\n",
       "    .dataframe tbody tr th {\n",
       "        vertical-align: top;\n",
       "    }\n",
       "\n",
       "    .dataframe thead th {\n",
       "        text-align: right;\n",
       "    }\n",
       "</style>\n",
       "<table border=\"1\" class=\"dataframe\">\n",
       "  <thead>\n",
       "    <tr style=\"text-align: right;\">\n",
       "      <th></th>\n",
       "      <th>País</th>\n",
       "      <th>Oro</th>\n",
       "      <th>Plata</th>\n",
       "      <th>Bronce</th>\n",
       "      <th>Total</th>\n",
       "      <th>Año</th>\n",
       "      <th>PIB per cápita</th>\n",
       "    </tr>\n",
       "  </thead>\n",
       "  <tbody>\n",
       "    <tr>\n",
       "      <th>0</th>\n",
       "      <td>Argentina</td>\n",
       "      <td>0</td>\n",
       "      <td>1</td>\n",
       "      <td>1</td>\n",
       "      <td>2.0</td>\n",
       "      <td>1960</td>\n",
       "      <td>NaN</td>\n",
       "    </tr>\n",
       "    <tr>\n",
       "      <th>1</th>\n",
       "      <td>Australia</td>\n",
       "      <td>8</td>\n",
       "      <td>8</td>\n",
       "      <td>6</td>\n",
       "      <td>22.0</td>\n",
       "      <td>1960</td>\n",
       "      <td>$1,811</td>\n",
       "    </tr>\n",
       "    <tr>\n",
       "      <th>2</th>\n",
       "      <td>Austria</td>\n",
       "      <td>1</td>\n",
       "      <td>1</td>\n",
       "      <td>0</td>\n",
       "      <td>2.0</td>\n",
       "      <td>1960</td>\n",
       "      <td>$933</td>\n",
       "    </tr>\n",
       "    <tr>\n",
       "      <th>3</th>\n",
       "      <td>Belgium</td>\n",
       "      <td>0</td>\n",
       "      <td>2</td>\n",
       "      <td>2</td>\n",
       "      <td>4.0</td>\n",
       "      <td>1960</td>\n",
       "      <td>$1,270</td>\n",
       "    </tr>\n",
       "    <tr>\n",
       "      <th>4</th>\n",
       "      <td>Brazil</td>\n",
       "      <td>0</td>\n",
       "      <td>0</td>\n",
       "      <td>2</td>\n",
       "      <td>2.0</td>\n",
       "      <td>1960</td>\n",
       "      <td>$233</td>\n",
       "    </tr>\n",
       "    <tr>\n",
       "      <th>...</th>\n",
       "      <td>...</td>\n",
       "      <td>...</td>\n",
       "      <td>...</td>\n",
       "      <td>...</td>\n",
       "      <td>...</td>\n",
       "      <td>...</td>\n",
       "      <td>...</td>\n",
       "    </tr>\n",
       "    <tr>\n",
       "      <th>914</th>\n",
       "      <td>Uganda</td>\n",
       "      <td>2</td>\n",
       "      <td>1</td>\n",
       "      <td>1</td>\n",
       "      <td>4.0</td>\n",
       "      <td>2021</td>\n",
       "      <td>$1,012</td>\n",
       "    </tr>\n",
       "    <tr>\n",
       "      <th>915</th>\n",
       "      <td>Ukraine</td>\n",
       "      <td>1</td>\n",
       "      <td>6</td>\n",
       "      <td>12</td>\n",
       "      <td>19.0</td>\n",
       "      <td>2021</td>\n",
       "      <td>$4,880</td>\n",
       "    </tr>\n",
       "    <tr>\n",
       "      <th>916</th>\n",
       "      <td>United States of America</td>\n",
       "      <td>39</td>\n",
       "      <td>41</td>\n",
       "      <td>33</td>\n",
       "      <td>113.0</td>\n",
       "      <td>2021</td>\n",
       "      <td>$69,227</td>\n",
       "    </tr>\n",
       "    <tr>\n",
       "      <th>917</th>\n",
       "      <td>Uzbekistan</td>\n",
       "      <td>3</td>\n",
       "      <td>0</td>\n",
       "      <td>2</td>\n",
       "      <td>5.0</td>\n",
       "      <td>2021</td>\n",
       "      <td>$2,002</td>\n",
       "    </tr>\n",
       "    <tr>\n",
       "      <th>918</th>\n",
       "      <td>Venezuela</td>\n",
       "      <td>1</td>\n",
       "      <td>3</td>\n",
       "      <td>0</td>\n",
       "      <td>4.0</td>\n",
       "      <td>2021</td>\n",
       "      <td>$3,423</td>\n",
       "    </tr>\n",
       "  </tbody>\n",
       "</table>\n",
       "<p>919 rows × 7 columns</p>\n",
       "</div>"
      ],
      "text/plain": [
       "                         País  Oro  Plata  Bronce  Total   Año PIB per cápita\n",
       "0                   Argentina    0      1       1    2.0  1960            NaN\n",
       "1                   Australia    8      8       6   22.0  1960         $1,811\n",
       "2                     Austria    1      1       0    2.0  1960           $933\n",
       "3                     Belgium    0      2       2    4.0  1960         $1,270\n",
       "4                      Brazil    0      0       2    2.0  1960           $233\n",
       "..                        ...  ...    ...     ...    ...   ...            ...\n",
       "914                    Uganda    2      1       1    4.0  2021         $1,012\n",
       "915                   Ukraine    1      6      12   19.0  2021         $4,880\n",
       "916  United States of America   39     41      33  113.0  2021        $69,227\n",
       "917                Uzbekistan    3      0       2    5.0  2021         $2,002\n",
       "918                 Venezuela    1      3       0    4.0  2021         $3,423\n",
       "\n",
       "[919 rows x 7 columns]"
      ]
     },
     "execution_count": 105,
     "metadata": {},
     "output_type": "execute_result"
    }
   ],
   "source": [
    "df_medallas_pib"
   ]
  },
  {
   "cell_type": "code",
   "execution_count": 106,
   "metadata": {},
   "outputs": [
    {
     "data": {
      "text/html": [
       "<div>\n",
       "<style scoped>\n",
       "    .dataframe tbody tr th:only-of-type {\n",
       "        vertical-align: middle;\n",
       "    }\n",
       "\n",
       "    .dataframe tbody tr th {\n",
       "        vertical-align: top;\n",
       "    }\n",
       "\n",
       "    .dataframe thead th {\n",
       "        text-align: right;\n",
       "    }\n",
       "</style>\n",
       "<table border=\"1\" class=\"dataframe\">\n",
       "  <thead>\n",
       "    <tr style=\"text-align: right;\">\n",
       "      <th></th>\n",
       "      <th>País</th>\n",
       "      <th>Oro</th>\n",
       "      <th>Plata</th>\n",
       "      <th>Bronce</th>\n",
       "      <th>Total</th>\n",
       "      <th>Año</th>\n",
       "      <th>PIB per cápita</th>\n",
       "    </tr>\n",
       "  </thead>\n",
       "  <tbody>\n",
       "    <tr>\n",
       "      <th>37</th>\n",
       "      <td>United States of America</td>\n",
       "      <td>34</td>\n",
       "      <td>21</td>\n",
       "      <td>16</td>\n",
       "      <td>71.0</td>\n",
       "      <td>1960</td>\n",
       "      <td>$3,014</td>\n",
       "    </tr>\n",
       "    <tr>\n",
       "      <th>76</th>\n",
       "      <td>United States of America</td>\n",
       "      <td>36</td>\n",
       "      <td>26</td>\n",
       "      <td>28</td>\n",
       "      <td>90.0</td>\n",
       "      <td>1964</td>\n",
       "      <td>$3,582</td>\n",
       "    </tr>\n",
       "    <tr>\n",
       "      <th>117</th>\n",
       "      <td>United States of America</td>\n",
       "      <td>45</td>\n",
       "      <td>28</td>\n",
       "      <td>34</td>\n",
       "      <td>107.0</td>\n",
       "      <td>1968</td>\n",
       "      <td>$4,720</td>\n",
       "    </tr>\n",
       "    <tr>\n",
       "      <th>163</th>\n",
       "      <td>United States of America</td>\n",
       "      <td>33</td>\n",
       "      <td>31</td>\n",
       "      <td>30</td>\n",
       "      <td>94.0</td>\n",
       "      <td>1972</td>\n",
       "      <td>$6,112</td>\n",
       "    </tr>\n",
       "    <tr>\n",
       "      <th>198</th>\n",
       "      <td>United States of America</td>\n",
       "      <td>34</td>\n",
       "      <td>35</td>\n",
       "      <td>25</td>\n",
       "      <td>94.0</td>\n",
       "      <td>1976</td>\n",
       "      <td>$8,611</td>\n",
       "    </tr>\n",
       "    <tr>\n",
       "      <th>272</th>\n",
       "      <td>United States of America</td>\n",
       "      <td>82</td>\n",
       "      <td>61</td>\n",
       "      <td>30</td>\n",
       "      <td>173.0</td>\n",
       "      <td>1984</td>\n",
       "      <td>$17,086</td>\n",
       "    </tr>\n",
       "    <tr>\n",
       "      <th>322</th>\n",
       "      <td>United States of America</td>\n",
       "      <td>36</td>\n",
       "      <td>31</td>\n",
       "      <td>27</td>\n",
       "      <td>94.0</td>\n",
       "      <td>1988</td>\n",
       "      <td>$21,376</td>\n",
       "    </tr>\n",
       "    <tr>\n",
       "      <th>380</th>\n",
       "      <td>United States of America</td>\n",
       "      <td>37</td>\n",
       "      <td>34</td>\n",
       "      <td>37</td>\n",
       "      <td>108.0</td>\n",
       "      <td>1992</td>\n",
       "      <td>$25,393</td>\n",
       "    </tr>\n",
       "    <tr>\n",
       "      <th>449</th>\n",
       "      <td>United States of America</td>\n",
       "      <td>44</td>\n",
       "      <td>32</td>\n",
       "      <td>25</td>\n",
       "      <td>101.0</td>\n",
       "      <td>1996</td>\n",
       "      <td>$29,947</td>\n",
       "    </tr>\n",
       "    <tr>\n",
       "      <th>523</th>\n",
       "      <td>United States of America</td>\n",
       "      <td>37</td>\n",
       "      <td>24</td>\n",
       "      <td>32</td>\n",
       "      <td>93.0</td>\n",
       "      <td>2000</td>\n",
       "      <td>$36,313</td>\n",
       "    </tr>\n",
       "    <tr>\n",
       "      <th>590</th>\n",
       "      <td>United States of America</td>\n",
       "      <td>36</td>\n",
       "      <td>39</td>\n",
       "      <td>26</td>\n",
       "      <td>101.0</td>\n",
       "      <td>2004</td>\n",
       "      <td>$41,642</td>\n",
       "    </tr>\n",
       "    <tr>\n",
       "      <th>672</th>\n",
       "      <td>United States of America</td>\n",
       "      <td>36</td>\n",
       "      <td>39</td>\n",
       "      <td>37</td>\n",
       "      <td>112.0</td>\n",
       "      <td>2008</td>\n",
       "      <td>$48,471</td>\n",
       "    </tr>\n",
       "    <tr>\n",
       "      <th>753</th>\n",
       "      <td>United States of America</td>\n",
       "      <td>46</td>\n",
       "      <td>28</td>\n",
       "      <td>30</td>\n",
       "      <td>104.0</td>\n",
       "      <td>2012</td>\n",
       "      <td>$51,737</td>\n",
       "    </tr>\n",
       "    <tr>\n",
       "      <th>832</th>\n",
       "      <td>United States of America</td>\n",
       "      <td>46</td>\n",
       "      <td>37</td>\n",
       "      <td>38</td>\n",
       "      <td>121.0</td>\n",
       "      <td>2016</td>\n",
       "      <td>$57,840</td>\n",
       "    </tr>\n",
       "    <tr>\n",
       "      <th>916</th>\n",
       "      <td>United States of America</td>\n",
       "      <td>39</td>\n",
       "      <td>41</td>\n",
       "      <td>33</td>\n",
       "      <td>113.0</td>\n",
       "      <td>2021</td>\n",
       "      <td>$69,227</td>\n",
       "    </tr>\n",
       "  </tbody>\n",
       "</table>\n",
       "</div>"
      ],
      "text/plain": [
       "                         País  Oro  Plata  Bronce  Total   Año PIB per cápita\n",
       "37   United States of America   34     21      16   71.0  1960         $3,014\n",
       "76   United States of America   36     26      28   90.0  1964         $3,582\n",
       "117  United States of America   45     28      34  107.0  1968         $4,720\n",
       "163  United States of America   33     31      30   94.0  1972         $6,112\n",
       "198  United States of America   34     35      25   94.0  1976         $8,611\n",
       "272  United States of America   82     61      30  173.0  1984        $17,086\n",
       "322  United States of America   36     31      27   94.0  1988        $21,376\n",
       "380  United States of America   37     34      37  108.0  1992        $25,393\n",
       "449  United States of America   44     32      25  101.0  1996        $29,947\n",
       "523  United States of America   37     24      32   93.0  2000        $36,313\n",
       "590  United States of America   36     39      26  101.0  2004        $41,642\n",
       "672  United States of America   36     39      37  112.0  2008        $48,471\n",
       "753  United States of America   46     28      30  104.0  2012        $51,737\n",
       "832  United States of America   46     37      38  121.0  2016        $57,840\n",
       "916  United States of America   39     41      33  113.0  2021        $69,227"
      ]
     },
     "execution_count": 106,
     "metadata": {},
     "output_type": "execute_result"
    }
   ],
   "source": [
    "df_medallas_pib[df_medallas_pib[\"País\"]==\"United States of America\"]"
   ]
  },
  {
   "cell_type": "code",
   "execution_count": 107,
   "metadata": {},
   "outputs": [],
   "source": [
    "df_medallas_pib[\"PIB per cápita\"] = df_medallas_pib[\"PIB per cápita\"].astype(str)"
   ]
  },
  {
   "cell_type": "code",
   "execution_count": 108,
   "metadata": {},
   "outputs": [
    {
     "data": {
      "image/png": "[encoded data removed]",
      "text/plain": [
       "<Figure size 640x480 with 1 Axes>"
      ]
     },
     "metadata": {},
     "output_type": "display_data"
    }
   ],
   "source": [
    "# Crear el gráfico de dispersión\n",
    "plt.scatter(df_medallas_pib[\"PIB per cápita\"], df_medallas_pib[\"Total\"])\n",
    "\n",
    "# Añadir etiquetas a los ejes\n",
    "plt.xlabel(\"PIB\")\n",
    "plt.ylabel(\"Medallas\")\n",
    "\n",
    "# Mostrar el gráfico\n",
    "plt.show()"
   ]
  },
  {
   "cell_type": "code",
   "execution_count": 109,
   "metadata": {},
   "outputs": [
    {
     "data": {
      "application/vnd.plotly.v1+json": {
       "config": {
        "plotlyServerURL": "https://plot.ly"
       },
       "data": [
        {
         "customdata": [
          [
           "Argentina",
           1960
          ],
          [
           "Australia",
           1960
          ],
          [
           "Austria",
           1960
          ],
          [
           "Belgium",
           1960
          ],
          [
           "Brazil",
           1960
          ],
          [
           "Bulgaria",
           1960
          ],
          [
           "Canada",
           1960
          ],
          [
           "Denmark",
           1960
          ],
          [
           "Ethiopia",
           1960
          ],
          [
           "Finland",
           1960
          ],
          [
           "France",
           1960
          ],
          [
           "Germany",
           1960
          ],
          [
           "Ghana",
           1960
          ],
          [
           "Great Britain",
           1960
          ],
          [
           "Greece",
           1960
          ],
          [
           "Hungary",
           1960
          ],
          [
           "India",
           1960
          ],
          [
           "Iraq",
           1960
          ],
          [
           "Islamic Republic of Iran",
           1960
          ],
          [
           "Italy",
           1960
          ],
          [
           "Japan",
           1960
          ],
          [
           "Mexico",
           1960
          ],
          [
           "Morocco",
           1960
          ],
          [
           "Netherlands",
           1960
          ],
          [
           "New Zealand",
           1960
          ],
          [
           "Norway",
           1960
          ],
          [
           "Pakistan",
           1960
          ],
          [
           "Poland",
           1960
          ],
          [
           "Portugal",
           1960
          ],
          [
           "Romania",
           1960
          ],
          [
           "Singapore",
           1960
          ],
          [
           "South Africa",
           1960
          ],
          [
           "Russian Federation",
           1960
          ],
          [
           "Spain",
           1960
          ],
          [
           "Sweden",
           1960
          ],
          [
           "Switzerland",
           1960
          ],
          [
           "Türkiye",
           1960
          ],
          [
           "United States of America",
           1960
          ],
          [
           "Venezuela",
           1960
          ],
          [
           "Argentina",
           1964
          ],
          [
           "Australia",
           1964
          ],
          [
           "Bahamas",
           1964
          ],
          [
           "Belgium",
           1964
          ],
          [
           "Brazil",
           1964
          ],
          [
           "Bulgaria",
           1964
          ],
          [
           "Canada",
           1964
          ],
          [
           "Cuba",
           1964
          ],
          [
           "Denmark",
           1964
          ],
          [
           "Ethiopia",
           1964
          ],
          [
           "Finland",
           1964
          ],
          [
           "France",
           1964
          ],
          [
           "Germany",
           1964
          ],
          [
           "Ghana",
           1964
          ],
          [
           "Great Britain",
           1964
          ],
          [
           "Hungary",
           1964
          ],
          [
           "India",
           1964
          ],
          [
           "Ireland",
           1964
          ],
          [
           "Islamic Republic of Iran",
           1964
          ],
          [
           "Italy",
           1964
          ],
          [
           "Japan",
           1964
          ],
          [
           "Kenya",
           1964
          ],
          [
           "Mexico",
           1964
          ],
          [
           "Netherlands",
           1964
          ],
          [
           "New Zealand",
           1964
          ],
          [
           "Nigeria",
           1964
          ],
          [
           "Pakistan",
           1964
          ],
          [
           "Philippines",
           1964
          ],
          [
           "Poland",
           1964
          ],
          [
           "Republic of Korea",
           1964
          ],
          [
           "Romania",
           1964
          ],
          [
           "Russian Federation",
           1964
          ],
          [
           "Sweden",
           1964
          ],
          [
           "Switzerland",
           1964
          ],
          [
           "Trinidad and Tobago",
           1964
          ],
          [
           "Tunisia",
           1964
          ],
          [
           "Türkiye",
           1964
          ],
          [
           "United States of America",
           1964
          ],
          [
           "Uruguay",
           1964
          ],
          [
           "Argentina",
           1968
          ],
          [
           "Australia",
           1968
          ],
          [
           "Austria",
           1968
          ],
          [
           "Belgium",
           1968
          ],
          [
           "Brazil",
           1968
          ],
          [
           "Bulgaria",
           1968
          ],
          [
           "Cameroon",
           1968
          ],
          [
           "Canada",
           1968
          ],
          [
           "Cuba",
           1968
          ],
          [
           "Denmark",
           1968
          ],
          [
           "Ethiopia",
           1968
          ],
          [
           "Germany",
           1968
          ],
          [
           "Germany",
           1968
          ],
          [
           "Finland",
           1968
          ],
          [
           "France",
           1968
          ],
          [
           "Great Britain",
           1968
          ],
          [
           "Greece",
           1968
          ],
          [
           "Hungary",
           1968
          ],
          [
           "India",
           1968
          ],
          [
           "Islamic Republic of Iran",
           1968
          ],
          [
           "Italy",
           1968
          ],
          [
           "Jamaica",
           1968
          ],
          [
           "Japan",
           1968
          ],
          [
           "Kenya",
           1968
          ],
          [
           "Mexico",
           1968
          ],
          [
           "Mongolia",
           1968
          ],
          [
           "Netherlands",
           1968
          ],
          [
           "New Zealand",
           1968
          ],
          [
           "Norway",
           1968
          ],
          [
           "Pakistan",
           1968
          ],
          [
           "Poland",
           1968
          ],
          [
           "Republic of Korea",
           1968
          ],
          [
           "Romania",
           1968
          ],
          [
           "Russian Federation",
           1968
          ],
          [
           "Sweden",
           1968
          ],
          [
           "Switzerland",
           1968
          ],
          [
           "Tunisia",
           1968
          ],
          [
           "Türkiye",
           1968
          ],
          [
           "Uganda",
           1968
          ],
          [
           "United States of America",
           1968
          ],
          [
           "Venezuela",
           1968
          ],
          [
           "Argentina",
           1972
          ],
          [
           "Australia",
           1972
          ],
          [
           "Austria",
           1972
          ],
          [
           "Belgium",
           1972
          ],
          [
           "Brazil",
           1972
          ],
          [
           "Bulgaria",
           1972
          ],
          [
           "Canada",
           1972
          ],
          [
           "Colombia",
           1972
          ],
          [
           "Cuba",
           1972
          ],
          [
           "Denmark",
           1972
          ],
          [
           "Ethiopia",
           1972
          ],
          [
           "Germany",
           1972
          ],
          [
           "Germany",
           1972
          ],
          [
           "Finland",
           1972
          ],
          [
           "France",
           1972
          ],
          [
           "Ghana",
           1972
          ],
          [
           "Great Britain",
           1972
          ],
          [
           "Greece",
           1972
          ],
          [
           "Hungary",
           1972
          ],
          [
           "India",
           1972
          ],
          [
           "Islamic Republic of Iran",
           1972
          ],
          [
           "Italy",
           1972
          ],
          [
           "Jamaica",
           1972
          ],
          [
           "Japan",
           1972
          ],
          [
           "Kenya",
           1972
          ],
          [
           "Lebanon",
           1972
          ],
          [
           "Mexico",
           1972
          ],
          [
           "Mongolia",
           1972
          ],
          [
           "Netherlands",
           1972
          ],
          [
           "New Zealand",
           1972
          ],
          [
           "Niger",
           1972
          ],
          [
           "Nigeria",
           1972
          ],
          [
           "Norway",
           1972
          ],
          [
           "Pakistan",
           1972
          ],
          [
           "Poland",
           1972
          ],
          [
           "Republic of Korea",
           1972
          ],
          [
           "Romania",
           1972
          ],
          [
           "Russian Federation",
           1972
          ],
          [
           "Spain",
           1972
          ],
          [
           "Sweden",
           1972
          ],
          [
           "Switzerland",
           1972
          ],
          [
           "Tunisia",
           1972
          ],
          [
           "Türkiye",
           1972
          ],
          [
           "Uganda",
           1972
          ],
          [
           "United States of America",
           1972
          ],
          [
           "Australia",
           1976
          ],
          [
           "Austria",
           1976
          ],
          [
           "Belgium",
           1976
          ],
          [
           "Brazil",
           1976
          ],
          [
           "Bulgaria",
           1976
          ],
          [
           "Canada",
           1976
          ],
          [
           "Cuba",
           1976
          ],
          [
           "Denmark",
           1976
          ],
          [
           "Germany",
           1976
          ],
          [
           "Germany",
           1976
          ],
          [
           "Finland",
           1976
          ],
          [
           "France",
           1976
          ],
          [
           "Great Britain",
           1976
          ],
          [
           "Hungary",
           1976
          ],
          [
           "Islamic Republic of Iran",
           1976
          ],
          [
           "Italy",
           1976
          ],
          [
           "Jamaica",
           1976
          ],
          [
           "Japan",
           1976
          ],
          [
           "Mexico",
           1976
          ],
          [
           "Mongolia",
           1976
          ],
          [
           "Netherlands",
           1976
          ],
          [
           "New Zealand",
           1976
          ],
          [
           "Norway",
           1976
          ],
          [
           "Pakistan",
           1976
          ],
          [
           "Poland",
           1976
          ],
          [
           "Portugal",
           1976
          ],
          [
           "Republic of Korea",
           1976
          ],
          [
           "Romania",
           1976
          ],
          [
           "Russian Federation",
           1976
          ],
          [
           "Spain",
           1976
          ],
          [
           "Sweden",
           1976
          ],
          [
           "Switzerland",
           1976
          ],
          [
           "Thailand",
           1976
          ],
          [
           "Trinidad and Tobago",
           1976
          ],
          [
           "United States of America",
           1976
          ],
          [
           "Venezuela",
           1976
          ],
          [
           "Australia",
           1980
          ],
          [
           "Austria",
           1980
          ],
          [
           "Belgium",
           1980
          ],
          [
           "Brazil",
           1980
          ],
          [
           "Bulgaria",
           1980
          ],
          [
           "Cuba",
           1980
          ],
          [
           "Denmark",
           1980
          ],
          [
           "Ethiopia",
           1980
          ],
          [
           "Finland",
           1980
          ],
          [
           "France",
           1980
          ],
          [
           "Germany",
           1980
          ],
          [
           "Great Britain",
           1980
          ],
          [
           "Greece",
           1980
          ],
          [
           "Guyana",
           1980
          ],
          [
           "Hungary",
           1980
          ],
          [
           "India",
           1980
          ],
          [
           "Ireland",
           1980
          ],
          [
           "Italy",
           1980
          ],
          [
           "Jamaica",
           1980
          ],
          [
           "Lebanon",
           1980
          ],
          [
           "Mexico",
           1980
          ],
          [
           "Mongolia",
           1980
          ],
          [
           "Netherlands",
           1980
          ],
          [
           "Poland",
           1980
          ],
          [
           "Romania",
           1980
          ],
          [
           "Russian Federation",
           1980
          ],
          [
           "Spain",
           1980
          ],
          [
           "Sweden",
           1980
          ],
          [
           "Switzerland",
           1980
          ],
          [
           "Uganda",
           1980
          ],
          [
           "Venezuela",
           1980
          ],
          [
           "Zimbabwe",
           1980
          ],
          [
           "Algeria",
           1984
          ],
          [
           "Australia",
           1984
          ],
          [
           "Austria",
           1984
          ],
          [
           "Belgium",
           1984
          ],
          [
           "Brazil",
           1984
          ],
          [
           "Cameroon",
           1984
          ],
          [
           "Canada",
           1984
          ],
          [
           "Colombia",
           1984
          ],
          [
           "Côte d'Ivoire",
           1984
          ],
          [
           "Denmark",
           1984
          ],
          [
           "Dominican Republic",
           1984
          ],
          [
           "Egypt",
           1984
          ],
          [
           "Germany",
           1984
          ],
          [
           "Finland",
           1984
          ],
          [
           "France",
           1984
          ],
          [
           "Great Britain",
           1984
          ],
          [
           "Greece",
           1984
          ],
          [
           "Iceland",
           1984
          ],
          [
           "Ireland",
           1984
          ],
          [
           "Italy",
           1984
          ],
          [
           "Jamaica",
           1984
          ],
          [
           "Japan",
           1984
          ],
          [
           "Kenya",
           1984
          ],
          [
           "Mexico",
           1984
          ],
          [
           "Morocco",
           1984
          ],
          [
           "Netherlands",
           1984
          ],
          [
           "New Zealand",
           1984
          ],
          [
           "Nigeria",
           1984
          ],
          [
           "Norway",
           1984
          ],
          [
           "Pakistan",
           1984
          ],
          [
           "People's Republic of China",
           1984
          ],
          [
           "Peru",
           1984
          ],
          [
           "Portugal",
           1984
          ],
          [
           "Republic of Korea",
           1984
          ],
          [
           "Romania",
           1984
          ],
          [
           "Spain",
           1984
          ],
          [
           "Sweden",
           1984
          ],
          [
           "Switzerland",
           1984
          ],
          [
           "Thailand",
           1984
          ],
          [
           "Türkiye",
           1984
          ],
          [
           "United States of America",
           1984
          ],
          [
           "Venezuela",
           1984
          ],
          [
           "Zambia",
           1984
          ],
          [
           "Argentina",
           1988
          ],
          [
           "Australia",
           1988
          ],
          [
           "Austria",
           1988
          ],
          [
           "Belgium",
           1988
          ],
          [
           "Brazil",
           1988
          ],
          [
           "Bulgaria",
           1988
          ],
          [
           "Canada",
           1988
          ],
          [
           "Chile",
           1988
          ],
          [
           "Colombia",
           1988
          ],
          [
           "Costa Rica",
           1988
          ],
          [
           "Denmark",
           1988
          ],
          [
           "Djibouti",
           1988
          ],
          [
           "Germany",
           1988
          ],
          [
           "Germany",
           1988
          ],
          [
           "Finland",
           1988
          ],
          [
           "France",
           1988
          ],
          [
           "Great Britain",
           1988
          ],
          [
           "Greece",
           1988
          ],
          [
           "Hungary",
           1988
          ],
          [
           "Indonesia",
           1988
          ],
          [
           "Islamic Republic of Iran",
           1988
          ],
          [
           "Italy",
           1988
          ],
          [
           "Jamaica",
           1988
          ],
          [
           "Japan",
           1988
          ],
          [
           "Kenya",
           1988
          ],
          [
           "Mexico",
           1988
          ],
          [
           "Mongolia",
           1988
          ],
          [
           "Morocco",
           1988
          ],
          [
           "Netherlands",
           1988
          ],
          [
           "New Zealand",
           1988
          ],
          [
           "Norway",
           1988
          ],
          [
           "Pakistan",
           1988
          ],
          [
           "People's Republic of China",
           1988
          ],
          [
           "Peru",
           1988
          ],
          [
           "Philippines",
           1988
          ],
          [
           "Poland",
           1988
          ],
          [
           "Portugal",
           1988
          ],
          [
           "Republic of Korea",
           1988
          ],
          [
           "Romania",
           1988
          ],
          [
           "Senegal",
           1988
          ],
          [
           "Russian Federation",
           1988
          ],
          [
           "Spain",
           1988
          ],
          [
           "Suriname",
           1988
          ],
          [
           "Sweden",
           1988
          ],
          [
           "Switzerland",
           1988
          ],
          [
           "Thailand",
           1988
          ],
          [
           "Türkiye",
           1988
          ],
          [
           "United States of America",
           1988
          ],
          [
           "Algeria",
           1992
          ],
          [
           "Argentina",
           1992
          ],
          [
           "Australia",
           1992
          ],
          [
           "Austria",
           1992
          ],
          [
           "Bahamas",
           1992
          ],
          [
           "Belgium",
           1992
          ],
          [
           "Brazil",
           1992
          ],
          [
           "Bulgaria",
           1992
          ],
          [
           "Canada",
           1992
          ],
          [
           "Colombia",
           1992
          ],
          [
           "Croatia",
           1992
          ],
          [
           "Cuba",
           1992
          ],
          [
           "Denmark",
           1992
          ],
          [
           "Estonia",
           1992
          ],
          [
           "Ethiopia",
           1992
          ],
          [
           "Finland",
           1992
          ],
          [
           "France",
           1992
          ],
          [
           "Germany",
           1992
          ],
          [
           "Ghana",
           1992
          ],
          [
           "Great Britain",
           1992
          ],
          [
           "Greece",
           1992
          ],
          [
           "Hungary",
           1992
          ],
          [
           "Indonesia",
           1992
          ],
          [
           "Ireland",
           1992
          ],
          [
           "Islamic Republic of Iran",
           1992
          ],
          [
           "Israel",
           1992
          ],
          [
           "Italy",
           1992
          ],
          [
           "Jamaica",
           1992
          ],
          [
           "Japan",
           1992
          ],
          [
           "Kenya",
           1992
          ],
          [
           "Latvia",
           1992
          ],
          [
           "Lithuania",
           1992
          ],
          [
           "Malaysia",
           1992
          ],
          [
           "Mexico",
           1992
          ],
          [
           "Mongolia",
           1992
          ],
          [
           "Morocco",
           1992
          ],
          [
           "Namibia",
           1992
          ],
          [
           "Netherlands",
           1992
          ],
          [
           "New Zealand",
           1992
          ],
          [
           "Nigeria",
           1992
          ],
          [
           "Norway",
           1992
          ],
          [
           "Pakistan",
           1992
          ],
          [
           "People's Republic of China",
           1992
          ],
          [
           "Peru",
           1992
          ],
          [
           "Philippines",
           1992
          ],
          [
           "Poland",
           1992
          ],
          [
           "Qatar",
           1992
          ],
          [
           "Republic of Korea",
           1992
          ],
          [
           "Romania",
           1992
          ],
          [
           "Slovenia",
           1992
          ],
          [
           "South Africa",
           1992
          ],
          [
           "Spain",
           1992
          ],
          [
           "Suriname",
           1992
          ],
          [
           "Sweden",
           1992
          ],
          [
           "Switzerland",
           1992
          ],
          [
           "Thailand",
           1992
          ],
          [
           "Türkiye",
           1992
          ],
          [
           "United States of America",
           1992
          ],
          [
           "Algeria",
           1996
          ],
          [
           "Argentina",
           1996
          ],
          [
           "Armenia",
           1996
          ],
          [
           "Australia",
           1996
          ],
          [
           "Austria",
           1996
          ],
          [
           "Azerbaijan",
           1996
          ],
          [
           "Bahamas",
           1996
          ],
          [
           "Belarus",
           1996
          ],
          [
           "Belgium",
           1996
          ],
          [
           "Brazil",
           1996
          ],
          [
           "Bulgaria",
           1996
          ],
          [
           "Burundi",
           1996
          ],
          [
           "Canada",
           1996
          ],
          [
           "Costa Rica",
           1996
          ],
          [
           "Croatia",
           1996
          ],
          [
           "Cuba",
           1996
          ],
          [
           "Denmark",
           1996
          ],
          [
           "Ecuador",
           1996
          ],
          [
           "Ethiopia",
           1996
          ],
          [
           "Finland",
           1996
          ],
          [
           "France",
           1996
          ],
          [
           "Georgia",
           1996
          ],
          [
           "Germany",
           1996
          ],
          [
           "Great Britain",
           1996
          ],
          [
           "Greece",
           1996
          ],
          [
           "Hungary",
           1996
          ],
          [
           "India",
           1996
          ],
          [
           "Indonesia",
           1996
          ],
          [
           "Ireland",
           1996
          ],
          [
           "Islamic Republic of Iran",
           1996
          ],
          [
           "Israel",
           1996
          ],
          [
           "Italy",
           1996
          ],
          [
           "Jamaica",
           1996
          ],
          [
           "Japan",
           1996
          ],
          [
           "Kazakhstan",
           1996
          ],
          [
           "Kenya",
           1996
          ],
          [
           "Latvia",
           1996
          ],
          [
           "Lithuania",
           1996
          ],
          [
           "Malaysia",
           1996
          ],
          [
           "Mexico",
           1996
          ],
          [
           "Mongolia",
           1996
          ],
          [
           "Morocco",
           1996
          ],
          [
           "Mozambique",
           1996
          ],
          [
           "Namibia",
           1996
          ],
          [
           "Netherlands",
           1996
          ],
          [
           "New Zealand",
           1996
          ],
          [
           "Nigeria",
           1996
          ],
          [
           "Norway",
           1996
          ],
          [
           "People's Republic of China",
           1996
          ],
          [
           "Philippines",
           1996
          ],
          [
           "Poland",
           1996
          ],
          [
           "Portugal",
           1996
          ],
          [
           "Republic of Korea",
           1996
          ],
          [
           "Romania",
           1996
          ],
          [
           "Russian Federation",
           1996
          ],
          [
           "Slovakia",
           1996
          ],
          [
           "Slovenia",
           1996
          ],
          [
           "South Africa",
           1996
          ],
          [
           "Spain",
           1996
          ],
          [
           "Sweden",
           1996
          ],
          [
           "Switzerland",
           1996
          ],
          [
           "Thailand",
           1996
          ],
          [
           "Tonga",
           1996
          ],
          [
           "Trinidad and Tobago",
           1996
          ],
          [
           "Tunisia",
           1996
          ],
          [
           "Türkiye",
           1996
          ],
          [
           "Uganda",
           1996
          ],
          [
           "Ukraine",
           1996
          ],
          [
           "United States of America",
           1996
          ],
          [
           "Uzbekistan",
           1996
          ],
          [
           "Zambia",
           1996
          ],
          [
           "Algeria",
           2000
          ],
          [
           "Argentina",
           2000
          ],
          [
           "Armenia",
           2000
          ],
          [
           "Australia",
           2000
          ],
          [
           "Austria",
           2000
          ],
          [
           "Azerbaijan",
           2000
          ],
          [
           "Bahamas",
           2000
          ],
          [
           "Barbados",
           2000
          ],
          [
           "Belarus",
           2000
          ],
          [
           "Belgium",
           2000
          ],
          [
           "Brazil",
           2000
          ],
          [
           "Bulgaria",
           2000
          ],
          [
           "Cameroon",
           2000
          ],
          [
           "Canada",
           2000
          ],
          [
           "Chile",
           2000
          ],
          [
           "Colombia",
           2000
          ],
          [
           "Costa Rica",
           2000
          ],
          [
           "Croatia",
           2000
          ],
          [
           "Cuba",
           2000
          ],
          [
           "Denmark",
           2000
          ],
          [
           "Estonia",
           2000
          ],
          [
           "Ethiopia",
           2000
          ],
          [
           "Finland",
           2000
          ],
          [
           "France",
           2000
          ],
          [
           "Georgia",
           2000
          ],
          [
           "Germany",
           2000
          ],
          [
           "Great Britain",
           2000
          ],
          [
           "Greece",
           2000
          ],
          [
           "Hungary",
           2000
          ],
          [
           "Iceland",
           2000
          ],
          [
           "India",
           2000
          ],
          [
           "Indonesia",
           2000
          ],
          [
           "Ireland",
           2000
          ],
          [
           "Islamic Republic of Iran",
           2000
          ],
          [
           "Israel",
           2000
          ],
          [
           "Italy",
           2000
          ],
          [
           "Jamaica",
           2000
          ],
          [
           "Japan",
           2000
          ],
          [
           "Kazakhstan",
           2000
          ],
          [
           "Kenya",
           2000
          ],
          [
           "Kuwait",
           2000
          ],
          [
           "Kyrgyzstan",
           2000
          ],
          [
           "Latvia",
           2000
          ],
          [
           "Lithuania",
           2000
          ],
          [
           "Mexico",
           2000
          ],
          [
           "Morocco",
           2000
          ],
          [
           "Mozambique",
           2000
          ],
          [
           "Netherlands",
           2000
          ],
          [
           "New Zealand",
           2000
          ],
          [
           "Nigeria",
           2000
          ],
          [
           "North Macedonia",
           2000
          ],
          [
           "Norway",
           2000
          ],
          [
           "People's Republic of China",
           2000
          ],
          [
           "Poland",
           2000
          ],
          [
           "Portugal",
           2000
          ],
          [
           "Qatar",
           2000
          ],
          [
           "Republic of Korea",
           2000
          ],
          [
           "Romania",
           2000
          ],
          [
           "Russian Federation",
           2000
          ],
          [
           "Saudi Arabia",
           2000
          ],
          [
           "Slovakia",
           2000
          ],
          [
           "Slovenia",
           2000
          ],
          [
           "South Africa",
           2000
          ],
          [
           "Spain",
           2000
          ],
          [
           "Sri Lanka",
           2000
          ],
          [
           "Sweden",
           2000
          ],
          [
           "Switzerland",
           2000
          ],
          [
           "Thailand",
           2000
          ],
          [
           "Trinidad and Tobago",
           2000
          ],
          [
           "Türkiye",
           2000
          ],
          [
           "Ukraine",
           2000
          ],
          [
           "United States of America",
           2000
          ],
          [
           "Uruguay",
           2000
          ],
          [
           "Uzbekistan",
           2000
          ],
          [
           "Argentina",
           2004
          ],
          [
           "Australia",
           2004
          ],
          [
           "Austria",
           2004
          ],
          [
           "Azerbaijan",
           2004
          ],
          [
           "Bahamas",
           2004
          ],
          [
           "Belarus",
           2004
          ],
          [
           "Belgium",
           2004
          ],
          [
           "Brazil",
           2004
          ],
          [
           "Bulgaria",
           2004
          ],
          [
           "Cameroon",
           2004
          ],
          [
           "Canada",
           2004
          ],
          [
           "Chile",
           2004
          ],
          [
           "Colombia",
           2004
          ],
          [
           "Croatia",
           2004
          ],
          [
           "Cuba",
           2004
          ],
          [
           "Denmark",
           2004
          ],
          [
           "Dominican Republic",
           2004
          ],
          [
           "Egypt",
           2004
          ],
          [
           "Eritrea",
           2004
          ],
          [
           "Estonia",
           2004
          ],
          [
           "Ethiopia",
           2004
          ],
          [
           "Finland",
           2004
          ],
          [
           "France",
           2004
          ],
          [
           "Georgia",
           2004
          ],
          [
           "Germany",
           2004
          ],
          [
           "Great Britain",
           2004
          ],
          [
           "Greece",
           2004
          ],
          [
           "Hungary",
           2004
          ],
          [
           "India",
           2004
          ],
          [
           "Indonesia",
           2004
          ],
          [
           "Islamic Republic of Iran",
           2004
          ],
          [
           "Israel",
           2004
          ],
          [
           "Italy",
           2004
          ],
          [
           "Jamaica",
           2004
          ],
          [
           "Japan",
           2004
          ],
          [
           "Kazakhstan",
           2004
          ],
          [
           "Kenya",
           2004
          ],
          [
           "Latvia",
           2004
          ],
          [
           "Lithuania",
           2004
          ],
          [
           "Mexico",
           2004
          ],
          [
           "Mongolia",
           2004
          ],
          [
           "Morocco",
           2004
          ],
          [
           "Netherlands",
           2004
          ],
          [
           "New Zealand",
           2004
          ],
          [
           "Nigeria",
           2004
          ],
          [
           "Norway",
           2004
          ],
          [
           "Paraguay",
           2004
          ],
          [
           "People's Republic of China",
           2004
          ],
          [
           "Poland",
           2004
          ],
          [
           "Portugal",
           2004
          ],
          [
           "Republic of Korea",
           2004
          ],
          [
           "Romania",
           2004
          ],
          [
           "Russian Federation",
           2004
          ],
          [
           "Slovakia",
           2004
          ],
          [
           "Slovenia",
           2004
          ],
          [
           "South Africa",
           2004
          ],
          [
           "Spain",
           2004
          ],
          [
           "Sweden",
           2004
          ],
          [
           "Switzerland",
           2004
          ],
          [
           "Thailand",
           2004
          ],
          [
           "Trinidad and Tobago",
           2004
          ],
          [
           "Türkiye",
           2004
          ],
          [
           "Ukraine",
           2004
          ],
          [
           "United Arab Emirates",
           2004
          ],
          [
           "United States of America",
           2004
          ],
          [
           "Uzbekistan",
           2004
          ],
          [
           "Venezuela",
           2004
          ],
          [
           "Zimbabwe",
           2004
          ],
          [
           "Afghanistan",
           2008
          ],
          [
           "Algeria",
           2008
          ],
          [
           "Argentina",
           2008
          ],
          [
           "Armenia",
           2008
          ],
          [
           "Australia",
           2008
          ],
          [
           "Austria",
           2008
          ],
          [
           "Azerbaijan",
           2008
          ],
          [
           "Bahamas",
           2008
          ],
          [
           "Belarus",
           2008
          ],
          [
           "Belgium",
           2008
          ],
          [
           "Brazil",
           2008
          ],
          [
           "Bulgaria",
           2008
          ],
          [
           "Cameroon",
           2008
          ],
          [
           "Canada",
           2008
          ],
          [
           "Chile",
           2008
          ],
          [
           "Colombia",
           2008
          ],
          [
           "Croatia",
           2008
          ],
          [
           "Cuba",
           2008
          ],
          [
           "Denmark",
           2008
          ],
          [
           "Dominican Republic",
           2008
          ],
          [
           "Ecuador",
           2008
          ],
          [
           "Egypt",
           2008
          ],
          [
           "Estonia",
           2008
          ],
          [
           "Ethiopia",
           2008
          ],
          [
           "Finland",
           2008
          ],
          [
           "France",
           2008
          ],
          [
           "Georgia",
           2008
          ],
          [
           "Germany",
           2008
          ],
          [
           "Great Britain",
           2008
          ],
          [
           "Greece",
           2008
          ],
          [
           "Hungary",
           2008
          ],
          [
           "Iceland",
           2008
          ],
          [
           "India",
           2008
          ],
          [
           "Indonesia",
           2008
          ],
          [
           "Ireland",
           2008
          ],
          [
           "Islamic Republic of Iran",
           2008
          ],
          [
           "Israel",
           2008
          ],
          [
           "Italy",
           2008
          ],
          [
           "Jamaica",
           2008
          ],
          [
           "Japan",
           2008
          ],
          [
           "Kazakhstan",
           2008
          ],
          [
           "Kenya",
           2008
          ],
          [
           "Kyrgyzstan",
           2008
          ],
          [
           "Latvia",
           2008
          ],
          [
           "Lithuania",
           2008
          ],
          [
           "Malaysia",
           2008
          ],
          [
           "Mauritius",
           2008
          ],
          [
           "Mexico",
           2008
          ],
          [
           "Mongolia",
           2008
          ],
          [
           "Morocco",
           2008
          ],
          [
           "Netherlands",
           2008
          ],
          [
           "New Zealand",
           2008
          ],
          [
           "Nigeria",
           2008
          ],
          [
           "Norway",
           2008
          ],
          [
           "Panama",
           2008
          ],
          [
           "People's Republic of China",
           2008
          ],
          [
           "Poland",
           2008
          ],
          [
           "Portugal",
           2008
          ],
          [
           "Republic of Korea",
           2008
          ],
          [
           "Romania",
           2008
          ],
          [
           "Russian Federation",
           2008
          ],
          [
           "Samoa",
           2008
          ],
          [
           "Serbia",
           2008
          ],
          [
           "Singapore",
           2008
          ],
          [
           "Slovakia",
           2008
          ],
          [
           "Slovenia",
           2008
          ],
          [
           "South Africa",
           2008
          ],
          [
           "Spain",
           2008
          ],
          [
           "Sudan",
           2008
          ],
          [
           "Sweden",
           2008
          ],
          [
           "Switzerland",
           2008
          ],
          [
           "Tajikistan",
           2008
          ],
          [
           "Thailand",
           2008
          ],
          [
           "Togo",
           2008
          ],
          [
           "Trinidad and Tobago",
           2008
          ],
          [
           "Tunisia",
           2008
          ],
          [
           "Türkiye",
           2008
          ],
          [
           "Ukraine",
           2008
          ],
          [
           "United States of America",
           2008
          ],
          [
           "Uzbekistan",
           2008
          ],
          [
           "Venezuela",
           2008
          ],
          [
           "Zimbabwe",
           2008
          ],
          [
           "Afghanistan",
           2012
          ],
          [
           "Algeria",
           2012
          ],
          [
           "Argentina",
           2012
          ],
          [
           "Armenia",
           2012
          ],
          [
           "Australia",
           2012
          ],
          [
           "Azerbaijan",
           2012
          ],
          [
           "Bahamas",
           2012
          ],
          [
           "Bahrain",
           2012
          ],
          [
           "Belarus",
           2012
          ],
          [
           "Belgium",
           2012
          ],
          [
           "Botswana",
           2012
          ],
          [
           "Brazil",
           2012
          ],
          [
           "Bulgaria",
           2012
          ],
          [
           "Cameroon",
           2012
          ],
          [
           "Canada",
           2012
          ],
          [
           "Colombia",
           2012
          ],
          [
           "Croatia",
           2012
          ],
          [
           "Cuba",
           2012
          ],
          [
           "Cyprus",
           2012
          ],
          [
           "Denmark",
           2012
          ],
          [
           "Dominican Republic",
           2012
          ],
          [
           "Egypt",
           2012
          ],
          [
           "Estonia",
           2012
          ],
          [
           "Ethiopia",
           2012
          ],
          [
           "Finland",
           2012
          ],
          [
           "France",
           2012
          ],
          [
           "Gabon",
           2012
          ],
          [
           "Georgia",
           2012
          ],
          [
           "Germany",
           2012
          ],
          [
           "Great Britain",
           2012
          ],
          [
           "Greece",
           2012
          ],
          [
           "Grenada",
           2012
          ],
          [
           "Guatemala",
           2012
          ],
          [
           "Hungary",
           2012
          ],
          [
           "India",
           2012
          ],
          [
           "Indonesia",
           2012
          ],
          [
           "Ireland",
           2012
          ],
          [
           "Islamic Republic of Iran",
           2012
          ],
          [
           "Italy",
           2012
          ],
          [
           "Jamaica",
           2012
          ],
          [
           "Japan",
           2012
          ],
          [
           "Kazakhstan",
           2012
          ],
          [
           "Kenya",
           2012
          ],
          [
           "Kuwait",
           2012
          ],
          [
           "Latvia",
           2012
          ],
          [
           "Lithuania",
           2012
          ],
          [
           "Malaysia",
           2012
          ],
          [
           "Mexico",
           2012
          ],
          [
           "Mongolia",
           2012
          ],
          [
           "Montenegro",
           2012
          ],
          [
           "Morocco",
           2012
          ],
          [
           "Netherlands",
           2012
          ],
          [
           "New Zealand",
           2012
          ],
          [
           "Norway",
           2012
          ],
          [
           "People's Republic of China",
           2012
          ],
          [
           "Poland",
           2012
          ],
          [
           "Portugal",
           2012
          ],
          [
           "Qatar",
           2012
          ],
          [
           "Republic of Korea",
           2012
          ],
          [
           "Romania",
           2012
          ],
          [
           "Russian Federation",
           2012
          ],
          [
           "Saudi Arabia",
           2012
          ],
          [
           "Serbia",
           2012
          ],
          [
           "Singapore",
           2012
          ],
          [
           "Slovakia",
           2012
          ],
          [
           "Slovenia",
           2012
          ],
          [
           "South Africa",
           2012
          ],
          [
           "Spain",
           2012
          ],
          [
           "Sweden",
           2012
          ],
          [
           "Switzerland",
           2012
          ],
          [
           "Tajikistan",
           2012
          ],
          [
           "Thailand",
           2012
          ],
          [
           "Trinidad and Tobago",
           2012
          ],
          [
           "Tunisia",
           2012
          ],
          [
           "Türkiye",
           2012
          ],
          [
           "Uganda",
           2012
          ],
          [
           "Ukraine",
           2012
          ],
          [
           "United States of America",
           2012
          ],
          [
           "Uzbekistan",
           2012
          ],
          [
           "Venezuela",
           2012
          ],
          [
           "Algeria",
           2016
          ],
          [
           "Argentina",
           2016
          ],
          [
           "Armenia",
           2016
          ],
          [
           "Australia",
           2016
          ],
          [
           "Austria",
           2016
          ],
          [
           "Azerbaijan",
           2016
          ],
          [
           "Bahamas",
           2016
          ],
          [
           "Bahrain",
           2016
          ],
          [
           "Belarus",
           2016
          ],
          [
           "Belgium",
           2016
          ],
          [
           "Brazil",
           2016
          ],
          [
           "Bulgaria",
           2016
          ],
          [
           "Burundi",
           2016
          ],
          [
           "Canada",
           2016
          ],
          [
           "Colombia",
           2016
          ],
          [
           "Croatia",
           2016
          ],
          [
           "Cuba",
           2016
          ],
          [
           "Côte d'Ivoire",
           2016
          ],
          [
           "Denmark",
           2016
          ],
          [
           "Dominican Republic",
           2016
          ],
          [
           "Egypt",
           2016
          ],
          [
           "Estonia",
           2016
          ],
          [
           "Ethiopia",
           2016
          ],
          [
           "Fiji",
           2016
          ],
          [
           "Finland",
           2016
          ],
          [
           "France",
           2016
          ],
          [
           "Georgia",
           2016
          ],
          [
           "Germany",
           2016
          ],
          [
           "Great Britain",
           2016
          ],
          [
           "Greece",
           2016
          ],
          [
           "Grenada",
           2016
          ],
          [
           "Hungary",
           2016
          ],
          [
           "India",
           2016
          ],
          [
           "Indonesia",
           2016
          ],
          [
           "Ireland",
           2016
          ],
          [
           "Islamic Republic of Iran",
           2016
          ],
          [
           "Israel",
           2016
          ],
          [
           "Italy",
           2016
          ],
          [
           "Jamaica",
           2016
          ],
          [
           "Japan",
           2016
          ],
          [
           "Jordan",
           2016
          ],
          [
           "Kazakhstan",
           2016
          ],
          [
           "Kenya",
           2016
          ],
          [
           "Lithuania",
           2016
          ],
          [
           "Malaysia",
           2016
          ],
          [
           "Mexico",
           2016
          ],
          [
           "Mongolia",
           2016
          ],
          [
           "Morocco",
           2016
          ],
          [
           "Netherlands",
           2016
          ],
          [
           "New Zealand",
           2016
          ],
          [
           "Niger",
           2016
          ],
          [
           "Nigeria",
           2016
          ],
          [
           "Norway",
           2016
          ],
          [
           "People's Republic of China",
           2016
          ],
          [
           "Philippines",
           2016
          ],
          [
           "Poland",
           2016
          ],
          [
           "Portugal",
           2016
          ],
          [
           "Qatar",
           2016
          ],
          [
           "Republic of Korea",
           2016
          ],
          [
           "Romania",
           2016
          ],
          [
           "Russian Federation",
           2016
          ],
          [
           "Serbia",
           2016
          ],
          [
           "Singapore",
           2016
          ],
          [
           "Slovakia",
           2016
          ],
          [
           "Slovenia",
           2016
          ],
          [
           "South Africa",
           2016
          ],
          [
           "Spain",
           2016
          ],
          [
           "Sweden",
           2016
          ],
          [
           "Switzerland",
           2016
          ],
          [
           "Tajikistan",
           2016
          ],
          [
           "Thailand",
           2016
          ],
          [
           "Trinidad and Tobago",
           2016
          ],
          [
           "Tunisia",
           2016
          ],
          [
           "Türkiye",
           2016
          ],
          [
           "Ukraine",
           2016
          ],
          [
           "United Arab Emirates",
           2016
          ],
          [
           "United States of America",
           2016
          ],
          [
           "Uzbekistan",
           2016
          ],
          [
           "Venezuela",
           2016
          ],
          [
           "Argentina",
           2021
          ],
          [
           "Armenia",
           2021
          ],
          [
           "Australia",
           2021
          ],
          [
           "Austria",
           2021
          ],
          [
           "Azerbaijan",
           2021
          ],
          [
           "Bahamas",
           2021
          ],
          [
           "Bahrain",
           2021
          ],
          [
           "Belarus",
           2021
          ],
          [
           "Belgium",
           2021
          ],
          [
           "Botswana",
           2021
          ],
          [
           "Brazil",
           2021
          ],
          [
           "Bulgaria",
           2021
          ],
          [
           "Burkina Faso",
           2021
          ],
          [
           "Canada",
           2021
          ],
          [
           "Colombia",
           2021
          ],
          [
           "Croatia",
           2021
          ],
          [
           "Cuba",
           2021
          ],
          [
           "Côte d'Ivoire",
           2021
          ],
          [
           "Denmark",
           2021
          ],
          [
           "Dominican Republic",
           2021
          ],
          [
           "Ecuador",
           2021
          ],
          [
           "Egypt",
           2021
          ],
          [
           "Estonia",
           2021
          ],
          [
           "Ethiopia",
           2021
          ],
          [
           "Fiji",
           2021
          ],
          [
           "Finland",
           2021
          ],
          [
           "France",
           2021
          ],
          [
           "Georgia",
           2021
          ],
          [
           "Germany",
           2021
          ],
          [
           "Ghana",
           2021
          ],
          [
           "Great Britain",
           2021
          ],
          [
           "Greece",
           2021
          ],
          [
           "Grenada",
           2021
          ],
          [
           "Hungary",
           2021
          ],
          [
           "India",
           2021
          ],
          [
           "Indonesia",
           2021
          ],
          [
           "Ireland",
           2021
          ],
          [
           "Islamic Republic of Iran",
           2021
          ],
          [
           "Israel",
           2021
          ],
          [
           "Italy",
           2021
          ],
          [
           "Jamaica",
           2021
          ],
          [
           "Japan",
           2021
          ],
          [
           "Jordan",
           2021
          ],
          [
           "Kazakhstan",
           2021
          ],
          [
           "Kenya",
           2021
          ],
          [
           "Kuwait",
           2021
          ],
          [
           "Kyrgyzstan",
           2021
          ],
          [
           "Latvia",
           2021
          ],
          [
           "Lithuania",
           2021
          ],
          [
           "Malaysia",
           2021
          ],
          [
           "Mexico",
           2021
          ],
          [
           "Mongolia",
           2021
          ],
          [
           "Morocco",
           2021
          ],
          [
           "Namibia",
           2021
          ],
          [
           "Netherlands",
           2021
          ],
          [
           "New Zealand",
           2021
          ],
          [
           "Nigeria",
           2021
          ],
          [
           "North Macedonia",
           2021
          ],
          [
           "Norway",
           2021
          ],
          [
           "People's Republic of China",
           2021
          ],
          [
           "Philippines",
           2021
          ],
          [
           "Poland",
           2021
          ],
          [
           "Portugal",
           2021
          ],
          [
           "Qatar",
           2021
          ],
          [
           "Republic of Korea",
           2021
          ],
          [
           "Romania",
           2021
          ],
          [
           "San Marino",
           2021
          ],
          [
           "Saudi Arabia",
           2021
          ],
          [
           "Serbia",
           2021
          ],
          [
           "Slovakia",
           2021
          ],
          [
           "Slovenia",
           2021
          ],
          [
           "South Africa",
           2021
          ],
          [
           "Spain",
           2021
          ],
          [
           "Sweden",
           2021
          ],
          [
           "Switzerland",
           2021
          ],
          [
           "Thailand",
           2021
          ],
          [
           "Tunisia",
           2021
          ],
          [
           "Turkmenistan",
           2021
          ],
          [
           "Türkiye",
           2021
          ],
          [
           "Uganda",
           2021
          ],
          [
           "Ukraine",
           2021
          ],
          [
           "United States of America",
           2021
          ],
          [
           "Uzbekistan",
           2021
          ],
          [
           "Venezuela",
           2021
          ]
         ],
         "hovertemplate": "PIB per cápita=%{x}<br>Total=%{y}<br>País=%{customdata[0]}<br>Año=%{customdata[1]}<extra></extra>",
         "legendgroup": "",
         "marker": {
          "color": "#636efa",
          "symbol": "circle"
         },
         "mode": "markers",
         "name": "",
         "orientation": "v",
         "showlegend": false,
         "type": "scatter",
         "x": [
          "nan",
          "$1,811",
          "$933",
          "$1,270",
          "$233",
          "nan",
          "$2,247",
          "$1,360",
          "nan",
          "$1,175",
          "$1,335",
          "nan",
          "$176",
          "$1,392",
          "$518",
          "nan",
          "$83",
          "$238",
          "$196",
          "$802",
          "$475",
          "$360",
          "$173",
          "$1,062",
          "$2,313",
          "$1,436",
          "$82",
          "nan",
          "$359",
          "nan",
          "$428",
          "$530",
          "nan",
          "$395",
          "$2,110",
          "$1,777",
          "$504",
          "$3,014",
          "$954",
          "$1,180",
          "$2,131",
          "$1,922",
          "$1,693",
          "$255",
          "nan",
          "$2,543",
          "nan",
          "$2,005",
          "nan",
          "$1,704",
          "$1,910",
          "nan",
          "$227",
          "$1,742",
          "nan",
          "$115",
          "$963",
          "$225",
          "$1,217",
          "$844",
          "$110",
          "$486",
          "$1,531",
          "$2,814",
          "$114",
          "$103",
          "$187",
          "nan",
          "$106",
          "nan",
          "nan",
          "$2,928",
          "$2,484",
          "$779",
          "$234",
          "$363",
          "$3,582",
          "$745",
          "$1,144",
          "$2,724",
          "$1,675",
          "$2,219",
          "$370",
          "nan",
          "$171",
          "$3,451",
          "nan",
          "$2,769",
          "nan",
          "nan",
          "nan",
          "$1,904",
          "$2,536",
          "$1,947",
          "$1,151",
          "$456",
          "$100",
          "$321",
          "$1,647",
          "$598",
          "$1,451",
          "$128",
          "$622",
          "nan",
          "$2,174",
          "$1,885",
          "$2,651",
          "$143",
          "nan",
          "$174",
          "nan",
          "nan",
          "$3,917",
          "$3,103",
          "$254",
          "$515",
          "$107",
          "$4,720",
          "$940",
          "$1,411",
          "$3,949",
          "$2,915",
          "$3,825",
          "$577",
          "$1,211",
          "$5,090",
          "$396",
          "$887",
          "$4,639",
          "nan",
          "$4,850",
          "$4,850",
          "$3,168",
          "$3,855",
          "$226",
          "$3,026",
          "$1,893",
          "$679",
          "$123",
          "$570",
          "$2,662",
          "$979",
          "$2,967",
          "$171",
          "$1,113",
          "$844",
          "$173",
          "$4,086",
          "$3,295",
          "$151",
          "$211",
          "$4,397",
          "$151",
          "$1,043",
          "$324",
          "$840",
          "nan",
          "$1,699",
          "$6,022",
          "$5,690",
          "$421",
          "$543",
          "$137",
          "$6,112",
          "$7,487",
          "$5,678",
          "$7,239",
          "$1,376",
          "$1,437",
          "$8,809",
          "$1,436",
          "$8,775",
          "$8,459",
          "$8,459",
          "$6,732",
          "$6,867",
          "$4,139",
          "$1,194",
          "$2,011",
          "$4,024",
          "$1,461",
          "$5,198",
          "$1,473",
          "$257",
          "$7,902",
          "$4,374",
          "$8,907",
          "$188",
          "$1,581",
          "$2,162",
          "$834",
          "$1,188",
          "nan",
          "$3,262",
          "$10,850",
          "$10,581",
          "$406",
          "$2,342",
          "$8,611",
          "$2,316",
          "$11,000",
          "$10,732",
          "$12,529",
          "$1,230",
          "$3,673",
          "$2,030",
          "$13,886",
          "$215",
          "$11,258",
          "$13,070",
          "$11,110",
          "$10,715",
          "$5,898",
          "$1,102",
          "$2,151",
          "$271",
          "$6,252",
          "$8,559",
          "$1,214",
          "$1,553",
          "$3,384",
          "$1,607",
          "$13,750",
          "$1,595",
          "$2,052",
          "nan",
          "$6,128",
          "$16,877",
          "$19,427",
          "$665",
          "$4,671",
          "$942",
          "$2,433",
          "$12,567",
          "$8,883",
          "$8,245",
          "$1,106",
          "$1,042",
          "$13,947",
          "$1,767",
          "$1,012",
          "$11,562",
          "$2,398",
          "$926",
          "$8,538",
          "$10,890",
          "$9,697",
          "$8,939",
          "$4,854",
          "$12,130",
          "$5,592",
          "$7,841",
          "$948",
          "$11,205",
          "$647",
          "$2,755",
          "$752",
          "$9,905",
          "$6,960",
          "$357",
          "$14,969",
          "$490",
          "$301",
          "$1,019",
          "$2,596",
          "$2,413",
          "$1,710",
          "$4,472",
          "$12,976",
          "$17,019",
          "$845",
          "$1,668",
          "$17,086",
          "$3,447",
          "$449",
          "$4,524",
          "$16,235",
          "$17,633",
          "$16,009",
          "$2,289",
          "$6,433",
          "$19,041",
          "$2,035",
          "$1,714",
          "$1,598",
          "$22,528",
          "$821",
          "$16,515",
          "$16,515",
          "$22,123",
          "$18,241",
          "$17,398",
          "$7,568",
          "$2,839",
          "$622",
          "$6,009",
          "$15,934",
          "$1,373",
          "$25,575",
          "$760",
          "$2,494",
          "$1,979",
          "$1,193",
          "$17,956",
          "$13,642",
          "$24,143",
          "$543",
          "$368",
          "$1,580",
          "$744",
          "$1,819",
          "$5,533",
          "$4,755",
          "$2,593",
          "$866",
          "$3,777",
          "$9,599",
          "$4,635",
          "$24,339",
          "$32,794",
          "$1,161",
          "$2,333",
          "$21,376",
          "$1,873",
          "$7,654",
          "$18,107",
          "$25,068",
          "$19,417",
          "$22,823",
          "$2,524",
          "$1,183",
          "$20,985",
          "$1,986",
          "$2,597",
          "$2,048",
          "$29,622",
          "$2,849",
          "$293",
          "$22,496",
          "$24,591",
          "$26,538",
          "$1,103",
          "$22,438",
          "$11,139",
          "$3,733",
          "$908",
          "$15,332",
          "$891",
          "$15,021",
          "$23,117",
          "$1,804",
          "$32,069",
          "$645",
          "$633",
          "$2,318",
          "$3,380",
          "$4,624",
          "$722",
          "$1,454",
          "$2,265",
          "$24,192",
          "$11,755",
          "$522",
          "$30,433",
          "$614",
          "$420",
          "$1,563",
          "$947",
          "$2,316",
          "$13,039",
          "$8,125",
          "$848",
          "$9,639",
          "$3,803",
          "$16,013",
          "$1,407",
          "$32,585",
          "$40,883",
          "$1,999",
          "$3,819",
          "$25,393",
          "$1,643",
          "$8,645",
          "$504",
          "$23,154",
          "$29,821",
          "$411",
          "$20,975",
          "$1,429",
          "$27,535",
          "$5,205",
          "$1,495",
          "$143",
          "$21,326",
          "$3,278",
          "$5,267",
          "$2,282",
          "$35,733",
          "$2,037",
          "$155",
          "$25,833",
          "$27,721",
          "$688",
          "$30,664",
          "$24,465",
          "$13,661",
          "$4,521",
          "$407",
          "$1,394",
          "$20,781",
          "$2,631",
          "$20,153",
          "$23,094",
          "$2,975",
          "$39,164",
          "$1,359",
          "$687",
          "$2,420",
          "$2,327",
          "$5,176",
          "$4,405",
          "$592",
          "$1,745",
          "$242",
          "$2,406",
          "$29,084",
          "$18,505",
          "$1,560",
          "$37,225",
          "$703",
          "$1,316",
          "$4,066",
          "$12,188",
          "$13,398",
          "$1,565",
          "$2,787",
          "$4,005",
          "$10,811",
          "$3,870",
          "$16,096",
          "$32,986",
          "$48,172",
          "$3,044",
          "$2,228",
          "$4,659",
          "$2,412",
          "$4,099",
          "$401",
          "$914",
          "$29,947",
          "$755",
          "$379",
          "$1,795",
          "$8,639",
          "$621",
          "$20,879",
          "$24,636",
          "$656",
          "$26,669",
          "$11,337",
          "$1,080",
          "$23,137",
          "$3,772",
          "$1,625",
          "$660",
          "$24,297",
          "$5,096",
          "$2,534",
          "$3,941",
          "$4,985",
          "$2,752",
          "$30,799",
          "$4,085",
          "$129",
          "$24,380",
          "$23,212",
          "$764",
          "$23,925",
          "$28,280",
          "$12,165",
          "$4,619",
          "$32,344",
          "$451",
          "$870",
          "$26,186",
          "$5,777",
          "$21,641",
          "$20,153",
          "$3,511",
          "$39,173",
          "$1,230",
          "$617",
          "$17,013",
          "$281",
          "$3,343",
          "$3,293",
          "$7,166",
          "$1,487",
          "$319",
          "$26,328",
          "$14,020",
          "$555",
          "$1,878",
          "$38,048",
          "$951",
          "$4,485",
          "$11,531",
          "$30,461",
          "$12,261",
          "$1,662",
          "$1,902",
          "$9,257",
          "$3,840",
          "$10,259",
          "$3,382",
          "$14,761",
          "$1,065",
          "$29,589",
          "$38,970",
          "$2,004",
          "$6,546",
          "$4,238",
          "$664",
          "$36,313",
          "$7,406",
          "$702",
          "$4,314",
          "$32,843",
          "$36,884",
          "$1,040",
          "$28,239",
          "$2,451",
          "$35,498",
          "$3,660",
          "$3,370",
          "$1,089",
          "$32,177",
          "$6,184",
          "$2,826",
          "$9,747",
          "$3,403",
          "$46,571",
          "$2,541",
          "$1,196",
          "$316",
          "$8,923",
          "$138",
          "$37,816",
          "$35,016",
          "$1,338",
          "$34,535",
          "$40,415",
          "$21,830",
          "$10,276",
          "$639",
          "$1,281",
          "$2,765",
          "$20,566",
          "$31,343",
          "$3,856",
          "$38,307",
          "$2,863",
          "$693",
          "$6,343",
          "$6,699",
          "$7,502",
          "$790",
          "$2,163",
          "$40,477",
          "$24,849",
          "$963",
          "$57,512",
          "$1,694",
          "$1,500",
          "$6,685",
          "$18,056",
          "$16,506",
          "$3,484",
          "$4,404",
          "$8,040",
          "$17,255",
          "$5,415",
          "$24,932",
          "$42,737",
          "$54,782",
          "$2,658",
          "$10,442",
          "$6,016",
          "$1,375",
          "$39,305",
          "$41,642",
          "$585",
          "$4,312",
          "$807",
          "$448",
          "$4,944",
          "$9,147",
          "$3,913",
          "$49,169",
          "$51,914",
          "$5,579",
          "$31,249",
          "$6,581",
          "$48,493",
          "$8,878",
          "$7,156",
          "$1,439",
          "$46,774",
          "$10,751",
          "$5,622",
          "$16,415",
          "$4,993",
          "$64,531",
          "$5,195",
          "$4,267",
          "$2,271",
          "$18,273",
          "$327",
          "$53,898",
          "$47,155",
          "$3,420",
          "$46,368",
          "$48,039",
          "$31,902",
          "$15,743",
          "$57,296",
          "$1,020",
          "$2,418",
          "$60,990",
          "$5,891",
          "$30,183",
          "$40,819",
          "$5,134",
          "$39,992",
          "$8,349",
          "$1,119",
          "$972",
          "$16,435",
          "$15,018",
          "$8,771",
          "$8,030",
          "$10,054",
          "$2,109",
          "$3,189",
          "$58,015",
          "$31,764",
          "$2,198",
          "$96,563",
          "$7,110",
          "$3,447",
          "$13,999",
          "$24,946",
          "$21,340",
          "$10,386",
          "$12,464",
          "$3,734",
          "$7,087",
          "$40,009",
          "$18,075",
          "$27,744",
          "$6,356",
          "$35,484",
          "$1,701",
          "$55,930",
          "$74,665",
          "$702",
          "$4,373",
          "$737",
          "$21,479",
          "$4,520",
          "$10,778",
          "$3,945",
          "$48,471",
          "$1,325",
          "$11,079",
          "$553",
          "$785",
          "$5,576",
          "$13,890",
          "$3,576",
          "$68,441",
          "$7,546",
          "$30,433",
          "$25,434",
          "$6,948",
          "$44,824",
          "$6,819",
          "$12,425",
          "$7,454",
          "$1,404",
          "$52,744",
          "$8,237",
          "$13,400",
          "$6,467",
          "$28,994",
          "$58,623",
          "$6,275",
          "$3,379",
          "$17,414",
          "$493",
          "$47,851",
          "$42,372",
          "$9,903",
          "$4,410",
          "$43,883",
          "$42,691",
          "$21,845",
          "$7,444",
          "$3,268",
          "$12,936",
          "$1,444",
          "$3,745",
          "$49,029",
          "$5,548",
          "$34,744",
          "$5,448",
          "$49,175",
          "$12,300",
          "$1,396",
          "$45,726",
          "$13,787",
          "$14,376",
          "$10,815",
          "$10,271",
          "$4,281",
          "$6,591",
          "$3,225",
          "$50,176",
          "$39,683",
          "$101,130",
          "$6,283",
          "$13,097",
          "$20,577",
          "$101,933",
          "$25,458",
          "$8,491",
          "$15,288",
          "$25,208",
          "$6,013",
          "$55,548",
          "$17,451",
          "$22,674",
          "$8,207",
          "$28,345",
          "$57,816",
          "$86,281",
          "$950",
          "$5,863",
          "$19,171",
          "$4,346",
          "$11,638",
          "$951",
          "$3,873",
          "$51,737",
          "$2,285",
          "$12,648",
          "$3,919",
          "$12,773",
          "$3,524",
          "$51,826",
          "$45,279",
          "$3,898",
          "$32,136",
          "$22,641",
          "$5,038",
          "$42,076",
          "$8,757",
          "$7,596",
          "$281",
          "$42,383",
          "$6,037",
          "$12,529",
          "$8,056",
          "$1,981",
          "$54,863",
          "$7,521",
          "$3,797",
          "$18,290",
          "$791",
          "$5,621",
          "$43,866",
          "$38,349",
          "$4,061",
          "$42,124",
          "$41,630",
          "$17,906",
          "$9,628",
          "$13,086",
          "$1,714",
          "$3,606",
          "$62,668",
          "$5,731",
          "$37,702",
          "$31,191",
          "$5,183",
          "$38,772",
          "$4,181",
          "$7,662",
          "$1,689",
          "$15,004",
          "$9,544",
          "$8,789",
          "$3,575",
          "$3,235",
          "$46,165",
          "$39,426",
          "$495",
          "$2,145",
          "$70,224",
          "$8,063",
          "$3,108",
          "$12,439",
          "$19,986",
          "$57,965",
          "$29,287",
          "$9,520",
          "$8,724",
          "$5,765",
          "$56,859",
          "$16,522",
          "$21,681",
          "$5,751",
          "$26,536",
          "$51,590",
          "$82,571",
          "$802",
          "$5,995",
          "$16,247",
          "$3,890",
          "$10,891",
          "$2,200",
          "$39,145",
          "$57,840",
          "$2,713",
          "$3,673",
          "$10,636",
          "$4,990",
          "$63,464",
          "$53,332",
          "$5,398",
          "$27,479",
          "$26,139",
          "$7,302",
          "$51,849",
          "$6,805",
          "$7,503",
          "$11,746",
          "$893",
          "$52,015",
          "$6,159",
          "$17,454",
          "$9,500",
          "$2,549",
          "$68,202",
          "$8,519",
          "$5,965",
          "$4,144",
          "$27,962",
          "$996",
          "$4,646",
          "$53,774",
          "$45,188",
          "$5,014",
          "$51,238",
          "$2,521",
          "$46,681",
          "$20,263",
          "$8,948",
          "$18,732",
          "$2,257",
          "$4,361",
          "$100,129",
          "$18,739",
          "$52,152",
          "$35,625",
          "$5,184",
          "$39,246",
          "$4,103",
          "$10,306",
          "$2,085",
          "$22,684",
          "$1,276",
          "$20,546",
          "$23,386",
          "$11,408",
          "$10,242",
          "$4,483",
          "$3,934",
          "$4,826",
          "$57,997",
          "$48,317",
          "$2,066",
          "$6,714",
          "$89,042",
          "$12,564",
          "$3,576",
          "$17,946",
          "$24,296",
          "$66,838",
          "$34,744",
          "$14,795",
          "$45,641",
          "$23,186",
          "$9,178",
          "$21,053",
          "$29,298",
          "$6,965",
          "$30,090",
          "$60,816",
          "$91,546",
          "$7,232",
          "$3,820",
          "$8,509",
          "$9,654",
          "$1,012",
          "$4,880",
          "$69,227",
          "$2,002",
          "$3,423"
         ],
         "xaxis": "x",
         "y": [
          2,
          22,
          2,
          4,
          2,
          7,
          1,
          6,
          1,
          5,
          5,
          42,
          1,
          20,
          1,
          21,
          1,
          1,
          4,
          36,
          18,
          1,
          1,
          3,
          3,
          1,
          2,
          21,
          1,
          10,
          1,
          3,
          103,
          1,
          6,
          6,
          9,
          71,
          1,
          1,
          18,
          1,
          3,
          1,
          10,
          4,
          1,
          6,
          1,
          5,
          15,
          50,
          1,
          18,
          22,
          1,
          1,
          2,
          27,
          29,
          1,
          1,
          10,
          5,
          1,
          1,
          1,
          23,
          3,
          12,
          93,
          8,
          4,
          3,
          2,
          6,
          90,
          1,
          2,
          17,
          4,
          2,
          3,
          9,
          1,
          5,
          4,
          8,
          2,
          26,
          25,
          4,
          15,
          13,
          1,
          32,
          1,
          5,
          16,
          1,
          25,
          9,
          9,
          4,
          7,
          3,
          2,
          1,
          18,
          2,
          15,
          91,
          4,
          5,
          2,
          2,
          2,
          107,
          1,
          1,
          17,
          3,
          2,
          2,
          21,
          5,
          3,
          8,
          1,
          2,
          40,
          66,
          8,
          13,
          1,
          18,
          2,
          35,
          1,
          3,
          18,
          1,
          29,
          9,
          1,
          1,
          1,
          5,
          3,
          1,
          1,
          4,
          1,
          21,
          1,
          16,
          99,
          1,
          16,
          3,
          1,
          1,
          2,
          94,
          5,
          1,
          6,
          2,
          22,
          11,
          13,
          3,
          39,
          90,
          6,
          9,
          13,
          22,
          2,
          13,
          2,
          25,
          2,
          1,
          5,
          4,
          2,
          1,
          26,
          2,
          6,
          27,
          124,
          2,
          5,
          4,
          1,
          1,
          94,
          1,
          9,
          4,
          1,
          4,
          41,
          20,
          5,
          4,
          8,
          14,
          126,
          21,
          3,
          1,
          32,
          1,
          2,
          15,
          3,
          1,
          4,
          4,
          3,
          32,
          25,
          195,
          6,
          12,
          2,
          1,
          1,
          1,
          2,
          24,
          3,
          4,
          8,
          1,
          44,
          1,
          1,
          6,
          1,
          1,
          59,
          12,
          28,
          37,
          2,
          1,
          1,
          32,
          3,
          31,
          3,
          6,
          2,
          13,
          11,
          2,
          3,
          1,
          32,
          1,
          3,
          19,
          52,
          5,
          19,
          8,
          1,
          3,
          173,
          3,
          1,
          2,
          14,
          1,
          2,
          6,
          35,
          10,
          1,
          1,
          1,
          4,
          1,
          40,
          102,
          4,
          16,
          24,
          1,
          23,
          1,
          1,
          14,
          2,
          14,
          9,
          2,
          1,
          3,
          9,
          13,
          5,
          1,
          28,
          1,
          1,
          16,
          1,
          33,
          24,
          1,
          132,
          4,
          1,
          11,
          4,
          1,
          2,
          94,
          2,
          1,
          27,
          2,
          1,
          3,
          3,
          16,
          18,
          1,
          3,
          31,
          6,
          2,
          3,
          5,
          29,
          82,
          1,
          20,
          2,
          30,
          5,
          2,
          3,
          2,
          19,
          4,
          22,
          8,
          3,
          2,
          1,
          1,
          2,
          3,
          2,
          15,
          10,
          4,
          7,
          1,
          54,
          1,
          1,
          19,
          1,
          29,
          18,
          2,
          2,
          22,
          1,
          12,
          1,
          1,
          6,
          108,
          3,
          3,
          2,
          41,
          3,
          1,
          1,
          15,
          6,
          15,
          15,
          1,
          22,
          1,
          2,
          25,
          6,
          1,
          3,
          4,
          37,
          2,
          65,
          15,
          8,
          21,
          1,
          4,
          4,
          3,
          1,
          35,
          6,
          14,
          11,
          8,
          1,
          1,
          2,
          1,
          1,
          2,
          1,
          2,
          19,
          6,
          6,
          7,
          50,
          1,
          17,
          2,
          27,
          20,
          63,
          3,
          2,
          5,
          17,
          8,
          7,
          2,
          1,
          2,
          1,
          6,
          1,
          23,
          101,
          2,
          1,
          5,
          4,
          1,
          58,
          3,
          3,
          3,
          1,
          17,
          5,
          12,
          13,
          1,
          14,
          1,
          1,
          2,
          2,
          29,
          6,
          3,
          8,
          4,
          38,
          6,
          56,
          28,
          13,
          17,
          1,
          1,
          6,
          1,
          4,
          1,
          34,
          9,
          18,
          7,
          7,
          1,
          1,
          3,
          5,
          6,
          5,
          1,
          25,
          4,
          3,
          1,
          10,
          58,
          14,
          2,
          1,
          28,
          26,
          89,
          2,
          5,
          2,
          5,
          11,
          1,
          12,
          9,
          3,
          2,
          5,
          23,
          93,
          1,
          4,
          6,
          50,
          7,
          5,
          2,
          13,
          3,
          10,
          12,
          1,
          12,
          3,
          2,
          5,
          27,
          8,
          1,
          5,
          1,
          3,
          7,
          2,
          33,
          4,
          49,
          30,
          16,
          17,
          1,
          4,
          6,
          2,
          32,
          5,
          37,
          8,
          7,
          4,
          3,
          4,
          1,
          3,
          22,
          5,
          2,
          6,
          1,
          63,
          10,
          3,
          30,
          19,
          90,
          6,
          4,
          6,
          20,
          7,
          5,
          8,
          1,
          10,
          22,
          1,
          101,
          5,
          2,
          3,
          1,
          2,
          6,
          5,
          46,
          3,
          6,
          2,
          14,
          2,
          17,
          5,
          1,
          20,
          1,
          3,
          5,
          30,
          7,
          2,
          1,
          2,
          2,
          7,
          4,
          43,
          7,
          41,
          51,
          3,
          10,
          1,
          3,
          6,
          3,
          2,
          1,
          27,
          11,
          25,
          9,
          16,
          3,
          3,
          5,
          1,
          1,
          4,
          4,
          2,
          16,
          9,
          5,
          9,
          1,
          100,
          11,
          2,
          32,
          9,
          60,
          1,
          3,
          1,
          6,
          5,
          1,
          19,
          1,
          5,
          7,
          2,
          6,
          1,
          2,
          1,
          5,
          22,
          112,
          4,
          1,
          4,
          1,
          1,
          4,
          2,
          35,
          9,
          1,
          1,
          10,
          3,
          1,
          17,
          3,
          1,
          18,
          9,
          6,
          15,
          1,
          9,
          2,
          4,
          2,
          8,
          3,
          35,
          1,
          6,
          44,
          65,
          2,
          1,
          1,
          18,
          6,
          3,
          6,
          13,
          28,
          12,
          38,
          11,
          13,
          1,
          2,
          5,
          2,
          8,
          5,
          1,
          1,
          20,
          13,
          4,
          91,
          11,
          1,
          2,
          30,
          7,
          66,
          1,
          4,
          2,
          4,
          4,
          6,
          18,
          8,
          4,
          1,
          4,
          4,
          3,
          3,
          1,
          19,
          104,
          3,
          1,
          2,
          4,
          4,
          29,
          1,
          18,
          2,
          2,
          9,
          6,
          19,
          3,
          1,
          22,
          8,
          10,
          11,
          2,
          15,
          1,
          3,
          1,
          8,
          1,
          1,
          42,
          7,
          42,
          67,
          6,
          1,
          15,
          2,
          3,
          2,
          8,
          2,
          28,
          11,
          41,
          1,
          17,
          13,
          4,
          5,
          5,
          2,
          1,
          19,
          18,
          1,
          1,
          4,
          70,
          1,
          11,
          1,
          1,
          21,
          4,
          56,
          8,
          1,
          4,
          4,
          10,
          17,
          11,
          7,
          1,
          6,
          1,
          3,
          8,
          11,
          1,
          121,
          13,
          3,
          3,
          4,
          46,
          7,
          7,
          2,
          1,
          7,
          7,
          1,
          21,
          6,
          1,
          24,
          5,
          8,
          15,
          1,
          11,
          5,
          3,
          6,
          2,
          4,
          2,
          2,
          33,
          8,
          37,
          1,
          64,
          4,
          1,
          20,
          7,
          5,
          4,
          7,
          4,
          40,
          9,
          58,
          2,
          8,
          10,
          1,
          3,
          2,
          1,
          2,
          4,
          4,
          1,
          1,
          36,
          20,
          2,
          1,
          8,
          89,
          4,
          14,
          4,
          3,
          20,
          4,
          3,
          1,
          9,
          4,
          5,
          3,
          17,
          9,
          13,
          2,
          2,
          1,
          13,
          4,
          19,
          113,
          5,
          4
         ],
         "yaxis": "y"
        }
       ],
       "layout": {
        "legend": {
         "tracegroupgap": 0
        },
        "margin": {
         "t": 60
        },
        "template": {
         "data": {
          "bar": [
           {
            "error_x": {
             "color": "#2a3f5f"
            },
            "error_y": {
             "color": "#2a3f5f"
            },
            "marker": {
             "line": {
              "color": "#E5ECF6",
              "width": 0.5
             },
             "pattern": {
              "fillmode": "overlay",
              "size": 10,
              "solidity": 0.2
             }
            },
            "type": "bar"
           }
          ],
          "barpolar": [
           {
            "marker": {
             "line": {
              "color": "#E5ECF6",
              "width": 0.5
             },
             "pattern": {
              "fillmode": "overlay",
              "size": 10,
              "solidity": 0.2
             }
            },
            "type": "barpolar"
           }
          ],
          "carpet": [
           {
            "aaxis": {
             "endlinecolor": "#2a3f5f",
             "gridcolor": "white",
             "linecolor": "white",
             "minorgridcolor": "white",
             "startlinecolor": "#2a3f5f"
            },
            "baxis": {
             "endlinecolor": "#2a3f5f",
             "gridcolor": "white",
             "linecolor": "white",
             "minorgridcolor": "white",
             "startlinecolor": "#2a3f5f"
            },
            "type": "carpet"
           }
          ],
          "choropleth": [
           {
            "colorbar": {
             "outlinewidth": 0,
             "ticks": ""
            },
            "type": "choropleth"
           }
          ],
          "contour": [
           {
            "colorbar": {
             "outlinewidth": 0,
             "ticks": ""
            },
            "colorscale": [
             [
              0,
              "#0d0887"
             ],
             [
              0.1111111111111111,
              "#46039f"
             ],
             [
              0.2222222222222222,
              "#7201a8"
             ],
             [
              0.3333333333333333,
              "#9c179e"
             ],
             [
              0.4444444444444444,
              "#bd3786"
             ],
             [
              0.5555555555555556,
              "#d8576b"
             ],
             [
              0.6666666666666666,
              "#ed7953"
             ],
             [
              0.7777777777777778,
              "#fb9f3a"
             ],
             [
              0.8888888888888888,
              "#fdca26"
             ],
             [
              1,
              "#f0f921"
             ]
            ],
            "type": "contour"
           }
          ],
          "contourcarpet": [
           {
            "colorbar": {
             "outlinewidth": 0,
             "ticks": ""
            },
            "type": "contourcarpet"
           }
          ],
          "heatmap": [
           {
            "colorbar": {
             "outlinewidth": 0,
             "ticks": ""
            },
            "colorscale": [
             [
              0,
              "#0d0887"
             ],
             [
              0.1111111111111111,
              "#46039f"
             ],
             [
              0.2222222222222222,
              "#7201a8"
             ],
             [
              0.3333333333333333,
              "#9c179e"
             ],
             [
              0.4444444444444444,
              "#bd3786"
             ],
             [
              0.5555555555555556,
              "#d8576b"
             ],
             [
              0.6666666666666666,
              "#ed7953"
             ],
             [
              0.7777777777777778,
              "#fb9f3a"
             ],
             [
              0.8888888888888888,
              "#fdca26"
             ],
             [
              1,
              "#f0f921"
             ]
            ],
            "type": "heatmap"
           }
          ],
          "heatmapgl": [
           {
            "colorbar": {
             "outlinewidth": 0,
             "ticks": ""
            },
            "colorscale": [
             [
              0,
              "#0d0887"
             ],
             [
              0.1111111111111111,
              "#46039f"
             ],
             [
              0.2222222222222222,
              "#7201a8"
             ],
             [
              0.3333333333333333,
              "#9c179e"
             ],
             [
              0.4444444444444444,
              "#bd3786"
             ],
             [
              0.5555555555555556,
              "#d8576b"
             ],
             [
              0.6666666666666666,
              "#ed7953"
             ],
             [
              0.7777777777777778,
              "#fb9f3a"
             ],
             [
              0.8888888888888888,
              "#fdca26"
             ],
             [
              1,
              "#f0f921"
             ]
            ],
            "type": "heatmapgl"
           }
          ],
          "histogram": [
           {
            "marker": {
             "pattern": {
              "fillmode": "overlay",
              "size": 10,
              "solidity": 0.2
             }
            },
            "type": "histogram"
           }
          ],
          "histogram2d": [
           {
            "colorbar": {
             "outlinewidth": 0,
             "ticks": ""
            },
            "colorscale": [
             [
              0,
              "#0d0887"
             ],
             [
              0.1111111111111111,
              "#46039f"
             ],
             [
              0.2222222222222222,
              "#7201a8"
             ],
             [
              0.3333333333333333,
              "#9c179e"
             ],
             [
              0.4444444444444444,
              "#bd3786"
             ],
             [
              0.5555555555555556,
              "#d8576b"
             ],
             [
              0.6666666666666666,
              "#ed7953"
             ],
             [
              0.7777777777777778,
              "#fb9f3a"
             ],
             [
              0.8888888888888888,
              "#fdca26"
             ],
             [
              1,
              "#f0f921"
             ]
            ],
            "type": "histogram2d"
           }
          ],
          "histogram2dcontour": [
           {
            "colorbar": {
             "outlinewidth": 0,
             "ticks": ""
            },
            "colorscale": [
             [
              0,
              "#0d0887"
             ],
             [
              0.1111111111111111,
              "#46039f"
             ],
             [
              0.2222222222222222,
              "#7201a8"
             ],
             [
              0.3333333333333333,
              "#9c179e"
             ],
             [
              0.4444444444444444,
              "#bd3786"
             ],
             [
              0.5555555555555556,
              "#d8576b"
             ],
             [
              0.6666666666666666,
              "#ed7953"
             ],
             [
              0.7777777777777778,
              "#fb9f3a"
             ],
             [
              0.8888888888888888,
              "#fdca26"
             ],
             [
              1,
              "#f0f921"
             ]
            ],
            "type": "histogram2dcontour"
           }
          ],
          "mesh3d": [
           {
            "colorbar": {
             "outlinewidth": 0,
             "ticks": ""
            },
            "type": "mesh3d"
           }
          ],
          "parcoords": [
           {
            "line": {
             "colorbar": {
              "outlinewidth": 0,
              "ticks": ""
             }
            },
            "type": "parcoords"
           }
          ],
          "pie": [
           {
            "automargin": true,
            "type": "pie"
           }
          ],
          "scatter": [
           {
            "fillpattern": {
             "fillmode": "overlay",
             "size": 10,
             "solidity": 0.2
            },
            "type": "scatter"
           }
          ],
          "scatter3d": [
           {
            "line": {
             "colorbar": {
              "outlinewidth": 0,
              "ticks": ""
             }
            },
            "marker": {
             "colorbar": {
              "outlinewidth": 0,
              "ticks": ""
             }
            },
            "type": "scatter3d"
           }
          ],
          "scattercarpet": [
           {
            "marker": {
             "colorbar": {
              "outlinewidth": 0,
              "ticks": ""
             }
            },
            "type": "scattercarpet"
           }
          ],
          "scattergeo": [
           {
            "marker": {
             "colorbar": {
              "outlinewidth": 0,
              "ticks": ""
             }
            },
            "type": "scattergeo"
           }
          ],
          "scattergl": [
           {
            "marker": {
             "colorbar": {
              "outlinewidth": 0,
              "ticks": ""
             }
            },
            "type": "scattergl"
           }
          ],
          "scattermapbox": [
           {
            "marker": {
             "colorbar": {
              "outlinewidth": 0,
              "ticks": ""
             }
            },
            "type": "scattermapbox"
           }
          ],
          "scatterpolar": [
           {
            "marker": {
             "colorbar": {
              "outlinewidth": 0,
              "ticks": ""
             }
            },
            "type": "scatterpolar"
           }
          ],
          "scatterpolargl": [
           {
            "marker": {
             "colorbar": {
              "outlinewidth": 0,
              "ticks": ""
             }
            },
            "type": "scatterpolargl"
           }
          ],
          "scatterternary": [
           {
            "marker": {
             "colorbar": {
              "outlinewidth": 0,
              "ticks": ""
             }
            },
            "type": "scatterternary"
           }
          ],
          "surface": [
           {
            "colorbar": {
             "outlinewidth": 0,
             "ticks": ""
            },
            "colorscale": [
             [
              0,
              "#0d0887"
             ],
             [
              0.1111111111111111,
              "#46039f"
             ],
             [
              0.2222222222222222,
              "#7201a8"
             ],
             [
              0.3333333333333333,
              "#9c179e"
             ],
             [
              0.4444444444444444,
              "#bd3786"
             ],
             [
              0.5555555555555556,
              "#d8576b"
             ],
             [
              0.6666666666666666,
              "#ed7953"
             ],
             [
              0.7777777777777778,
              "#fb9f3a"
             ],
             [
              0.8888888888888888,
              "#fdca26"
             ],
             [
              1,
              "#f0f921"
             ]
            ],
            "type": "surface"
           }
          ],
          "table": [
           {
            "cells": {
             "fill": {
              "color": "#EBF0F8"
             },
             "line": {
              "color": "white"
             }
            },
            "header": {
             "fill": {
              "color": "#C8D4E3"
             },
             "line": {
              "color": "white"
             }
            },
            "type": "table"
           }
          ]
         },
         "layout": {
          "annotationdefaults": {
           "arrowcolor": "#2a3f5f",
           "arrowhead": 0,
           "arrowwidth": 1
          },
          "autotypenumbers": "strict",
          "coloraxis": {
           "colorbar": {
            "outlinewidth": 0,
            "ticks": ""
           }
          },
          "colorscale": {
           "diverging": [
            [
             0,
             "#8e0152"
            ],
            [
             0.1,
             "#c51b7d"
            ],
            [
             0.2,
             "#de77ae"
            ],
            [
             0.3,
             "#f1b6da"
            ],
            [
             0.4,
             "#fde0ef"
            ],
            [
             0.5,
             "#f7f7f7"
            ],
            [
             0.6,
             "#e6f5d0"
            ],
            [
             0.7,
             "#b8e186"
            ],
            [
             0.8,
             "#7fbc41"
            ],
            [
             0.9,
             "#4d9221"
            ],
            [
             1,
             "#276419"
            ]
           ],
           "sequential": [
            [
             0,
             "#0d0887"
            ],
            [
             0.1111111111111111,
             "#46039f"
            ],
            [
             0.2222222222222222,
             "#7201a8"
            ],
            [
             0.3333333333333333,
             "#9c179e"
            ],
            [
             0.4444444444444444,
             "#bd3786"
            ],
            [
             0.5555555555555556,
             "#d8576b"
            ],
            [
             0.6666666666666666,
             "#ed7953"
            ],
            [
             0.7777777777777778,
             "#fb9f3a"
            ],
            [
             0.8888888888888888,
             "#fdca26"
            ],
            [
             1,
             "#f0f921"
            ]
           ],
           "sequentialminus": [
            [
             0,
             "#0d0887"
            ],
            [
             0.1111111111111111,
             "#46039f"
            ],
            [
             0.2222222222222222,
             "#7201a8"
            ],
            [
             0.3333333333333333,
             "#9c179e"
            ],
            [
             0.4444444444444444,
             "#bd3786"
            ],
            [
             0.5555555555555556,
             "#d8576b"
            ],
            [
             0.6666666666666666,
             "#ed7953"
            ],
            [
             0.7777777777777778,
             "#fb9f3a"
            ],
            [
             0.8888888888888888,
             "#fdca26"
            ],
            [
             1,
             "#f0f921"
            ]
           ]
          },
          "colorway": [
           "#636efa",
           "#EF553B",
           "#00cc96",
           "#ab63fa",
           "#FFA15A",
           "#19d3f3",
           "#FF6692",
           "#B6E880",
           "#FF97FF",
           "#FECB52"
          ],
          "font": {
           "color": "#2a3f5f"
          },
          "geo": {
           "bgcolor": "white",
           "lakecolor": "white",
           "landcolor": "#E5ECF6",
           "showlakes": true,
           "showland": true,
           "subunitcolor": "white"
          },
          "hoverlabel": {
           "align": "left"
          },
          "hovermode": "closest",
          "mapbox": {
           "style": "light"
          },
          "paper_bgcolor": "white",
          "plot_bgcolor": "#E5ECF6",
          "polar": {
           "angularaxis": {
            "gridcolor": "white",
            "linecolor": "white",
            "ticks": ""
           },
           "bgcolor": "#E5ECF6",
           "radialaxis": {
            "gridcolor": "white",
            "linecolor": "white",
            "ticks": ""
           }
          },
          "scene": {
           "xaxis": {
            "backgroundcolor": "#E5ECF6",
            "gridcolor": "white",
            "gridwidth": 2,
            "linecolor": "white",
            "showbackground": true,
            "ticks": "",
            "zerolinecolor": "white"
           },
           "yaxis": {
            "backgroundcolor": "#E5ECF6",
            "gridcolor": "white",
            "gridwidth": 2,
            "linecolor": "white",
            "showbackground": true,
            "ticks": "",
            "zerolinecolor": "white"
           },
           "zaxis": {
            "backgroundcolor": "#E5ECF6",
            "gridcolor": "white",
            "gridwidth": 2,
            "linecolor": "white",
            "showbackground": true,
            "ticks": "",
            "zerolinecolor": "white"
           }
          },
          "shapedefaults": {
           "line": {
            "color": "#2a3f5f"
           }
          },
          "ternary": {
           "aaxis": {
            "gridcolor": "white",
            "linecolor": "white",
            "ticks": ""
           },
           "baxis": {
            "gridcolor": "white",
            "linecolor": "white",
            "ticks": ""
           },
           "bgcolor": "#E5ECF6",
           "caxis": {
            "gridcolor": "white",
            "linecolor": "white",
            "ticks": ""
           }
          },
          "title": {
           "x": 0.05
          },
          "xaxis": {
           "automargin": true,
           "gridcolor": "white",
           "linecolor": "white",
           "ticks": "",
           "title": {
            "standoff": 15
           },
           "zerolinecolor": "white",
           "zerolinewidth": 2
          },
          "yaxis": {
           "automargin": true,
           "gridcolor": "white",
           "linecolor": "white",
           "ticks": "",
           "title": {
            "standoff": 15
           },
           "zerolinecolor": "white",
           "zerolinewidth": 2
          }
         }
        },
        "title": {
         "text": "Relación entre el PIB y el número de medallas"
        },
        "xaxis": {
         "anchor": "y",
         "domain": [
          0,
          1
         ],
         "title": {
          "text": "PIB"
         }
        },
        "yaxis": {
         "anchor": "x",
         "domain": [
          0,
          1
         ],
         "title": {
          "text": "Medallas"
         }
        }
       }
      }
     },
     "metadata": {},
     "output_type": "display_data"
    }
   ],
   "source": [
    "fig = px.scatter(df_medallas_pib, x=\"PIB per cápita\", y=\"Total\", hover_data=[\"País\", \"Año\"])\n",
    "\n",
    "# Añadir título y etiquetas de los ejes\n",
    "fig.update_layout(\n",
    "    title=\"Relación entre el PIB y el número de medallas\",\n",
    "    xaxis_title=\"PIB\",\n",
    "    yaxis_title=\"Medallas\"\n",
    ")\n",
    "\n",
    "# Mostrar el gráfico\n",
    "fig.show()"
   ]
  },
  {
   "cell_type": "code",
   "execution_count": 110,
   "metadata": {},
   "outputs": [
    {
     "name": "stderr",
     "output_type": "stream",
     "text": [
      "C:\\Users\\Admin\\AppData\\Roaming\\Python\\Python37\\site-packages\\ipykernel_launcher.py:1: FutureWarning:\n",
      "\n",
      "The default value of regex will change from True to False in a future version. In addition, single character regular expressions will *not* be treated as literal strings when regex=True.\n",
      "\n"
     ]
    }
   ],
   "source": [
    "df_medallas_pib['PIB per cápita'] = df_medallas_pib['PIB per cápita'].str.replace('$', '').str.replace(',', '').astype(float)\n"
   ]
  },
  {
   "cell_type": "code",
   "execution_count": 111,
   "metadata": {},
   "outputs": [],
   "source": [
    "df_medallas_pib['PIB per cápita'] = pd.to_numeric(df_medallas_pib['PIB per cápita'])"
   ]
  },
  {
   "cell_type": "code",
   "execution_count": 112,
   "metadata": {},
   "outputs": [
    {
     "data": {
      "text/html": [
       "<div>\n",
       "<style scoped>\n",
       "    .dataframe tbody tr th:only-of-type {\n",
       "        vertical-align: middle;\n",
       "    }\n",
       "\n",
       "    .dataframe tbody tr th {\n",
       "        vertical-align: top;\n",
       "    }\n",
       "\n",
       "    .dataframe thead th {\n",
       "        text-align: right;\n",
       "    }\n",
       "</style>\n",
       "<table border=\"1\" class=\"dataframe\">\n",
       "  <thead>\n",
       "    <tr style=\"text-align: right;\">\n",
       "      <th></th>\n",
       "      <th>País</th>\n",
       "      <th>Oro</th>\n",
       "      <th>Plata</th>\n",
       "      <th>Bronce</th>\n",
       "      <th>Total</th>\n",
       "      <th>Año</th>\n",
       "      <th>PIB per cápita</th>\n",
       "    </tr>\n",
       "  </thead>\n",
       "  <tbody>\n",
       "    <tr>\n",
       "      <th>99</th>\n",
       "      <td>Jamaica</td>\n",
       "      <td>0</td>\n",
       "      <td>1</td>\n",
       "      <td>0</td>\n",
       "      <td>1.0</td>\n",
       "      <td>1968</td>\n",
       "      <td>598.0</td>\n",
       "    </tr>\n",
       "    <tr>\n",
       "      <th>141</th>\n",
       "      <td>Jamaica</td>\n",
       "      <td>0</td>\n",
       "      <td>0</td>\n",
       "      <td>1</td>\n",
       "      <td>1.0</td>\n",
       "      <td>1972</td>\n",
       "      <td>979.0</td>\n",
       "    </tr>\n",
       "    <tr>\n",
       "      <th>180</th>\n",
       "      <td>Jamaica</td>\n",
       "      <td>1</td>\n",
       "      <td>1</td>\n",
       "      <td>0</td>\n",
       "      <td>2.0</td>\n",
       "      <td>1976</td>\n",
       "      <td>1461.0</td>\n",
       "    </tr>\n",
       "    <tr>\n",
       "      <th>218</th>\n",
       "      <td>Jamaica</td>\n",
       "      <td>0</td>\n",
       "      <td>0</td>\n",
       "      <td>3</td>\n",
       "      <td>3.0</td>\n",
       "      <td>1980</td>\n",
       "      <td>1214.0</td>\n",
       "    </tr>\n",
       "    <tr>\n",
       "      <th>252</th>\n",
       "      <td>Jamaica</td>\n",
       "      <td>0</td>\n",
       "      <td>1</td>\n",
       "      <td>2</td>\n",
       "      <td>3.0</td>\n",
       "      <td>1984</td>\n",
       "      <td>948.0</td>\n",
       "    </tr>\n",
       "    <tr>\n",
       "      <th>297</th>\n",
       "      <td>Jamaica</td>\n",
       "      <td>0</td>\n",
       "      <td>2</td>\n",
       "      <td>0</td>\n",
       "      <td>2.0</td>\n",
       "      <td>1988</td>\n",
       "      <td>1373.0</td>\n",
       "    </tr>\n",
       "    <tr>\n",
       "      <th>350</th>\n",
       "      <td>Jamaica</td>\n",
       "      <td>0</td>\n",
       "      <td>3</td>\n",
       "      <td>1</td>\n",
       "      <td>4.0</td>\n",
       "      <td>1992</td>\n",
       "      <td>1804.0</td>\n",
       "    </tr>\n",
       "    <tr>\n",
       "      <th>413</th>\n",
       "      <td>Jamaica</td>\n",
       "      <td>1</td>\n",
       "      <td>3</td>\n",
       "      <td>2</td>\n",
       "      <td>6.0</td>\n",
       "      <td>1996</td>\n",
       "      <td>2975.0</td>\n",
       "    </tr>\n",
       "    <tr>\n",
       "      <th>488</th>\n",
       "      <td>Jamaica</td>\n",
       "      <td>0</td>\n",
       "      <td>6</td>\n",
       "      <td>3</td>\n",
       "      <td>9.0</td>\n",
       "      <td>2000</td>\n",
       "      <td>3511.0</td>\n",
       "    </tr>\n",
       "    <tr>\n",
       "      <th>559</th>\n",
       "      <td>Jamaica</td>\n",
       "      <td>2</td>\n",
       "      <td>1</td>\n",
       "      <td>2</td>\n",
       "      <td>5.0</td>\n",
       "      <td>2004</td>\n",
       "      <td>3856.0</td>\n",
       "    </tr>\n",
       "    <tr>\n",
       "      <th>632</th>\n",
       "      <td>Jamaica</td>\n",
       "      <td>5</td>\n",
       "      <td>4</td>\n",
       "      <td>2</td>\n",
       "      <td>11.0</td>\n",
       "      <td>2008</td>\n",
       "      <td>5134.0</td>\n",
       "    </tr>\n",
       "    <tr>\n",
       "      <th>715</th>\n",
       "      <td>Jamaica</td>\n",
       "      <td>4</td>\n",
       "      <td>5</td>\n",
       "      <td>3</td>\n",
       "      <td>12.0</td>\n",
       "      <td>2012</td>\n",
       "      <td>5448.0</td>\n",
       "    </tr>\n",
       "    <tr>\n",
       "      <th>794</th>\n",
       "      <td>Jamaica</td>\n",
       "      <td>6</td>\n",
       "      <td>3</td>\n",
       "      <td>2</td>\n",
       "      <td>11.0</td>\n",
       "      <td>2016</td>\n",
       "      <td>5183.0</td>\n",
       "    </tr>\n",
       "    <tr>\n",
       "      <th>875</th>\n",
       "      <td>Jamaica</td>\n",
       "      <td>4</td>\n",
       "      <td>1</td>\n",
       "      <td>4</td>\n",
       "      <td>9.0</td>\n",
       "      <td>2021</td>\n",
       "      <td>5184.0</td>\n",
       "    </tr>\n",
       "  </tbody>\n",
       "</table>\n",
       "</div>"
      ],
      "text/plain": [
       "        País  Oro  Plata  Bronce  Total   Año  PIB per cápita\n",
       "99   Jamaica    0      1       0    1.0  1968           598.0\n",
       "141  Jamaica    0      0       1    1.0  1972           979.0\n",
       "180  Jamaica    1      1       0    2.0  1976          1461.0\n",
       "218  Jamaica    0      0       3    3.0  1980          1214.0\n",
       "252  Jamaica    0      1       2    3.0  1984           948.0\n",
       "297  Jamaica    0      2       0    2.0  1988          1373.0\n",
       "350  Jamaica    0      3       1    4.0  1992          1804.0\n",
       "413  Jamaica    1      3       2    6.0  1996          2975.0\n",
       "488  Jamaica    0      6       3    9.0  2000          3511.0\n",
       "559  Jamaica    2      1       2    5.0  2004          3856.0\n",
       "632  Jamaica    5      4       2   11.0  2008          5134.0\n",
       "715  Jamaica    4      5       3   12.0  2012          5448.0\n",
       "794  Jamaica    6      3       2   11.0  2016          5183.0\n",
       "875  Jamaica    4      1       4    9.0  2021          5184.0"
      ]
     },
     "execution_count": 112,
     "metadata": {},
     "output_type": "execute_result"
    }
   ],
   "source": [
    "df_medallas_pib[df_medallas_pib[\"País\"]==\"Jamaica\"]"
   ]
  },
  {
   "cell_type": "code",
   "execution_count": 29,
   "metadata": {},
   "outputs": [
    {
     "data": {
      "application/vnd.plotly.v1+json": {
       "config": {
        "plotlyServerURL": "https://plot.ly"
       },
       "data": [
        {
         "customdata": [
          [
           "Argentina"
          ],
          [
           "Argentina"
          ],
          [
           "Argentina"
          ],
          [
           "Argentina"
          ],
          [
           "Argentina"
          ],
          [
           "Argentina"
          ],
          [
           "Argentina"
          ],
          [
           "Argentina"
          ],
          [
           "Argentina"
          ],
          [
           "Argentina"
          ],
          [
           "Argentina"
          ],
          [
           "Argentina"
          ],
          [
           "Argentina"
          ]
         ],
         "hovertemplate": "País=%{customdata[0]}<br>PIB_relativo=%{x}<br>Medallas_relativas=%{y}<extra></extra>",
         "legendgroup": "Argentina",
         "marker": {
          "color": "#1f77b4",
          "symbol": "circle"
         },
         "mode": "markers",
         "name": "Argentina",
         "orientation": "v",
         "showlegend": true,
         "type": "scatter",
         "x": [
          null,
          0.011576231446145998,
          0.011223058283382222,
          0.013842425907213561,
          0.04438209412064788,
          0.07508853854983175,
          0.08481061089146792,
          0.08475174869767396,
          0.04232191733785918,
          0.08973541443889614,
          0.13626597863302364,
          0.12530780022171426,
          0.10434304886543122
         ],
         "xaxis": "x",
         "y": [
          0.010256410256410256,
          0.005128205128205128,
          0.010256410256410256,
          0.005128205128205128,
          0.010256410256410256,
          0.005128205128205128,
          0.015384615384615385,
          0.020512820512820513,
          0.03076923076923077,
          0.03076923076923077,
          0.020512820512820513,
          0.020512820512820513,
          0.015384615384615385
         ],
         "yaxis": "y"
        },
        {
         "customdata": [
          [
           "Australia"
          ],
          [
           "Australia"
          ],
          [
           "Australia"
          ],
          [
           "Australia"
          ],
          [
           "Australia"
          ],
          [
           "Australia"
          ],
          [
           "Australia"
          ],
          [
           "Australia"
          ],
          [
           "Australia"
          ],
          [
           "Australia"
          ],
          [
           "Australia"
          ],
          [
           "Australia"
          ],
          [
           "Australia"
          ],
          [
           "Australia"
          ],
          [
           "Australia"
          ],
          [
           "Australia"
          ]
         ],
         "hovertemplate": "País=%{customdata[0]}<br>PIB_relativo=%{x}<br>Medallas_relativas=%{y}<extra></extra>",
         "legendgroup": "Australia",
         "marker": {
          "color": "#ff7f0e",
          "symbol": "circle"
         },
         "mode": "markers",
         "name": "Australia",
         "orientation": "v",
         "showlegend": true,
         "type": "scatter",
         "x": [
          0.01776657216014441,
          0.020905889162489085,
          0.026723435982459066,
          0.03874113388205978,
          0.07345020748923313,
          0.10791402195559828,
          0.12328686490145488,
          0.15927128604083074,
          0.1776362905045471,
          0.22714920585090206,
          0.20483062403735788,
          0.3222018384625195,
          0.482365867775892,
          0.6714312342421002,
          0.5084320092609852,
          0.6226050444900082
         ],
         "xaxis": "x",
         "y": [
          0.11282051282051282,
          0.09230769230769231,
          0.08717948717948718,
          0.08717948717948718,
          0.02564102564102564,
          0.046153846153846156,
          0.12307692307692308,
          0.07179487179487179,
          0.13846153846153847,
          0.21025641025641026,
          0.29743589743589743,
          0.2564102564102564,
          0.2358974358974359,
          0.1794871794871795,
          0.14871794871794872,
          0.2358974358974359
         ],
         "yaxis": "y"
        },
        {
         "customdata": [
          [
           "Austria"
          ],
          [
           "Austria"
          ],
          [
           "Austria"
          ],
          [
           "Austria"
          ],
          [
           "Austria"
          ],
          [
           "Austria"
          ],
          [
           "Austria"
          ],
          [
           "Austria"
          ],
          [
           "Austria"
          ],
          [
           "Austria"
          ],
          [
           "Austria"
          ],
          [
           "Austria"
          ],
          [
           "Austria"
          ],
          [
           "Austria"
          ]
         ],
         "hovertemplate": "País=%{customdata[0]}<br>PIB_relativo=%{x}<br>Medallas_relativas=%{y}<extra></extra>",
         "legendgroup": "Austria",
         "marker": {
          "color": "#2ca02c",
          "symbol": "circle"
         },
         "mode": "markers",
         "name": "Austria",
         "orientation": "v",
         "showlegend": true,
         "type": "scatter",
         "x": [
          0.0091530711349612,
          0.01643236243414792,
          0.028597215818233546,
          0.05570325606035337,
          0.10528484396613462,
          0.08714547791196178,
          0.17298617719482406,
          0.24592624567117616,
          0.29255491352162694,
          0.24168816771801085,
          0.3618455259827534,
          0.5092953214366299,
          0.44420354546613955,
          0.5232064199032698
         ],
         "xaxis": "x",
         "y": [
          0.010256410256410256,
          0.020512820512820513,
          0.015384615384615385,
          0.005128205128205128,
          0.020512820512820513,
          0.015384615384615385,
          0.005128205128205128,
          0.010256410256410256,
          0.015384615384615385,
          0.015384615384615385,
          0.035897435897435895,
          0.015384615384615385,
          0.005128205128205128,
          0.035897435897435895
         ],
         "yaxis": "y"
        },
        {
         "customdata": [
          [
           "Belgium"
          ],
          [
           "Belgium"
          ],
          [
           "Belgium"
          ],
          [
           "Belgium"
          ],
          [
           "Belgium"
          ],
          [
           "Belgium"
          ],
          [
           "Belgium"
          ],
          [
           "Belgium"
          ],
          [
           "Belgium"
          ],
          [
           "Belgium"
          ],
          [
           "Belgium"
          ],
          [
           "Belgium"
          ],
          [
           "Belgium"
          ],
          [
           "Belgium"
          ],
          [
           "Belgium"
          ],
          [
           "Belgium"
          ]
         ],
         "hovertemplate": "País=%{customdata[0]}<br>PIB_relativo=%{x}<br>Medallas_relativas=%{y}<extra></extra>",
         "legendgroup": "Belgium",
         "marker": {
          "color": "#d62728",
          "symbol": "circle"
         },
         "mode": "markers",
         "name": "Belgium",
         "orientation": "v",
         "showlegend": true,
         "type": "scatter",
         "x": [
          0.012459164353055439,
          0.016608949015529808,
          0.021769201338133874,
          0.03752464854365122,
          0.071017236812416,
          0.12291407100742645,
          0.08088646463853708,
          0.1570541434079248,
          0.2239019748266018,
          0.27012841768612716,
          0.2269824296351525,
          0.348248359216348,
          0.47573406060843887,
          0.4397398291034307,
          0.41278094434579576,
          0.5086576476705287
         ],
         "xaxis": "x",
         "y": [
          0.020512820512820513,
          0.015384615384615385,
          0.010256410256410256,
          0.010256410256410256,
          0.03076923076923077,
          0.005128205128205128,
          0.020512820512820513,
          0.010256410256410256,
          0.015384615384615385,
          0.03076923076923077,
          0.02564102564102564,
          0.015384615384615385,
          0.010256410256410256,
          0.015384615384615385,
          0.03076923076923077,
          0.035897435897435895
         ],
         "yaxis": "y"
        },
        {
         "customdata": [
          [
           "Brazil"
          ],
          [
           "Brazil"
          ],
          [
           "Brazil"
          ],
          [
           "Brazil"
          ],
          [
           "Brazil"
          ],
          [
           "Brazil"
          ],
          [
           "Brazil"
          ],
          [
           "Brazil"
          ],
          [
           "Brazil"
          ],
          [
           "Brazil"
          ],
          [
           "Brazil"
          ],
          [
           "Brazil"
          ],
          [
           "Brazil"
          ],
          [
           "Brazil"
          ],
          [
           "Brazil"
          ],
          [
           "Brazil"
          ]
         ],
         "hovertemplate": "País=%{customdata[0]}<br>PIB_relativo=%{x}<br>Medallas_relativas=%{y}<extra></extra>",
         "legendgroup": "Brazil",
         "marker": {
          "color": "#9467bd",
          "symbol": "circle"
         },
         "mode": "markers",
         "name": "Brazil",
         "orientation": "v",
         "showlegend": true,
         "type": "scatter",
         "x": [
          0.0022858151923322184,
          0.0025016432362434146,
          0.003629835283961033,
          0.005660580969852746,
          0.013499063110082112,
          0.012066749727762354,
          0.01085026438935379,
          0.022455926932396772,
          0.024761362855993643,
          0.05106295311626265,
          0.037004699165137885,
          0.03590593821431725,
          0.08709642608380014,
          0.12189379298166443,
          0.08590937184228856,
          0.07360717333935035
         ],
         "xaxis": "x",
         "y": [
          0.010256410256410256,
          0.005128205128205128,
          0.015384615384615385,
          0.010256410256410256,
          0.010256410256410256,
          0.020512820512820513,
          0.041025641025641026,
          0.03076923076923077,
          0.015384615384615385,
          0.07692307692307693,
          0.06153846153846154,
          0.05128205128205128,
          0.08717948717948718,
          0.08717948717948718,
          0.09743589743589744,
          0.1076923076923077
         ],
         "yaxis": "y"
        },
        {
         "customdata": [
          [
           "Bulgaria"
          ],
          [
           "Bulgaria"
          ],
          [
           "Bulgaria"
          ],
          [
           "Bulgaria"
          ],
          [
           "Bulgaria"
          ],
          [
           "Bulgaria"
          ],
          [
           "Bulgaria"
          ],
          [
           "Bulgaria"
          ],
          [
           "Bulgaria"
          ],
          [
           "Bulgaria"
          ],
          [
           "Bulgaria"
          ],
          [
           "Bulgaria"
          ],
          [
           "Bulgaria"
          ],
          [
           "Bulgaria"
          ],
          [
           "Bulgaria"
          ]
         ],
         "hovertemplate": "País=%{customdata[0]}<br>PIB_relativo=%{x}<br>Medallas_relativas=%{y}<extra></extra>",
         "legendgroup": "Bulgaria",
         "marker": {
          "color": "#8c564b",
          "symbol": "circle"
         },
         "mode": "markers",
         "name": "Bulgaria",
         "orientation": "v",
         "showlegend": true,
         "type": "scatter",
         "x": [
          null,
          null,
          null,
          0.011880352780748138,
          0.014097495413654067,
          0.0360334729675375,
          0.06311008211276034,
          0.01160566254304298,
          0.01466649662032904,
          0.015941844152531564,
          0.03306093218094238,
          0.07020297646493284,
          0.07312646542336633,
          0.07451953734315678,
          0.11523255471731432
         ],
         "xaxis": "x",
         "y": [
          0.035897435897435895,
          0.05128205128205128,
          0.046153846153846156,
          0.1076923076923077,
          0.11282051282051282,
          0.21025641025641026,
          0.1794871794871795,
          0.08205128205128205,
          0.07692307692307693,
          0.06666666666666667,
          0.06153846153846154,
          0.02564102564102564,
          0.015384615384615385,
          0.015384615384615385,
          0.03076923076923077
         ],
         "yaxis": "y"
        },
        {
         "customdata": [
          [
           "Canada"
          ],
          [
           "Canada"
          ],
          [
           "Canada"
          ],
          [
           "Canada"
          ],
          [
           "Canada"
          ],
          [
           "Canada"
          ],
          [
           "Canada"
          ],
          [
           "Canada"
          ],
          [
           "Canada"
          ],
          [
           "Canada"
          ],
          [
           "Canada"
          ],
          [
           "Canada"
          ],
          [
           "Canada"
          ],
          [
           "Canada"
          ],
          [
           "Canada"
          ]
         ],
         "hovertemplate": "País=%{customdata[0]}<br>PIB_relativo=%{x}<br>Medallas_relativas=%{y}<extra></extra>",
         "legendgroup": "Canada",
         "marker": {
          "color": "#e377c2",
          "symbol": "circle"
         },
         "mode": "markers",
         "name": "Canada",
         "orientation": "v",
         "showlegend": true,
         "type": "scatter",
         "x": [
          0.022043891575839032,
          0.024947759803007858,
          0.03385557179716088,
          0.049934761068545025,
          0.08641951085516958,
          0.1368251694740663,
          0.18679917200514062,
          0.20587052279438456,
          0.2092158574750081,
          0.23836245376865195,
          0.3156681349513896,
          0.4588700420864686,
          0.5174379249114615,
          0.41579272659492017,
          0.510286168365495
         ],
         "xaxis": "x",
         "y": [
          0.005128205128205128,
          0.020512820512820513,
          0.02564102564102564,
          0.02564102564102564,
          0.05641025641025641,
          0.22564102564102564,
          0.05128205128205128,
          0.09230769230769231,
          0.11282051282051282,
          0.07179487179487179,
          0.06153846153846154,
          0.10256410256410256,
          0.09230769230769231,
          0.11282051282051282,
          0.12307692307692308
         ],
         "yaxis": "y"
        },
        {
         "customdata": [
          [
           "Denmark"
          ],
          [
           "Denmark"
          ],
          [
           "Denmark"
          ],
          [
           "Denmark"
          ],
          [
           "Denmark"
          ],
          [
           "Denmark"
          ],
          [
           "Denmark"
          ],
          [
           "Denmark"
          ],
          [
           "Denmark"
          ],
          [
           "Denmark"
          ],
          [
           "Denmark"
          ],
          [
           "Denmark"
          ],
          [
           "Denmark"
          ],
          [
           "Denmark"
          ],
          [
           "Denmark"
          ],
          [
           "Denmark"
          ]
         ],
         "hovertemplate": "País=%{customdata[0]}<br>PIB_relativo=%{x}<br>Medallas_relativas=%{y}<extra></extra>",
         "legendgroup": "Denmark",
         "marker": {
          "color": "#7f7f7f",
          "symbol": "circle"
         },
         "mode": "markers",
         "name": "Denmark",
         "orientation": "v",
         "showlegend": true,
         "type": "scatter",
         "x": [
          0.013342097259964878,
          0.01966978309281587,
          0.027164902435913785,
          0.04551028616836549,
          0.08608595842367045,
          0.13622673717049436,
          0.11342744744096613,
          0.22100791696506528,
          0.29060265076079383,
          0.3505537951399449,
          0.3021494511100429,
          0.45687853786310617,
          0.6330727046197012,
          0.5751130644639125,
          0.5382260896863627,
          0.6690865568559741
         ],
         "xaxis": "x",
         "y": [
          0.03076923076923077,
          0.03076923076923077,
          0.041025641025641026,
          0.005128205128205128,
          0.015384615384615385,
          0.02564102564102564,
          0.03076923076923077,
          0.020512820512820513,
          0.03076923076923077,
          0.03076923076923077,
          0.03076923076923077,
          0.041025641025641026,
          0.035897435897435895,
          0.046153846153846156,
          0.07692307692307693,
          0.05641025641025641
         ],
         "yaxis": "y"
        },
        {
         "customdata": [
          [
           "Ethiopia"
          ],
          [
           "Ethiopia"
          ],
          [
           "Ethiopia"
          ],
          [
           "Ethiopia"
          ],
          [
           "Ethiopia"
          ],
          [
           "Ethiopia"
          ],
          [
           "Ethiopia"
          ],
          [
           "Ethiopia"
          ],
          [
           "Ethiopia"
          ],
          [
           "Ethiopia"
          ],
          [
           "Ethiopia"
          ],
          [
           "Ethiopia"
          ],
          [
           "Ethiopia"
          ]
         ],
         "hovertemplate": "País=%{customdata[0]}<br>PIB_relativo=%{x}<br>Medallas_relativas=%{y}<extra></extra>",
         "legendgroup": "Ethiopia",
         "marker": {
          "color": "#bcbd22",
          "symbol": "circle"
         },
         "mode": "markers",
         "name": "Ethiopia",
         "orientation": "v",
         "showlegend": true,
         "type": "scatter",
         "x": [
          null,
          null,
          null,
          null,
          0.00210922861095033,
          0.002874437130271845,
          0.001520606673010703,
          0.0012655371665701981,
          0.001353830457261142,
          0.003207989561770967,
          0.004836510256737268,
          0.007759999215170749,
          0.009771124169797809
         ],
         "xaxis": "x",
         "y": [
          0.005128205128205128,
          0.005128205128205128,
          0.010256410256410256,
          0.010256410256410256,
          0.020512820512820513,
          0.015384615384615385,
          0.015384615384615385,
          0.041025641025641026,
          0.035897435897435895,
          0.035897435897435895,
          0.041025641025641026,
          0.041025641025641026,
          0.020512820512820513
         ],
         "yaxis": "y"
        },
        {
         "customdata": [
          [
           "Finland"
          ],
          [
           "Finland"
          ],
          [
           "Finland"
          ],
          [
           "Finland"
          ],
          [
           "Finland"
          ],
          [
           "Finland"
          ],
          [
           "Finland"
          ],
          [
           "Finland"
          ],
          [
           "Finland"
          ],
          [
           "Finland"
          ],
          [
           "Finland"
          ],
          [
           "Finland"
          ],
          [
           "Finland"
          ],
          [
           "Finland"
          ],
          [
           "Finland"
          ],
          [
           "Finland"
          ]
         ],
         "hovertemplate": "País=%{customdata[0]}<br>PIB_relativo=%{x}<br>Medallas_relativas=%{y}<extra></extra>",
         "legendgroup": "Finland",
         "marker": {
          "color": "#17becf",
          "symbol": "circle"
         },
         "mode": "markers",
         "name": "Finland",
         "orientation": "v",
         "showlegend": true,
         "type": "scatter",
         "x": [
          0.011527179617984362,
          0.016716863037485406,
          0.01867893616395083,
          0.031079238323212306,
          0.06604338143682616,
          0.11044509628873868,
          0.1068348817360423,
          0.2170347188839728,
          0.22069398526483083,
          0.2534311753799064,
          0.23917671411613511,
          0.37098878675208224,
          0.5287590868511669,
          0.46943580587248485,
          0.4303414988276613,
          0.5275426015127583
         ],
         "xaxis": "x",
         "y": [
          0.02564102564102564,
          0.02564102564102564,
          0.020512820512820513,
          0.041025641025641026,
          0.03076923076923077,
          0.041025641025641026,
          0.06153846153846154,
          0.020512820512820513,
          0.02564102564102564,
          0.020512820512820513,
          0.020512820512820513,
          0.010256410256410256,
          0.020512820512820513,
          0.015384615384615385,
          0.005128205128205128,
          0.010256410256410256
         ],
         "yaxis": "y"
        },
        {
         "customdata": [
          [
           "France"
          ],
          [
           "France"
          ],
          [
           "France"
          ],
          [
           "France"
          ],
          [
           "France"
          ],
          [
           "France"
          ],
          [
           "France"
          ],
          [
           "France"
          ],
          [
           "France"
          ],
          [
           "France"
          ],
          [
           "France"
          ],
          [
           "France"
          ],
          [
           "France"
          ],
          [
           "France"
          ],
          [
           "France"
          ],
          [
           "France"
          ]
         ],
         "hovertemplate": "País=%{customdata[0]}<br>PIB_relativo=%{x}<br>Medallas_relativas=%{y}<extra></extra>",
         "legendgroup": "France",
         "marker": {
          "color": "#1f77b4",
          "symbol": "circle"
         },
         "mode": "markers",
         "name": "France",
         "orientation": "v",
         "showlegend": true,
         "type": "scatter",
         "x": [
          0.013096838119156701,
          0.018737798357744792,
          0.02487908724358157,
          0.037818959512621035,
          0.06736778079719032,
          0.12822147881451543,
          0.09513111553667605,
          0.17895087949927893,
          0.24124670126455613,
          0.27195314569374,
          0.22771820705757703,
          0.34351976298156633,
          0.46260779139238517,
          0.4156848125729646,
          0.3762177116341126,
          0.44331080219359775
         ],
         "xaxis": "x",
         "y": [
          0.02564102564102564,
          0.07692307692307693,
          0.07692307692307693,
          0.06666666666666667,
          0.046153846153846156,
          0.07179487179487179,
          0.14358974358974358,
          0.08205128205128205,
          0.14871794871794872,
          0.18974358974358974,
          0.19487179487179487,
          0.16923076923076924,
          0.2205128205128205,
          0.1794871794871795,
          0.2153846153846154,
          0.16923076923076924
         ],
         "yaxis": "y"
        },
        {
         "customdata": [
          [
           "Germany"
          ],
          [
           "Germany"
          ],
          [
           "Germany"
          ],
          [
           "Germany"
          ],
          [
           "Germany"
          ],
          [
           "Germany"
          ],
          [
           "Germany"
          ],
          [
           "Germany"
          ],
          [
           "Germany"
          ],
          [
           "Germany"
          ],
          [
           "Germany"
          ],
          [
           "Germany"
          ],
          [
           "Germany"
          ],
          [
           "Germany"
          ],
          [
           "Germany"
          ],
          [
           "Germany"
          ],
          [
           "Germany"
          ],
          [
           "Germany"
          ],
          [
           "Germany"
          ],
          [
           "Germany"
          ]
         ],
         "hovertemplate": "País=%{customdata[0]}<br>PIB_relativo=%{x}<br>Medallas_relativas=%{y}<extra></extra>",
         "legendgroup": "Germany",
         "marker": {
          "color": "#ff7f0e",
          "symbol": "circle"
         },
         "mode": "markers",
         "name": "Germany",
         "orientation": "v",
         "showlegend": true,
         "type": "scatter",
         "x": [
          null,
          null,
          null,
          null,
          0.04758027331678652,
          0.04758027331678652,
          0.08298588288385508,
          0.08298588288385508,
          0.10899316217515427,
          0.08376090176880892,
          0.16201818841788235,
          0.16201818841788235,
          0.260347483150697,
          0.3008250517496787,
          0.23471299775342627,
          0.33880097711241697,
          0.45488703363974375,
          0.4305082750434109,
          0.41325184189614744,
          0.5026635142691768
         ],
         "xaxis": "x",
         "y": [
          0.2153846153846154,
          0.2564102564102564,
          0.13333333333333333,
          0.1282051282051282,
          0.20512820512820512,
          0.3384615384615385,
          0.2,
          0.46153846153846156,
          0.6461538461538462,
          0.30256410256410254,
          0.20512820512820512,
          0.5230769230769231,
          0.4205128205128205,
          0.3333333333333333,
          0.28717948717948716,
          0.2512820512820513,
          0.21025641025641026,
          0.22564102564102564,
          0.2153846153846154,
          0.18974358974358974
         ],
         "yaxis": "y"
        },
        {
         "customdata": [
          [
           "Ghana"
          ],
          [
           "Ghana"
          ],
          [
           "Ghana"
          ],
          [
           "Ghana"
          ],
          [
           "Ghana"
          ]
         ],
         "hovertemplate": "País=%{customdata[0]}<br>PIB_relativo=%{x}<br>Medallas_relativas=%{y}<extra></extra>",
         "legendgroup": "Ghana",
         "marker": {
          "color": "#2ca02c",
          "symbol": "circle"
         },
         "mode": "markers",
         "name": "Ghana",
         "orientation": "v",
         "showlegend": true,
         "type": "scatter",
         "x": [
          0.0017266243512895725,
          0.0022269529985382555,
          0.0022171426329059283,
          0.01082083329245681,
          0.024731931759096663
         ],
         "xaxis": "x",
         "y": [
          0.005128205128205128,
          0.005128205128205128,
          0.005128205128205128,
          0.005128205128205128,
          0.005128205128205128
         ],
         "yaxis": "y"
        },
        {
         "customdata": [
          [
           "Great Britain"
          ],
          [
           "Great Britain"
          ],
          [
           "Great Britain"
          ],
          [
           "Great Britain"
          ],
          [
           "Great Britain"
          ],
          [
           "Great Britain"
          ],
          [
           "Great Britain"
          ],
          [
           "Great Britain"
          ],
          [
           "Great Britain"
          ],
          [
           "Great Britain"
          ],
          [
           "Great Britain"
          ],
          [
           "Great Britain"
          ],
          [
           "Great Britain"
          ],
          [
           "Great Britain"
          ],
          [
           "Great Britain"
          ],
          [
           "Great Britain"
          ]
         ],
         "hovertemplate": "País=%{customdata[0]}<br>PIB_relativo=%{x}<br>Medallas_relativas=%{y}<extra></extra>",
         "legendgroup": "Great Britain",
         "marker": {
          "color": "#d62728",
          "symbol": "circle"
         },
         "mode": "markers",
         "name": "Great Britain",
         "orientation": "v",
         "showlegend": true,
         "type": "scatter",
         "x": [
          0.013656028960199346,
          0.017089656931513836,
          0.019100781886140897,
          0.029686166403421855,
          0.04060510335220194,
          0.10511806775038506,
          0.0876948583873721,
          0.17068074127122718,
          0.22012498405815584,
          0.2400105951948829,
          0.2774371400822109,
          0.39648592703050045,
          0.47128015461136236,
          0.41881431920967693,
          0.4084055212737779,
          0.45795767808266213
         ],
         "xaxis": "x",
         "y": [
          0.10256410256410256,
          0.09230769230769231,
          0.06666666666666667,
          0.09230769230769231,
          0.06666666666666667,
          0.1076923076923077,
          0.18974358974358974,
          0.12307692307692308,
          0.10256410256410256,
          0.07692307692307693,
          0.14358974358974358,
          0.15384615384615385,
          0.26153846153846155,
          0.3333333333333333,
          0.3435897435897436,
          0.3282051282051282
         ],
         "yaxis": "y"
        },
        {
         "customdata": [
          [
           "Greece"
          ],
          [
           "Greece"
          ],
          [
           "Greece"
          ],
          [
           "Greece"
          ],
          [
           "Greece"
          ],
          [
           "Greece"
          ],
          [
           "Greece"
          ],
          [
           "Greece"
          ],
          [
           "Greece"
          ],
          [
           "Greece"
          ],
          [
           "Greece"
          ],
          [
           "Greece"
          ],
          [
           "Greece"
          ],
          [
           "Greece"
          ]
         ],
         "hovertemplate": "País=%{customdata[0]}<br>PIB_relativo=%{x}<br>Medallas_relativas=%{y}<extra></extra>",
         "legendgroup": "Greece",
         "marker": {
          "color": "#9467bd",
          "symbol": "circle"
         },
         "mode": "markers",
         "name": "Greece",
         "orientation": "v",
         "showlegend": true,
         "type": "scatter",
         "x": [
          0.005081769397545447,
          0.011291730842808512,
          0.01857102214199523,
          0.057861536499465335,
          0.04761951477931582,
          0.07424484710545162,
          0.10927766277849175,
          0.13401940490322076,
          0.11934309791725937,
          0.21416028175370097,
          0.3129702844024997,
          0.21430743723818588,
          0.17566440701244934,
          0.19878743880784436
         ],
         "xaxis": "x",
         "y": [
          0.005128205128205128,
          0.005128205128205128,
          0.010256410256410256,
          0.015384615384615385,
          0.010256410256410256,
          0.005128205128205128,
          0.010256410256410256,
          0.041025641025641026,
          0.06666666666666667,
          0.08205128205128205,
          0.015384615384615385,
          0.010256410256410256,
          0.03076923076923077,
          0.020512820512820513
         ],
         "yaxis": "y"
        },
        {
         "customdata": [
          [
           "Hungary"
          ],
          [
           "Hungary"
          ],
          [
           "Hungary"
          ],
          [
           "Hungary"
          ],
          [
           "Hungary"
          ],
          [
           "Hungary"
          ],
          [
           "Hungary"
          ],
          [
           "Hungary"
          ],
          [
           "Hungary"
          ],
          [
           "Hungary"
          ],
          [
           "Hungary"
          ],
          [
           "Hungary"
          ],
          [
           "Hungary"
          ],
          [
           "Hungary"
          ],
          [
           "Hungary"
          ]
         ],
         "hovertemplate": "País=%{customdata[0]}<br>PIB_relativo=%{x}<br>Medallas_relativas=%{y}<extra></extra>",
         "legendgroup": "Hungary",
         "marker": {
          "color": "#8c564b",
          "symbol": "circle"
         },
         "mode": "markers",
         "name": "Hungary",
         "orientation": "v",
         "showlegend": true,
         "type": "scatter",
         "x": [
          null,
          null,
          0.004473526728341165,
          0.006661238264350112,
          0.011713576564998577,
          0.02110209647513563,
          0.027851628030176684,
          0.036622094905477125,
          0.0443526630237509,
          0.045314078855718955,
          0.10081131723779345,
          0.1544445861497258,
          0.1269068898197836,
          0.12837844466463266,
          0.18376776902475156
         ],
         "xaxis": "x",
         "y": [
          0.1076923076923077,
          0.11282051282051282,
          0.1641025641025641,
          0.1794871794871795,
          0.11282051282051282,
          0.1641025641025641,
          0.11794871794871795,
          0.15384615384615385,
          0.1076923076923077,
          0.08717948717948718,
          0.08717948717948718,
          0.05128205128205128,
          0.09230769230769231,
          0.07692307692307693,
          0.10256410256410256
         ],
         "yaxis": "y"
        },
        {
         "customdata": [
          [
           "India"
          ],
          [
           "India"
          ],
          [
           "India"
          ],
          [
           "India"
          ],
          [
           "India"
          ],
          [
           "India"
          ],
          [
           "India"
          ],
          [
           "India"
          ],
          [
           "India"
          ],
          [
           "India"
          ],
          [
           "India"
          ],
          [
           "India"
          ]
         ],
         "hovertemplate": "País=%{customdata[0]}<br>PIB_relativo=%{x}<br>Medallas_relativas=%{y}<extra></extra>",
         "legendgroup": "India",
         "marker": {
          "color": "#e377c2",
          "symbol": "circle"
         },
         "mode": "markers",
         "name": "India",
         "orientation": "v",
         "showlegend": true,
         "type": "scatter",
         "x": [
          0.0008142603474831507,
          0.0011281920477176184,
          0.0009810365632327118,
          0.0012066749727762355,
          0.002658609086360649,
          0.003992818812357137,
          0.004424474900179529,
          0.0062688236390570275,
          0.010006572944973658,
          0.014166167973080356,
          0.016814966693808678,
          0.022141995232162304
         ],
         "xaxis": "x",
         "y": [
          0.005128205128205128,
          0.005128205128205128,
          0.005128205128205128,
          0.005128205128205128,
          0.005128205128205128,
          0.005128205128205128,
          0.005128205128205128,
          0.005128205128205128,
          0.015384615384615385,
          0.03076923076923077,
          0.010256410256410256,
          0.035897435897435895
         ],
         "yaxis": "y"
        },
        {
         "customdata": [
          [
           "Iraq"
          ]
         ],
         "hovertemplate": "País=%{customdata[0]}<br>PIB_relativo=%{x}<br>Medallas_relativas=%{y}<extra></extra>",
         "legendgroup": "Iraq",
         "marker": {
          "color": "#7f7f7f",
          "symbol": "circle"
         },
         "mode": "markers",
         "name": "Iraq",
         "orientation": "v",
         "showlegend": true,
         "type": "scatter",
         "x": [
          0.0023348670204938536
         ],
         "xaxis": "x",
         "y": [
          0.005128205128205128
         ],
         "yaxis": "y"
        },
        {
         "customdata": [
          [
           "Islamic Republic of Iran"
          ],
          [
           "Islamic Republic of Iran"
          ],
          [
           "Islamic Republic of Iran"
          ],
          [
           "Islamic Republic of Iran"
          ],
          [
           "Islamic Republic of Iran"
          ],
          [
           "Islamic Republic of Iran"
          ],
          [
           "Islamic Republic of Iran"
          ],
          [
           "Islamic Republic of Iran"
          ],
          [
           "Islamic Republic of Iran"
          ],
          [
           "Islamic Republic of Iran"
          ],
          [
           "Islamic Republic of Iran"
          ],
          [
           "Islamic Republic of Iran"
          ],
          [
           "Islamic Republic of Iran"
          ],
          [
           "Islamic Republic of Iran"
          ]
         ],
         "hovertemplate": "País=%{customdata[0]}<br>PIB_relativo=%{x}<br>Medallas_relativas=%{y}<extra></extra>",
         "legendgroup": "Islamic Republic of Iran",
         "marker": {
          "color": "#bcbd22",
          "symbol": "circle"
         },
         "mode": "markers",
         "name": "Islamic Republic of Iran",
         "orientation": "v",
         "showlegend": true,
         "type": "scatter",
         "x": [
          0.001922831663936115,
          0.0022073322672736015,
          0.0031491273679770046,
          0.005591908410426456,
          0.019728645286609833,
          0.05895048708465365,
          0.008741035778403461,
          0.025811071978652643,
          0.056674482257953754,
          0.027125660973384477,
          0.057792863940039046,
          0.054427908528150847,
          0.056223205438866705,
          0.18383644158417783
         ],
         "xaxis": "x",
         "y": [
          0.020512820512820513,
          0.010256410256410256,
          0.02564102564102564,
          0.015384615384615385,
          0.010256410256410256,
          0.005128205128205128,
          0.015384615384615385,
          0.015384615384615385,
          0.020512820512820513,
          0.03076923076923077,
          0.010256410256410256,
          0.06666666666666667,
          0.041025641025641026,
          0.035897435897435895
         ],
         "yaxis": "y"
        },
        {
         "customdata": [
          [
           "Italy"
          ],
          [
           "Italy"
          ],
          [
           "Italy"
          ],
          [
           "Italy"
          ],
          [
           "Italy"
          ],
          [
           "Italy"
          ],
          [
           "Italy"
          ],
          [
           "Italy"
          ],
          [
           "Italy"
          ],
          [
           "Italy"
          ],
          [
           "Italy"
          ],
          [
           "Italy"
          ],
          [
           "Italy"
          ],
          [
           "Italy"
          ],
          [
           "Italy"
          ],
          [
           "Italy"
          ]
         ],
         "hovertemplate": "País=%{customdata[0]}<br>PIB_relativo=%{x}<br>Medallas_relativas=%{y}<extra></extra>",
         "legendgroup": "Italy",
         "marker": {
          "color": "#17becf",
          "symbol": "circle"
         },
         "mode": "markers",
         "name": "Italy",
         "orientation": "v",
         "showlegend": true,
         "type": "scatter",
         "x": [
          0.007867913237126347,
          0.011939214974542102,
          0.016157672196442763,
          0.026115193313254785,
          0.039476911304484316,
          0.0839669194470878,
          0.07692307692307693,
          0.15631836598550028,
          0.22678622232250595,
          0.22656058391296244,
          0.1977082985882884,
          0.30748629001402883,
          0.40044931474596057,
          0.34085134352957336,
          0.3059951144379151,
          0.34949427565165353
         ],
         "xaxis": "x",
         "y": [
          0.18461538461538463,
          0.13846153846153847,
          0.08205128205128205,
          0.09230769230769231,
          0.06666666666666667,
          0.07692307692307693,
          0.1641025641025641,
          0.07179487179487179,
          0.09743589743589744,
          0.1794871794871795,
          0.17435897435897435,
          0.1641025641025641,
          0.13846153846153847,
          0.14358974358974358,
          0.14358974358974358,
          0.20512820512820512
         ],
         "yaxis": "y"
        },
        {
         "customdata": [
          [
           "Japan"
          ],
          [
           "Japan"
          ],
          [
           "Japan"
          ],
          [
           "Japan"
          ],
          [
           "Japan"
          ],
          [
           "Japan"
          ],
          [
           "Japan"
          ],
          [
           "Japan"
          ],
          [
           "Japan"
          ],
          [
           "Japan"
          ],
          [
           "Japan"
          ],
          [
           "Japan"
          ],
          [
           "Japan"
          ],
          [
           "Japan"
          ],
          [
           "Japan"
          ]
         ],
         "hovertemplate": "País=%{customdata[0]}<br>PIB_relativo=%{x}<br>Medallas_relativas=%{y}<extra></extra>",
         "legendgroup": "Japan",
         "marker": {
          "color": "#1f77b4",
          "symbol": "circle"
         },
         "mode": "markers",
         "name": "Japan",
         "orientation": "v",
         "showlegend": true,
         "type": "scatter",
         "x": [
          0.004659923675355381,
          0.008279948593684087,
          0.014234840532506647,
          0.029107354831114554,
          0.05099428055683635,
          0.10992514691022534,
          0.250900101046766,
          0.3146086154630983,
          0.3842131596244592,
          0.38430145291515017,
          0.37580567627755485,
          0.39233614236802605,
          0.482424729969686,
          0.38036749629658695,
          0.38501760960631004
         ],
         "xaxis": "x",
         "y": [
          0.09230769230769231,
          0.14871794871794872,
          0.1282051282051282,
          0.14871794871794872,
          0.1282051282051282,
          0.15897435897435896,
          0.07179487179487179,
          0.11282051282051282,
          0.07179487179487179,
          0.09230769230769231,
          0.18974358974358974,
          0.1282051282051282,
          0.19487179487179487,
          0.21025641025641026,
          0.29743589743589743
         ],
         "yaxis": "y"
        },
        {
         "customdata": [
          [
           "Mexico"
          ],
          [
           "Mexico"
          ],
          [
           "Mexico"
          ],
          [
           "Mexico"
          ],
          [
           "Mexico"
          ],
          [
           "Mexico"
          ],
          [
           "Mexico"
          ],
          [
           "Mexico"
          ],
          [
           "Mexico"
          ],
          [
           "Mexico"
          ],
          [
           "Mexico"
          ],
          [
           "Mexico"
          ],
          [
           "Mexico"
          ],
          [
           "Mexico"
          ],
          [
           "Mexico"
          ],
          [
           "Mexico"
          ]
         ],
         "hovertemplate": "País=%{customdata[0]}<br>PIB_relativo=%{x}<br>Medallas_relativas=%{y}<extra></extra>",
         "legendgroup": "Mexico",
         "marker": {
          "color": "#ff7f0e",
          "symbol": "circle"
         },
         "mode": "markers",
         "name": "Mexico",
         "orientation": "v",
         "showlegend": true,
         "type": "scatter",
         "x": [
          0.0035317316276377623,
          0.0047678376973109785,
          0.0061020474233074665,
          0.008279948593684087,
          0.014450668576417844,
          0.033198277299794965,
          0.027027557317061208,
          0.02446705188702383,
          0.045363130683880586,
          0.04321466061040095,
          0.07030108012125612,
          0.07359736297371804,
          0.09863341606741684,
          0.10076226540963182,
          0.08622330354252303,
          0.10047776480629433
         ],
         "xaxis": "x",
         "y": [
          0.005128205128205128,
          0.005128205128205128,
          0.046153846153846156,
          0.005128205128205128,
          0.010256410256410256,
          0.020512820512820513,
          0.03076923076923077,
          0.010256410256410256,
          0.005128205128205128,
          0.005128205128205128,
          0.03076923076923077,
          0.020512820512820513,
          0.020512820512820513,
          0.041025641025641026,
          0.02564102564102564,
          0.020512820512820513
         ],
         "yaxis": "y"
        },
        {
         "customdata": [
          [
           "Morocco"
          ],
          [
           "Morocco"
          ],
          [
           "Morocco"
          ],
          [
           "Morocco"
          ],
          [
           "Morocco"
          ],
          [
           "Morocco"
          ],
          [
           "Morocco"
          ],
          [
           "Morocco"
          ],
          [
           "Morocco"
          ],
          [
           "Morocco"
          ],
          [
           "Morocco"
          ]
         ],
         "hovertemplate": "País=%{customdata[0]}<br>PIB_relativo=%{x}<br>Medallas_relativas=%{y}<extra></extra>",
         "legendgroup": "Morocco",
         "marker": {
          "color": "#2ca02c",
          "symbol": "circle"
         },
         "mode": "markers",
         "name": "Morocco",
         "orientation": "v",
         "showlegend": true,
         "type": "scatter",
         "x": [
          0.0016971932543925912,
          0.007377394955509992,
          0.01170376619936625,
          0.014264271629403628,
          0.01711908802841082,
          0.014588013695270423,
          0.021219820862723553,
          0.03128525600149117,
          0.03163842916425495,
          0.03173653282057822,
          0.03859397839757488
         ],
         "xaxis": "x",
         "y": [
          0.005128205128205128,
          0.010256410256410256,
          0.015384615384615385,
          0.015384615384615385,
          0.010256410256410256,
          0.02564102564102564,
          0.015384615384615385,
          0.010256410256410256,
          0.005128205128205128,
          0.005128205128205128,
          0.005128205128205128
         ],
         "yaxis": "y"
        },
        {
         "customdata": [
          [
           "Netherlands"
          ],
          [
           "Netherlands"
          ],
          [
           "Netherlands"
          ],
          [
           "Netherlands"
          ],
          [
           "Netherlands"
          ],
          [
           "Netherlands"
          ],
          [
           "Netherlands"
          ],
          [
           "Netherlands"
          ],
          [
           "Netherlands"
          ],
          [
           "Netherlands"
          ],
          [
           "Netherlands"
          ],
          [
           "Netherlands"
          ],
          [
           "Netherlands"
          ],
          [
           "Netherlands"
          ],
          [
           "Netherlands"
          ],
          [
           "Netherlands"
          ]
         ],
         "hovertemplate": "País=%{customdata[0]}<br>PIB_relativo=%{x}<br>Medallas_relativas=%{y}<extra></extra>",
         "legendgroup": "Netherlands",
         "marker": {
          "color": "#d62728",
          "symbol": "circle"
         },
         "mode": "markers",
         "name": "Netherlands",
         "orientation": "v",
         "showlegend": true,
         "type": "scatter",
         "x": [
          0.010418608301531398,
          0.015019669783092816,
          0.02132773488467915,
          0.0400851539736886,
          0.07752150922664888,
          0.13489252744449787,
          0.09717167158820009,
          0.1761549252940657,
          0.2373323653772576,
          0.28532467405060186,
          0.2582873063679083,
          0.39709416969970474,
          0.5691483621594576,
          0.4922449059676454,
          0.45289552941638134,
          0.5689717755780758
         ],
         "xaxis": "x",
         "y": [
          0.015384615384615385,
          0.05128205128205128,
          0.035897435897435895,
          0.02564102564102564,
          0.02564102564102564,
          0.015384615384615385,
          0.06666666666666667,
          0.046153846153846156,
          0.07692307692307693,
          0.09743589743589744,
          0.1282051282051282,
          0.11282051282051282,
          0.08205128205128205,
          0.10256410256410256,
          0.09743589743589744,
          0.18461538461538463
         ],
         "yaxis": "y"
        },
        {
         "customdata": [
          [
           "New Zealand"
          ],
          [
           "New Zealand"
          ],
          [
           "New Zealand"
          ],
          [
           "New Zealand"
          ],
          [
           "New Zealand"
          ],
          [
           "New Zealand"
          ],
          [
           "New Zealand"
          ],
          [
           "New Zealand"
          ],
          [
           "New Zealand"
          ],
          [
           "New Zealand"
          ],
          [
           "New Zealand"
          ],
          [
           "New Zealand"
          ],
          [
           "New Zealand"
          ],
          [
           "New Zealand"
          ],
          [
           "New Zealand"
          ]
         ],
         "hovertemplate": "País=%{customdata[0]}<br>PIB_relativo=%{x}<br>Medallas_relativas=%{y}<extra></extra>",
         "legendgroup": "New Zealand",
         "marker": {
          "color": "#9467bd",
          "symbol": "circle"
         },
         "mode": "markers",
         "name": "New Zealand",
         "orientation": "v",
         "showlegend": true,
         "type": "scatter",
         "x": [
          0.022691375707572622,
          0.027606368889368505,
          0.018492539216936617,
          0.03232515475851785,
          0.04291053927579881,
          0.06828014480099673,
          0.13383300795620653,
          0.11532084800800525,
          0.1815408160262133,
          0.13754132616522619,
          0.24377777559769653,
          0.3116164539452385,
          0.389304739387637,
          0.3867834754201289,
          0.4740074362571493
         ],
         "xaxis": "x",
         "y": [
          0.015384615384615385,
          0.02564102564102564,
          0.015384615384615385,
          0.015384615384615385,
          0.020512820512820513,
          0.05641025641025641,
          0.06666666666666667,
          0.05128205128205128,
          0.03076923076923077,
          0.020512820512820513,
          0.02564102564102564,
          0.046153846153846156,
          0.06666666666666667,
          0.09230769230769231,
          0.10256410256410256
         ],
         "yaxis": "y"
        },
        {
         "customdata": [
          [
           "Norway"
          ],
          [
           "Norway"
          ],
          [
           "Norway"
          ],
          [
           "Norway"
          ],
          [
           "Norway"
          ],
          [
           "Norway"
          ],
          [
           "Norway"
          ],
          [
           "Norway"
          ],
          [
           "Norway"
          ],
          [
           "Norway"
          ],
          [
           "Norway"
          ],
          [
           "Norway"
          ],
          [
           "Norway"
          ],
          [
           "Norway"
          ]
         ],
         "hovertemplate": "País=%{customdata[0]}<br>PIB_relativo=%{x}<br>Medallas_relativas=%{y}<extra></extra>",
         "legendgroup": "Norway",
         "marker": {
          "color": "#8c564b",
          "symbol": "circle"
         },
         "mode": "markers",
         "name": "Norway",
         "orientation": "v",
         "showlegend": true,
         "type": "scatter",
         "x": [
          0.01408768504802174,
          0.026007279291299187,
          0.04313617768534233,
          0.08738092668713764,
          0.14685136315030461,
          0.23685165746127357,
          0.29855885728861115,
          0.3651908606633769,
          0.3732647915787821,
          0.5642137482463971,
          0.9473183365544033,
          0.9921222763972414,
          0.6889231161645395,
          0.8735345766336712
         ],
         "xaxis": "x",
         "y": [
          0.005128205128205128,
          0.010256410256410256,
          0.020512820512820513,
          0.010256410256410256,
          0.015384615384615385,
          0.02564102564102564,
          0.035897435897435895,
          0.035897435897435895,
          0.05128205128205128,
          0.03076923076923077,
          0.046153846153846156,
          0.020512820512820513,
          0.020512820512820513,
          0.041025641025641026
         ],
         "yaxis": "y"
        },
        {
         "customdata": [
          [
           "Pakistan"
          ],
          [
           "Pakistan"
          ],
          [
           "Pakistan"
          ],
          [
           "Pakistan"
          ],
          [
           "Pakistan"
          ],
          [
           "Pakistan"
          ],
          [
           "Pakistan"
          ],
          [
           "Pakistan"
          ]
         ],
         "hovertemplate": "País=%{customdata[0]}<br>PIB_relativo=%{x}<br>Medallas_relativas=%{y}<extra></extra>",
         "legendgroup": "Pakistan",
         "marker": {
          "color": "#e377c2",
          "symbol": "circle"
         },
         "mode": "markers",
         "name": "Pakistan",
         "orientation": "v",
         "showlegend": true,
         "type": "scatter",
         "x": [
          0.0008044499818508236,
          0.001010467660129693,
          0.0014028822854227777,
          0.0014813652104813946,
          0.001844348738877498,
          0.004807079159840287,
          0.005327028538353625,
          0.00602356449824885
         ],
         "xaxis": "x",
         "y": [
          0.010256410256410256,
          0.005128205128205128,
          0.005128205128205128,
          0.005128205128205128,
          0.005128205128205128,
          0.005128205128205128,
          0.005128205128205128,
          0.005128205128205128
         ],
         "yaxis": "y"
        },
        {
         "customdata": [
          [
           "Poland"
          ],
          [
           "Poland"
          ],
          [
           "Poland"
          ],
          [
           "Poland"
          ],
          [
           "Poland"
          ],
          [
           "Poland"
          ],
          [
           "Poland"
          ],
          [
           "Poland"
          ],
          [
           "Poland"
          ],
          [
           "Poland"
          ],
          [
           "Poland"
          ],
          [
           "Poland"
          ],
          [
           "Poland"
          ],
          [
           "Poland"
          ],
          [
           "Poland"
          ]
         ],
         "hovertemplate": "País=%{customdata[0]}<br>PIB_relativo=%{x}<br>Medallas_relativas=%{y}<extra></extra>",
         "legendgroup": "Poland",
         "marker": {
          "color": "#7f7f7f",
          "symbol": "circle"
         },
         "mode": "markers",
         "name": "Poland",
         "orientation": "v",
         "showlegend": true,
         "type": "scatter",
         "x": [
          null,
          null,
          null,
          0.010232211354517183,
          0.015510188064709171,
          0.01564753318356175,
          0.017845055085203027,
          0.0227208068044696,
          0.039888946661042056,
          0.04399948986098712,
          0.06558229425210678,
          0.1373353084869473,
          0.12848635868658825,
          0.12203113810051701,
          0.17605682163774244
         ],
         "xaxis": "x",
         "y": [
          0.1076923076923077,
          0.11794871794871795,
          0.09230769230769231,
          0.1076923076923077,
          0.13333333333333333,
          0.1641025641025641,
          0.08205128205128205,
          0.09743589743589744,
          0.08717948717948718,
          0.07179487179487179,
          0.05128205128205128,
          0.05641025641025641,
          0.05641025641025641,
          0.05641025641025641,
          0.07179487179487179
         ],
         "yaxis": "y"
        },
        {
         "customdata": [
          [
           "Portugal"
          ],
          [
           "Portugal"
          ],
          [
           "Portugal"
          ],
          [
           "Portugal"
          ],
          [
           "Portugal"
          ],
          [
           "Portugal"
          ],
          [
           "Portugal"
          ],
          [
           "Portugal"
          ],
          [
           "Portugal"
          ],
          [
           "Portugal"
          ],
          [
           "Portugal"
          ]
         ],
         "hovertemplate": "País=%{customdata[0]}<br>PIB_relativo=%{x}<br>Medallas_relativas=%{y}<extra></extra>",
         "legendgroup": "Portugal",
         "marker": {
          "color": "#bcbd22",
          "symbol": "circle"
         },
         "mode": "markers",
         "name": "Portugal",
         "orientation": "v",
         "showlegend": true,
         "type": "scatter",
         "x": [
          0.003521921262005435,
          0.021210010497091227,
          0.025467709181521195,
          0.05428075304366594,
          0.1195687363268029,
          0.11312332610636398,
          0.17713596185729844,
          0.24472938106403225,
          0.2018678936163951,
          0.19606996752768976,
          0.23835264340301962
         ],
         "xaxis": "x",
         "y": [
          0.005128205128205128,
          0.010256410256410256,
          0.015384615384615385,
          0.005128205128205128,
          0.010256410256410256,
          0.010256410256410256,
          0.015384615384615385,
          0.010256410256410256,
          0.005128205128205128,
          0.005128205128205128,
          0.020512820512820513
         ],
         "yaxis": "y"
        },
        {
         "customdata": [
          [
           "Romania"
          ],
          [
           "Romania"
          ],
          [
           "Romania"
          ],
          [
           "Romania"
          ],
          [
           "Romania"
          ],
          [
           "Romania"
          ],
          [
           "Romania"
          ],
          [
           "Romania"
          ],
          [
           "Romania"
          ],
          [
           "Romania"
          ],
          [
           "Romania"
          ],
          [
           "Romania"
          ],
          [
           "Romania"
          ],
          [
           "Romania"
          ],
          [
           "Romania"
          ],
          [
           "Romania"
          ]
         ],
         "hovertemplate": "País=%{customdata[0]}<br>PIB_relativo=%{x}<br>Medallas_relativas=%{y}<extra></extra>",
         "legendgroup": "Romania",
         "marker": {
          "color": "#17becf",
          "symbol": "circle"
         },
         "mode": "markers",
         "name": "Romania",
         "orientation": "v",
         "showlegend": true,
         "type": "scatter",
         "x": [
          null,
          null,
          null,
          0.008240707131154778,
          0.011654714371204614,
          0.020130870277535243,
          0.01677572523127937,
          0.025438278084624216,
          0.008319190056213396,
          0.015353222214591938,
          0.01630482768092767,
          0.03417931386302767,
          0.10189045745734944,
          0.08329981458408955,
          0.09339468081975415,
          0.14514435953027968
         ],
         "xaxis": "x",
         "y": [
          0.05128205128205128,
          0.06153846153846154,
          0.07692307692307693,
          0.08205128205128205,
          0.13846153846153847,
          0.1282051282051282,
          0.26666666666666666,
          0.12307692307692308,
          0.09230769230769231,
          0.10256410256410256,
          0.13333333333333333,
          0.09743589743589744,
          0.046153846153846156,
          0.035897435897435895,
          0.020512820512820513,
          0.020512820512820513
         ],
         "yaxis": "y"
        },
        {
         "customdata": [
          [
           "Singapore"
          ],
          [
           "Singapore"
          ],
          [
           "Singapore"
          ],
          [
           "Singapore"
          ]
         ],
         "hovertemplate": "País=%{customdata[0]}<br>PIB_relativo=%{x}<br>Medallas_relativas=%{y}<extra></extra>",
         "legendgroup": "Singapore",
         "marker": {
          "color": "#1f77b4",
          "symbol": "circle"
         },
         "mode": "markers",
         "name": "Singapore",
         "orientation": "v",
         "showlegend": true,
         "type": "scatter",
         "x": [
          0.004198836490636006,
          0.3925029185837756,
          0.5449461901445067,
          0.5578075794884876
         ],
         "xaxis": "x",
         "y": [
          0.005128205128205128,
          0.005128205128205128,
          0.010256410256410256,
          0.005128205128205128
         ],
         "yaxis": "y"
        },
        {
         "customdata": [
          [
           "South Africa"
          ],
          [
           "South Africa"
          ],
          [
           "South Africa"
          ],
          [
           "South Africa"
          ],
          [
           "South Africa"
          ],
          [
           "South Africa"
          ],
          [
           "South Africa"
          ],
          [
           "South Africa"
          ],
          [
           "South Africa"
          ]
         ],
         "hovertemplate": "País=%{customdata[0]}<br>PIB_relativo=%{x}<br>Medallas_relativas=%{y}<extra></extra>",
         "legendgroup": "South Africa",
         "marker": {
          "color": "#ff7f0e",
          "symbol": "circle"
         },
         "mode": "markers",
         "name": "South Africa",
         "orientation": "v",
         "showlegend": true,
         "type": "scatter",
         "x": [
          0.005199493785133372,
          0.03730882049974003,
          0.03796611499710594,
          0.03317865656853031,
          0.05312312989905134,
          0.06235468395907116,
          0.08051367074450864,
          0.05641941275151325,
          0.06832919662915837
         ],
         "xaxis": "x",
         "y": [
          0.015384615384615385,
          0.010256410256410256,
          0.02564102564102564,
          0.02564102564102564,
          0.03076923076923077,
          0.005128205128205128,
          0.03076923076923077,
          0.05128205128205128,
          0.015384615384615385
         ],
         "yaxis": "y"
        },
        {
         "customdata": [
          [
           "Russian Federation"
          ],
          [
           "Russian Federation"
          ],
          [
           "Russian Federation"
          ],
          [
           "Russian Federation"
          ],
          [
           "Russian Federation"
          ],
          [
           "Russian Federation"
          ],
          [
           "Russian Federation"
          ],
          [
           "Russian Federation"
          ],
          [
           "Russian Federation"
          ],
          [
           "Russian Federation"
          ],
          [
           "Russian Federation"
          ],
          [
           "Russian Federation"
          ],
          [
           "Russian Federation"
          ]
         ],
         "hovertemplate": "País=%{customdata[0]}<br>PIB_relativo=%{x}<br>Medallas_relativas=%{y}<extra></extra>",
         "legendgroup": "Russian Federation",
         "marker": {
          "color": "#2ca02c",
          "symbol": "circle"
         },
         "mode": "markers",
         "name": "Russian Federation",
         "orientation": "v",
         "showlegend": true,
         "type": "scatter",
         "x": [
          null,
          null,
          null,
          null,
          null,
          null,
          0.03705375099329952,
          0.027341489017295675,
          0.018659315432686178,
          0.043204850244768625,
          0.12227639724132519,
          0.14998086978701697,
          0.08558562977642177
         ],
         "xaxis": "x",
         "y": [
          0.5282051282051282,
          0.47692307692307695,
          0.4666666666666667,
          0.5076923076923077,
          0.6358974358974359,
          1,
          0.676923076923077,
          0.3230769230769231,
          0.4564102564102564,
          0.46153846153846156,
          0.3076923076923077,
          0.3384615384615385,
          0.28717948717948716
         ],
         "yaxis": "y"
        },
        {
         "customdata": [
          [
           "Spain"
          ],
          [
           "Spain"
          ],
          [
           "Spain"
          ],
          [
           "Spain"
          ],
          [
           "Spain"
          ],
          [
           "Spain"
          ],
          [
           "Spain"
          ],
          [
           "Spain"
          ],
          [
           "Spain"
          ],
          [
           "Spain"
          ],
          [
           "Spain"
          ],
          [
           "Spain"
          ],
          [
           "Spain"
          ],
          [
           "Spain"
          ]
         ],
         "hovertemplate": "País=%{customdata[0]}<br>PIB_relativo=%{x}<br>Medallas_relativas=%{y}<extra></extra>",
         "legendgroup": "Spain",
         "marker": {
          "color": "#d62728",
          "symbol": "circle"
         },
         "mode": "markers",
         "name": "Spain",
         "orientation": "v",
         "showlegend": true,
         "type": "scatter",
         "x": [
          0.003875094424769211,
          0.01666781120932377,
          0.032001412692651054,
          0.06011792059490057,
          0.04387195510776687,
          0.094169699704708,
          0.15709338487045413,
          0.15790764521793726,
          0.14481080709878058,
          0.24459203594517967,
          0.3481110140974954,
          0.2780748138483121,
          0.2603278624194324,
          0.29519390187672295
         ],
         "xaxis": "x",
         "y": [
          0.005128205128205128,
          0.005128205128205128,
          0.010256410256410256,
          0.03076923076923077,
          0.02564102564102564,
          0.020512820512820513,
          0.11282051282051282,
          0.08717948717948718,
          0.05641025641025641,
          0.10256410256410256,
          0.09743589743589744,
          0.09230769230769231,
          0.08717948717948718,
          0.08717948717948718
         ],
         "yaxis": "y"
        },
        {
         "customdata": [
          [
           "Sweden"
          ],
          [
           "Sweden"
          ],
          [
           "Sweden"
          ],
          [
           "Sweden"
          ],
          [
           "Sweden"
          ],
          [
           "Sweden"
          ],
          [
           "Sweden"
          ],
          [
           "Sweden"
          ],
          [
           "Sweden"
          ],
          [
           "Sweden"
          ],
          [
           "Sweden"
          ],
          [
           "Sweden"
          ],
          [
           "Sweden"
          ],
          [
           "Sweden"
          ],
          [
           "Sweden"
          ],
          [
           "Sweden"
          ]
         ],
         "hovertemplate": "País=%{customdata[0]}<br>PIB_relativo=%{x}<br>Medallas_relativas=%{y}<extra></extra>",
         "legendgroup": "Sweden",
         "marker": {
          "color": "#9467bd",
          "symbol": "circle"
         },
         "mode": "markers",
         "name": "Sweden",
         "orientation": "v",
         "showlegend": true,
         "type": "scatter",
         "x": [
          0.020699871484210215,
          0.028724750571453798,
          0.03842720218182532,
          0.0590780218378739,
          0.10644246711074921,
          0.16556954077678476,
          0.12729930444507667,
          0.2387744891252097,
          0.3196707641293791,
          0.3236047207479423,
          0.29027890869492706,
          0.419265596028764,
          0.5486937498160557,
          0.5671960993986246,
          0.506116762971756,
          0.5966271962956059
         ],
         "xaxis": "x",
         "y": [
          0.03076923076923077,
          0.041025641025641026,
          0.020512820512820513,
          0.08205128205128205,
          0.02564102564102564,
          0.06153846153846154,
          0.09743589743589744,
          0.05641025641025641,
          0.06153846153846154,
          0.041025641025641026,
          0.06153846153846154,
          0.035897435897435895,
          0.02564102564102564,
          0.041025641025641026,
          0.05641025641025641,
          0.046153846153846156
         ],
         "yaxis": "y"
        },
        {
         "customdata": [
          [
           "Switzerland"
          ],
          [
           "Switzerland"
          ],
          [
           "Switzerland"
          ],
          [
           "Switzerland"
          ],
          [
           "Switzerland"
          ],
          [
           "Switzerland"
          ],
          [
           "Switzerland"
          ],
          [
           "Switzerland"
          ],
          [
           "Switzerland"
          ],
          [
           "Switzerland"
          ],
          [
           "Switzerland"
          ],
          [
           "Switzerland"
          ],
          [
           "Switzerland"
          ],
          [
           "Switzerland"
          ],
          [
           "Switzerland"
          ],
          [
           "Switzerland"
          ]
         ],
         "hovertemplate": "País=%{customdata[0]}<br>PIB_relativo=%{x}<br>Medallas_relativas=%{y}<extra></extra>",
         "legendgroup": "Switzerland",
         "marker": {
          "color": "#8c564b",
          "symbol": "circle"
         },
         "mode": "markers",
         "name": "Switzerland",
         "orientation": "v",
         "showlegend": true,
         "type": "scatter",
         "x": [
          0.017433019728645287,
          0.024368948230700557,
          0.030441564557111042,
          0.055820980447941294,
          0.10380347875565323,
          0.1905859731392189,
          0.1669626126965752,
          0.32172113054653545,
          0.4010771781464295,
          0.47258493324046186,
          0.38230994869178775,
          0.5374314500701441,
          0.7324909499377041,
          0.846448157122816,
          0.8100517006268824,
          0.8980997321770182
         ],
         "xaxis": "x",
         "y": [
          0.03076923076923077,
          0.020512820512820513,
          0.02564102564102564,
          0.015384615384615385,
          0.020512820512820513,
          0.010256410256410256,
          0.041025641025641026,
          0.020512820512820513,
          0.005128205128205128,
          0.035897435897435895,
          0.046153846153846156,
          0.02564102564102564,
          0.035897435897435895,
          0.020512820512820513,
          0.035897435897435895,
          0.06666666666666667
         ],
         "yaxis": "y"
        },
        {
         "customdata": [
          [
           "Türkiye"
          ],
          [
           "Türkiye"
          ],
          [
           "Türkiye"
          ],
          [
           "Türkiye"
          ],
          [
           "Türkiye"
          ],
          [
           "Türkiye"
          ],
          [
           "Türkiye"
          ],
          [
           "Türkiye"
          ],
          [
           "Türkiye"
          ],
          [
           "Türkiye"
          ],
          [
           "Türkiye"
          ],
          [
           "Türkiye"
          ],
          [
           "Türkiye"
          ],
          [
           "Türkiye"
          ]
         ],
         "hovertemplate": "País=%{customdata[0]}<br>PIB_relativo=%{x}<br>Medallas_relativas=%{y}<extra></extra>",
         "legendgroup": "Türkiye",
         "marker": {
          "color": "#e377c2",
          "symbol": "circle"
         },
         "mode": "markers",
         "name": "Türkiye",
         "orientation": "v",
         "showlegend": true,
         "type": "scatter",
         "x": [
          0.004944424278692867,
          0.0035611627245347435,
          0.005052338300648465,
          0.005327028538353625,
          0.01636368987472163,
          0.022887583020219163,
          0.03746578634985726,
          0.04021268872690885,
          0.041576329549802324,
          0.05901915964407994,
          0.10573612078522167,
          0.11417303522902299,
          0.10684469210167463,
          0.09470926981448599
         ],
         "xaxis": "x",
         "y": [
          0.046153846153846156,
          0.03076923076923077,
          0.010256410256410256,
          0.005128205128205128,
          0.015384615384615385,
          0.010256410256410256,
          0.03076923076923077,
          0.03076923076923077,
          0.02564102564102564,
          0.05128205128205128,
          0.02564102564102564,
          0.015384615384615385,
          0.041025641025641026,
          0.06666666666666667
         ],
         "yaxis": "y"
        },
        {
         "customdata": [
          [
           "United States of America"
          ],
          [
           "United States of America"
          ],
          [
           "United States of America"
          ],
          [
           "United States of America"
          ],
          [
           "United States of America"
          ],
          [
           "United States of America"
          ],
          [
           "United States of America"
          ],
          [
           "United States of America"
          ],
          [
           "United States of America"
          ],
          [
           "United States of America"
          ],
          [
           "United States of America"
          ],
          [
           "United States of America"
          ],
          [
           "United States of America"
          ],
          [
           "United States of America"
          ],
          [
           "United States of America"
          ]
         ],
         "hovertemplate": "País=%{customdata[0]}<br>PIB_relativo=%{x}<br>Medallas_relativas=%{y}<extra></extra>",
         "legendgroup": "United States of America",
         "marker": {
          "color": "#7f7f7f",
          "symbol": "circle"
         },
         "mode": "markers",
         "name": "United States of America",
         "orientation": "v",
         "showlegend": true,
         "type": "scatter",
         "x": [
          0.02956844201583393,
          0.03514072969499573,
          0.04630492578458399,
          0.059960954744783336,
          0.0844770584599688,
          0.16761990719394113,
          0.20970637575662446,
          0.24911461450168249,
          0.29379101959130016,
          0.3562438072066946,
          0.4085232456613658,
          0.4755182325645277,
          0.5075588867197081,
          0.5674315481738005,
          0.6791421816291093
         ],
         "xaxis": "x",
         "y": [
          0.3641025641025641,
          0.46153846153846156,
          0.5487179487179488,
          0.48205128205128206,
          0.48205128205128206,
          0.8871794871794871,
          0.48205128205128206,
          0.5538461538461539,
          0.517948717948718,
          0.47692307692307695,
          0.517948717948718,
          0.5743589743589743,
          0.5333333333333333,
          0.6205128205128205,
          0.5794871794871795
         ],
         "yaxis": "y"
        },
        {
         "customdata": [
          [
           "Venezuela"
          ],
          [
           "Venezuela"
          ],
          [
           "Venezuela"
          ],
          [
           "Venezuela"
          ],
          [
           "Venezuela"
          ],
          [
           "Venezuela"
          ],
          [
           "Venezuela"
          ],
          [
           "Venezuela"
          ],
          [
           "Venezuela"
          ],
          [
           "Venezuela"
          ]
         ],
         "hovertemplate": "País=%{customdata[0]}<br>PIB_relativo=%{x}<br>Medallas_relativas=%{y}<extra></extra>",
         "legendgroup": "Venezuela",
         "marker": {
          "color": "#bcbd22",
          "symbol": "circle"
         },
         "mode": "markers",
         "name": "Venezuela",
         "orientation": "v",
         "showlegend": true,
         "type": "scatter",
         "x": [
          0.009359088813240069,
          0.00922174369438749,
          0.0227208068044696,
          0.04582421786859996,
          0.03381633033463157,
          0.04230229660659453,
          0.10868904084055213,
          0.12408150451767337,
          0.0360334729675375,
          0.03358088155945572
         ],
         "xaxis": "x",
         "y": [
          0.005128205128205128,
          0.005128205128205128,
          0.005128205128205128,
          0.005128205128205128,
          0.015384615384615385,
          0.010256410256410256,
          0.005128205128205128,
          0.005128205128205128,
          0.015384615384615385,
          0.020512820512820513
         ],
         "yaxis": "y"
        },
        {
         "customdata": [
          [
           "Bahamas"
          ],
          [
           "Bahamas"
          ],
          [
           "Bahamas"
          ],
          [
           "Bahamas"
          ],
          [
           "Bahamas"
          ],
          [
           "Bahamas"
          ],
          [
           "Bahamas"
          ],
          [
           "Bahamas"
          ],
          [
           "Bahamas"
          ]
         ],
         "hovertemplate": "País=%{customdata[0]}<br>PIB_relativo=%{x}<br>Medallas_relativas=%{y}<extra></extra>",
         "legendgroup": "Bahamas",
         "marker": {
          "color": "#17becf",
          "symbol": "circle"
         },
         "mode": "markers",
         "name": "Bahamas",
         "orientation": "v",
         "showlegend": true,
         "type": "scatter",
         "x": [
          0.01885552274533272,
          0.19048786948289562,
          0.20577241913806127,
          0.2616326410485319,
          0.27703491509128547,
          0.3065641156445901,
          0.29855885728861115,
          0.3152659099604642,
          0.26957903721071685
         ],
         "xaxis": "x",
         "y": [
          0.005128205128205128,
          0.005128205128205128,
          0.005128205128205128,
          0.015384615384615385,
          0.010256410256410256,
          0.010256410256410256,
          0.005128205128205128,
          0.010256410256410256,
          0.010256410256410256
         ],
         "yaxis": "y"
        },
        {
         "customdata": [
          [
           "Cuba"
          ],
          [
           "Cuba"
          ],
          [
           "Cuba"
          ],
          [
           "Cuba"
          ],
          [
           "Cuba"
          ],
          [
           "Cuba"
          ],
          [
           "Cuba"
          ],
          [
           "Cuba"
          ],
          [
           "Cuba"
          ],
          [
           "Cuba"
          ],
          [
           "Cuba"
          ],
          [
           "Cuba"
          ],
          [
           "Cuba"
          ]
         ],
         "hovertemplate": "País=%{customdata[0]}<br>PIB_relativo=%{x}<br>Medallas_relativas=%{y}<extra></extra>",
         "legendgroup": "Cuba",
         "marker": {
          "color": "#1f77b4",
          "symbol": "circle"
         },
         "mode": "markers",
         "name": "Cuba",
         "orientation": "v",
         "showlegend": true,
         "type": "scatter",
         "x": [
          null,
          null,
          0.008701794315874152,
          0.01408768504802174,
          0.019915042233624048,
          0.020091628815005935,
          0.02238725437297048,
          0.026998126220164224,
          0.03338467424680918,
          0.0489831556022093,
          0.06344363454425947,
          0.07903230553402725,
          0.09319847350710761
         ],
         "xaxis": "x",
         "y": [
          0.005128205128205128,
          0.020512820512820513,
          0.041025641025641026,
          0.06666666666666667,
          0.10256410256410256,
          0.15897435897435896,
          0.1282051282051282,
          0.14871794871794872,
          0.13846153846153847,
          0.15384615384615385,
          0.07692307692307693,
          0.05641025641025641,
          0.07692307692307693
         ],
         "yaxis": "y"
        },
        {
         "customdata": [
          [
           "Ireland"
          ],
          [
           "Ireland"
          ],
          [
           "Ireland"
          ],
          [
           "Ireland"
          ],
          [
           "Ireland"
          ],
          [
           "Ireland"
          ],
          [
           "Ireland"
          ],
          [
           "Ireland"
          ],
          [
           "Ireland"
          ],
          [
           "Ireland"
          ]
         ],
         "hovertemplate": "País=%{customdata[0]}<br>PIB_relativo=%{x}<br>Medallas_relativas=%{y}<extra></extra>",
         "legendgroup": "Ireland",
         "marker": {
          "color": "#ff7f0e",
          "symbol": "circle"
         },
         "mode": "markers",
         "name": "Ireland",
         "orientation": "v",
         "showlegend": true,
         "type": "scatter",
         "x": [
          0.009447382103931014,
          0.06133440593330913,
          0.05485956461597324,
          0.15041252587483936,
          0.2038692082053898,
          0.2568942344481179,
          0.5983341999156309,
          0.4809924165873662,
          0.6147959934466758,
          0.9823021003992819
         ],
         "xaxis": "x",
         "y": [
          0.005128205128205128,
          0.010256410256410256,
          0.005128205128205128,
          0.010256410256410256,
          0.020512820512820513,
          0.005128205128205128,
          0.015384615384615385,
          0.03076923076923077,
          0.010256410256410256,
          0.020512820512820513
         ],
         "yaxis": "y"
        },
        {
         "customdata": [
          [
           "Kenya"
          ],
          [
           "Kenya"
          ],
          [
           "Kenya"
          ],
          [
           "Kenya"
          ],
          [
           "Kenya"
          ],
          [
           "Kenya"
          ],
          [
           "Kenya"
          ],
          [
           "Kenya"
          ],
          [
           "Kenya"
          ],
          [
           "Kenya"
          ],
          [
           "Kenya"
          ],
          [
           "Kenya"
          ],
          [
           "Kenya"
          ]
         ],
         "hovertemplate": "País=%{customdata[0]}<br>PIB_relativo=%{x}<br>Medallas_relativas=%{y}<extra></extra>",
         "legendgroup": "Kenya",
         "marker": {
          "color": "#2ca02c",
          "symbol": "circle"
         },
         "mode": "markers",
         "name": "Kenya",
         "orientation": "v",
         "showlegend": true,
         "type": "scatter",
         "x": [
          0.001079140219555983,
          0.001255726800937871,
          0.001677572523127937,
          0.006347306564115644,
          0.007455877880568609,
          0.00632768583285099,
          0.006739721189408729,
          0.006052995595145831,
          0.006798583383202692,
          0.010977799142574044,
          0.013695270422728655,
          0.0165697075530005,
          0.02045461234340204
         ],
         "xaxis": "x",
         "y": [
          0.005128205128205128,
          0.046153846153846156,
          0.046153846153846156,
          0.015384615384615385,
          0.046153846153846156,
          0.041025641025641026,
          0.041025641025641026,
          0.035897435897435895,
          0.035897435897435895,
          0.08205128205128205,
          0.06666666666666667,
          0.06666666666666667,
          0.05128205128205128
         ],
         "yaxis": "y"
        },
        {
         "customdata": [
          [
           "Nigeria"
          ],
          [
           "Nigeria"
          ],
          [
           "Nigeria"
          ],
          [
           "Nigeria"
          ],
          [
           "Nigeria"
          ],
          [
           "Nigeria"
          ],
          [
           "Nigeria"
          ],
          [
           "Nigeria"
          ],
          [
           "Nigeria"
          ],
          [
           "Nigeria"
          ]
         ],
         "hovertemplate": "País=%{customdata[0]}<br>PIB_relativo=%{x}<br>Medallas_relativas=%{y}<extra></extra>",
         "legendgroup": "Nigeria",
         "marker": {
          "color": "#d62728",
          "symbol": "circle"
         },
         "mode": "markers",
         "name": "Nigeria",
         "orientation": "v",
         "showlegend": true,
         "type": "scatter",
         "x": [
          0.0011183816820852913,
          0.0020699871484210217,
          0.0035023005307407806,
          0.005121010860074755,
          0.015304170386430302,
          0.00544475292594155,
          0.009447382103931014,
          0.021563183659855004,
          0.021043234281341666,
          0.020268215396387824
         ],
         "xaxis": "x",
         "y": [
          0.005128205128205128,
          0.005128205128205128,
          0.010256410256410256,
          0.020512820512820513,
          0.03076923076923077,
          0.015384615384615385,
          0.010256410256410256,
          0.02564102564102564,
          0.005128205128205128,
          0.010256410256410256
         ],
         "yaxis": "y"
        },
        {
         "customdata": [
          [
           "Philippines"
          ],
          [
           "Philippines"
          ],
          [
           "Philippines"
          ],
          [
           "Philippines"
          ],
          [
           "Philippines"
          ],
          [
           "Philippines"
          ]
         ],
         "hovertemplate": "País=%{customdata[0]}<br>PIB_relativo=%{x}<br>Medallas_relativas=%{y}<extra></extra>",
         "legendgroup": "Philippines",
         "marker": {
          "color": "#9467bd",
          "symbol": "circle"
         },
         "mode": "markers",
         "name": "Philippines",
         "orientation": "v",
         "showlegend": true,
         "type": "scatter",
         "x": [
          0.0018345383732451708,
          0.007298912030451375,
          0.00929041625381378,
          0.012910441172142486,
          0.03049061638527268,
          0.03508186750120177
         ],
         "xaxis": "x",
         "y": [
          0.005128205128205128,
          0.005128205128205128,
          0.005128205128205128,
          0.005128205128205128,
          0.005128205128205128,
          0.020512820512820513
         ],
         "yaxis": "y"
        },
        {
         "customdata": [
          [
           "Republic of Korea"
          ],
          [
           "Republic of Korea"
          ],
          [
           "Republic of Korea"
          ],
          [
           "Republic of Korea"
          ],
          [
           "Republic of Korea"
          ],
          [
           "Republic of Korea"
          ],
          [
           "Republic of Korea"
          ],
          [
           "Republic of Korea"
          ],
          [
           "Republic of Korea"
          ],
          [
           "Republic of Korea"
          ],
          [
           "Republic of Korea"
          ],
          [
           "Republic of Korea"
          ],
          [
           "Republic of Korea"
          ],
          [
           "Republic of Korea"
          ]
         ],
         "hovertemplate": "País=%{customdata[0]}<br>PIB_relativo=%{x}<br>Medallas_relativas=%{y}<extra></extra>",
         "legendgroup": "Republic of Korea",
         "marker": {
          "color": "#8c564b",
          "symbol": "circle"
         },
         "mode": "markers",
         "name": "Republic of Korea",
         "orientation": "v",
         "showlegend": true,
         "type": "scatter",
         "x": [
          0.0010398987570266745,
          0.0017070036200249182,
          0.003178558464873986,
          0.008181844937360815,
          0.023672412270805333,
          0.04664828858171544,
          0.07970922076265782,
          0.1314392787419187,
          0.12028489301796277,
          0.1619298951271914,
          0.20935320259386067,
          0.24975228826778373,
          0.2873161782739643,
          0.34085134352957336
         ],
         "xaxis": "x",
         "y": [
          0.015384615384615385,
          0.010256410256410256,
          0.005128205128205128,
          0.03076923076923077,
          0.09743589743589744,
          0.16923076923076924,
          0.14871794871794872,
          0.13846153846153847,
          0.14358974358974358,
          0.15384615384615385,
          0.1641025641025641,
          0.15384615384615385,
          0.1076923076923077,
          0.10256410256410256
         ],
         "yaxis": "y"
        },
        {
         "customdata": [
          [
           "Trinidad and Tobago"
          ],
          [
           "Trinidad and Tobago"
          ],
          [
           "Trinidad and Tobago"
          ],
          [
           "Trinidad and Tobago"
          ],
          [
           "Trinidad and Tobago"
          ],
          [
           "Trinidad and Tobago"
          ],
          [
           "Trinidad and Tobago"
          ],
          [
           "Trinidad and Tobago"
          ]
         ],
         "hovertemplate": "País=%{customdata[0]}<br>PIB_relativo=%{x}<br>Medallas_relativas=%{y}<extra></extra>",
         "legendgroup": "Trinidad and Tobago",
         "marker": {
          "color": "#e377c2",
          "symbol": "circle"
         },
         "mode": "markers",
         "name": "Trinidad and Tobago",
         "orientation": "v",
         "showlegend": true,
         "type": "scatter",
         "x": [
          0.0076422748275828244,
          0.022975876310910106,
          0.04570649348101204,
          0.0642186534292133,
          0.10243983793275975,
          0.21071684341675415,
          0.18807451953734317,
          0.15938901042841866
         ],
         "xaxis": "x",
         "y": [
          0.015384615384615385,
          0.005128205128205128,
          0.010256410256410256,
          0.010256410256410256,
          0.005128205128205128,
          0.010256410256410256,
          0.020512820512820513,
          0.005128205128205128
         ],
         "yaxis": "y"
        },
        {
         "customdata": [
          [
           "Tunisia"
          ],
          [
           "Tunisia"
          ],
          [
           "Tunisia"
          ],
          [
           "Tunisia"
          ],
          [
           "Tunisia"
          ],
          [
           "Tunisia"
          ],
          [
           "Tunisia"
          ],
          [
           "Tunisia"
          ]
         ],
         "hovertemplate": "País=%{customdata[0]}<br>PIB_relativo=%{x}<br>Medallas_relativas=%{y}<extra></extra>",
         "legendgroup": "Tunisia",
         "marker": {
          "color": "#7f7f7f",
          "symbol": "circle"
         },
         "mode": "markers",
         "name": "Tunisia",
         "orientation": "v",
         "showlegend": true,
         "type": "scatter",
         "x": [
          0.002295625557964545,
          0.002491832870611088,
          0.004130163931209716,
          0.023662601905173004,
          0.04434285265811857,
          0.04263584903809365,
          0.038162322309752486,
          0.037475596715489584
         ],
         "xaxis": "x",
         "y": [
          0.010256410256410256,
          0.010256410256410256,
          0.005128205128205128,
          0.005128205128205128,
          0.005128205128205128,
          0.015384615384615385,
          0.015384615384615385,
          0.010256410256410256
         ],
         "yaxis": "y"
        },
        {
         "customdata": [
          [
           "Uruguay"
          ],
          [
           "Uruguay"
          ]
         ],
         "hovertemplate": "País=%{customdata[0]}<br>PIB_relativo=%{x}<br>Medallas_relativas=%{y}<extra></extra>",
         "legendgroup": "Uruguay",
         "marker": {
          "color": "#bcbd22",
          "symbol": "circle"
         },
         "mode": "markers",
         "name": "Uruguay",
         "orientation": "v",
         "showlegend": true,
         "type": "scatter",
         "x": [
          0.007308722396083702,
          0.07265556787301462
         ],
         "xaxis": "x",
         "y": [
          0.005128205128205128,
          0.005128205128205128
         ],
         "yaxis": "y"
        },
        {
         "customdata": [
          [
           "Cameroon"
          ],
          [
           "Cameroon"
          ],
          [
           "Cameroon"
          ],
          [
           "Cameroon"
          ],
          [
           "Cameroon"
          ],
          [
           "Cameroon"
          ]
         ],
         "hovertemplate": "País=%{customdata[0]}<br>PIB_relativo=%{x}<br>Medallas_relativas=%{y}<extra></extra>",
         "legendgroup": "Cameroon",
         "marker": {
          "color": "#17becf",
          "symbol": "circle"
         },
         "mode": "markers",
         "name": "Cameroon",
         "orientation": "v",
         "showlegend": true,
         "type": "scatter",
         "x": [
          0.001677572523127937,
          0.010222400988884855,
          0.006474841317335897,
          0.01068348817360423,
          0.014117116144918722,
          0.013773753347787273
         ],
         "xaxis": "x",
         "y": [
          0.005128205128205128,
          0.005128205128205128,
          0.005128205128205128,
          0.005128205128205128,
          0.005128205128205128,
          0.005128205128205128
         ],
         "yaxis": "y"
        },
        {
         "customdata": [
          [
           "Jamaica"
          ],
          [
           "Jamaica"
          ],
          [
           "Jamaica"
          ],
          [
           "Jamaica"
          ],
          [
           "Jamaica"
          ],
          [
           "Jamaica"
          ],
          [
           "Jamaica"
          ],
          [
           "Jamaica"
          ],
          [
           "Jamaica"
          ],
          [
           "Jamaica"
          ],
          [
           "Jamaica"
          ],
          [
           "Jamaica"
          ],
          [
           "Jamaica"
          ],
          [
           "Jamaica"
          ]
         ],
         "hovertemplate": "País=%{customdata[0]}<br>PIB_relativo=%{x}<br>Medallas_relativas=%{y}<extra></extra>",
         "legendgroup": "Jamaica",
         "marker": {
          "color": "#1f77b4",
          "symbol": "circle"
         },
         "mode": "markers",
         "name": "Jamaica",
         "orientation": "v",
         "showlegend": true,
         "type": "scatter",
         "x": [
          0.005866598648131616,
          0.009604347954048248,
          0.014332944188829917,
          0.01190978387764512,
          0.009300226619446107,
          0.01346963201318513,
          0.017697899600718117,
          0.029185837756173172,
          0.034444193735100506,
          0.037828769878253364,
          0.050366417156367416,
          0.05344687196491813,
          0.050847125072351444,
          0.05085693543798377
         ],
         "xaxis": "x",
         "y": [
          0.005128205128205128,
          0.005128205128205128,
          0.010256410256410256,
          0.015384615384615385,
          0.015384615384615385,
          0.010256410256410256,
          0.020512820512820513,
          0.03076923076923077,
          0.046153846153846156,
          0.02564102564102564,
          0.05641025641025641,
          0.06153846153846154,
          0.05641025641025641,
          0.046153846153846156
         ],
         "yaxis": "y"
        },
        {
         "customdata": [
          [
           "Mongolia"
          ],
          [
           "Mongolia"
          ],
          [
           "Mongolia"
          ],
          [
           "Mongolia"
          ],
          [
           "Mongolia"
          ],
          [
           "Mongolia"
          ],
          [
           "Mongolia"
          ],
          [
           "Mongolia"
          ],
          [
           "Mongolia"
          ],
          [
           "Mongolia"
          ],
          [
           "Mongolia"
          ],
          [
           "Mongolia"
          ]
         ],
         "hovertemplate": "País=%{customdata[0]}<br>PIB_relativo=%{x}<br>Medallas_relativas=%{y}<extra></extra>",
         "legendgroup": "Mongolia",
         "marker": {
          "color": "#ff7f0e",
          "symbol": "circle"
         },
         "mode": "markers",
         "name": "Mongolia",
         "orientation": "v",
         "showlegend": true,
         "type": "scatter",
         "x": [
          null,
          0.0016971932543925912,
          0.002521263967508069,
          0.015765257571149677,
          0.019414713586375365,
          0.007083083986540178,
          0.005807736454337653,
          0.007750188849538422,
          0.02069006111857789,
          0.041998175271992386,
          0.03507205713556944,
          0.04397986912972247
         ],
         "xaxis": "x",
         "y": [
          0.020512820512820513,
          0.005128205128205128,
          0.005128205128205128,
          0.020512820512820513,
          0.005128205128205128,
          0.010256410256410256,
          0.005128205128205128,
          0.005128205128205128,
          0.020512820512820513,
          0.02564102564102564,
          0.010256410256410256,
          0.020512820512820513
         ],
         "yaxis": "y"
        },
        {
         "customdata": [
          [
           "Uganda"
          ],
          [
           "Uganda"
          ],
          [
           "Uganda"
          ],
          [
           "Uganda"
          ],
          [
           "Uganda"
          ],
          [
           "Uganda"
          ]
         ],
         "hovertemplate": "País=%{customdata[0]}<br>PIB_relativo=%{x}<br>Medallas_relativas=%{y}<extra></extra>",
         "legendgroup": "Uganda",
         "marker": {
          "color": "#2ca02c",
          "symbol": "circle"
         },
         "mode": "markers",
         "name": "Uganda",
         "orientation": "v",
         "showlegend": true,
         "type": "scatter",
         "x": [
          0.0010497091226590015,
          0.001344020091628815,
          0.006523893145497533,
          0.0039339566185631735,
          0.009329657716343089,
          0.009928090019915042
         ],
         "xaxis": "x",
         "y": [
          0.010256410256410256,
          0.010256410256410256,
          0.005128205128205128,
          0.005128205128205128,
          0.005128205128205128,
          0.020512820512820513
         ],
         "yaxis": "y"
        },
        {
         "customdata": [
          [
           "Colombia"
          ],
          [
           "Colombia"
          ],
          [
           "Colombia"
          ],
          [
           "Colombia"
          ],
          [
           "Colombia"
          ],
          [
           "Colombia"
          ],
          [
           "Colombia"
          ],
          [
           "Colombia"
          ],
          [
           "Colombia"
          ],
          [
           "Colombia"
          ]
         ],
         "hovertemplate": "País=%{customdata[0]}<br>PIB_relativo=%{x}<br>Medallas_relativas=%{y}<extra></extra>",
         "legendgroup": "Colombia",
         "marker": {
          "color": "#d62728",
          "symbol": "circle"
         },
         "mode": "markers",
         "name": "Colombia",
         "orientation": "v",
         "showlegend": true,
         "type": "scatter",
         "x": [
          0.0038849047904015383,
          0.017334916072322015,
          0.016814966693808678,
          0.019483386145801654,
          0.024859466512316915,
          0.027724093276956432,
          0.05515387558494305,
          0.08080798171347846,
          0.0592251773223588,
          0.060422041929502714
         ],
         "xaxis": "x",
         "y": [
          0.015384615384615385,
          0.005128205128205128,
          0.005128205128205128,
          0.005128205128205128,
          0.005128205128205128,
          0.010256410256410256,
          0.015384615384615385,
          0.046153846153846156,
          0.041025641025641026,
          0.02564102564102564
         ],
         "yaxis": "y"
        },
        {
         "customdata": [
          [
           "Lebanon"
          ],
          [
           "Lebanon"
          ]
         ],
         "hovertemplate": "País=%{customdata[0]}<br>PIB_relativo=%{x}<br>Medallas_relativas=%{y}<extra></extra>",
         "legendgroup": "Lebanon",
         "marker": {
          "color": "#9467bd",
          "symbol": "circle"
         },
         "mode": "markers",
         "name": "Lebanon",
         "orientation": "v",
         "showlegend": true,
         "type": "scatter",
         "x": [
          0.010918936948780081,
          0.015235497827004013
         ],
         "xaxis": "x",
         "y": [
          0.005128205128205128,
          0.005128205128205128
         ],
         "yaxis": "y"
        },
        {
         "customdata": [
          [
           "Niger"
          ],
          [
           "Niger"
          ]
         ],
         "hovertemplate": "País=%{customdata[0]}<br>PIB_relativo=%{x}<br>Medallas_relativas=%{y}<extra></extra>",
         "legendgroup": "Niger",
         "marker": {
          "color": "#8c564b",
          "symbol": "circle"
         },
         "mode": "markers",
         "name": "Niger",
         "orientation": "v",
         "showlegend": true,
         "type": "scatter",
         "x": [
          0.0014813652104813946,
          0.004856130988001923
         ],
         "xaxis": "x",
         "y": [
          0.005128205128205128,
          0.005128205128205128
         ],
         "yaxis": "y"
        },
        {
         "customdata": [
          [
           "Thailand"
          ],
          [
           "Thailand"
          ],
          [
           "Thailand"
          ],
          [
           "Thailand"
          ],
          [
           "Thailand"
          ],
          [
           "Thailand"
          ],
          [
           "Thailand"
          ],
          [
           "Thailand"
          ],
          [
           "Thailand"
          ],
          [
           "Thailand"
          ],
          [
           "Thailand"
          ]
         ],
         "hovertemplate": "País=%{customdata[0]}<br>PIB_relativo=%{x}<br>Medallas_relativas=%{y}<extra></extra>",
         "legendgroup": "Thailand",
         "marker": {
          "color": "#e377c2",
          "symbol": "circle"
         },
         "mode": "markers",
         "name": "Thailand",
         "orientation": "v",
         "showlegend": true,
         "type": "scatter",
         "x": [
          0.00398300844672481,
          0.008289758959316414,
          0.011389834499131783,
          0.019610920899021906,
          0.029862752984803745,
          0.019659972727183544,
          0.026075951850725476,
          0.04290072891016648,
          0.057518173702333884,
          0.05881314196580106,
          0.0709485642529897
         ],
         "xaxis": "x",
         "y": [
          0.005128205128205128,
          0.005128205128205128,
          0.005128205128205128,
          0.005128205128205128,
          0.010256410256410256,
          0.015384615384615385,
          0.041025641025641026,
          0.03076923076923077,
          0.020512820512820513,
          0.03076923076923077,
          0.010256410256410256
         ],
         "yaxis": "y"
        },
        {
         "customdata": [
          [
           "Guyana"
          ]
         ],
         "hovertemplate": "País=%{customdata[0]}<br>PIB_relativo=%{x}<br>Medallas_relativas=%{y}<extra></extra>",
         "legendgroup": "Guyana",
         "marker": {
          "color": "#7f7f7f",
          "symbol": "circle"
         },
         "mode": "markers",
         "name": "Guyana",
         "orientation": "v",
         "showlegend": true,
         "type": "scatter",
         "x": [
          0.010811022926824483
         ],
         "xaxis": "x",
         "y": [
          0.005128205128205128
         ],
         "yaxis": "y"
        },
        {
         "customdata": [
          [
           "Zimbabwe"
          ],
          [
           "Zimbabwe"
          ],
          [
           "Zimbabwe"
          ]
         ],
         "hovertemplate": "País=%{customdata[0]}<br>PIB_relativo=%{x}<br>Medallas_relativas=%{y}<extra></extra>",
         "legendgroup": "Zimbabwe",
         "marker": {
          "color": "#bcbd22",
          "symbol": "circle"
         },
         "mode": "markers",
         "name": "Zimbabwe",
         "orientation": "v",
         "showlegend": true,
         "type": "scatter",
         "x": [
          0.009241364425652144,
          0.007916965065287983,
          0.005425132194676895
         ],
         "xaxis": "x",
         "y": [
          0.005128205128205128,
          0.015384615384615385,
          0.020512820512820513
         ],
         "yaxis": "y"
        },
        {
         "customdata": [
          [
           "Algeria"
          ],
          [
           "Algeria"
          ],
          [
           "Algeria"
          ],
          [
           "Algeria"
          ],
          [
           "Algeria"
          ],
          [
           "Algeria"
          ],
          [
           "Algeria"
          ]
         ],
         "hovertemplate": "País=%{customdata[0]}<br>PIB_relativo=%{x}<br>Medallas_relativas=%{y}<extra></extra>",
         "legendgroup": "Algeria",
         "marker": {
          "color": "#17becf",
          "symbol": "circle"
         },
         "mode": "markers",
         "name": "Algeria",
         "orientation": "v",
         "showlegend": true,
         "type": "scatter",
         "x": [
          0.023868619583451874,
          0.01837481482934869,
          0.016118430733913454,
          0.017609606310027174,
          0.04850244768622527,
          0.054702598765856,
          0.03844682291308997
         ],
         "xaxis": "x",
         "y": [
          0.010256410256410256,
          0.010256410256410256,
          0.015384615384615385,
          0.02564102564102564,
          0.010256410256410256,
          0.005128205128205128,
          0.010256410256410256
         ],
         "yaxis": "y"
        },
        {
         "customdata": [
          [
           "Côte d'Ivoire"
          ],
          [
           "Côte d'Ivoire"
          ],
          [
           "Côte d'Ivoire"
          ]
         ],
         "hovertemplate": "País=%{customdata[0]}<br>PIB_relativo=%{x}<br>Medallas_relativas=%{y}<extra></extra>",
         "legendgroup": "Côte d'Ivoire",
         "marker": {
          "color": "#1f77b4",
          "symbol": "circle"
         },
         "mode": "markers",
         "name": "Côte d'Ivoire",
         "orientation": "v",
         "showlegend": true,
         "type": "scatter",
         "x": [
          0.009928090019915042,
          0.01943433431764002,
          0.02500662199680182
         ],
         "xaxis": "x",
         "y": [
          0.005128205128205128,
          0.010256410256410256,
          0.005128205128205128
         ],
         "yaxis": "y"
        },
        {
         "customdata": [
          [
           "Dominican Republic"
          ],
          [
           "Dominican Republic"
          ],
          [
           "Dominican Republic"
          ],
          [
           "Dominican Republic"
          ],
          [
           "Dominican Republic"
          ],
          [
           "Dominican Republic"
          ]
         ],
         "hovertemplate": "País=%{customdata[0]}<br>PIB_relativo=%{x}<br>Medallas_relativas=%{y}<extra></extra>",
         "legendgroup": "Dominican Republic",
         "marker": {
          "color": "#ff7f0e",
          "symbol": "circle"
         },
         "mode": "markers",
         "name": "Dominican Republic",
         "orientation": "v",
         "showlegend": true,
         "type": "scatter",
         "x": [
          0.023525256786320427,
          0.024928139071743204,
          0.05096484945993937,
          0.06156004434285266,
          0.07378375992073224,
          0.08357450482179471
         ],
         "xaxis": "x",
         "y": [
          0.005128205128205128,
          0.005128205128205128,
          0.010256410256410256,
          0.010256410256410256,
          0.005128205128205128,
          0.02564102564102564
         ],
         "yaxis": "y"
        },
        {
         "customdata": [
          [
           "Egypt"
          ],
          [
           "Egypt"
          ],
          [
           "Egypt"
          ],
          [
           "Egypt"
          ],
          [
           "Egypt"
          ],
          [
           "Egypt"
          ]
         ],
         "hovertemplate": "País=%{customdata[0]}<br>PIB_relativo=%{x}<br>Medallas_relativas=%{y}<extra></extra>",
         "legendgroup": "Egypt",
         "marker": {
          "color": "#2ca02c",
          "symbol": "circle"
         },
         "mode": "markers",
         "name": "Egypt",
         "orientation": "v",
         "showlegend": true,
         "type": "scatter",
         "x": [
          0.00908439857553491,
          0.011733197296263232,
          0.022279340351014882,
          0.03314922547163333,
          0.03724995830594606,
          0.040654155180363576
         ],
         "xaxis": "x",
         "y": [
          0.005128205128205128,
          0.02564102564102564,
          0.010256410256410256,
          0.020512820512820513,
          0.015384615384615385,
          0.03076923076923077
         ],
         "yaxis": "y"
        },
        {
         "customdata": [
          [
           "Iceland"
          ],
          [
           "Iceland"
          ],
          [
           "Iceland"
          ]
         ],
         "hovertemplate": "País=%{customdata[0]}<br>PIB_relativo=%{x}<br>Medallas_relativas=%{y}<extra></extra>",
         "legendgroup": "Iceland",
         "marker": {
          "color": "#d62728",
          "symbol": "circle"
         },
         "mode": "markers",
         "name": "Iceland",
         "orientation": "v",
         "showlegend": true,
         "type": "scatter",
         "x": [
          0.11899973512012793,
          0.31730646601198825,
          0.5620947092698145
         ],
         "xaxis": "x",
         "y": [
          0.005128205128205128,
          0.005128205128205128,
          0.005128205128205128
         ],
         "yaxis": "y"
        },
        {
         "customdata": [
          [
           "People's Republic of China"
          ],
          [
           "People's Republic of China"
          ],
          [
           "People's Republic of China"
          ],
          [
           "People's Republic of China"
          ],
          [
           "People's Republic of China"
          ],
          [
           "People's Republic of China"
          ],
          [
           "People's Republic of China"
          ],
          [
           "People's Republic of China"
          ],
          [
           "People's Republic of China"
          ],
          [
           "People's Republic of China"
          ]
         ],
         "hovertemplate": "País=%{customdata[0]}<br>PIB_relativo=%{x}<br>Medallas_relativas=%{y}<extra></extra>",
         "legendgroup": "People's Republic of China",
         "marker": {
          "color": "#9467bd",
          "symbol": "circle"
         },
         "mode": "markers",
         "name": "People's Republic of China",
         "orientation": "v",
         "showlegend": true,
         "type": "scatter",
         "x": [
          0.0029529200553304624,
          0.003610214552696379,
          0.004120353565577389,
          0.0068966870395259635,
          0.009329657716343089,
          0.014715548448490675,
          0.03381633033463157,
          0.061638527267911275,
          0.07910097809345354,
          0.12325743380455789
         ],
         "xaxis": "x",
         "y": [
          0.1641025641025641,
          0.14358974358974358,
          0.27692307692307694,
          0.2564102564102564,
          0.29743589743589743,
          0.3230769230769231,
          0.5128205128205128,
          0.4666666666666667,
          0.358974358974359,
          0.4564102564102564
         ],
         "yaxis": "y"
        },
        {
         "customdata": [
          [
           "Peru"
          ],
          [
           "Peru"
          ],
          [
           "Peru"
          ]
         ],
         "hovertemplate": "País=%{customdata[0]}<br>PIB_relativo=%{x}<br>Medallas_relativas=%{y}<extra></extra>",
         "legendgroup": "Peru",
         "marker": {
          "color": "#8c564b",
          "symbol": "circle"
         },
         "mode": "markers",
         "name": "Peru",
         "orientation": "v",
         "showlegend": true,
         "type": "scatter",
         "x": [
          0.009996762579341333,
          0.015500377699076844,
          0.015333601483327283
         ],
         "xaxis": "x",
         "y": [
          0.005128205128205128,
          0.005128205128205128,
          0.005128205128205128
         ],
         "yaxis": "y"
        },
        {
         "customdata": [
          [
           "Zambia"
          ],
          [
           "Zambia"
          ]
         ],
         "hovertemplate": "País=%{customdata[0]}<br>PIB_relativo=%{x}<br>Medallas_relativas=%{y}<extra></extra>",
         "legendgroup": "Zambia",
         "marker": {
          "color": "#e377c2",
          "symbol": "circle"
         },
         "mode": "markers",
         "name": "Zambia",
         "orientation": "v",
         "showlegend": true,
         "type": "scatter",
         "x": [
          0.004404854168914876,
          0.0037181285746519773
         ],
         "xaxis": "x",
         "y": [
          0.005128205128205128,
          0.005128205128205128
         ],
         "yaxis": "y"
        },
        {
         "customdata": [
          [
           "Chile"
          ],
          [
           "Chile"
          ],
          [
           "Chile"
          ],
          [
           "Chile"
          ]
         ],
         "hovertemplate": "País=%{customdata[0]}<br>PIB_relativo=%{x}<br>Medallas_relativas=%{y}<extra></extra>",
         "legendgroup": "Chile",
         "marker": {
          "color": "#7f7f7f",
          "symbol": "circle"
         },
         "mode": "markers",
         "name": "Chile",
         "orientation": "v",
         "showlegend": true,
         "type": "scatter",
         "x": [
          0.019964094061785682,
          0.049993623262338985,
          0.06066730107031089,
          0.10547124091314883
         ],
         "xaxis": "x",
         "y": [
          0.005128205128205128,
          0.005128205128205128,
          0.015384615384615385,
          0.005128205128205128
         ],
         "yaxis": "y"
        },
        {
         "customdata": [
          [
           "Costa Rica"
          ],
          [
           "Costa Rica"
          ],
          [
           "Costa Rica"
          ]
         ],
         "hovertemplate": "País=%{customdata[0]}<br>PIB_relativo=%{x}<br>Medallas_relativas=%{y}<extra></extra>",
         "legendgroup": "Costa Rica",
         "marker": {
          "color": "#bcbd22",
          "symbol": "circle"
         },
         "mode": "markers",
         "name": "Costa Rica",
         "orientation": "v",
         "showlegend": true,
         "type": "scatter",
         "x": [
          0.015676964280458734,
          0.03215837854276829,
          0.038662650957001166
         ],
         "xaxis": "x",
         "y": [
          0.005128205128205128,
          0.005128205128205128,
          0.010256410256410256
         ],
         "yaxis": "y"
        },
        {
         "customdata": [
          [
           "Djibouti"
          ]
         ],
         "hovertemplate": "País=%{customdata[0]}<br>PIB_relativo=%{x}<br>Medallas_relativas=%{y}<extra></extra>",
         "legendgroup": "Djibouti",
         "marker": {
          "color": "#17becf",
          "symbol": "circle"
         },
         "mode": "markers",
         "name": "Djibouti",
         "orientation": "v",
         "showlegend": true,
         "type": "scatter",
         "x": [
          0.008054310184140562
         ],
         "xaxis": "x",
         "y": [
          0.005128205128205128
         ],
         "yaxis": "y"
        },
        {
         "customdata": [
          [
           "Indonesia"
          ],
          [
           "Indonesia"
          ],
          [
           "Indonesia"
          ],
          [
           "Indonesia"
          ],
          [
           "Indonesia"
          ],
          [
           "Indonesia"
          ],
          [
           "Indonesia"
          ],
          [
           "Indonesia"
          ],
          [
           "Indonesia"
          ]
         ],
         "hovertemplate": "País=%{customdata[0]}<br>PIB_relativo=%{x}<br>Medallas_relativas=%{y}<extra></extra>",
         "legendgroup": "Indonesia",
         "marker": {
          "color": "#1f77b4",
          "symbol": "circle"
         },
         "mode": "markers",
         "name": "Indonesia",
         "orientation": "v",
         "showlegend": true,
         "type": "scatter",
         "x": [
          0.0061020474233074665,
          0.008907811994153022,
          0.013675649691464,
          0.008535018100124591,
          0.012567078375011037,
          0.023721464098966968,
          0.03673981929306505,
          0.03537617847017158,
          0.042783004522578556
         ],
         "xaxis": "x",
         "y": [
          0.005128205128205128,
          0.02564102564102564,
          0.020512820512820513,
          0.03076923076923077,
          0.020512820512820513,
          0.03076923076923077,
          0.015384615384615385,
          0.015384615384615385,
          0.02564102564102564
         ],
         "yaxis": "y"
        },
        {
         "customdata": [
          [
           "Senegal"
          ]
         ],
         "hovertemplate": "País=%{customdata[0]}<br>PIB_relativo=%{x}<br>Medallas_relativas=%{y}<extra></extra>",
         "legendgroup": "Senegal",
         "marker": {
          "color": "#ff7f0e",
          "symbol": "circle"
         },
         "mode": "markers",
         "name": "Senegal",
         "orientation": "v",
         "showlegend": true,
         "type": "scatter",
         "x": [
          0.008495776637595284
         ],
         "xaxis": "x",
         "y": [
          0.005128205128205128
         ],
         "yaxis": "y"
        },
        {
         "customdata": [
          [
           "Suriname"
          ],
          [
           "Suriname"
          ]
         ],
         "hovertemplate": "País=%{customdata[0]}<br>PIB_relativo=%{x}<br>Medallas_relativas=%{y}<extra></extra>",
         "legendgroup": "Suriname",
         "marker": {
          "color": "#2ca02c",
          "symbol": "circle"
         },
         "mode": "markers",
         "name": "Suriname",
         "orientation": "v",
         "showlegend": true,
         "type": "scatter",
         "x": [
          0.04547104470583618,
          0.013803184444684253
         ],
         "xaxis": "x",
         "y": [
          0.005128205128205128,
          0.005128205128205128
         ],
         "yaxis": "y"
        },
        {
         "customdata": [
          [
           "Croatia"
          ],
          [
           "Croatia"
          ],
          [
           "Croatia"
          ],
          [
           "Croatia"
          ],
          [
           "Croatia"
          ],
          [
           "Croatia"
          ],
          [
           "Croatia"
          ],
          [
           "Croatia"
          ]
         ],
         "hovertemplate": "País=%{customdata[0]}<br>PIB_relativo=%{x}<br>Medallas_relativas=%{y}<extra></extra>",
         "legendgroup": "Croatia",
         "marker": {
          "color": "#d62728",
          "symbol": "circle"
         },
         "mode": "markers",
         "name": "Croatia",
         "orientation": "v",
         "showlegend": true,
         "type": "scatter",
         "x": [
          0.02547751954715352,
          0.051671195785466924,
          0.04890467267715068,
          0.0956216338182924,
          0.16103715185464962,
          0.13145889947318337,
          0.12291407100742645,
          0.1712301217466375
         ],
         "xaxis": "x",
         "y": [
          0.015384615384615385,
          0.010256410256410256,
          0.010256410256410256,
          0.02564102564102564,
          0.02564102564102564,
          0.03076923076923077,
          0.05128205128205128,
          0.041025641025641026
         ],
         "yaxis": "y"
        },
        {
         "customdata": [
          [
           "Estonia"
          ],
          [
           "Estonia"
          ],
          [
           "Estonia"
          ],
          [
           "Estonia"
          ],
          [
           "Estonia"
          ],
          [
           "Estonia"
          ],
          [
           "Estonia"
          ]
         ],
         "hovertemplate": "País=%{customdata[0]}<br>PIB_relativo=%{x}<br>Medallas_relativas=%{y}<extra></extra>",
         "legendgroup": "Estonia",
         "marker": {
          "color": "#9467bd",
          "symbol": "circle"
         },
         "mode": "markers",
         "name": "Estonia",
         "orientation": "v",
         "showlegend": true,
         "type": "scatter",
         "x": [
          0.027949731686499956,
          0.04007534360805627,
          0.08753789253725486,
          0.1792648111995134,
          0.1708377071213444,
          0.17943158741526297,
          0.2743174438111308
         ],
         "xaxis": "x",
         "y": [
          0.010256410256410256,
          0.015384615384615385,
          0.015384615384615385,
          0.010256410256410256,
          0.010256410256410256,
          0.005128205128205128,
          0.010256410256410256
         ],
         "yaxis": "y"
        },
        {
         "customdata": [
          [
           "Israel"
          ],
          [
           "Israel"
          ],
          [
           "Israel"
          ],
          [
           "Israel"
          ],
          [
           "Israel"
          ],
          [
           "Israel"
          ],
          [
           "Israel"
          ]
         ],
         "hovertemplate": "País=%{customdata[0]}<br>PIB_relativo=%{x}<br>Medallas_relativas=%{y}<extra></extra>",
         "legendgroup": "Israel",
         "marker": {
          "color": "#8c564b",
          "symbol": "circle"
         },
         "mode": "markers",
         "name": "Israel",
         "orientation": "v",
         "showlegend": true,
         "type": "scatter",
         "x": [
          0.1473615021631856,
          0.1977082985882884,
          0.21230612264919113,
          0.20175997959443948,
          0.29610626588052935,
          0.36987040506999697,
          0.5116301884571238
         ],
         "xaxis": "x",
         "y": [
          0.010256410256410256,
          0.005128205128205128,
          0.005128205128205128,
          0.010256410256410256,
          0.005128205128205128,
          0.010256410256410256,
          0.020512820512820513
         ],
         "yaxis": "y"
        },
        {
         "customdata": [
          [
           "Latvia"
          ],
          [
           "Latvia"
          ],
          [
           "Latvia"
          ],
          [
           "Latvia"
          ],
          [
           "Latvia"
          ],
          [
           "Latvia"
          ],
          [
           "Latvia"
          ]
         ],
         "hovertemplate": "País=%{customdata[0]}<br>PIB_relativo=%{x}<br>Medallas_relativas=%{y}<extra></extra>",
         "legendgroup": "Latvia",
         "marker": {
          "color": "#e377c2",
          "symbol": "circle"
         },
         "mode": "markers",
         "name": "Latvia",
         "orientation": "v",
         "showlegend": true,
         "type": "scatter",
         "x": [
          0.006209961445263065,
          0.023741084830231622,
          0.032796052308869554,
          0.0622271492058509,
          0.16123335916729617,
          0.13525551097289396,
          0.20156377228179295
         ],
         "xaxis": "x",
         "y": [
          0.015384615384615385,
          0.005128205128205128,
          0.015384615384615385,
          0.020512820512820513,
          0.015384615384615385,
          0.010256410256410256,
          0.010256410256410256
         ],
         "yaxis": "y"
        },
        {
         "customdata": [
          [
           "Lithuania"
          ],
          [
           "Lithuania"
          ],
          [
           "Lithuania"
          ],
          [
           "Lithuania"
          ],
          [
           "Lithuania"
          ],
          [
           "Lithuania"
          ],
          [
           "Lithuania"
          ],
          [
           "Lithuania"
          ]
         ],
         "hovertemplate": "País=%{customdata[0]}<br>PIB_relativo=%{x}<br>Medallas_relativas=%{y}<extra></extra>",
         "legendgroup": "Lithuania",
         "marker": {
          "color": "#7f7f7f",
          "symbol": "circle"
         },
         "mode": "markers",
         "name": "Lithuania",
         "orientation": "v",
         "showlegend": true,
         "type": "scatter",
         "x": [
          0.022740427535734256,
          0.0228287208264252,
          0.0323055340272532,
          0.06571963937095936,
          0.14733207106628865,
          0.14103381633033463,
          0.14719472594743607,
          0.22942521067760197
         ],
         "xaxis": "x",
         "y": [
          0.010256410256410256,
          0.005128205128205128,
          0.02564102564102564,
          0.015384615384615385,
          0.02564102564102564,
          0.02564102564102564,
          0.020512820512820513,
          0.005128205128205128
         ],
         "yaxis": "y"
        },
        {
         "customdata": [
          [
           "Malaysia"
          ],
          [
           "Malaysia"
          ],
          [
           "Malaysia"
          ],
          [
           "Malaysia"
          ],
          [
           "Malaysia"
          ],
          [
           "Malaysia"
          ]
         ],
         "hovertemplate": "País=%{customdata[0]}<br>PIB_relativo=%{x}<br>Medallas_relativas=%{y}<extra></extra>",
         "legendgroup": "Malaysia",
         "marker": {
          "color": "#bcbd22",
          "symbol": "circle"
         },
         "mode": "markers",
         "name": "Malaysia",
         "orientation": "v",
         "showlegend": true,
         "type": "scatter",
         "x": [
          0.033159035837265656,
          0.050778452512925155,
          0.08604671696114115,
          0.10609910431361777,
          0.09363012959493,
          0.11191665113358774
         ],
         "xaxis": "x",
         "y": [
          0.005128205128205128,
          0.010256410256410256,
          0.005128205128205128,
          0.010256410256410256,
          0.02564102564102564,
          0.010256410256410256
         ],
         "yaxis": "y"
        },
        {
         "customdata": [
          [
           "Namibia"
          ],
          [
           "Namibia"
          ],
          [
           "Namibia"
          ]
         ],
         "hovertemplate": "País=%{customdata[0]}<br>PIB_relativo=%{x}<br>Medallas_relativas=%{y}<extra></extra>",
         "legendgroup": "Namibia",
         "marker": {
          "color": "#17becf",
          "symbol": "circle"
         },
         "mode": "markers",
         "name": "Namibia",
         "orientation": "v",
         "showlegend": true,
         "type": "scatter",
         "x": [
          0.02222047815722092,
          0.023603739711379045,
          0.04734482454161067
         ],
         "xaxis": "x",
         "y": [
          0.010256410256410256,
          0.010256410256410256,
          0.005128205128205128
         ],
         "yaxis": "y"
        },
        {
         "customdata": [
          [
           "Qatar"
          ],
          [
           "Qatar"
          ],
          [
           "Qatar"
          ],
          [
           "Qatar"
          ],
          [
           "Qatar"
          ]
         ],
         "hovertemplate": "País=%{customdata[0]}<br>PIB_relativo=%{x}<br>Medallas_relativas=%{y}<extra></extra>",
         "legendgroup": "Qatar",
         "marker": {
          "color": "#1f77b4",
          "symbol": "circle"
         },
         "mode": "markers",
         "name": "Qatar",
         "orientation": "v",
         "showlegend": true,
         "type": "scatter",
         "x": [
          0.12791735747991329,
          0.2988335475263163,
          1,
          0.5686578438778414,
          0.6557052181334798
         ],
         "xaxis": "x",
         "y": [
          0.005128205128205128,
          0.005128205128205128,
          0.010256410256410256,
          0.005128205128205128,
          0.015384615384615385
         ],
         "yaxis": "y"
        },
        {
         "customdata": [
          [
           "Slovenia"
          ],
          [
           "Slovenia"
          ],
          [
           "Slovenia"
          ],
          [
           "Slovenia"
          ],
          [
           "Slovenia"
          ],
          [
           "Slovenia"
          ],
          [
           "Slovenia"
          ],
          [
           "Slovenia"
          ]
         ],
         "hovertemplate": "País=%{customdata[0]}<br>PIB_relativo=%{x}<br>Medallas_relativas=%{y}<extra></extra>",
         "legendgroup": "Slovenia",
         "marker": {
          "color": "#ff7f0e",
          "symbol": "circle"
         },
         "mode": "markers",
         "name": "Slovenia",
         "orientation": "v",
         "showlegend": true,
         "type": "scatter",
         "x": [
          0.09456211433000108,
          0.10605986285108845,
          0.10064454102204388,
          0.1692778589858044,
          0.27217878410328356,
          0.22244023034738505,
          0.2126985372744842,
          0.28742409229591986
         ],
         "xaxis": "x",
         "y": [
          0.010256410256410256,
          0.010256410256410256,
          0.010256410256410256,
          0.020512820512820513,
          0.02564102564102564,
          0.020512820512820513,
          0.020512820512820513,
          0.02564102564102564
         ],
         "yaxis": "y"
        },
        {
         "customdata": [
          [
           "Armenia"
          ],
          [
           "Armenia"
          ],
          [
           "Armenia"
          ],
          [
           "Armenia"
          ],
          [
           "Armenia"
          ],
          [
           "Armenia"
          ]
         ],
         "hovertemplate": "País=%{customdata[0]}<br>PIB_relativo=%{x}<br>Medallas_relativas=%{y}<extra></extra>",
         "legendgroup": "Armenia",
         "marker": {
          "color": "#2ca02c",
          "symbol": "circle"
         },
         "mode": "markers",
         "name": "Armenia",
         "orientation": "v",
         "showlegend": true,
         "type": "scatter",
         "x": [
          0.004944424278692867,
          0.006092237057675139,
          0.03838796071929601,
          0.03508186750120177,
          0.03457172848832076,
          0.04895372450531231
         ],
         "xaxis": "x",
         "y": [
          0.010256410256410256,
          0.005128205128205128,
          0.02564102564102564,
          0.010256410256410256,
          0.020512820512820513,
          0.020512820512820513
         ],
         "yaxis": "y"
        },
        {
         "customdata": [
          [
           "Azerbaijan"
          ],
          [
           "Azerbaijan"
          ],
          [
           "Azerbaijan"
          ],
          [
           "Azerbaijan"
          ],
          [
           "Azerbaijan"
          ],
          [
           "Azerbaijan"
          ],
          [
           "Azerbaijan"
          ]
         ],
         "hovertemplate": "País=%{customdata[0]}<br>PIB_relativo=%{x}<br>Medallas_relativas=%{y}<extra></extra>",
         "legendgroup": "Azerbaijan",
         "marker": {
          "color": "#d62728",
          "symbol": "circle"
         },
         "mode": "markers",
         "name": "Azerbaijan",
         "orientation": "v",
         "showlegend": true,
         "type": "scatter",
         "x": [
          0.004032060274886445,
          0.0064355998548065885,
          0.010202780257620201,
          0.05473202986275298,
          0.07402901906154043,
          0.038240805234811104,
          0.052956353683301774
         ],
         "xaxis": "x",
         "y": [
          0.005128205128205128,
          0.015384615384615385,
          0.02564102564102564,
          0.03076923076923077,
          0.046153846153846156,
          0.09230769230769231,
          0.035897435897435895
         ],
         "yaxis": "y"
        },
        {
         "customdata": [
          [
           "Belarus"
          ],
          [
           "Belarus"
          ],
          [
           "Belarus"
          ],
          [
           "Belarus"
          ],
          [
           "Belarus"
          ],
          [
           "Belarus"
          ],
          [
           "Belarus"
          ]
         ],
         "hovertemplate": "País=%{customdata[0]}<br>PIB_relativo=%{x}<br>Medallas_relativas=%{y}<extra></extra>",
         "legendgroup": "Belarus",
         "marker": {
          "color": "#9467bd",
          "symbol": "circle"
         },
         "mode": "markers",
         "name": "Belarus",
         "orientation": "v",
         "showlegend": true,
         "type": "scatter",
         "x": [
          0.01401901248859545,
          0.010595194882913286,
          0.024045206164833764,
          0.06456201622634476,
          0.06816242041340881,
          0.049424622055664016,
          0.0716352898472526
         ],
         "xaxis": "x",
         "y": [
          0.07692307692307693,
          0.08717948717948718,
          0.06666666666666667,
          0.07179487179487179,
          0.05128205128205128,
          0.046153846153846156,
          0.035897435897435895
         ],
         "yaxis": "y"
        },
        {
         "customdata": [
          [
           "Burundi"
          ],
          [
           "Burundi"
          ]
         ],
         "hovertemplate": "País=%{customdata[0]}<br>PIB_relativo=%{x}<br>Medallas_relativas=%{y}<extra></extra>",
         "legendgroup": "Burundi",
         "marker": {
          "color": "#8c564b",
          "symbol": "circle"
         },
         "mode": "markers",
         "name": "Burundi",
         "orientation": "v",
         "showlegend": true,
         "type": "scatter",
         "x": [
          0.0014028822854227777,
          0.0027567127426839197
         ],
         "xaxis": "x",
         "y": [
          0.005128205128205128,
          0.005128205128205128
         ],
         "yaxis": "y"
        },
        {
         "customdata": [
          [
           "Ecuador"
          ],
          [
           "Ecuador"
          ],
          [
           "Ecuador"
          ]
         ],
         "hovertemplate": "País=%{customdata[0]}<br>PIB_relativo=%{x}<br>Medallas_relativas=%{y}<extra></extra>",
         "legendgroup": "Ecuador",
         "marker": {
          "color": "#e377c2",
          "symbol": "circle"
         },
         "mode": "markers",
         "name": "Ecuador",
         "orientation": "v",
         "showlegend": true,
         "type": "scatter",
         "x": [
          0.019983714793050337,
          0.04186083015313981,
          0.05851883099683125
         ],
         "xaxis": "x",
         "y": [
          0.005128205128205128,
          0.005128205128205128,
          0.015384615384615385
         ],
         "yaxis": "y"
        },
        {
         "customdata": [
          [
           "Georgia"
          ],
          [
           "Georgia"
          ],
          [
           "Georgia"
          ],
          [
           "Georgia"
          ],
          [
           "Georgia"
          ],
          [
           "Georgia"
          ],
          [
           "Georgia"
          ]
         ],
         "hovertemplate": "País=%{customdata[0]}<br>PIB_relativo=%{x}<br>Medallas_relativas=%{y}<extra></extra>",
         "legendgroup": "Georgia",
         "marker": {
          "color": "#7f7f7f",
          "symbol": "circle"
         },
         "mode": "markers",
         "name": "Georgia",
         "orientation": "v",
         "showlegend": true,
         "type": "scatter",
         "x": [
          0.006749531555041056,
          0.007495119343097917,
          0.013126269216053683,
          0.03355145046255874,
          0.043263712438562585,
          0.03983989483288042,
          0.04918917328048816
         ],
         "xaxis": "x",
         "y": [
          0.010256410256410256,
          0.03076923076923077,
          0.020512820512820513,
          0.035897435897435895,
          0.03076923076923077,
          0.035897435897435895,
          0.041025641025641026
         ],
         "yaxis": "y"
        },
        {
         "customdata": [
          [
           "Kazakhstan"
          ],
          [
           "Kazakhstan"
          ],
          [
           "Kazakhstan"
          ],
          [
           "Kazakhstan"
          ],
          [
           "Kazakhstan"
          ],
          [
           "Kazakhstan"
          ],
          [
           "Kazakhstan"
          ]
         ],
         "hovertemplate": "País=%{customdata[0]}<br>PIB_relativo=%{x}<br>Medallas_relativas=%{y}<extra></extra>",
         "legendgroup": "Kazakhstan",
         "marker": {
          "color": "#bcbd22",
          "symbol": "circle"
         },
         "mode": "markers",
         "name": "Kazakhstan",
         "orientation": "v",
         "showlegend": true,
         "type": "scatter",
         "x": [
          0.013332286894332551,
          0.012066749727762354,
          0.028087076805352537,
          0.08190674266429909,
          0.12066749727762353,
          0.07516702147489036,
          0.10110562820676326
         ],
         "xaxis": "x",
         "y": [
          0.05641025641025641,
          0.035897435897435895,
          0.041025641025641026,
          0.046153846153846156,
          0.05641025641025641,
          0.08717948717948718,
          0.041025641025641026
         ],
         "yaxis": "y"
        },
        {
         "customdata": [
          [
           "Mozambique"
          ],
          [
           "Mozambique"
          ]
         ],
         "hovertemplate": "País=%{customdata[0]}<br>PIB_relativo=%{x}<br>Medallas_relativas=%{y}<extra></extra>",
         "legendgroup": "Mozambique",
         "marker": {
          "color": "#17becf",
          "symbol": "circle"
         },
         "mode": "markers",
         "name": "Mozambique",
         "orientation": "v",
         "showlegend": true,
         "type": "scatter",
         "x": [
          0.0023741084830231625,
          0.00312950663671235
         ],
         "xaxis": "x",
         "y": [
          0.005128205128205128,
          0.005128205128205128
         ],
         "yaxis": "y"
        },
        {
         "customdata": [
          [
           "Slovakia"
          ],
          [
           "Slovakia"
          ],
          [
           "Slovakia"
          ],
          [
           "Slovakia"
          ],
          [
           "Slovakia"
          ],
          [
           "Slovakia"
          ],
          [
           "Slovakia"
          ]
         ],
         "hovertemplate": "País=%{customdata[0]}<br>PIB_relativo=%{x}<br>Medallas_relativas=%{y}<extra></extra>",
         "legendgroup": "Slovakia",
         "marker": {
          "color": "#1f77b4",
          "symbol": "circle"
         },
         "mode": "markers",
         "name": "Slovakia",
         "orientation": "v",
         "showlegend": true,
         "type": "scatter",
         "x": [
          0.0392905143574701,
          0.03767180402813613,
          0.07887533968391001,
          0.17732235880431263,
          0.17120069064974053,
          0.16208686097730862,
          0.2065376276573828
         ],
         "xaxis": "x",
         "y": [
          0.015384615384615385,
          0.02564102564102564,
          0.03076923076923077,
          0.03076923076923077,
          0.020512820512820513,
          0.020512820512820513,
          0.020512820512820513
         ],
         "yaxis": "y"
        },
        {
         "customdata": [
          [
           "Tonga"
          ]
         ],
         "hovertemplate": "País=%{customdata[0]}<br>PIB_relativo=%{x}<br>Medallas_relativas=%{y}<extra></extra>",
         "legendgroup": "Tonga",
         "marker": {
          "color": "#ff7f0e",
          "symbol": "circle"
         },
         "mode": "markers",
         "name": "Tonga",
         "orientation": "v",
         "showlegend": true,
         "type": "scatter",
         "x": [
          0.021857494628824817
         ],
         "xaxis": "x",
         "y": [
          0.005128205128205128
         ],
         "yaxis": "y"
        },
        {
         "customdata": [
          [
           "Ukraine"
          ],
          [
           "Ukraine"
          ],
          [
           "Ukraine"
          ],
          [
           "Ukraine"
          ],
          [
           "Ukraine"
          ],
          [
           "Ukraine"
          ],
          [
           "Ukraine"
          ]
         ],
         "hovertemplate": "País=%{customdata[0]}<br>PIB_relativo=%{x}<br>Medallas_relativas=%{y}<extra></extra>",
         "legendgroup": "Ukraine",
         "marker": {
          "color": "#2ca02c",
          "symbol": "circle"
         },
         "mode": "markers",
         "name": "Ukraine",
         "orientation": "v",
         "showlegend": true,
         "type": "scatter",
         "x": [
          0.008966674187946985,
          0.006514082779865205,
          0.013489252744449785,
          0.038701892419530474,
          0.03799554609400292,
          0.021582804391119658,
          0.04787458428575633
         ],
         "xaxis": "x",
         "y": [
          0.11794871794871795,
          0.11794871794871795,
          0.11282051282051282,
          0.11282051282051282,
          0.09743589743589744,
          0.05641025641025641,
          0.09743589743589744
         ],
         "yaxis": "y"
        },
        {
         "customdata": [
          [
           "Uzbekistan"
          ],
          [
           "Uzbekistan"
          ],
          [
           "Uzbekistan"
          ],
          [
           "Uzbekistan"
          ],
          [
           "Uzbekistan"
          ],
          [
           "Uzbekistan"
          ],
          [
           "Uzbekistan"
          ]
         ],
         "hovertemplate": "País=%{customdata[0]}<br>PIB_relativo=%{x}<br>Medallas_relativas=%{y}<extra></extra>",
         "legendgroup": "Uzbekistan",
         "marker": {
          "color": "#d62728",
          "symbol": "circle"
         },
         "mode": "markers",
         "name": "Uzbekistan",
         "orientation": "v",
         "showlegend": true,
         "type": "scatter",
         "x": [
          0.007406826052406973,
          0.006886876673893636,
          0.005739063894911364,
          0.01299873446283343,
          0.022416685469867463,
          0.026615521960503468,
          0.01964035199591889
         ],
         "xaxis": "x",
         "y": [
          0.010256410256410256,
          0.020512820512820513,
          0.02564102564102564,
          0.020512820512820513,
          0.015384615384615385,
          0.06666666666666667,
          0.02564102564102564
         ],
         "yaxis": "y"
        },
        {
         "customdata": [
          [
           "Barbados"
          ]
         ],
         "hovertemplate": "País=%{customdata[0]}<br>PIB_relativo=%{x}<br>Medallas_relativas=%{y}<extra></extra>",
         "legendgroup": "Barbados",
         "marker": {
          "color": "#9467bd",
          "symbol": "circle"
         },
         "mode": "markers",
         "name": "Barbados",
         "orientation": "v",
         "showlegend": true,
         "type": "scatter",
         "x": [
          0.11122011517369253
         ],
         "xaxis": "x",
         "y": [
          0.005128205128205128
         ],
         "yaxis": "y"
        },
        {
         "customdata": [
          [
           "Kuwait"
          ],
          [
           "Kuwait"
          ],
          [
           "Kuwait"
          ]
         ],
         "hovertemplate": "País=%{customdata[0]}<br>PIB_relativo=%{x}<br>Medallas_relativas=%{y}<extra></extra>",
         "legendgroup": "Kuwait",
         "marker": {
          "color": "#8c564b",
          "symbol": "circle"
         },
         "mode": "markers",
         "name": "Kuwait",
         "orientation": "v",
         "showlegend": true,
         "type": "scatter",
         "x": [
          0.16690375050278125,
          0.44858877890378973,
          0.22253833400370832
         ],
         "xaxis": "x",
         "y": [
          0.005128205128205128,
          0.005128205128205128,
          0.005128205128205128
         ],
         "yaxis": "y"
        },
        {
         "customdata": [
          [
           "Kyrgyzstan"
          ],
          [
           "Kyrgyzstan"
          ],
          [
           "Kyrgyzstan"
          ]
         ],
         "hovertemplate": "País=%{customdata[0]}<br>PIB_relativo=%{x}<br>Medallas_relativas=%{y}<extra></extra>",
         "legendgroup": "Kyrgyzstan",
         "marker": {
          "color": "#e377c2",
          "symbol": "circle"
         },
         "mode": "markers",
         "name": "Kyrgyzstan",
         "orientation": "v",
         "showlegend": true,
         "type": "scatter",
         "x": [
          0.0027567127426839197,
          0.009535675394621957,
          0.0125180265468494
         ],
         "xaxis": "x",
         "y": [
          0.005128205128205128,
          0.015384615384615385,
          0.015384615384615385
         ],
         "yaxis": "y"
        },
        {
         "customdata": [
          [
           "North Macedonia"
          ],
          [
           "North Macedonia"
          ]
         ],
         "hovertemplate": "País=%{customdata[0]}<br>PIB_relativo=%{x}<br>Medallas_relativas=%{y}<extra></extra>",
         "legendgroup": "North Macedonia",
         "marker": {
          "color": "#7f7f7f",
          "symbol": "circle"
         },
         "mode": "markers",
         "name": "North Macedonia",
         "orientation": "v",
         "showlegend": true,
         "type": "scatter",
         "x": [
          0.018423866657510325,
          0.06586679485544426
         ],
         "xaxis": "x",
         "y": [
          0.005128205128205128,
          0.005128205128205128
         ],
         "yaxis": "y"
        },
        {
         "customdata": [
          [
           "Saudi Arabia"
          ],
          [
           "Saudi Arabia"
          ],
          [
           "Saudi Arabia"
          ]
         ],
         "hovertemplate": "País=%{customdata[0]}<br>PIB_relativo=%{x}<br>Medallas_relativas=%{y}<extra></extra>",
         "legendgroup": "Saudi Arabia",
         "marker": {
          "color": "#bcbd22",
          "symbol": "circle"
         },
         "mode": "markers",
         "name": "Saudi Arabia",
         "orientation": "v",
         "showlegend": true,
         "type": "scatter",
         "x": [
          0.09081455465845212,
          0.24729969685970196,
          0.22746313755113653
         ],
         "xaxis": "x",
         "y": [
          0.010256410256410256,
          0.005128205128205128,
          0.005128205128205128
         ],
         "yaxis": "y"
        },
        {
         "customdata": [
          [
           "Sri Lanka"
          ]
         ],
         "hovertemplate": "País=%{customdata[0]}<br>PIB_relativo=%{x}<br>Medallas_relativas=%{y}<extra></extra>",
         "legendgroup": "Sri Lanka",
         "marker": {
          "color": "#17becf",
          "symbol": "circle"
         },
         "mode": "markers",
         "name": "Sri Lanka",
         "orientation": "v",
         "showlegend": true,
         "type": "scatter",
         "x": [
          0.01044803939842838
         ],
         "xaxis": "x",
         "y": [
          0.005128205128205128
         ],
         "yaxis": "y"
        },
        {
         "customdata": [
          [
           "Eritrea"
          ]
         ],
         "hovertemplate": "País=%{customdata[0]}<br>PIB_relativo=%{x}<br>Medallas_relativas=%{y}<extra></extra>",
         "legendgroup": "Eritrea",
         "marker": {
          "color": "#1f77b4",
          "symbol": "circle"
         },
         "mode": "markers",
         "name": "Eritrea",
         "orientation": "v",
         "showlegend": true,
         "type": "scatter",
         "x": [
          0.003100075539815369
         ],
         "xaxis": "x",
         "y": [
          0.005128205128205128
         ],
         "yaxis": "y"
        },
        {
         "customdata": [
          [
           "Paraguay"
          ]
         ],
         "hovertemplate": "País=%{customdata[0]}<br>PIB_relativo=%{x}<br>Medallas_relativas=%{y}<extra></extra>",
         "legendgroup": "Paraguay",
         "marker": {
          "color": "#ff7f0e",
          "symbol": "circle"
         },
         "mode": "markers",
         "name": "Paraguay",
         "orientation": "v",
         "showlegend": true,
         "type": "scatter",
         "x": [
          0.016618759381162137
         ],
         "xaxis": "x",
         "y": [
          0.005128205128205128
         ],
         "yaxis": "y"
        },
        {
         "customdata": [
          [
           "United Arab Emirates"
          ],
          [
           "United Arab Emirates"
          ]
         ],
         "hovertemplate": "País=%{customdata[0]}<br>PIB_relativo=%{x}<br>Medallas_relativas=%{y}<extra></extra>",
         "legendgroup": "United Arab Emirates",
         "marker": {
          "color": "#2ca02c",
          "symbol": "circle"
         },
         "mode": "markers",
         "name": "United Arab Emirates",
         "orientation": "v",
         "showlegend": true,
         "type": "scatter",
         "x": [
          0.3855964211786173,
          0.384026762677445
         ],
         "xaxis": "x",
         "y": [
          0.005128205128205128,
          0.005128205128205128
         ],
         "yaxis": "y"
        },
        {
         "customdata": [
          [
           "Afghanistan"
          ],
          [
           "Afghanistan"
          ]
         ],
         "hovertemplate": "País=%{customdata[0]}<br>PIB_relativo=%{x}<br>Medallas_relativas=%{y}<extra></extra>",
         "legendgroup": "Afghanistan",
         "marker": {
          "color": "#d62728",
          "symbol": "circle"
         },
         "mode": "markers",
         "name": "Afghanistan",
         "orientation": "v",
         "showlegend": true,
         "type": "scatter",
         "x": [
          0.0043950438032825485,
          0.007701137021376787
         ],
         "xaxis": "x",
         "y": [
          0.005128205128205128,
          0.005128205128205128
         ],
         "yaxis": "y"
        },
        {
         "customdata": [
          [
           "Mauritius"
          ]
         ],
         "hovertemplate": "País=%{customdata[0]}<br>PIB_relativo=%{x}<br>Medallas_relativas=%{y}<extra></extra>",
         "legendgroup": "Mauritius",
         "marker": {
          "color": "#9467bd",
          "symbol": "circle"
         },
         "mode": "markers",
         "name": "Mauritius",
         "orientation": "v",
         "showlegend": true,
         "type": "scatter",
         "x": [
          0.07877723602758675
         ],
         "xaxis": "x",
         "y": [
          0.005128205128205128
         ],
         "yaxis": "y"
        },
        {
         "customdata": [
          [
           "Panama"
          ]
         ],
         "hovertemplate": "País=%{customdata[0]}<br>PIB_relativo=%{x}<br>Medallas_relativas=%{y}<extra></extra>",
         "legendgroup": "Panama",
         "marker": {
          "color": "#8c564b",
          "symbol": "circle"
         },
         "mode": "markers",
         "name": "Panama",
         "orientation": "v",
         "showlegend": true,
         "type": "scatter",
         "x": [
          0.0697516996458458
         ],
         "xaxis": "x",
         "y": [
          0.005128205128205128
         ],
         "yaxis": "y"
        },
        {
         "customdata": [
          [
           "Samoa"
          ]
         ],
         "hovertemplate": "País=%{customdata[0]}<br>PIB_relativo=%{x}<br>Medallas_relativas=%{y}<extra></extra>",
         "legendgroup": "Samoa",
         "marker": {
          "color": "#e377c2",
          "symbol": "circle"
         },
         "mode": "markers",
         "name": "Samoa",
         "orientation": "v",
         "showlegend": true,
         "type": "scatter",
         "x": [
          0.036631905271109454
         ],
         "xaxis": "x",
         "y": [
          0.005128205128205128
         ],
         "yaxis": "y"
        },
        {
         "customdata": [
          [
           "Serbia"
          ],
          [
           "Serbia"
          ],
          [
           "Serbia"
          ],
          [
           "Serbia"
          ]
         ],
         "hovertemplate": "País=%{customdata[0]}<br>PIB_relativo=%{x}<br>Medallas_relativas=%{y}<extra></extra>",
         "legendgroup": "Serbia",
         "marker": {
          "color": "#7f7f7f",
          "symbol": "circle"
         },
         "mode": "markers",
         "name": "Serbia",
         "orientation": "v",
         "showlegend": true,
         "type": "scatter",
         "x": [
          0.06952606123630228,
          0.05898972854718296,
          0.05655675787036583,
          0.09003953577349828
         ],
         "xaxis": "x",
         "y": [
          0.015384615384615385,
          0.020512820512820513,
          0.041025641025641026,
          0.046153846153846156
         ],
         "yaxis": "y"
        },
        {
         "customdata": [
          [
           "Sudan"
          ]
         ],
         "hovertemplate": "País=%{customdata[0]}<br>PIB_relativo=%{x}<br>Medallas_relativas=%{y}<extra></extra>",
         "legendgroup": "Sudan",
         "marker": {
          "color": "#bcbd22",
          "symbol": "circle"
         },
         "mode": "markers",
         "name": "Sudan",
         "orientation": "v",
         "showlegend": true,
         "type": "scatter",
         "x": [
          0.016687431940588426
         ],
         "xaxis": "x",
         "y": [
          0.005128205128205128
         ],
         "yaxis": "y"
        },
        {
         "customdata": [
          [
           "Tajikistan"
          ],
          [
           "Tajikistan"
          ],
          [
           "Tajikistan"
          ]
         ],
         "hovertemplate": "País=%{customdata[0]}<br>PIB_relativo=%{x}<br>Medallas_relativas=%{y}<extra></extra>",
         "legendgroup": "Tajikistan",
         "marker": {
          "color": "#17becf",
          "symbol": "circle"
         },
         "mode": "markers",
         "name": "Tajikistan",
         "orientation": "v",
         "showlegend": true,
         "type": "scatter",
         "x": [
          0.006886876673893636,
          0.009319847350710762,
          0.007867913237126347
         ],
         "xaxis": "x",
         "y": [
          0.010256410256410256,
          0.005128205128205128,
          0.005128205128205128
         ],
         "yaxis": "y"
        },
        {
         "customdata": [
          [
           "Togo"
          ]
         ],
         "hovertemplate": "País=%{customdata[0]}<br>PIB_relativo=%{x}<br>Medallas_relativas=%{y}<extra></extra>",
         "legendgroup": "Togo",
         "marker": {
          "color": "#1f77b4",
          "symbol": "circle"
         },
         "mode": "markers",
         "name": "Togo",
         "orientation": "v",
         "showlegend": true,
         "type": "scatter",
         "x": [
          0.007230239471025085
         ],
         "xaxis": "x",
         "y": [
          0.005128205128205128
         ],
         "yaxis": "y"
        },
        {
         "customdata": [
          [
           "Bahrain"
          ],
          [
           "Bahrain"
          ],
          [
           "Bahrain"
          ]
         ],
         "hovertemplate": "País=%{customdata[0]}<br>PIB_relativo=%{x}<br>Medallas_relativas=%{y}<extra></extra>",
         "legendgroup": "Bahrain",
         "marker": {
          "color": "#ff7f0e",
          "symbol": "circle"
         },
         "mode": "markers",
         "name": "Bahrain",
         "orientation": "v",
         "showlegend": true,
         "type": "scatter",
         "x": [
          0.2495168394926079,
          0.22211648828151825,
          0.2564331472633985
         ],
         "xaxis": "x",
         "y": [
          0.005128205128205128,
          0.010256410256410256,
          0.005128205128205128
         ],
         "yaxis": "y"
        },
        {
         "customdata": [
          [
           "Botswana"
          ],
          [
           "Botswana"
          ]
         ],
         "hovertemplate": "País=%{customdata[0]}<br>PIB_relativo=%{x}<br>Medallas_relativas=%{y}<extra></extra>",
         "legendgroup": "Botswana",
         "marker": {
          "color": "#2ca02c",
          "symbol": "circle"
         },
         "mode": "markers",
         "name": "Botswana",
         "orientation": "v",
         "showlegend": true,
         "type": "scatter",
         "x": [
          0.06689688324683861,
          0.06675953812798603
         ],
         "xaxis": "x",
         "y": [
          0.005128205128205128,
          0.005128205128205128
         ],
         "yaxis": "y"
        },
        {
         "customdata": [
          [
           "Cyprus"
          ]
         ],
         "hovertemplate": "País=%{customdata[0]}<br>PIB_relativo=%{x}<br>Medallas_relativas=%{y}<extra></extra>",
         "legendgroup": "Cyprus",
         "marker": {
          "color": "#d62728",
          "symbol": "circle"
         },
         "mode": "markers",
         "name": "Cyprus",
         "orientation": "v",
         "showlegend": true,
         "type": "scatter",
         "x": [
          0.2844417411436924
         ],
         "xaxis": "x",
         "y": [
          0.005128205128205128
         ],
         "yaxis": "y"
        },
        {
         "customdata": [
          [
           "Gabon"
          ]
         ],
         "hovertemplate": "País=%{customdata[0]}<br>PIB_relativo=%{x}<br>Medallas_relativas=%{y}<extra></extra>",
         "legendgroup": "Gabon",
         "marker": {
          "color": "#9467bd",
          "symbol": "circle"
         },
         "mode": "markers",
         "name": "Gabon",
         "orientation": "v",
         "showlegend": true,
         "type": "scatter",
         "x": [
          0.09715205085693544
         ],
         "xaxis": "x",
         "y": [
          0.005128205128205128
         ],
         "yaxis": "y"
        },
        {
         "customdata": [
          [
           "Grenada"
          ],
          [
           "Grenada"
          ],
          [
           "Grenada"
          ]
         ],
         "hovertemplate": "País=%{customdata[0]}<br>PIB_relativo=%{x}<br>Medallas_relativas=%{y}<extra></extra>",
         "legendgroup": "Grenada",
         "marker": {
          "color": "#8c564b",
          "symbol": "circle"
         },
         "mode": "markers",
         "name": "Grenada",
         "orientation": "v",
         "showlegend": true,
         "type": "scatter",
         "x": [
          0.07302836176704305,
          0.09445420030804548,
          0.08778315167806304
         ],
         "xaxis": "x",
         "y": [
          0.005128205128205128,
          0.005128205128205128,
          0.005128205128205128
         ],
         "yaxis": "y"
        },
        {
         "customdata": [
          [
           "Guatemala"
          ]
         ],
         "hovertemplate": "País=%{customdata[0]}<br>PIB_relativo=%{x}<br>Medallas_relativas=%{y}<extra></extra>",
         "legendgroup": "Guatemala",
         "marker": {
          "color": "#e377c2",
          "symbol": "circle"
         },
         "mode": "markers",
         "name": "Guatemala",
         "orientation": "v",
         "showlegend": true,
         "type": "scatter",
         "x": [
          0.03206027488644502
         ],
         "xaxis": "x",
         "y": [
          0.005128205128205128
         ],
         "yaxis": "y"
        },
        {
         "customdata": [
          [
           "Montenegro"
          ]
         ],
         "hovertemplate": "País=%{customdata[0]}<br>PIB_relativo=%{x}<br>Medallas_relativas=%{y}<extra></extra>",
         "legendgroup": "Montenegro",
         "marker": {
          "color": "#7f7f7f",
          "symbol": "circle"
         },
         "mode": "markers",
         "name": "Montenegro",
         "orientation": "v",
         "showlegend": true,
         "type": "scatter",
         "x": [
          0.06466011988266802
         ],
         "xaxis": "x",
         "y": [
          0.005128205128205128
         ],
         "yaxis": "y"
        },
        {
         "customdata": [
          [
           "Fiji"
          ],
          [
           "Fiji"
          ]
         ],
         "hovertemplate": "País=%{customdata[0]}<br>PIB_relativo=%{x}<br>Medallas_relativas=%{y}<extra></extra>",
         "legendgroup": "Fiji",
         "marker": {
          "color": "#bcbd22",
          "symbol": "circle"
         },
         "mode": "markers",
         "name": "Fiji",
         "orientation": "v",
         "showlegend": true,
         "type": "scatter",
         "x": [
          0.05514406521931072,
          0.04557895872779179
         ],
         "xaxis": "x",
         "y": [
          0.005128205128205128,
          0.010256410256410256
         ],
         "yaxis": "y"
        },
        {
         "customdata": [
          [
           "Jordan"
          ],
          [
           "Jordan"
          ]
         ],
         "hovertemplate": "País=%{customdata[0]}<br>PIB_relativo=%{x}<br>Medallas_relativas=%{y}<extra></extra>",
         "legendgroup": "Jordan",
         "marker": {
          "color": "#17becf",
          "symbol": "circle"
         },
         "mode": "markers",
         "name": "Jordan",
         "orientation": "v",
         "showlegend": true,
         "type": "scatter",
         "x": [
          0.04101713870875968,
          0.04025193018943816
         ],
         "xaxis": "x",
         "y": [
          0.005128205128205128,
          0.010256410256410256
         ],
         "yaxis": "y"
        },
        {
         "customdata": [
          [
           "Burkina Faso"
          ]
         ],
         "hovertemplate": "País=%{customdata[0]}<br>PIB_relativo=%{x}<br>Medallas_relativas=%{y}<extra></extra>",
         "legendgroup": "Burkina Faso",
         "marker": {
          "color": "#1f77b4",
          "symbol": "circle"
         },
         "mode": "markers",
         "name": "Burkina Faso",
         "orientation": "v",
         "showlegend": true,
         "type": "scatter",
         "x": [
          0.008760656509668115
         ],
         "xaxis": "x",
         "y": [
          0.005128205128205128
         ],
         "yaxis": "y"
        },
        {
         "customdata": [
          [
           "San Marino"
          ]
         ],
         "hovertemplate": "País=%{customdata[0]}<br>PIB_relativo=%{x}<br>Medallas_relativas=%{y}<extra></extra>",
         "legendgroup": "San Marino",
         "marker": {
          "color": "#ff7f0e",
          "symbol": "circle"
         },
         "mode": "markers",
         "name": "San Marino",
         "orientation": "v",
         "showlegend": true,
         "type": "scatter",
         "x": [
          0.44775489782504196
         ],
         "xaxis": "x",
         "y": [
          0.015384615384615385
         ],
         "yaxis": "y"
        },
        {
         "customdata": [
          [
           "Turkmenistan"
          ]
         ],
         "hovertemplate": "País=%{customdata[0]}<br>PIB_relativo=%{x}<br>Medallas_relativas=%{y}<extra></extra>",
         "legendgroup": "Turkmenistan",
         "marker": {
          "color": "#2ca02c",
          "symbol": "circle"
         },
         "mode": "markers",
         "name": "Turkmenistan",
         "orientation": "v",
         "showlegend": true,
         "type": "scatter",
         "x": [
          0.08347640116547143
         ],
         "xaxis": "x",
         "y": [
          0.005128205128205128
         ],
         "yaxis": "y"
        }
       ],
       "layout": {
        "legend": {
         "title": {
          "text": "País"
         },
         "tracegroupgap": 0
        },
        "margin": {
         "t": 60
        },
        "template": {
         "data": {
          "bar": [
           {
            "error_x": {
             "color": "#2a3f5f"
            },
            "error_y": {
             "color": "#2a3f5f"
            },
            "marker": {
             "line": {
              "color": "#E5ECF6",
              "width": 0.5
             },
             "pattern": {
              "fillmode": "overlay",
              "size": 10,
              "solidity": 0.2
             }
            },
            "type": "bar"
           }
          ],
          "barpolar": [
           {
            "marker": {
             "line": {
              "color": "#E5ECF6",
              "width": 0.5
             },
             "pattern": {
              "fillmode": "overlay",
              "size": 10,
              "solidity": 0.2
             }
            },
            "type": "barpolar"
           }
          ],
          "carpet": [
           {
            "aaxis": {
             "endlinecolor": "#2a3f5f",
             "gridcolor": "white",
             "linecolor": "white",
             "minorgridcolor": "white",
             "startlinecolor": "#2a3f5f"
            },
            "baxis": {
             "endlinecolor": "#2a3f5f",
             "gridcolor": "white",
             "linecolor": "white",
             "minorgridcolor": "white",
             "startlinecolor": "#2a3f5f"
            },
            "type": "carpet"
           }
          ],
          "choropleth": [
           {
            "colorbar": {
             "outlinewidth": 0,
             "ticks": ""
            },
            "type": "choropleth"
           }
          ],
          "contour": [
           {
            "colorbar": {
             "outlinewidth": 0,
             "ticks": ""
            },
            "colorscale": [
             [
              0,
              "#0d0887"
             ],
             [
              0.1111111111111111,
              "#46039f"
             ],
             [
              0.2222222222222222,
              "#7201a8"
             ],
             [
              0.3333333333333333,
              "#9c179e"
             ],
             [
              0.4444444444444444,
              "#bd3786"
             ],
             [
              0.5555555555555556,
              "#d8576b"
             ],
             [
              0.6666666666666666,
              "#ed7953"
             ],
             [
              0.7777777777777778,
              "#fb9f3a"
             ],
             [
              0.8888888888888888,
              "#fdca26"
             ],
             [
              1,
              "#f0f921"
             ]
            ],
            "type": "contour"
           }
          ],
          "contourcarpet": [
           {
            "colorbar": {
             "outlinewidth": 0,
             "ticks": ""
            },
            "type": "contourcarpet"
           }
          ],
          "heatmap": [
           {
            "colorbar": {
             "outlinewidth": 0,
             "ticks": ""
            },
            "colorscale": [
             [
              0,
              "#0d0887"
             ],
             [
              0.1111111111111111,
              "#46039f"
             ],
             [
              0.2222222222222222,
              "#7201a8"
             ],
             [
              0.3333333333333333,
              "#9c179e"
             ],
             [
              0.4444444444444444,
              "#bd3786"
             ],
             [
              0.5555555555555556,
              "#d8576b"
             ],
             [
              0.6666666666666666,
              "#ed7953"
             ],
             [
              0.7777777777777778,
              "#fb9f3a"
             ],
             [
              0.8888888888888888,
              "#fdca26"
             ],
             [
              1,
              "#f0f921"
             ]
            ],
            "type": "heatmap"
           }
          ],
          "heatmapgl": [
           {
            "colorbar": {
             "outlinewidth": 0,
             "ticks": ""
            },
            "colorscale": [
             [
              0,
              "#0d0887"
             ],
             [
              0.1111111111111111,
              "#46039f"
             ],
             [
              0.2222222222222222,
              "#7201a8"
             ],
             [
              0.3333333333333333,
              "#9c179e"
             ],
             [
              0.4444444444444444,
              "#bd3786"
             ],
             [
              0.5555555555555556,
              "#d8576b"
             ],
             [
              0.6666666666666666,
              "#ed7953"
             ],
             [
              0.7777777777777778,
              "#fb9f3a"
             ],
             [
              0.8888888888888888,
              "#fdca26"
             ],
             [
              1,
              "#f0f921"
             ]
            ],
            "type": "heatmapgl"
           }
          ],
          "histogram": [
           {
            "marker": {
             "pattern": {
              "fillmode": "overlay",
              "size": 10,
              "solidity": 0.2
             }
            },
            "type": "histogram"
           }
          ],
          "histogram2d": [
           {
            "colorbar": {
             "outlinewidth": 0,
             "ticks": ""
            },
            "colorscale": [
             [
              0,
              "#0d0887"
             ],
             [
              0.1111111111111111,
              "#46039f"
             ],
             [
              0.2222222222222222,
              "#7201a8"
             ],
             [
              0.3333333333333333,
              "#9c179e"
             ],
             [
              0.4444444444444444,
              "#bd3786"
             ],
             [
              0.5555555555555556,
              "#d8576b"
             ],
             [
              0.6666666666666666,
              "#ed7953"
             ],
             [
              0.7777777777777778,
              "#fb9f3a"
             ],
             [
              0.8888888888888888,
              "#fdca26"
             ],
             [
              1,
              "#f0f921"
             ]
            ],
            "type": "histogram2d"
           }
          ],
          "histogram2dcontour": [
           {
            "colorbar": {
             "outlinewidth": 0,
             "ticks": ""
            },
            "colorscale": [
             [
              0,
              "#0d0887"
             ],
             [
              0.1111111111111111,
              "#46039f"
             ],
             [
              0.2222222222222222,
              "#7201a8"
             ],
             [
              0.3333333333333333,
              "#9c179e"
             ],
             [
              0.4444444444444444,
              "#bd3786"
             ],
             [
              0.5555555555555556,
              "#d8576b"
             ],
             [
              0.6666666666666666,
              "#ed7953"
             ],
             [
              0.7777777777777778,
              "#fb9f3a"
             ],
             [
              0.8888888888888888,
              "#fdca26"
             ],
             [
              1,
              "#f0f921"
             ]
            ],
            "type": "histogram2dcontour"
           }
          ],
          "mesh3d": [
           {
            "colorbar": {
             "outlinewidth": 0,
             "ticks": ""
            },
            "type": "mesh3d"
           }
          ],
          "parcoords": [
           {
            "line": {
             "colorbar": {
              "outlinewidth": 0,
              "ticks": ""
             }
            },
            "type": "parcoords"
           }
          ],
          "pie": [
           {
            "automargin": true,
            "type": "pie"
           }
          ],
          "scatter": [
           {
            "fillpattern": {
             "fillmode": "overlay",
             "size": 10,
             "solidity": 0.2
            },
            "type": "scatter"
           }
          ],
          "scatter3d": [
           {
            "line": {
             "colorbar": {
              "outlinewidth": 0,
              "ticks": ""
             }
            },
            "marker": {
             "colorbar": {
              "outlinewidth": 0,
              "ticks": ""
             }
            },
            "type": "scatter3d"
           }
          ],
          "scattercarpet": [
           {
            "marker": {
             "colorbar": {
              "outlinewidth": 0,
              "ticks": ""
             }
            },
            "type": "scattercarpet"
           }
          ],
          "scattergeo": [
           {
            "marker": {
             "colorbar": {
              "outlinewidth": 0,
              "ticks": ""
             }
            },
            "type": "scattergeo"
           }
          ],
          "scattergl": [
           {
            "marker": {
             "colorbar": {
              "outlinewidth": 0,
              "ticks": ""
             }
            },
            "type": "scattergl"
           }
          ],
          "scattermapbox": [
           {
            "marker": {
             "colorbar": {
              "outlinewidth": 0,
              "ticks": ""
             }
            },
            "type": "scattermapbox"
           }
          ],
          "scatterpolar": [
           {
            "marker": {
             "colorbar": {
              "outlinewidth": 0,
              "ticks": ""
             }
            },
            "type": "scatterpolar"
           }
          ],
          "scatterpolargl": [
           {
            "marker": {
             "colorbar": {
              "outlinewidth": 0,
              "ticks": ""
             }
            },
            "type": "scatterpolargl"
           }
          ],
          "scatterternary": [
           {
            "marker": {
             "colorbar": {
              "outlinewidth": 0,
              "ticks": ""
             }
            },
            "type": "scatterternary"
           }
          ],
          "surface": [
           {
            "colorbar": {
             "outlinewidth": 0,
             "ticks": ""
            },
            "colorscale": [
             [
              0,
              "#0d0887"
             ],
             [
              0.1111111111111111,
              "#46039f"
             ],
             [
              0.2222222222222222,
              "#7201a8"
             ],
             [
              0.3333333333333333,
              "#9c179e"
             ],
             [
              0.4444444444444444,
              "#bd3786"
             ],
             [
              0.5555555555555556,
              "#d8576b"
             ],
             [
              0.6666666666666666,
              "#ed7953"
             ],
             [
              0.7777777777777778,
              "#fb9f3a"
             ],
             [
              0.8888888888888888,
              "#fdca26"
             ],
             [
              1,
              "#f0f921"
             ]
            ],
            "type": "surface"
           }
          ],
          "table": [
           {
            "cells": {
             "fill": {
              "color": "#EBF0F8"
             },
             "line": {
              "color": "white"
             }
            },
            "header": {
             "fill": {
              "color": "#C8D4E3"
             },
             "line": {
              "color": "white"
             }
            },
            "type": "table"
           }
          ]
         },
         "layout": {
          "annotationdefaults": {
           "arrowcolor": "#2a3f5f",
           "arrowhead": 0,
           "arrowwidth": 1
          },
          "autotypenumbers": "strict",
          "coloraxis": {
           "colorbar": {
            "outlinewidth": 0,
            "ticks": ""
           }
          },
          "colorscale": {
           "diverging": [
            [
             0,
             "#8e0152"
            ],
            [
             0.1,
             "#c51b7d"
            ],
            [
             0.2,
             "#de77ae"
            ],
            [
             0.3,
             "#f1b6da"
            ],
            [
             0.4,
             "#fde0ef"
            ],
            [
             0.5,
             "#f7f7f7"
            ],
            [
             0.6,
             "#e6f5d0"
            ],
            [
             0.7,
             "#b8e186"
            ],
            [
             0.8,
             "#7fbc41"
            ],
            [
             0.9,
             "#4d9221"
            ],
            [
             1,
             "#276419"
            ]
           ],
           "sequential": [
            [
             0,
             "#0d0887"
            ],
            [
             0.1111111111111111,
             "#46039f"
            ],
            [
             0.2222222222222222,
             "#7201a8"
            ],
            [
             0.3333333333333333,
             "#9c179e"
            ],
            [
             0.4444444444444444,
             "#bd3786"
            ],
            [
             0.5555555555555556,
             "#d8576b"
            ],
            [
             0.6666666666666666,
             "#ed7953"
            ],
            [
             0.7777777777777778,
             "#fb9f3a"
            ],
            [
             0.8888888888888888,
             "#fdca26"
            ],
            [
             1,
             "#f0f921"
            ]
           ],
           "sequentialminus": [
            [
             0,
             "#0d0887"
            ],
            [
             0.1111111111111111,
             "#46039f"
            ],
            [
             0.2222222222222222,
             "#7201a8"
            ],
            [
             0.3333333333333333,
             "#9c179e"
            ],
            [
             0.4444444444444444,
             "#bd3786"
            ],
            [
             0.5555555555555556,
             "#d8576b"
            ],
            [
             0.6666666666666666,
             "#ed7953"
            ],
            [
             0.7777777777777778,
             "#fb9f3a"
            ],
            [
             0.8888888888888888,
             "#fdca26"
            ],
            [
             1,
             "#f0f921"
            ]
           ]
          },
          "colorway": [
           "#636efa",
           "#EF553B",
           "#00cc96",
           "#ab63fa",
           "#FFA15A",
           "#19d3f3",
           "#FF6692",
           "#B6E880",
           "#FF97FF",
           "#FECB52"
          ],
          "font": {
           "color": "#2a3f5f"
          },
          "geo": {
           "bgcolor": "white",
           "lakecolor": "white",
           "landcolor": "#E5ECF6",
           "showlakes": true,
           "showland": true,
           "subunitcolor": "white"
          },
          "hoverlabel": {
           "align": "left"
          },
          "hovermode": "closest",
          "mapbox": {
           "style": "light"
          },
          "paper_bgcolor": "white",
          "plot_bgcolor": "#E5ECF6",
          "polar": {
           "angularaxis": {
            "gridcolor": "white",
            "linecolor": "white",
            "ticks": ""
           },
           "bgcolor": "#E5ECF6",
           "radialaxis": {
            "gridcolor": "white",
            "linecolor": "white",
            "ticks": ""
           }
          },
          "scene": {
           "xaxis": {
            "backgroundcolor": "#E5ECF6",
            "gridcolor": "white",
            "gridwidth": 2,
            "linecolor": "white",
            "showbackground": true,
            "ticks": "",
            "zerolinecolor": "white"
           },
           "yaxis": {
            "backgroundcolor": "#E5ECF6",
            "gridcolor": "white",
            "gridwidth": 2,
            "linecolor": "white",
            "showbackground": true,
            "ticks": "",
            "zerolinecolor": "white"
           },
           "zaxis": {
            "backgroundcolor": "#E5ECF6",
            "gridcolor": "white",
            "gridwidth": 2,
            "linecolor": "white",
            "showbackground": true,
            "ticks": "",
            "zerolinecolor": "white"
           }
          },
          "shapedefaults": {
           "line": {
            "color": "#2a3f5f"
           }
          },
          "ternary": {
           "aaxis": {
            "gridcolor": "white",
            "linecolor": "white",
            "ticks": ""
           },
           "baxis": {
            "gridcolor": "white",
            "linecolor": "white",
            "ticks": ""
           },
           "bgcolor": "#E5ECF6",
           "caxis": {
            "gridcolor": "white",
            "linecolor": "white",
            "ticks": ""
           }
          },
          "title": {
           "x": 0.05
          },
          "xaxis": {
           "automargin": true,
           "gridcolor": "white",
           "linecolor": "white",
           "ticks": "",
           "title": {
            "standoff": 15
           },
           "zerolinecolor": "white",
           "zerolinewidth": 2
          },
          "yaxis": {
           "automargin": true,
           "gridcolor": "white",
           "linecolor": "white",
           "ticks": "",
           "title": {
            "standoff": 15
           },
           "zerolinecolor": "white",
           "zerolinewidth": 2
          }
         }
        },
        "title": {
         "text": "GPD vs Medals (relative values)"
        },
        "xaxis": {
         "anchor": "y",
         "domain": [
          0,
          1
         ],
         "title": {
          "text": "Relative GPD"
         }
        },
        "yaxis": {
         "anchor": "x",
         "domain": [
          0,
          1
         ],
         "title": {
          "text": "Relative Medals"
         }
        }
       }
      }
     },
     "metadata": {},
     "output_type": "display_data"
    },
    {
     "data": {
      "text/plain": [
       "'PIBvsMedals.html'"
      ]
     },
     "execution_count": 29,
     "metadata": {},
     "output_type": "execute_result"
    }
   ],
   "source": [
    "df_medallas_pib['id'] = pd.factorize(df_medallas_pib['País'])[0]\n",
    "color_sequence = ['#1f77b4', '#ff7f0e', '#2ca02c', '#d62728', '#9467bd', '#8c564b', '#e377c2', '#7f7f7f', '#bcbd22', '#17becf']\n",
    "\n",
    "\n",
    "\n",
    "df_medallas_pib[\"PIB_relativo\"] = df_medallas_pib[\"PIB per cápita\"] / df_medallas_pib[\"PIB per cápita\"].max()\n",
    "df_medallas_pib[\"Medallas_relativas\"] = df_medallas_pib[\"Total\"] / df_medallas_pib[\"Total\"].max()\n",
    "\n",
    "# Crear el gráfico de dispersión interactivo\n",
    "#fig = px.scatter(df_medallas_pib, x=\"PIB_relativo\", y=\"Medallas_relativas\", hover_data=[\"País\", \"Año\"])\n",
    "fig = px.scatter(df_medallas_pib, x='PIB_relativo', y='Medallas_relativas', color='id', hover_data=['País',\"Año\"])\n",
    "fig = px.scatter(df_medallas_pib, x='PIB_relativo', y='Medallas_relativas', color='País', hover_data=['País'], color_discrete_sequence=color_sequence)\n",
    "\n",
    "\n",
    "# Añadir título y etiquetas de los ejes\n",
    "fig.update_layout(\n",
    "    title=\"GPD vs Medals (relative values)\",\n",
    "    xaxis_title=\"Relative GPD\",\n",
    "    yaxis_title=\"Relative Medals\"\n",
    ")\n",
    "\n",
    "# Mostrar el gráfico\n",
    "fig.show()\n",
    "pyo.plot(fig, filename='PIBvsMedals.html')"
   ]
  },
  {
   "cell_type": "code",
   "execution_count": null,
   "metadata": {},
   "outputs": [],
   "source": [
    "#cojo el de todos los participantes y agrupo por pais para ver que paises han sido mas representativos a lo largo de la historia. Me quedo con los X mas importantes"
   ]
  },
  {
   "cell_type": "code",
   "execution_count": 113,
   "metadata": {},
   "outputs": [],
   "source": [
    "repetidos_total_2=pd.read_csv(\"repetidos_total_2.csv\")"
   ]
  },
  {
   "cell_type": "code",
   "execution_count": 114,
   "metadata": {},
   "outputs": [],
   "source": [
    "repetidos_total_2.replace(\"United Kingdom\",\"Great Britain\",inplace=True)\n",
    "repetidos_total_2.replace(\"United States\",\"United States of America\",inplace=True)\n",
    "repetidos_total_2.replace(\"Russia\",\"Russian Federation\",inplace=True)\n",
    "repetidos_total_2.replace(\"Soviet Union\",\"Russian Federation\",inplace=True)\n",
    "repetidos_total_2.replace(\"South Korea\",\"Republic of Korea\",inplace=True)\n",
    "repetidos_total_2.replace(\"Iran\",\"Islamic Republic of Iran\",inplace=True)\n",
    "repetidos_total_2.replace(\"China\",\"People's Republic of China\",inplace=True)"
   ]
  },
  {
   "cell_type": "code",
   "execution_count": 115,
   "metadata": {},
   "outputs": [],
   "source": [
    "mas_representados=repetidos_total_2.groupby(\"Team\")[\"Name\"].count()"
   ]
  },
  {
   "cell_type": "code",
   "execution_count": 116,
   "metadata": {},
   "outputs": [],
   "source": [
    "top_25=mas_representados.nlargest(25)"
   ]
  },
  {
   "cell_type": "code",
   "execution_count": 117,
   "metadata": {},
   "outputs": [],
   "source": [
    "paises_mas_representados=[]\n",
    "for i in top_25.index:\n",
    "    paises_mas_representados.append(i)"
   ]
  },
  {
   "cell_type": "code",
   "execution_count": 118,
   "metadata": {},
   "outputs": [
    {
     "data": {
      "text/plain": [
       "['United States of America',\n",
       " 'Great Britain',\n",
       " 'France',\n",
       " 'Italy',\n",
       " 'Russian Federation',\n",
       " 'Germany',\n",
       " 'Australia',\n",
       " 'Canada',\n",
       " 'Japan',\n",
       " 'Hungary',\n",
       " 'Sweden',\n",
       " 'Netherlands',\n",
       " 'Spain',\n",
       " 'Poland',\n",
       " \"People's Republic of China\",\n",
       " 'Switzerland',\n",
       " 'Brazil',\n",
       " 'Republic of Korea',\n",
       " 'Romania',\n",
       " 'Belgium',\n",
       " 'Finland',\n",
       " 'Denmark',\n",
       " 'Czechoslovakia',\n",
       " 'Argentina',\n",
       " 'Austria']"
      ]
     },
     "execution_count": 118,
     "metadata": {},
     "output_type": "execute_result"
    }
   ],
   "source": [
    "paises_mas_representados"
   ]
  },
  {
   "cell_type": "code",
   "execution_count": 119,
   "metadata": {},
   "outputs": [
    {
     "data": {
      "text/html": [
       "<div>\n",
       "<style scoped>\n",
       "    .dataframe tbody tr th:only-of-type {\n",
       "        vertical-align: middle;\n",
       "    }\n",
       "\n",
       "    .dataframe tbody tr th {\n",
       "        vertical-align: top;\n",
       "    }\n",
       "\n",
       "    .dataframe thead th {\n",
       "        text-align: right;\n",
       "    }\n",
       "</style>\n",
       "<table border=\"1\" class=\"dataframe\">\n",
       "  <thead>\n",
       "    <tr style=\"text-align: right;\">\n",
       "      <th></th>\n",
       "      <th>País</th>\n",
       "      <th>Oro</th>\n",
       "      <th>Plata</th>\n",
       "      <th>Bronce</th>\n",
       "      <th>Total</th>\n",
       "      <th>Año</th>\n",
       "      <th>PIB per cápita</th>\n",
       "    </tr>\n",
       "  </thead>\n",
       "  <tbody>\n",
       "    <tr>\n",
       "      <th>37</th>\n",
       "      <td>United States of America</td>\n",
       "      <td>34</td>\n",
       "      <td>21</td>\n",
       "      <td>16</td>\n",
       "      <td>71.0</td>\n",
       "      <td>1960</td>\n",
       "      <td>3014.0</td>\n",
       "    </tr>\n",
       "    <tr>\n",
       "      <th>76</th>\n",
       "      <td>United States of America</td>\n",
       "      <td>36</td>\n",
       "      <td>26</td>\n",
       "      <td>28</td>\n",
       "      <td>90.0</td>\n",
       "      <td>1964</td>\n",
       "      <td>3582.0</td>\n",
       "    </tr>\n",
       "    <tr>\n",
       "      <th>117</th>\n",
       "      <td>United States of America</td>\n",
       "      <td>45</td>\n",
       "      <td>28</td>\n",
       "      <td>34</td>\n",
       "      <td>107.0</td>\n",
       "      <td>1968</td>\n",
       "      <td>4720.0</td>\n",
       "    </tr>\n",
       "    <tr>\n",
       "      <th>163</th>\n",
       "      <td>United States of America</td>\n",
       "      <td>33</td>\n",
       "      <td>31</td>\n",
       "      <td>30</td>\n",
       "      <td>94.0</td>\n",
       "      <td>1972</td>\n",
       "      <td>6112.0</td>\n",
       "    </tr>\n",
       "    <tr>\n",
       "      <th>198</th>\n",
       "      <td>United States of America</td>\n",
       "      <td>34</td>\n",
       "      <td>35</td>\n",
       "      <td>25</td>\n",
       "      <td>94.0</td>\n",
       "      <td>1976</td>\n",
       "      <td>8611.0</td>\n",
       "    </tr>\n",
       "    <tr>\n",
       "      <th>272</th>\n",
       "      <td>United States of America</td>\n",
       "      <td>82</td>\n",
       "      <td>61</td>\n",
       "      <td>30</td>\n",
       "      <td>173.0</td>\n",
       "      <td>1984</td>\n",
       "      <td>17086.0</td>\n",
       "    </tr>\n",
       "    <tr>\n",
       "      <th>322</th>\n",
       "      <td>United States of America</td>\n",
       "      <td>36</td>\n",
       "      <td>31</td>\n",
       "      <td>27</td>\n",
       "      <td>94.0</td>\n",
       "      <td>1988</td>\n",
       "      <td>21376.0</td>\n",
       "    </tr>\n",
       "    <tr>\n",
       "      <th>380</th>\n",
       "      <td>United States of America</td>\n",
       "      <td>37</td>\n",
       "      <td>34</td>\n",
       "      <td>37</td>\n",
       "      <td>108.0</td>\n",
       "      <td>1992</td>\n",
       "      <td>25393.0</td>\n",
       "    </tr>\n",
       "    <tr>\n",
       "      <th>449</th>\n",
       "      <td>United States of America</td>\n",
       "      <td>44</td>\n",
       "      <td>32</td>\n",
       "      <td>25</td>\n",
       "      <td>101.0</td>\n",
       "      <td>1996</td>\n",
       "      <td>29947.0</td>\n",
       "    </tr>\n",
       "    <tr>\n",
       "      <th>523</th>\n",
       "      <td>United States of America</td>\n",
       "      <td>37</td>\n",
       "      <td>24</td>\n",
       "      <td>32</td>\n",
       "      <td>93.0</td>\n",
       "      <td>2000</td>\n",
       "      <td>36313.0</td>\n",
       "    </tr>\n",
       "    <tr>\n",
       "      <th>590</th>\n",
       "      <td>United States of America</td>\n",
       "      <td>36</td>\n",
       "      <td>39</td>\n",
       "      <td>26</td>\n",
       "      <td>101.0</td>\n",
       "      <td>2004</td>\n",
       "      <td>41642.0</td>\n",
       "    </tr>\n",
       "    <tr>\n",
       "      <th>672</th>\n",
       "      <td>United States of America</td>\n",
       "      <td>36</td>\n",
       "      <td>39</td>\n",
       "      <td>37</td>\n",
       "      <td>112.0</td>\n",
       "      <td>2008</td>\n",
       "      <td>48471.0</td>\n",
       "    </tr>\n",
       "    <tr>\n",
       "      <th>753</th>\n",
       "      <td>United States of America</td>\n",
       "      <td>46</td>\n",
       "      <td>28</td>\n",
       "      <td>30</td>\n",
       "      <td>104.0</td>\n",
       "      <td>2012</td>\n",
       "      <td>51737.0</td>\n",
       "    </tr>\n",
       "    <tr>\n",
       "      <th>832</th>\n",
       "      <td>United States of America</td>\n",
       "      <td>46</td>\n",
       "      <td>37</td>\n",
       "      <td>38</td>\n",
       "      <td>121.0</td>\n",
       "      <td>2016</td>\n",
       "      <td>57840.0</td>\n",
       "    </tr>\n",
       "    <tr>\n",
       "      <th>916</th>\n",
       "      <td>United States of America</td>\n",
       "      <td>39</td>\n",
       "      <td>41</td>\n",
       "      <td>33</td>\n",
       "      <td>113.0</td>\n",
       "      <td>2021</td>\n",
       "      <td>69227.0</td>\n",
       "    </tr>\n",
       "  </tbody>\n",
       "</table>\n",
       "</div>"
      ],
      "text/plain": [
       "                         País  Oro  Plata  Bronce  Total   Año  PIB per cápita\n",
       "37   United States of America   34     21      16   71.0  1960          3014.0\n",
       "76   United States of America   36     26      28   90.0  1964          3582.0\n",
       "117  United States of America   45     28      34  107.0  1968          4720.0\n",
       "163  United States of America   33     31      30   94.0  1972          6112.0\n",
       "198  United States of America   34     35      25   94.0  1976          8611.0\n",
       "272  United States of America   82     61      30  173.0  1984         17086.0\n",
       "322  United States of America   36     31      27   94.0  1988         21376.0\n",
       "380  United States of America   37     34      37  108.0  1992         25393.0\n",
       "449  United States of America   44     32      25  101.0  1996         29947.0\n",
       "523  United States of America   37     24      32   93.0  2000         36313.0\n",
       "590  United States of America   36     39      26  101.0  2004         41642.0\n",
       "672  United States of America   36     39      37  112.0  2008         48471.0\n",
       "753  United States of America   46     28      30  104.0  2012         51737.0\n",
       "832  United States of America   46     37      38  121.0  2016         57840.0\n",
       "916  United States of America   39     41      33  113.0  2021         69227.0"
      ]
     },
     "execution_count": 119,
     "metadata": {},
     "output_type": "execute_result"
    }
   ],
   "source": [
    "df_medallas_pib[df_medallas_pib[\"País\"]==\"United States of America\"]"
   ]
  },
  {
   "cell_type": "code",
   "execution_count": 120,
   "metadata": {},
   "outputs": [],
   "source": [
    "df_medallas_pib=df_medallas_pib[df_medallas_pib[\"País\"].isin(paises_mas_representados)]"
   ]
  },
  {
   "cell_type": "code",
   "execution_count": 121,
   "metadata": {},
   "outputs": [
    {
     "data": {
      "text/html": [
       "<div>\n",
       "<style scoped>\n",
       "    .dataframe tbody tr th:only-of-type {\n",
       "        vertical-align: middle;\n",
       "    }\n",
       "\n",
       "    .dataframe tbody tr th {\n",
       "        vertical-align: top;\n",
       "    }\n",
       "\n",
       "    .dataframe thead th {\n",
       "        text-align: right;\n",
       "    }\n",
       "</style>\n",
       "<table border=\"1\" class=\"dataframe\">\n",
       "  <thead>\n",
       "    <tr style=\"text-align: right;\">\n",
       "      <th></th>\n",
       "      <th>País</th>\n",
       "      <th>Oro</th>\n",
       "      <th>Plata</th>\n",
       "      <th>Bronce</th>\n",
       "      <th>Total</th>\n",
       "      <th>Año</th>\n",
       "      <th>PIB per cápita</th>\n",
       "    </tr>\n",
       "  </thead>\n",
       "  <tbody>\n",
       "    <tr>\n",
       "      <th>0</th>\n",
       "      <td>Argentina</td>\n",
       "      <td>0</td>\n",
       "      <td>1</td>\n",
       "      <td>1</td>\n",
       "      <td>2.0</td>\n",
       "      <td>1960</td>\n",
       "      <td>NaN</td>\n",
       "    </tr>\n",
       "    <tr>\n",
       "      <th>1</th>\n",
       "      <td>Australia</td>\n",
       "      <td>8</td>\n",
       "      <td>8</td>\n",
       "      <td>6</td>\n",
       "      <td>22.0</td>\n",
       "      <td>1960</td>\n",
       "      <td>1811.0</td>\n",
       "    </tr>\n",
       "    <tr>\n",
       "      <th>2</th>\n",
       "      <td>Austria</td>\n",
       "      <td>1</td>\n",
       "      <td>1</td>\n",
       "      <td>0</td>\n",
       "      <td>2.0</td>\n",
       "      <td>1960</td>\n",
       "      <td>933.0</td>\n",
       "    </tr>\n",
       "    <tr>\n",
       "      <th>3</th>\n",
       "      <td>Belgium</td>\n",
       "      <td>0</td>\n",
       "      <td>2</td>\n",
       "      <td>2</td>\n",
       "      <td>4.0</td>\n",
       "      <td>1960</td>\n",
       "      <td>1270.0</td>\n",
       "    </tr>\n",
       "    <tr>\n",
       "      <th>4</th>\n",
       "      <td>Brazil</td>\n",
       "      <td>0</td>\n",
       "      <td>0</td>\n",
       "      <td>2</td>\n",
       "      <td>2.0</td>\n",
       "      <td>1960</td>\n",
       "      <td>233.0</td>\n",
       "    </tr>\n",
       "    <tr>\n",
       "      <th>...</th>\n",
       "      <td>...</td>\n",
       "      <td>...</td>\n",
       "      <td>...</td>\n",
       "      <td>...</td>\n",
       "      <td>...</td>\n",
       "      <td>...</td>\n",
       "      <td>...</td>\n",
       "    </tr>\n",
       "    <tr>\n",
       "      <th>900</th>\n",
       "      <td>Romania</td>\n",
       "      <td>1</td>\n",
       "      <td>3</td>\n",
       "      <td>0</td>\n",
       "      <td>4.0</td>\n",
       "      <td>2021</td>\n",
       "      <td>14795.0</td>\n",
       "    </tr>\n",
       "    <tr>\n",
       "      <th>907</th>\n",
       "      <td>Spain</td>\n",
       "      <td>3</td>\n",
       "      <td>8</td>\n",
       "      <td>6</td>\n",
       "      <td>17.0</td>\n",
       "      <td>2021</td>\n",
       "      <td>30090.0</td>\n",
       "    </tr>\n",
       "    <tr>\n",
       "      <th>908</th>\n",
       "      <td>Sweden</td>\n",
       "      <td>3</td>\n",
       "      <td>6</td>\n",
       "      <td>0</td>\n",
       "      <td>9.0</td>\n",
       "      <td>2021</td>\n",
       "      <td>60816.0</td>\n",
       "    </tr>\n",
       "    <tr>\n",
       "      <th>909</th>\n",
       "      <td>Switzerland</td>\n",
       "      <td>3</td>\n",
       "      <td>4</td>\n",
       "      <td>6</td>\n",
       "      <td>13.0</td>\n",
       "      <td>2021</td>\n",
       "      <td>91546.0</td>\n",
       "    </tr>\n",
       "    <tr>\n",
       "      <th>916</th>\n",
       "      <td>United States of America</td>\n",
       "      <td>39</td>\n",
       "      <td>41</td>\n",
       "      <td>33</td>\n",
       "      <td>113.0</td>\n",
       "      <td>2021</td>\n",
       "      <td>69227.0</td>\n",
       "    </tr>\n",
       "  </tbody>\n",
       "</table>\n",
       "<p>365 rows × 7 columns</p>\n",
       "</div>"
      ],
      "text/plain": [
       "                         País  Oro  Plata  Bronce  Total   Año  PIB per cápita\n",
       "0                   Argentina    0      1       1    2.0  1960             NaN\n",
       "1                   Australia    8      8       6   22.0  1960          1811.0\n",
       "2                     Austria    1      1       0    2.0  1960           933.0\n",
       "3                     Belgium    0      2       2    4.0  1960          1270.0\n",
       "4                      Brazil    0      0       2    2.0  1960           233.0\n",
       "..                        ...  ...    ...     ...    ...   ...             ...\n",
       "900                   Romania    1      3       0    4.0  2021         14795.0\n",
       "907                     Spain    3      8       6   17.0  2021         30090.0\n",
       "908                    Sweden    3      6       0    9.0  2021         60816.0\n",
       "909               Switzerland    3      4       6   13.0  2021         91546.0\n",
       "916  United States of America   39     41      33  113.0  2021         69227.0\n",
       "\n",
       "[365 rows x 7 columns]"
      ]
     },
     "execution_count": 121,
     "metadata": {},
     "output_type": "execute_result"
    }
   ],
   "source": [
    "df_medallas_pib"
   ]
  },
  {
   "cell_type": "code",
   "execution_count": 127,
   "metadata": {},
   "outputs": [
    {
     "name": "stderr",
     "output_type": "stream",
     "text": [
      "C:\\Users\\Admin\\AppData\\Roaming\\Python\\Python37\\site-packages\\ipykernel_launcher.py:2: SettingWithCopyWarning:\n",
      "\n",
      "\n",
      "A value is trying to be set on a copy of a slice from a DataFrame.\n",
      "Try using .loc[row_indexer,col_indexer] = value instead\n",
      "\n",
      "See the caveats in the documentation: https://pandas.pydata.org/pandas-docs/stable/user_guide/indexing.html#returning-a-view-versus-a-copy\n",
      "\n",
      "C:\\Users\\Admin\\AppData\\Roaming\\Python\\Python37\\site-packages\\ipykernel_launcher.py:5: SettingWithCopyWarning:\n",
      "\n",
      "\n",
      "A value is trying to be set on a copy of a slice from a DataFrame.\n",
      "Try using .loc[row_indexer,col_indexer] = value instead\n",
      "\n",
      "See the caveats in the documentation: https://pandas.pydata.org/pandas-docs/stable/user_guide/indexing.html#returning-a-view-versus-a-copy\n",
      "\n",
      "C:\\Users\\Admin\\AppData\\Roaming\\Python\\Python37\\site-packages\\ipykernel_launcher.py:6: SettingWithCopyWarning:\n",
      "\n",
      "\n",
      "A value is trying to be set on a copy of a slice from a DataFrame.\n",
      "Try using .loc[row_indexer,col_indexer] = value instead\n",
      "\n",
      "See the caveats in the documentation: https://pandas.pydata.org/pandas-docs/stable/user_guide/indexing.html#returning-a-view-versus-a-copy\n",
      "\n"
     ]
    },
    {
     "data": {
      "application/vnd.plotly.v1+json": {
       "config": {
        "plotlyServerURL": "https://plot.ly"
       },
       "data": [
        {
         "customdata": [
          [
           "Argentina",
           1960
          ],
          [
           "Argentina",
           1964
          ],
          [
           "Argentina",
           1968
          ],
          [
           "Argentina",
           1972
          ],
          [
           "Argentina",
           1988
          ],
          [
           "Argentina",
           1992
          ],
          [
           "Argentina",
           1996
          ],
          [
           "Argentina",
           2000
          ],
          [
           "Argentina",
           2004
          ],
          [
           "Argentina",
           2008
          ],
          [
           "Argentina",
           2012
          ],
          [
           "Argentina",
           2016
          ],
          [
           "Argentina",
           2021
          ]
         ],
         "hovertemplate": "País=%{customdata[0]}<br>PIB_relativo=%{x}<br>Medallas_relativas=%{y}<br>Año=%{customdata[1]}<extra></extra>",
         "legendgroup": "Argentina",
         "marker": {
          "color": "#1f77b4",
          "symbol": "circle"
         },
         "mode": "markers",
         "name": "Argentina",
         "orientation": "v",
         "showlegend": true,
         "type": "scatter",
         "x": [
          null,
          0.3294249022892239,
          0.2423728813559322,
          0.23085732984293195,
          0.13795206440202476,
          0.18721718073526894,
          0.17946109773312297,
          0.22053455185969928,
          0.07874849403088606,
          0.12250719882140226,
          0.1609856167638298,
          0.1546911143137421,
          0.1161820287068796
         ],
         "xaxis": "x",
         "y": [
          0.019417475728155338,
          0.010752688172043012,
          0.018691588785046728,
          0.010101010101010102,
          0.015151515151515152,
          0.009259259259259259,
          0.0297029702970297,
          0.043010752688172046,
          0.0594059405940594,
          0.05357142857142857,
          0.038461538461538464,
          0.03305785123966942,
          0.02654867256637168
         ],
         "yaxis": "y"
        },
        {
         "customdata": [
          [
           "Australia",
           1960
          ],
          [
           "Australia",
           1964
          ],
          [
           "Australia",
           1968
          ],
          [
           "Australia",
           1972
          ],
          [
           "Australia",
           1976
          ],
          [
           "Australia",
           1980
          ],
          [
           "Australia",
           1984
          ],
          [
           "Australia",
           1988
          ],
          [
           "Australia",
           1992
          ],
          [
           "Australia",
           1996
          ],
          [
           "Australia",
           2000
          ],
          [
           "Australia",
           2004
          ],
          [
           "Australia",
           2008
          ],
          [
           "Australia",
           2012
          ],
          [
           "Australia",
           2016
          ],
          [
           "Australia",
           2021
          ]
         ],
         "hovertemplate": "País=%{customdata[0]}<br>PIB_relativo=%{x}<br>Medallas_relativas=%{y}<br>Año=%{customdata[1]}<extra></extra>",
         "legendgroup": "Australia",
         "marker": {
          "color": "#ff7f0e",
          "symbol": "circle"
         },
         "mode": "markers",
         "name": "Australia",
         "orientation": "v",
         "showlegend": true,
         "type": "scatter",
         "x": [
          0.6008626410086264,
          0.5949190396426577,
          0.5771186440677966,
          0.6461060209424084,
          0.6900460829493088,
          0.566222267977557,
          0.7355144562799953,
          0.49506007196438373,
          0.4428980260744075,
          0.480652661297019,
          0.5329946646925178,
          0.599521740717754,
          0.6585280921449139,
          0.7932337362802935,
          0.6276537767497063,
          0.6932471107421405
         ],
         "xaxis": "x",
         "y": [
          0.21359223300970873,
          0.1935483870967742,
          0.1588785046728972,
          0.1717171717171717,
          0.04032258064516129,
          0.046153846153846156,
          0.13872832369942195,
          0.10606060606060606,
          0.25,
          0.40594059405940597,
          0.6236559139784946,
          0.49504950495049505,
          0.4107142857142857,
          0.33653846153846156,
          0.2396694214876033,
          0.40707964601769914
         ],
         "yaxis": "y"
        },
        {
         "customdata": [
          [
           "Austria",
           1960
          ],
          [
           "Austria",
           1968
          ],
          [
           "Austria",
           1972
          ],
          [
           "Austria",
           1976
          ],
          [
           "Austria",
           1980
          ],
          [
           "Austria",
           1984
          ],
          [
           "Austria",
           1988
          ],
          [
           "Austria",
           1992
          ],
          [
           "Austria",
           1996
          ],
          [
           "Austria",
           2000
          ],
          [
           "Austria",
           2004
          ],
          [
           "Austria",
           2008
          ],
          [
           "Austria",
           2016
          ],
          [
           "Austria",
           2021
          ]
         ],
         "hovertemplate": "País=%{customdata[0]}<br>PIB_relativo=%{x}<br>Medallas_relativas=%{y}<br>Año=%{customdata[1]}<extra></extra>",
         "legendgroup": "Austria",
         "marker": {
          "color": "#2ca02c",
          "symbol": "circle"
         },
         "mode": "markers",
         "name": "Austria",
         "orientation": "v",
         "showlegend": true,
         "type": "scatter",
         "x": [
          0.3095554080955541,
          0.3548728813559322,
          0.4769306282722513,
          0.5233179723502304,
          0.5524270345395583,
          0.5198993327870771,
          0.537689821308776,
          0.6131643959592007,
          0.6190525616540729,
          0.6289025604370357,
          0.6732868460443211,
          0.6952923056318221,
          0.5483644378777053,
          0.5825705109999345
         ],
         "xaxis": "x",
         "y": [
          0.019417475728155338,
          0.037383177570093455,
          0.030303030303030304,
          0.008064516129032258,
          0.020512820512820513,
          0.017341040462427744,
          0.007575757575757576,
          0.018518518518518517,
          0.0297029702970297,
          0.03225806451612903,
          0.06930693069306931,
          0.026785714285714284,
          0.008264462809917356,
          0.061946902654867256
         ],
         "yaxis": "y"
        },
        {
         "customdata": [
          [
           "Belgium",
           1960
          ],
          [
           "Belgium",
           1964
          ],
          [
           "Belgium",
           1968
          ],
          [
           "Belgium",
           1972
          ],
          [
           "Belgium",
           1976
          ],
          [
           "Belgium",
           1980
          ],
          [
           "Belgium",
           1984
          ],
          [
           "Belgium",
           1988
          ],
          [
           "Belgium",
           1992
          ],
          [
           "Belgium",
           1996
          ],
          [
           "Belgium",
           2000
          ],
          [
           "Belgium",
           2004
          ],
          [
           "Belgium",
           2008
          ],
          [
           "Belgium",
           2012
          ],
          [
           "Belgium",
           2016
          ],
          [
           "Belgium",
           2021
          ]
         ],
         "hovertemplate": "País=%{customdata[0]}<br>PIB_relativo=%{x}<br>Medallas_relativas=%{y}<br>Año=%{customdata[1]}<extra></extra>",
         "legendgroup": "Belgium",
         "marker": {
          "color": "#d62728",
          "symbol": "circle"
         },
         "mode": "markers",
         "name": "Belgium",
         "orientation": "v",
         "showlegend": true,
         "type": "scatter",
         "x": [
          0.42136695421366954,
          0.47264098269123395,
          0.4701271186440678,
          0.6258180628272252,
          0.6671889400921659,
          0.6449271632264374,
          0.4825588200866206,
          0.48816856742086967,
          0.5582515960179047,
          0.5715976085692933,
          0.5906364077298139,
          0.6479865649300866,
          0.6494743186231835,
          0.5195118276329667,
          0.5095735791016216,
          0.566371004740786
         ],
         "xaxis": "x",
         "y": [
          0.038834951456310676,
          0.03225806451612903,
          0.018691588785046728,
          0.020202020202020204,
          0.04838709677419355,
          0.005128205128205128,
          0.023121387283236993,
          0.015151515151515152,
          0.027777777777777776,
          0.0594059405940594,
          0.053763440860215055,
          0.0297029702970297,
          0.017857142857142856,
          0.028846153846153848,
          0.049586776859504134,
          0.061946902654867256
         ],
         "yaxis": "y"
        },
        {
         "customdata": [
          [
           "Brazil",
           1960
          ],
          [
           "Brazil",
           1964
          ],
          [
           "Brazil",
           1968
          ],
          [
           "Brazil",
           1972
          ],
          [
           "Brazil",
           1976
          ],
          [
           "Brazil",
           1980
          ],
          [
           "Brazil",
           1984
          ],
          [
           "Brazil",
           1988
          ],
          [
           "Brazil",
           1992
          ],
          [
           "Brazil",
           1996
          ],
          [
           "Brazil",
           2000
          ],
          [
           "Brazil",
           2004
          ],
          [
           "Brazil",
           2008
          ],
          [
           "Brazil",
           2012
          ],
          [
           "Brazil",
           2016
          ],
          [
           "Brazil",
           2021
          ]
         ],
         "hovertemplate": "País=%{customdata[0]}<br>PIB_relativo=%{x}<br>Medallas_relativas=%{y}<br>Año=%{customdata[1]}<extra></extra>",
         "legendgroup": "Brazil",
         "marker": {
          "color": "#9467bd",
          "symbol": "circle"
         },
         "mode": "markers",
         "name": "Brazil",
         "orientation": "v",
         "showlegend": true,
         "type": "scatter",
         "x": [
          0.07730590577305906,
          0.0711892797319933,
          0.07838983050847458,
          0.0944044502617801,
          0.12682027649769587,
          0.06331394451021774,
          0.06473135900737446,
          0.06979935354028176,
          0.061737152361617295,
          0.10805031968778543,
          0.09629081254946009,
          0.06681026614581431,
          0.11890443983124624,
          0.14400621225994134,
          0.1060541836722336,
          0.08195879667052629
         ],
         "xaxis": "x",
         "y": [
          0.019417475728155338,
          0.010752688172043012,
          0.028037383177570093,
          0.020202020202020204,
          0.016129032258064516,
          0.020512820512820513,
          0.046242774566473986,
          0.045454545454545456,
          0.027777777777777776,
          0.1485148514851485,
          0.12903225806451613,
          0.09900990099009901,
          0.15178571428571427,
          0.16346153846153846,
          0.15702479338842976,
          0.18584070796460178
         ],
         "yaxis": "y"
        },
        {
         "customdata": [
          [
           "Canada",
           1960
          ],
          [
           "Canada",
           1964
          ],
          [
           "Canada",
           1968
          ],
          [
           "Canada",
           1972
          ],
          [
           "Canada",
           1976
          ],
          [
           "Canada",
           1984
          ],
          [
           "Canada",
           1988
          ],
          [
           "Canada",
           1992
          ],
          [
           "Canada",
           1996
          ],
          [
           "Canada",
           2000
          ],
          [
           "Canada",
           2004
          ],
          [
           "Canada",
           2008
          ],
          [
           "Canada",
           2012
          ],
          [
           "Canada",
           2016
          ],
          [
           "Canada",
           2021
          ]
         ],
         "hovertemplate": "País=%{customdata[0]}<br>PIB_relativo=%{x}<br>Medallas_relativas=%{y}<br>Año=%{customdata[1]}<extra></extra>",
         "legendgroup": "Canada",
         "marker": {
          "color": "#8c564b",
          "symbol": "circle"
         },
         "mode": "markers",
         "name": "Canada",
         "orientation": "v",
         "showlegend": true,
         "type": "scatter",
         "x": [
          0.7455209024552091,
          0.7099385817978783,
          0.7311440677966101,
          0.8327879581151832,
          0.811889400921659,
          0.816282336415779,
          0.5806245044825273,
          0.5132940341951422,
          0.44270530598688035,
          0.6202486406453425,
          0.5873644627797452,
          0.6264514832920378,
          0.6113049222888005,
          0.5132915914788485,
          0.5681843007886745
         ],
         "xaxis": "x",
         "y": [
          0.009708737864077669,
          0.043010752688172046,
          0.04672897196261682,
          0.050505050505050504,
          0.08870967741935484,
          0.2543352601156069,
          0.07575757575757576,
          0.16666666666666666,
          0.21782178217821782,
          0.15053763440860216,
          0.1188118811881188,
          0.17857142857142858,
          0.17307692307692307,
          0.18181818181818182,
          0.21238938053097345
         ],
         "yaxis": "y"
        },
        {
         "customdata": [
          [
           "Denmark",
           1960
          ],
          [
           "Denmark",
           1964
          ],
          [
           "Denmark",
           1968
          ],
          [
           "Denmark",
           1972
          ],
          [
           "Denmark",
           1976
          ],
          [
           "Denmark",
           1980
          ],
          [
           "Denmark",
           1984
          ],
          [
           "Denmark",
           1988
          ],
          [
           "Denmark",
           1992
          ],
          [
           "Denmark",
           1996
          ],
          [
           "Denmark",
           2000
          ],
          [
           "Denmark",
           2004
          ],
          [
           "Denmark",
           2008
          ],
          [
           "Denmark",
           2012
          ],
          [
           "Denmark",
           2016
          ],
          [
           "Denmark",
           2021
          ]
         ],
         "hovertemplate": "País=%{customdata[0]}<br>PIB_relativo=%{x}<br>Medallas_relativas=%{y}<br>Año=%{customdata[1]}<extra></extra>",
         "legendgroup": "Denmark",
         "marker": {
          "color": "#e377c2",
          "symbol": "circle"
         },
         "mode": "markers",
         "name": "Denmark",
         "orientation": "v",
         "showlegend": true,
         "type": "scatter",
         "x": [
          0.45122760451227606,
          0.5597431602456728,
          0.5866525423728813,
          0.7589986910994765,
          0.8087557603686636,
          0.7147784011942142,
          0.6766943696593702,
          0.6869549307800208,
          0.7245554386908984,
          0.7417794569459437,
          0.7862303116942793,
          0.8501150012777919,
          0.8642737561106275,
          0.6794427510112308,
          0.6644342444683969,
          0.7450025123981386
         ],
         "xaxis": "x",
         "y": [
          0.05825242718446602,
          0.06451612903225806,
          0.07476635514018691,
          0.010101010101010102,
          0.024193548387096774,
          0.02564102564102564,
          0.03468208092485549,
          0.030303030303030304,
          0.05555555555555555,
          0.0594059405940594,
          0.06451612903225806,
          0.07920792079207921,
          0.0625,
          0.08653846153846154,
          0.12396694214876033,
          0.09734513274336283
         ],
         "yaxis": "y"
        },
        {
         "customdata": [
          [
           "Finland",
           1960
          ],
          [
           "Finland",
           1964
          ],
          [
           "Finland",
           1968
          ],
          [
           "Finland",
           1972
          ],
          [
           "Finland",
           1976
          ],
          [
           "Finland",
           1980
          ],
          [
           "Finland",
           1984
          ],
          [
           "Finland",
           1988
          ],
          [
           "Finland",
           1992
          ],
          [
           "Finland",
           1996
          ],
          [
           "Finland",
           2000
          ],
          [
           "Finland",
           2004
          ],
          [
           "Finland",
           2008
          ],
          [
           "Finland",
           2012
          ],
          [
           "Finland",
           2016
          ],
          [
           "Finland",
           2021
          ]
         ],
         "hovertemplate": "País=%{customdata[0]}<br>PIB_relativo=%{x}<br>Medallas_relativas=%{y}<br>Año=%{customdata[1]}<extra></extra>",
         "legendgroup": "Finland",
         "marker": {
          "color": "#7f7f7f",
          "symbol": "circle"
         },
         "mode": "markers",
         "name": "Finland",
         "orientation": "v",
         "showlegend": true,
         "type": "scatter",
         "x": [
          0.38984737889847376,
          0.47571189279731996,
          0.4033898305084746,
          0.518324607329843,
          0.6204608294930876,
          0.5795027538992125,
          0.637363923680206,
          0.6746051106909801,
          0.5502531614607539,
          0.5362658805945363,
          0.6223674469660225,
          0.6902997334891022,
          0.7218643273287351,
          0.5545948702495335,
          0.5312518923108598,
          0.5873986848141918
         ],
         "xaxis": "x",
         "y": [
          0.04854368932038835,
          0.053763440860215055,
          0.037383177570093455,
          0.08080808080808081,
          0.04838709677419355,
          0.041025641025641026,
          0.06936416184971098,
          0.030303030303030304,
          0.046296296296296294,
          0.039603960396039604,
          0.043010752688172046,
          0.019801980198019802,
          0.03571428571428571,
          0.028846153846153848,
          0.008264462809917356,
          0.017699115044247787
         ],
         "yaxis": "y"
        },
        {
         "customdata": [
          [
           "France",
           1960
          ],
          [
           "France",
           1964
          ],
          [
           "France",
           1968
          ],
          [
           "France",
           1972
          ],
          [
           "France",
           1976
          ],
          [
           "France",
           1980
          ],
          [
           "France",
           1984
          ],
          [
           "France",
           1988
          ],
          [
           "France",
           1992
          ],
          [
           "France",
           1996
          ],
          [
           "France",
           2000
          ],
          [
           "France",
           2004
          ],
          [
           "France",
           2008
          ],
          [
           "France",
           2012
          ],
          [
           "France",
           2016
          ],
          [
           "France",
           2021
          ]
         ],
         "hovertemplate": "País=%{customdata[0]}<br>PIB_relativo=%{x}<br>Medallas_relativas=%{y}<br>Año=%{customdata[1]}<extra></extra>",
         "legendgroup": "France",
         "marker": {
          "color": "#bcbd22",
          "symbol": "circle"
         },
         "mode": "markers",
         "name": "France",
         "orientation": "v",
         "showlegend": true,
         "type": "scatter",
         "x": [
          0.4429329794293298,
          0.5332216638749302,
          0.5372881355932203,
          0.630726439790576,
          0.6329032258064516,
          0.6727750038606064,
          0.5675406765773148,
          0.5562297981338049,
          0.6014969547244576,
          0.5754587727310471,
          0.5925509917545247,
          0.6391880544704465,
          0.631554275765084,
          0.4910930564087111,
          0.46443666662629735,
          0.49360976995171824
         ],
         "xaxis": "x",
         "y": [
          0.04854368932038835,
          0.16129032258064516,
          0.14018691588785046,
          0.13131313131313133,
          0.07258064516129033,
          0.07179487179487179,
          0.16184971098265896,
          0.12121212121212122,
          0.26851851851851855,
          0.36633663366336633,
          0.40860215053763443,
          0.32673267326732675,
          0.38392857142857145,
          0.33653846153846156,
          0.34710743801652894,
          0.2920353982300885
         ],
         "yaxis": "y"
        },
        {
         "customdata": [
          [
           "Germany",
           1960
          ],
          [
           "Germany",
           1964
          ],
          [
           "Germany",
           1968
          ],
          [
           "Germany",
           1968
          ],
          [
           "Germany",
           1972
          ],
          [
           "Germany",
           1972
          ],
          [
           "Germany",
           1976
          ],
          [
           "Germany",
           1976
          ],
          [
           "Germany",
           1980
          ],
          [
           "Germany",
           1984
          ],
          [
           "Germany",
           1988
          ],
          [
           "Germany",
           1988
          ],
          [
           "Germany",
           1992
          ],
          [
           "Germany",
           1996
          ],
          [
           "Germany",
           2000
          ],
          [
           "Germany",
           2004
          ],
          [
           "Germany",
           2008
          ],
          [
           "Germany",
           2012
          ],
          [
           "Germany",
           2016
          ],
          [
           "Germany",
           2021
          ]
         ],
         "hovertemplate": "País=%{customdata[0]}<br>PIB_relativo=%{x}<br>Medallas_relativas=%{y}<br>Año=%{customdata[1]}<extra></extra>",
         "legendgroup": "Germany",
         "marker": {
          "color": "#17becf",
          "symbol": "circle"
         },
         "mode": "markers",
         "name": "Germany",
         "orientation": "v",
         "showlegend": true,
         "type": "scatter",
         "x": [
          null,
          null,
          null,
          null,
          0.793520942408377,
          0.793520942408377,
          0.77963133640553,
          0.77963133640553,
          0.5718844906573326,
          0.4997073627531312,
          0.5035982191864365,
          0.5035982191864365,
          0.6491206613996038,
          0.6365523540646019,
          0.6107523038827763,
          0.6304077981818845,
          0.6210138619165606,
          0.5086056026239845,
          0.5101548969977353,
          0.5596967644681362
         ],
         "xaxis": "x",
         "y": [
          0.4077669902912621,
          0.5376344086021505,
          0.24299065420560748,
          0.2336448598130841,
          0.40404040404040403,
          0.6666666666666666,
          0.31451612903225806,
          0.7258064516129032,
          0.6461538461538462,
          0.34104046242774566,
          0.30303030303030304,
          0.7727272727272727,
          0.7592592592592593,
          0.6435643564356436,
          0.6021505376344086,
          0.48514851485148514,
          0.36607142857142855,
          0.4230769230769231,
          0.34710743801652894,
          0.3274336283185841
         ],
         "yaxis": "y"
        },
        {
         "customdata": [
          [
           "Great Britain",
           1960
          ],
          [
           "Great Britain",
           1964
          ],
          [
           "Great Britain",
           1968
          ],
          [
           "Great Britain",
           1972
          ],
          [
           "Great Britain",
           1976
          ],
          [
           "Great Britain",
           1980
          ],
          [
           "Great Britain",
           1984
          ],
          [
           "Great Britain",
           1988
          ],
          [
           "Great Britain",
           1992
          ],
          [
           "Great Britain",
           1996
          ],
          [
           "Great Britain",
           2000
          ],
          [
           "Great Britain",
           2004
          ],
          [
           "Great Britain",
           2008
          ],
          [
           "Great Britain",
           2012
          ],
          [
           "Great Britain",
           2016
          ],
          [
           "Great Britain",
           2021
          ]
         ],
         "hovertemplate": "País=%{customdata[0]}<br>PIB_relativo=%{x}<br>Medallas_relativas=%{y}<br>Año=%{customdata[1]}<extra></extra>",
         "legendgroup": "Great Britain",
         "marker": {
          "color": "#1f77b4",
          "symbol": "circle"
         },
         "mode": "markers",
         "name": "Great Britain",
         "orientation": "v",
         "showlegend": true,
         "type": "scatter",
         "x": [
          0.4618447246184472,
          0.486320491345617,
          0.4125,
          0.4950916230366492,
          0.3814746543778802,
          0.5515519637617748,
          0.5231768699520075,
          0.5305238763188388,
          0.5488344788787516,
          0.5078676409532509,
          0.7219258162509892,
          0.7377423241210617,
          0.6433938257550392,
          0.4947902782767933,
          0.5041721669835657,
          0.5099185109125467
         ],
         "xaxis": "x",
         "y": [
          0.1941747572815534,
          0.1935483870967742,
          0.12149532710280374,
          0.18181818181818182,
          0.10483870967741936,
          0.1076923076923077,
          0.2138728323699422,
          0.18181818181818182,
          0.18518518518518517,
          0.1485148514851485,
          0.3010752688172043,
          0.297029702970297,
          0.45535714285714285,
          0.625,
          0.5537190082644629,
          0.5663716814159292
         ],
         "yaxis": "y"
        },
        {
         "customdata": [
          [
           "Hungary",
           1960
          ],
          [
           "Hungary",
           1964
          ],
          [
           "Hungary",
           1968
          ],
          [
           "Hungary",
           1972
          ],
          [
           "Hungary",
           1976
          ],
          [
           "Hungary",
           1980
          ],
          [
           "Hungary",
           1988
          ],
          [
           "Hungary",
           1992
          ],
          [
           "Hungary",
           1996
          ],
          [
           "Hungary",
           2000
          ],
          [
           "Hungary",
           2004
          ],
          [
           "Hungary",
           2008
          ],
          [
           "Hungary",
           2012
          ],
          [
           "Hungary",
           2016
          ],
          [
           "Hungary",
           2021
          ]
         ],
         "hovertemplate": "País=%{customdata[0]}<br>PIB_relativo=%{x}<br>Medallas_relativas=%{y}<br>Año=%{customdata[1]}<extra></extra>",
         "legendgroup": "Hungary",
         "marker": {
          "color": "#ff7f0e",
          "symbol": "circle"
         },
         "mode": "markers",
         "name": "Hungary",
         "orientation": "v",
         "showlegend": true,
         "type": "scatter",
         "x": [
          null,
          null,
          0.09661016949152543,
          0.11109293193717278,
          0.11004608294930876,
          0.11072219076542955,
          0.08657071415502836,
          0.09130934618301005,
          0.09385119986714274,
          0.11791284813519516,
          0.18757986199846666,
          0.2108484564387598,
          0.14992872127119528,
          0.1584817914279832,
          0.20461844318703165
         ],
         "xaxis": "x",
         "y": [
          0.20388349514563106,
          0.23655913978494625,
          0.29906542056074764,
          0.35353535353535354,
          0.1774193548387097,
          0.1641025641025641,
          0.17424242424242425,
          0.2777777777777778,
          0.2079207920792079,
          0.1827956989247312,
          0.16831683168316833,
          0.08928571428571429,
          0.17307692307692307,
          0.12396694214876033,
          0.17699115044247787
         ],
         "yaxis": "y"
        },
        {
         "customdata": [
          [
           "Italy",
           1960
          ],
          [
           "Italy",
           1964
          ],
          [
           "Italy",
           1968
          ],
          [
           "Italy",
           1972
          ],
          [
           "Italy",
           1976
          ],
          [
           "Italy",
           1980
          ],
          [
           "Italy",
           1984
          ],
          [
           "Italy",
           1988
          ],
          [
           "Italy",
           1992
          ],
          [
           "Italy",
           1996
          ],
          [
           "Italy",
           2000
          ],
          [
           "Italy",
           2004
          ],
          [
           "Italy",
           2008
          ],
          [
           "Italy",
           2012
          ],
          [
           "Italy",
           2016
          ],
          [
           "Italy",
           2021
          ]
         ],
         "hovertemplate": "País=%{customdata[0]}<br>PIB_relativo=%{x}<br>Medallas_relativas=%{y}<br>Año=%{customdata[1]}<extra></extra>",
         "legendgroup": "Italy",
         "marker": {
          "color": "#2ca02c",
          "symbol": "circle"
         },
         "mode": "markers",
         "name": "Italy",
         "orientation": "v",
         "showlegend": true,
         "type": "scatter",
         "x": [
          0.2660915726609157,
          0.3397543271915131,
          0.3489406779661017,
          0.4355366492146597,
          0.3708755760368664,
          0.44057239923817365,
          0.4589137305396231,
          0.485881563700677,
          0.5654428491059854,
          0.4794071244706469,
          0.5144614913333163,
          0.572140484100617,
          0.5466952387330074,
          0.4026842526164509,
          0.37774763536834965,
          0.38914862473510586
         ],
         "xaxis": "x",
         "y": [
          0.34951456310679613,
          0.2903225806451613,
          0.14953271028037382,
          0.18181818181818182,
          0.10483870967741936,
          0.07692307692307693,
          0.18497109826589594,
          0.10606060606060606,
          0.17592592592592593,
          0.3465346534653465,
          0.3655913978494624,
          0.31683168316831684,
          0.24107142857142858,
          0.2692307692307692,
          0.23140495867768596,
          0.35398230088495575
         ],
         "yaxis": "y"
        },
        {
         "customdata": [
          [
           "Japan",
           1960
          ],
          [
           "Japan",
           1964
          ],
          [
           "Japan",
           1968
          ],
          [
           "Japan",
           1972
          ],
          [
           "Japan",
           1976
          ],
          [
           "Japan",
           1984
          ],
          [
           "Japan",
           1988
          ],
          [
           "Japan",
           1992
          ],
          [
           "Japan",
           1996
          ],
          [
           "Japan",
           2000
          ],
          [
           "Japan",
           2004
          ],
          [
           "Japan",
           2008
          ],
          [
           "Japan",
           2012
          ],
          [
           "Japan",
           2016
          ],
          [
           "Japan",
           2021
          ]
         ],
         "hovertemplate": "País=%{customdata[0]}<br>PIB_relativo=%{x}<br>Medallas_relativas=%{y}<br>Año=%{customdata[1]}<extra></extra>",
         "legendgroup": "Japan",
         "marker": {
          "color": "#d62728",
          "symbol": "circle"
         },
         "mode": "markers",
         "name": "Japan",
         "orientation": "v",
         "showlegend": true,
         "type": "scatter",
         "x": [
          0.15759787657597876,
          0.23562255723059744,
          0.30741525423728816,
          0.48543848167539266,
          0.4790783410138249,
          0.6558000702329393,
          0.7798682685857169,
          0.784409167624685,
          0.8130034044673254,
          1,
          0.6992625314884451,
          0.5356190986405946,
          0.5699400795076552,
          0.4695595305857989,
          0.42870251021344463
         ],
         "xaxis": "x",
         "y": [
          0.17475728155339806,
          0.3118279569892473,
          0.2336448598130841,
          0.29292929292929293,
          0.20161290322580644,
          0.1791907514450867,
          0.10606060606060606,
          0.2037037037037037,
          0.13861386138613863,
          0.1935483870967742,
          0.36633663366336633,
          0.22321428571428573,
          0.36538461538461536,
          0.33884297520661155,
          0.5132743362831859
         ],
         "yaxis": "y"
        },
        {
         "customdata": [
          [
           "Netherlands",
           1960
          ],
          [
           "Netherlands",
           1964
          ],
          [
           "Netherlands",
           1968
          ],
          [
           "Netherlands",
           1972
          ],
          [
           "Netherlands",
           1976
          ],
          [
           "Netherlands",
           1980
          ],
          [
           "Netherlands",
           1984
          ],
          [
           "Netherlands",
           1988
          ],
          [
           "Netherlands",
           1992
          ],
          [
           "Netherlands",
           1996
          ],
          [
           "Netherlands",
           2000
          ],
          [
           "Netherlands",
           2004
          ],
          [
           "Netherlands",
           2008
          ],
          [
           "Netherlands",
           2012
          ],
          [
           "Netherlands",
           2016
          ],
          [
           "Netherlands",
           2021
          ]
         ],
         "hovertemplate": "País=%{customdata[0]}<br>PIB_relativo=%{x}<br>Medallas_relativas=%{y}<br>Año=%{customdata[1]}<extra></extra>",
         "legendgroup": "Netherlands",
         "marker": {
          "color": "#9467bd",
          "symbol": "circle"
         },
         "mode": "markers",
         "name": "Netherlands",
         "orientation": "v",
         "showlegend": true,
         "type": "scatter",
         "x": [
          0.35235567352355673,
          0.42741485203796764,
          0.46059322033898303,
          0.668520942408377,
          0.7282949308755761,
          0.7077778349719462,
          0.579714386047056,
          0.5475391839970727,
          0.5917373969620625,
          0.6037532176368015,
          0.6720955760345135,
          0.7388740827279033,
          0.7770039509810487,
          0.5815417067488786,
          0.559094597376803,
          0.6335284993336683
         ],
         "xaxis": "x",
         "y": [
          0.02912621359223301,
          0.10752688172043011,
          0.06542056074766354,
          0.050505050505050504,
          0.04032258064516129,
          0.015384615384615385,
          0.07514450867052024,
          0.06818181818181818,
          0.1388888888888889,
          0.18811881188118812,
          0.26881720430107525,
          0.21782178217821782,
          0.14285714285714285,
          0.19230769230769232,
          0.15702479338842976,
          0.3185840707964602
         ],
         "yaxis": "y"
        },
        {
         "customdata": [
          [
           "Poland",
           1960
          ],
          [
           "Poland",
           1964
          ],
          [
           "Poland",
           1968
          ],
          [
           "Poland",
           1972
          ],
          [
           "Poland",
           1976
          ],
          [
           "Poland",
           1980
          ],
          [
           "Poland",
           1988
          ],
          [
           "Poland",
           1992
          ],
          [
           "Poland",
           1996
          ],
          [
           "Poland",
           2000
          ],
          [
           "Poland",
           2004
          ],
          [
           "Poland",
           2008
          ],
          [
           "Poland",
           2012
          ],
          [
           "Poland",
           2016
          ],
          [
           "Poland",
           2021
          ]
         ],
         "hovertemplate": "País=%{customdata[0]}<br>PIB_relativo=%{x}<br>Medallas_relativas=%{y}<br>Año=%{customdata[1]}<extra></extra>",
         "legendgroup": "Poland",
         "marker": {
          "color": "#8c564b",
          "symbol": "circle"
         },
         "mode": "markers",
         "name": "Poland",
         "orientation": "v",
         "showlegend": true,
         "type": "scatter",
         "x": [
          null,
          null,
          null,
          0.1706479057591623,
          0.1457142857142857,
          0.08210222885674577,
          0.05546746356040739,
          0.056649463102022846,
          0.08440587893382048,
          0.11449212467771169,
          0.12202913365704063,
          0.18749079220518314,
          0.1517947172610424,
          0.1506461106199513,
          0.19603259563498132
         ],
         "xaxis": "x",
         "y": [
          0.20388349514563106,
          0.24731182795698925,
          0.16822429906542055,
          0.21212121212121213,
          0.20967741935483872,
          0.1641025641025641,
          0.12121212121212122,
          0.17592592592592593,
          0.16831683168316833,
          0.15053763440860216,
          0.09900990099009901,
          0.09821428571428571,
          0.10576923076923077,
          0.09090909090909091,
          0.12389380530973451
         ],
         "yaxis": "y"
        },
        {
         "customdata": [
          [
           "Romania",
           1960
          ],
          [
           "Romania",
           1964
          ],
          [
           "Romania",
           1968
          ],
          [
           "Romania",
           1972
          ],
          [
           "Romania",
           1976
          ],
          [
           "Romania",
           1980
          ],
          [
           "Romania",
           1984
          ],
          [
           "Romania",
           1988
          ],
          [
           "Romania",
           1992
          ],
          [
           "Romania",
           1996
          ],
          [
           "Romania",
           2000
          ],
          [
           "Romania",
           2004
          ],
          [
           "Romania",
           2008
          ],
          [
           "Romania",
           2012
          ],
          [
           "Romania",
           2016
          ],
          [
           "Romania",
           2021
          ]
         ],
         "hovertemplate": "País=%{customdata[0]}<br>PIB_relativo=%{x}<br>Medallas_relativas=%{y}<br>Año=%{customdata[1]}<extra></extra>",
         "legendgroup": "Romania",
         "marker": {
          "color": "#e377c2",
          "symbol": "circle"
         },
         "mode": "markers",
         "name": "Romania",
         "orientation": "v",
         "showlegend": true,
         "type": "scatter",
         "x": [
          null,
          null,
          null,
          0.13743455497382198,
          0.10949308755760369,
          0.10562619035363155,
          0.10008193842912326,
          0.07906934195279625,
          0.020742117750654307,
          0.03248775222120734,
          0.042427181987593494,
          0.06359753203607024,
          0.13910131922587557,
          0.09841100589932894,
          0.11529471606254012,
          0.16161274113560395
         ],
         "xaxis": "x",
         "y": [
          0.0970873786407767,
          0.12903225806451613,
          0.14018691588785046,
          0.16161616161616163,
          0.21774193548387097,
          0.1282051282051282,
          0.30057803468208094,
          0.18181818181818182,
          0.16666666666666666,
          0.19801980198019803,
          0.27956989247311825,
          0.18811881188118812,
          0.08035714285714286,
          0.0673076923076923,
          0.03305785123966942,
          0.035398230088495575
         ],
         "yaxis": "y"
        },
        {
         "customdata": [
          [
           "Russian Federation",
           1960
          ],
          [
           "Russian Federation",
           1964
          ],
          [
           "Russian Federation",
           1968
          ],
          [
           "Russian Federation",
           1972
          ],
          [
           "Russian Federation",
           1976
          ],
          [
           "Russian Federation",
           1980
          ],
          [
           "Russian Federation",
           1988
          ],
          [
           "Russian Federation",
           1996
          ],
          [
           "Russian Federation",
           2000
          ],
          [
           "Russian Federation",
           2004
          ],
          [
           "Russian Federation",
           2008
          ],
          [
           "Russian Federation",
           2012
          ],
          [
           "Russian Federation",
           2016
          ]
         ],
         "hovertemplate": "País=%{customdata[0]}<br>PIB_relativo=%{x}<br>Medallas_relativas=%{y}<br>Año=%{customdata[1]}<extra></extra>",
         "legendgroup": "Russian Federation",
         "marker": {
          "color": "#7f7f7f",
          "symbol": "circle"
         },
         "mode": "markers",
         "name": "Russian Federation",
         "orientation": "v",
         "showlegend": true,
         "type": "scatter",
         "x": [
          null,
          null,
          null,
          null,
          null,
          null,
          0.11517350734890529,
          0.05785518558498713,
          0.04855385086666837,
          0.08039136942791428,
          0.16693229759592848,
          0.17718848877504897,
          0.10565452761865546
         ],
         "xaxis": "x",
         "y": [
          1,
          1,
          0.8504672897196262,
          1,
          1,
          1,
          1,
          0.6237623762376238,
          0.956989247311828,
          0.8910891089108911,
          0.5357142857142857,
          0.6346153846153846,
          0.4628099173553719
         ],
         "yaxis": "y"
        },
        {
         "customdata": [
          [
           "Spain",
           1960
          ],
          [
           "Spain",
           1972
          ],
          [
           "Spain",
           1976
          ],
          [
           "Spain",
           1980
          ],
          [
           "Spain",
           1984
          ],
          [
           "Spain",
           1988
          ],
          [
           "Spain",
           1992
          ],
          [
           "Spain",
           1996
          ],
          [
           "Spain",
           2000
          ],
          [
           "Spain",
           2004
          ],
          [
           "Spain",
           2008
          ],
          [
           "Spain",
           2012
          ],
          [
           "Spain",
           2016
          ],
          [
           "Spain",
           2021
          ]
         ],
         "hovertemplate": "País=%{customdata[0]}<br>PIB_relativo=%{x}<br>Medallas_relativas=%{y}<br>Año=%{customdata[1]}<extra></extra>",
         "legendgroup": "Spain",
         "marker": {
          "color": "#bcbd22",
          "symbol": "circle"
         },
         "mode": "markers",
         "name": "Spain",
         "orientation": "v",
         "showlegend": true,
         "type": "scatter",
         "x": [
          0.13105507631055077,
          0.2779777486910995,
          0.3006451612903226,
          0.3154372780151336,
          0.26173475359943815,
          0.29270598280173205,
          0.391678692855221,
          0.3341360126214398,
          0.37681566385010085,
          0.45511299331897337,
          0.4752427509542624,
          0.3285196045479306,
          0.3213719102348282,
          0.3286872173552094
         ],
         "xaxis": "x",
         "y": [
          0.009708737864077669,
          0.010101010101010102,
          0.016129032258064516,
          0.03076923076923077,
          0.028901734104046242,
          0.030303030303030304,
          0.2037037037037037,
          0.16831683168316833,
          0.11827956989247312,
          0.19801980198019803,
          0.16964285714285715,
          0.17307692307692307,
          0.14049586776859505,
          0.1504424778761062
         ],
         "yaxis": "y"
        },
        {
         "customdata": [
          [
           "Sweden",
           1960
          ],
          [
           "Sweden",
           1964
          ],
          [
           "Sweden",
           1968
          ],
          [
           "Sweden",
           1972
          ],
          [
           "Sweden",
           1976
          ],
          [
           "Sweden",
           1980
          ],
          [
           "Sweden",
           1984
          ],
          [
           "Sweden",
           1988
          ],
          [
           "Sweden",
           1992
          ],
          [
           "Sweden",
           1996
          ],
          [
           "Sweden",
           2000
          ],
          [
           "Sweden",
           2004
          ],
          [
           "Sweden",
           2008
          ],
          [
           "Sweden",
           2012
          ],
          [
           "Sweden",
           2016
          ],
          [
           "Sweden",
           2021
          ]
         ],
         "hovertemplate": "País=%{customdata[0]}<br>PIB_relativo=%{x}<br>Medallas_relativas=%{y}<br>Año=%{customdata[1]}<extra></extra>",
         "legendgroup": "Sweden",
         "marker": {
          "color": "#17becf",
          "symbol": "circle"
         },
         "mode": "markers",
         "name": "Sweden",
         "orientation": "v",
         "showlegend": true,
         "type": "scatter",
         "x": [
          0.7000663570006636,
          0.8174204355108877,
          0.8298728813559322,
          0.9852748691099477,
          1,
          0.8687393833324755,
          0.7594521830738616,
          0.7421784472769409,
          0.7970305505956021,
          0.6847546292452047,
          0.7553416894289434,
          0.7801285093643897,
          0.7490792205183151,
          0.670089590987587,
          0.6247956304271476,
          0.6643217617372686
         ],
         "xaxis": "x",
         "y": [
          0.05825242718446602,
          0.08602150537634409,
          0.037383177570093455,
          0.16161616161616163,
          0.04032258064516129,
          0.06153846153846154,
          0.10982658959537572,
          0.08333333333333333,
          0.1111111111111111,
          0.07920792079207921,
          0.12903225806451613,
          0.06930693069306931,
          0.044642857142857144,
          0.07692307692307693,
          0.09090909090909091,
          0.07964601769911504
         ],
         "yaxis": "y"
        },
        {
         "customdata": [
          [
           "Switzerland",
           1960
          ],
          [
           "Switzerland",
           1964
          ],
          [
           "Switzerland",
           1968
          ],
          [
           "Switzerland",
           1972
          ],
          [
           "Switzerland",
           1976
          ],
          [
           "Switzerland",
           1980
          ],
          [
           "Switzerland",
           1984
          ],
          [
           "Switzerland",
           1988
          ],
          [
           "Switzerland",
           1992
          ],
          [
           "Switzerland",
           1996
          ],
          [
           "Switzerland",
           2000
          ],
          [
           "Switzerland",
           2004
          ],
          [
           "Switzerland",
           2008
          ],
          [
           "Switzerland",
           2012
          ],
          [
           "Switzerland",
           2016
          ],
          [
           "Switzerland",
           2021
          ]
         ],
         "hovertemplate": "País=%{customdata[0]}<br>PIB_relativo=%{x}<br>Medallas_relativas=%{y}<br>Año=%{customdata[1]}<extra></extra>",
         "legendgroup": "Switzerland",
         "marker": {
          "color": "#1f77b4",
          "symbol": "circle"
         },
         "mode": "markers",
         "name": "Switzerland",
         "orientation": "v",
         "showlegend": true,
         "type": "scatter",
         "x": [
          0.5895819508958196,
          0.6934673366834171,
          0.6574152542372881,
          0.930955497382199,
          0.9752073732718894,
          1,
          0.9960786608919583,
          1,
          1,
          1,
          0.9948178592397825,
          1,
          1,
          1,
          1,
          1
         ],
         "xaxis": "x",
         "y": [
          0.05825242718446602,
          0.043010752688172046,
          0.04672897196261682,
          0.030303030303030304,
          0.03225806451612903,
          0.010256410256410256,
          0.046242774566473986,
          0.030303030303030304,
          0.009259259259259259,
          0.06930693069306931,
          0.0967741935483871,
          0.04950495049504951,
          0.0625,
          0.038461538461538464,
          0.05785123966942149,
          0.11504424778761062
         ],
         "yaxis": "y"
        },
        {
         "customdata": [
          [
           "United States of America",
           1960
          ],
          [
           "United States of America",
           1964
          ],
          [
           "United States of America",
           1968
          ],
          [
           "United States of America",
           1972
          ],
          [
           "United States of America",
           1976
          ],
          [
           "United States of America",
           1984
          ],
          [
           "United States of America",
           1988
          ],
          [
           "United States of America",
           1992
          ],
          [
           "United States of America",
           1996
          ],
          [
           "United States of America",
           2000
          ],
          [
           "United States of America",
           2004
          ],
          [
           "United States of America",
           2008
          ],
          [
           "United States of America",
           2012
          ],
          [
           "United States of America",
           2016
          ],
          [
           "United States of America",
           2021
          ]
         ],
         "hovertemplate": "País=%{customdata[0]}<br>PIB_relativo=%{x}<br>Medallas_relativas=%{y}<br>Año=%{customdata[1]}<extra></extra>",
         "legendgroup": "United States of America",
         "marker": {
          "color": "#ff7f0e",
          "symbol": "circle"
         },
         "mode": "markers",
         "name": "United States of America",
         "orientation": "v",
         "showlegend": true,
         "type": "scatter",
         "x": [
          1,
          1,
          1,
          1,
          0.7936405529953917,
          1,
          0.6518265536378606,
          0.621113910427317,
          0.6216681889894544,
          0.9269905291910244,
          0.7601401920338797,
          0.6491796691890444,
          0.599633754824353,
          0.7004880648169454,
          0.7561990693203416
         ],
         "xaxis": "x",
         "y": [
          0.6893203883495146,
          0.967741935483871,
          1,
          0.9494949494949495,
          0.7580645161290323,
          1,
          0.7121212121212122,
          1,
          1,
          1,
          1,
          1,
          1,
          1,
          1
         ],
         "yaxis": "y"
        },
        {
         "customdata": [
          [
           "Republic of Korea",
           1964
          ],
          [
           "Republic of Korea",
           1968
          ],
          [
           "Republic of Korea",
           1972
          ],
          [
           "Republic of Korea",
           1976
          ],
          [
           "Republic of Korea",
           1984
          ],
          [
           "Republic of Korea",
           1988
          ],
          [
           "Republic of Korea",
           1992
          ],
          [
           "Republic of Korea",
           1996
          ],
          [
           "Republic of Korea",
           2000
          ],
          [
           "Republic of Korea",
           2004
          ],
          [
           "Republic of Korea",
           2008
          ],
          [
           "Republic of Korea",
           2012
          ],
          [
           "Republic of Korea",
           2016
          ],
          [
           "Republic of Korea",
           2021
          ]
         ],
         "hovertemplate": "País=%{customdata[0]}<br>PIB_relativo=%{x}<br>Medallas_relativas=%{y}<br>Año=%{customdata[1]}<extra></extra>",
         "legendgroup": "Republic of Korea",
         "marker": {
          "color": "#2ca02c",
          "symbol": "circle"
         },
         "mode": "markers",
         "name": "Republic of Korea",
         "orientation": "v",
         "showlegend": true,
         "type": "scatter",
         "x": [
          0.02959240647682859,
          0.03686440677966102,
          0.05301047120418848,
          0.07686635944700461,
          0.14122673533887392,
          0.14499603586021834,
          0.1987378617029083,
          0.2781283733289048,
          0.3129961963597376,
          0.3013033478149757,
          0.28580995111498025,
          0.2950591671399265,
          0.35468869215584165,
          0.3795250475170952
         ],
         "xaxis": "x",
         "y": [
          0.03225806451612903,
          0.018691588785046728,
          0.010101010101010102,
          0.04838709677419355,
          0.10982658959537572,
          0.25,
          0.26851851851851855,
          0.26732673267326734,
          0.3010752688172043,
          0.297029702970297,
          0.2857142857142857,
          0.28846153846153844,
          0.17355371900826447,
          0.17699115044247787
         ],
         "yaxis": "y"
        },
        {
         "customdata": [
          [
           "People's Republic of China",
           1984
          ],
          [
           "People's Republic of China",
           1988
          ],
          [
           "People's Republic of China",
           1992
          ],
          [
           "People's Republic of China",
           1996
          ],
          [
           "People's Republic of China",
           2000
          ],
          [
           "People's Republic of China",
           2004
          ],
          [
           "People's Republic of China",
           2008
          ],
          [
           "People's Republic of China",
           2012
          ],
          [
           "People's Republic of China",
           2016
          ],
          [
           "People's Republic of China",
           2021
          ]
         ],
         "hovertemplate": "País=%{customdata[0]}<br>PIB_relativo=%{x}<br>Medallas_relativas=%{y}<br>Año=%{customdata[1]}<extra></extra>",
         "legendgroup": "People's Republic of China",
         "marker": {
          "color": "#d62728",
          "symbol": "circle"
         },
         "mode": "markers",
         "name": "People's Republic of China",
         "orientation": "v",
         "showlegend": true,
         "type": "scatter",
         "x": [
          0.017616762261500645,
          0.01122156492041227,
          0.01027321869725803,
          0.01459353981566055,
          0.024276925433334186,
          0.027381256617137015,
          0.046166209067166675,
          0.07282020375285404,
          0.09764929575759043,
          0.13724247919078933
         ],
         "xaxis": "x",
         "y": [
          0.18497109826589594,
          0.21212121212121213,
          0.5,
          0.49504950495049505,
          0.6236559139784946,
          0.6237623762376238,
          0.8928571428571429,
          0.875,
          0.5785123966942148,
          0.7876106194690266
         ],
         "yaxis": "y"
        }
       ],
       "layout": {
        "legend": {
         "title": {
          "text": "País"
         },
         "tracegroupgap": 0
        },
        "margin": {
         "t": 60
        },
        "template": {
         "data": {
          "bar": [
           {
            "error_x": {
             "color": "#2a3f5f"
            },
            "error_y": {
             "color": "#2a3f5f"
            },
            "marker": {
             "line": {
              "color": "#E5ECF6",
              "width": 0.5
             },
             "pattern": {
              "fillmode": "overlay",
              "size": 10,
              "solidity": 0.2
             }
            },
            "type": "bar"
           }
          ],
          "barpolar": [
           {
            "marker": {
             "line": {
              "color": "#E5ECF6",
              "width": 0.5
             },
             "pattern": {
              "fillmode": "overlay",
              "size": 10,
              "solidity": 0.2
             }
            },
            "type": "barpolar"
           }
          ],
          "carpet": [
           {
            "aaxis": {
             "endlinecolor": "#2a3f5f",
             "gridcolor": "white",
             "linecolor": "white",
             "minorgridcolor": "white",
             "startlinecolor": "#2a3f5f"
            },
            "baxis": {
             "endlinecolor": "#2a3f5f",
             "gridcolor": "white",
             "linecolor": "white",
             "minorgridcolor": "white",
             "startlinecolor": "#2a3f5f"
            },
            "type": "carpet"
           }
          ],
          "choropleth": [
           {
            "colorbar": {
             "outlinewidth": 0,
             "ticks": ""
            },
            "type": "choropleth"
           }
          ],
          "contour": [
           {
            "colorbar": {
             "outlinewidth": 0,
             "ticks": ""
            },
            "colorscale": [
             [
              0,
              "#0d0887"
             ],
             [
              0.1111111111111111,
              "#46039f"
             ],
             [
              0.2222222222222222,
              "#7201a8"
             ],
             [
              0.3333333333333333,
              "#9c179e"
             ],
             [
              0.4444444444444444,
              "#bd3786"
             ],
             [
              0.5555555555555556,
              "#d8576b"
             ],
             [
              0.6666666666666666,
              "#ed7953"
             ],
             [
              0.7777777777777778,
              "#fb9f3a"
             ],
             [
              0.8888888888888888,
              "#fdca26"
             ],
             [
              1,
              "#f0f921"
             ]
            ],
            "type": "contour"
           }
          ],
          "contourcarpet": [
           {
            "colorbar": {
             "outlinewidth": 0,
             "ticks": ""
            },
            "type": "contourcarpet"
           }
          ],
          "heatmap": [
           {
            "colorbar": {
             "outlinewidth": 0,
             "ticks": ""
            },
            "colorscale": [
             [
              0,
              "#0d0887"
             ],
             [
              0.1111111111111111,
              "#46039f"
             ],
             [
              0.2222222222222222,
              "#7201a8"
             ],
             [
              0.3333333333333333,
              "#9c179e"
             ],
             [
              0.4444444444444444,
              "#bd3786"
             ],
             [
              0.5555555555555556,
              "#d8576b"
             ],
             [
              0.6666666666666666,
              "#ed7953"
             ],
             [
              0.7777777777777778,
              "#fb9f3a"
             ],
             [
              0.8888888888888888,
              "#fdca26"
             ],
             [
              1,
              "#f0f921"
             ]
            ],
            "type": "heatmap"
           }
          ],
          "heatmapgl": [
           {
            "colorbar": {
             "outlinewidth": 0,
             "ticks": ""
            },
            "colorscale": [
             [
              0,
              "#0d0887"
             ],
             [
              0.1111111111111111,
              "#46039f"
             ],
             [
              0.2222222222222222,
              "#7201a8"
             ],
             [
              0.3333333333333333,
              "#9c179e"
             ],
             [
              0.4444444444444444,
              "#bd3786"
             ],
             [
              0.5555555555555556,
              "#d8576b"
             ],
             [
              0.6666666666666666,
              "#ed7953"
             ],
             [
              0.7777777777777778,
              "#fb9f3a"
             ],
             [
              0.8888888888888888,
              "#fdca26"
             ],
             [
              1,
              "#f0f921"
             ]
            ],
            "type": "heatmapgl"
           }
          ],
          "histogram": [
           {
            "marker": {
             "pattern": {
              "fillmode": "overlay",
              "size": 10,
              "solidity": 0.2
             }
            },
            "type": "histogram"
           }
          ],
          "histogram2d": [
           {
            "colorbar": {
             "outlinewidth": 0,
             "ticks": ""
            },
            "colorscale": [
             [
              0,
              "#0d0887"
             ],
             [
              0.1111111111111111,
              "#46039f"
             ],
             [
              0.2222222222222222,
              "#7201a8"
             ],
             [
              0.3333333333333333,
              "#9c179e"
             ],
             [
              0.4444444444444444,
              "#bd3786"
             ],
             [
              0.5555555555555556,
              "#d8576b"
             ],
             [
              0.6666666666666666,
              "#ed7953"
             ],
             [
              0.7777777777777778,
              "#fb9f3a"
             ],
             [
              0.8888888888888888,
              "#fdca26"
             ],
             [
              1,
              "#f0f921"
             ]
            ],
            "type": "histogram2d"
           }
          ],
          "histogram2dcontour": [
           {
            "colorbar": {
             "outlinewidth": 0,
             "ticks": ""
            },
            "colorscale": [
             [
              0,
              "#0d0887"
             ],
             [
              0.1111111111111111,
              "#46039f"
             ],
             [
              0.2222222222222222,
              "#7201a8"
             ],
             [
              0.3333333333333333,
              "#9c179e"
             ],
             [
              0.4444444444444444,
              "#bd3786"
             ],
             [
              0.5555555555555556,
              "#d8576b"
             ],
             [
              0.6666666666666666,
              "#ed7953"
             ],
             [
              0.7777777777777778,
              "#fb9f3a"
             ],
             [
              0.8888888888888888,
              "#fdca26"
             ],
             [
              1,
              "#f0f921"
             ]
            ],
            "type": "histogram2dcontour"
           }
          ],
          "mesh3d": [
           {
            "colorbar": {
             "outlinewidth": 0,
             "ticks": ""
            },
            "type": "mesh3d"
           }
          ],
          "parcoords": [
           {
            "line": {
             "colorbar": {
              "outlinewidth": 0,
              "ticks": ""
             }
            },
            "type": "parcoords"
           }
          ],
          "pie": [
           {
            "automargin": true,
            "type": "pie"
           }
          ],
          "scatter": [
           {
            "fillpattern": {
             "fillmode": "overlay",
             "size": 10,
             "solidity": 0.2
            },
            "type": "scatter"
           }
          ],
          "scatter3d": [
           {
            "line": {
             "colorbar": {
              "outlinewidth": 0,
              "ticks": ""
             }
            },
            "marker": {
             "colorbar": {
              "outlinewidth": 0,
              "ticks": ""
             }
            },
            "type": "scatter3d"
           }
          ],
          "scattercarpet": [
           {
            "marker": {
             "colorbar": {
              "outlinewidth": 0,
              "ticks": ""
             }
            },
            "type": "scattercarpet"
           }
          ],
          "scattergeo": [
           {
            "marker": {
             "colorbar": {
              "outlinewidth": 0,
              "ticks": ""
             }
            },
            "type": "scattergeo"
           }
          ],
          "scattergl": [
           {
            "marker": {
             "colorbar": {
              "outlinewidth": 0,
              "ticks": ""
             }
            },
            "type": "scattergl"
           }
          ],
          "scattermapbox": [
           {
            "marker": {
             "colorbar": {
              "outlinewidth": 0,
              "ticks": ""
             }
            },
            "type": "scattermapbox"
           }
          ],
          "scatterpolar": [
           {
            "marker": {
             "colorbar": {
              "outlinewidth": 0,
              "ticks": ""
             }
            },
            "type": "scatterpolar"
           }
          ],
          "scatterpolargl": [
           {
            "marker": {
             "colorbar": {
              "outlinewidth": 0,
              "ticks": ""
             }
            },
            "type": "scatterpolargl"
           }
          ],
          "scatterternary": [
           {
            "marker": {
             "colorbar": {
              "outlinewidth": 0,
              "ticks": ""
             }
            },
            "type": "scatterternary"
           }
          ],
          "surface": [
           {
            "colorbar": {
             "outlinewidth": 0,
             "ticks": ""
            },
            "colorscale": [
             [
              0,
              "#0d0887"
             ],
             [
              0.1111111111111111,
              "#46039f"
             ],
             [
              0.2222222222222222,
              "#7201a8"
             ],
             [
              0.3333333333333333,
              "#9c179e"
             ],
             [
              0.4444444444444444,
              "#bd3786"
             ],
             [
              0.5555555555555556,
              "#d8576b"
             ],
             [
              0.6666666666666666,
              "#ed7953"
             ],
             [
              0.7777777777777778,
              "#fb9f3a"
             ],
             [
              0.8888888888888888,
              "#fdca26"
             ],
             [
              1,
              "#f0f921"
             ]
            ],
            "type": "surface"
           }
          ],
          "table": [
           {
            "cells": {
             "fill": {
              "color": "#EBF0F8"
             },
             "line": {
              "color": "white"
             }
            },
            "header": {
             "fill": {
              "color": "#C8D4E3"
             },
             "line": {
              "color": "white"
             }
            },
            "type": "table"
           }
          ]
         },
         "layout": {
          "annotationdefaults": {
           "arrowcolor": "#2a3f5f",
           "arrowhead": 0,
           "arrowwidth": 1
          },
          "autotypenumbers": "strict",
          "coloraxis": {
           "colorbar": {
            "outlinewidth": 0,
            "ticks": ""
           }
          },
          "colorscale": {
           "diverging": [
            [
             0,
             "#8e0152"
            ],
            [
             0.1,
             "#c51b7d"
            ],
            [
             0.2,
             "#de77ae"
            ],
            [
             0.3,
             "#f1b6da"
            ],
            [
             0.4,
             "#fde0ef"
            ],
            [
             0.5,
             "#f7f7f7"
            ],
            [
             0.6,
             "#e6f5d0"
            ],
            [
             0.7,
             "#b8e186"
            ],
            [
             0.8,
             "#7fbc41"
            ],
            [
             0.9,
             "#4d9221"
            ],
            [
             1,
             "#276419"
            ]
           ],
           "sequential": [
            [
             0,
             "#0d0887"
            ],
            [
             0.1111111111111111,
             "#46039f"
            ],
            [
             0.2222222222222222,
             "#7201a8"
            ],
            [
             0.3333333333333333,
             "#9c179e"
            ],
            [
             0.4444444444444444,
             "#bd3786"
            ],
            [
             0.5555555555555556,
             "#d8576b"
            ],
            [
             0.6666666666666666,
             "#ed7953"
            ],
            [
             0.7777777777777778,
             "#fb9f3a"
            ],
            [
             0.8888888888888888,
             "#fdca26"
            ],
            [
             1,
             "#f0f921"
            ]
           ],
           "sequentialminus": [
            [
             0,
             "#0d0887"
            ],
            [
             0.1111111111111111,
             "#46039f"
            ],
            [
             0.2222222222222222,
             "#7201a8"
            ],
            [
             0.3333333333333333,
             "#9c179e"
            ],
            [
             0.4444444444444444,
             "#bd3786"
            ],
            [
             0.5555555555555556,
             "#d8576b"
            ],
            [
             0.6666666666666666,
             "#ed7953"
            ],
            [
             0.7777777777777778,
             "#fb9f3a"
            ],
            [
             0.8888888888888888,
             "#fdca26"
            ],
            [
             1,
             "#f0f921"
            ]
           ]
          },
          "colorway": [
           "#636efa",
           "#EF553B",
           "#00cc96",
           "#ab63fa",
           "#FFA15A",
           "#19d3f3",
           "#FF6692",
           "#B6E880",
           "#FF97FF",
           "#FECB52"
          ],
          "font": {
           "color": "#2a3f5f"
          },
          "geo": {
           "bgcolor": "white",
           "lakecolor": "white",
           "landcolor": "#E5ECF6",
           "showlakes": true,
           "showland": true,
           "subunitcolor": "white"
          },
          "hoverlabel": {
           "align": "left"
          },
          "hovermode": "closest",
          "mapbox": {
           "style": "light"
          },
          "paper_bgcolor": "white",
          "plot_bgcolor": "#E5ECF6",
          "polar": {
           "angularaxis": {
            "gridcolor": "white",
            "linecolor": "white",
            "ticks": ""
           },
           "bgcolor": "#E5ECF6",
           "radialaxis": {
            "gridcolor": "white",
            "linecolor": "white",
            "ticks": ""
           }
          },
          "scene": {
           "xaxis": {
            "backgroundcolor": "#E5ECF6",
            "gridcolor": "white",
            "gridwidth": 2,
            "linecolor": "white",
            "showbackground": true,
            "ticks": "",
            "zerolinecolor": "white"
           },
           "yaxis": {
            "backgroundcolor": "#E5ECF6",
            "gridcolor": "white",
            "gridwidth": 2,
            "linecolor": "white",
            "showbackground": true,
            "ticks": "",
            "zerolinecolor": "white"
           },
           "zaxis": {
            "backgroundcolor": "#E5ECF6",
            "gridcolor": "white",
            "gridwidth": 2,
            "linecolor": "white",
            "showbackground": true,
            "ticks": "",
            "zerolinecolor": "white"
           }
          },
          "shapedefaults": {
           "line": {
            "color": "#2a3f5f"
           }
          },
          "ternary": {
           "aaxis": {
            "gridcolor": "white",
            "linecolor": "white",
            "ticks": ""
           },
           "baxis": {
            "gridcolor": "white",
            "linecolor": "white",
            "ticks": ""
           },
           "bgcolor": "#E5ECF6",
           "caxis": {
            "gridcolor": "white",
            "linecolor": "white",
            "ticks": ""
           }
          },
          "title": {
           "x": 0.05
          },
          "xaxis": {
           "automargin": true,
           "gridcolor": "white",
           "linecolor": "white",
           "ticks": "",
           "title": {
            "standoff": 15
           },
           "zerolinecolor": "white",
           "zerolinewidth": 2
          },
          "yaxis": {
           "automargin": true,
           "gridcolor": "white",
           "linecolor": "white",
           "ticks": "",
           "title": {
            "standoff": 15
           },
           "zerolinecolor": "white",
           "zerolinewidth": 2
          }
         }
        },
        "title": {
         "text": "GPD vs Medals (relative values)"
        },
        "xaxis": {
         "anchor": "y",
         "domain": [
          0,
          1
         ],
         "title": {
          "text": "Relative GPD"
         }
        },
        "yaxis": {
         "anchor": "x",
         "domain": [
          0,
          1
         ],
         "title": {
          "text": "Relative Medals"
         }
        }
       }
      }
     },
     "metadata": {},
     "output_type": "display_data"
    },
    {
     "data": {
      "text/plain": [
       "'PIBvsMedals_Top25.html'"
      ]
     },
     "execution_count": 127,
     "metadata": {},
     "output_type": "execute_result"
    }
   ],
   "source": [
    "#A ver esta prueba\n",
    "df_medallas_pib['id'] = pd.factorize(df_medallas_pib['País'])[0]\n",
    "color_sequence = ['#1f77b4', '#ff7f0e', '#2ca02c', '#d62728', '#9467bd', '#8c564b', '#e377c2', '#7f7f7f', '#bcbd22', '#17becf']\n",
    "\n",
    "df_medallas_pib[\"PIB_relativo\"] = df_medallas_pib[\"PIB per cápita\"] / df_medallas_pib.groupby(\"Año\")[\"PIB per cápita\"].transform(max)\n",
    "df_medallas_pib[\"Medallas_relativas\"] = df_medallas_pib[\"Total\"] / df_medallas_pib.groupby(\"Año\")[\"Total\"].transform(max)\n",
    "\n",
    "\n",
    "\n",
    "\n",
    "# Crear el gráfico de dispersión interactivo\n",
    "#fig = px.scatter(df_medallas_pib, x=\"PIB_relativo\", y=\"Medallas_relativas\", hover_data=[\"País\", \"Año\"])\n",
    "#fig = px.scatter(df_medallas_pib, x='PIB_relativo', y='Medallas_relativas', color='id', hover_data=['País',\"Año\"])\n",
    "fig = px.scatter(df_medallas_pib, x='PIB_relativo', y='Medallas_relativas', color='País', hover_data=['País',\"Año\"], color_discrete_sequence=color_sequence)\n",
    "\n",
    "\n",
    "# Añadir título y etiquetas de los ejes\n",
    "fig.update_layout(\n",
    "    title=\"GPD vs Medals (relative values)\",\n",
    "    xaxis_title=\"Relative GPD\",\n",
    "    yaxis_title=\"Relative Medals\"\n",
    ")\n",
    "\n",
    "# Mostrar el gráfico\n",
    "fig.show()\n",
    "pyo.plot(fig, filename='PIBvsMedals_Top25.html')"
   ]
  },
  {
   "cell_type": "code",
   "execution_count": 122,
   "metadata": {},
   "outputs": [
    {
     "name": "stderr",
     "output_type": "stream",
     "text": [
      "C:\\Users\\Admin\\AppData\\Roaming\\Python\\Python37\\site-packages\\ipykernel_launcher.py:1: SettingWithCopyWarning:\n",
      "\n",
      "\n",
      "A value is trying to be set on a copy of a slice from a DataFrame.\n",
      "Try using .loc[row_indexer,col_indexer] = value instead\n",
      "\n",
      "See the caveats in the documentation: https://pandas.pydata.org/pandas-docs/stable/user_guide/indexing.html#returning-a-view-versus-a-copy\n",
      "\n",
      "C:\\Users\\Admin\\AppData\\Roaming\\Python\\Python37\\site-packages\\ipykernel_launcher.py:6: SettingWithCopyWarning:\n",
      "\n",
      "\n",
      "A value is trying to be set on a copy of a slice from a DataFrame.\n",
      "Try using .loc[row_indexer,col_indexer] = value instead\n",
      "\n",
      "See the caveats in the documentation: https://pandas.pydata.org/pandas-docs/stable/user_guide/indexing.html#returning-a-view-versus-a-copy\n",
      "\n",
      "C:\\Users\\Admin\\AppData\\Roaming\\Python\\Python37\\site-packages\\ipykernel_launcher.py:7: SettingWithCopyWarning:\n",
      "\n",
      "\n",
      "A value is trying to be set on a copy of a slice from a DataFrame.\n",
      "Try using .loc[row_indexer,col_indexer] = value instead\n",
      "\n",
      "See the caveats in the documentation: https://pandas.pydata.org/pandas-docs/stable/user_guide/indexing.html#returning-a-view-versus-a-copy\n",
      "\n"
     ]
    },
    {
     "data": {
      "application/vnd.plotly.v1+json": {
       "config": {
        "plotlyServerURL": "https://plot.ly"
       },
       "data": [
        {
         "customdata": [
          [
           "Argentina",
           1960
          ],
          [
           "Argentina",
           1964
          ],
          [
           "Argentina",
           1968
          ],
          [
           "Argentina",
           1972
          ],
          [
           "Argentina",
           1988
          ],
          [
           "Argentina",
           1992
          ],
          [
           "Argentina",
           1996
          ],
          [
           "Argentina",
           2000
          ],
          [
           "Argentina",
           2004
          ],
          [
           "Argentina",
           2008
          ],
          [
           "Argentina",
           2012
          ],
          [
           "Argentina",
           2016
          ],
          [
           "Argentina",
           2021
          ]
         ],
         "hovertemplate": "País=%{customdata[0]}<br>PIB_relativo=%{x}<br>Medallas_relativas=%{y}<br>Año=%{customdata[1]}<extra></extra>",
         "legendgroup": "Argentina",
         "marker": {
          "color": "#1f77b4",
          "symbol": "circle"
         },
         "mode": "markers",
         "name": "Argentina",
         "orientation": "v",
         "showlegend": true,
         "type": "scatter",
         "x": [
          null,
          0.012889694798243506,
          0.012496449872195399,
          0.015413016407052192,
          0.04941777904004544,
          0.08360824066589474,
          0.09443339960238568,
          0.09436785878137767,
          0.04712385030476482,
          0.09991698162672318,
          0.15172700063356126,
          0.13952548445590196,
          0.1161820287068796
         ],
         "xaxis": "x",
         "y": [
          0.010256410256410256,
          0.005128205128205128,
          0.010256410256410256,
          0.005128205128205128,
          0.010256410256410256,
          0.005128205128205128,
          0.015384615384615385,
          0.020512820512820513,
          0.03076923076923077,
          0.03076923076923077,
          0.020512820512820513,
          0.020512820512820513,
          0.015384615384615385
         ],
         "yaxis": "y"
        },
        {
         "customdata": [
          [
           "Australia",
           1960
          ],
          [
           "Australia",
           1964
          ],
          [
           "Australia",
           1968
          ],
          [
           "Australia",
           1972
          ],
          [
           "Australia",
           1976
          ],
          [
           "Australia",
           1980
          ],
          [
           "Australia",
           1984
          ],
          [
           "Australia",
           1988
          ],
          [
           "Australia",
           1992
          ],
          [
           "Australia",
           1996
          ],
          [
           "Australia",
           2000
          ],
          [
           "Australia",
           2004
          ],
          [
           "Australia",
           2008
          ],
          [
           "Australia",
           2012
          ],
          [
           "Australia",
           2016
          ],
          [
           "Australia",
           2021
          ]
         ],
         "hovertemplate": "País=%{customdata[0]}<br>PIB_relativo=%{x}<br>Medallas_relativas=%{y}<br>Año=%{customdata[1]}<extra></extra>",
         "legendgroup": "Australia",
         "marker": {
          "color": "#ff7f0e",
          "symbol": "circle"
         },
         "mode": "markers",
         "name": "Australia",
         "orientation": "v",
         "showlegend": true,
         "type": "scatter",
         "x": [
          0.01978240447425338,
          0.023277914928014332,
          0.029755532737640093,
          0.04313678369344373,
          0.08178402114783824,
          0.12015817184803268,
          0.13727524960129334,
          0.17734253817752824,
          0.1977912743320298,
          0.2529220282699408,
          0.22807113363773404,
          0.3587595307277216,
          0.5370961046905381,
          0.7476132217682914,
          0.566119764926922,
          0.6932471107421405
         ],
         "xaxis": "x",
         "y": [
          0.11282051282051282,
          0.09230769230769231,
          0.08717948717948718,
          0.08717948717948718,
          0.02564102564102564,
          0.046153846153846156,
          0.12307692307692308,
          0.07179487179487179,
          0.13846153846153847,
          0.21025641025641026,
          0.29743589743589743,
          0.2564102564102564,
          0.2358974358974359,
          0.1794871794871795,
          0.14871794871794872,
          0.2358974358974359
         ],
         "yaxis": "y"
        },
        {
         "customdata": [
          [
           "Austria",
           1960
          ],
          [
           "Austria",
           1968
          ],
          [
           "Austria",
           1972
          ],
          [
           "Austria",
           1976
          ],
          [
           "Austria",
           1980
          ],
          [
           "Austria",
           1984
          ],
          [
           "Austria",
           1988
          ],
          [
           "Austria",
           1992
          ],
          [
           "Austria",
           1996
          ],
          [
           "Austria",
           2000
          ],
          [
           "Austria",
           2004
          ],
          [
           "Austria",
           2008
          ],
          [
           "Austria",
           2016
          ],
          [
           "Austria",
           2021
          ]
         ],
         "hovertemplate": "País=%{customdata[0]}<br>PIB_relativo=%{x}<br>Medallas_relativas=%{y}<br>Año=%{customdata[1]}<extra></extra>",
         "legendgroup": "Austria",
         "marker": {
          "color": "#2ca02c",
          "symbol": "circle"
         },
         "mode": "markers",
         "name": "Austria",
         "orientation": "v",
         "showlegend": true,
         "type": "scatter",
         "x": [
          0.010191597666746773,
          0.018296812531404978,
          0.03184191553972866,
          0.06202346361392087,
          0.11723068184300789,
          0.09703318550237039,
          0.1926135494723964,
          0.27382955017149846,
          0.3257488038800166,
          0.2691106110589212,
          0.4029012736766216,
          0.5670810303017062,
          0.4946038057370065,
          0.5825705109999345
         ],
         "xaxis": "x",
         "y": [
          0.010256410256410256,
          0.020512820512820513,
          0.015384615384615385,
          0.005128205128205128,
          0.020512820512820513,
          0.015384615384615385,
          0.005128205128205128,
          0.010256410256410256,
          0.015384615384615385,
          0.015384615384615385,
          0.035897435897435895,
          0.015384615384615385,
          0.005128205128205128,
          0.035897435897435895
         ],
         "yaxis": "y"
        },
        {
         "customdata": [
          [
           "Belgium",
           1960
          ],
          [
           "Belgium",
           1964
          ],
          [
           "Belgium",
           1968
          ],
          [
           "Belgium",
           1972
          ],
          [
           "Belgium",
           1976
          ],
          [
           "Belgium",
           1980
          ],
          [
           "Belgium",
           1984
          ],
          [
           "Belgium",
           1988
          ],
          [
           "Belgium",
           1992
          ],
          [
           "Belgium",
           1996
          ],
          [
           "Belgium",
           2000
          ],
          [
           "Belgium",
           2004
          ],
          [
           "Belgium",
           2008
          ],
          [
           "Belgium",
           2012
          ],
          [
           "Belgium",
           2016
          ],
          [
           "Belgium",
           2021
          ]
         ],
         "hovertemplate": "País=%{customdata[0]}<br>PIB_relativo=%{x}<br>Medallas_relativas=%{y}<br>Año=%{customdata[1]}<extra></extra>",
         "legendgroup": "Belgium",
         "marker": {
          "color": "#d62728",
          "symbol": "circle"
         },
         "mode": "markers",
         "name": "Belgium",
         "orientation": "v",
         "showlegend": true,
         "type": "scatter",
         "x": [
          0.013872807113363774,
          0.018493434994429032,
          0.024239180302798594,
          0.04178227339261136,
          0.0790750005461735,
          0.13686015773490923,
          0.0900640115351845,
          0.17487383391955957,
          0.24930635964433182,
          0.30077775107596183,
          0.2527363292770847,
          0.3877613440237695,
          0.529711838856968,
          0.48963362681056516,
          0.459615930788893,
          0.566371004740786
         ],
         "xaxis": "x",
         "y": [
          0.020512820512820513,
          0.015384615384615385,
          0.010256410256410256,
          0.010256410256410256,
          0.03076923076923077,
          0.005128205128205128,
          0.020512820512820513,
          0.010256410256410256,
          0.015384615384615385,
          0.03076923076923077,
          0.02564102564102564,
          0.015384615384615385,
          0.010256410256410256,
          0.015384615384615385,
          0.03076923076923077,
          0.035897435897435895
         ],
         "yaxis": "y"
        },
        {
         "customdata": [
          [
           "Brazil",
           1960
          ],
          [
           "Brazil",
           1964
          ],
          [
           "Brazil",
           1968
          ],
          [
           "Brazil",
           1972
          ],
          [
           "Brazil",
           1976
          ],
          [
           "Brazil",
           1980
          ],
          [
           "Brazil",
           1984
          ],
          [
           "Brazil",
           1988
          ],
          [
           "Brazil",
           1992
          ],
          [
           "Brazil",
           1996
          ],
          [
           "Brazil",
           2000
          ],
          [
           "Brazil",
           2004
          ],
          [
           "Brazil",
           2008
          ],
          [
           "Brazil",
           2012
          ],
          [
           "Brazil",
           2016
          ],
          [
           "Brazil",
           2021
          ]
         ],
         "hovertemplate": "País=%{customdata[0]}<br>PIB_relativo=%{x}<br>Medallas_relativas=%{y}<br>Año=%{customdata[1]}<extra></extra>",
         "legendgroup": "Brazil",
         "marker": {
          "color": "#9467bd",
          "symbol": "circle"
         },
         "mode": "markers",
         "name": "Brazil",
         "orientation": "v",
         "showlegend": true,
         "type": "scatter",
         "x": [
          0.0025451685491446924,
          0.0027854848928407575,
          0.004041683962161099,
          0.006302842286937714,
          0.015030694951172088,
          0.013435868306643655,
          0.012081358005811286,
          0.025003823214558803,
          0.0275708387040395,
          0.05685666222445546,
          0.04120332947370721,
          0.039979900814890876,
          0.09697856815153037,
          0.1357241168374369,
          0.09565682826120202,
          0.08195879667052629
         ],
         "xaxis": "x",
         "y": [
          0.010256410256410256,
          0.005128205128205128,
          0.015384615384615385,
          0.010256410256410256,
          0.010256410256410256,
          0.020512820512820513,
          0.041025641025641026,
          0.03076923076923077,
          0.015384615384615385,
          0.07692307692307693,
          0.06153846153846154,
          0.05128205128205128,
          0.08717948717948718,
          0.08717948717948718,
          0.09743589743589744,
          0.1076923076923077
         ],
         "yaxis": "y"
        },
        {
         "customdata": [
          [
           "Canada",
           1960
          ],
          [
           "Canada",
           1964
          ],
          [
           "Canada",
           1968
          ],
          [
           "Canada",
           1972
          ],
          [
           "Canada",
           1976
          ],
          [
           "Canada",
           1984
          ],
          [
           "Canada",
           1988
          ],
          [
           "Canada",
           1992
          ],
          [
           "Canada",
           1996
          ],
          [
           "Canada",
           2000
          ],
          [
           "Canada",
           2004
          ],
          [
           "Canada",
           2008
          ],
          [
           "Canada",
           2012
          ],
          [
           "Canada",
           2016
          ],
          [
           "Canada",
           2021
          ]
         ],
         "hovertemplate": "País=%{customdata[0]}<br>PIB_relativo=%{x}<br>Medallas_relativas=%{y}<br>Año=%{customdata[1]}<extra></extra>",
         "legendgroup": "Canada",
         "marker": {
          "color": "#8c564b",
          "symbol": "circle"
         },
         "mode": "markers",
         "name": "Canada",
         "orientation": "v",
         "showlegend": true,
         "type": "scatter",
         "x": [
          0.024545037467502678,
          0.027778384637231555,
          0.03769689554977825,
          0.05560046315513512,
          0.09622484870993818,
          0.15234963843313745,
          0.2079937954689446,
          0.22922902147554236,
          0.23295392480283136,
          0.2654075546719682,
          0.3514844995958316,
          0.510934393638171,
          0.5761475105411488,
          0.4629694361304699,
          0.5681843007886745
         ],
         "xaxis": "x",
         "y": [
          0.005128205128205128,
          0.020512820512820513,
          0.02564102564102564,
          0.02564102564102564,
          0.05641025641025641,
          0.22564102564102564,
          0.05128205128205128,
          0.09230769230769231,
          0.11282051282051282,
          0.07179487179487179,
          0.06153846153846154,
          0.10256410256410256,
          0.09230769230769231,
          0.11282051282051282,
          0.12307692307692308
         ],
         "yaxis": "y"
        },
        {
         "customdata": [
          [
           "Denmark",
           1960
          ],
          [
           "Denmark",
           1964
          ],
          [
           "Denmark",
           1968
          ],
          [
           "Denmark",
           1972
          ],
          [
           "Denmark",
           1976
          ],
          [
           "Denmark",
           1980
          ],
          [
           "Denmark",
           1984
          ],
          [
           "Denmark",
           1988
          ],
          [
           "Denmark",
           1992
          ],
          [
           "Denmark",
           1996
          ],
          [
           "Denmark",
           2000
          ],
          [
           "Denmark",
           2004
          ],
          [
           "Denmark",
           2008
          ],
          [
           "Denmark",
           2012
          ],
          [
           "Denmark",
           2016
          ],
          [
           "Denmark",
           2021
          ]
         ],
         "hovertemplate": "País=%{customdata[0]}<br>PIB_relativo=%{x}<br>Medallas_relativas=%{y}<br>Año=%{customdata[1]}<extra></extra>",
         "legendgroup": "Denmark",
         "marker": {
          "color": "#e377c2",
          "symbol": "circle"
         },
         "mode": "markers",
         "name": "Denmark",
         "orientation": "v",
         "showlegend": true,
         "type": "scatter",
         "x": [
          0.01485591942848404,
          0.021901557686845957,
          0.03024708889520023,
          0.05067397810936578,
          0.09585345072422607,
          0.15168330675288927,
          0.12629716208245034,
          0.24608393594477093,
          0.323575033316584,
          0.3903283595132502,
          0.3364319577043235,
          0.5087169291940664,
          0.7049024534113998,
          0.6403665916588381,
          0.599294343827147,
          0.7450025123981386
         ],
         "xaxis": "x",
         "y": [
          0.03076923076923077,
          0.03076923076923077,
          0.041025641025641026,
          0.005128205128205128,
          0.015384615384615385,
          0.02564102564102564,
          0.03076923076923077,
          0.020512820512820513,
          0.03076923076923077,
          0.03076923076923077,
          0.03076923076923077,
          0.041025641025641026,
          0.035897435897435895,
          0.046153846153846156,
          0.07692307692307693,
          0.05641025641025641
         ],
         "yaxis": "y"
        },
        {
         "customdata": [
          [
           "Finland",
           1960
          ],
          [
           "Finland",
           1964
          ],
          [
           "Finland",
           1968
          ],
          [
           "Finland",
           1972
          ],
          [
           "Finland",
           1976
          ],
          [
           "Finland",
           1980
          ],
          [
           "Finland",
           1984
          ],
          [
           "Finland",
           1988
          ],
          [
           "Finland",
           1992
          ],
          [
           "Finland",
           1996
          ],
          [
           "Finland",
           2000
          ],
          [
           "Finland",
           2004
          ],
          [
           "Finland",
           2008
          ],
          [
           "Finland",
           2012
          ],
          [
           "Finland",
           2016
          ],
          [
           "Finland",
           2021
          ]
         ],
         "hovertemplate": "País=%{customdata[0]}<br>PIB_relativo=%{x}<br>Medallas_relativas=%{y}<br>Año=%{customdata[1]}<extra></extra>",
         "legendgroup": "Finland",
         "marker": {
          "color": "#7f7f7f",
          "symbol": "circle"
         },
         "mode": "markers",
         "name": "Finland",
         "orientation": "v",
         "showlegend": true,
         "type": "scatter",
         "x": [
          0.012835077447403491,
          0.018613593166277063,
          0.020798287199877658,
          0.03460555349223341,
          0.07353680117099601,
          0.12297642715137745,
          0.11895659012955236,
          0.24165993052672974,
          0.24573438489939484,
          0.28218600485002077,
          0.26631420269591244,
          0.41308194787320035,
          0.5887531951150241,
          0.5226989710091102,
          0.4791689423896183,
          0.5873986848141918
         ],
         "xaxis": "x",
         "y": [
          0.02564102564102564,
          0.02564102564102564,
          0.020512820512820513,
          0.041025641025641026,
          0.03076923076923077,
          0.041025641025641026,
          0.06153846153846154,
          0.020512820512820513,
          0.02564102564102564,
          0.020512820512820513,
          0.020512820512820513,
          0.010256410256410256,
          0.020512820512820513,
          0.015384615384615385,
          0.005128205128205128,
          0.010256410256410256
         ],
         "yaxis": "y"
        },
        {
         "customdata": [
          [
           "France",
           1960
          ],
          [
           "France",
           1964
          ],
          [
           "France",
           1968
          ],
          [
           "France",
           1972
          ],
          [
           "France",
           1976
          ],
          [
           "France",
           1980
          ],
          [
           "France",
           1984
          ],
          [
           "France",
           1988
          ],
          [
           "France",
           1992
          ],
          [
           "France",
           1996
          ],
          [
           "France",
           2000
          ],
          [
           "France",
           2004
          ],
          [
           "France",
           2008
          ],
          [
           "France",
           2012
          ],
          [
           "France",
           2016
          ],
          [
           "France",
           2021
          ]
         ],
         "hovertemplate": "País=%{customdata[0]}<br>PIB_relativo=%{x}<br>Medallas_relativas=%{y}<br>Año=%{customdata[1]}<extra></extra>",
         "legendgroup": "France",
         "marker": {
          "color": "#bcbd22",
          "symbol": "circle"
         },
         "mode": "markers",
         "name": "France",
         "orientation": "v",
         "showlegend": true,
         "type": "scatter",
         "x": [
          0.014582832674283966,
          0.020863828020885676,
          0.027701920346055536,
          0.042109977497651455,
          0.0750114696436764,
          0.14276975509579884,
          0.10592489021912481,
          0.1992550193345422,
          0.26861905490136107,
          0.3028095165272104,
          0.253555589539685,
          0.38249623140279204,
          0.5150962357721801,
          0.4628492779586219,
          0.41890415747274595,
          0.49360976995171824
         ],
         "xaxis": "x",
         "y": [
          0.02564102564102564,
          0.07692307692307693,
          0.07692307692307693,
          0.06666666666666667,
          0.046153846153846156,
          0.07179487179487179,
          0.14358974358974358,
          0.08205128205128205,
          0.14871794871794872,
          0.18974358974358974,
          0.19487179487179487,
          0.16923076923076924,
          0.2205128205128205,
          0.1794871794871795,
          0.2153846153846154,
          0.16923076923076924
         ],
         "yaxis": "y"
        },
        {
         "customdata": [
          [
           "Germany",
           1960
          ],
          [
           "Germany",
           1964
          ],
          [
           "Germany",
           1968
          ],
          [
           "Germany",
           1968
          ],
          [
           "Germany",
           1972
          ],
          [
           "Germany",
           1972
          ],
          [
           "Germany",
           1976
          ],
          [
           "Germany",
           1976
          ],
          [
           "Germany",
           1980
          ],
          [
           "Germany",
           1984
          ],
          [
           "Germany",
           1988
          ],
          [
           "Germany",
           1988
          ],
          [
           "Germany",
           1992
          ],
          [
           "Germany",
           1996
          ],
          [
           "Germany",
           2000
          ],
          [
           "Germany",
           2004
          ],
          [
           "Germany",
           2008
          ],
          [
           "Germany",
           2012
          ],
          [
           "Germany",
           2016
          ],
          [
           "Germany",
           2021
          ]
         ],
         "hovertemplate": "País=%{customdata[0]}<br>PIB_relativo=%{x}<br>Medallas_relativas=%{y}<br>Año=%{customdata[1]}<extra></extra>",
         "legendgroup": "Germany",
         "marker": {
          "color": "#17becf",
          "symbol": "circle"
         },
         "mode": "markers",
         "name": "Germany",
         "orientation": "v",
         "showlegend": true,
         "type": "scatter",
         "x": [
          null,
          null,
          null,
          null,
          0.05297883031481441,
          0.05297883031481441,
          0.09240163415113713,
          0.09240163415113713,
          0.121359753566513,
          0.09326458829440937,
          0.18040110982456906,
          0.18040110982456906,
          0.2898870513184629,
          0.3349572892316431,
          0.2613440237694711,
          0.3772420422519826,
          0.5064994647499618,
          0.4793546413824744,
          0.4601402573569572,
          0.5596967644681362
         ],
         "xaxis": "x",
         "y": [
          0.2153846153846154,
          0.2564102564102564,
          0.13333333333333333,
          0.1282051282051282,
          0.20512820512820512,
          0.3384615384615385,
          0.2,
          0.46153846153846156,
          0.6461538461538462,
          0.30256410256410254,
          0.20512820512820512,
          0.5230769230769231,
          0.4205128205128205,
          0.3333333333333333,
          0.28717948717948716,
          0.2512820512820513,
          0.21025641025641026,
          0.22564102564102564,
          0.2153846153846154,
          0.18974358974358974
         ],
         "yaxis": "y"
        },
        {
         "customdata": [
          [
           "Great Britain",
           1960
          ],
          [
           "Great Britain",
           1964
          ],
          [
           "Great Britain",
           1968
          ],
          [
           "Great Britain",
           1972
          ],
          [
           "Great Britain",
           1976
          ],
          [
           "Great Britain",
           1980
          ],
          [
           "Great Britain",
           1984
          ],
          [
           "Great Britain",
           1988
          ],
          [
           "Great Britain",
           1992
          ],
          [
           "Great Britain",
           1996
          ],
          [
           "Great Britain",
           2000
          ],
          [
           "Great Britain",
           2004
          ],
          [
           "Great Britain",
           2008
          ],
          [
           "Great Britain",
           2012
          ],
          [
           "Great Britain",
           2016
          ],
          [
           "Great Britain",
           2021
          ]
         ],
         "hovertemplate": "País=%{customdata[0]}<br>PIB_relativo=%{x}<br>Medallas_relativas=%{y}<br>Año=%{customdata[1]}<extra></extra>",
         "legendgroup": "Great Britain",
         "marker": {
          "color": "#1f77b4",
          "symbol": "circle"
         },
         "mode": "markers",
         "name": "Great Britain",
         "orientation": "v",
         "showlegend": true,
         "type": "scatter",
         "x": [
          0.015205470473860136,
          0.019028685032661176,
          0.021267996417101784,
          0.03305442072837699,
          0.0452122430253643,
          0.11704498285015183,
          0.09764489983177856,
          0.19004653398291568,
          0.24510082362965066,
          0.2672426976601927,
          0.308915736351124,
          0.4414720468398401,
          0.5247525834006947,
          0.46633386494221485,
          0.4547440630939637,
          0.5099185109125467
         ],
         "xaxis": "x",
         "y": [
          0.10256410256410256,
          0.09230769230769231,
          0.06666666666666667,
          0.09230769230769231,
          0.06666666666666667,
          0.1076923076923077,
          0.18974358974358974,
          0.12307692307692308,
          0.10256410256410256,
          0.07692307692307693,
          0.14358974358974358,
          0.15384615384615385,
          0.26153846153846155,
          0.3333333333333333,
          0.3435897435897436,
          0.3282051282051282
         ],
         "yaxis": "y"
        },
        {
         "customdata": [
          [
           "Hungary",
           1960
          ],
          [
           "Hungary",
           1964
          ],
          [
           "Hungary",
           1968
          ],
          [
           "Hungary",
           1972
          ],
          [
           "Hungary",
           1976
          ],
          [
           "Hungary",
           1980
          ],
          [
           "Hungary",
           1988
          ],
          [
           "Hungary",
           1992
          ],
          [
           "Hungary",
           1996
          ],
          [
           "Hungary",
           2000
          ],
          [
           "Hungary",
           2004
          ],
          [
           "Hungary",
           2008
          ],
          [
           "Hungary",
           2012
          ],
          [
           "Hungary",
           2016
          ],
          [
           "Hungary",
           2021
          ]
         ],
         "hovertemplate": "País=%{customdata[0]}<br>PIB_relativo=%{x}<br>Medallas_relativas=%{y}<br>Año=%{customdata[1]}<extra></extra>",
         "legendgroup": "Hungary",
         "marker": {
          "color": "#ff7f0e",
          "symbol": "circle"
         },
         "mode": "markers",
         "name": "Hungary",
         "orientation": "v",
         "showlegend": true,
         "type": "scatter",
         "x": [
          null,
          null,
          0.004981102396609355,
          0.007417036244074017,
          0.013042623380595548,
          0.023496384331374392,
          0.031011731806960437,
          0.040777314137155095,
          0.049385008629541434,
          0.05045550870600572,
          0.11224957944639853,
          0.17196819085487078,
          0.14130601009328644,
          0.1429445306184869,
          0.20461844318703165
         ],
         "xaxis": "x",
         "y": [
          0.1076923076923077,
          0.11282051282051282,
          0.1641025641025641,
          0.1794871794871795,
          0.11282051282051282,
          0.1641025641025641,
          0.11794871794871795,
          0.15384615384615385,
          0.1076923076923077,
          0.08717948717948718,
          0.08717948717948718,
          0.05128205128205128,
          0.09230769230769231,
          0.07692307692307693,
          0.10256410256410256
         ],
         "yaxis": "y"
        },
        {
         "customdata": [
          [
           "Italy",
           1960
          ],
          [
           "Italy",
           1964
          ],
          [
           "Italy",
           1968
          ],
          [
           "Italy",
           1972
          ],
          [
           "Italy",
           1976
          ],
          [
           "Italy",
           1980
          ],
          [
           "Italy",
           1984
          ],
          [
           "Italy",
           1988
          ],
          [
           "Italy",
           1992
          ],
          [
           "Italy",
           1996
          ],
          [
           "Italy",
           2000
          ],
          [
           "Italy",
           2004
          ],
          [
           "Italy",
           2008
          ],
          [
           "Italy",
           2012
          ],
          [
           "Italy",
           2016
          ],
          [
           "Italy",
           2021
          ]
         ],
         "hovertemplate": "País=%{customdata[0]}<br>PIB_relativo=%{x}<br>Medallas_relativas=%{y}<br>Año=%{customdata[1]}<extra></extra>",
         "legendgroup": "Italy",
         "marker": {
          "color": "#2ca02c",
          "symbol": "circle"
         },
         "mode": "markers",
         "name": "Italy",
         "orientation": "v",
         "showlegend": true,
         "type": "scatter",
         "x": [
          0.008760623074738383,
          0.013293863194459616,
          0.017990955366700895,
          0.029078277587223908,
          0.04395604395604396,
          0.09349398116793743,
          0.0856509295873113,
          0.17405457365695934,
          0.25251785987372466,
          0.2522666200598606,
          0.22014069429576388,
          0.3423743254757171,
          0.4458851287877133,
          0.3795250475170952,
          0.3407139580101807,
          0.38914862473510586
         ],
         "xaxis": "x",
         "y": [
          0.18461538461538463,
          0.13846153846153847,
          0.08205128205128205,
          0.09230769230769231,
          0.06666666666666667,
          0.07692307692307693,
          0.1641025641025641,
          0.07179487179487179,
          0.09743589743589744,
          0.1794871794871795,
          0.17435897435897435,
          0.1641025641025641,
          0.13846153846153847,
          0.14358974358974358,
          0.14358974358974358,
          0.20512820512820512
         ],
         "yaxis": "y"
        },
        {
         "customdata": [
          [
           "Japan",
           1960
          ],
          [
           "Japan",
           1964
          ],
          [
           "Japan",
           1968
          ],
          [
           "Japan",
           1972
          ],
          [
           "Japan",
           1976
          ],
          [
           "Japan",
           1984
          ],
          [
           "Japan",
           1988
          ],
          [
           "Japan",
           1992
          ],
          [
           "Japan",
           1996
          ],
          [
           "Japan",
           2000
          ],
          [
           "Japan",
           2004
          ],
          [
           "Japan",
           2008
          ],
          [
           "Japan",
           2012
          ],
          [
           "Japan",
           2016
          ],
          [
           "Japan",
           2021
          ]
         ],
         "hovertemplate": "País=%{customdata[0]}<br>PIB_relativo=%{x}<br>Medallas_relativas=%{y}<br>Año=%{customdata[1]}<extra></extra>",
         "legendgroup": "Japan",
         "marker": {
          "color": "#d62728",
          "symbol": "circle"
         },
         "mode": "markers",
         "name": "Japan",
         "orientation": "v",
         "showlegend": true,
         "type": "scatter",
         "x": [
          0.005188648329801412,
          0.009219408821794508,
          0.01584995521377231,
          0.03240993598846482,
          0.056780197933279444,
          0.12239748323247329,
          0.279367749546676,
          0.3503047648176873,
          0.42780678565966834,
          0.4279050968911804,
          0.4184453717256898,
          0.43685141895877483,
          0.5371616455115461,
          0.4235247853538112,
          0.42870251021344463
         ],
         "xaxis": "x",
         "y": [
          0.09230769230769231,
          0.14871794871794872,
          0.1282051282051282,
          0.14871794871794872,
          0.1282051282051282,
          0.15897435897435896,
          0.07179487179487179,
          0.11282051282051282,
          0.07179487179487179,
          0.09230769230769231,
          0.18974358974358974,
          0.1282051282051282,
          0.19487179487179487,
          0.21025641025641026,
          0.29743589743589743
         ],
         "yaxis": "y"
        },
        {
         "customdata": [
          [
           "Netherlands",
           1960
          ],
          [
           "Netherlands",
           1964
          ],
          [
           "Netherlands",
           1968
          ],
          [
           "Netherlands",
           1972
          ],
          [
           "Netherlands",
           1976
          ],
          [
           "Netherlands",
           1980
          ],
          [
           "Netherlands",
           1984
          ],
          [
           "Netherlands",
           1988
          ],
          [
           "Netherlands",
           1992
          ],
          [
           "Netherlands",
           1996
          ],
          [
           "Netherlands",
           2000
          ],
          [
           "Netherlands",
           2004
          ],
          [
           "Netherlands",
           2008
          ],
          [
           "Netherlands",
           2012
          ],
          [
           "Netherlands",
           2016
          ],
          [
           "Netherlands",
           2021
          ]
         ],
         "hovertemplate": "País=%{customdata[0]}<br>PIB_relativo=%{x}<br>Medallas_relativas=%{y}<br>Año=%{customdata[1]}<extra></extra>",
         "legendgroup": "Netherlands",
         "marker": {
          "color": "#9467bd",
          "symbol": "circle"
         },
         "mode": "markers",
         "name": "Netherlands",
         "orientation": "v",
         "showlegend": true,
         "type": "scatter",
         "x": [
          0.011600725318419155,
          0.01672383282721255,
          0.02374762414523846,
          0.04463329910646014,
          0.08631726126755948,
          0.15019771481004085,
          0.10819697201406943,
          0.19614183033666135,
          0.26426059030432786,
          0.3176982063661984,
          0.2875931225831822,
          0.44214930199025626,
          0.6337251217966924,
          0.548096039149717,
          0.5042820003058571,
          0.6335284993336683
         ],
         "xaxis": "x",
         "y": [
          0.015384615384615385,
          0.05128205128205128,
          0.035897435897435895,
          0.02564102564102564,
          0.02564102564102564,
          0.015384615384615385,
          0.06666666666666667,
          0.046153846153846156,
          0.07692307692307693,
          0.09743589743589744,
          0.1282051282051282,
          0.11282051282051282,
          0.08205128205128205,
          0.10256410256410256,
          0.09743589743589744,
          0.18461538461538463
         ],
         "yaxis": "y"
        },
        {
         "customdata": [
          [
           "Poland",
           1960
          ],
          [
           "Poland",
           1964
          ],
          [
           "Poland",
           1968
          ],
          [
           "Poland",
           1972
          ],
          [
           "Poland",
           1976
          ],
          [
           "Poland",
           1980
          ],
          [
           "Poland",
           1988
          ],
          [
           "Poland",
           1992
          ],
          [
           "Poland",
           1996
          ],
          [
           "Poland",
           2000
          ],
          [
           "Poland",
           2004
          ],
          [
           "Poland",
           2008
          ],
          [
           "Poland",
           2012
          ],
          [
           "Poland",
           2016
          ],
          [
           "Poland",
           2021
          ]
         ],
         "hovertemplate": "País=%{customdata[0]}<br>PIB_relativo=%{x}<br>Medallas_relativas=%{y}<br>Año=%{customdata[1]}<extra></extra>",
         "legendgroup": "Poland",
         "marker": {
          "color": "#8c564b",
          "symbol": "circle"
         },
         "mode": "markers",
         "name": "Poland",
         "orientation": "v",
         "showlegend": true,
         "type": "scatter",
         "x": [
          null,
          null,
          null,
          0.011393179385227098,
          0.0172700063356127,
          0.01742293491796474,
          0.019869792235597403,
          0.02529875690909488,
          0.04441482970310008,
          0.04899176370349333,
          0.07302339807309986,
          0.15291765888187359,
          0.1430646887903349,
          0.13587704541978896,
          0.19603259563498132
         ],
         "xaxis": "x",
         "y": [
          0.1076923076923077,
          0.11794871794871795,
          0.09230769230769231,
          0.1076923076923077,
          0.13333333333333333,
          0.1641025641025641,
          0.08205128205128205,
          0.09743589743589744,
          0.08717948717948718,
          0.07179487179487179,
          0.05128205128205128,
          0.05641025641025641,
          0.05641025641025641,
          0.05641025641025641,
          0.07179487179487179
         ],
         "yaxis": "y"
        },
        {
         "customdata": [
          [
           "Romania",
           1960
          ],
          [
           "Romania",
           1964
          ],
          [
           "Romania",
           1968
          ],
          [
           "Romania",
           1972
          ],
          [
           "Romania",
           1976
          ],
          [
           "Romania",
           1980
          ],
          [
           "Romania",
           1984
          ],
          [
           "Romania",
           1988
          ],
          [
           "Romania",
           1992
          ],
          [
           "Romania",
           1996
          ],
          [
           "Romania",
           2000
          ],
          [
           "Romania",
           2004
          ],
          [
           "Romania",
           2008
          ],
          [
           "Romania",
           2012
          ],
          [
           "Romania",
           2016
          ],
          [
           "Romania",
           2021
          ]
         ],
         "hovertemplate": "País=%{customdata[0]}<br>PIB_relativo=%{x}<br>Medallas_relativas=%{y}<br>Año=%{customdata[1]}<extra></extra>",
         "legendgroup": "Romania",
         "marker": {
          "color": "#e377c2",
          "symbol": "circle"
         },
         "mode": "markers",
         "name": "Romania",
         "orientation": "v",
         "showlegend": true,
         "type": "scatter",
         "x": [
          null,
          null,
          null,
          0.009175714941122496,
          0.01297708255958753,
          0.022414960784742095,
          0.01867913398728508,
          0.028324558145631704,
          0.00926310270246652,
          0.01709523081292465,
          0.018154807419220938,
          0.03805737006532235,
          0.11345116116487886,
          0.09275118519651322,
          0.10399143599938829,
          0.16161274113560395
         ],
         "xaxis": "x",
         "y": [
          0.05128205128205128,
          0.06153846153846154,
          0.07692307692307693,
          0.08205128205128205,
          0.13846153846153847,
          0.1282051282051282,
          0.26666666666666666,
          0.12307692307692308,
          0.09230769230769231,
          0.10256410256410256,
          0.13333333333333333,
          0.09743589743589744,
          0.046153846153846156,
          0.035897435897435895,
          0.020512820512820513,
          0.020512820512820513
         ],
         "yaxis": "y"
        },
        {
         "customdata": [
          [
           "Russian Federation",
           1960
          ],
          [
           "Russian Federation",
           1964
          ],
          [
           "Russian Federation",
           1968
          ],
          [
           "Russian Federation",
           1972
          ],
          [
           "Russian Federation",
           1976
          ],
          [
           "Russian Federation",
           1980
          ],
          [
           "Russian Federation",
           1988
          ],
          [
           "Russian Federation",
           1996
          ],
          [
           "Russian Federation",
           2000
          ],
          [
           "Russian Federation",
           2004
          ],
          [
           "Russian Federation",
           2008
          ],
          [
           "Russian Federation",
           2012
          ],
          [
           "Russian Federation",
           2016
          ]
         ],
         "hovertemplate": "País=%{customdata[0]}<br>PIB_relativo=%{x}<br>Medallas_relativas=%{y}<br>Año=%{customdata[1]}<extra></extra>",
         "legendgroup": "Russian Federation",
         "marker": {
          "color": "#7f7f7f",
          "symbol": "circle"
         },
         "mode": "markers",
         "name": "Russian Federation",
         "orientation": "v",
         "showlegend": true,
         "type": "scatter",
         "x": [
          null,
          null,
          null,
          null,
          null,
          null,
          0.04125794682454722,
          0.030443711358224282,
          0.020776440259541652,
          0.048106962619885084,
          0.13615013217398902,
          0.16699801192842942,
          0.09529635374565792
         ],
         "xaxis": "x",
         "y": [
          0.5282051282051282,
          0.47692307692307695,
          0.4666666666666667,
          0.5076923076923077,
          0.6358974358974359,
          1,
          0.676923076923077,
          0.3230769230769231,
          0.4564102564102564,
          0.46153846153846156,
          0.3076923076923077,
          0.3384615384615385,
          0.28717948717948716
         ],
         "yaxis": "y"
        },
        {
         "customdata": [
          [
           "Spain",
           1960
          ],
          [
           "Spain",
           1972
          ],
          [
           "Spain",
           1976
          ],
          [
           "Spain",
           1980
          ],
          [
           "Spain",
           1984
          ],
          [
           "Spain",
           1988
          ],
          [
           "Spain",
           1992
          ],
          [
           "Spain",
           1996
          ],
          [
           "Spain",
           2000
          ],
          [
           "Spain",
           2004
          ],
          [
           "Spain",
           2008
          ],
          [
           "Spain",
           2012
          ],
          [
           "Spain",
           2016
          ],
          [
           "Spain",
           2021
          ]
         ],
         "hovertemplate": "País=%{customdata[0]}<br>PIB_relativo=%{x}<br>Medallas_relativas=%{y}<br>Año=%{customdata[1]}<extra></extra>",
         "legendgroup": "Spain",
         "marker": {
          "color": "#bcbd22",
          "symbol": "circle"
         },
         "mode": "markers",
         "name": "Spain",
         "orientation": "v",
         "showlegend": true,
         "type": "scatter",
         "x": [
          0.004314770716361173,
          0.01855897581543705,
          0.035632359688025694,
          0.0669390251895222,
          0.048849758591309286,
          0.10485439014266051,
          0.17491752780023156,
          0.17582417582417584,
          0.16124134314989186,
          0.2723439582286501,
          0.38760841544141744,
          0.3096257619120442,
          0.28986520437812685,
          0.3286872173552094
         ],
         "xaxis": "x",
         "y": [
          0.005128205128205128,
          0.005128205128205128,
          0.010256410256410256,
          0.03076923076923077,
          0.02564102564102564,
          0.020512820512820513,
          0.11282051282051282,
          0.08717948717948718,
          0.05641025641025641,
          0.10256410256410256,
          0.09743589743589744,
          0.09230769230769231,
          0.08717948717948718,
          0.08717948717948718
         ],
         "yaxis": "y"
        },
        {
         "customdata": [
          [
           "Sweden",
           1960
          ],
          [
           "Sweden",
           1964
          ],
          [
           "Sweden",
           1968
          ],
          [
           "Sweden",
           1972
          ],
          [
           "Sweden",
           1976
          ],
          [
           "Sweden",
           1980
          ],
          [
           "Sweden",
           1984
          ],
          [
           "Sweden",
           1988
          ],
          [
           "Sweden",
           1992
          ],
          [
           "Sweden",
           1996
          ],
          [
           "Sweden",
           2000
          ],
          [
           "Sweden",
           2004
          ],
          [
           "Sweden",
           2008
          ],
          [
           "Sweden",
           2012
          ],
          [
           "Sweden",
           2016
          ],
          [
           "Sweden",
           2021
          ]
         ],
         "hovertemplate": "País=%{customdata[0]}<br>PIB_relativo=%{x}<br>Medallas_relativas=%{y}<br>Año=%{customdata[1]}<extra></extra>",
         "legendgroup": "Sweden",
         "marker": {
          "color": "#17becf",
          "symbol": "circle"
         },
         "mode": "markers",
         "name": "Sweden",
         "orientation": "v",
         "showlegend": true,
         "type": "scatter",
         "x": [
          0.023048522054486268,
          0.031983920651912696,
          0.042787232648067636,
          0.0657811373517139,
          0.11851965132283224,
          0.18435540602538614,
          0.14174294890000655,
          0.2658663404190243,
          0.3559412754243768,
          0.360321586961746,
          0.32321455880103994,
          0.466836344569943,
          0.6109496864964061,
          0.6315513512332598,
          0.5635418259672733,
          0.6643217617372686
         ],
         "xaxis": "x",
         "y": [
          0.03076923076923077,
          0.041025641025641026,
          0.020512820512820513,
          0.08205128205128205,
          0.02564102564102564,
          0.06153846153846154,
          0.09743589743589744,
          0.05641025641025641,
          0.06153846153846154,
          0.041025641025641026,
          0.06153846153846154,
          0.035897435897435895,
          0.02564102564102564,
          0.041025641025641026,
          0.05641025641025641,
          0.046153846153846156
         ],
         "yaxis": "y"
        },
        {
         "customdata": [
          [
           "Switzerland",
           1960
          ],
          [
           "Switzerland",
           1964
          ],
          [
           "Switzerland",
           1968
          ],
          [
           "Switzerland",
           1972
          ],
          [
           "Switzerland",
           1976
          ],
          [
           "Switzerland",
           1980
          ],
          [
           "Switzerland",
           1984
          ],
          [
           "Switzerland",
           1988
          ],
          [
           "Switzerland",
           1992
          ],
          [
           "Switzerland",
           1996
          ],
          [
           "Switzerland",
           2000
          ],
          [
           "Switzerland",
           2004
          ],
          [
           "Switzerland",
           2008
          ],
          [
           "Switzerland",
           2012
          ],
          [
           "Switzerland",
           2016
          ],
          [
           "Switzerland",
           2021
          ]
         ],
         "hovertemplate": "País=%{customdata[0]}<br>PIB_relativo=%{x}<br>Medallas_relativas=%{y}<br>Año=%{customdata[1]}<extra></extra>",
         "legendgroup": "Switzerland",
         "marker": {
          "color": "#1f77b4",
          "symbol": "circle"
         },
         "mode": "markers",
         "name": "Switzerland",
         "orientation": "v",
         "showlegend": true,
         "type": "scatter",
         "x": [
          0.01941100648854128,
          0.02713389989731938,
          0.03389552793131322,
          0.06215454525593691,
          0.11558123784763943,
          0.21221025495379373,
          0.18590653878924257,
          0.3582242806894894,
          0.4465842308784655,
          0.5262054049330391,
          0.4256876324470758,
          0.5984095427435387,
          0.8156009000939418,
          0.9424879295654643,
          0.9019618552421733,
          1
         ],
         "xaxis": "x",
         "y": [
          0.03076923076923077,
          0.020512820512820513,
          0.02564102564102564,
          0.015384615384615385,
          0.020512820512820513,
          0.010256410256410256,
          0.041025641025641026,
          0.020512820512820513,
          0.005128205128205128,
          0.035897435897435895,
          0.046153846153846156,
          0.02564102564102564,
          0.035897435897435895,
          0.020512820512820513,
          0.035897435897435895,
          0.06666666666666667
         ],
         "yaxis": "y"
        },
        {
         "customdata": [
          [
           "United States of America",
           1960
          ],
          [
           "United States of America",
           1964
          ],
          [
           "United States of America",
           1968
          ],
          [
           "United States of America",
           1972
          ],
          [
           "United States of America",
           1976
          ],
          [
           "United States of America",
           1984
          ],
          [
           "United States of America",
           1988
          ],
          [
           "United States of America",
           1992
          ],
          [
           "United States of America",
           1996
          ],
          [
           "United States of America",
           2000
          ],
          [
           "United States of America",
           2004
          ],
          [
           "United States of America",
           2008
          ],
          [
           "United States of America",
           2012
          ],
          [
           "United States of America",
           2016
          ],
          [
           "United States of America",
           2021
          ]
         ],
         "hovertemplate": "País=%{customdata[0]}<br>PIB_relativo=%{x}<br>Medallas_relativas=%{y}<br>Año=%{customdata[1]}<extra></extra>",
         "legendgroup": "United States of America",
         "marker": {
          "color": "#ff7f0e",
          "symbol": "circle"
         },
         "mode": "markers",
         "name": "United States of America",
         "orientation": "v",
         "showlegend": true,
         "type": "scatter",
         "x": [
          0.032923339086360956,
          0.03912787014178664,
          0.051558779192974025,
          0.06676424966683416,
          0.09406200161667358,
          0.18663841129049877,
          0.2335000983112315,
          0.27737967797609947,
          0.327125161121185,
          0.3966639722106919,
          0.45487514473597973,
          0.529471522513272,
          0.5651475760819697,
          0.6318135145172918,
          0.7561990693203416
         ],
         "xaxis": "x",
         "y": [
          0.3641025641025641,
          0.46153846153846156,
          0.5487179487179488,
          0.48205128205128206,
          0.48205128205128206,
          0.8871794871794871,
          0.48205128205128206,
          0.5538461538461539,
          0.517948717948718,
          0.47692307692307695,
          0.517948717948718,
          0.5743589743589743,
          0.5333333333333333,
          0.6205128205128205,
          0.5794871794871795
         ],
         "yaxis": "y"
        },
        {
         "customdata": [
          [
           "Republic of Korea",
           1964
          ],
          [
           "Republic of Korea",
           1968
          ],
          [
           "Republic of Korea",
           1972
          ],
          [
           "Republic of Korea",
           1976
          ],
          [
           "Republic of Korea",
           1984
          ],
          [
           "Republic of Korea",
           1988
          ],
          [
           "Republic of Korea",
           1992
          ],
          [
           "Republic of Korea",
           1996
          ],
          [
           "Republic of Korea",
           2000
          ],
          [
           "Republic of Korea",
           2004
          ],
          [
           "Republic of Korea",
           2008
          ],
          [
           "Republic of Korea",
           2012
          ],
          [
           "Republic of Korea",
           2016
          ],
          [
           "Republic of Korea",
           2021
          ]
         ],
         "hovertemplate": "País=%{customdata[0]}<br>PIB_relativo=%{x}<br>Medallas_relativas=%{y}<br>Año=%{customdata[1]}<extra></extra>",
         "legendgroup": "Republic of Korea",
         "marker": {
          "color": "#2ca02c",
          "symbol": "circle"
         },
         "mode": "markers",
         "name": "Republic of Korea",
         "orientation": "v",
         "showlegend": true,
         "type": "scatter",
         "x": [
          0.001157887837808315,
          0.001900683809232517,
          0.0035392043344329624,
          0.009110174120114478,
          0.02635833351539117,
          0.05194110064885413,
          0.08875319511502414,
          0.1463526533109038,
          0.13393266772988444,
          0.18030279859305703,
          0.23310685338518342,
          0.2780897035370196,
          0.31991567081030303,
          0.3795250475170952
         ],
         "xaxis": "x",
         "y": [
          0.015384615384615385,
          0.010256410256410256,
          0.005128205128205128,
          0.03076923076923077,
          0.09743589743589744,
          0.16923076923076924,
          0.14871794871794872,
          0.13846153846153847,
          0.14358974358974358,
          0.15384615384615385,
          0.1641025641025641,
          0.15384615384615385,
          0.1076923076923077,
          0.10256410256410256
         ],
         "yaxis": "y"
        },
        {
         "customdata": [
          [
           "People's Republic of China",
           1984
          ],
          [
           "People's Republic of China",
           1988
          ],
          [
           "People's Republic of China",
           1992
          ],
          [
           "People's Republic of China",
           1996
          ],
          [
           "People's Republic of China",
           2000
          ],
          [
           "People's Republic of China",
           2004
          ],
          [
           "People's Republic of China",
           2008
          ],
          [
           "People's Republic of China",
           2012
          ],
          [
           "People's Republic of China",
           2016
          ],
          [
           "People's Republic of China",
           2021
          ]
         ],
         "hovertemplate": "País=%{customdata[0]}<br>PIB_relativo=%{x}<br>Medallas_relativas=%{y}<br>Año=%{customdata[1]}<extra></extra>",
         "legendgroup": "People's Republic of China",
         "marker": {
          "color": "#d62728",
          "symbol": "circle"
         },
         "mode": "markers",
         "name": "People's Republic of China",
         "orientation": "v",
         "showlegend": true,
         "type": "scatter",
         "x": [
          0.0032879645205688944,
          0.004019837021825093,
          0.004587857470561248,
          0.007679199528106089,
          0.010388220129770826,
          0.016385205252004455,
          0.03765320166910624,
          0.06863216306556266,
          0.08807593996460795,
          0.13724247919078933
         ],
         "xaxis": "x",
         "y": [
          0.1641025641025641,
          0.14358974358974358,
          0.27692307692307694,
          0.2564102564102564,
          0.29743589743589743,
          0.3230769230769231,
          0.5128205128205128,
          0.4666666666666667,
          0.358974358974359,
          0.4564102564102564
         ],
         "yaxis": "y"
        }
       ],
       "layout": {
        "legend": {
         "title": {
          "text": "País"
         },
         "tracegroupgap": 0
        },
        "margin": {
         "t": 60
        },
        "template": {
         "data": {
          "bar": [
           {
            "error_x": {
             "color": "#2a3f5f"
            },
            "error_y": {
             "color": "#2a3f5f"
            },
            "marker": {
             "line": {
              "color": "#E5ECF6",
              "width": 0.5
             },
             "pattern": {
              "fillmode": "overlay",
              "size": 10,
              "solidity": 0.2
             }
            },
            "type": "bar"
           }
          ],
          "barpolar": [
           {
            "marker": {
             "line": {
              "color": "#E5ECF6",
              "width": 0.5
             },
             "pattern": {
              "fillmode": "overlay",
              "size": 10,
              "solidity": 0.2
             }
            },
            "type": "barpolar"
           }
          ],
          "carpet": [
           {
            "aaxis": {
             "endlinecolor": "#2a3f5f",
             "gridcolor": "white",
             "linecolor": "white",
             "minorgridcolor": "white",
             "startlinecolor": "#2a3f5f"
            },
            "baxis": {
             "endlinecolor": "#2a3f5f",
             "gridcolor": "white",
             "linecolor": "white",
             "minorgridcolor": "white",
             "startlinecolor": "#2a3f5f"
            },
            "type": "carpet"
           }
          ],
          "choropleth": [
           {
            "colorbar": {
             "outlinewidth": 0,
             "ticks": ""
            },
            "type": "choropleth"
           }
          ],
          "contour": [
           {
            "colorbar": {
             "outlinewidth": 0,
             "ticks": ""
            },
            "colorscale": [
             [
              0,
              "#0d0887"
             ],
             [
              0.1111111111111111,
              "#46039f"
             ],
             [
              0.2222222222222222,
              "#7201a8"
             ],
             [
              0.3333333333333333,
              "#9c179e"
             ],
             [
              0.4444444444444444,
              "#bd3786"
             ],
             [
              0.5555555555555556,
              "#d8576b"
             ],
             [
              0.6666666666666666,
              "#ed7953"
             ],
             [
              0.7777777777777778,
              "#fb9f3a"
             ],
             [
              0.8888888888888888,
              "#fdca26"
             ],
             [
              1,
              "#f0f921"
             ]
            ],
            "type": "contour"
           }
          ],
          "contourcarpet": [
           {
            "colorbar": {
             "outlinewidth": 0,
             "ticks": ""
            },
            "type": "contourcarpet"
           }
          ],
          "heatmap": [
           {
            "colorbar": {
             "outlinewidth": 0,
             "ticks": ""
            },
            "colorscale": [
             [
              0,
              "#0d0887"
             ],
             [
              0.1111111111111111,
              "#46039f"
             ],
             [
              0.2222222222222222,
              "#7201a8"
             ],
             [
              0.3333333333333333,
              "#9c179e"
             ],
             [
              0.4444444444444444,
              "#bd3786"
             ],
             [
              0.5555555555555556,
              "#d8576b"
             ],
             [
              0.6666666666666666,
              "#ed7953"
             ],
             [
              0.7777777777777778,
              "#fb9f3a"
             ],
             [
              0.8888888888888888,
              "#fdca26"
             ],
             [
              1,
              "#f0f921"
             ]
            ],
            "type": "heatmap"
           }
          ],
          "heatmapgl": [
           {
            "colorbar": {
             "outlinewidth": 0,
             "ticks": ""
            },
            "colorscale": [
             [
              0,
              "#0d0887"
             ],
             [
              0.1111111111111111,
              "#46039f"
             ],
             [
              0.2222222222222222,
              "#7201a8"
             ],
             [
              0.3333333333333333,
              "#9c179e"
             ],
             [
              0.4444444444444444,
              "#bd3786"
             ],
             [
              0.5555555555555556,
              "#d8576b"
             ],
             [
              0.6666666666666666,
              "#ed7953"
             ],
             [
              0.7777777777777778,
              "#fb9f3a"
             ],
             [
              0.8888888888888888,
              "#fdca26"
             ],
             [
              1,
              "#f0f921"
             ]
            ],
            "type": "heatmapgl"
           }
          ],
          "histogram": [
           {
            "marker": {
             "pattern": {
              "fillmode": "overlay",
              "size": 10,
              "solidity": 0.2
             }
            },
            "type": "histogram"
           }
          ],
          "histogram2d": [
           {
            "colorbar": {
             "outlinewidth": 0,
             "ticks": ""
            },
            "colorscale": [
             [
              0,
              "#0d0887"
             ],
             [
              0.1111111111111111,
              "#46039f"
             ],
             [
              0.2222222222222222,
              "#7201a8"
             ],
             [
              0.3333333333333333,
              "#9c179e"
             ],
             [
              0.4444444444444444,
              "#bd3786"
             ],
             [
              0.5555555555555556,
              "#d8576b"
             ],
             [
              0.6666666666666666,
              "#ed7953"
             ],
             [
              0.7777777777777778,
              "#fb9f3a"
             ],
             [
              0.8888888888888888,
              "#fdca26"
             ],
             [
              1,
              "#f0f921"
             ]
            ],
            "type": "histogram2d"
           }
          ],
          "histogram2dcontour": [
           {
            "colorbar": {
             "outlinewidth": 0,
             "ticks": ""
            },
            "colorscale": [
             [
              0,
              "#0d0887"
             ],
             [
              0.1111111111111111,
              "#46039f"
             ],
             [
              0.2222222222222222,
              "#7201a8"
             ],
             [
              0.3333333333333333,
              "#9c179e"
             ],
             [
              0.4444444444444444,
              "#bd3786"
             ],
             [
              0.5555555555555556,
              "#d8576b"
             ],
             [
              0.6666666666666666,
              "#ed7953"
             ],
             [
              0.7777777777777778,
              "#fb9f3a"
             ],
             [
              0.8888888888888888,
              "#fdca26"
             ],
             [
              1,
              "#f0f921"
             ]
            ],
            "type": "histogram2dcontour"
           }
          ],
          "mesh3d": [
           {
            "colorbar": {
             "outlinewidth": 0,
             "ticks": ""
            },
            "type": "mesh3d"
           }
          ],
          "parcoords": [
           {
            "line": {
             "colorbar": {
              "outlinewidth": 0,
              "ticks": ""
             }
            },
            "type": "parcoords"
           }
          ],
          "pie": [
           {
            "automargin": true,
            "type": "pie"
           }
          ],
          "scatter": [
           {
            "fillpattern": {
             "fillmode": "overlay",
             "size": 10,
             "solidity": 0.2
            },
            "type": "scatter"
           }
          ],
          "scatter3d": [
           {
            "line": {
             "colorbar": {
              "outlinewidth": 0,
              "ticks": ""
             }
            },
            "marker": {
             "colorbar": {
              "outlinewidth": 0,
              "ticks": ""
             }
            },
            "type": "scatter3d"
           }
          ],
          "scattercarpet": [
           {
            "marker": {
             "colorbar": {
              "outlinewidth": 0,
              "ticks": ""
             }
            },
            "type": "scattercarpet"
           }
          ],
          "scattergeo": [
           {
            "marker": {
             "colorbar": {
              "outlinewidth": 0,
              "ticks": ""
             }
            },
            "type": "scattergeo"
           }
          ],
          "scattergl": [
           {
            "marker": {
             "colorbar": {
              "outlinewidth": 0,
              "ticks": ""
             }
            },
            "type": "scattergl"
           }
          ],
          "scattermapbox": [
           {
            "marker": {
             "colorbar": {
              "outlinewidth": 0,
              "ticks": ""
             }
            },
            "type": "scattermapbox"
           }
          ],
          "scatterpolar": [
           {
            "marker": {
             "colorbar": {
              "outlinewidth": 0,
              "ticks": ""
             }
            },
            "type": "scatterpolar"
           }
          ],
          "scatterpolargl": [
           {
            "marker": {
             "colorbar": {
              "outlinewidth": 0,
              "ticks": ""
             }
            },
            "type": "scatterpolargl"
           }
          ],
          "scatterternary": [
           {
            "marker": {
             "colorbar": {
              "outlinewidth": 0,
              "ticks": ""
             }
            },
            "type": "scatterternary"
           }
          ],
          "surface": [
           {
            "colorbar": {
             "outlinewidth": 0,
             "ticks": ""
            },
            "colorscale": [
             [
              0,
              "#0d0887"
             ],
             [
              0.1111111111111111,
              "#46039f"
             ],
             [
              0.2222222222222222,
              "#7201a8"
             ],
             [
              0.3333333333333333,
              "#9c179e"
             ],
             [
              0.4444444444444444,
              "#bd3786"
             ],
             [
              0.5555555555555556,
              "#d8576b"
             ],
             [
              0.6666666666666666,
              "#ed7953"
             ],
             [
              0.7777777777777778,
              "#fb9f3a"
             ],
             [
              0.8888888888888888,
              "#fdca26"
             ],
             [
              1,
              "#f0f921"
             ]
            ],
            "type": "surface"
           }
          ],
          "table": [
           {
            "cells": {
             "fill": {
              "color": "#EBF0F8"
             },
             "line": {
              "color": "white"
             }
            },
            "header": {
             "fill": {
              "color": "#C8D4E3"
             },
             "line": {
              "color": "white"
             }
            },
            "type": "table"
           }
          ]
         },
         "layout": {
          "annotationdefaults": {
           "arrowcolor": "#2a3f5f",
           "arrowhead": 0,
           "arrowwidth": 1
          },
          "autotypenumbers": "strict",
          "coloraxis": {
           "colorbar": {
            "outlinewidth": 0,
            "ticks": ""
           }
          },
          "colorscale": {
           "diverging": [
            [
             0,
             "#8e0152"
            ],
            [
             0.1,
             "#c51b7d"
            ],
            [
             0.2,
             "#de77ae"
            ],
            [
             0.3,
             "#f1b6da"
            ],
            [
             0.4,
             "#fde0ef"
            ],
            [
             0.5,
             "#f7f7f7"
            ],
            [
             0.6,
             "#e6f5d0"
            ],
            [
             0.7,
             "#b8e186"
            ],
            [
             0.8,
             "#7fbc41"
            ],
            [
             0.9,
             "#4d9221"
            ],
            [
             1,
             "#276419"
            ]
           ],
           "sequential": [
            [
             0,
             "#0d0887"
            ],
            [
             0.1111111111111111,
             "#46039f"
            ],
            [
             0.2222222222222222,
             "#7201a8"
            ],
            [
             0.3333333333333333,
             "#9c179e"
            ],
            [
             0.4444444444444444,
             "#bd3786"
            ],
            [
             0.5555555555555556,
             "#d8576b"
            ],
            [
             0.6666666666666666,
             "#ed7953"
            ],
            [
             0.7777777777777778,
             "#fb9f3a"
            ],
            [
             0.8888888888888888,
             "#fdca26"
            ],
            [
             1,
             "#f0f921"
            ]
           ],
           "sequentialminus": [
            [
             0,
             "#0d0887"
            ],
            [
             0.1111111111111111,
             "#46039f"
            ],
            [
             0.2222222222222222,
             "#7201a8"
            ],
            [
             0.3333333333333333,
             "#9c179e"
            ],
            [
             0.4444444444444444,
             "#bd3786"
            ],
            [
             0.5555555555555556,
             "#d8576b"
            ],
            [
             0.6666666666666666,
             "#ed7953"
            ],
            [
             0.7777777777777778,
             "#fb9f3a"
            ],
            [
             0.8888888888888888,
             "#fdca26"
            ],
            [
             1,
             "#f0f921"
            ]
           ]
          },
          "colorway": [
           "#636efa",
           "#EF553B",
           "#00cc96",
           "#ab63fa",
           "#FFA15A",
           "#19d3f3",
           "#FF6692",
           "#B6E880",
           "#FF97FF",
           "#FECB52"
          ],
          "font": {
           "color": "#2a3f5f"
          },
          "geo": {
           "bgcolor": "white",
           "lakecolor": "white",
           "landcolor": "#E5ECF6",
           "showlakes": true,
           "showland": true,
           "subunitcolor": "white"
          },
          "hoverlabel": {
           "align": "left"
          },
          "hovermode": "closest",
          "mapbox": {
           "style": "light"
          },
          "paper_bgcolor": "white",
          "plot_bgcolor": "#E5ECF6",
          "polar": {
           "angularaxis": {
            "gridcolor": "white",
            "linecolor": "white",
            "ticks": ""
           },
           "bgcolor": "#E5ECF6",
           "radialaxis": {
            "gridcolor": "white",
            "linecolor": "white",
            "ticks": ""
           }
          },
          "scene": {
           "xaxis": {
            "backgroundcolor": "#E5ECF6",
            "gridcolor": "white",
            "gridwidth": 2,
            "linecolor": "white",
            "showbackground": true,
            "ticks": "",
            "zerolinecolor": "white"
           },
           "yaxis": {
            "backgroundcolor": "#E5ECF6",
            "gridcolor": "white",
            "gridwidth": 2,
            "linecolor": "white",
            "showbackground": true,
            "ticks": "",
            "zerolinecolor": "white"
           },
           "zaxis": {
            "backgroundcolor": "#E5ECF6",
            "gridcolor": "white",
            "gridwidth": 2,
            "linecolor": "white",
            "showbackground": true,
            "ticks": "",
            "zerolinecolor": "white"
           }
          },
          "shapedefaults": {
           "line": {
            "color": "#2a3f5f"
           }
          },
          "ternary": {
           "aaxis": {
            "gridcolor": "white",
            "linecolor": "white",
            "ticks": ""
           },
           "baxis": {
            "gridcolor": "white",
            "linecolor": "white",
            "ticks": ""
           },
           "bgcolor": "#E5ECF6",
           "caxis": {
            "gridcolor": "white",
            "linecolor": "white",
            "ticks": ""
           }
          },
          "title": {
           "x": 0.05
          },
          "xaxis": {
           "automargin": true,
           "gridcolor": "white",
           "linecolor": "white",
           "ticks": "",
           "title": {
            "standoff": 15
           },
           "zerolinecolor": "white",
           "zerolinewidth": 2
          },
          "yaxis": {
           "automargin": true,
           "gridcolor": "white",
           "linecolor": "white",
           "ticks": "",
           "title": {
            "standoff": 15
           },
           "zerolinecolor": "white",
           "zerolinewidth": 2
          }
         }
        },
        "title": {
         "text": "GPD vs Medals (relative values)"
        },
        "xaxis": {
         "anchor": "y",
         "domain": [
          0,
          1
         ],
         "title": {
          "text": "Relative GPD"
         }
        },
        "yaxis": {
         "anchor": "x",
         "domain": [
          0,
          1
         ],
         "title": {
          "text": "Relative Medals"
         }
        }
       }
      }
     },
     "metadata": {},
     "output_type": "display_data"
    },
    {
     "data": {
      "text/plain": [
       "'PIBvsMedals_Top25.html'"
      ]
     },
     "execution_count": 122,
     "metadata": {},
     "output_type": "execute_result"
    }
   ],
   "source": [
    "\n",
    "df_medallas_pib['id'] = pd.factorize(df_medallas_pib['País'])[0]\n",
    "color_sequence = ['#1f77b4', '#ff7f0e', '#2ca02c', '#d62728', '#9467bd', '#8c564b', '#e377c2', '#7f7f7f', '#bcbd22', '#17becf']\n",
    "\n",
    "\n",
    "\n",
    "df_medallas_pib[\"PIB_relativo\"] = df_medallas_pib[\"PIB per cápita\"] / df_medallas_pib[\"PIB per cápita\"].max()\n",
    "df_medallas_pib[\"Medallas_relativas\"] = df_medallas_pib[\"Total\"] / df_medallas_pib[\"Total\"].max()\n",
    "\n",
    "# Crear el gráfico de dispersión interactivo\n",
    "#fig = px.scatter(df_medallas_pib, x=\"PIB_relativo\", y=\"Medallas_relativas\", hover_data=[\"País\", \"Año\"])\n",
    "#fig = px.scatter(df_medallas_pib, x='PIB_relativo', y='Medallas_relativas', color='id', hover_data=['País',\"Año\"])\n",
    "fig = px.scatter(df_medallas_pib, x='PIB_relativo', y='Medallas_relativas', color='País', hover_data=['País',\"Año\"], color_discrete_sequence=color_sequence)\n",
    "\n",
    "\n",
    "# Añadir título y etiquetas de los ejes\n",
    "fig.update_layout(\n",
    "    title=\"GPD vs Medals (relative values)\",\n",
    "    xaxis_title=\"Relative GPD\",\n",
    "    yaxis_title=\"Relative Medals\"\n",
    ")\n",
    "\n",
    "# Mostrar el gráfico\n",
    "fig.show()\n",
    "pyo.plot(fig, filename='PIBvsMedals_Top25.html')"
   ]
  },
  {
   "cell_type": "code",
   "execution_count": 125,
   "metadata": {},
   "outputs": [
    {
     "data": {
      "text/html": [
       "<div>\n",
       "<style scoped>\n",
       "    .dataframe tbody tr th:only-of-type {\n",
       "        vertical-align: middle;\n",
       "    }\n",
       "\n",
       "    .dataframe tbody tr th {\n",
       "        vertical-align: top;\n",
       "    }\n",
       "\n",
       "    .dataframe thead th {\n",
       "        text-align: right;\n",
       "    }\n",
       "</style>\n",
       "<table border=\"1\" class=\"dataframe\">\n",
       "  <thead>\n",
       "    <tr style=\"text-align: right;\">\n",
       "      <th></th>\n",
       "      <th>País</th>\n",
       "      <th>Oro</th>\n",
       "      <th>Plata</th>\n",
       "      <th>Bronce</th>\n",
       "      <th>Total</th>\n",
       "      <th>Año</th>\n",
       "      <th>PIB per cápita</th>\n",
       "      <th>id</th>\n",
       "      <th>PIB_relativo</th>\n",
       "      <th>Medallas_relativas</th>\n",
       "    </tr>\n",
       "  </thead>\n",
       "  <tbody>\n",
       "    <tr>\n",
       "      <th>78</th>\n",
       "      <td>Argentina</td>\n",
       "      <td>0</td>\n",
       "      <td>0</td>\n",
       "      <td>2</td>\n",
       "      <td>2.0</td>\n",
       "      <td>1968</td>\n",
       "      <td>1144.0</td>\n",
       "      <td>0</td>\n",
       "      <td>0.012496</td>\n",
       "      <td>0.010256</td>\n",
       "    </tr>\n",
       "    <tr>\n",
       "      <th>79</th>\n",
       "      <td>Australia</td>\n",
       "      <td>5</td>\n",
       "      <td>7</td>\n",
       "      <td>5</td>\n",
       "      <td>17.0</td>\n",
       "      <td>1968</td>\n",
       "      <td>2724.0</td>\n",
       "      <td>1</td>\n",
       "      <td>0.029756</td>\n",
       "      <td>0.087179</td>\n",
       "    </tr>\n",
       "    <tr>\n",
       "      <th>80</th>\n",
       "      <td>Austria</td>\n",
       "      <td>0</td>\n",
       "      <td>2</td>\n",
       "      <td>2</td>\n",
       "      <td>4.0</td>\n",
       "      <td>1968</td>\n",
       "      <td>1675.0</td>\n",
       "      <td>2</td>\n",
       "      <td>0.018297</td>\n",
       "      <td>0.020513</td>\n",
       "    </tr>\n",
       "    <tr>\n",
       "      <th>81</th>\n",
       "      <td>Belgium</td>\n",
       "      <td>0</td>\n",
       "      <td>1</td>\n",
       "      <td>1</td>\n",
       "      <td>2.0</td>\n",
       "      <td>1968</td>\n",
       "      <td>2219.0</td>\n",
       "      <td>3</td>\n",
       "      <td>0.024239</td>\n",
       "      <td>0.010256</td>\n",
       "    </tr>\n",
       "    <tr>\n",
       "      <th>82</th>\n",
       "      <td>Brazil</td>\n",
       "      <td>0</td>\n",
       "      <td>1</td>\n",
       "      <td>2</td>\n",
       "      <td>3.0</td>\n",
       "      <td>1968</td>\n",
       "      <td>370.0</td>\n",
       "      <td>4</td>\n",
       "      <td>0.004042</td>\n",
       "      <td>0.015385</td>\n",
       "    </tr>\n",
       "    <tr>\n",
       "      <th>85</th>\n",
       "      <td>Canada</td>\n",
       "      <td>1</td>\n",
       "      <td>3</td>\n",
       "      <td>1</td>\n",
       "      <td>5.0</td>\n",
       "      <td>1968</td>\n",
       "      <td>3451.0</td>\n",
       "      <td>5</td>\n",
       "      <td>0.037697</td>\n",
       "      <td>0.025641</td>\n",
       "    </tr>\n",
       "    <tr>\n",
       "      <th>87</th>\n",
       "      <td>Denmark</td>\n",
       "      <td>1</td>\n",
       "      <td>4</td>\n",
       "      <td>3</td>\n",
       "      <td>8.0</td>\n",
       "      <td>1968</td>\n",
       "      <td>2769.0</td>\n",
       "      <td>6</td>\n",
       "      <td>0.030247</td>\n",
       "      <td>0.041026</td>\n",
       "    </tr>\n",
       "    <tr>\n",
       "      <th>89</th>\n",
       "      <td>Germany</td>\n",
       "      <td>5</td>\n",
       "      <td>11</td>\n",
       "      <td>10</td>\n",
       "      <td>26.0</td>\n",
       "      <td>1968</td>\n",
       "      <td>NaN</td>\n",
       "      <td>9</td>\n",
       "      <td>NaN</td>\n",
       "      <td>0.133333</td>\n",
       "    </tr>\n",
       "    <tr>\n",
       "      <th>90</th>\n",
       "      <td>Germany</td>\n",
       "      <td>9</td>\n",
       "      <td>9</td>\n",
       "      <td>7</td>\n",
       "      <td>25.0</td>\n",
       "      <td>1968</td>\n",
       "      <td>NaN</td>\n",
       "      <td>9</td>\n",
       "      <td>NaN</td>\n",
       "      <td>0.128205</td>\n",
       "    </tr>\n",
       "    <tr>\n",
       "      <th>91</th>\n",
       "      <td>Finland</td>\n",
       "      <td>1</td>\n",
       "      <td>2</td>\n",
       "      <td>1</td>\n",
       "      <td>4.0</td>\n",
       "      <td>1968</td>\n",
       "      <td>1904.0</td>\n",
       "      <td>7</td>\n",
       "      <td>0.020798</td>\n",
       "      <td>0.020513</td>\n",
       "    </tr>\n",
       "    <tr>\n",
       "      <th>92</th>\n",
       "      <td>France</td>\n",
       "      <td>7</td>\n",
       "      <td>3</td>\n",
       "      <td>5</td>\n",
       "      <td>15.0</td>\n",
       "      <td>1968</td>\n",
       "      <td>2536.0</td>\n",
       "      <td>8</td>\n",
       "      <td>0.027702</td>\n",
       "      <td>0.076923</td>\n",
       "    </tr>\n",
       "    <tr>\n",
       "      <th>93</th>\n",
       "      <td>Great Britain</td>\n",
       "      <td>5</td>\n",
       "      <td>5</td>\n",
       "      <td>3</td>\n",
       "      <td>13.0</td>\n",
       "      <td>1968</td>\n",
       "      <td>1947.0</td>\n",
       "      <td>10</td>\n",
       "      <td>0.021268</td>\n",
       "      <td>0.066667</td>\n",
       "    </tr>\n",
       "    <tr>\n",
       "      <th>95</th>\n",
       "      <td>Hungary</td>\n",
       "      <td>10</td>\n",
       "      <td>10</td>\n",
       "      <td>12</td>\n",
       "      <td>32.0</td>\n",
       "      <td>1968</td>\n",
       "      <td>456.0</td>\n",
       "      <td>11</td>\n",
       "      <td>0.004981</td>\n",
       "      <td>0.164103</td>\n",
       "    </tr>\n",
       "    <tr>\n",
       "      <th>98</th>\n",
       "      <td>Italy</td>\n",
       "      <td>3</td>\n",
       "      <td>4</td>\n",
       "      <td>9</td>\n",
       "      <td>16.0</td>\n",
       "      <td>1968</td>\n",
       "      <td>1647.0</td>\n",
       "      <td>12</td>\n",
       "      <td>0.017991</td>\n",
       "      <td>0.082051</td>\n",
       "    </tr>\n",
       "    <tr>\n",
       "      <th>100</th>\n",
       "      <td>Japan</td>\n",
       "      <td>11</td>\n",
       "      <td>7</td>\n",
       "      <td>7</td>\n",
       "      <td>25.0</td>\n",
       "      <td>1968</td>\n",
       "      <td>1451.0</td>\n",
       "      <td>13</td>\n",
       "      <td>0.015850</td>\n",
       "      <td>0.128205</td>\n",
       "    </tr>\n",
       "    <tr>\n",
       "      <th>104</th>\n",
       "      <td>Netherlands</td>\n",
       "      <td>3</td>\n",
       "      <td>3</td>\n",
       "      <td>1</td>\n",
       "      <td>7.0</td>\n",
       "      <td>1968</td>\n",
       "      <td>2174.0</td>\n",
       "      <td>14</td>\n",
       "      <td>0.023748</td>\n",
       "      <td>0.035897</td>\n",
       "    </tr>\n",
       "    <tr>\n",
       "      <th>108</th>\n",
       "      <td>Poland</td>\n",
       "      <td>5</td>\n",
       "      <td>2</td>\n",
       "      <td>11</td>\n",
       "      <td>18.0</td>\n",
       "      <td>1968</td>\n",
       "      <td>NaN</td>\n",
       "      <td>15</td>\n",
       "      <td>NaN</td>\n",
       "      <td>0.092308</td>\n",
       "    </tr>\n",
       "    <tr>\n",
       "      <th>109</th>\n",
       "      <td>Republic of Korea</td>\n",
       "      <td>0</td>\n",
       "      <td>1</td>\n",
       "      <td>1</td>\n",
       "      <td>2.0</td>\n",
       "      <td>1968</td>\n",
       "      <td>174.0</td>\n",
       "      <td>22</td>\n",
       "      <td>0.001901</td>\n",
       "      <td>0.010256</td>\n",
       "    </tr>\n",
       "    <tr>\n",
       "      <th>110</th>\n",
       "      <td>Romania</td>\n",
       "      <td>4</td>\n",
       "      <td>6</td>\n",
       "      <td>5</td>\n",
       "      <td>15.0</td>\n",
       "      <td>1968</td>\n",
       "      <td>NaN</td>\n",
       "      <td>16</td>\n",
       "      <td>NaN</td>\n",
       "      <td>0.076923</td>\n",
       "    </tr>\n",
       "    <tr>\n",
       "      <th>111</th>\n",
       "      <td>Russian Federation</td>\n",
       "      <td>29</td>\n",
       "      <td>32</td>\n",
       "      <td>30</td>\n",
       "      <td>91.0</td>\n",
       "      <td>1968</td>\n",
       "      <td>NaN</td>\n",
       "      <td>17</td>\n",
       "      <td>NaN</td>\n",
       "      <td>0.466667</td>\n",
       "    </tr>\n",
       "    <tr>\n",
       "      <th>112</th>\n",
       "      <td>Sweden</td>\n",
       "      <td>2</td>\n",
       "      <td>1</td>\n",
       "      <td>1</td>\n",
       "      <td>4.0</td>\n",
       "      <td>1968</td>\n",
       "      <td>3917.0</td>\n",
       "      <td>19</td>\n",
       "      <td>0.042787</td>\n",
       "      <td>0.020513</td>\n",
       "    </tr>\n",
       "    <tr>\n",
       "      <th>113</th>\n",
       "      <td>Switzerland</td>\n",
       "      <td>0</td>\n",
       "      <td>1</td>\n",
       "      <td>4</td>\n",
       "      <td>5.0</td>\n",
       "      <td>1968</td>\n",
       "      <td>3103.0</td>\n",
       "      <td>20</td>\n",
       "      <td>0.033896</td>\n",
       "      <td>0.025641</td>\n",
       "    </tr>\n",
       "    <tr>\n",
       "      <th>117</th>\n",
       "      <td>United States of America</td>\n",
       "      <td>45</td>\n",
       "      <td>28</td>\n",
       "      <td>34</td>\n",
       "      <td>107.0</td>\n",
       "      <td>1968</td>\n",
       "      <td>4720.0</td>\n",
       "      <td>21</td>\n",
       "      <td>0.051559</td>\n",
       "      <td>0.548718</td>\n",
       "    </tr>\n",
       "  </tbody>\n",
       "</table>\n",
       "</div>"
      ],
      "text/plain": [
       "                         País  Oro  Plata  Bronce  Total   Año  \\\n",
       "78                  Argentina    0      0       2    2.0  1968   \n",
       "79                  Australia    5      7       5   17.0  1968   \n",
       "80                    Austria    0      2       2    4.0  1968   \n",
       "81                    Belgium    0      1       1    2.0  1968   \n",
       "82                     Brazil    0      1       2    3.0  1968   \n",
       "85                     Canada    1      3       1    5.0  1968   \n",
       "87                    Denmark    1      4       3    8.0  1968   \n",
       "89                    Germany    5     11      10   26.0  1968   \n",
       "90                    Germany    9      9       7   25.0  1968   \n",
       "91                    Finland    1      2       1    4.0  1968   \n",
       "92                     France    7      3       5   15.0  1968   \n",
       "93              Great Britain    5      5       3   13.0  1968   \n",
       "95                    Hungary   10     10      12   32.0  1968   \n",
       "98                      Italy    3      4       9   16.0  1968   \n",
       "100                     Japan   11      7       7   25.0  1968   \n",
       "104               Netherlands    3      3       1    7.0  1968   \n",
       "108                    Poland    5      2      11   18.0  1968   \n",
       "109         Republic of Korea    0      1       1    2.0  1968   \n",
       "110                   Romania    4      6       5   15.0  1968   \n",
       "111        Russian Federation   29     32      30   91.0  1968   \n",
       "112                    Sweden    2      1       1    4.0  1968   \n",
       "113               Switzerland    0      1       4    5.0  1968   \n",
       "117  United States of America   45     28      34  107.0  1968   \n",
       "\n",
       "     PIB per cápita  id  PIB_relativo  Medallas_relativas  \n",
       "78           1144.0   0      0.012496            0.010256  \n",
       "79           2724.0   1      0.029756            0.087179  \n",
       "80           1675.0   2      0.018297            0.020513  \n",
       "81           2219.0   3      0.024239            0.010256  \n",
       "82            370.0   4      0.004042            0.015385  \n",
       "85           3451.0   5      0.037697            0.025641  \n",
       "87           2769.0   6      0.030247            0.041026  \n",
       "89              NaN   9           NaN            0.133333  \n",
       "90              NaN   9           NaN            0.128205  \n",
       "91           1904.0   7      0.020798            0.020513  \n",
       "92           2536.0   8      0.027702            0.076923  \n",
       "93           1947.0  10      0.021268            0.066667  \n",
       "95            456.0  11      0.004981            0.164103  \n",
       "98           1647.0  12      0.017991            0.082051  \n",
       "100          1451.0  13      0.015850            0.128205  \n",
       "104          2174.0  14      0.023748            0.035897  \n",
       "108             NaN  15           NaN            0.092308  \n",
       "109           174.0  22      0.001901            0.010256  \n",
       "110             NaN  16           NaN            0.076923  \n",
       "111             NaN  17           NaN            0.466667  \n",
       "112          3917.0  19      0.042787            0.020513  \n",
       "113          3103.0  20      0.033896            0.025641  \n",
       "117          4720.0  21      0.051559            0.548718  "
      ]
     },
     "execution_count": 125,
     "metadata": {},
     "output_type": "execute_result"
    }
   ],
   "source": [
    "df_medallas_pib[df_medallas_pib[\"Año\"]==1968]"
   ]
  },
  {
   "cell_type": "code",
   "execution_count": 124,
   "metadata": {},
   "outputs": [
    {
     "data": {
      "text/html": [
       "<div>\n",
       "<style scoped>\n",
       "    .dataframe tbody tr th:only-of-type {\n",
       "        vertical-align: middle;\n",
       "    }\n",
       "\n",
       "    .dataframe tbody tr th {\n",
       "        vertical-align: top;\n",
       "    }\n",
       "\n",
       "    .dataframe thead th {\n",
       "        text-align: right;\n",
       "    }\n",
       "</style>\n",
       "<table border=\"1\" class=\"dataframe\">\n",
       "  <thead>\n",
       "    <tr style=\"text-align: right;\">\n",
       "      <th></th>\n",
       "      <th>País</th>\n",
       "      <th>Oro</th>\n",
       "      <th>Plata</th>\n",
       "      <th>Bronce</th>\n",
       "      <th>Total</th>\n",
       "      <th>Año</th>\n",
       "      <th>PIB per cápita</th>\n",
       "      <th>id</th>\n",
       "      <th>PIB_relativo</th>\n",
       "      <th>Medallas_relativas</th>\n",
       "    </tr>\n",
       "  </thead>\n",
       "  <tbody>\n",
       "    <tr>\n",
       "      <th>37</th>\n",
       "      <td>United States of America</td>\n",
       "      <td>34</td>\n",
       "      <td>21</td>\n",
       "      <td>16</td>\n",
       "      <td>71.0</td>\n",
       "      <td>1960</td>\n",
       "      <td>3014.0</td>\n",
       "      <td>21</td>\n",
       "      <td>0.032923</td>\n",
       "      <td>0.364103</td>\n",
       "    </tr>\n",
       "    <tr>\n",
       "      <th>76</th>\n",
       "      <td>United States of America</td>\n",
       "      <td>36</td>\n",
       "      <td>26</td>\n",
       "      <td>28</td>\n",
       "      <td>90.0</td>\n",
       "      <td>1964</td>\n",
       "      <td>3582.0</td>\n",
       "      <td>21</td>\n",
       "      <td>0.039128</td>\n",
       "      <td>0.461538</td>\n",
       "    </tr>\n",
       "    <tr>\n",
       "      <th>117</th>\n",
       "      <td>United States of America</td>\n",
       "      <td>45</td>\n",
       "      <td>28</td>\n",
       "      <td>34</td>\n",
       "      <td>107.0</td>\n",
       "      <td>1968</td>\n",
       "      <td>4720.0</td>\n",
       "      <td>21</td>\n",
       "      <td>0.051559</td>\n",
       "      <td>0.548718</td>\n",
       "    </tr>\n",
       "    <tr>\n",
       "      <th>163</th>\n",
       "      <td>United States of America</td>\n",
       "      <td>33</td>\n",
       "      <td>31</td>\n",
       "      <td>30</td>\n",
       "      <td>94.0</td>\n",
       "      <td>1972</td>\n",
       "      <td>6112.0</td>\n",
       "      <td>21</td>\n",
       "      <td>0.066764</td>\n",
       "      <td>0.482051</td>\n",
       "    </tr>\n",
       "    <tr>\n",
       "      <th>198</th>\n",
       "      <td>United States of America</td>\n",
       "      <td>34</td>\n",
       "      <td>35</td>\n",
       "      <td>25</td>\n",
       "      <td>94.0</td>\n",
       "      <td>1976</td>\n",
       "      <td>8611.0</td>\n",
       "      <td>21</td>\n",
       "      <td>0.094062</td>\n",
       "      <td>0.482051</td>\n",
       "    </tr>\n",
       "    <tr>\n",
       "      <th>272</th>\n",
       "      <td>United States of America</td>\n",
       "      <td>82</td>\n",
       "      <td>61</td>\n",
       "      <td>30</td>\n",
       "      <td>173.0</td>\n",
       "      <td>1984</td>\n",
       "      <td>17086.0</td>\n",
       "      <td>21</td>\n",
       "      <td>0.186638</td>\n",
       "      <td>0.887179</td>\n",
       "    </tr>\n",
       "    <tr>\n",
       "      <th>322</th>\n",
       "      <td>United States of America</td>\n",
       "      <td>36</td>\n",
       "      <td>31</td>\n",
       "      <td>27</td>\n",
       "      <td>94.0</td>\n",
       "      <td>1988</td>\n",
       "      <td>21376.0</td>\n",
       "      <td>21</td>\n",
       "      <td>0.233500</td>\n",
       "      <td>0.482051</td>\n",
       "    </tr>\n",
       "    <tr>\n",
       "      <th>380</th>\n",
       "      <td>United States of America</td>\n",
       "      <td>37</td>\n",
       "      <td>34</td>\n",
       "      <td>37</td>\n",
       "      <td>108.0</td>\n",
       "      <td>1992</td>\n",
       "      <td>25393.0</td>\n",
       "      <td>21</td>\n",
       "      <td>0.277380</td>\n",
       "      <td>0.553846</td>\n",
       "    </tr>\n",
       "    <tr>\n",
       "      <th>449</th>\n",
       "      <td>United States of America</td>\n",
       "      <td>44</td>\n",
       "      <td>32</td>\n",
       "      <td>25</td>\n",
       "      <td>101.0</td>\n",
       "      <td>1996</td>\n",
       "      <td>29947.0</td>\n",
       "      <td>21</td>\n",
       "      <td>0.327125</td>\n",
       "      <td>0.517949</td>\n",
       "    </tr>\n",
       "    <tr>\n",
       "      <th>523</th>\n",
       "      <td>United States of America</td>\n",
       "      <td>37</td>\n",
       "      <td>24</td>\n",
       "      <td>32</td>\n",
       "      <td>93.0</td>\n",
       "      <td>2000</td>\n",
       "      <td>36313.0</td>\n",
       "      <td>21</td>\n",
       "      <td>0.396664</td>\n",
       "      <td>0.476923</td>\n",
       "    </tr>\n",
       "    <tr>\n",
       "      <th>590</th>\n",
       "      <td>United States of America</td>\n",
       "      <td>36</td>\n",
       "      <td>39</td>\n",
       "      <td>26</td>\n",
       "      <td>101.0</td>\n",
       "      <td>2004</td>\n",
       "      <td>41642.0</td>\n",
       "      <td>21</td>\n",
       "      <td>0.454875</td>\n",
       "      <td>0.517949</td>\n",
       "    </tr>\n",
       "    <tr>\n",
       "      <th>672</th>\n",
       "      <td>United States of America</td>\n",
       "      <td>36</td>\n",
       "      <td>39</td>\n",
       "      <td>37</td>\n",
       "      <td>112.0</td>\n",
       "      <td>2008</td>\n",
       "      <td>48471.0</td>\n",
       "      <td>21</td>\n",
       "      <td>0.529472</td>\n",
       "      <td>0.574359</td>\n",
       "    </tr>\n",
       "    <tr>\n",
       "      <th>753</th>\n",
       "      <td>United States of America</td>\n",
       "      <td>46</td>\n",
       "      <td>28</td>\n",
       "      <td>30</td>\n",
       "      <td>104.0</td>\n",
       "      <td>2012</td>\n",
       "      <td>51737.0</td>\n",
       "      <td>21</td>\n",
       "      <td>0.565148</td>\n",
       "      <td>0.533333</td>\n",
       "    </tr>\n",
       "    <tr>\n",
       "      <th>832</th>\n",
       "      <td>United States of America</td>\n",
       "      <td>46</td>\n",
       "      <td>37</td>\n",
       "      <td>38</td>\n",
       "      <td>121.0</td>\n",
       "      <td>2016</td>\n",
       "      <td>57840.0</td>\n",
       "      <td>21</td>\n",
       "      <td>0.631814</td>\n",
       "      <td>0.620513</td>\n",
       "    </tr>\n",
       "    <tr>\n",
       "      <th>916</th>\n",
       "      <td>United States of America</td>\n",
       "      <td>39</td>\n",
       "      <td>41</td>\n",
       "      <td>33</td>\n",
       "      <td>113.0</td>\n",
       "      <td>2021</td>\n",
       "      <td>69227.0</td>\n",
       "      <td>21</td>\n",
       "      <td>0.756199</td>\n",
       "      <td>0.579487</td>\n",
       "    </tr>\n",
       "  </tbody>\n",
       "</table>\n",
       "</div>"
      ],
      "text/plain": [
       "                         País  Oro  Plata  Bronce  Total   Año  \\\n",
       "37   United States of America   34     21      16   71.0  1960   \n",
       "76   United States of America   36     26      28   90.0  1964   \n",
       "117  United States of America   45     28      34  107.0  1968   \n",
       "163  United States of America   33     31      30   94.0  1972   \n",
       "198  United States of America   34     35      25   94.0  1976   \n",
       "272  United States of America   82     61      30  173.0  1984   \n",
       "322  United States of America   36     31      27   94.0  1988   \n",
       "380  United States of America   37     34      37  108.0  1992   \n",
       "449  United States of America   44     32      25  101.0  1996   \n",
       "523  United States of America   37     24      32   93.0  2000   \n",
       "590  United States of America   36     39      26  101.0  2004   \n",
       "672  United States of America   36     39      37  112.0  2008   \n",
       "753  United States of America   46     28      30  104.0  2012   \n",
       "832  United States of America   46     37      38  121.0  2016   \n",
       "916  United States of America   39     41      33  113.0  2021   \n",
       "\n",
       "     PIB per cápita  id  PIB_relativo  Medallas_relativas  \n",
       "37           3014.0  21      0.032923            0.364103  \n",
       "76           3582.0  21      0.039128            0.461538  \n",
       "117          4720.0  21      0.051559            0.548718  \n",
       "163          6112.0  21      0.066764            0.482051  \n",
       "198          8611.0  21      0.094062            0.482051  \n",
       "272         17086.0  21      0.186638            0.887179  \n",
       "322         21376.0  21      0.233500            0.482051  \n",
       "380         25393.0  21      0.277380            0.553846  \n",
       "449         29947.0  21      0.327125            0.517949  \n",
       "523         36313.0  21      0.396664            0.476923  \n",
       "590         41642.0  21      0.454875            0.517949  \n",
       "672         48471.0  21      0.529472            0.574359  \n",
       "753         51737.0  21      0.565148            0.533333  \n",
       "832         57840.0  21      0.631814            0.620513  \n",
       "916         69227.0  21      0.756199            0.579487  "
      ]
     },
     "execution_count": 124,
     "metadata": {},
     "output_type": "execute_result"
    }
   ],
   "source": [
    "df_medallas_pib[df_medallas_pib[\"País\"]==\"United States of America\"]"
   ]
  },
  {
   "cell_type": "code",
   "execution_count": 41,
   "metadata": {},
   "outputs": [
    {
     "name": "stderr",
     "output_type": "stream",
     "text": [
      "C:\\Users\\Admin\\AppData\\Roaming\\Python\\Python37\\site-packages\\ipykernel_launcher.py:1: FutureWarning:\n",
      "\n",
      "The default value of regex will change from True to False in a future version. In addition, single character regular expressions will *not* be treated as literal strings when regex=True.\n",
      "\n"
     ]
    }
   ],
   "source": [
    "df_pib_melted['PIB per cápita'] = df_pib_melted['PIB per cápita'].str.replace('$', '').str.replace(',', '').astype(float)\n",
    "df_pib_melted['PIB per cápita'] = pd.to_numeric(df_pib_melted['PIB per cápita'])"
   ]
  },
  {
   "cell_type": "code",
   "execution_count": 42,
   "metadata": {},
   "outputs": [
    {
     "data": {
      "text/html": [
       "<div>\n",
       "<style scoped>\n",
       "    .dataframe tbody tr th:only-of-type {\n",
       "        vertical-align: middle;\n",
       "    }\n",
       "\n",
       "    .dataframe tbody tr th {\n",
       "        vertical-align: top;\n",
       "    }\n",
       "\n",
       "    .dataframe thead th {\n",
       "        text-align: right;\n",
       "    }\n",
       "</style>\n",
       "<table border=\"1\" class=\"dataframe\">\n",
       "  <thead>\n",
       "    <tr style=\"text-align: right;\">\n",
       "      <th></th>\n",
       "      <th>País</th>\n",
       "      <th>Año</th>\n",
       "      <th>PIB per cápita</th>\n",
       "    </tr>\n",
       "  </thead>\n",
       "  <tbody>\n",
       "    <tr>\n",
       "      <th>0</th>\n",
       "      <td>United States of America</td>\n",
       "      <td>1960</td>\n",
       "      <td>3014.0</td>\n",
       "    </tr>\n",
       "    <tr>\n",
       "      <th>1</th>\n",
       "      <td>Euro zone</td>\n",
       "      <td>1960</td>\n",
       "      <td>923.0</td>\n",
       "    </tr>\n",
       "    <tr>\n",
       "      <th>2</th>\n",
       "      <td>Great Britain</td>\n",
       "      <td>1960</td>\n",
       "      <td>1392.0</td>\n",
       "    </tr>\n",
       "    <tr>\n",
       "      <th>3</th>\n",
       "      <td>Germany</td>\n",
       "      <td>1960</td>\n",
       "      <td>NaN</td>\n",
       "    </tr>\n",
       "    <tr>\n",
       "      <th>4</th>\n",
       "      <td>France</td>\n",
       "      <td>1960</td>\n",
       "      <td>1335.0</td>\n",
       "    </tr>\n",
       "    <tr>\n",
       "      <th>...</th>\n",
       "      <td>...</td>\n",
       "      <td>...</td>\n",
       "      <td>...</td>\n",
       "    </tr>\n",
       "    <tr>\n",
       "      <th>3147</th>\n",
       "      <td>Tajikistan</td>\n",
       "      <td>2021</td>\n",
       "      <td>897.0</td>\n",
       "    </tr>\n",
       "    <tr>\n",
       "      <th>3148</th>\n",
       "      <td>Timor-Leste</td>\n",
       "      <td>2021</td>\n",
       "      <td>2741.0</td>\n",
       "    </tr>\n",
       "    <tr>\n",
       "      <th>3149</th>\n",
       "      <td>Uzbekistan</td>\n",
       "      <td>2021</td>\n",
       "      <td>2002.0</td>\n",
       "    </tr>\n",
       "    <tr>\n",
       "      <th>3150</th>\n",
       "      <td>Yemen</td>\n",
       "      <td>2021</td>\n",
       "      <td>639.0</td>\n",
       "    </tr>\n",
       "    <tr>\n",
       "      <th>3151</th>\n",
       "      <td>South Sudan</td>\n",
       "      <td>2021</td>\n",
       "      <td>448.0</td>\n",
       "    </tr>\n",
       "  </tbody>\n",
       "</table>\n",
       "<p>3152 rows × 3 columns</p>\n",
       "</div>"
      ],
      "text/plain": [
       "                          País   Año  PIB per cápita\n",
       "0     United States of America  1960          3014.0\n",
       "1                    Euro zone  1960           923.0\n",
       "2                Great Britain  1960          1392.0\n",
       "3                      Germany  1960             NaN\n",
       "4                       France  1960          1335.0\n",
       "...                        ...   ...             ...\n",
       "3147                Tajikistan  2021           897.0\n",
       "3148               Timor-Leste  2021          2741.0\n",
       "3149                Uzbekistan  2021          2002.0\n",
       "3150                     Yemen  2021           639.0\n",
       "3151               South Sudan  2021           448.0\n",
       "\n",
       "[3152 rows x 3 columns]"
      ]
     },
     "execution_count": 42,
     "metadata": {},
     "output_type": "execute_result"
    }
   ],
   "source": [
    "df_pib_melted"
   ]
  },
  {
   "cell_type": "code",
   "execution_count": 43,
   "metadata": {},
   "outputs": [],
   "source": [
    "\n",
    "pib_medio = df_pib_melted.groupby(\"Año\")[\"PIB per cápita\"].transform(\"mean\")\n",
    "df_pib_melted[\"PIB medio\"] = pib_medio"
   ]
  },
  {
   "cell_type": "code",
   "execution_count": 44,
   "metadata": {},
   "outputs": [
    {
     "data": {
      "text/html": [
       "<div>\n",
       "<style scoped>\n",
       "    .dataframe tbody tr th:only-of-type {\n",
       "        vertical-align: middle;\n",
       "    }\n",
       "\n",
       "    .dataframe tbody tr th {\n",
       "        vertical-align: top;\n",
       "    }\n",
       "\n",
       "    .dataframe thead th {\n",
       "        text-align: right;\n",
       "    }\n",
       "</style>\n",
       "<table border=\"1\" class=\"dataframe\">\n",
       "  <thead>\n",
       "    <tr style=\"text-align: right;\">\n",
       "      <th></th>\n",
       "      <th>País</th>\n",
       "      <th>Año</th>\n",
       "      <th>PIB per cápita</th>\n",
       "      <th>PIB medio</th>\n",
       "    </tr>\n",
       "  </thead>\n",
       "  <tbody>\n",
       "    <tr>\n",
       "      <th>0</th>\n",
       "      <td>United States of America</td>\n",
       "      <td>1960</td>\n",
       "      <td>3014.0</td>\n",
       "      <td>478.542056</td>\n",
       "    </tr>\n",
       "    <tr>\n",
       "      <th>1</th>\n",
       "      <td>Euro zone</td>\n",
       "      <td>1960</td>\n",
       "      <td>923.0</td>\n",
       "      <td>478.542056</td>\n",
       "    </tr>\n",
       "    <tr>\n",
       "      <th>2</th>\n",
       "      <td>Great Britain</td>\n",
       "      <td>1960</td>\n",
       "      <td>1392.0</td>\n",
       "      <td>478.542056</td>\n",
       "    </tr>\n",
       "    <tr>\n",
       "      <th>3</th>\n",
       "      <td>Germany</td>\n",
       "      <td>1960</td>\n",
       "      <td>NaN</td>\n",
       "      <td>478.542056</td>\n",
       "    </tr>\n",
       "    <tr>\n",
       "      <th>4</th>\n",
       "      <td>France</td>\n",
       "      <td>1960</td>\n",
       "      <td>1335.0</td>\n",
       "      <td>478.542056</td>\n",
       "    </tr>\n",
       "    <tr>\n",
       "      <th>...</th>\n",
       "      <td>...</td>\n",
       "      <td>...</td>\n",
       "      <td>...</td>\n",
       "      <td>...</td>\n",
       "    </tr>\n",
       "    <tr>\n",
       "      <th>3147</th>\n",
       "      <td>Tajikistan</td>\n",
       "      <td>2021</td>\n",
       "      <td>897.0</td>\n",
       "      <td>17182.192893</td>\n",
       "    </tr>\n",
       "    <tr>\n",
       "      <th>3148</th>\n",
       "      <td>Timor-Leste</td>\n",
       "      <td>2021</td>\n",
       "      <td>2741.0</td>\n",
       "      <td>17182.192893</td>\n",
       "    </tr>\n",
       "    <tr>\n",
       "      <th>3149</th>\n",
       "      <td>Uzbekistan</td>\n",
       "      <td>2021</td>\n",
       "      <td>2002.0</td>\n",
       "      <td>17182.192893</td>\n",
       "    </tr>\n",
       "    <tr>\n",
       "      <th>3150</th>\n",
       "      <td>Yemen</td>\n",
       "      <td>2021</td>\n",
       "      <td>639.0</td>\n",
       "      <td>17182.192893</td>\n",
       "    </tr>\n",
       "    <tr>\n",
       "      <th>3151</th>\n",
       "      <td>South Sudan</td>\n",
       "      <td>2021</td>\n",
       "      <td>448.0</td>\n",
       "      <td>17182.192893</td>\n",
       "    </tr>\n",
       "  </tbody>\n",
       "</table>\n",
       "<p>3152 rows × 4 columns</p>\n",
       "</div>"
      ],
      "text/plain": [
       "                          País   Año  PIB per cápita     PIB medio\n",
       "0     United States of America  1960          3014.0    478.542056\n",
       "1                    Euro zone  1960           923.0    478.542056\n",
       "2                Great Britain  1960          1392.0    478.542056\n",
       "3                      Germany  1960             NaN    478.542056\n",
       "4                       France  1960          1335.0    478.542056\n",
       "...                        ...   ...             ...           ...\n",
       "3147                Tajikistan  2021           897.0  17182.192893\n",
       "3148               Timor-Leste  2021          2741.0  17182.192893\n",
       "3149                Uzbekistan  2021          2002.0  17182.192893\n",
       "3150                     Yemen  2021           639.0  17182.192893\n",
       "3151               South Sudan  2021           448.0  17182.192893\n",
       "\n",
       "[3152 rows x 4 columns]"
      ]
     },
     "execution_count": 44,
     "metadata": {},
     "output_type": "execute_result"
    }
   ],
   "source": [
    "df_pib_melted"
   ]
  },
  {
   "cell_type": "code",
   "execution_count": 45,
   "metadata": {},
   "outputs": [],
   "source": [
    "df_pib_melted_media_year=df_pib_melted[df_pib_melted[\"País\"]==\"United States of America\"]"
   ]
  },
  {
   "cell_type": "code",
   "execution_count": 46,
   "metadata": {},
   "outputs": [
    {
     "data": {
      "text/html": [
       "<div>\n",
       "<style scoped>\n",
       "    .dataframe tbody tr th:only-of-type {\n",
       "        vertical-align: middle;\n",
       "    }\n",
       "\n",
       "    .dataframe tbody tr th {\n",
       "        vertical-align: top;\n",
       "    }\n",
       "\n",
       "    .dataframe thead th {\n",
       "        text-align: right;\n",
       "    }\n",
       "</style>\n",
       "<table border=\"1\" class=\"dataframe\">\n",
       "  <thead>\n",
       "    <tr style=\"text-align: right;\">\n",
       "      <th></th>\n",
       "      <th>País</th>\n",
       "      <th>Año</th>\n",
       "      <th>PIB per cápita</th>\n",
       "      <th>PIB medio</th>\n",
       "    </tr>\n",
       "  </thead>\n",
       "  <tbody>\n",
       "    <tr>\n",
       "      <th>0</th>\n",
       "      <td>United States of America</td>\n",
       "      <td>1960</td>\n",
       "      <td>3014.0</td>\n",
       "      <td>478.542056</td>\n",
       "    </tr>\n",
       "    <tr>\n",
       "      <th>197</th>\n",
       "      <td>United States of America</td>\n",
       "      <td>1964</td>\n",
       "      <td>3582.0</td>\n",
       "      <td>636.098214</td>\n",
       "    </tr>\n",
       "    <tr>\n",
       "      <th>394</th>\n",
       "      <td>United States of America</td>\n",
       "      <td>1968</td>\n",
       "      <td>4720.0</td>\n",
       "      <td>739.619835</td>\n",
       "    </tr>\n",
       "    <tr>\n",
       "      <th>591</th>\n",
       "      <td>United States of America</td>\n",
       "      <td>1972</td>\n",
       "      <td>6112.0</td>\n",
       "      <td>1249.532544</td>\n",
       "    </tr>\n",
       "    <tr>\n",
       "      <th>788</th>\n",
       "      <td>United States of America</td>\n",
       "      <td>1976</td>\n",
       "      <td>8611.0</td>\n",
       "      <td>2439.591716</td>\n",
       "    </tr>\n",
       "    <tr>\n",
       "      <th>985</th>\n",
       "      <td>United States of America</td>\n",
       "      <td>1980</td>\n",
       "      <td>12553.0</td>\n",
       "      <td>4408.717647</td>\n",
       "    </tr>\n",
       "    <tr>\n",
       "      <th>1182</th>\n",
       "      <td>United States of America</td>\n",
       "      <td>1984</td>\n",
       "      <td>17086.0</td>\n",
       "      <td>3764.017544</td>\n",
       "    </tr>\n",
       "    <tr>\n",
       "      <th>1379</th>\n",
       "      <td>United States of America</td>\n",
       "      <td>1988</td>\n",
       "      <td>21376.0</td>\n",
       "      <td>5419.880000</td>\n",
       "    </tr>\n",
       "    <tr>\n",
       "      <th>1576</th>\n",
       "      <td>United States of America</td>\n",
       "      <td>1992</td>\n",
       "      <td>25393.0</td>\n",
       "      <td>6311.561224</td>\n",
       "    </tr>\n",
       "    <tr>\n",
       "      <th>1773</th>\n",
       "      <td>United States of America</td>\n",
       "      <td>1996</td>\n",
       "      <td>29947.0</td>\n",
       "      <td>7572.367347</td>\n",
       "    </tr>\n",
       "    <tr>\n",
       "      <th>1970</th>\n",
       "      <td>United States of America</td>\n",
       "      <td>2000</td>\n",
       "      <td>36313.0</td>\n",
       "      <td>7474.586735</td>\n",
       "    </tr>\n",
       "    <tr>\n",
       "      <th>2167</th>\n",
       "      <td>United States of America</td>\n",
       "      <td>2004</td>\n",
       "      <td>41642.0</td>\n",
       "      <td>10370.831633</td>\n",
       "    </tr>\n",
       "    <tr>\n",
       "      <th>2364</th>\n",
       "      <td>United States of America</td>\n",
       "      <td>2008</td>\n",
       "      <td>48471.0</td>\n",
       "      <td>15327.040609</td>\n",
       "    </tr>\n",
       "    <tr>\n",
       "      <th>2561</th>\n",
       "      <td>United States of America</td>\n",
       "      <td>2012</td>\n",
       "      <td>51737.0</td>\n",
       "      <td>15589.822335</td>\n",
       "    </tr>\n",
       "    <tr>\n",
       "      <th>2758</th>\n",
       "      <td>United States of America</td>\n",
       "      <td>2016</td>\n",
       "      <td>57840.0</td>\n",
       "      <td>14530.218274</td>\n",
       "    </tr>\n",
       "    <tr>\n",
       "      <th>2955</th>\n",
       "      <td>United States of America</td>\n",
       "      <td>2021</td>\n",
       "      <td>69227.0</td>\n",
       "      <td>17182.192893</td>\n",
       "    </tr>\n",
       "  </tbody>\n",
       "</table>\n",
       "</div>"
      ],
      "text/plain": [
       "                          País   Año  PIB per cápita     PIB medio\n",
       "0     United States of America  1960          3014.0    478.542056\n",
       "197   United States of America  1964          3582.0    636.098214\n",
       "394   United States of America  1968          4720.0    739.619835\n",
       "591   United States of America  1972          6112.0   1249.532544\n",
       "788   United States of America  1976          8611.0   2439.591716\n",
       "985   United States of America  1980         12553.0   4408.717647\n",
       "1182  United States of America  1984         17086.0   3764.017544\n",
       "1379  United States of America  1988         21376.0   5419.880000\n",
       "1576  United States of America  1992         25393.0   6311.561224\n",
       "1773  United States of America  1996         29947.0   7572.367347\n",
       "1970  United States of America  2000         36313.0   7474.586735\n",
       "2167  United States of America  2004         41642.0  10370.831633\n",
       "2364  United States of America  2008         48471.0  15327.040609\n",
       "2561  United States of America  2012         51737.0  15589.822335\n",
       "2758  United States of America  2016         57840.0  14530.218274\n",
       "2955  United States of America  2021         69227.0  17182.192893"
      ]
     },
     "execution_count": 46,
     "metadata": {},
     "output_type": "execute_result"
    }
   ],
   "source": [
    "df_pib_melted_media_year"
   ]
  },
  {
   "cell_type": "code",
   "execution_count": 63,
   "metadata": {},
   "outputs": [
    {
     "data": {
      "image/png": "[encoded data removed]",
      "text/plain": [
       "<Figure size 640x480 with 1 Axes>"
      ]
     },
     "metadata": {},
     "output_type": "display_data"
    }
   ],
   "source": [
    "\n",
    "# Crear un gráfico de línea con seaborn\n",
    "ax=sns.lineplot(x='Año', y='PIB medio', data=df_pib_melted_media_year,color=\"yellow\")\n",
    "ax.set(xlabel='Year', ylabel='GDP')\n",
    "# Mostrar el gráfico\n",
    "\n",
    "sns.set_style(\"whitegrid\")\n",
    "plt.savefig(\"Mean GDP ev\", transparent=True)\n",
    "plt.show()"
   ]
  },
  {
   "cell_type": "code",
   "execution_count": 49,
   "metadata": {},
   "outputs": [
    {
     "data": {
      "text/html": [
       "<div>\n",
       "<style scoped>\n",
       "    .dataframe tbody tr th:only-of-type {\n",
       "        vertical-align: middle;\n",
       "    }\n",
       "\n",
       "    .dataframe tbody tr th {\n",
       "        vertical-align: top;\n",
       "    }\n",
       "\n",
       "    .dataframe thead th {\n",
       "        text-align: right;\n",
       "    }\n",
       "</style>\n",
       "<table border=\"1\" class=\"dataframe\">\n",
       "  <thead>\n",
       "    <tr style=\"text-align: right;\">\n",
       "      <th></th>\n",
       "      <th>País</th>\n",
       "      <th>Oro</th>\n",
       "      <th>Plata</th>\n",
       "      <th>Bronce</th>\n",
       "      <th>Total</th>\n",
       "      <th>Año</th>\n",
       "    </tr>\n",
       "  </thead>\n",
       "  <tbody>\n",
       "    <tr>\n",
       "      <th>345</th>\n",
       "      <td>Argentina</td>\n",
       "      <td>0</td>\n",
       "      <td>1</td>\n",
       "      <td>1</td>\n",
       "      <td>2.0</td>\n",
       "      <td>1960</td>\n",
       "    </tr>\n",
       "    <tr>\n",
       "      <th>346</th>\n",
       "      <td>Australia</td>\n",
       "      <td>8</td>\n",
       "      <td>8</td>\n",
       "      <td>6</td>\n",
       "      <td>22.0</td>\n",
       "      <td>1960</td>\n",
       "    </tr>\n",
       "    <tr>\n",
       "      <th>347</th>\n",
       "      <td>Austria</td>\n",
       "      <td>1</td>\n",
       "      <td>1</td>\n",
       "      <td>0</td>\n",
       "      <td>2.0</td>\n",
       "      <td>1960</td>\n",
       "    </tr>\n",
       "    <tr>\n",
       "      <th>348</th>\n",
       "      <td>Belgium</td>\n",
       "      <td>0</td>\n",
       "      <td>2</td>\n",
       "      <td>2</td>\n",
       "      <td>4.0</td>\n",
       "      <td>1960</td>\n",
       "    </tr>\n",
       "    <tr>\n",
       "      <th>349</th>\n",
       "      <td>Brazil</td>\n",
       "      <td>0</td>\n",
       "      <td>0</td>\n",
       "      <td>2</td>\n",
       "      <td>2.0</td>\n",
       "      <td>1960</td>\n",
       "    </tr>\n",
       "    <tr>\n",
       "      <th>...</th>\n",
       "      <td>...</td>\n",
       "      <td>...</td>\n",
       "      <td>...</td>\n",
       "      <td>...</td>\n",
       "      <td>...</td>\n",
       "      <td>...</td>\n",
       "    </tr>\n",
       "    <tr>\n",
       "      <th>1342</th>\n",
       "      <td>Uganda</td>\n",
       "      <td>2</td>\n",
       "      <td>1</td>\n",
       "      <td>1</td>\n",
       "      <td>4.0</td>\n",
       "      <td>2021</td>\n",
       "    </tr>\n",
       "    <tr>\n",
       "      <th>1343</th>\n",
       "      <td>Ukraine</td>\n",
       "      <td>1</td>\n",
       "      <td>6</td>\n",
       "      <td>12</td>\n",
       "      <td>19.0</td>\n",
       "      <td>2021</td>\n",
       "    </tr>\n",
       "    <tr>\n",
       "      <th>1344</th>\n",
       "      <td>United States of America</td>\n",
       "      <td>39</td>\n",
       "      <td>41</td>\n",
       "      <td>33</td>\n",
       "      <td>113.0</td>\n",
       "      <td>2021</td>\n",
       "    </tr>\n",
       "    <tr>\n",
       "      <th>1345</th>\n",
       "      <td>Uzbekistan</td>\n",
       "      <td>3</td>\n",
       "      <td>0</td>\n",
       "      <td>2</td>\n",
       "      <td>5.0</td>\n",
       "      <td>2021</td>\n",
       "    </tr>\n",
       "    <tr>\n",
       "      <th>1346</th>\n",
       "      <td>Venezuela</td>\n",
       "      <td>1</td>\n",
       "      <td>3</td>\n",
       "      <td>0</td>\n",
       "      <td>4.0</td>\n",
       "      <td>2021</td>\n",
       "    </tr>\n",
       "  </tbody>\n",
       "</table>\n",
       "<p>1002 rows × 6 columns</p>\n",
       "</div>"
      ],
      "text/plain": [
       "                          País  Oro  Plata  Bronce  Total   Año\n",
       "345                  Argentina    0      1       1    2.0  1960\n",
       "346                  Australia    8      8       6   22.0  1960\n",
       "347                    Austria    1      1       0    2.0  1960\n",
       "348                    Belgium    0      2       2    4.0  1960\n",
       "349                     Brazil    0      0       2    2.0  1960\n",
       "...                        ...  ...    ...     ...    ...   ...\n",
       "1342                    Uganda    2      1       1    4.0  2021\n",
       "1343                   Ukraine    1      6      12   19.0  2021\n",
       "1344  United States of America   39     41      33  113.0  2021\n",
       "1345                Uzbekistan    3      0       2    5.0  2021\n",
       "1346                 Venezuela    1      3       0    4.0  2021\n",
       "\n",
       "[1002 rows x 6 columns]"
      ]
     },
     "execution_count": 49,
     "metadata": {},
     "output_type": "execute_result"
    }
   ],
   "source": [
    "medallas_por_pais_year"
   ]
  },
  {
   "cell_type": "code",
   "execution_count": 50,
   "metadata": {},
   "outputs": [
    {
     "name": "stderr",
     "output_type": "stream",
     "text": [
      "C:\\Users\\Admin\\AppData\\Roaming\\Python\\Python37\\site-packages\\ipykernel_launcher.py:2: SettingWithCopyWarning:\n",
      "\n",
      "\n",
      "A value is trying to be set on a copy of a slice from a DataFrame.\n",
      "Try using .loc[row_indexer,col_indexer] = value instead\n",
      "\n",
      "See the caveats in the documentation: https://pandas.pydata.org/pandas-docs/stable/user_guide/indexing.html#returning-a-view-versus-a-copy\n",
      "\n"
     ]
    }
   ],
   "source": [
    "medallas_medio =medallas_por_pais_year.groupby(\"Año\")[\"Total\"].transform(\"mean\")\n",
    "medallas_por_pais_year[\"medallas media\"] = medallas_medio"
   ]
  },
  {
   "cell_type": "code",
   "execution_count": 52,
   "metadata": {},
   "outputs": [],
   "source": [
    "medallas_por_pais_year\n",
    "df_medallas_por_pais_media=medallas_por_pais_year[medallas_por_pais_year[\"País\"]==\"United States of America\"]"
   ]
  },
  {
   "cell_type": "code",
   "execution_count": 53,
   "metadata": {},
   "outputs": [
    {
     "data": {
      "text/html": [
       "<div>\n",
       "<style scoped>\n",
       "    .dataframe tbody tr th:only-of-type {\n",
       "        vertical-align: middle;\n",
       "    }\n",
       "\n",
       "    .dataframe tbody tr th {\n",
       "        vertical-align: top;\n",
       "    }\n",
       "\n",
       "    .dataframe thead th {\n",
       "        text-align: right;\n",
       "    }\n",
       "</style>\n",
       "<table border=\"1\" class=\"dataframe\">\n",
       "  <thead>\n",
       "    <tr style=\"text-align: right;\">\n",
       "      <th></th>\n",
       "      <th>País</th>\n",
       "      <th>Oro</th>\n",
       "      <th>Plata</th>\n",
       "      <th>Bronce</th>\n",
       "      <th>Total</th>\n",
       "      <th>Año</th>\n",
       "      <th>medallas media</th>\n",
       "    </tr>\n",
       "  </thead>\n",
       "  <tbody>\n",
       "    <tr>\n",
       "      <th>385</th>\n",
       "      <td>United States of America</td>\n",
       "      <td>34</td>\n",
       "      <td>21</td>\n",
       "      <td>16</td>\n",
       "      <td>71.0</td>\n",
       "      <td>1960</td>\n",
       "      <td>10.477273</td>\n",
       "    </tr>\n",
       "    <tr>\n",
       "      <th>427</th>\n",
       "      <td>United States of America</td>\n",
       "      <td>36</td>\n",
       "      <td>26</td>\n",
       "      <td>28</td>\n",
       "      <td>90.0</td>\n",
       "      <td>1964</td>\n",
       "      <td>12.219512</td>\n",
       "    </tr>\n",
       "    <tr>\n",
       "      <th>471</th>\n",
       "      <td>United States of America</td>\n",
       "      <td>45</td>\n",
       "      <td>28</td>\n",
       "      <td>34</td>\n",
       "      <td>107.0</td>\n",
       "      <td>1968</td>\n",
       "      <td>11.977273</td>\n",
       "    </tr>\n",
       "    <tr>\n",
       "      <th>520</th>\n",
       "      <td>United States of America</td>\n",
       "      <td>33</td>\n",
       "      <td>31</td>\n",
       "      <td>30</td>\n",
       "      <td>94.0</td>\n",
       "      <td>1972</td>\n",
       "      <td>12.500000</td>\n",
       "    </tr>\n",
       "    <tr>\n",
       "      <th>560</th>\n",
       "      <td>United States of America</td>\n",
       "      <td>34</td>\n",
       "      <td>35</td>\n",
       "      <td>25</td>\n",
       "      <td>94.0</td>\n",
       "      <td>1976</td>\n",
       "      <td>14.926829</td>\n",
       "    </tr>\n",
       "    <tr>\n",
       "      <th>642</th>\n",
       "      <td>United States of America</td>\n",
       "      <td>82</td>\n",
       "      <td>61</td>\n",
       "      <td>30</td>\n",
       "      <td>173.0</td>\n",
       "      <td>1984</td>\n",
       "      <td>14.574468</td>\n",
       "    </tr>\n",
       "    <tr>\n",
       "      <th>695</th>\n",
       "      <td>United States of America</td>\n",
       "      <td>36</td>\n",
       "      <td>31</td>\n",
       "      <td>27</td>\n",
       "      <td>94.0</td>\n",
       "      <td>1988</td>\n",
       "      <td>14.211538</td>\n",
       "    </tr>\n",
       "    <tr>\n",
       "      <th>761</th>\n",
       "      <td>United States of America</td>\n",
       "      <td>37</td>\n",
       "      <td>34</td>\n",
       "      <td>37</td>\n",
       "      <td>108.0</td>\n",
       "      <td>1992</td>\n",
       "      <td>12.734375</td>\n",
       "    </tr>\n",
       "    <tr>\n",
       "      <th>838</th>\n",
       "      <td>United States of America</td>\n",
       "      <td>44</td>\n",
       "      <td>32</td>\n",
       "      <td>25</td>\n",
       "      <td>101.0</td>\n",
       "      <td>1996</td>\n",
       "      <td>10.658228</td>\n",
       "    </tr>\n",
       "    <tr>\n",
       "      <th>917</th>\n",
       "      <td>United States of America</td>\n",
       "      <td>37</td>\n",
       "      <td>24</td>\n",
       "      <td>32</td>\n",
       "      <td>93.0</td>\n",
       "      <td>2000</td>\n",
       "      <td>11.587500</td>\n",
       "    </tr>\n",
       "    <tr>\n",
       "      <th>991</th>\n",
       "      <td>United States of America</td>\n",
       "      <td>36</td>\n",
       "      <td>39</td>\n",
       "      <td>26</td>\n",
       "      <td>101.0</td>\n",
       "      <td>2004</td>\n",
       "      <td>12.513514</td>\n",
       "    </tr>\n",
       "    <tr>\n",
       "      <th>1077</th>\n",
       "      <td>United States of America</td>\n",
       "      <td>36</td>\n",
       "      <td>39</td>\n",
       "      <td>37</td>\n",
       "      <td>112.0</td>\n",
       "      <td>2008</td>\n",
       "      <td>11.011494</td>\n",
       "    </tr>\n",
       "    <tr>\n",
       "      <th>1164</th>\n",
       "      <td>United States of America</td>\n",
       "      <td>46</td>\n",
       "      <td>28</td>\n",
       "      <td>30</td>\n",
       "      <td>104.0</td>\n",
       "      <td>2012</td>\n",
       "      <td>11.116279</td>\n",
       "    </tr>\n",
       "    <tr>\n",
       "      <th>1250</th>\n",
       "      <td>United States of America</td>\n",
       "      <td>46</td>\n",
       "      <td>37</td>\n",
       "      <td>38</td>\n",
       "      <td>121.0</td>\n",
       "      <td>2016</td>\n",
       "      <td>11.302326</td>\n",
       "    </tr>\n",
       "    <tr>\n",
       "      <th>1344</th>\n",
       "      <td>United States of America</td>\n",
       "      <td>39</td>\n",
       "      <td>41</td>\n",
       "      <td>33</td>\n",
       "      <td>113.0</td>\n",
       "      <td>2021</td>\n",
       "      <td>11.612903</td>\n",
       "    </tr>\n",
       "  </tbody>\n",
       "</table>\n",
       "</div>"
      ],
      "text/plain": [
       "                          País  Oro  Plata  Bronce  Total   Año  \\\n",
       "385   United States of America   34     21      16   71.0  1960   \n",
       "427   United States of America   36     26      28   90.0  1964   \n",
       "471   United States of America   45     28      34  107.0  1968   \n",
       "520   United States of America   33     31      30   94.0  1972   \n",
       "560   United States of America   34     35      25   94.0  1976   \n",
       "642   United States of America   82     61      30  173.0  1984   \n",
       "695   United States of America   36     31      27   94.0  1988   \n",
       "761   United States of America   37     34      37  108.0  1992   \n",
       "838   United States of America   44     32      25  101.0  1996   \n",
       "917   United States of America   37     24      32   93.0  2000   \n",
       "991   United States of America   36     39      26  101.0  2004   \n",
       "1077  United States of America   36     39      37  112.0  2008   \n",
       "1164  United States of America   46     28      30  104.0  2012   \n",
       "1250  United States of America   46     37      38  121.0  2016   \n",
       "1344  United States of America   39     41      33  113.0  2021   \n",
       "\n",
       "      medallas media  \n",
       "385        10.477273  \n",
       "427        12.219512  \n",
       "471        11.977273  \n",
       "520        12.500000  \n",
       "560        14.926829  \n",
       "642        14.574468  \n",
       "695        14.211538  \n",
       "761        12.734375  \n",
       "838        10.658228  \n",
       "917        11.587500  \n",
       "991        12.513514  \n",
       "1077       11.011494  \n",
       "1164       11.116279  \n",
       "1250       11.302326  \n",
       "1344       11.612903  "
      ]
     },
     "execution_count": 53,
     "metadata": {},
     "output_type": "execute_result"
    }
   ],
   "source": [
    "df_medallas_por_pais_media"
   ]
  },
  {
   "cell_type": "code",
   "execution_count": 64,
   "metadata": {},
   "outputs": [
    {
     "data": {
      "image/png": "[encoded data removed]",
      "text/plain": [
       "<Figure size 640x480 with 1 Axes>"
      ]
     },
     "metadata": {},
     "output_type": "display_data"
    }
   ],
   "source": [
    "# Crear un gráfico de línea con seaborn\n",
    "ax=sns.lineplot(x='Año', y='medallas media', data=df_medallas_por_pais_media,color=\"green\")\n",
    "ax.set(xlabel='Year', ylabel='Medals')\n",
    "\n",
    "# Mostrar el gráfico\n",
    "\n",
    "sns.set_style(\"whitegrid\")\n",
    "plt.savefig(\"Mean Medals ev\", transparent=True)\n",
    "plt.show()"
   ]
  },
  {
   "cell_type": "code",
   "execution_count": 65,
   "metadata": {},
   "outputs": [
    {
     "data": {
      "text/html": [
       "<div>\n",
       "<style scoped>\n",
       "    .dataframe tbody tr th:only-of-type {\n",
       "        vertical-align: middle;\n",
       "    }\n",
       "\n",
       "    .dataframe tbody tr th {\n",
       "        vertical-align: top;\n",
       "    }\n",
       "\n",
       "    .dataframe thead th {\n",
       "        text-align: right;\n",
       "    }\n",
       "</style>\n",
       "<table border=\"1\" class=\"dataframe\">\n",
       "  <thead>\n",
       "    <tr style=\"text-align: right;\">\n",
       "      <th></th>\n",
       "      <th>País</th>\n",
       "      <th>Oro</th>\n",
       "      <th>Plata</th>\n",
       "      <th>Bronce</th>\n",
       "      <th>Total</th>\n",
       "      <th>Año</th>\n",
       "      <th>PIB per cápita</th>\n",
       "      <th>id</th>\n",
       "      <th>PIB_relativo</th>\n",
       "      <th>Medallas_relativas</th>\n",
       "    </tr>\n",
       "  </thead>\n",
       "  <tbody>\n",
       "    <tr>\n",
       "      <th>0</th>\n",
       "      <td>Argentina</td>\n",
       "      <td>0</td>\n",
       "      <td>1</td>\n",
       "      <td>1</td>\n",
       "      <td>2.0</td>\n",
       "      <td>1960</td>\n",
       "      <td>NaN</td>\n",
       "      <td>0</td>\n",
       "      <td>NaN</td>\n",
       "      <td>0.010256</td>\n",
       "    </tr>\n",
       "    <tr>\n",
       "      <th>1</th>\n",
       "      <td>Australia</td>\n",
       "      <td>8</td>\n",
       "      <td>8</td>\n",
       "      <td>6</td>\n",
       "      <td>22.0</td>\n",
       "      <td>1960</td>\n",
       "      <td>1811.0</td>\n",
       "      <td>1</td>\n",
       "      <td>0.019782</td>\n",
       "      <td>0.112821</td>\n",
       "    </tr>\n",
       "    <tr>\n",
       "      <th>2</th>\n",
       "      <td>Austria</td>\n",
       "      <td>1</td>\n",
       "      <td>1</td>\n",
       "      <td>0</td>\n",
       "      <td>2.0</td>\n",
       "      <td>1960</td>\n",
       "      <td>933.0</td>\n",
       "      <td>2</td>\n",
       "      <td>0.010192</td>\n",
       "      <td>0.010256</td>\n",
       "    </tr>\n",
       "    <tr>\n",
       "      <th>3</th>\n",
       "      <td>Belgium</td>\n",
       "      <td>0</td>\n",
       "      <td>2</td>\n",
       "      <td>2</td>\n",
       "      <td>4.0</td>\n",
       "      <td>1960</td>\n",
       "      <td>1270.0</td>\n",
       "      <td>3</td>\n",
       "      <td>0.013873</td>\n",
       "      <td>0.020513</td>\n",
       "    </tr>\n",
       "    <tr>\n",
       "      <th>4</th>\n",
       "      <td>Brazil</td>\n",
       "      <td>0</td>\n",
       "      <td>0</td>\n",
       "      <td>2</td>\n",
       "      <td>2.0</td>\n",
       "      <td>1960</td>\n",
       "      <td>233.0</td>\n",
       "      <td>4</td>\n",
       "      <td>0.002545</td>\n",
       "      <td>0.010256</td>\n",
       "    </tr>\n",
       "    <tr>\n",
       "      <th>...</th>\n",
       "      <td>...</td>\n",
       "      <td>...</td>\n",
       "      <td>...</td>\n",
       "      <td>...</td>\n",
       "      <td>...</td>\n",
       "      <td>...</td>\n",
       "      <td>...</td>\n",
       "      <td>...</td>\n",
       "      <td>...</td>\n",
       "      <td>...</td>\n",
       "    </tr>\n",
       "    <tr>\n",
       "      <th>900</th>\n",
       "      <td>Romania</td>\n",
       "      <td>1</td>\n",
       "      <td>3</td>\n",
       "      <td>0</td>\n",
       "      <td>4.0</td>\n",
       "      <td>2021</td>\n",
       "      <td>14795.0</td>\n",
       "      <td>16</td>\n",
       "      <td>0.161613</td>\n",
       "      <td>0.020513</td>\n",
       "    </tr>\n",
       "    <tr>\n",
       "      <th>907</th>\n",
       "      <td>Spain</td>\n",
       "      <td>3</td>\n",
       "      <td>8</td>\n",
       "      <td>6</td>\n",
       "      <td>17.0</td>\n",
       "      <td>2021</td>\n",
       "      <td>30090.0</td>\n",
       "      <td>18</td>\n",
       "      <td>0.328687</td>\n",
       "      <td>0.087179</td>\n",
       "    </tr>\n",
       "    <tr>\n",
       "      <th>908</th>\n",
       "      <td>Sweden</td>\n",
       "      <td>3</td>\n",
       "      <td>6</td>\n",
       "      <td>0</td>\n",
       "      <td>9.0</td>\n",
       "      <td>2021</td>\n",
       "      <td>60816.0</td>\n",
       "      <td>19</td>\n",
       "      <td>0.664322</td>\n",
       "      <td>0.046154</td>\n",
       "    </tr>\n",
       "    <tr>\n",
       "      <th>909</th>\n",
       "      <td>Switzerland</td>\n",
       "      <td>3</td>\n",
       "      <td>4</td>\n",
       "      <td>6</td>\n",
       "      <td>13.0</td>\n",
       "      <td>2021</td>\n",
       "      <td>91546.0</td>\n",
       "      <td>20</td>\n",
       "      <td>1.000000</td>\n",
       "      <td>0.066667</td>\n",
       "    </tr>\n",
       "    <tr>\n",
       "      <th>916</th>\n",
       "      <td>United States of America</td>\n",
       "      <td>39</td>\n",
       "      <td>41</td>\n",
       "      <td>33</td>\n",
       "      <td>113.0</td>\n",
       "      <td>2021</td>\n",
       "      <td>69227.0</td>\n",
       "      <td>21</td>\n",
       "      <td>0.756199</td>\n",
       "      <td>0.579487</td>\n",
       "    </tr>\n",
       "  </tbody>\n",
       "</table>\n",
       "<p>365 rows × 10 columns</p>\n",
       "</div>"
      ],
      "text/plain": [
       "                         País  Oro  Plata  Bronce  Total   Año  \\\n",
       "0                   Argentina    0      1       1    2.0  1960   \n",
       "1                   Australia    8      8       6   22.0  1960   \n",
       "2                     Austria    1      1       0    2.0  1960   \n",
       "3                     Belgium    0      2       2    4.0  1960   \n",
       "4                      Brazil    0      0       2    2.0  1960   \n",
       "..                        ...  ...    ...     ...    ...   ...   \n",
       "900                   Romania    1      3       0    4.0  2021   \n",
       "907                     Spain    3      8       6   17.0  2021   \n",
       "908                    Sweden    3      6       0    9.0  2021   \n",
       "909               Switzerland    3      4       6   13.0  2021   \n",
       "916  United States of America   39     41      33  113.0  2021   \n",
       "\n",
       "     PIB per cápita  id  PIB_relativo  Medallas_relativas  \n",
       "0               NaN   0           NaN            0.010256  \n",
       "1            1811.0   1      0.019782            0.112821  \n",
       "2             933.0   2      0.010192            0.010256  \n",
       "3            1270.0   3      0.013873            0.020513  \n",
       "4             233.0   4      0.002545            0.010256  \n",
       "..              ...  ..           ...                 ...  \n",
       "900         14795.0  16      0.161613            0.020513  \n",
       "907         30090.0  18      0.328687            0.087179  \n",
       "908         60816.0  19      0.664322            0.046154  \n",
       "909         91546.0  20      1.000000            0.066667  \n",
       "916         69227.0  21      0.756199            0.579487  \n",
       "\n",
       "[365 rows x 10 columns]"
      ]
     },
     "execution_count": 65,
     "metadata": {},
     "output_type": "execute_result"
    }
   ],
   "source": [
    "df_medallas_pib"
   ]
  },
  {
   "cell_type": "code",
   "execution_count": 128,
   "metadata": {},
   "outputs": [
    {
     "data": {
      "text/plain": [
       "0.08964790613220892"
      ]
     },
     "execution_count": 128,
     "metadata": {},
     "output_type": "execute_result"
    }
   ],
   "source": [
    "matriz_correlacion = df_medallas_pib.corr()\n",
    "\n",
    "# Extraemos la correlación entre las dos variables\n",
    "correlacion_1 = matriz_correlacion.loc['Total', 'PIB per cápita']\n",
    "correlacion_1"
   ]
  },
  {
   "cell_type": "code",
   "execution_count": 77,
   "metadata": {},
   "outputs": [
    {
     "data": {
      "text/plain": [
       "0.08964790613220887"
      ]
     },
     "execution_count": 77,
     "metadata": {},
     "output_type": "execute_result"
    }
   ],
   "source": [
    "matriz_correlacion = df_medallas_pib.corr()\n",
    "\n",
    "# Extraemos la correlación entre las dos variables\n",
    "correlacion_2= matriz_correlacion.loc['Medallas_relativas', 'PIB_relativo']\n",
    "correlacion_2"
   ]
  },
  {
   "cell_type": "code",
   "execution_count": 78,
   "metadata": {},
   "outputs": [
    {
     "data": {
      "text/plain": [
       "0                     Argentina\n",
       "1                     Australia\n",
       "2                       Austria\n",
       "3                       Belgium\n",
       "4                        Brazil\n",
       "                 ...           \n",
       "900                     Romania\n",
       "907                       Spain\n",
       "908                      Sweden\n",
       "909                 Switzerland\n",
       "916    United States of America\n",
       "Name: País, Length: 365, dtype: object"
      ]
     },
     "execution_count": 78,
     "metadata": {},
     "output_type": "execute_result"
    }
   ],
   "source": [
    "df_medallas_pib[\"País\"]"
   ]
  }
 ],
 "metadata": {
  "kernelspec": {
   "display_name": "Python 3",
   "language": "python",
   "name": "python3"
  },
  "language_info": {
   "codemirror_mode": {
    "name": "ipython",
    "version": 3
   },
   "file_extension": ".py",
   "mimetype": "text/x-python",
   "name": "python",
   "nbconvert_exporter": "python",
   "pygments_lexer": "ipython3",
   "version": "3.7.4"
  },
  "orig_nbformat": 4
 },
 "nbformat": 4,
 "nbformat_minor": 2
}
