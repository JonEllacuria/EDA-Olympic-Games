{
 "cells": [
  {
   "cell_type": "code",
   "execution_count": 1,
   "metadata": {},
   "outputs": [],
   "source": [
    "import pandas as pd\n",
    "import seaborn as sns\n",
    "import matplotlib.pyplot as plt\n",
    "import plotly.express as px\n",
    "import plotly.graph_objs as go\n",
    "from plotly.subplots import make_subplots\n",
    "from plotly.offline import init_notebook_mode, iplot, plot\n",
    "import plotly.offline as pyo\n",
    "import matplotlib\n",
    "import numpy as np"
   ]
  },
  {
   "cell_type": "code",
   "execution_count": 2,
   "metadata": {},
   "outputs": [],
   "source": [
    "df_total_medallas=pd.read_csv(\"df_total_medallas.csv\")\n",
    "medallistas=pd.read_csv(\"medallistas.csv\")"
   ]
  },
  {
   "cell_type": "code",
   "execution_count": 3,
   "metadata": {},
   "outputs": [],
   "source": [
    "lista_disciplinas=[]\n",
    "for i in medallistas[\"Sport\"].unique():\n",
    "    lista_disciplinas.append(i)"
   ]
  },
  {
   "cell_type": "code",
   "execution_count": 4,
   "metadata": {},
   "outputs": [
    {
     "data": {
      "text/plain": [
       "57"
      ]
     },
     "execution_count": 4,
     "metadata": {},
     "output_type": "execute_result"
    }
   ],
   "source": [
    "len(lista_disciplinas)"
   ]
  },
  {
   "cell_type": "code",
   "execution_count": 5,
   "metadata": {},
   "outputs": [
    {
     "data": {
      "text/html": [
       "<div>\n",
       "<style scoped>\n",
       "    .dataframe tbody tr th:only-of-type {\n",
       "        vertical-align: middle;\n",
       "    }\n",
       "\n",
       "    .dataframe tbody tr th {\n",
       "        vertical-align: top;\n",
       "    }\n",
       "\n",
       "    .dataframe thead th {\n",
       "        text-align: right;\n",
       "    }\n",
       "</style>\n",
       "<table border=\"1\" class=\"dataframe\">\n",
       "  <thead>\n",
       "    <tr style=\"text-align: right;\">\n",
       "      <th></th>\n",
       "      <th>Name</th>\n",
       "      <th>Sex</th>\n",
       "      <th>Age</th>\n",
       "      <th>Height</th>\n",
       "      <th>Weight</th>\n",
       "      <th>Team</th>\n",
       "      <th>NOC</th>\n",
       "      <th>Year</th>\n",
       "      <th>City</th>\n",
       "      <th>Sport</th>\n",
       "      <th>Event</th>\n",
       "      <th>Medal</th>\n",
       "    </tr>\n",
       "  </thead>\n",
       "  <tbody>\n",
       "    <tr>\n",
       "      <th>0</th>\n",
       "      <td>Edgar Lindenau Aabye</td>\n",
       "      <td>M</td>\n",
       "      <td>34.0</td>\n",
       "      <td>NaN</td>\n",
       "      <td>NaN</td>\n",
       "      <td>Denmark/Sweden</td>\n",
       "      <td>DEN</td>\n",
       "      <td>1900</td>\n",
       "      <td>Paris</td>\n",
       "      <td>Tug-Of-War</td>\n",
       "      <td>Tug-Of-War Men's Tug-Of-War</td>\n",
       "      <td>Gold</td>\n",
       "    </tr>\n",
       "    <tr>\n",
       "      <th>1</th>\n",
       "      <td>Arvo Ossian Aaltonen</td>\n",
       "      <td>M</td>\n",
       "      <td>30.0</td>\n",
       "      <td>NaN</td>\n",
       "      <td>NaN</td>\n",
       "      <td>Finland</td>\n",
       "      <td>FIN</td>\n",
       "      <td>1920</td>\n",
       "      <td>Antwerpen</td>\n",
       "      <td>Swimming</td>\n",
       "      <td>Swimming Men's 200 metres Breaststroke</td>\n",
       "      <td>Bronze</td>\n",
       "    </tr>\n",
       "    <tr>\n",
       "      <th>2</th>\n",
       "      <td>Arvo Ossian Aaltonen</td>\n",
       "      <td>M</td>\n",
       "      <td>30.0</td>\n",
       "      <td>NaN</td>\n",
       "      <td>NaN</td>\n",
       "      <td>Finland</td>\n",
       "      <td>FIN</td>\n",
       "      <td>1920</td>\n",
       "      <td>Antwerpen</td>\n",
       "      <td>Swimming</td>\n",
       "      <td>Swimming Men's 400 metres Breaststroke</td>\n",
       "      <td>Bronze</td>\n",
       "    </tr>\n",
       "    <tr>\n",
       "      <th>3</th>\n",
       "      <td>Paavo Johannes Aaltonen</td>\n",
       "      <td>M</td>\n",
       "      <td>28.0</td>\n",
       "      <td>175.0</td>\n",
       "      <td>64.0</td>\n",
       "      <td>Finland</td>\n",
       "      <td>FIN</td>\n",
       "      <td>1948</td>\n",
       "      <td>London</td>\n",
       "      <td>Gymnastics</td>\n",
       "      <td>Gymnastics Men's Individual All-Around</td>\n",
       "      <td>Bronze</td>\n",
       "    </tr>\n",
       "    <tr>\n",
       "      <th>4</th>\n",
       "      <td>Paavo Johannes Aaltonen</td>\n",
       "      <td>M</td>\n",
       "      <td>28.0</td>\n",
       "      <td>175.0</td>\n",
       "      <td>64.0</td>\n",
       "      <td>Finland</td>\n",
       "      <td>FIN</td>\n",
       "      <td>1948</td>\n",
       "      <td>London</td>\n",
       "      <td>Gymnastics</td>\n",
       "      <td>Gymnastics Men's Team All-Around</td>\n",
       "      <td>Gold</td>\n",
       "    </tr>\n",
       "    <tr>\n",
       "      <th>...</th>\n",
       "      <td>...</td>\n",
       "      <td>...</td>\n",
       "      <td>...</td>\n",
       "      <td>...</td>\n",
       "      <td>...</td>\n",
       "      <td>...</td>\n",
       "      <td>...</td>\n",
       "      <td>...</td>\n",
       "      <td>...</td>\n",
       "      <td>...</td>\n",
       "      <td>...</td>\n",
       "      <td>...</td>\n",
       "    </tr>\n",
       "    <tr>\n",
       "      <th>36493</th>\n",
       "      <td>ZOU Jingyuan</td>\n",
       "      <td>M</td>\n",
       "      <td>23.0</td>\n",
       "      <td>158.0</td>\n",
       "      <td>NaN</td>\n",
       "      <td>People's Republic of China</td>\n",
       "      <td>CHN</td>\n",
       "      <td>2021</td>\n",
       "      <td>Tokyo</td>\n",
       "      <td>Gymnastics</td>\n",
       "      <td>Artistic Gymnastics</td>\n",
       "      <td>Gold</td>\n",
       "    </tr>\n",
       "    <tr>\n",
       "      <th>36494</th>\n",
       "      <td>ZUBIMENDI Martin</td>\n",
       "      <td>M</td>\n",
       "      <td>22.0</td>\n",
       "      <td>180.0</td>\n",
       "      <td>NaN</td>\n",
       "      <td>Spain</td>\n",
       "      <td>ESP</td>\n",
       "      <td>2021</td>\n",
       "      <td>Tokyo</td>\n",
       "      <td>Football</td>\n",
       "      <td>Men</td>\n",
       "      <td>Silver</td>\n",
       "    </tr>\n",
       "    <tr>\n",
       "      <th>36495</th>\n",
       "      <td>ZUEV Alexander</td>\n",
       "      <td>M</td>\n",
       "      <td>25.0</td>\n",
       "      <td>193.0</td>\n",
       "      <td>NaN</td>\n",
       "      <td>ROC</td>\n",
       "      <td>ROC</td>\n",
       "      <td>2021</td>\n",
       "      <td>Tokyo</td>\n",
       "      <td>3x3 Basketball</td>\n",
       "      <td>Men</td>\n",
       "      <td>Silver</td>\n",
       "    </tr>\n",
       "    <tr>\n",
       "      <th>36496</th>\n",
       "      <td>ZVEREV Alexander</td>\n",
       "      <td>M</td>\n",
       "      <td>24.0</td>\n",
       "      <td>198.0</td>\n",
       "      <td>NaN</td>\n",
       "      <td>Germany</td>\n",
       "      <td>GER</td>\n",
       "      <td>2021</td>\n",
       "      <td>Tokyo</td>\n",
       "      <td>Tennis</td>\n",
       "      <td>Men's Singles</td>\n",
       "      <td>Gold</td>\n",
       "    </tr>\n",
       "    <tr>\n",
       "      <th>36497</th>\n",
       "      <td>ZYKOVA Yulia</td>\n",
       "      <td>F</td>\n",
       "      <td>26.0</td>\n",
       "      <td>NaN</td>\n",
       "      <td>NaN</td>\n",
       "      <td>ROC</td>\n",
       "      <td>ROC</td>\n",
       "      <td>2021</td>\n",
       "      <td>Tokyo</td>\n",
       "      <td>Shooting</td>\n",
       "      <td>50m Rifle 3 Positions Women</td>\n",
       "      <td>Silver</td>\n",
       "    </tr>\n",
       "  </tbody>\n",
       "</table>\n",
       "<p>36498 rows × 12 columns</p>\n",
       "</div>"
      ],
      "text/plain": [
       "                          Name Sex   Age  Height  Weight  \\\n",
       "0         Edgar Lindenau Aabye   M  34.0     NaN     NaN   \n",
       "1         Arvo Ossian Aaltonen   M  30.0     NaN     NaN   \n",
       "2         Arvo Ossian Aaltonen   M  30.0     NaN     NaN   \n",
       "3      Paavo Johannes Aaltonen   M  28.0   175.0    64.0   \n",
       "4      Paavo Johannes Aaltonen   M  28.0   175.0    64.0   \n",
       "...                        ...  ..   ...     ...     ...   \n",
       "36493             ZOU Jingyuan   M  23.0   158.0     NaN   \n",
       "36494         ZUBIMENDI Martin   M  22.0   180.0     NaN   \n",
       "36495           ZUEV Alexander   M  25.0   193.0     NaN   \n",
       "36496         ZVEREV Alexander   M  24.0   198.0     NaN   \n",
       "36497             ZYKOVA Yulia   F  26.0     NaN     NaN   \n",
       "\n",
       "                             Team  NOC  Year       City           Sport  \\\n",
       "0                  Denmark/Sweden  DEN  1900      Paris      Tug-Of-War   \n",
       "1                         Finland  FIN  1920  Antwerpen        Swimming   \n",
       "2                         Finland  FIN  1920  Antwerpen        Swimming   \n",
       "3                         Finland  FIN  1948     London      Gymnastics   \n",
       "4                         Finland  FIN  1948     London      Gymnastics   \n",
       "...                           ...  ...   ...        ...             ...   \n",
       "36493  People's Republic of China  CHN  2021      Tokyo      Gymnastics   \n",
       "36494                       Spain  ESP  2021      Tokyo        Football   \n",
       "36495                         ROC  ROC  2021      Tokyo  3x3 Basketball   \n",
       "36496                     Germany  GER  2021      Tokyo          Tennis   \n",
       "36497                         ROC  ROC  2021      Tokyo        Shooting   \n",
       "\n",
       "                                        Event   Medal  \n",
       "0                 Tug-Of-War Men's Tug-Of-War    Gold  \n",
       "1      Swimming Men's 200 metres Breaststroke  Bronze  \n",
       "2      Swimming Men's 400 metres Breaststroke  Bronze  \n",
       "3      Gymnastics Men's Individual All-Around  Bronze  \n",
       "4            Gymnastics Men's Team All-Around    Gold  \n",
       "...                                       ...     ...  \n",
       "36493                     Artistic Gymnastics    Gold  \n",
       "36494                                     Men  Silver  \n",
       "36495                                     Men  Silver  \n",
       "36496                           Men's Singles    Gold  \n",
       "36497             50m Rifle 3 Positions Women  Silver  \n",
       "\n",
       "[36498 rows x 12 columns]"
      ]
     },
     "execution_count": 5,
     "metadata": {},
     "output_type": "execute_result"
    }
   ],
   "source": [
    "medallistas"
   ]
  },
  {
   "cell_type": "code",
   "execution_count": 6,
   "metadata": {},
   "outputs": [],
   "source": [
    "acumulado_por_anio=pd.read_csv(\"data/acumulado_medallas_por_anio.txt\",sep=\"\\t\")"
   ]
  },
  {
   "cell_type": "code",
   "execution_count": 7,
   "metadata": {},
   "outputs": [
    {
     "data": {
      "text/html": [
       "<div>\n",
       "<style scoped>\n",
       "    .dataframe tbody tr th:only-of-type {\n",
       "        vertical-align: middle;\n",
       "    }\n",
       "\n",
       "    .dataframe tbody tr th {\n",
       "        vertical-align: top;\n",
       "    }\n",
       "\n",
       "    .dataframe thead th {\n",
       "        text-align: right;\n",
       "    }\n",
       "</style>\n",
       "<table border=\"1\" class=\"dataframe\">\n",
       "  <thead>\n",
       "    <tr style=\"text-align: right;\">\n",
       "      <th></th>\n",
       "      <th>NOC</th>\n",
       "      <th>Year</th>\n",
       "      <th>City</th>\n",
       "      <th>Columna2</th>\n",
       "      <th>Sport</th>\n",
       "    </tr>\n",
       "  </thead>\n",
       "  <tbody>\n",
       "    <tr>\n",
       "      <th>0</th>\n",
       "      <td>GRE</td>\n",
       "      <td>1896</td>\n",
       "      <td>Athina</td>\n",
       "      <td>GRE_Swimming</td>\n",
       "      <td>Swimming</td>\n",
       "    </tr>\n",
       "    <tr>\n",
       "      <th>1</th>\n",
       "      <td>GRE</td>\n",
       "      <td>1896</td>\n",
       "      <td>Athina</td>\n",
       "      <td>GRE_Gymnastics</td>\n",
       "      <td>Gymnastics</td>\n",
       "    </tr>\n",
       "    <tr>\n",
       "      <th>2</th>\n",
       "      <td>GBR</td>\n",
       "      <td>1896</td>\n",
       "      <td>Athina</td>\n",
       "      <td>GBR_Cycling</td>\n",
       "      <td>Cycling</td>\n",
       "    </tr>\n",
       "    <tr>\n",
       "      <th>3</th>\n",
       "      <td>USA</td>\n",
       "      <td>1896</td>\n",
       "      <td>Athina</td>\n",
       "      <td>USA_Athletics</td>\n",
       "      <td>Athletics</td>\n",
       "    </tr>\n",
       "    <tr>\n",
       "      <th>4</th>\n",
       "      <td>GER</td>\n",
       "      <td>1896</td>\n",
       "      <td>Athina</td>\n",
       "      <td>GER_Gymnastics</td>\n",
       "      <td>Gymnastics</td>\n",
       "    </tr>\n",
       "    <tr>\n",
       "      <th>...</th>\n",
       "      <td>...</td>\n",
       "      <td>...</td>\n",
       "      <td>...</td>\n",
       "      <td>...</td>\n",
       "      <td>...</td>\n",
       "    </tr>\n",
       "    <tr>\n",
       "      <th>1303</th>\n",
       "      <td>CHN</td>\n",
       "      <td>2021</td>\n",
       "      <td>Tokyo</td>\n",
       "      <td>CHN_3x3 Basketball</td>\n",
       "      <td>3x3 Basketball</td>\n",
       "    </tr>\n",
       "    <tr>\n",
       "      <th>1304</th>\n",
       "      <td>TPE</td>\n",
       "      <td>2021</td>\n",
       "      <td>Tokyo</td>\n",
       "      <td>TPE_Karate</td>\n",
       "      <td>Karate</td>\n",
       "    </tr>\n",
       "    <tr>\n",
       "      <th>1305</th>\n",
       "      <td>AUS</td>\n",
       "      <td>2021</td>\n",
       "      <td>Tokyo</td>\n",
       "      <td>AUS_Surfing</td>\n",
       "      <td>Surfing</td>\n",
       "    </tr>\n",
       "    <tr>\n",
       "      <th>1306</th>\n",
       "      <td>TPE</td>\n",
       "      <td>2021</td>\n",
       "      <td>Tokyo</td>\n",
       "      <td>TPE_Judo</td>\n",
       "      <td>Judo</td>\n",
       "    </tr>\n",
       "    <tr>\n",
       "      <th>1307</th>\n",
       "      <td>BUR</td>\n",
       "      <td>2021</td>\n",
       "      <td>Tokyo</td>\n",
       "      <td>BUR_Athletics</td>\n",
       "      <td>Athletics</td>\n",
       "    </tr>\n",
       "  </tbody>\n",
       "</table>\n",
       "<p>1308 rows × 5 columns</p>\n",
       "</div>"
      ],
      "text/plain": [
       "      NOC  Year    City            Columna2           Sport\n",
       "0     GRE  1896  Athina        GRE_Swimming        Swimming\n",
       "1     GRE  1896  Athina      GRE_Gymnastics      Gymnastics\n",
       "2     GBR  1896  Athina         GBR_Cycling         Cycling\n",
       "3     USA  1896  Athina       USA_Athletics       Athletics\n",
       "4     GER  1896  Athina      GER_Gymnastics      Gymnastics\n",
       "...   ...   ...     ...                 ...             ...\n",
       "1303  CHN  2021   Tokyo  CHN_3x3 Basketball  3x3 Basketball\n",
       "1304  TPE  2021   Tokyo          TPE_Karate          Karate\n",
       "1305  AUS  2021   Tokyo         AUS_Surfing         Surfing\n",
       "1306  TPE  2021   Tokyo            TPE_Judo            Judo\n",
       "1307  BUR  2021   Tokyo       BUR_Athletics       Athletics\n",
       "\n",
       "[1308 rows x 5 columns]"
      ]
     },
     "execution_count": 7,
     "metadata": {},
     "output_type": "execute_result"
    }
   ],
   "source": [
    "acumulado_por_anio"
   ]
  },
  {
   "cell_type": "code",
   "execution_count": 8,
   "metadata": {},
   "outputs": [
    {
     "name": "stdout",
     "output_type": "stream",
     "text": [
      "     Year  NOC  Count  Acumulado\n",
      "0    1896  AUS      2          2\n",
      "1    1896  AUT      2          2\n",
      "2    1896  DEN      3          3\n",
      "3    1896  FRA      3          3\n",
      "4    1896  GBR      4          4\n",
      "..    ...  ...    ...        ...\n",
      "735  2021  TPE      6         12\n",
      "736  2021  TUR      3          9\n",
      "737  2021  UKR      2         21\n",
      "738  2021  USA      5         44\n",
      "739  2021  UZB      1          7\n",
      "\n",
      "[740 rows x 4 columns]\n"
     ]
    }
   ],
   "source": [
    "# Agrupamos por año y país y contamos el número de deportes distintos que se practicaron en cada año y país\n",
    "acumulado_por_anio_count = acumulado_por_anio.groupby(['Year', 'NOC'])['Sport'].apply(lambda x: len(x.unique())).reset_index()\n",
    "acumulado_por_anio_count.columns = ['Year', 'NOC', 'Count']\n",
    "\n",
    "# Obtenemos la suma acumulada de deportes distintos que se practicaron en cada año y país\n",
    "acumulado_por_anio_count['Acumulado'] = acumulado_por_anio_count.groupby('NOC')['Count'].cumsum()\n",
    "\n",
    "# Imprimimos el resultado\n",
    "print(acumulado_por_anio_count)"
   ]
  },
  {
   "cell_type": "code",
   "execution_count": 9,
   "metadata": {},
   "outputs": [
    {
     "data": {
      "text/html": [
       "<div>\n",
       "<style scoped>\n",
       "    .dataframe tbody tr th:only-of-type {\n",
       "        vertical-align: middle;\n",
       "    }\n",
       "\n",
       "    .dataframe tbody tr th {\n",
       "        vertical-align: top;\n",
       "    }\n",
       "\n",
       "    .dataframe thead th {\n",
       "        text-align: right;\n",
       "    }\n",
       "</style>\n",
       "<table border=\"1\" class=\"dataframe\">\n",
       "  <thead>\n",
       "    <tr style=\"text-align: right;\">\n",
       "      <th></th>\n",
       "      <th>Year</th>\n",
       "      <th>NOC</th>\n",
       "      <th>Count</th>\n",
       "      <th>Acumulado</th>\n",
       "    </tr>\n",
       "  </thead>\n",
       "  <tbody>\n",
       "    <tr>\n",
       "      <th>274</th>\n",
       "      <td>1964</td>\n",
       "      <td>KEN</td>\n",
       "      <td>1</td>\n",
       "      <td>1</td>\n",
       "    </tr>\n",
       "    <tr>\n",
       "      <th>517</th>\n",
       "      <td>2000</td>\n",
       "      <td>MKD</td>\n",
       "      <td>1</td>\n",
       "      <td>1</td>\n",
       "    </tr>\n",
       "    <tr>\n",
       "      <th>629</th>\n",
       "      <td>2012</td>\n",
       "      <td>GRN</td>\n",
       "      <td>1</td>\n",
       "      <td>1</td>\n",
       "    </tr>\n",
       "    <tr>\n",
       "      <th>230</th>\n",
       "      <td>1952</td>\n",
       "      <td>VEN</td>\n",
       "      <td>1</td>\n",
       "      <td>1</td>\n",
       "    </tr>\n",
       "    <tr>\n",
       "      <th>630</th>\n",
       "      <td>2012</td>\n",
       "      <td>GUA</td>\n",
       "      <td>1</td>\n",
       "      <td>1</td>\n",
       "    </tr>\n",
       "    <tr>\n",
       "      <th>...</th>\n",
       "      <td>...</td>\n",
       "      <td>...</td>\n",
       "      <td>...</td>\n",
       "      <td>...</td>\n",
       "    </tr>\n",
       "    <tr>\n",
       "      <th>664</th>\n",
       "      <td>2016</td>\n",
       "      <td>GBR</td>\n",
       "      <td>2</td>\n",
       "      <td>37</td>\n",
       "    </tr>\n",
       "    <tr>\n",
       "      <th>710</th>\n",
       "      <td>2021</td>\n",
       "      <td>GBR</td>\n",
       "      <td>1</td>\n",
       "      <td>38</td>\n",
       "    </tr>\n",
       "    <tr>\n",
       "      <th>532</th>\n",
       "      <td>2000</td>\n",
       "      <td>USA</td>\n",
       "      <td>1</td>\n",
       "      <td>38</td>\n",
       "    </tr>\n",
       "    <tr>\n",
       "      <th>574</th>\n",
       "      <td>2004</td>\n",
       "      <td>USA</td>\n",
       "      <td>1</td>\n",
       "      <td>39</td>\n",
       "    </tr>\n",
       "    <tr>\n",
       "      <th>738</th>\n",
       "      <td>2021</td>\n",
       "      <td>USA</td>\n",
       "      <td>5</td>\n",
       "      <td>44</td>\n",
       "    </tr>\n",
       "  </tbody>\n",
       "</table>\n",
       "<p>740 rows × 4 columns</p>\n",
       "</div>"
      ],
      "text/plain": [
       "     Year  NOC  Count  Acumulado\n",
       "274  1964  KEN      1          1\n",
       "517  2000  MKD      1          1\n",
       "629  2012  GRN      1          1\n",
       "230  1952  VEN      1          1\n",
       "630  2012  GUA      1          1\n",
       "..    ...  ...    ...        ...\n",
       "664  2016  GBR      2         37\n",
       "710  2021  GBR      1         38\n",
       "532  2000  USA      1         38\n",
       "574  2004  USA      1         39\n",
       "738  2021  USA      5         44\n",
       "\n",
       "[740 rows x 4 columns]"
      ]
     },
     "execution_count": 9,
     "metadata": {},
     "output_type": "execute_result"
    }
   ],
   "source": [
    "acumulado_por_anio_count.sort_values(by=\"Acumulado\")"
   ]
  },
  {
   "cell_type": "code",
   "execution_count": 10,
   "metadata": {},
   "outputs": [],
   "source": [
    "oro_acumulado_por_anio=pd.read_csv(\"data/acumulado_oros_por_anio.txt\",sep=\"\\t\")"
   ]
  },
  {
   "cell_type": "code",
   "execution_count": 11,
   "metadata": {},
   "outputs": [
    {
     "name": "stdout",
     "output_type": "stream",
     "text": [
      "     Year  NOC  Count  Acumulado\n",
      "0    1896  AUS      1          1\n",
      "1    1896  AUT      2          2\n",
      "2    1896  DEN      1          1\n",
      "3    1896  FRA      1          1\n",
      "4    1896  GBR      2          2\n",
      "..    ...  ...    ...        ...\n",
      "507  2021  TUR      2          7\n",
      "508  2021  UKR      1         14\n",
      "509  2021  USA      2         36\n",
      "510  2021  UZB      1          4\n",
      "511  2021  VEN      1          3\n",
      "\n",
      "[512 rows x 4 columns]\n"
     ]
    }
   ],
   "source": [
    "\n",
    "# Agrupamos por año y país y contamos el número de deportes distintos que se practicaron en cada año y país\n",
    "oro_acumulado_por_anio_count = oro_acumulado_por_anio.groupby(['Year', 'NOC'])['Sport'].apply(lambda x: len(x.unique())).reset_index()\n",
    "oro_acumulado_por_anio_count.columns = ['Year', 'NOC', 'Count']\n",
    "\n",
    "# Obtenemos la suma acumulada de deportes distintos que se practicaron en cada año y país\n",
    "oro_acumulado_por_anio_count['Acumulado'] = oro_acumulado_por_anio_count.groupby('NOC')['Count'].cumsum()\n",
    "\n",
    "# Imprimimos el resultado\n",
    "print(oro_acumulado_por_anio_count)"
   ]
  },
  {
   "cell_type": "code",
   "execution_count": 12,
   "metadata": {},
   "outputs": [],
   "source": [
    "paises_top=[\"USA\",\"GBR\",\"FRA\",\"CHN\",\"GER\",\"ESP\",\"JPN\",\"CAN\",\"AUS\",\"ITA\",\"SWE\",\"RUS\",\"HUN\"]\n",
    "acumulado_por_anio_count_2=acumulado_por_anio_count[acumulado_por_anio_count[\"NOC\"].isin(paises_top)]"
   ]
  },
  {
   "cell_type": "code",
   "execution_count": 76,
   "metadata": {},
   "outputs": [
    {
     "data": {
      "application/vnd.plotly.v1+json": {
       "config": {
        "plotlyServerURL": "https://plot.ly"
       },
       "data": [
        {
         "mode": "lines",
         "name": "AUS",
         "type": "scatter",
         "x": [
          1896,
          1900,
          1924,
          1928,
          1932,
          1952,
          1956,
          1960,
          1964,
          1984,
          1996,
          2000,
          2004,
          2016,
          2021
         ],
         "y": [
          2,
          3,
          4,
          6,
          7,
          8,
          11,
          12,
          14,
          15,
          18,
          23,
          24,
          26,
          28
         ]
        },
        {
         "mode": "lines",
         "name": "FRA",
         "type": "scatter",
         "x": [
          1896,
          1900,
          1906,
          1908,
          1912,
          1920,
          1924,
          1936,
          1948,
          1952,
          1968,
          1972,
          1992,
          2000,
          2021
         ],
         "y": [
          3,
          18,
          19,
          20,
          21,
          22,
          23,
          24,
          25,
          26,
          27,
          28,
          30,
          32,
          36
         ]
        },
        {
         "mode": "lines",
         "name": "GBR",
         "type": "scatter",
         "x": [
          1896,
          1900,
          1906,
          1908,
          1912,
          1920,
          1936,
          1972,
          1976,
          1992,
          2000,
          2008,
          2012,
          2016,
          2021
         ],
         "y": [
          4,
          13,
          15,
          26,
          27,
          28,
          29,
          30,
          31,
          32,
          33,
          34,
          35,
          37,
          38
         ]
        },
        {
         "mode": "lines",
         "name": "GER",
         "type": "scatter",
         "x": [
          1896,
          1900,
          1904,
          1906,
          1908,
          1912,
          1928,
          1932,
          1936,
          1964,
          1992,
          1996,
          2000,
          2004
         ],
         "y": [
          5,
          9,
          12,
          13,
          14,
          17,
          21,
          22,
          24,
          26,
          27,
          28,
          31,
          32
         ]
        },
        {
         "mode": "lines",
         "name": "HUN",
         "type": "scatter",
         "x": [
          1896,
          1906,
          1908,
          1912,
          1924,
          1928,
          1936,
          1952,
          1960,
          1976,
          1980,
          2021
         ],
         "y": [
          3,
          6,
          7,
          8,
          9,
          11,
          12,
          15,
          16,
          18,
          19,
          20
         ]
        },
        {
         "mode": "lines",
         "name": "USA",
         "type": "scatter",
         "x": [
          1896,
          1900,
          1904,
          1908,
          1912,
          1920,
          1932,
          1936,
          1964,
          1984,
          1996,
          2000,
          2004,
          2021
         ],
         "y": [
          2,
          9,
          22,
          23,
          25,
          27,
          29,
          31,
          32,
          34,
          37,
          38,
          39,
          44
         ]
        },
        {
         "mode": "lines",
         "name": "CAN",
         "type": "scatter",
         "x": [
          1900,
          1904,
          1908,
          1912,
          1920,
          1932,
          1936,
          1952,
          1956,
          1964,
          1984,
          1996,
          2000,
          2004,
          2016,
          2021
         ],
         "y": [
          1,
          5,
          8,
          9,
          11,
          13,
          15,
          16,
          18,
          19,
          21,
          22,
          26,
          27,
          28,
          29
         ]
        },
        {
         "mode": "lines",
         "name": "ESP",
         "type": "scatter",
         "x": [
          1900,
          1920,
          1928,
          1932,
          1952,
          1960,
          1972,
          1976,
          1980,
          1984,
          1988,
          1992,
          1996,
          2000,
          2004,
          2008,
          2012,
          2016,
          2021
         ],
         "y": [
          1,
          3,
          4,
          5,
          6,
          7,
          8,
          9,
          11,
          13,
          14,
          19,
          20,
          22,
          23,
          25,
          27,
          29,
          31
         ]
        },
        {
         "mode": "lines",
         "name": "ITA",
         "type": "scatter",
         "x": [
          1900,
          1906,
          1908,
          1912,
          1920,
          1924,
          1928,
          1936,
          1948,
          1960,
          1964,
          1972,
          1976,
          1980,
          1984,
          2004,
          2008,
          2016,
          2021
         ],
         "y": [
          3,
          7,
          9,
          10,
          11,
          12,
          13,
          15,
          16,
          17,
          18,
          19,
          21,
          22,
          23,
          24,
          25,
          26,
          27
         ]
        },
        {
         "mode": "lines",
         "name": "SWE",
         "type": "scatter",
         "x": [
          1900,
          1906,
          1908,
          1912,
          1920,
          1924,
          1928,
          1932,
          1936,
          1972,
          1988,
          1992,
          2012,
          2016
         ],
         "y": [
          2,
          3,
          11,
          15,
          16,
          18,
          19,
          20,
          21,
          22,
          23,
          24,
          25,
          26
         ]
        },
        {
         "mode": "lines",
         "name": "RUS",
         "type": "scatter",
         "x": [
          1908,
          1912,
          1996,
          2000,
          2004,
          2008,
          2012
         ],
         "y": [
          2,
          5,
          16,
          24,
          25,
          26,
          27
         ]
        },
        {
         "mode": "lines",
         "name": "JPN",
         "type": "scatter",
         "x": [
          1920,
          1924,
          1928,
          1932,
          1936,
          1952,
          1960,
          1964,
          1968,
          1976,
          1984,
          1992,
          1996,
          2000,
          2008,
          2012,
          2016,
          2021
         ],
         "y": [
          1,
          2,
          4,
          6,
          7,
          8,
          11,
          13,
          14,
          15,
          17,
          18,
          19,
          21,
          22,
          24,
          25,
          31
         ]
        },
        {
         "mode": "lines",
         "name": "CHN",
         "type": "scatter",
         "x": [
          1984,
          1988,
          1992,
          1996,
          2000,
          2004,
          2008,
          2012,
          2016,
          2021
         ],
         "y": [
          10,
          13,
          17,
          19,
          21,
          25,
          29,
          30,
          31,
          33
         ]
        }
       ],
       "layout": {
        "template": {
         "data": {
          "bar": [
           {
            "error_x": {
             "color": "#2a3f5f"
            },
            "error_y": {
             "color": "#2a3f5f"
            },
            "marker": {
             "line": {
              "color": "#E5ECF6",
              "width": 0.5
             },
             "pattern": {
              "fillmode": "overlay",
              "size": 10,
              "solidity": 0.2
             }
            },
            "type": "bar"
           }
          ],
          "barpolar": [
           {
            "marker": {
             "line": {
              "color": "#E5ECF6",
              "width": 0.5
             },
             "pattern": {
              "fillmode": "overlay",
              "size": 10,
              "solidity": 0.2
             }
            },
            "type": "barpolar"
           }
          ],
          "carpet": [
           {
            "aaxis": {
             "endlinecolor": "#2a3f5f",
             "gridcolor": "white",
             "linecolor": "white",
             "minorgridcolor": "white",
             "startlinecolor": "#2a3f5f"
            },
            "baxis": {
             "endlinecolor": "#2a3f5f",
             "gridcolor": "white",
             "linecolor": "white",
             "minorgridcolor": "white",
             "startlinecolor": "#2a3f5f"
            },
            "type": "carpet"
           }
          ],
          "choropleth": [
           {
            "colorbar": {
             "outlinewidth": 0,
             "ticks": ""
            },
            "type": "choropleth"
           }
          ],
          "contour": [
           {
            "colorbar": {
             "outlinewidth": 0,
             "ticks": ""
            },
            "colorscale": [
             [
              0,
              "#0d0887"
             ],
             [
              0.1111111111111111,
              "#46039f"
             ],
             [
              0.2222222222222222,
              "#7201a8"
             ],
             [
              0.3333333333333333,
              "#9c179e"
             ],
             [
              0.4444444444444444,
              "#bd3786"
             ],
             [
              0.5555555555555556,
              "#d8576b"
             ],
             [
              0.6666666666666666,
              "#ed7953"
             ],
             [
              0.7777777777777778,
              "#fb9f3a"
             ],
             [
              0.8888888888888888,
              "#fdca26"
             ],
             [
              1,
              "#f0f921"
             ]
            ],
            "type": "contour"
           }
          ],
          "contourcarpet": [
           {
            "colorbar": {
             "outlinewidth": 0,
             "ticks": ""
            },
            "type": "contourcarpet"
           }
          ],
          "heatmap": [
           {
            "colorbar": {
             "outlinewidth": 0,
             "ticks": ""
            },
            "colorscale": [
             [
              0,
              "#0d0887"
             ],
             [
              0.1111111111111111,
              "#46039f"
             ],
             [
              0.2222222222222222,
              "#7201a8"
             ],
             [
              0.3333333333333333,
              "#9c179e"
             ],
             [
              0.4444444444444444,
              "#bd3786"
             ],
             [
              0.5555555555555556,
              "#d8576b"
             ],
             [
              0.6666666666666666,
              "#ed7953"
             ],
             [
              0.7777777777777778,
              "#fb9f3a"
             ],
             [
              0.8888888888888888,
              "#fdca26"
             ],
             [
              1,
              "#f0f921"
             ]
            ],
            "type": "heatmap"
           }
          ],
          "heatmapgl": [
           {
            "colorbar": {
             "outlinewidth": 0,
             "ticks": ""
            },
            "colorscale": [
             [
              0,
              "#0d0887"
             ],
             [
              0.1111111111111111,
              "#46039f"
             ],
             [
              0.2222222222222222,
              "#7201a8"
             ],
             [
              0.3333333333333333,
              "#9c179e"
             ],
             [
              0.4444444444444444,
              "#bd3786"
             ],
             [
              0.5555555555555556,
              "#d8576b"
             ],
             [
              0.6666666666666666,
              "#ed7953"
             ],
             [
              0.7777777777777778,
              "#fb9f3a"
             ],
             [
              0.8888888888888888,
              "#fdca26"
             ],
             [
              1,
              "#f0f921"
             ]
            ],
            "type": "heatmapgl"
           }
          ],
          "histogram": [
           {
            "marker": {
             "pattern": {
              "fillmode": "overlay",
              "size": 10,
              "solidity": 0.2
             }
            },
            "type": "histogram"
           }
          ],
          "histogram2d": [
           {
            "colorbar": {
             "outlinewidth": 0,
             "ticks": ""
            },
            "colorscale": [
             [
              0,
              "#0d0887"
             ],
             [
              0.1111111111111111,
              "#46039f"
             ],
             [
              0.2222222222222222,
              "#7201a8"
             ],
             [
              0.3333333333333333,
              "#9c179e"
             ],
             [
              0.4444444444444444,
              "#bd3786"
             ],
             [
              0.5555555555555556,
              "#d8576b"
             ],
             [
              0.6666666666666666,
              "#ed7953"
             ],
             [
              0.7777777777777778,
              "#fb9f3a"
             ],
             [
              0.8888888888888888,
              "#fdca26"
             ],
             [
              1,
              "#f0f921"
             ]
            ],
            "type": "histogram2d"
           }
          ],
          "histogram2dcontour": [
           {
            "colorbar": {
             "outlinewidth": 0,
             "ticks": ""
            },
            "colorscale": [
             [
              0,
              "#0d0887"
             ],
             [
              0.1111111111111111,
              "#46039f"
             ],
             [
              0.2222222222222222,
              "#7201a8"
             ],
             [
              0.3333333333333333,
              "#9c179e"
             ],
             [
              0.4444444444444444,
              "#bd3786"
             ],
             [
              0.5555555555555556,
              "#d8576b"
             ],
             [
              0.6666666666666666,
              "#ed7953"
             ],
             [
              0.7777777777777778,
              "#fb9f3a"
             ],
             [
              0.8888888888888888,
              "#fdca26"
             ],
             [
              1,
              "#f0f921"
             ]
            ],
            "type": "histogram2dcontour"
           }
          ],
          "mesh3d": [
           {
            "colorbar": {
             "outlinewidth": 0,
             "ticks": ""
            },
            "type": "mesh3d"
           }
          ],
          "parcoords": [
           {
            "line": {
             "colorbar": {
              "outlinewidth": 0,
              "ticks": ""
             }
            },
            "type": "parcoords"
           }
          ],
          "pie": [
           {
            "automargin": true,
            "type": "pie"
           }
          ],
          "scatter": [
           {
            "fillpattern": {
             "fillmode": "overlay",
             "size": 10,
             "solidity": 0.2
            },
            "type": "scatter"
           }
          ],
          "scatter3d": [
           {
            "line": {
             "colorbar": {
              "outlinewidth": 0,
              "ticks": ""
             }
            },
            "marker": {
             "colorbar": {
              "outlinewidth": 0,
              "ticks": ""
             }
            },
            "type": "scatter3d"
           }
          ],
          "scattercarpet": [
           {
            "marker": {
             "colorbar": {
              "outlinewidth": 0,
              "ticks": ""
             }
            },
            "type": "scattercarpet"
           }
          ],
          "scattergeo": [
           {
            "marker": {
             "colorbar": {
              "outlinewidth": 0,
              "ticks": ""
             }
            },
            "type": "scattergeo"
           }
          ],
          "scattergl": [
           {
            "marker": {
             "colorbar": {
              "outlinewidth": 0,
              "ticks": ""
             }
            },
            "type": "scattergl"
           }
          ],
          "scattermapbox": [
           {
            "marker": {
             "colorbar": {
              "outlinewidth": 0,
              "ticks": ""
             }
            },
            "type": "scattermapbox"
           }
          ],
          "scatterpolar": [
           {
            "marker": {
             "colorbar": {
              "outlinewidth": 0,
              "ticks": ""
             }
            },
            "type": "scatterpolar"
           }
          ],
          "scatterpolargl": [
           {
            "marker": {
             "colorbar": {
              "outlinewidth": 0,
              "ticks": ""
             }
            },
            "type": "scatterpolargl"
           }
          ],
          "scatterternary": [
           {
            "marker": {
             "colorbar": {
              "outlinewidth": 0,
              "ticks": ""
             }
            },
            "type": "scatterternary"
           }
          ],
          "surface": [
           {
            "colorbar": {
             "outlinewidth": 0,
             "ticks": ""
            },
            "colorscale": [
             [
              0,
              "#0d0887"
             ],
             [
              0.1111111111111111,
              "#46039f"
             ],
             [
              0.2222222222222222,
              "#7201a8"
             ],
             [
              0.3333333333333333,
              "#9c179e"
             ],
             [
              0.4444444444444444,
              "#bd3786"
             ],
             [
              0.5555555555555556,
              "#d8576b"
             ],
             [
              0.6666666666666666,
              "#ed7953"
             ],
             [
              0.7777777777777778,
              "#fb9f3a"
             ],
             [
              0.8888888888888888,
              "#fdca26"
             ],
             [
              1,
              "#f0f921"
             ]
            ],
            "type": "surface"
           }
          ],
          "table": [
           {
            "cells": {
             "fill": {
              "color": "#EBF0F8"
             },
             "line": {
              "color": "white"
             }
            },
            "header": {
             "fill": {
              "color": "#C8D4E3"
             },
             "line": {
              "color": "white"
             }
            },
            "type": "table"
           }
          ]
         },
         "layout": {
          "annotationdefaults": {
           "arrowcolor": "#2a3f5f",
           "arrowhead": 0,
           "arrowwidth": 1
          },
          "autotypenumbers": "strict",
          "coloraxis": {
           "colorbar": {
            "outlinewidth": 0,
            "ticks": ""
           }
          },
          "colorscale": {
           "diverging": [
            [
             0,
             "#8e0152"
            ],
            [
             0.1,
             "#c51b7d"
            ],
            [
             0.2,
             "#de77ae"
            ],
            [
             0.3,
             "#f1b6da"
            ],
            [
             0.4,
             "#fde0ef"
            ],
            [
             0.5,
             "#f7f7f7"
            ],
            [
             0.6,
             "#e6f5d0"
            ],
            [
             0.7,
             "#b8e186"
            ],
            [
             0.8,
             "#7fbc41"
            ],
            [
             0.9,
             "#4d9221"
            ],
            [
             1,
             "#276419"
            ]
           ],
           "sequential": [
            [
             0,
             "#0d0887"
            ],
            [
             0.1111111111111111,
             "#46039f"
            ],
            [
             0.2222222222222222,
             "#7201a8"
            ],
            [
             0.3333333333333333,
             "#9c179e"
            ],
            [
             0.4444444444444444,
             "#bd3786"
            ],
            [
             0.5555555555555556,
             "#d8576b"
            ],
            [
             0.6666666666666666,
             "#ed7953"
            ],
            [
             0.7777777777777778,
             "#fb9f3a"
            ],
            [
             0.8888888888888888,
             "#fdca26"
            ],
            [
             1,
             "#f0f921"
            ]
           ],
           "sequentialminus": [
            [
             0,
             "#0d0887"
            ],
            [
             0.1111111111111111,
             "#46039f"
            ],
            [
             0.2222222222222222,
             "#7201a8"
            ],
            [
             0.3333333333333333,
             "#9c179e"
            ],
            [
             0.4444444444444444,
             "#bd3786"
            ],
            [
             0.5555555555555556,
             "#d8576b"
            ],
            [
             0.6666666666666666,
             "#ed7953"
            ],
            [
             0.7777777777777778,
             "#fb9f3a"
            ],
            [
             0.8888888888888888,
             "#fdca26"
            ],
            [
             1,
             "#f0f921"
            ]
           ]
          },
          "colorway": [
           "#636efa",
           "#EF553B",
           "#00cc96",
           "#ab63fa",
           "#FFA15A",
           "#19d3f3",
           "#FF6692",
           "#B6E880",
           "#FF97FF",
           "#FECB52"
          ],
          "font": {
           "color": "#2a3f5f"
          },
          "geo": {
           "bgcolor": "white",
           "lakecolor": "white",
           "landcolor": "#E5ECF6",
           "showlakes": true,
           "showland": true,
           "subunitcolor": "white"
          },
          "hoverlabel": {
           "align": "left"
          },
          "hovermode": "closest",
          "mapbox": {
           "style": "light"
          },
          "paper_bgcolor": "white",
          "plot_bgcolor": "#E5ECF6",
          "polar": {
           "angularaxis": {
            "gridcolor": "white",
            "linecolor": "white",
            "ticks": ""
           },
           "bgcolor": "#E5ECF6",
           "radialaxis": {
            "gridcolor": "white",
            "linecolor": "white",
            "ticks": ""
           }
          },
          "scene": {
           "xaxis": {
            "backgroundcolor": "#E5ECF6",
            "gridcolor": "white",
            "gridwidth": 2,
            "linecolor": "white",
            "showbackground": true,
            "ticks": "",
            "zerolinecolor": "white"
           },
           "yaxis": {
            "backgroundcolor": "#E5ECF6",
            "gridcolor": "white",
            "gridwidth": 2,
            "linecolor": "white",
            "showbackground": true,
            "ticks": "",
            "zerolinecolor": "white"
           },
           "zaxis": {
            "backgroundcolor": "#E5ECF6",
            "gridcolor": "white",
            "gridwidth": 2,
            "linecolor": "white",
            "showbackground": true,
            "ticks": "",
            "zerolinecolor": "white"
           }
          },
          "shapedefaults": {
           "line": {
            "color": "#2a3f5f"
           }
          },
          "ternary": {
           "aaxis": {
            "gridcolor": "white",
            "linecolor": "white",
            "ticks": ""
           },
           "baxis": {
            "gridcolor": "white",
            "linecolor": "white",
            "ticks": ""
           },
           "bgcolor": "#E5ECF6",
           "caxis": {
            "gridcolor": "white",
            "linecolor": "white",
            "ticks": ""
           }
          },
          "title": {
           "x": 0.05
          },
          "xaxis": {
           "automargin": true,
           "gridcolor": "white",
           "linecolor": "white",
           "ticks": "",
           "title": {
            "standoff": 15
           },
           "zerolinecolor": "white",
           "zerolinewidth": 2
          },
          "yaxis": {
           "automargin": true,
           "gridcolor": "white",
           "linecolor": "white",
           "ticks": "",
           "title": {
            "standoff": 15
           },
           "zerolinecolor": "white",
           "zerolinewidth": 2
          }
         }
        },
        "title": {
         "text": "Conquered Categories Summatory"
        },
        "xaxis": {
         "title": {
          "text": "Year"
         }
        },
        "yaxis": {
         "title": {
          "text": "Gold"
         }
        }
       }
      }
     },
     "metadata": {},
     "output_type": "display_data"
    },
    {
     "data": {
      "text/plain": [
       "'Conquered Categories.html'"
      ]
     },
     "execution_count": 76,
     "metadata": {},
     "output_type": "execute_result"
    }
   ],
   "source": [
    "fig = go.Figure()\n",
    "for pais in acumulado_por_anio_count_2['NOC'].unique():\n",
    "    df_pais = acumulado_por_anio_count_2[acumulado_por_anio_count_2['NOC'] == pais]\n",
    "    fig.add_trace(go.Scatter(x=df_pais['Year'], y=df_pais['Acumulado'], mode='lines', name=pais))\n",
    "\n",
    "# Configuramos las etiquetas de los ejes y la leyenda\n",
    "fig.update_layout(title='Conquered Categories Summatory',\n",
    "                  xaxis_title='Year',\n",
    "                  yaxis_title='Gold')\n",
    "\n",
    "# Mostramos el gráfico\n",
    "fig.show()\n",
    "\n",
    "pyo.plot(fig, filename='Conquered Categories.html')"
   ]
  },
  {
   "cell_type": "code",
   "execution_count": 14,
   "metadata": {},
   "outputs": [
    {
     "data": {
      "text/html": [
       "<div>\n",
       "<style scoped>\n",
       "    .dataframe tbody tr th:only-of-type {\n",
       "        vertical-align: middle;\n",
       "    }\n",
       "\n",
       "    .dataframe tbody tr th {\n",
       "        vertical-align: top;\n",
       "    }\n",
       "\n",
       "    .dataframe thead th {\n",
       "        text-align: right;\n",
       "    }\n",
       "</style>\n",
       "<table border=\"1\" class=\"dataframe\">\n",
       "  <thead>\n",
       "    <tr style=\"text-align: right;\">\n",
       "      <th></th>\n",
       "      <th>Year</th>\n",
       "      <th>NOC</th>\n",
       "      <th>Count</th>\n",
       "      <th>Acumulado</th>\n",
       "    </tr>\n",
       "  </thead>\n",
       "  <tbody>\n",
       "    <tr>\n",
       "      <th>0</th>\n",
       "      <td>1896</td>\n",
       "      <td>AUS</td>\n",
       "      <td>1</td>\n",
       "      <td>1</td>\n",
       "    </tr>\n",
       "    <tr>\n",
       "      <th>1</th>\n",
       "      <td>1896</td>\n",
       "      <td>AUT</td>\n",
       "      <td>2</td>\n",
       "      <td>2</td>\n",
       "    </tr>\n",
       "    <tr>\n",
       "      <th>2</th>\n",
       "      <td>1896</td>\n",
       "      <td>DEN</td>\n",
       "      <td>1</td>\n",
       "      <td>1</td>\n",
       "    </tr>\n",
       "    <tr>\n",
       "      <th>3</th>\n",
       "      <td>1896</td>\n",
       "      <td>FRA</td>\n",
       "      <td>1</td>\n",
       "      <td>1</td>\n",
       "    </tr>\n",
       "    <tr>\n",
       "      <th>4</th>\n",
       "      <td>1896</td>\n",
       "      <td>GBR</td>\n",
       "      <td>2</td>\n",
       "      <td>2</td>\n",
       "    </tr>\n",
       "    <tr>\n",
       "      <th>...</th>\n",
       "      <td>...</td>\n",
       "      <td>...</td>\n",
       "      <td>...</td>\n",
       "      <td>...</td>\n",
       "    </tr>\n",
       "    <tr>\n",
       "      <th>507</th>\n",
       "      <td>2021</td>\n",
       "      <td>TUR</td>\n",
       "      <td>2</td>\n",
       "      <td>7</td>\n",
       "    </tr>\n",
       "    <tr>\n",
       "      <th>508</th>\n",
       "      <td>2021</td>\n",
       "      <td>UKR</td>\n",
       "      <td>1</td>\n",
       "      <td>14</td>\n",
       "    </tr>\n",
       "    <tr>\n",
       "      <th>509</th>\n",
       "      <td>2021</td>\n",
       "      <td>USA</td>\n",
       "      <td>2</td>\n",
       "      <td>36</td>\n",
       "    </tr>\n",
       "    <tr>\n",
       "      <th>510</th>\n",
       "      <td>2021</td>\n",
       "      <td>UZB</td>\n",
       "      <td>1</td>\n",
       "      <td>4</td>\n",
       "    </tr>\n",
       "    <tr>\n",
       "      <th>511</th>\n",
       "      <td>2021</td>\n",
       "      <td>VEN</td>\n",
       "      <td>1</td>\n",
       "      <td>3</td>\n",
       "    </tr>\n",
       "  </tbody>\n",
       "</table>\n",
       "<p>512 rows × 4 columns</p>\n",
       "</div>"
      ],
      "text/plain": [
       "     Year  NOC  Count  Acumulado\n",
       "0    1896  AUS      1          1\n",
       "1    1896  AUT      2          2\n",
       "2    1896  DEN      1          1\n",
       "3    1896  FRA      1          1\n",
       "4    1896  GBR      2          2\n",
       "..    ...  ...    ...        ...\n",
       "507  2021  TUR      2          7\n",
       "508  2021  UKR      1         14\n",
       "509  2021  USA      2         36\n",
       "510  2021  UZB      1          4\n",
       "511  2021  VEN      1          3\n",
       "\n",
       "[512 rows x 4 columns]"
      ]
     },
     "execution_count": 14,
     "metadata": {},
     "output_type": "execute_result"
    }
   ],
   "source": [
    "oro_acumulado_por_anio_count"
   ]
  },
  {
   "cell_type": "code",
   "execution_count": 15,
   "metadata": {},
   "outputs": [
    {
     "data": {
      "text/html": [
       "<div>\n",
       "<style scoped>\n",
       "    .dataframe tbody tr th:only-of-type {\n",
       "        vertical-align: middle;\n",
       "    }\n",
       "\n",
       "    .dataframe tbody tr th {\n",
       "        vertical-align: top;\n",
       "    }\n",
       "\n",
       "    .dataframe thead th {\n",
       "        text-align: right;\n",
       "    }\n",
       "</style>\n",
       "<table border=\"1\" class=\"dataframe\">\n",
       "  <thead>\n",
       "    <tr style=\"text-align: right;\">\n",
       "      <th></th>\n",
       "      <th>Year</th>\n",
       "      <th>NOC</th>\n",
       "      <th>Count</th>\n",
       "      <th>Acumulado</th>\n",
       "    </tr>\n",
       "  </thead>\n",
       "  <tbody>\n",
       "    <tr>\n",
       "      <th>274</th>\n",
       "      <td>1964</td>\n",
       "      <td>KEN</td>\n",
       "      <td>1</td>\n",
       "      <td>1</td>\n",
       "    </tr>\n",
       "    <tr>\n",
       "      <th>517</th>\n",
       "      <td>2000</td>\n",
       "      <td>MKD</td>\n",
       "      <td>1</td>\n",
       "      <td>1</td>\n",
       "    </tr>\n",
       "    <tr>\n",
       "      <th>629</th>\n",
       "      <td>2012</td>\n",
       "      <td>GRN</td>\n",
       "      <td>1</td>\n",
       "      <td>1</td>\n",
       "    </tr>\n",
       "    <tr>\n",
       "      <th>230</th>\n",
       "      <td>1952</td>\n",
       "      <td>VEN</td>\n",
       "      <td>1</td>\n",
       "      <td>1</td>\n",
       "    </tr>\n",
       "    <tr>\n",
       "      <th>630</th>\n",
       "      <td>2012</td>\n",
       "      <td>GUA</td>\n",
       "      <td>1</td>\n",
       "      <td>1</td>\n",
       "    </tr>\n",
       "    <tr>\n",
       "      <th>...</th>\n",
       "      <td>...</td>\n",
       "      <td>...</td>\n",
       "      <td>...</td>\n",
       "      <td>...</td>\n",
       "    </tr>\n",
       "    <tr>\n",
       "      <th>664</th>\n",
       "      <td>2016</td>\n",
       "      <td>GBR</td>\n",
       "      <td>2</td>\n",
       "      <td>37</td>\n",
       "    </tr>\n",
       "    <tr>\n",
       "      <th>710</th>\n",
       "      <td>2021</td>\n",
       "      <td>GBR</td>\n",
       "      <td>1</td>\n",
       "      <td>38</td>\n",
       "    </tr>\n",
       "    <tr>\n",
       "      <th>532</th>\n",
       "      <td>2000</td>\n",
       "      <td>USA</td>\n",
       "      <td>1</td>\n",
       "      <td>38</td>\n",
       "    </tr>\n",
       "    <tr>\n",
       "      <th>574</th>\n",
       "      <td>2004</td>\n",
       "      <td>USA</td>\n",
       "      <td>1</td>\n",
       "      <td>39</td>\n",
       "    </tr>\n",
       "    <tr>\n",
       "      <th>738</th>\n",
       "      <td>2021</td>\n",
       "      <td>USA</td>\n",
       "      <td>5</td>\n",
       "      <td>44</td>\n",
       "    </tr>\n",
       "  </tbody>\n",
       "</table>\n",
       "<p>740 rows × 4 columns</p>\n",
       "</div>"
      ],
      "text/plain": [
       "     Year  NOC  Count  Acumulado\n",
       "274  1964  KEN      1          1\n",
       "517  2000  MKD      1          1\n",
       "629  2012  GRN      1          1\n",
       "230  1952  VEN      1          1\n",
       "630  2012  GUA      1          1\n",
       "..    ...  ...    ...        ...\n",
       "664  2016  GBR      2         37\n",
       "710  2021  GBR      1         38\n",
       "532  2000  USA      1         38\n",
       "574  2004  USA      1         39\n",
       "738  2021  USA      5         44\n",
       "\n",
       "[740 rows x 4 columns]"
      ]
     },
     "execution_count": 15,
     "metadata": {},
     "output_type": "execute_result"
    }
   ],
   "source": [
    "acumulado_por_anio_count.sort_values(by=\"Acumulado\")"
   ]
  },
  {
   "cell_type": "code",
   "execution_count": 16,
   "metadata": {},
   "outputs": [],
   "source": [
    "paises_top=[\"USA\",\"GBR\",\"FRA\",\"CHN\",\"GER\",\"ESP\",\"JPN\",\"CAN\",\"AUS\",\"ITA\",\"SWE\",\"RUS\",\"HUN\"]\n"
   ]
  },
  {
   "cell_type": "code",
   "execution_count": 17,
   "metadata": {},
   "outputs": [],
   "source": [
    "oro_acumulado_por_anio_count_2=oro_acumulado_por_anio_count[oro_acumulado_por_anio_count[\"NOC\"].isin(paises_top)]"
   ]
  },
  {
   "cell_type": "code",
   "execution_count": 18,
   "metadata": {},
   "outputs": [
    {
     "data": {
      "text/html": [
       "<div>\n",
       "<style scoped>\n",
       "    .dataframe tbody tr th:only-of-type {\n",
       "        vertical-align: middle;\n",
       "    }\n",
       "\n",
       "    .dataframe tbody tr th {\n",
       "        vertical-align: top;\n",
       "    }\n",
       "\n",
       "    .dataframe thead th {\n",
       "        text-align: right;\n",
       "    }\n",
       "</style>\n",
       "<table border=\"1\" class=\"dataframe\">\n",
       "  <thead>\n",
       "    <tr style=\"text-align: right;\">\n",
       "      <th></th>\n",
       "      <th>Year</th>\n",
       "      <th>NOC</th>\n",
       "      <th>Count</th>\n",
       "      <th>Acumulado</th>\n",
       "    </tr>\n",
       "  </thead>\n",
       "  <tbody>\n",
       "    <tr>\n",
       "      <th>0</th>\n",
       "      <td>1896</td>\n",
       "      <td>AUS</td>\n",
       "      <td>1</td>\n",
       "      <td>1</td>\n",
       "    </tr>\n",
       "    <tr>\n",
       "      <th>3</th>\n",
       "      <td>1896</td>\n",
       "      <td>FRA</td>\n",
       "      <td>1</td>\n",
       "      <td>1</td>\n",
       "    </tr>\n",
       "    <tr>\n",
       "      <th>4</th>\n",
       "      <td>1896</td>\n",
       "      <td>GBR</td>\n",
       "      <td>2</td>\n",
       "      <td>2</td>\n",
       "    </tr>\n",
       "    <tr>\n",
       "      <th>5</th>\n",
       "      <td>1896</td>\n",
       "      <td>GER</td>\n",
       "      <td>1</td>\n",
       "      <td>1</td>\n",
       "    </tr>\n",
       "    <tr>\n",
       "      <th>7</th>\n",
       "      <td>1896</td>\n",
       "      <td>HUN</td>\n",
       "      <td>1</td>\n",
       "      <td>1</td>\n",
       "    </tr>\n",
       "    <tr>\n",
       "      <th>...</th>\n",
       "      <td>...</td>\n",
       "      <td>...</td>\n",
       "      <td>...</td>\n",
       "      <td>...</td>\n",
       "    </tr>\n",
       "    <tr>\n",
       "      <th>483</th>\n",
       "      <td>2021</td>\n",
       "      <td>ESP</td>\n",
       "      <td>3</td>\n",
       "      <td>20</td>\n",
       "    </tr>\n",
       "    <tr>\n",
       "      <th>486</th>\n",
       "      <td>2021</td>\n",
       "      <td>FRA</td>\n",
       "      <td>2</td>\n",
       "      <td>25</td>\n",
       "    </tr>\n",
       "    <tr>\n",
       "      <th>492</th>\n",
       "      <td>2021</td>\n",
       "      <td>ITA</td>\n",
       "      <td>2</td>\n",
       "      <td>22</td>\n",
       "    </tr>\n",
       "    <tr>\n",
       "      <th>493</th>\n",
       "      <td>2021</td>\n",
       "      <td>JPN</td>\n",
       "      <td>5</td>\n",
       "      <td>17</td>\n",
       "    </tr>\n",
       "    <tr>\n",
       "      <th>509</th>\n",
       "      <td>2021</td>\n",
       "      <td>USA</td>\n",
       "      <td>2</td>\n",
       "      <td>36</td>\n",
       "    </tr>\n",
       "  </tbody>\n",
       "</table>\n",
       "<p>153 rows × 4 columns</p>\n",
       "</div>"
      ],
      "text/plain": [
       "     Year  NOC  Count  Acumulado\n",
       "0    1896  AUS      1          1\n",
       "3    1896  FRA      1          1\n",
       "4    1896  GBR      2          2\n",
       "5    1896  GER      1          1\n",
       "7    1896  HUN      1          1\n",
       "..    ...  ...    ...        ...\n",
       "483  2021  ESP      3         20\n",
       "486  2021  FRA      2         25\n",
       "492  2021  ITA      2         22\n",
       "493  2021  JPN      5         17\n",
       "509  2021  USA      2         36\n",
       "\n",
       "[153 rows x 4 columns]"
      ]
     },
     "execution_count": 18,
     "metadata": {},
     "output_type": "execute_result"
    }
   ],
   "source": [
    "oro_acumulado_por_anio_count_2"
   ]
  },
  {
   "cell_type": "code",
   "execution_count": 19,
   "metadata": {},
   "outputs": [
    {
     "name": "stderr",
     "output_type": "stream",
     "text": [
      "C:\\Users\\Admin\\AppData\\Roaming\\Python\\Python37\\site-packages\\ipykernel_launcher.py:5: UserWarning:\n",
      "\n",
      "Boolean Series key will be reindexed to match DataFrame index.\n",
      "\n"
     ]
    },
    {
     "data": {
      "image/png": "[encoded data removed]",
      "text/plain": [
       "<Figure size 1000x600 with 1 Axes>"
      ]
     },
     "metadata": {},
     "output_type": "display_data"
    }
   ],
   "source": [
    "fig, ax = plt.subplots(figsize=(10, 6))\n",
    "\n",
    "# Iteramos sobre los países y creamos una línea para cada uno\n",
    "for pais in oro_acumulado_por_anio_count_2['NOC'].unique():\n",
    "    df_pais = oro_acumulado_por_anio_count_2[oro_acumulado_por_anio_count['NOC'] == pais]\n",
    "    ax.plot(df_pais['Year'], df_pais['Acumulado'], label=pais)\n",
    "\n",
    "# Configuramos las etiquetas de los ejes y la leyenda\n",
    "ax.set_xlabel('Año')\n",
    "ax.set_ylabel('Medals')\n",
    "ax.set_title('Número acumulado de deportes por país y año')\n",
    "ax.legend()\n",
    "\n",
    "# Mostramos el gráfico\n",
    "plt.show()"
   ]
  },
  {
   "cell_type": "code",
   "execution_count": 20,
   "metadata": {},
   "outputs": [
    {
     "data": {
      "application/vnd.plotly.v1+json": {
       "config": {
        "plotlyServerURL": "https://plot.ly"
       },
       "data": [
        {
         "mode": "lines",
         "name": "AUS",
         "type": "scatter",
         "x": [
          1896,
          1924,
          1956,
          1960,
          1964,
          1984,
          1992,
          1996,
          2000,
          2008,
          2016,
          2021
         ],
         "y": [
          1,
          2,
          3,
          4,
          5,
          6,
          8,
          11,
          16,
          17,
          19,
          20
         ]
        },
        {
         "mode": "lines",
         "name": "FRA",
         "type": "scatter",
         "x": [
          1896,
          1900,
          1906,
          1908,
          1920,
          1924,
          1932,
          1984,
          1988,
          1996,
          2012,
          2016,
          2021
         ],
         "y": [
          1,
          9,
          12,
          13,
          14,
          17,
          18,
          19,
          20,
          21,
          22,
          23,
          25
         ]
        },
        {
         "mode": "lines",
         "name": "GBR",
         "type": "scatter",
         "x": [
          1896,
          1900,
          1906,
          1908,
          1928,
          1956,
          1968,
          1976,
          2008,
          2012,
          2016
         ],
         "y": [
          2,
          6,
          7,
          19,
          20,
          21,
          22,
          23,
          24,
          27,
          30
         ]
        },
        {
         "mode": "lines",
         "name": "GER",
         "type": "scatter",
         "x": [
          1896,
          1900,
          1904,
          1906,
          1908,
          1912,
          1928,
          1932,
          1936,
          1956,
          1992,
          2004,
          2008,
          2012,
          2016
         ],
         "y": [
          1,
          2,
          3,
          6,
          7,
          8,
          11,
          12,
          18,
          19,
          21,
          23,
          25,
          27,
          28
         ]
        },
        {
         "mode": "lines",
         "name": "HUN",
         "type": "scatter",
         "x": [
          1896,
          1900,
          1908,
          1912,
          1928,
          1932,
          1936,
          1948,
          1952,
          1980,
          1988,
          1992,
          2012
         ],
         "y": [
          1,
          2,
          3,
          4,
          5,
          6,
          7,
          8,
          10,
          11,
          12,
          13,
          14
         ]
        },
        {
         "mode": "lines",
         "name": "USA",
         "type": "scatter",
         "x": [
          1896,
          1900,
          1904,
          1906,
          1908,
          1912,
          1920,
          1932,
          1936,
          1948,
          1968,
          1984,
          1996,
          2000,
          2012,
          2016,
          2021
         ],
         "y": [
          1,
          4,
          15,
          16,
          17,
          19,
          20,
          21,
          22,
          24,
          25,
          27,
          30,
          32,
          33,
          34,
          36
         ]
        },
        {
         "mode": "lines",
         "name": "ESP",
         "type": "scatter",
         "x": [
          1900,
          1928,
          1980,
          1992,
          1996,
          2000,
          2004,
          2012,
          2016,
          2021
         ],
         "y": [
          1,
          2,
          3,
          10,
          12,
          13,
          14,
          15,
          17,
          20
         ]
        },
        {
         "mode": "lines",
         "name": "CAN",
         "type": "scatter",
         "x": [
          1904,
          1908,
          1912,
          1920,
          1936,
          1956,
          1968,
          1984,
          1988,
          2000,
          2004,
          2012,
          2021
         ],
         "y": [
          4,
          5,
          6,
          8,
          9,
          10,
          11,
          13,
          14,
          17,
          19,
          20,
          21
         ]
        },
        {
         "mode": "lines",
         "name": "ITA",
         "type": "scatter",
         "x": [
          1908,
          1912,
          1920,
          1924,
          1932,
          1936,
          1948,
          1960,
          1964,
          1968,
          1980,
          1984,
          2000,
          2004,
          2021
         ],
         "y": [
          1,
          2,
          4,
          5,
          7,
          9,
          10,
          11,
          12,
          14,
          15,
          17,
          19,
          20,
          22
         ]
        },
        {
         "mode": "lines",
         "name": "RUS",
         "type": "scatter",
         "x": [
          1908,
          1996,
          2000,
          2004,
          2008,
          2012,
          2016
         ],
         "y": [
          1,
          8,
          14,
          17,
          18,
          20,
          21
         ]
        },
        {
         "mode": "lines",
         "name": "SWE",
         "type": "scatter",
         "x": [
          1908,
          1912,
          1920,
          1928,
          1932,
          1948,
          1976,
          1992
         ],
         "y": [
          3,
          8,
          9,
          10,
          12,
          15,
          16,
          17
         ]
        },
        {
         "mode": "lines",
         "name": "JPN",
         "type": "scatter",
         "x": [
          1928,
          1932,
          1936,
          1952,
          1960,
          1964,
          1976,
          1984,
          2004,
          2008,
          2016,
          2021
         ],
         "y": [
          1,
          2,
          3,
          4,
          5,
          7,
          8,
          9,
          10,
          11,
          12,
          17
         ]
        },
        {
         "mode": "lines",
         "name": "CHN",
         "type": "scatter",
         "x": [
          1984,
          1988,
          1992,
          2000,
          2004,
          2008,
          2016
         ],
         "y": [
          4,
          6,
          9,
          11,
          14,
          19,
          21
         ]
        }
       ],
       "layout": {
        "template": {
         "data": {
          "bar": [
           {
            "error_x": {
             "color": "#2a3f5f"
            },
            "error_y": {
             "color": "#2a3f5f"
            },
            "marker": {
             "line": {
              "color": "#E5ECF6",
              "width": 0.5
             },
             "pattern": {
              "fillmode": "overlay",
              "size": 10,
              "solidity": 0.2
             }
            },
            "type": "bar"
           }
          ],
          "barpolar": [
           {
            "marker": {
             "line": {
              "color": "#E5ECF6",
              "width": 0.5
             },
             "pattern": {
              "fillmode": "overlay",
              "size": 10,
              "solidity": 0.2
             }
            },
            "type": "barpolar"
           }
          ],
          "carpet": [
           {
            "aaxis": {
             "endlinecolor": "#2a3f5f",
             "gridcolor": "white",
             "linecolor": "white",
             "minorgridcolor": "white",
             "startlinecolor": "#2a3f5f"
            },
            "baxis": {
             "endlinecolor": "#2a3f5f",
             "gridcolor": "white",
             "linecolor": "white",
             "minorgridcolor": "white",
             "startlinecolor": "#2a3f5f"
            },
            "type": "carpet"
           }
          ],
          "choropleth": [
           {
            "colorbar": {
             "outlinewidth": 0,
             "ticks": ""
            },
            "type": "choropleth"
           }
          ],
          "contour": [
           {
            "colorbar": {
             "outlinewidth": 0,
             "ticks": ""
            },
            "colorscale": [
             [
              0,
              "#0d0887"
             ],
             [
              0.1111111111111111,
              "#46039f"
             ],
             [
              0.2222222222222222,
              "#7201a8"
             ],
             [
              0.3333333333333333,
              "#9c179e"
             ],
             [
              0.4444444444444444,
              "#bd3786"
             ],
             [
              0.5555555555555556,
              "#d8576b"
             ],
             [
              0.6666666666666666,
              "#ed7953"
             ],
             [
              0.7777777777777778,
              "#fb9f3a"
             ],
             [
              0.8888888888888888,
              "#fdca26"
             ],
             [
              1,
              "#f0f921"
             ]
            ],
            "type": "contour"
           }
          ],
          "contourcarpet": [
           {
            "colorbar": {
             "outlinewidth": 0,
             "ticks": ""
            },
            "type": "contourcarpet"
           }
          ],
          "heatmap": [
           {
            "colorbar": {
             "outlinewidth": 0,
             "ticks": ""
            },
            "colorscale": [
             [
              0,
              "#0d0887"
             ],
             [
              0.1111111111111111,
              "#46039f"
             ],
             [
              0.2222222222222222,
              "#7201a8"
             ],
             [
              0.3333333333333333,
              "#9c179e"
             ],
             [
              0.4444444444444444,
              "#bd3786"
             ],
             [
              0.5555555555555556,
              "#d8576b"
             ],
             [
              0.6666666666666666,
              "#ed7953"
             ],
             [
              0.7777777777777778,
              "#fb9f3a"
             ],
             [
              0.8888888888888888,
              "#fdca26"
             ],
             [
              1,
              "#f0f921"
             ]
            ],
            "type": "heatmap"
           }
          ],
          "heatmapgl": [
           {
            "colorbar": {
             "outlinewidth": 0,
             "ticks": ""
            },
            "colorscale": [
             [
              0,
              "#0d0887"
             ],
             [
              0.1111111111111111,
              "#46039f"
             ],
             [
              0.2222222222222222,
              "#7201a8"
             ],
             [
              0.3333333333333333,
              "#9c179e"
             ],
             [
              0.4444444444444444,
              "#bd3786"
             ],
             [
              0.5555555555555556,
              "#d8576b"
             ],
             [
              0.6666666666666666,
              "#ed7953"
             ],
             [
              0.7777777777777778,
              "#fb9f3a"
             ],
             [
              0.8888888888888888,
              "#fdca26"
             ],
             [
              1,
              "#f0f921"
             ]
            ],
            "type": "heatmapgl"
           }
          ],
          "histogram": [
           {
            "marker": {
             "pattern": {
              "fillmode": "overlay",
              "size": 10,
              "solidity": 0.2
             }
            },
            "type": "histogram"
           }
          ],
          "histogram2d": [
           {
            "colorbar": {
             "outlinewidth": 0,
             "ticks": ""
            },
            "colorscale": [
             [
              0,
              "#0d0887"
             ],
             [
              0.1111111111111111,
              "#46039f"
             ],
             [
              0.2222222222222222,
              "#7201a8"
             ],
             [
              0.3333333333333333,
              "#9c179e"
             ],
             [
              0.4444444444444444,
              "#bd3786"
             ],
             [
              0.5555555555555556,
              "#d8576b"
             ],
             [
              0.6666666666666666,
              "#ed7953"
             ],
             [
              0.7777777777777778,
              "#fb9f3a"
             ],
             [
              0.8888888888888888,
              "#fdca26"
             ],
             [
              1,
              "#f0f921"
             ]
            ],
            "type": "histogram2d"
           }
          ],
          "histogram2dcontour": [
           {
            "colorbar": {
             "outlinewidth": 0,
             "ticks": ""
            },
            "colorscale": [
             [
              0,
              "#0d0887"
             ],
             [
              0.1111111111111111,
              "#46039f"
             ],
             [
              0.2222222222222222,
              "#7201a8"
             ],
             [
              0.3333333333333333,
              "#9c179e"
             ],
             [
              0.4444444444444444,
              "#bd3786"
             ],
             [
              0.5555555555555556,
              "#d8576b"
             ],
             [
              0.6666666666666666,
              "#ed7953"
             ],
             [
              0.7777777777777778,
              "#fb9f3a"
             ],
             [
              0.8888888888888888,
              "#fdca26"
             ],
             [
              1,
              "#f0f921"
             ]
            ],
            "type": "histogram2dcontour"
           }
          ],
          "mesh3d": [
           {
            "colorbar": {
             "outlinewidth": 0,
             "ticks": ""
            },
            "type": "mesh3d"
           }
          ],
          "parcoords": [
           {
            "line": {
             "colorbar": {
              "outlinewidth": 0,
              "ticks": ""
             }
            },
            "type": "parcoords"
           }
          ],
          "pie": [
           {
            "automargin": true,
            "type": "pie"
           }
          ],
          "scatter": [
           {
            "fillpattern": {
             "fillmode": "overlay",
             "size": 10,
             "solidity": 0.2
            },
            "type": "scatter"
           }
          ],
          "scatter3d": [
           {
            "line": {
             "colorbar": {
              "outlinewidth": 0,
              "ticks": ""
             }
            },
            "marker": {
             "colorbar": {
              "outlinewidth": 0,
              "ticks": ""
             }
            },
            "type": "scatter3d"
           }
          ],
          "scattercarpet": [
           {
            "marker": {
             "colorbar": {
              "outlinewidth": 0,
              "ticks": ""
             }
            },
            "type": "scattercarpet"
           }
          ],
          "scattergeo": [
           {
            "marker": {
             "colorbar": {
              "outlinewidth": 0,
              "ticks": ""
             }
            },
            "type": "scattergeo"
           }
          ],
          "scattergl": [
           {
            "marker": {
             "colorbar": {
              "outlinewidth": 0,
              "ticks": ""
             }
            },
            "type": "scattergl"
           }
          ],
          "scattermapbox": [
           {
            "marker": {
             "colorbar": {
              "outlinewidth": 0,
              "ticks": ""
             }
            },
            "type": "scattermapbox"
           }
          ],
          "scatterpolar": [
           {
            "marker": {
             "colorbar": {
              "outlinewidth": 0,
              "ticks": ""
             }
            },
            "type": "scatterpolar"
           }
          ],
          "scatterpolargl": [
           {
            "marker": {
             "colorbar": {
              "outlinewidth": 0,
              "ticks": ""
             }
            },
            "type": "scatterpolargl"
           }
          ],
          "scatterternary": [
           {
            "marker": {
             "colorbar": {
              "outlinewidth": 0,
              "ticks": ""
             }
            },
            "type": "scatterternary"
           }
          ],
          "surface": [
           {
            "colorbar": {
             "outlinewidth": 0,
             "ticks": ""
            },
            "colorscale": [
             [
              0,
              "#0d0887"
             ],
             [
              0.1111111111111111,
              "#46039f"
             ],
             [
              0.2222222222222222,
              "#7201a8"
             ],
             [
              0.3333333333333333,
              "#9c179e"
             ],
             [
              0.4444444444444444,
              "#bd3786"
             ],
             [
              0.5555555555555556,
              "#d8576b"
             ],
             [
              0.6666666666666666,
              "#ed7953"
             ],
             [
              0.7777777777777778,
              "#fb9f3a"
             ],
             [
              0.8888888888888888,
              "#fdca26"
             ],
             [
              1,
              "#f0f921"
             ]
            ],
            "type": "surface"
           }
          ],
          "table": [
           {
            "cells": {
             "fill": {
              "color": "#EBF0F8"
             },
             "line": {
              "color": "white"
             }
            },
            "header": {
             "fill": {
              "color": "#C8D4E3"
             },
             "line": {
              "color": "white"
             }
            },
            "type": "table"
           }
          ]
         },
         "layout": {
          "annotationdefaults": {
           "arrowcolor": "#2a3f5f",
           "arrowhead": 0,
           "arrowwidth": 1
          },
          "autotypenumbers": "strict",
          "coloraxis": {
           "colorbar": {
            "outlinewidth": 0,
            "ticks": ""
           }
          },
          "colorscale": {
           "diverging": [
            [
             0,
             "#8e0152"
            ],
            [
             0.1,
             "#c51b7d"
            ],
            [
             0.2,
             "#de77ae"
            ],
            [
             0.3,
             "#f1b6da"
            ],
            [
             0.4,
             "#fde0ef"
            ],
            [
             0.5,
             "#f7f7f7"
            ],
            [
             0.6,
             "#e6f5d0"
            ],
            [
             0.7,
             "#b8e186"
            ],
            [
             0.8,
             "#7fbc41"
            ],
            [
             0.9,
             "#4d9221"
            ],
            [
             1,
             "#276419"
            ]
           ],
           "sequential": [
            [
             0,
             "#0d0887"
            ],
            [
             0.1111111111111111,
             "#46039f"
            ],
            [
             0.2222222222222222,
             "#7201a8"
            ],
            [
             0.3333333333333333,
             "#9c179e"
            ],
            [
             0.4444444444444444,
             "#bd3786"
            ],
            [
             0.5555555555555556,
             "#d8576b"
            ],
            [
             0.6666666666666666,
             "#ed7953"
            ],
            [
             0.7777777777777778,
             "#fb9f3a"
            ],
            [
             0.8888888888888888,
             "#fdca26"
            ],
            [
             1,
             "#f0f921"
            ]
           ],
           "sequentialminus": [
            [
             0,
             "#0d0887"
            ],
            [
             0.1111111111111111,
             "#46039f"
            ],
            [
             0.2222222222222222,
             "#7201a8"
            ],
            [
             0.3333333333333333,
             "#9c179e"
            ],
            [
             0.4444444444444444,
             "#bd3786"
            ],
            [
             0.5555555555555556,
             "#d8576b"
            ],
            [
             0.6666666666666666,
             "#ed7953"
            ],
            [
             0.7777777777777778,
             "#fb9f3a"
            ],
            [
             0.8888888888888888,
             "#fdca26"
            ],
            [
             1,
             "#f0f921"
            ]
           ]
          },
          "colorway": [
           "#636efa",
           "#EF553B",
           "#00cc96",
           "#ab63fa",
           "#FFA15A",
           "#19d3f3",
           "#FF6692",
           "#B6E880",
           "#FF97FF",
           "#FECB52"
          ],
          "font": {
           "color": "#2a3f5f"
          },
          "geo": {
           "bgcolor": "white",
           "lakecolor": "white",
           "landcolor": "#E5ECF6",
           "showlakes": true,
           "showland": true,
           "subunitcolor": "white"
          },
          "hoverlabel": {
           "align": "left"
          },
          "hovermode": "closest",
          "mapbox": {
           "style": "light"
          },
          "paper_bgcolor": "white",
          "plot_bgcolor": "#E5ECF6",
          "polar": {
           "angularaxis": {
            "gridcolor": "white",
            "linecolor": "white",
            "ticks": ""
           },
           "bgcolor": "#E5ECF6",
           "radialaxis": {
            "gridcolor": "white",
            "linecolor": "white",
            "ticks": ""
           }
          },
          "scene": {
           "xaxis": {
            "backgroundcolor": "#E5ECF6",
            "gridcolor": "white",
            "gridwidth": 2,
            "linecolor": "white",
            "showbackground": true,
            "ticks": "",
            "zerolinecolor": "white"
           },
           "yaxis": {
            "backgroundcolor": "#E5ECF6",
            "gridcolor": "white",
            "gridwidth": 2,
            "linecolor": "white",
            "showbackground": true,
            "ticks": "",
            "zerolinecolor": "white"
           },
           "zaxis": {
            "backgroundcolor": "#E5ECF6",
            "gridcolor": "white",
            "gridwidth": 2,
            "linecolor": "white",
            "showbackground": true,
            "ticks": "",
            "zerolinecolor": "white"
           }
          },
          "shapedefaults": {
           "line": {
            "color": "#2a3f5f"
           }
          },
          "ternary": {
           "aaxis": {
            "gridcolor": "white",
            "linecolor": "white",
            "ticks": ""
           },
           "baxis": {
            "gridcolor": "white",
            "linecolor": "white",
            "ticks": ""
           },
           "bgcolor": "#E5ECF6",
           "caxis": {
            "gridcolor": "white",
            "linecolor": "white",
            "ticks": ""
           }
          },
          "title": {
           "x": 0.05
          },
          "xaxis": {
           "automargin": true,
           "gridcolor": "white",
           "linecolor": "white",
           "ticks": "",
           "title": {
            "standoff": 15
           },
           "zerolinecolor": "white",
           "zerolinewidth": 2
          },
          "yaxis": {
           "automargin": true,
           "gridcolor": "white",
           "linecolor": "white",
           "ticks": "",
           "title": {
            "standoff": 15
           },
           "zerolinecolor": "white",
           "zerolinewidth": 2
          }
         }
        },
        "title": {
         "text": "Sum of Gold"
        },
        "xaxis": {
         "title": {
          "text": "Year"
         }
        },
        "yaxis": {
         "title": {
          "text": "Gold"
         }
        }
       }
      }
     },
     "metadata": {},
     "output_type": "display_data"
    },
    {
     "data": {
      "text/plain": [
       "'Gold.html'"
      ]
     },
     "execution_count": 20,
     "metadata": {},
     "output_type": "execute_result"
    }
   ],
   "source": [
    "# Iteramos sobre los países y creamos una línea para cada uno\n",
    "fig = go.Figure()\n",
    "for pais in oro_acumulado_por_anio_count_2['NOC'].unique():\n",
    "    df_pais = oro_acumulado_por_anio_count_2[oro_acumulado_por_anio_count_2['NOC'] == pais]\n",
    "    fig.add_trace(go.Scatter(x=df_pais['Year'], y=df_pais['Acumulado'], mode='lines', name=pais))\n",
    "\n",
    "# Configuramos las etiquetas de los ejes y la leyenda\n",
    "fig.update_layout(title='Sum of Gold',\n",
    "                  xaxis_title='Year',\n",
    "                  yaxis_title='Gold')\n",
    "\n",
    "# Mostramos el gráfico\n",
    "fig.show()\n",
    "\n",
    "pyo.plot(fig, filename='Gold.html')"
   ]
  },
  {
   "cell_type": "code",
   "execution_count": 21,
   "metadata": {},
   "outputs": [],
   "source": [
    "porcentaje_EEUU=pd.read_csv(\"porcentaje_medallas_eeuu.csv\")"
   ]
  },
  {
   "cell_type": "code",
   "execution_count": 22,
   "metadata": {},
   "outputs": [
    {
     "data": {
      "text/html": [
       "<div>\n",
       "<style scoped>\n",
       "    .dataframe tbody tr th:only-of-type {\n",
       "        vertical-align: middle;\n",
       "    }\n",
       "\n",
       "    .dataframe tbody tr th {\n",
       "        vertical-align: top;\n",
       "    }\n",
       "\n",
       "    .dataframe thead th {\n",
       "        text-align: right;\n",
       "    }\n",
       "</style>\n",
       "<table border=\"1\" class=\"dataframe\">\n",
       "  <thead>\n",
       "    <tr style=\"text-align: right;\">\n",
       "      <th></th>\n",
       "      <th>Unnamed: 0</th>\n",
       "      <th>Year</th>\n",
       "      <th>Medal_total</th>\n",
       "      <th>Medal_usa</th>\n",
       "      <th>Porcentaje</th>\n",
       "    </tr>\n",
       "  </thead>\n",
       "  <tbody>\n",
       "    <tr>\n",
       "      <th>0</th>\n",
       "      <td>0</td>\n",
       "      <td>1896</td>\n",
       "      <td>143</td>\n",
       "      <td>20</td>\n",
       "      <td>13.986014</td>\n",
       "    </tr>\n",
       "    <tr>\n",
       "      <th>1</th>\n",
       "      <td>1</td>\n",
       "      <td>1900</td>\n",
       "      <td>604</td>\n",
       "      <td>63</td>\n",
       "      <td>10.430464</td>\n",
       "    </tr>\n",
       "    <tr>\n",
       "      <th>2</th>\n",
       "      <td>2</td>\n",
       "      <td>1904</td>\n",
       "      <td>486</td>\n",
       "      <td>394</td>\n",
       "      <td>81.069959</td>\n",
       "    </tr>\n",
       "    <tr>\n",
       "      <th>3</th>\n",
       "      <td>3</td>\n",
       "      <td>1906</td>\n",
       "      <td>458</td>\n",
       "      <td>24</td>\n",
       "      <td>5.240175</td>\n",
       "    </tr>\n",
       "    <tr>\n",
       "      <th>4</th>\n",
       "      <td>4</td>\n",
       "      <td>1908</td>\n",
       "      <td>831</td>\n",
       "      <td>65</td>\n",
       "      <td>7.821901</td>\n",
       "    </tr>\n",
       "    <tr>\n",
       "      <th>5</th>\n",
       "      <td>5</td>\n",
       "      <td>1912</td>\n",
       "      <td>941</td>\n",
       "      <td>107</td>\n",
       "      <td>11.370882</td>\n",
       "    </tr>\n",
       "    <tr>\n",
       "      <th>6</th>\n",
       "      <td>6</td>\n",
       "      <td>1920</td>\n",
       "      <td>1308</td>\n",
       "      <td>194</td>\n",
       "      <td>14.831804</td>\n",
       "    </tr>\n",
       "    <tr>\n",
       "      <th>7</th>\n",
       "      <td>7</td>\n",
       "      <td>1924</td>\n",
       "      <td>832</td>\n",
       "      <td>182</td>\n",
       "      <td>21.875000</td>\n",
       "    </tr>\n",
       "    <tr>\n",
       "      <th>8</th>\n",
       "      <td>8</td>\n",
       "      <td>1928</td>\n",
       "      <td>734</td>\n",
       "      <td>88</td>\n",
       "      <td>11.989101</td>\n",
       "    </tr>\n",
       "    <tr>\n",
       "      <th>9</th>\n",
       "      <td>9</td>\n",
       "      <td>1932</td>\n",
       "      <td>647</td>\n",
       "      <td>189</td>\n",
       "      <td>29.211747</td>\n",
       "    </tr>\n",
       "    <tr>\n",
       "      <th>10</th>\n",
       "      <td>10</td>\n",
       "      <td>1936</td>\n",
       "      <td>917</td>\n",
       "      <td>96</td>\n",
       "      <td>10.468920</td>\n",
       "    </tr>\n",
       "    <tr>\n",
       "      <th>11</th>\n",
       "      <td>11</td>\n",
       "      <td>1948</td>\n",
       "      <td>852</td>\n",
       "      <td>152</td>\n",
       "      <td>17.840376</td>\n",
       "    </tr>\n",
       "    <tr>\n",
       "      <th>12</th>\n",
       "      <td>12</td>\n",
       "      <td>1952</td>\n",
       "      <td>897</td>\n",
       "      <td>134</td>\n",
       "      <td>14.938685</td>\n",
       "    </tr>\n",
       "    <tr>\n",
       "      <th>13</th>\n",
       "      <td>13</td>\n",
       "      <td>1956</td>\n",
       "      <td>893</td>\n",
       "      <td>123</td>\n",
       "      <td>13.773796</td>\n",
       "    </tr>\n",
       "    <tr>\n",
       "      <th>14</th>\n",
       "      <td>14</td>\n",
       "      <td>1960</td>\n",
       "      <td>911</td>\n",
       "      <td>125</td>\n",
       "      <td>13.721186</td>\n",
       "    </tr>\n",
       "    <tr>\n",
       "      <th>15</th>\n",
       "      <td>15</td>\n",
       "      <td>1964</td>\n",
       "      <td>1029</td>\n",
       "      <td>169</td>\n",
       "      <td>16.423712</td>\n",
       "    </tr>\n",
       "    <tr>\n",
       "      <th>16</th>\n",
       "      <td>16</td>\n",
       "      <td>1968</td>\n",
       "      <td>1057</td>\n",
       "      <td>166</td>\n",
       "      <td>15.704825</td>\n",
       "    </tr>\n",
       "    <tr>\n",
       "      <th>17</th>\n",
       "      <td>17</td>\n",
       "      <td>1972</td>\n",
       "      <td>1215</td>\n",
       "      <td>171</td>\n",
       "      <td>14.074074</td>\n",
       "    </tr>\n",
       "    <tr>\n",
       "      <th>18</th>\n",
       "      <td>18</td>\n",
       "      <td>1976</td>\n",
       "      <td>1320</td>\n",
       "      <td>164</td>\n",
       "      <td>12.424242</td>\n",
       "    </tr>\n",
       "    <tr>\n",
       "      <th>19</th>\n",
       "      <td>19</td>\n",
       "      <td>1984</td>\n",
       "      <td>1476</td>\n",
       "      <td>352</td>\n",
       "      <td>23.848238</td>\n",
       "    </tr>\n",
       "    <tr>\n",
       "      <th>20</th>\n",
       "      <td>20</td>\n",
       "      <td>1988</td>\n",
       "      <td>1582</td>\n",
       "      <td>207</td>\n",
       "      <td>13.084703</td>\n",
       "    </tr>\n",
       "    <tr>\n",
       "      <th>21</th>\n",
       "      <td>21</td>\n",
       "      <td>1992</td>\n",
       "      <td>1712</td>\n",
       "      <td>224</td>\n",
       "      <td>13.084112</td>\n",
       "    </tr>\n",
       "    <tr>\n",
       "      <th>22</th>\n",
       "      <td>22</td>\n",
       "      <td>1996</td>\n",
       "      <td>1842</td>\n",
       "      <td>259</td>\n",
       "      <td>14.060803</td>\n",
       "    </tr>\n",
       "    <tr>\n",
       "      <th>23</th>\n",
       "      <td>23</td>\n",
       "      <td>2000</td>\n",
       "      <td>2004</td>\n",
       "      <td>242</td>\n",
       "      <td>12.075848</td>\n",
       "    </tr>\n",
       "    <tr>\n",
       "      <th>24</th>\n",
       "      <td>24</td>\n",
       "      <td>2004</td>\n",
       "      <td>2001</td>\n",
       "      <td>263</td>\n",
       "      <td>13.143428</td>\n",
       "    </tr>\n",
       "    <tr>\n",
       "      <th>25</th>\n",
       "      <td>25</td>\n",
       "      <td>2008</td>\n",
       "      <td>2048</td>\n",
       "      <td>317</td>\n",
       "      <td>15.478516</td>\n",
       "    </tr>\n",
       "    <tr>\n",
       "      <th>26</th>\n",
       "      <td>26</td>\n",
       "      <td>2012</td>\n",
       "      <td>1941</td>\n",
       "      <td>248</td>\n",
       "      <td>12.776919</td>\n",
       "    </tr>\n",
       "    <tr>\n",
       "      <th>27</th>\n",
       "      <td>27</td>\n",
       "      <td>2016</td>\n",
       "      <td>2023</td>\n",
       "      <td>264</td>\n",
       "      <td>13.049926</td>\n",
       "    </tr>\n",
       "    <tr>\n",
       "      <th>28</th>\n",
       "      <td>28</td>\n",
       "      <td>2021</td>\n",
       "      <td>2410</td>\n",
       "      <td>295</td>\n",
       "      <td>12.240664</td>\n",
       "    </tr>\n",
       "  </tbody>\n",
       "</table>\n",
       "</div>"
      ],
      "text/plain": [
       "    Unnamed: 0  Year  Medal_total  Medal_usa  Porcentaje\n",
       "0            0  1896          143         20   13.986014\n",
       "1            1  1900          604         63   10.430464\n",
       "2            2  1904          486        394   81.069959\n",
       "3            3  1906          458         24    5.240175\n",
       "4            4  1908          831         65    7.821901\n",
       "5            5  1912          941        107   11.370882\n",
       "6            6  1920         1308        194   14.831804\n",
       "7            7  1924          832        182   21.875000\n",
       "8            8  1928          734         88   11.989101\n",
       "9            9  1932          647        189   29.211747\n",
       "10          10  1936          917         96   10.468920\n",
       "11          11  1948          852        152   17.840376\n",
       "12          12  1952          897        134   14.938685\n",
       "13          13  1956          893        123   13.773796\n",
       "14          14  1960          911        125   13.721186\n",
       "15          15  1964         1029        169   16.423712\n",
       "16          16  1968         1057        166   15.704825\n",
       "17          17  1972         1215        171   14.074074\n",
       "18          18  1976         1320        164   12.424242\n",
       "19          19  1984         1476        352   23.848238\n",
       "20          20  1988         1582        207   13.084703\n",
       "21          21  1992         1712        224   13.084112\n",
       "22          22  1996         1842        259   14.060803\n",
       "23          23  2000         2004        242   12.075848\n",
       "24          24  2004         2001        263   13.143428\n",
       "25          25  2008         2048        317   15.478516\n",
       "26          26  2012         1941        248   12.776919\n",
       "27          27  2016         2023        264   13.049926\n",
       "28          28  2021         2410        295   12.240664"
      ]
     },
     "execution_count": 22,
     "metadata": {},
     "output_type": "execute_result"
    }
   ],
   "source": [
    "porcentaje_EEUU"
   ]
  },
  {
   "cell_type": "code",
   "execution_count": 25,
   "metadata": {},
   "outputs": [
    {
     "data": {
      "image/png": "[encoded data removed]",
      "text/plain": [
       "<Figure size 640x480 with 1 Axes>"
      ]
     },
     "metadata": {},
     "output_type": "display_data"
    }
   ],
   "source": [
    "sns.set_style(\"whitegrid\")\n",
    "sns.lineplot(x=\"Year\", y=\"Porcentaje\", data=porcentaje_EEUU,color=\"green\",linewidth=6)\n",
    "\n",
    "\n",
    "# Configuramos las etiquetas de los ejes y el título del gráfico\n",
    "plt.xlabel(\"Year\")\n",
    "plt.ylabel(\"% Medals\")\n",
    "plt.title(\"Medal Percentages for USA\")\n",
    "\n",
    "sns.set_style(\"whitegrid\")\n",
    "plt.savefig(\"Medals_USA\", transparent=True)\n",
    "\n",
    "# Mostramos el gráfico\n",
    "plt.show()"
   ]
  },
  {
   "cell_type": "code",
   "execution_count": 58,
   "metadata": {},
   "outputs": [
    {
     "data": {
      "text/html": [
       "<div>\n",
       "<style scoped>\n",
       "    .dataframe tbody tr th:only-of-type {\n",
       "        vertical-align: middle;\n",
       "    }\n",
       "\n",
       "    .dataframe tbody tr th {\n",
       "        vertical-align: top;\n",
       "    }\n",
       "\n",
       "    .dataframe thead th {\n",
       "        text-align: right;\n",
       "    }\n",
       "</style>\n",
       "<table border=\"1\" class=\"dataframe\">\n",
       "  <thead>\n",
       "    <tr style=\"text-align: right;\">\n",
       "      <th></th>\n",
       "      <th>NOC</th>\n",
       "      <th>Year</th>\n",
       "      <th>City</th>\n",
       "      <th>Columna2</th>\n",
       "      <th>Sport</th>\n",
       "    </tr>\n",
       "  </thead>\n",
       "  <tbody>\n",
       "    <tr>\n",
       "      <th>0</th>\n",
       "      <td>GRE</td>\n",
       "      <td>1896</td>\n",
       "      <td>Athina</td>\n",
       "      <td>GRE_Swimming</td>\n",
       "      <td>Swimming</td>\n",
       "    </tr>\n",
       "    <tr>\n",
       "      <th>1</th>\n",
       "      <td>GRE</td>\n",
       "      <td>1896</td>\n",
       "      <td>Athina</td>\n",
       "      <td>GRE_Gymnastics</td>\n",
       "      <td>Gymnastics</td>\n",
       "    </tr>\n",
       "    <tr>\n",
       "      <th>2</th>\n",
       "      <td>GBR</td>\n",
       "      <td>1896</td>\n",
       "      <td>Athina</td>\n",
       "      <td>GBR_Cycling</td>\n",
       "      <td>Cycling</td>\n",
       "    </tr>\n",
       "    <tr>\n",
       "      <th>3</th>\n",
       "      <td>USA</td>\n",
       "      <td>1896</td>\n",
       "      <td>Athina</td>\n",
       "      <td>USA_Athletics</td>\n",
       "      <td>Athletics</td>\n",
       "    </tr>\n",
       "    <tr>\n",
       "      <th>4</th>\n",
       "      <td>GER</td>\n",
       "      <td>1896</td>\n",
       "      <td>Athina</td>\n",
       "      <td>GER_Gymnastics</td>\n",
       "      <td>Gymnastics</td>\n",
       "    </tr>\n",
       "    <tr>\n",
       "      <th>...</th>\n",
       "      <td>...</td>\n",
       "      <td>...</td>\n",
       "      <td>...</td>\n",
       "      <td>...</td>\n",
       "      <td>...</td>\n",
       "    </tr>\n",
       "    <tr>\n",
       "      <th>1303</th>\n",
       "      <td>CHN</td>\n",
       "      <td>2021</td>\n",
       "      <td>Tokyo</td>\n",
       "      <td>CHN_3x3 Basketball</td>\n",
       "      <td>3x3 Basketball</td>\n",
       "    </tr>\n",
       "    <tr>\n",
       "      <th>1304</th>\n",
       "      <td>TPE</td>\n",
       "      <td>2021</td>\n",
       "      <td>Tokyo</td>\n",
       "      <td>TPE_Karate</td>\n",
       "      <td>Karate</td>\n",
       "    </tr>\n",
       "    <tr>\n",
       "      <th>1305</th>\n",
       "      <td>AUS</td>\n",
       "      <td>2021</td>\n",
       "      <td>Tokyo</td>\n",
       "      <td>AUS_Surfing</td>\n",
       "      <td>Surfing</td>\n",
       "    </tr>\n",
       "    <tr>\n",
       "      <th>1306</th>\n",
       "      <td>TPE</td>\n",
       "      <td>2021</td>\n",
       "      <td>Tokyo</td>\n",
       "      <td>TPE_Judo</td>\n",
       "      <td>Judo</td>\n",
       "    </tr>\n",
       "    <tr>\n",
       "      <th>1307</th>\n",
       "      <td>BUR</td>\n",
       "      <td>2021</td>\n",
       "      <td>Tokyo</td>\n",
       "      <td>BUR_Athletics</td>\n",
       "      <td>Athletics</td>\n",
       "    </tr>\n",
       "  </tbody>\n",
       "</table>\n",
       "<p>1308 rows × 5 columns</p>\n",
       "</div>"
      ],
      "text/plain": [
       "      NOC  Year    City            Columna2           Sport\n",
       "0     GRE  1896  Athina        GRE_Swimming        Swimming\n",
       "1     GRE  1896  Athina      GRE_Gymnastics      Gymnastics\n",
       "2     GBR  1896  Athina         GBR_Cycling         Cycling\n",
       "3     USA  1896  Athina       USA_Athletics       Athletics\n",
       "4     GER  1896  Athina      GER_Gymnastics      Gymnastics\n",
       "...   ...   ...     ...                 ...             ...\n",
       "1303  CHN  2021   Tokyo  CHN_3x3 Basketball  3x3 Basketball\n",
       "1304  TPE  2021   Tokyo          TPE_Karate          Karate\n",
       "1305  AUS  2021   Tokyo         AUS_Surfing         Surfing\n",
       "1306  TPE  2021   Tokyo            TPE_Judo            Judo\n",
       "1307  BUR  2021   Tokyo       BUR_Athletics       Athletics\n",
       "\n",
       "[1308 rows x 5 columns]"
      ]
     },
     "execution_count": 58,
     "metadata": {},
     "output_type": "execute_result"
    }
   ],
   "source": [
    "acumulado_por_anio"
   ]
  },
  {
   "cell_type": "code",
   "execution_count": 57,
   "metadata": {},
   "outputs": [
    {
     "data": {
      "text/html": [
       "<div>\n",
       "<style scoped>\n",
       "    .dataframe tbody tr th:only-of-type {\n",
       "        vertical-align: middle;\n",
       "    }\n",
       "\n",
       "    .dataframe tbody tr th {\n",
       "        vertical-align: top;\n",
       "    }\n",
       "\n",
       "    .dataframe thead th {\n",
       "        text-align: right;\n",
       "    }\n",
       "</style>\n",
       "<table border=\"1\" class=\"dataframe\">\n",
       "  <thead>\n",
       "    <tr style=\"text-align: right;\">\n",
       "      <th></th>\n",
       "      <th>NOC</th>\n",
       "      <th>Year</th>\n",
       "      <th>City</th>\n",
       "      <th>Columna2</th>\n",
       "    </tr>\n",
       "    <tr>\n",
       "      <th>Sport</th>\n",
       "      <th></th>\n",
       "      <th></th>\n",
       "      <th></th>\n",
       "      <th></th>\n",
       "    </tr>\n",
       "  </thead>\n",
       "  <tbody>\n",
       "    <tr>\n",
       "      <th>3x3 Basketball</th>\n",
       "      <td>5</td>\n",
       "      <td>5</td>\n",
       "      <td>5</td>\n",
       "      <td>5</td>\n",
       "    </tr>\n",
       "    <tr>\n",
       "      <th>Aeronautics</th>\n",
       "      <td>1</td>\n",
       "      <td>1</td>\n",
       "      <td>1</td>\n",
       "      <td>1</td>\n",
       "    </tr>\n",
       "    <tr>\n",
       "      <th>Alpinism</th>\n",
       "      <td>2</td>\n",
       "      <td>2</td>\n",
       "      <td>2</td>\n",
       "      <td>2</td>\n",
       "    </tr>\n",
       "    <tr>\n",
       "      <th>Archery</th>\n",
       "      <td>24</td>\n",
       "      <td>24</td>\n",
       "      <td>24</td>\n",
       "      <td>24</td>\n",
       "    </tr>\n",
       "    <tr>\n",
       "      <th>Art Competitions</th>\n",
       "      <td>23</td>\n",
       "      <td>23</td>\n",
       "      <td>23</td>\n",
       "      <td>23</td>\n",
       "    </tr>\n",
       "    <tr>\n",
       "      <th>Athletics</th>\n",
       "      <td>101</td>\n",
       "      <td>101</td>\n",
       "      <td>101</td>\n",
       "      <td>101</td>\n",
       "    </tr>\n",
       "    <tr>\n",
       "      <th>Badminton</th>\n",
       "      <td>12</td>\n",
       "      <td>12</td>\n",
       "      <td>12</td>\n",
       "      <td>12</td>\n",
       "    </tr>\n",
       "    <tr>\n",
       "      <th>Baseball</th>\n",
       "      <td>7</td>\n",
       "      <td>7</td>\n",
       "      <td>7</td>\n",
       "      <td>7</td>\n",
       "    </tr>\n",
       "    <tr>\n",
       "      <th>Basketball</th>\n",
       "      <td>23</td>\n",
       "      <td>23</td>\n",
       "      <td>23</td>\n",
       "      <td>23</td>\n",
       "    </tr>\n",
       "    <tr>\n",
       "      <th>Basque Pelota</th>\n",
       "      <td>1</td>\n",
       "      <td>1</td>\n",
       "      <td>1</td>\n",
       "      <td>1</td>\n",
       "    </tr>\n",
       "    <tr>\n",
       "      <th>Beach Volleyball</th>\n",
       "      <td>14</td>\n",
       "      <td>14</td>\n",
       "      <td>14</td>\n",
       "      <td>14</td>\n",
       "    </tr>\n",
       "    <tr>\n",
       "      <th>Boxing</th>\n",
       "      <td>81</td>\n",
       "      <td>81</td>\n",
       "      <td>81</td>\n",
       "      <td>81</td>\n",
       "    </tr>\n",
       "    <tr>\n",
       "      <th>Canoeing</th>\n",
       "      <td>45</td>\n",
       "      <td>45</td>\n",
       "      <td>45</td>\n",
       "      <td>45</td>\n",
       "    </tr>\n",
       "    <tr>\n",
       "      <th>Cricket</th>\n",
       "      <td>2</td>\n",
       "      <td>2</td>\n",
       "      <td>2</td>\n",
       "      <td>2</td>\n",
       "    </tr>\n",
       "    <tr>\n",
       "      <th>Croquet</th>\n",
       "      <td>1</td>\n",
       "      <td>1</td>\n",
       "      <td>1</td>\n",
       "      <td>1</td>\n",
       "    </tr>\n",
       "    <tr>\n",
       "      <th>Cycling</th>\n",
       "      <td>46</td>\n",
       "      <td>46</td>\n",
       "      <td>46</td>\n",
       "      <td>46</td>\n",
       "    </tr>\n",
       "    <tr>\n",
       "      <th>Diving</th>\n",
       "      <td>22</td>\n",
       "      <td>22</td>\n",
       "      <td>22</td>\n",
       "      <td>22</td>\n",
       "    </tr>\n",
       "    <tr>\n",
       "      <th>Equestrianism</th>\n",
       "      <td>31</td>\n",
       "      <td>31</td>\n",
       "      <td>31</td>\n",
       "      <td>31</td>\n",
       "    </tr>\n",
       "    <tr>\n",
       "      <th>Fencing</th>\n",
       "      <td>38</td>\n",
       "      <td>38</td>\n",
       "      <td>38</td>\n",
       "      <td>38</td>\n",
       "    </tr>\n",
       "    <tr>\n",
       "      <th>Figure Skating</th>\n",
       "      <td>7</td>\n",
       "      <td>7</td>\n",
       "      <td>7</td>\n",
       "      <td>7</td>\n",
       "    </tr>\n",
       "    <tr>\n",
       "      <th>Football</th>\n",
       "      <td>35</td>\n",
       "      <td>35</td>\n",
       "      <td>35</td>\n",
       "      <td>35</td>\n",
       "    </tr>\n",
       "    <tr>\n",
       "      <th>Golf</th>\n",
       "      <td>10</td>\n",
       "      <td>10</td>\n",
       "      <td>10</td>\n",
       "      <td>10</td>\n",
       "    </tr>\n",
       "    <tr>\n",
       "      <th>Gymnastics</th>\n",
       "      <td>43</td>\n",
       "      <td>43</td>\n",
       "      <td>43</td>\n",
       "      <td>43</td>\n",
       "    </tr>\n",
       "    <tr>\n",
       "      <th>Handball</th>\n",
       "      <td>25</td>\n",
       "      <td>25</td>\n",
       "      <td>25</td>\n",
       "      <td>25</td>\n",
       "    </tr>\n",
       "    <tr>\n",
       "      <th>Hockey</th>\n",
       "      <td>19</td>\n",
       "      <td>19</td>\n",
       "      <td>19</td>\n",
       "      <td>19</td>\n",
       "    </tr>\n",
       "    <tr>\n",
       "      <th>Ice Hockey</th>\n",
       "      <td>3</td>\n",
       "      <td>3</td>\n",
       "      <td>3</td>\n",
       "      <td>3</td>\n",
       "    </tr>\n",
       "    <tr>\n",
       "      <th>Jeu De Paume</th>\n",
       "      <td>2</td>\n",
       "      <td>2</td>\n",
       "      <td>2</td>\n",
       "      <td>2</td>\n",
       "    </tr>\n",
       "    <tr>\n",
       "      <th>Judo</th>\n",
       "      <td>56</td>\n",
       "      <td>56</td>\n",
       "      <td>56</td>\n",
       "      <td>56</td>\n",
       "    </tr>\n",
       "    <tr>\n",
       "      <th>Karate</th>\n",
       "      <td>20</td>\n",
       "      <td>20</td>\n",
       "      <td>20</td>\n",
       "      <td>20</td>\n",
       "    </tr>\n",
       "    <tr>\n",
       "      <th>Lacrosse</th>\n",
       "      <td>3</td>\n",
       "      <td>3</td>\n",
       "      <td>3</td>\n",
       "      <td>3</td>\n",
       "    </tr>\n",
       "    <tr>\n",
       "      <th>Modern Pentathlon</th>\n",
       "      <td>25</td>\n",
       "      <td>25</td>\n",
       "      <td>25</td>\n",
       "      <td>25</td>\n",
       "    </tr>\n",
       "    <tr>\n",
       "      <th>Motorboating</th>\n",
       "      <td>2</td>\n",
       "      <td>2</td>\n",
       "      <td>2</td>\n",
       "      <td>2</td>\n",
       "    </tr>\n",
       "    <tr>\n",
       "      <th>Polo</th>\n",
       "      <td>6</td>\n",
       "      <td>6</td>\n",
       "      <td>6</td>\n",
       "      <td>6</td>\n",
       "    </tr>\n",
       "    <tr>\n",
       "      <th>Racquets</th>\n",
       "      <td>1</td>\n",
       "      <td>1</td>\n",
       "      <td>1</td>\n",
       "      <td>1</td>\n",
       "    </tr>\n",
       "    <tr>\n",
       "      <th>Rhythmic Gymnastics</th>\n",
       "      <td>15</td>\n",
       "      <td>15</td>\n",
       "      <td>15</td>\n",
       "      <td>15</td>\n",
       "    </tr>\n",
       "    <tr>\n",
       "      <th>Roque</th>\n",
       "      <td>1</td>\n",
       "      <td>1</td>\n",
       "      <td>1</td>\n",
       "      <td>1</td>\n",
       "    </tr>\n",
       "    <tr>\n",
       "      <th>Rowing</th>\n",
       "      <td>42</td>\n",
       "      <td>42</td>\n",
       "      <td>42</td>\n",
       "      <td>42</td>\n",
       "    </tr>\n",
       "    <tr>\n",
       "      <th>Rugby</th>\n",
       "      <td>7</td>\n",
       "      <td>7</td>\n",
       "      <td>7</td>\n",
       "      <td>7</td>\n",
       "    </tr>\n",
       "    <tr>\n",
       "      <th>Rugby Sevens</th>\n",
       "      <td>8</td>\n",
       "      <td>8</td>\n",
       "      <td>8</td>\n",
       "      <td>8</td>\n",
       "    </tr>\n",
       "    <tr>\n",
       "      <th>Sailing</th>\n",
       "      <td>43</td>\n",
       "      <td>43</td>\n",
       "      <td>43</td>\n",
       "      <td>43</td>\n",
       "    </tr>\n",
       "    <tr>\n",
       "      <th>Shooting</th>\n",
       "      <td>68</td>\n",
       "      <td>68</td>\n",
       "      <td>68</td>\n",
       "      <td>68</td>\n",
       "    </tr>\n",
       "    <tr>\n",
       "      <th>Skateboarding</th>\n",
       "      <td>5</td>\n",
       "      <td>5</td>\n",
       "      <td>5</td>\n",
       "      <td>5</td>\n",
       "    </tr>\n",
       "    <tr>\n",
       "      <th>Softball</th>\n",
       "      <td>5</td>\n",
       "      <td>5</td>\n",
       "      <td>5</td>\n",
       "      <td>5</td>\n",
       "    </tr>\n",
       "    <tr>\n",
       "      <th>Sport Climbing</th>\n",
       "      <td>5</td>\n",
       "      <td>5</td>\n",
       "      <td>5</td>\n",
       "      <td>5</td>\n",
       "    </tr>\n",
       "    <tr>\n",
       "      <th>Surfing</th>\n",
       "      <td>5</td>\n",
       "      <td>5</td>\n",
       "      <td>5</td>\n",
       "      <td>5</td>\n",
       "    </tr>\n",
       "    <tr>\n",
       "      <th>Swimming</th>\n",
       "      <td>56</td>\n",
       "      <td>56</td>\n",
       "      <td>56</td>\n",
       "      <td>56</td>\n",
       "    </tr>\n",
       "    <tr>\n",
       "      <th>Synchronized Swimming</th>\n",
       "      <td>7</td>\n",
       "      <td>7</td>\n",
       "      <td>7</td>\n",
       "      <td>7</td>\n",
       "    </tr>\n",
       "    <tr>\n",
       "      <th>Table Tennis</th>\n",
       "      <td>12</td>\n",
       "      <td>12</td>\n",
       "      <td>12</td>\n",
       "      <td>12</td>\n",
       "    </tr>\n",
       "    <tr>\n",
       "      <th>Taekwondo</th>\n",
       "      <td>42</td>\n",
       "      <td>42</td>\n",
       "      <td>42</td>\n",
       "      <td>42</td>\n",
       "    </tr>\n",
       "    <tr>\n",
       "      <th>Tennis</th>\n",
       "      <td>40</td>\n",
       "      <td>40</td>\n",
       "      <td>40</td>\n",
       "      <td>40</td>\n",
       "    </tr>\n",
       "    <tr>\n",
       "      <th>Trampolining</th>\n",
       "      <td>9</td>\n",
       "      <td>9</td>\n",
       "      <td>9</td>\n",
       "      <td>9</td>\n",
       "    </tr>\n",
       "    <tr>\n",
       "      <th>Triathlon</th>\n",
       "      <td>16</td>\n",
       "      <td>16</td>\n",
       "      <td>16</td>\n",
       "      <td>16</td>\n",
       "    </tr>\n",
       "    <tr>\n",
       "      <th>Tug-Of-War</th>\n",
       "      <td>10</td>\n",
       "      <td>10</td>\n",
       "      <td>10</td>\n",
       "      <td>10</td>\n",
       "    </tr>\n",
       "    <tr>\n",
       "      <th>Volleyball</th>\n",
       "      <td>23</td>\n",
       "      <td>23</td>\n",
       "      <td>23</td>\n",
       "      <td>23</td>\n",
       "    </tr>\n",
       "    <tr>\n",
       "      <th>Water Polo</th>\n",
       "      <td>21</td>\n",
       "      <td>21</td>\n",
       "      <td>21</td>\n",
       "      <td>21</td>\n",
       "    </tr>\n",
       "    <tr>\n",
       "      <th>Weightlifting</th>\n",
       "      <td>68</td>\n",
       "      <td>68</td>\n",
       "      <td>68</td>\n",
       "      <td>68</td>\n",
       "    </tr>\n",
       "    <tr>\n",
       "      <th>Wrestling</th>\n",
       "      <td>64</td>\n",
       "      <td>64</td>\n",
       "      <td>64</td>\n",
       "      <td>64</td>\n",
       "    </tr>\n",
       "  </tbody>\n",
       "</table>\n",
       "</div>"
      ],
      "text/plain": [
       "                       NOC  Year  City  Columna2\n",
       "Sport                                           \n",
       "3x3 Basketball           5     5     5         5\n",
       "Aeronautics              1     1     1         1\n",
       "Alpinism                 2     2     2         2\n",
       "Archery                 24    24    24        24\n",
       "Art Competitions        23    23    23        23\n",
       "Athletics              101   101   101       101\n",
       "Badminton               12    12    12        12\n",
       "Baseball                 7     7     7         7\n",
       "Basketball              23    23    23        23\n",
       "Basque Pelota            1     1     1         1\n",
       "Beach Volleyball        14    14    14        14\n",
       "Boxing                  81    81    81        81\n",
       "Canoeing                45    45    45        45\n",
       "Cricket                  2     2     2         2\n",
       "Croquet                  1     1     1         1\n",
       "Cycling                 46    46    46        46\n",
       "Diving                  22    22    22        22\n",
       "Equestrianism           31    31    31        31\n",
       "Fencing                 38    38    38        38\n",
       "Figure Skating           7     7     7         7\n",
       "Football                35    35    35        35\n",
       "Golf                    10    10    10        10\n",
       "Gymnastics              43    43    43        43\n",
       "Handball                25    25    25        25\n",
       "Hockey                  19    19    19        19\n",
       "Ice Hockey               3     3     3         3\n",
       "Jeu De Paume             2     2     2         2\n",
       "Judo                    56    56    56        56\n",
       "Karate                  20    20    20        20\n",
       "Lacrosse                 3     3     3         3\n",
       "Modern Pentathlon       25    25    25        25\n",
       "Motorboating             2     2     2         2\n",
       "Polo                     6     6     6         6\n",
       "Racquets                 1     1     1         1\n",
       "Rhythmic Gymnastics     15    15    15        15\n",
       "Roque                    1     1     1         1\n",
       "Rowing                  42    42    42        42\n",
       "Rugby                    7     7     7         7\n",
       "Rugby Sevens             8     8     8         8\n",
       "Sailing                 43    43    43        43\n",
       "Shooting                68    68    68        68\n",
       "Skateboarding            5     5     5         5\n",
       "Softball                 5     5     5         5\n",
       "Sport Climbing           5     5     5         5\n",
       "Surfing                  5     5     5         5\n",
       "Swimming                56    56    56        56\n",
       "Synchronized Swimming    7     7     7         7\n",
       "Table Tennis            12    12    12        12\n",
       "Taekwondo               42    42    42        42\n",
       "Tennis                  40    40    40        40\n",
       "Trampolining             9     9     9         9\n",
       "Triathlon               16    16    16        16\n",
       "Tug-Of-War              10    10    10        10\n",
       "Volleyball              23    23    23        23\n",
       "Water Polo              21    21    21        21\n",
       "Weightlifting           68    68    68        68\n",
       "Wrestling               64    64    64        64"
      ]
     },
     "execution_count": 57,
     "metadata": {},
     "output_type": "execute_result"
    }
   ],
   "source": [
    "acumulado_por_anio.groupby(\"Sport\").count()"
   ]
  },
  {
   "cell_type": "code",
   "execution_count": 61,
   "metadata": {},
   "outputs": [],
   "source": [
    "medallas_repartidas_por_deporte=medallistas.groupby(\"Sport\").count()"
   ]
  },
  {
   "cell_type": "code",
   "execution_count": 67,
   "metadata": {},
   "outputs": [],
   "source": [
    "medallas_repartidas_por_deporte=medallas_repartidas_por_deporte.sort_values(by=\"Medal\",ascending=False)"
   ]
  },
  {
   "cell_type": "code",
   "execution_count": 81,
   "metadata": {},
   "outputs": [],
   "source": [
    "medallas_repartidas_por_deporte_2=medallas_repartidas_por_deporte.nlargest(columns=\"Medal\",n=20)"
   ]
  },
  {
   "cell_type": "code",
   "execution_count": 82,
   "metadata": {},
   "outputs": [
    {
     "data": {
      "text/html": [
       "<div>\n",
       "<style scoped>\n",
       "    .dataframe tbody tr th:only-of-type {\n",
       "        vertical-align: middle;\n",
       "    }\n",
       "\n",
       "    .dataframe tbody tr th {\n",
       "        vertical-align: top;\n",
       "    }\n",
       "\n",
       "    .dataframe thead th {\n",
       "        text-align: right;\n",
       "    }\n",
       "</style>\n",
       "<table border=\"1\" class=\"dataframe\">\n",
       "  <thead>\n",
       "    <tr style=\"text-align: right;\">\n",
       "      <th></th>\n",
       "      <th>Name</th>\n",
       "      <th>Sex</th>\n",
       "      <th>Age</th>\n",
       "      <th>Height</th>\n",
       "      <th>Weight</th>\n",
       "      <th>Team</th>\n",
       "      <th>NOC</th>\n",
       "      <th>Year</th>\n",
       "      <th>City</th>\n",
       "      <th>Event</th>\n",
       "      <th>Medal</th>\n",
       "    </tr>\n",
       "    <tr>\n",
       "      <th>Sport</th>\n",
       "      <th></th>\n",
       "      <th></th>\n",
       "      <th></th>\n",
       "      <th></th>\n",
       "      <th></th>\n",
       "      <th></th>\n",
       "      <th></th>\n",
       "      <th></th>\n",
       "      <th></th>\n",
       "      <th></th>\n",
       "      <th></th>\n",
       "    </tr>\n",
       "  </thead>\n",
       "  <tbody>\n",
       "    <tr>\n",
       "      <th>Athletics</th>\n",
       "      <td>4181</td>\n",
       "      <td>4181</td>\n",
       "      <td>4157</td>\n",
       "      <td>3681</td>\n",
       "      <td>3654</td>\n",
       "      <td>4181</td>\n",
       "      <td>4181</td>\n",
       "      <td>4181</td>\n",
       "      <td>4181</td>\n",
       "      <td>4181</td>\n",
       "      <td>4181</td>\n",
       "    </tr>\n",
       "    <tr>\n",
       "      <th>Swimming</th>\n",
       "      <td>3292</td>\n",
       "      <td>3292</td>\n",
       "      <td>3271</td>\n",
       "      <td>2579</td>\n",
       "      <td>2488</td>\n",
       "      <td>3292</td>\n",
       "      <td>3292</td>\n",
       "      <td>3292</td>\n",
       "      <td>3292</td>\n",
       "      <td>3292</td>\n",
       "      <td>3292</td>\n",
       "    </tr>\n",
       "    <tr>\n",
       "      <th>Rowing</th>\n",
       "      <td>3089</td>\n",
       "      <td>3089</td>\n",
       "      <td>2972</td>\n",
       "      <td>2251</td>\n",
       "      <td>2189</td>\n",
       "      <td>3089</td>\n",
       "      <td>3089</td>\n",
       "      <td>3089</td>\n",
       "      <td>3089</td>\n",
       "      <td>3089</td>\n",
       "      <td>3089</td>\n",
       "    </tr>\n",
       "    <tr>\n",
       "      <th>Gymnastics</th>\n",
       "      <td>2323</td>\n",
       "      <td>2323</td>\n",
       "      <td>2252</td>\n",
       "      <td>1266</td>\n",
       "      <td>1164</td>\n",
       "      <td>2323</td>\n",
       "      <td>2323</td>\n",
       "      <td>2323</td>\n",
       "      <td>2323</td>\n",
       "      <td>2323</td>\n",
       "      <td>2323</td>\n",
       "    </tr>\n",
       "    <tr>\n",
       "      <th>Fencing</th>\n",
       "      <td>1832</td>\n",
       "      <td>1832</td>\n",
       "      <td>1808</td>\n",
       "      <td>1221</td>\n",
       "      <td>1109</td>\n",
       "      <td>1832</td>\n",
       "      <td>1832</td>\n",
       "      <td>1832</td>\n",
       "      <td>1832</td>\n",
       "      <td>1832</td>\n",
       "      <td>1832</td>\n",
       "    </tr>\n",
       "    <tr>\n",
       "      <th>Football</th>\n",
       "      <td>1703</td>\n",
       "      <td>1703</td>\n",
       "      <td>1663</td>\n",
       "      <td>1229</td>\n",
       "      <td>1085</td>\n",
       "      <td>1703</td>\n",
       "      <td>1703</td>\n",
       "      <td>1703</td>\n",
       "      <td>1703</td>\n",
       "      <td>1703</td>\n",
       "      <td>1703</td>\n",
       "    </tr>\n",
       "    <tr>\n",
       "      <th>Hockey</th>\n",
       "      <td>1632</td>\n",
       "      <td>1632</td>\n",
       "      <td>1594</td>\n",
       "      <td>1220</td>\n",
       "      <td>1170</td>\n",
       "      <td>1632</td>\n",
       "      <td>1632</td>\n",
       "      <td>1632</td>\n",
       "      <td>1632</td>\n",
       "      <td>1632</td>\n",
       "      <td>1632</td>\n",
       "    </tr>\n",
       "    <tr>\n",
       "      <th>Wrestling</th>\n",
       "      <td>1368</td>\n",
       "      <td>1368</td>\n",
       "      <td>1337</td>\n",
       "      <td>1003</td>\n",
       "      <td>988</td>\n",
       "      <td>1368</td>\n",
       "      <td>1368</td>\n",
       "      <td>1368</td>\n",
       "      <td>1368</td>\n",
       "      <td>1368</td>\n",
       "      <td>1368</td>\n",
       "    </tr>\n",
       "    <tr>\n",
       "      <th>Cycling</th>\n",
       "      <td>1366</td>\n",
       "      <td>1366</td>\n",
       "      <td>1337</td>\n",
       "      <td>927</td>\n",
       "      <td>847</td>\n",
       "      <td>1366</td>\n",
       "      <td>1366</td>\n",
       "      <td>1366</td>\n",
       "      <td>1366</td>\n",
       "      <td>1366</td>\n",
       "      <td>1366</td>\n",
       "    </tr>\n",
       "    <tr>\n",
       "      <th>Shooting</th>\n",
       "      <td>1282</td>\n",
       "      <td>1282</td>\n",
       "      <td>1221</td>\n",
       "      <td>669</td>\n",
       "      <td>542</td>\n",
       "      <td>1282</td>\n",
       "      <td>1282</td>\n",
       "      <td>1282</td>\n",
       "      <td>1282</td>\n",
       "      <td>1282</td>\n",
       "      <td>1282</td>\n",
       "    </tr>\n",
       "    <tr>\n",
       "      <th>Sailing</th>\n",
       "      <td>1277</td>\n",
       "      <td>1277</td>\n",
       "      <td>1219</td>\n",
       "      <td>732</td>\n",
       "      <td>678</td>\n",
       "      <td>1277</td>\n",
       "      <td>1277</td>\n",
       "      <td>1277</td>\n",
       "      <td>1277</td>\n",
       "      <td>1277</td>\n",
       "      <td>1277</td>\n",
       "    </tr>\n",
       "    <tr>\n",
       "      <th>Canoeing</th>\n",
       "      <td>1246</td>\n",
       "      <td>1246</td>\n",
       "      <td>1246</td>\n",
       "      <td>1105</td>\n",
       "      <td>1041</td>\n",
       "      <td>1246</td>\n",
       "      <td>1246</td>\n",
       "      <td>1246</td>\n",
       "      <td>1246</td>\n",
       "      <td>1246</td>\n",
       "      <td>1246</td>\n",
       "    </tr>\n",
       "    <tr>\n",
       "      <th>Handball</th>\n",
       "      <td>1153</td>\n",
       "      <td>1153</td>\n",
       "      <td>1151</td>\n",
       "      <td>1041</td>\n",
       "      <td>937</td>\n",
       "      <td>1153</td>\n",
       "      <td>1153</td>\n",
       "      <td>1153</td>\n",
       "      <td>1153</td>\n",
       "      <td>1153</td>\n",
       "      <td>1153</td>\n",
       "    </tr>\n",
       "    <tr>\n",
       "      <th>Basketball</th>\n",
       "      <td>1152</td>\n",
       "      <td>1152</td>\n",
       "      <td>1150</td>\n",
       "      <td>1096</td>\n",
       "      <td>1000</td>\n",
       "      <td>1152</td>\n",
       "      <td>1152</td>\n",
       "      <td>1152</td>\n",
       "      <td>1152</td>\n",
       "      <td>1152</td>\n",
       "      <td>1152</td>\n",
       "    </tr>\n",
       "    <tr>\n",
       "      <th>Water Polo</th>\n",
       "      <td>1135</td>\n",
       "      <td>1135</td>\n",
       "      <td>1108</td>\n",
       "      <td>831</td>\n",
       "      <td>764</td>\n",
       "      <td>1135</td>\n",
       "      <td>1135</td>\n",
       "      <td>1135</td>\n",
       "      <td>1135</td>\n",
       "      <td>1135</td>\n",
       "      <td>1135</td>\n",
       "    </tr>\n",
       "    <tr>\n",
       "      <th>Volleyball</th>\n",
       "      <td>1041</td>\n",
       "      <td>1041</td>\n",
       "      <td>1040</td>\n",
       "      <td>1030</td>\n",
       "      <td>958</td>\n",
       "      <td>1041</td>\n",
       "      <td>1041</td>\n",
       "      <td>1041</td>\n",
       "      <td>1041</td>\n",
       "      <td>1041</td>\n",
       "      <td>1041</td>\n",
       "    </tr>\n",
       "    <tr>\n",
       "      <th>Equestrianism</th>\n",
       "      <td>1001</td>\n",
       "      <td>1001</td>\n",
       "      <td>990</td>\n",
       "      <td>670</td>\n",
       "      <td>663</td>\n",
       "      <td>1001</td>\n",
       "      <td>1001</td>\n",
       "      <td>1001</td>\n",
       "      <td>1001</td>\n",
       "      <td>1001</td>\n",
       "      <td>1001</td>\n",
       "    </tr>\n",
       "    <tr>\n",
       "      <th>Boxing</th>\n",
       "      <td>999</td>\n",
       "      <td>999</td>\n",
       "      <td>986</td>\n",
       "      <td>752</td>\n",
       "      <td>728</td>\n",
       "      <td>999</td>\n",
       "      <td>999</td>\n",
       "      <td>999</td>\n",
       "      <td>999</td>\n",
       "      <td>999</td>\n",
       "      <td>999</td>\n",
       "    </tr>\n",
       "    <tr>\n",
       "      <th>Weightlifting</th>\n",
       "      <td>688</td>\n",
       "      <td>688</td>\n",
       "      <td>678</td>\n",
       "      <td>552</td>\n",
       "      <td>617</td>\n",
       "      <td>688</td>\n",
       "      <td>688</td>\n",
       "      <td>688</td>\n",
       "      <td>688</td>\n",
       "      <td>688</td>\n",
       "      <td>688</td>\n",
       "    </tr>\n",
       "    <tr>\n",
       "      <th>Judo</th>\n",
       "      <td>649</td>\n",
       "      <td>649</td>\n",
       "      <td>649</td>\n",
       "      <td>529</td>\n",
       "      <td>528</td>\n",
       "      <td>649</td>\n",
       "      <td>649</td>\n",
       "      <td>649</td>\n",
       "      <td>649</td>\n",
       "      <td>649</td>\n",
       "      <td>649</td>\n",
       "    </tr>\n",
       "  </tbody>\n",
       "</table>\n",
       "</div>"
      ],
      "text/plain": [
       "               Name   Sex   Age  Height  Weight  Team   NOC  Year  City  \\\n",
       "Sport                                                                     \n",
       "Athletics      4181  4181  4157    3681    3654  4181  4181  4181  4181   \n",
       "Swimming       3292  3292  3271    2579    2488  3292  3292  3292  3292   \n",
       "Rowing         3089  3089  2972    2251    2189  3089  3089  3089  3089   \n",
       "Gymnastics     2323  2323  2252    1266    1164  2323  2323  2323  2323   \n",
       "Fencing        1832  1832  1808    1221    1109  1832  1832  1832  1832   \n",
       "Football       1703  1703  1663    1229    1085  1703  1703  1703  1703   \n",
       "Hockey         1632  1632  1594    1220    1170  1632  1632  1632  1632   \n",
       "Wrestling      1368  1368  1337    1003     988  1368  1368  1368  1368   \n",
       "Cycling        1366  1366  1337     927     847  1366  1366  1366  1366   \n",
       "Shooting       1282  1282  1221     669     542  1282  1282  1282  1282   \n",
       "Sailing        1277  1277  1219     732     678  1277  1277  1277  1277   \n",
       "Canoeing       1246  1246  1246    1105    1041  1246  1246  1246  1246   \n",
       "Handball       1153  1153  1151    1041     937  1153  1153  1153  1153   \n",
       "Basketball     1152  1152  1150    1096    1000  1152  1152  1152  1152   \n",
       "Water Polo     1135  1135  1108     831     764  1135  1135  1135  1135   \n",
       "Volleyball     1041  1041  1040    1030     958  1041  1041  1041  1041   \n",
       "Equestrianism  1001  1001   990     670     663  1001  1001  1001  1001   \n",
       "Boxing          999   999   986     752     728   999   999   999   999   \n",
       "Weightlifting   688   688   678     552     617   688   688   688   688   \n",
       "Judo            649   649   649     529     528   649   649   649   649   \n",
       "\n",
       "               Event  Medal  \n",
       "Sport                        \n",
       "Athletics       4181   4181  \n",
       "Swimming        3292   3292  \n",
       "Rowing          3089   3089  \n",
       "Gymnastics      2323   2323  \n",
       "Fencing         1832   1832  \n",
       "Football        1703   1703  \n",
       "Hockey          1632   1632  \n",
       "Wrestling       1368   1368  \n",
       "Cycling         1366   1366  \n",
       "Shooting        1282   1282  \n",
       "Sailing         1277   1277  \n",
       "Canoeing        1246   1246  \n",
       "Handball        1153   1153  \n",
       "Basketball      1152   1152  \n",
       "Water Polo      1135   1135  \n",
       "Volleyball      1041   1041  \n",
       "Equestrianism   1001   1001  \n",
       "Boxing           999    999  \n",
       "Weightlifting    688    688  \n",
       "Judo             649    649  "
      ]
     },
     "execution_count": 82,
     "metadata": {},
     "output_type": "execute_result"
    }
   ],
   "source": [
    "medallas_repartidas_por_deporte_2"
   ]
  },
  {
   "cell_type": "code",
   "execution_count": 83,
   "metadata": {},
   "outputs": [],
   "source": [
    "deportes_mas_medallistas=[]\n",
    "for i in medallas_repartidas_por_deporte_2.index:\n",
    "    deportes_mas_medallistas.append(i)"
   ]
  },
  {
   "cell_type": "code",
   "execution_count": 84,
   "metadata": {},
   "outputs": [
    {
     "data": {
      "text/plain": [
       "['Athletics',\n",
       " 'Swimming',\n",
       " 'Rowing',\n",
       " 'Gymnastics',\n",
       " 'Fencing',\n",
       " 'Football',\n",
       " 'Hockey',\n",
       " 'Wrestling',\n",
       " 'Cycling',\n",
       " 'Shooting',\n",
       " 'Sailing',\n",
       " 'Canoeing',\n",
       " 'Handball',\n",
       " 'Basketball',\n",
       " 'Water Polo',\n",
       " 'Volleyball',\n",
       " 'Equestrianism',\n",
       " 'Boxing',\n",
       " 'Weightlifting',\n",
       " 'Judo']"
      ]
     },
     "execution_count": 84,
     "metadata": {},
     "output_type": "execute_result"
    }
   ],
   "source": [
    "deportes_mas_medallistas"
   ]
  },
  {
   "cell_type": "code",
   "execution_count": 85,
   "metadata": {},
   "outputs": [],
   "source": [
    "acumulado_por_anio_10=acumulado_por_anio[acumulado_por_anio[\"Sport\"].isin(deportes_mas_medallistas)]"
   ]
  },
  {
   "cell_type": "code",
   "execution_count": 86,
   "metadata": {},
   "outputs": [
    {
     "data": {
      "text/plain": [
       "array(['Swimming', 'Gymnastics', 'Cycling', 'Athletics', 'Fencing',\n",
       "       'Shooting', 'Weightlifting', 'Wrestling', 'Rowing', 'Sailing',\n",
       "       'Football', 'Equestrianism', 'Water Polo', 'Boxing', 'Hockey',\n",
       "       'Basketball', 'Canoeing', 'Handball', 'Volleyball', 'Judo'],\n",
       "      dtype=object)"
      ]
     },
     "execution_count": 86,
     "metadata": {},
     "output_type": "execute_result"
    }
   ],
   "source": [
    "acumulado_por_anio_10[\"Sport\"].unique()"
   ]
  },
  {
   "cell_type": "code",
   "execution_count": 88,
   "metadata": {},
   "outputs": [],
   "source": [
    "deportes_universales=acumulado_por_anio_10.groupby(\"Sport\").count()"
   ]
  },
  {
   "cell_type": "code",
   "execution_count": 92,
   "metadata": {},
   "outputs": [
    {
     "data": {
      "text/html": [
       "<div>\n",
       "<style scoped>\n",
       "    .dataframe tbody tr th:only-of-type {\n",
       "        vertical-align: middle;\n",
       "    }\n",
       "\n",
       "    .dataframe tbody tr th {\n",
       "        vertical-align: top;\n",
       "    }\n",
       "\n",
       "    .dataframe thead th {\n",
       "        text-align: right;\n",
       "    }\n",
       "</style>\n",
       "<table border=\"1\" class=\"dataframe\">\n",
       "  <thead>\n",
       "    <tr style=\"text-align: right;\">\n",
       "      <th></th>\n",
       "      <th>NOC</th>\n",
       "      <th>Year</th>\n",
       "      <th>City</th>\n",
       "      <th>Columna2</th>\n",
       "    </tr>\n",
       "    <tr>\n",
       "      <th>Sport</th>\n",
       "      <th></th>\n",
       "      <th></th>\n",
       "      <th></th>\n",
       "      <th></th>\n",
       "    </tr>\n",
       "  </thead>\n",
       "  <tbody>\n",
       "    <tr>\n",
       "      <th>Athletics</th>\n",
       "      <td>101</td>\n",
       "      <td>101</td>\n",
       "      <td>101</td>\n",
       "      <td>101</td>\n",
       "    </tr>\n",
       "    <tr>\n",
       "      <th>Boxing</th>\n",
       "      <td>81</td>\n",
       "      <td>81</td>\n",
       "      <td>81</td>\n",
       "      <td>81</td>\n",
       "    </tr>\n",
       "    <tr>\n",
       "      <th>Shooting</th>\n",
       "      <td>68</td>\n",
       "      <td>68</td>\n",
       "      <td>68</td>\n",
       "      <td>68</td>\n",
       "    </tr>\n",
       "    <tr>\n",
       "      <th>Weightlifting</th>\n",
       "      <td>68</td>\n",
       "      <td>68</td>\n",
       "      <td>68</td>\n",
       "      <td>68</td>\n",
       "    </tr>\n",
       "    <tr>\n",
       "      <th>Wrestling</th>\n",
       "      <td>64</td>\n",
       "      <td>64</td>\n",
       "      <td>64</td>\n",
       "      <td>64</td>\n",
       "    </tr>\n",
       "    <tr>\n",
       "      <th>Judo</th>\n",
       "      <td>56</td>\n",
       "      <td>56</td>\n",
       "      <td>56</td>\n",
       "      <td>56</td>\n",
       "    </tr>\n",
       "    <tr>\n",
       "      <th>Swimming</th>\n",
       "      <td>56</td>\n",
       "      <td>56</td>\n",
       "      <td>56</td>\n",
       "      <td>56</td>\n",
       "    </tr>\n",
       "    <tr>\n",
       "      <th>Cycling</th>\n",
       "      <td>46</td>\n",
       "      <td>46</td>\n",
       "      <td>46</td>\n",
       "      <td>46</td>\n",
       "    </tr>\n",
       "    <tr>\n",
       "      <th>Canoeing</th>\n",
       "      <td>45</td>\n",
       "      <td>45</td>\n",
       "      <td>45</td>\n",
       "      <td>45</td>\n",
       "    </tr>\n",
       "    <tr>\n",
       "      <th>Gymnastics</th>\n",
       "      <td>43</td>\n",
       "      <td>43</td>\n",
       "      <td>43</td>\n",
       "      <td>43</td>\n",
       "    </tr>\n",
       "    <tr>\n",
       "      <th>Sailing</th>\n",
       "      <td>43</td>\n",
       "      <td>43</td>\n",
       "      <td>43</td>\n",
       "      <td>43</td>\n",
       "    </tr>\n",
       "    <tr>\n",
       "      <th>Rowing</th>\n",
       "      <td>42</td>\n",
       "      <td>42</td>\n",
       "      <td>42</td>\n",
       "      <td>42</td>\n",
       "    </tr>\n",
       "    <tr>\n",
       "      <th>Fencing</th>\n",
       "      <td>38</td>\n",
       "      <td>38</td>\n",
       "      <td>38</td>\n",
       "      <td>38</td>\n",
       "    </tr>\n",
       "    <tr>\n",
       "      <th>Football</th>\n",
       "      <td>35</td>\n",
       "      <td>35</td>\n",
       "      <td>35</td>\n",
       "      <td>35</td>\n",
       "    </tr>\n",
       "    <tr>\n",
       "      <th>Equestrianism</th>\n",
       "      <td>31</td>\n",
       "      <td>31</td>\n",
       "      <td>31</td>\n",
       "      <td>31</td>\n",
       "    </tr>\n",
       "    <tr>\n",
       "      <th>Handball</th>\n",
       "      <td>25</td>\n",
       "      <td>25</td>\n",
       "      <td>25</td>\n",
       "      <td>25</td>\n",
       "    </tr>\n",
       "    <tr>\n",
       "      <th>Basketball</th>\n",
       "      <td>23</td>\n",
       "      <td>23</td>\n",
       "      <td>23</td>\n",
       "      <td>23</td>\n",
       "    </tr>\n",
       "    <tr>\n",
       "      <th>Volleyball</th>\n",
       "      <td>23</td>\n",
       "      <td>23</td>\n",
       "      <td>23</td>\n",
       "      <td>23</td>\n",
       "    </tr>\n",
       "    <tr>\n",
       "      <th>Water Polo</th>\n",
       "      <td>21</td>\n",
       "      <td>21</td>\n",
       "      <td>21</td>\n",
       "      <td>21</td>\n",
       "    </tr>\n",
       "    <tr>\n",
       "      <th>Hockey</th>\n",
       "      <td>19</td>\n",
       "      <td>19</td>\n",
       "      <td>19</td>\n",
       "      <td>19</td>\n",
       "    </tr>\n",
       "  </tbody>\n",
       "</table>\n",
       "</div>"
      ],
      "text/plain": [
       "               NOC  Year  City  Columna2\n",
       "Sport                                   \n",
       "Athletics      101   101   101       101\n",
       "Boxing          81    81    81        81\n",
       "Shooting        68    68    68        68\n",
       "Weightlifting   68    68    68        68\n",
       "Wrestling       64    64    64        64\n",
       "Judo            56    56    56        56\n",
       "Swimming        56    56    56        56\n",
       "Cycling         46    46    46        46\n",
       "Canoeing        45    45    45        45\n",
       "Gymnastics      43    43    43        43\n",
       "Sailing         43    43    43        43\n",
       "Rowing          42    42    42        42\n",
       "Fencing         38    38    38        38\n",
       "Football        35    35    35        35\n",
       "Equestrianism   31    31    31        31\n",
       "Handball        25    25    25        25\n",
       "Basketball      23    23    23        23\n",
       "Volleyball      23    23    23        23\n",
       "Water Polo      21    21    21        21\n",
       "Hockey          19    19    19        19"
      ]
     },
     "execution_count": 92,
     "metadata": {},
     "output_type": "execute_result"
    }
   ],
   "source": [
    "deportes_universales.sort_values(by=\"Columna2\",ascending=False)"
   ]
  },
  {
   "cell_type": "code",
   "execution_count": 98,
   "metadata": {},
   "outputs": [],
   "source": [
    "deportes_universales.reset_index(inplace=True)"
   ]
  },
  {
   "cell_type": "code",
   "execution_count": 106,
   "metadata": {},
   "outputs": [],
   "source": [
    "deportes_universales.sort_values(by=\"Columna2\",inplace=True)"
   ]
  },
  {
   "cell_type": "code",
   "execution_count": 117,
   "metadata": {},
   "outputs": [
    {
     "data": {
      "image/png": "[encoded data removed]",
      "text/plain": [
       "<Figure size 1000x600 with 1 Axes>"
      ]
     },
     "metadata": {},
     "output_type": "display_data"
    }
   ],
   "source": [
    "\n",
    "# Crea el gráfico de barras\n",
    "colores = plt.cm.tab20(range(len(deportes_universales)))\n",
    "ax = deportes_universales.plot.bar(x=\"Sport\", y='Columna2', color=colores, figsize=(10, 6))\n",
    "\n",
    "# Añade título y etiquetas a los ejes\n",
    "ax.set_title('Sport Democracy')\n",
    "ax.set_xlabel('Sport')\n",
    "ax.set_ylabel('Countries')\n",
    "plt.xticks(rotation=45, ha='right')\n",
    "ax.legend_.remove()\n",
    "\n",
    "sns.set_style(\"whitegrid\")\n",
    "plt.savefig(\"Sport_Democracy_2\", transparent=True)\n",
    "\n",
    "# Muestra el gráfico\n",
    "plt.show()"
   ]
  },
  {
   "attachments": {},
   "cell_type": "markdown",
   "metadata": {},
   "source": [
    "---\n",
    "---\n",
    "\n",
    "Nuevo gráfico"
   ]
  },
  {
   "cell_type": "code",
   "execution_count": 30,
   "metadata": {},
   "outputs": [],
   "source": [
    "escala_EEUU=acumulado_por_anio_count_2[acumulado_por_anio_count_2[\"NOC\"]==\"USA\"]"
   ]
  },
  {
   "cell_type": "code",
   "execution_count": 35,
   "metadata": {},
   "outputs": [
    {
     "data": {
      "text/html": [
       "<div>\n",
       "<style scoped>\n",
       "    .dataframe tbody tr th:only-of-type {\n",
       "        vertical-align: middle;\n",
       "    }\n",
       "\n",
       "    .dataframe tbody tr th {\n",
       "        vertical-align: top;\n",
       "    }\n",
       "\n",
       "    .dataframe thead th {\n",
       "        text-align: right;\n",
       "    }\n",
       "</style>\n",
       "<table border=\"1\" class=\"dataframe\">\n",
       "  <thead>\n",
       "    <tr style=\"text-align: right;\">\n",
       "      <th></th>\n",
       "      <th>Year</th>\n",
       "      <th>NOC</th>\n",
       "      <th>Count</th>\n",
       "      <th>Acumulado</th>\n",
       "    </tr>\n",
       "  </thead>\n",
       "  <tbody>\n",
       "    <tr>\n",
       "      <th>9</th>\n",
       "      <td>1896</td>\n",
       "      <td>USA</td>\n",
       "      <td>2</td>\n",
       "      <td>2</td>\n",
       "    </tr>\n",
       "    <tr>\n",
       "      <th>32</th>\n",
       "      <td>1900</td>\n",
       "      <td>USA</td>\n",
       "      <td>7</td>\n",
       "      <td>9</td>\n",
       "    </tr>\n",
       "    <tr>\n",
       "      <th>38</th>\n",
       "      <td>1904</td>\n",
       "      <td>USA</td>\n",
       "      <td>13</td>\n",
       "      <td>22</td>\n",
       "    </tr>\n",
       "    <tr>\n",
       "      <th>65</th>\n",
       "      <td>1908</td>\n",
       "      <td>USA</td>\n",
       "      <td>1</td>\n",
       "      <td>23</td>\n",
       "    </tr>\n",
       "    <tr>\n",
       "      <th>81</th>\n",
       "      <td>1912</td>\n",
       "      <td>USA</td>\n",
       "      <td>2</td>\n",
       "      <td>25</td>\n",
       "    </tr>\n",
       "    <tr>\n",
       "      <th>101</th>\n",
       "      <td>1920</td>\n",
       "      <td>USA</td>\n",
       "      <td>2</td>\n",
       "      <td>27</td>\n",
       "    </tr>\n",
       "    <tr>\n",
       "      <th>161</th>\n",
       "      <td>1932</td>\n",
       "      <td>USA</td>\n",
       "      <td>2</td>\n",
       "      <td>29</td>\n",
       "    </tr>\n",
       "    <tr>\n",
       "      <th>183</th>\n",
       "      <td>1936</td>\n",
       "      <td>USA</td>\n",
       "      <td>2</td>\n",
       "      <td>31</td>\n",
       "    </tr>\n",
       "    <tr>\n",
       "      <th>285</th>\n",
       "      <td>1964</td>\n",
       "      <td>USA</td>\n",
       "      <td>1</td>\n",
       "      <td>32</td>\n",
       "    </tr>\n",
       "    <tr>\n",
       "      <th>383</th>\n",
       "      <td>1984</td>\n",
       "      <td>USA</td>\n",
       "      <td>2</td>\n",
       "      <td>34</td>\n",
       "    </tr>\n",
       "    <tr>\n",
       "      <th>478</th>\n",
       "      <td>1996</td>\n",
       "      <td>USA</td>\n",
       "      <td>3</td>\n",
       "      <td>37</td>\n",
       "    </tr>\n",
       "    <tr>\n",
       "      <th>532</th>\n",
       "      <td>2000</td>\n",
       "      <td>USA</td>\n",
       "      <td>1</td>\n",
       "      <td>38</td>\n",
       "    </tr>\n",
       "    <tr>\n",
       "      <th>574</th>\n",
       "      <td>2004</td>\n",
       "      <td>USA</td>\n",
       "      <td>1</td>\n",
       "      <td>39</td>\n",
       "    </tr>\n",
       "    <tr>\n",
       "      <th>738</th>\n",
       "      <td>2021</td>\n",
       "      <td>USA</td>\n",
       "      <td>5</td>\n",
       "      <td>44</td>\n",
       "    </tr>\n",
       "  </tbody>\n",
       "</table>\n",
       "</div>"
      ],
      "text/plain": [
       "     Year  NOC  Count  Acumulado\n",
       "9    1896  USA      2          2\n",
       "32   1900  USA      7          9\n",
       "38   1904  USA     13         22\n",
       "65   1908  USA      1         23\n",
       "81   1912  USA      2         25\n",
       "101  1920  USA      2         27\n",
       "161  1932  USA      2         29\n",
       "183  1936  USA      2         31\n",
       "285  1964  USA      1         32\n",
       "383  1984  USA      2         34\n",
       "478  1996  USA      3         37\n",
       "532  2000  USA      1         38\n",
       "574  2004  USA      1         39\n",
       "738  2021  USA      5         44"
      ]
     },
     "execution_count": 35,
     "metadata": {},
     "output_type": "execute_result"
    }
   ],
   "source": [
    "escala_EEUU"
   ]
  },
  {
   "cell_type": "code",
   "execution_count": null,
   "metadata": {},
   "outputs": [],
   "source": [
    "escala_EEUU[\"nuevas_disc_conquistada\"]=[]"
   ]
  },
  {
   "cell_type": "code",
   "execution_count": 45,
   "metadata": {},
   "outputs": [],
   "source": [
    "disc_conqu=[2]\n",
    "for i in range(len(escala_EEUU[\"Acumulado\"])):\n",
    "    if i==0:\n",
    "        continue\n",
    "    else:\n",
    "        disc_conqu.append(escala_EEUU.iloc[i][\"Acumulado\"]-escala_EEUU.iloc[i-1][\"Acumulado\"])"
   ]
  },
  {
   "cell_type": "code",
   "execution_count": 46,
   "metadata": {},
   "outputs": [
    {
     "data": {
      "text/plain": [
       "[2, 7, 13, 1, 2, 2, 2, 2, 1, 2, 3, 1, 1, 5]"
      ]
     },
     "execution_count": 46,
     "metadata": {},
     "output_type": "execute_result"
    }
   ],
   "source": [
    "disc_conqu"
   ]
  },
  {
   "cell_type": "code",
   "execution_count": 32,
   "metadata": {},
   "outputs": [
    {
     "data": {
      "text/plain": [
       "2"
      ]
     },
     "execution_count": 32,
     "metadata": {},
     "output_type": "execute_result"
    }
   ],
   "source": [
    "escala_EEUU.iloc[0][\"Acumulado\"]"
   ]
  },
  {
   "cell_type": "code",
   "execution_count": 43,
   "metadata": {},
   "outputs": [
    {
     "data": {
      "text/plain": [
       "7"
      ]
     },
     "execution_count": 43,
     "metadata": {},
     "output_type": "execute_result"
    }
   ],
   "source": [
    "(escala_EEUU.iloc[1][\"Acumulado\"]-escala_EEUU.iloc[0][\"Acumulado\"])"
   ]
  },
  {
   "cell_type": "code",
   "execution_count": 62,
   "metadata": {},
   "outputs": [],
   "source": [
    "grupo_df=acumulado_por_anio_count_2.groupby(\"NOC\")"
   ]
  },
  {
   "cell_type": "code",
   "execution_count": 63,
   "metadata": {},
   "outputs": [
    {
     "data": {
      "text/html": [
       "<div>\n",
       "<style scoped>\n",
       "    .dataframe tbody tr th:only-of-type {\n",
       "        vertical-align: middle;\n",
       "    }\n",
       "\n",
       "    .dataframe tbody tr th {\n",
       "        vertical-align: top;\n",
       "    }\n",
       "\n",
       "    .dataframe thead th {\n",
       "        text-align: right;\n",
       "    }\n",
       "</style>\n",
       "<table border=\"1\" class=\"dataframe\">\n",
       "  <thead>\n",
       "    <tr style=\"text-align: right;\">\n",
       "      <th></th>\n",
       "      <th>Year</th>\n",
       "      <th>NOC</th>\n",
       "      <th>Count</th>\n",
       "      <th>Acumulado</th>\n",
       "    </tr>\n",
       "  </thead>\n",
       "  <tbody>\n",
       "    <tr>\n",
       "      <th>9</th>\n",
       "      <td>1896</td>\n",
       "      <td>USA</td>\n",
       "      <td>2</td>\n",
       "      <td>2</td>\n",
       "    </tr>\n",
       "    <tr>\n",
       "      <th>32</th>\n",
       "      <td>1900</td>\n",
       "      <td>USA</td>\n",
       "      <td>7</td>\n",
       "      <td>9</td>\n",
       "    </tr>\n",
       "    <tr>\n",
       "      <th>38</th>\n",
       "      <td>1904</td>\n",
       "      <td>USA</td>\n",
       "      <td>13</td>\n",
       "      <td>22</td>\n",
       "    </tr>\n",
       "    <tr>\n",
       "      <th>65</th>\n",
       "      <td>1908</td>\n",
       "      <td>USA</td>\n",
       "      <td>1</td>\n",
       "      <td>23</td>\n",
       "    </tr>\n",
       "    <tr>\n",
       "      <th>81</th>\n",
       "      <td>1912</td>\n",
       "      <td>USA</td>\n",
       "      <td>2</td>\n",
       "      <td>25</td>\n",
       "    </tr>\n",
       "    <tr>\n",
       "      <th>101</th>\n",
       "      <td>1920</td>\n",
       "      <td>USA</td>\n",
       "      <td>2</td>\n",
       "      <td>27</td>\n",
       "    </tr>\n",
       "    <tr>\n",
       "      <th>161</th>\n",
       "      <td>1932</td>\n",
       "      <td>USA</td>\n",
       "      <td>2</td>\n",
       "      <td>29</td>\n",
       "    </tr>\n",
       "    <tr>\n",
       "      <th>183</th>\n",
       "      <td>1936</td>\n",
       "      <td>USA</td>\n",
       "      <td>2</td>\n",
       "      <td>31</td>\n",
       "    </tr>\n",
       "    <tr>\n",
       "      <th>285</th>\n",
       "      <td>1964</td>\n",
       "      <td>USA</td>\n",
       "      <td>1</td>\n",
       "      <td>32</td>\n",
       "    </tr>\n",
       "    <tr>\n",
       "      <th>383</th>\n",
       "      <td>1984</td>\n",
       "      <td>USA</td>\n",
       "      <td>2</td>\n",
       "      <td>34</td>\n",
       "    </tr>\n",
       "    <tr>\n",
       "      <th>478</th>\n",
       "      <td>1996</td>\n",
       "      <td>USA</td>\n",
       "      <td>3</td>\n",
       "      <td>37</td>\n",
       "    </tr>\n",
       "    <tr>\n",
       "      <th>532</th>\n",
       "      <td>2000</td>\n",
       "      <td>USA</td>\n",
       "      <td>1</td>\n",
       "      <td>38</td>\n",
       "    </tr>\n",
       "    <tr>\n",
       "      <th>574</th>\n",
       "      <td>2004</td>\n",
       "      <td>USA</td>\n",
       "      <td>1</td>\n",
       "      <td>39</td>\n",
       "    </tr>\n",
       "    <tr>\n",
       "      <th>738</th>\n",
       "      <td>2021</td>\n",
       "      <td>USA</td>\n",
       "      <td>5</td>\n",
       "      <td>44</td>\n",
       "    </tr>\n",
       "  </tbody>\n",
       "</table>\n",
       "</div>"
      ],
      "text/plain": [
       "     Year  NOC  Count  Acumulado\n",
       "9    1896  USA      2          2\n",
       "32   1900  USA      7          9\n",
       "38   1904  USA     13         22\n",
       "65   1908  USA      1         23\n",
       "81   1912  USA      2         25\n",
       "101  1920  USA      2         27\n",
       "161  1932  USA      2         29\n",
       "183  1936  USA      2         31\n",
       "285  1964  USA      1         32\n",
       "383  1984  USA      2         34\n",
       "478  1996  USA      3         37\n",
       "532  2000  USA      1         38\n",
       "574  2004  USA      1         39\n",
       "738  2021  USA      5         44"
      ]
     },
     "execution_count": 63,
     "metadata": {},
     "output_type": "execute_result"
    }
   ],
   "source": [
    "grupo_df.get_group(\"USA\")"
   ]
  },
  {
   "cell_type": "code",
   "execution_count": 66,
   "metadata": {},
   "outputs": [
    {
     "name": "stdout",
     "output_type": "stream",
     "text": [
      "Grupo: AUS\n",
      "     Year  NOC  Count  Acumulado\n",
      "0    1896  AUS      2          2\n",
      "10   1900  AUS      1          3\n",
      "103  1924  AUS      1          4\n",
      "127  1928  AUS      2          6\n",
      "149  1932  AUS      1          7\n",
      "210  1952  AUS      1          8\n",
      "232  1956  AUS      3         11\n",
      "244  1960  AUS      1         12\n",
      "267  1964  AUS      2         14\n",
      "361  1984  AUS      1         15\n",
      "444  1996  AUS      3         18\n",
      "483  2000  AUS      5         23\n",
      "536  2004  AUS      1         24\n",
      "653  2016  AUS      2         26\n",
      "694  2021  AUS      2         28\n",
      "Grupo: CAN\n",
      "     Year  NOC  Count  Acumulado\n",
      "14   1900  CAN      1          1\n",
      "34   1904  CAN      4          5\n",
      "55   1908  CAN      3          8\n",
      "68   1912  CAN      1          9\n",
      "84   1920  CAN      2         11\n",
      "150  1932  CAN      2         13\n",
      "164  1936  CAN      2         15\n",
      "213  1952  CAN      1         16\n",
      "235  1956  CAN      2         18\n",
      "269  1964  CAN      1         19\n",
      "364  1984  CAN      2         21\n",
      "449  1996  CAN      1         22\n",
      "488  2000  CAN      4         26\n",
      "539  2004  CAN      1         27\n",
      "657  2016  CAN      1         28\n",
      "701  2021  CAN      1         29\n",
      "Grupo: CHN\n",
      "     Year  NOC  Count  Acumulado\n",
      "365  1984  CHN     10         10\n",
      "390  1988  CHN      3         13\n",
      "412  1992  CHN      4         17\n",
      "450  1996  CHN      2         19\n",
      "490  2000  CHN      2         21\n",
      "541  2004  CHN      4         25\n",
      "583  2008  CHN      4         29\n",
      "621  2012  CHN      1         30\n",
      "658  2016  CHN      1         31\n",
      "702  2021  CHN      2         33\n",
      "Grupo: ESP\n",
      "     Year  NOC  Count  Acumulado\n",
      "18   1900  ESP      1          1\n",
      "86   1920  ESP      2          3\n",
      "131  1928  ESP      1          4\n",
      "151  1932  ESP      1          5\n",
      "215  1952  ESP      1          6\n",
      "247  1960  ESP      1          7\n",
      "307  1972  ESP      1          8\n",
      "328  1976  ESP      1          9\n",
      "346  1980  ESP      2         11\n",
      "369  1984  ESP      2         13\n",
      "393  1988  ESP      1         14\n",
      "417  1992  ESP      5         19\n",
      "456  1996  ESP      1         20\n",
      "496  2000  ESP      2         22\n",
      "550  2004  ESP      1         23\n",
      "588  2008  ESP      2         25\n",
      "626  2012  ESP      2         27\n",
      "662  2016  ESP      2         29\n",
      "707  2021  ESP      2         31\n",
      "Grupo: FRA\n",
      "     Year  NOC  Count  Acumulado\n",
      "3    1896  FRA      3          3\n",
      "19   1900  FRA     15         18\n",
      "43   1906  FRA      1         19\n",
      "57   1908  FRA      1         20\n",
      "71   1912  FRA      1         21\n",
      "89   1920  FRA      1         22\n",
      "107  1924  FRA      1         23\n",
      "167  1936  FRA      1         24\n",
      "190  1948  FRA      1         25\n",
      "217  1952  FRA      1         26\n",
      "291  1968  FRA      1         27\n",
      "309  1972  FRA      1         28\n",
      "420  1992  FRA      2         30\n",
      "498  2000  FRA      2         32\n",
      "709  2021  FRA      4         36\n",
      "Grupo: GBR\n",
      "     Year  NOC  Count  Acumulado\n",
      "4    1896  GBR      4          4\n",
      "20   1900  GBR      9         13\n",
      "44   1906  GBR      2         15\n",
      "58   1908  GBR     11         26\n",
      "72   1912  GBR      1         27\n",
      "90   1920  GBR      1         28\n",
      "168  1936  GBR      1         29\n",
      "311  1972  GBR      1         30\n",
      "330  1976  GBR      1         31\n",
      "421  1992  GBR      1         32\n",
      "499  2000  GBR      1         33\n",
      "589  2008  GBR      1         34\n",
      "628  2012  GBR      1         35\n",
      "664  2016  GBR      2         37\n",
      "710  2021  GBR      1         38\n",
      "Grupo: GER\n",
      "     Year  NOC  Count  Acumulado\n",
      "5    1896  GER      5          5\n",
      "21   1900  GER      4          9\n",
      "35   1904  GER      3         12\n",
      "45   1906  GER      1         13\n",
      "59   1908  GER      1         14\n",
      "73   1912  GER      3         17\n",
      "133  1928  GER      4         21\n",
      "153  1932  GER      1         22\n",
      "169  1936  GER      2         24\n",
      "271  1964  GER      2         26\n",
      "422  1992  GER      1         27\n",
      "458  1996  GER      1         28\n",
      "501  2000  GER      3         31\n",
      "552  2004  GER      1         32\n",
      "Grupo: HUN\n",
      "     Year  NOC  Count  Acumulado\n",
      "7    1896  HUN      3          3\n",
      "47   1906  HUN      3          6\n",
      "60   1908  HUN      1          7\n",
      "74   1912  HUN      1          8\n",
      "110  1924  HUN      1          9\n",
      "135  1928  HUN      2         11\n",
      "170  1936  HUN      1         12\n",
      "218  1952  HUN      3         15\n",
      "251  1960  HUN      1         16\n",
      "332  1976  HUN      2         18\n",
      "348  1980  HUN      1         19\n",
      "712  2021  HUN      1         20\n",
      "Grupo: ITA\n",
      "     Year  NOC  Count  Acumulado\n",
      "24   1900  ITA      3          3\n",
      "48   1906  ITA      4          7\n",
      "61   1908  ITA      2          9\n",
      "75   1912  ITA      1         10\n",
      "91   1920  ITA      1         11\n",
      "112  1924  ITA      1         12\n",
      "138  1928  ITA      1         13\n",
      "171  1936  ITA      2         15\n",
      "192  1948  ITA      1         16\n",
      "253  1960  ITA      1         17\n",
      "272  1964  ITA      1         18\n",
      "313  1972  ITA      1         19\n",
      "333  1976  ITA      2         21\n",
      "350  1980  ITA      1         22\n",
      "372  1984  ITA      1         23\n",
      "556  2004  ITA      1         24\n",
      "593  2008  ITA      1         25\n",
      "666  2016  ITA      1         26\n",
      "715  2021  ITA      1         27\n",
      "Grupo: JPN\n",
      "     Year  NOC  Count  Acumulado\n",
      "92   1920  JPN      1          1\n",
      "113  1924  JPN      1          2\n",
      "139  1928  JPN      2          4\n",
      "154  1932  JPN      2          6\n",
      "172  1936  JPN      1          7\n",
      "222  1952  JPN      1          8\n",
      "254  1960  JPN      3         11\n",
      "273  1964  JPN      2         13\n",
      "294  1968  JPN      1         14\n",
      "334  1976  JPN      1         15\n",
      "373  1984  JPN      2         17\n",
      "427  1992  JPN      1         18\n",
      "463  1996  JPN      1         19\n",
      "507  2000  JPN      2         21\n",
      "594  2008  JPN      1         22\n",
      "635  2012  JPN      2         24\n",
      "668  2016  JPN      1         25\n",
      "717  2021  JPN      6         31\n",
      "Grupo: RUS\n",
      "     Year  NOC  Count  Acumulado\n",
      "63   1908  RUS      2          2\n",
      "78   1912  RUS      3          5\n",
      "469  1996  RUS     11         16\n",
      "522  2000  RUS      8         24\n",
      "564  2004  RUS      1         25\n",
      "603  2008  RUS      1         26\n",
      "648  2012  RUS      1         27\n",
      "Grupo: SWE\n",
      "     Year  NOC  Count  Acumulado\n",
      "31   1900  SWE      2          2\n",
      "51   1906  SWE      1          3\n",
      "64   1908  SWE      8         11\n",
      "80   1912  SWE      4         15\n",
      "99   1920  SWE      1         16\n",
      "122  1924  SWE      2         18\n",
      "147  1928  SWE      1         19\n",
      "158  1932  SWE      1         20\n",
      "180  1936  SWE      1         21\n",
      "320  1972  SWE      1         22\n",
      "406  1988  SWE      1         23\n",
      "440  1992  SWE      1         24\n",
      "650  2012  SWE      1         25\n",
      "685  2016  SWE      1         26\n",
      "Grupo: USA\n",
      "     Year  NOC  Count  Acumulado\n",
      "9    1896  USA      2          2\n",
      "32   1900  USA      7          9\n",
      "38   1904  USA     13         22\n",
      "65   1908  USA      1         23\n",
      "81   1912  USA      2         25\n",
      "101  1920  USA      2         27\n",
      "161  1932  USA      2         29\n",
      "183  1936  USA      2         31\n",
      "285  1964  USA      1         32\n",
      "383  1984  USA      2         34\n",
      "478  1996  USA      3         37\n",
      "532  2000  USA      1         38\n",
      "574  2004  USA      1         39\n",
      "738  2021  USA      5         44\n"
     ]
    }
   ],
   "source": [
    "for grupo, datos_grupo in grupo_df:\n",
    "    print(f\"Grupo: {grupo}\")\n",
    "    print(datos_grupo)"
   ]
  },
  {
   "cell_type": "code",
   "execution_count": 81,
   "metadata": {},
   "outputs": [
    {
     "data": {
      "image/png": "[encoded data removed]",
      "text/plain": [
       "<Figure size 640x480 with 1 Axes>"
      ]
     },
     "metadata": {},
     "output_type": "display_data"
    }
   ],
   "source": [
    "plt.plot(escala_EEUU[\"Year\"], escala_EEUU[\"Count\"], color=\"orange\", linewidth=4)\n",
    "\n",
    "# Agregar etiquetas de los ejes y título del gráfico\n",
    "plt.xlabel('Year')\n",
    "plt.ylabel('Number of new disciplines')\n",
    "plt.title('New Conquered Categories per year')\n",
    "\n",
    "sns.set_style(\"whitegrid\")\n",
    "plt.savefig(\"New conquered cat per year\", transparent=True)\n",
    "\n",
    "# Mostrar el gráfico\n",
    "plt.show()"
   ]
  },
  {
   "cell_type": "code",
   "execution_count": 65,
   "metadata": {},
   "outputs": [
    {
     "data": {
      "text/html": [
       "<div>\n",
       "<style scoped>\n",
       "    .dataframe tbody tr th:only-of-type {\n",
       "        vertical-align: middle;\n",
       "    }\n",
       "\n",
       "    .dataframe tbody tr th {\n",
       "        vertical-align: top;\n",
       "    }\n",
       "\n",
       "    .dataframe thead th {\n",
       "        text-align: right;\n",
       "    }\n",
       "</style>\n",
       "<table border=\"1\" class=\"dataframe\">\n",
       "  <thead>\n",
       "    <tr style=\"text-align: right;\">\n",
       "      <th></th>\n",
       "      <th>Year</th>\n",
       "      <th>NOC</th>\n",
       "      <th>Count</th>\n",
       "      <th>Acumulado</th>\n",
       "    </tr>\n",
       "  </thead>\n",
       "  <tbody>\n",
       "    <tr>\n",
       "      <th>9</th>\n",
       "      <td>1896</td>\n",
       "      <td>USA</td>\n",
       "      <td>2</td>\n",
       "      <td>2</td>\n",
       "    </tr>\n",
       "    <tr>\n",
       "      <th>32</th>\n",
       "      <td>1900</td>\n",
       "      <td>USA</td>\n",
       "      <td>7</td>\n",
       "      <td>9</td>\n",
       "    </tr>\n",
       "    <tr>\n",
       "      <th>38</th>\n",
       "      <td>1904</td>\n",
       "      <td>USA</td>\n",
       "      <td>13</td>\n",
       "      <td>22</td>\n",
       "    </tr>\n",
       "    <tr>\n",
       "      <th>65</th>\n",
       "      <td>1908</td>\n",
       "      <td>USA</td>\n",
       "      <td>1</td>\n",
       "      <td>23</td>\n",
       "    </tr>\n",
       "    <tr>\n",
       "      <th>81</th>\n",
       "      <td>1912</td>\n",
       "      <td>USA</td>\n",
       "      <td>2</td>\n",
       "      <td>25</td>\n",
       "    </tr>\n",
       "    <tr>\n",
       "      <th>101</th>\n",
       "      <td>1920</td>\n",
       "      <td>USA</td>\n",
       "      <td>2</td>\n",
       "      <td>27</td>\n",
       "    </tr>\n",
       "    <tr>\n",
       "      <th>161</th>\n",
       "      <td>1932</td>\n",
       "      <td>USA</td>\n",
       "      <td>2</td>\n",
       "      <td>29</td>\n",
       "    </tr>\n",
       "    <tr>\n",
       "      <th>183</th>\n",
       "      <td>1936</td>\n",
       "      <td>USA</td>\n",
       "      <td>2</td>\n",
       "      <td>31</td>\n",
       "    </tr>\n",
       "    <tr>\n",
       "      <th>285</th>\n",
       "      <td>1964</td>\n",
       "      <td>USA</td>\n",
       "      <td>1</td>\n",
       "      <td>32</td>\n",
       "    </tr>\n",
       "    <tr>\n",
       "      <th>383</th>\n",
       "      <td>1984</td>\n",
       "      <td>USA</td>\n",
       "      <td>2</td>\n",
       "      <td>34</td>\n",
       "    </tr>\n",
       "    <tr>\n",
       "      <th>478</th>\n",
       "      <td>1996</td>\n",
       "      <td>USA</td>\n",
       "      <td>3</td>\n",
       "      <td>37</td>\n",
       "    </tr>\n",
       "    <tr>\n",
       "      <th>532</th>\n",
       "      <td>2000</td>\n",
       "      <td>USA</td>\n",
       "      <td>1</td>\n",
       "      <td>38</td>\n",
       "    </tr>\n",
       "    <tr>\n",
       "      <th>574</th>\n",
       "      <td>2004</td>\n",
       "      <td>USA</td>\n",
       "      <td>1</td>\n",
       "      <td>39</td>\n",
       "    </tr>\n",
       "    <tr>\n",
       "      <th>738</th>\n",
       "      <td>2021</td>\n",
       "      <td>USA</td>\n",
       "      <td>5</td>\n",
       "      <td>44</td>\n",
       "    </tr>\n",
       "  </tbody>\n",
       "</table>\n",
       "</div>"
      ],
      "text/plain": [
       "     Year  NOC  Count  Acumulado\n",
       "9    1896  USA      2          2\n",
       "32   1900  USA      7          9\n",
       "38   1904  USA     13         22\n",
       "65   1908  USA      1         23\n",
       "81   1912  USA      2         25\n",
       "101  1920  USA      2         27\n",
       "161  1932  USA      2         29\n",
       "183  1936  USA      2         31\n",
       "285  1964  USA      1         32\n",
       "383  1984  USA      2         34\n",
       "478  1996  USA      3         37\n",
       "532  2000  USA      1         38\n",
       "574  2004  USA      1         39\n",
       "738  2021  USA      5         44"
      ]
     },
     "execution_count": 65,
     "metadata": {},
     "output_type": "execute_result"
    }
   ],
   "source": [
    "escala_EEUU"
   ]
  },
  {
   "cell_type": "code",
   "execution_count": 73,
   "metadata": {},
   "outputs": [
    {
     "data": {
      "image/png": "[encoded data removed]",
      "text/plain": [
       "<Figure size 640x480 with 1 Axes>"
      ]
     },
     "metadata": {},
     "output_type": "display_data"
    }
   ],
   "source": [
    "sns.kdeplot(prueba)\n",
    "\n",
    "# Agregar etiquetas de los ejes y título del gráfico\n",
    "plt.xlabel('Eje X')\n",
    "plt.ylabel('Densidad')\n",
    "plt.title('Densograma')\n",
    "\n",
    "# Mostrar el gráfico\n",
    "plt.show()"
   ]
  },
  {
   "cell_type": "code",
   "execution_count": 75,
   "metadata": {},
   "outputs": [
    {
     "data": {
      "text/plain": [
       "Text(0.5, 1.0, 'Densograma por País')"
      ]
     },
     "execution_count": 75,
     "metadata": {},
     "output_type": "execute_result"
    },
    {
     "data": {
      "image/png": "[encoded data removed]",
      "text/plain": [
       "<Figure size 640x480 with 1 Axes>"
      ]
     },
     "metadata": {},
     "output_type": "display_data"
    }
   ],
   "source": [
    "df = pd.DataFrame(prueba)\n",
    "\n",
    "# Hacer un densograma para cada país en el DataFrame\n",
    "for pais, datos_pais in df.groupby('NOC'):\n",
    "    sns.kdeplot(datos_pais['Count'], label=pais)\n",
    "\n",
    "# Agregar etiquetas de los ejes y título del gráfico\n",
    "plt.xlabel('Medallas')\n",
    "plt.ylabel('Densidad')\n",
    "plt.title('Densograma por País')"
   ]
  },
  {
   "cell_type": "code",
   "execution_count": 71,
   "metadata": {},
   "outputs": [],
   "source": [
    "prueba=acumulado_por_anio_count_2[[\"NOC\",\"Count\"]]"
   ]
  },
  {
   "cell_type": "code",
   "execution_count": 72,
   "metadata": {},
   "outputs": [
    {
     "data": {
      "text/html": [
       "<div>\n",
       "<style scoped>\n",
       "    .dataframe tbody tr th:only-of-type {\n",
       "        vertical-align: middle;\n",
       "    }\n",
       "\n",
       "    .dataframe tbody tr th {\n",
       "        vertical-align: top;\n",
       "    }\n",
       "\n",
       "    .dataframe thead th {\n",
       "        text-align: right;\n",
       "    }\n",
       "</style>\n",
       "<table border=\"1\" class=\"dataframe\">\n",
       "  <thead>\n",
       "    <tr style=\"text-align: right;\">\n",
       "      <th></th>\n",
       "      <th>NOC</th>\n",
       "      <th>Count</th>\n",
       "    </tr>\n",
       "  </thead>\n",
       "  <tbody>\n",
       "    <tr>\n",
       "      <th>0</th>\n",
       "      <td>AUS</td>\n",
       "      <td>2</td>\n",
       "    </tr>\n",
       "    <tr>\n",
       "      <th>3</th>\n",
       "      <td>FRA</td>\n",
       "      <td>3</td>\n",
       "    </tr>\n",
       "    <tr>\n",
       "      <th>4</th>\n",
       "      <td>GBR</td>\n",
       "      <td>4</td>\n",
       "    </tr>\n",
       "    <tr>\n",
       "      <th>5</th>\n",
       "      <td>GER</td>\n",
       "      <td>5</td>\n",
       "    </tr>\n",
       "    <tr>\n",
       "      <th>7</th>\n",
       "      <td>HUN</td>\n",
       "      <td>3</td>\n",
       "    </tr>\n",
       "    <tr>\n",
       "      <th>...</th>\n",
       "      <td>...</td>\n",
       "      <td>...</td>\n",
       "    </tr>\n",
       "    <tr>\n",
       "      <th>710</th>\n",
       "      <td>GBR</td>\n",
       "      <td>1</td>\n",
       "    </tr>\n",
       "    <tr>\n",
       "      <th>712</th>\n",
       "      <td>HUN</td>\n",
       "      <td>1</td>\n",
       "    </tr>\n",
       "    <tr>\n",
       "      <th>715</th>\n",
       "      <td>ITA</td>\n",
       "      <td>1</td>\n",
       "    </tr>\n",
       "    <tr>\n",
       "      <th>717</th>\n",
       "      <td>JPN</td>\n",
       "      <td>6</td>\n",
       "    </tr>\n",
       "    <tr>\n",
       "      <th>738</th>\n",
       "      <td>USA</td>\n",
       "      <td>5</td>\n",
       "    </tr>\n",
       "  </tbody>\n",
       "</table>\n",
       "<p>188 rows × 2 columns</p>\n",
       "</div>"
      ],
      "text/plain": [
       "     NOC  Count\n",
       "0    AUS      2\n",
       "3    FRA      3\n",
       "4    GBR      4\n",
       "5    GER      5\n",
       "7    HUN      3\n",
       "..   ...    ...\n",
       "710  GBR      1\n",
       "712  HUN      1\n",
       "715  ITA      1\n",
       "717  JPN      6\n",
       "738  USA      5\n",
       "\n",
       "[188 rows x 2 columns]"
      ]
     },
     "execution_count": 72,
     "metadata": {},
     "output_type": "execute_result"
    }
   ],
   "source": [
    "prueba"
   ]
  },
  {
   "cell_type": "code",
   "execution_count": 83,
   "metadata": {},
   "outputs": [
    {
     "data": {
      "text/html": [
       "<div>\n",
       "<style scoped>\n",
       "    .dataframe tbody tr th:only-of-type {\n",
       "        vertical-align: middle;\n",
       "    }\n",
       "\n",
       "    .dataframe tbody tr th {\n",
       "        vertical-align: top;\n",
       "    }\n",
       "\n",
       "    .dataframe thead th {\n",
       "        text-align: right;\n",
       "    }\n",
       "</style>\n",
       "<table border=\"1\" class=\"dataframe\">\n",
       "  <thead>\n",
       "    <tr style=\"text-align: right;\">\n",
       "      <th></th>\n",
       "      <th>NOC</th>\n",
       "      <th>Year</th>\n",
       "      <th>City</th>\n",
       "      <th>Columna2</th>\n",
       "      <th>Sport</th>\n",
       "    </tr>\n",
       "  </thead>\n",
       "  <tbody>\n",
       "    <tr>\n",
       "      <th>3</th>\n",
       "      <td>USA</td>\n",
       "      <td>1896</td>\n",
       "      <td>Athina</td>\n",
       "      <td>USA_Athletics</td>\n",
       "      <td>Athletics</td>\n",
       "    </tr>\n",
       "    <tr>\n",
       "      <th>28</th>\n",
       "      <td>USA</td>\n",
       "      <td>1896</td>\n",
       "      <td>Athina</td>\n",
       "      <td>USA_Shooting</td>\n",
       "      <td>Shooting</td>\n",
       "    </tr>\n",
       "    <tr>\n",
       "      <th>35</th>\n",
       "      <td>USA</td>\n",
       "      <td>1900</td>\n",
       "      <td>Paris</td>\n",
       "      <td>USA_Golf</td>\n",
       "      <td>Golf</td>\n",
       "    </tr>\n",
       "    <tr>\n",
       "      <th>36</th>\n",
       "      <td>USA</td>\n",
       "      <td>1900</td>\n",
       "      <td>Paris</td>\n",
       "      <td>USA_Rowing</td>\n",
       "      <td>Rowing</td>\n",
       "    </tr>\n",
       "    <tr>\n",
       "      <th>67</th>\n",
       "      <td>USA</td>\n",
       "      <td>1900</td>\n",
       "      <td>Paris</td>\n",
       "      <td>USA_Tennis</td>\n",
       "      <td>Tennis</td>\n",
       "    </tr>\n",
       "    <tr>\n",
       "      <th>88</th>\n",
       "      <td>USA</td>\n",
       "      <td>1900</td>\n",
       "      <td>Paris</td>\n",
       "      <td>USA_Polo</td>\n",
       "      <td>Polo</td>\n",
       "    </tr>\n",
       "    <tr>\n",
       "      <th>89</th>\n",
       "      <td>USA</td>\n",
       "      <td>1900</td>\n",
       "      <td>Paris</td>\n",
       "      <td>USA_Cycling</td>\n",
       "      <td>Cycling</td>\n",
       "    </tr>\n",
       "    <tr>\n",
       "      <th>93</th>\n",
       "      <td>USA</td>\n",
       "      <td>1900</td>\n",
       "      <td>Paris</td>\n",
       "      <td>USA_Sailing</td>\n",
       "      <td>Sailing</td>\n",
       "    </tr>\n",
       "    <tr>\n",
       "      <th>99</th>\n",
       "      <td>USA</td>\n",
       "      <td>1900</td>\n",
       "      <td>Paris</td>\n",
       "      <td>USA_Rugby</td>\n",
       "      <td>Rugby</td>\n",
       "    </tr>\n",
       "    <tr>\n",
       "      <th>105</th>\n",
       "      <td>USA</td>\n",
       "      <td>1904</td>\n",
       "      <td>St. Louis</td>\n",
       "      <td>USA_Swimming</td>\n",
       "      <td>Swimming</td>\n",
       "    </tr>\n",
       "    <tr>\n",
       "      <th>108</th>\n",
       "      <td>USA</td>\n",
       "      <td>1904</td>\n",
       "      <td>St. Louis</td>\n",
       "      <td>USA_Football</td>\n",
       "      <td>Football</td>\n",
       "    </tr>\n",
       "    <tr>\n",
       "      <th>109</th>\n",
       "      <td>USA</td>\n",
       "      <td>1904</td>\n",
       "      <td>St. Louis</td>\n",
       "      <td>USA_Wrestling</td>\n",
       "      <td>Wrestling</td>\n",
       "    </tr>\n",
       "    <tr>\n",
       "      <th>110</th>\n",
       "      <td>USA</td>\n",
       "      <td>1904</td>\n",
       "      <td>St. Louis</td>\n",
       "      <td>USA_Water Polo</td>\n",
       "      <td>Water Polo</td>\n",
       "    </tr>\n",
       "    <tr>\n",
       "      <th>111</th>\n",
       "      <td>USA</td>\n",
       "      <td>1904</td>\n",
       "      <td>St. Louis</td>\n",
       "      <td>USA_Boxing</td>\n",
       "      <td>Boxing</td>\n",
       "    </tr>\n",
       "    <tr>\n",
       "      <th>112</th>\n",
       "      <td>USA</td>\n",
       "      <td>1904</td>\n",
       "      <td>St. Louis</td>\n",
       "      <td>USA_Gymnastics</td>\n",
       "      <td>Gymnastics</td>\n",
       "    </tr>\n",
       "    <tr>\n",
       "      <th>113</th>\n",
       "      <td>USA</td>\n",
       "      <td>1904</td>\n",
       "      <td>St. Louis</td>\n",
       "      <td>USA_Tug-Of-War</td>\n",
       "      <td>Tug-Of-War</td>\n",
       "    </tr>\n",
       "    <tr>\n",
       "      <th>114</th>\n",
       "      <td>USA</td>\n",
       "      <td>1904</td>\n",
       "      <td>St. Louis</td>\n",
       "      <td>USA_Roque</td>\n",
       "      <td>Roque</td>\n",
       "    </tr>\n",
       "    <tr>\n",
       "      <th>115</th>\n",
       "      <td>USA</td>\n",
       "      <td>1904</td>\n",
       "      <td>St. Louis</td>\n",
       "      <td>USA_Archery</td>\n",
       "      <td>Archery</td>\n",
       "    </tr>\n",
       "    <tr>\n",
       "      <th>117</th>\n",
       "      <td>USA</td>\n",
       "      <td>1904</td>\n",
       "      <td>St. Louis</td>\n",
       "      <td>USA_Lacrosse</td>\n",
       "      <td>Lacrosse</td>\n",
       "    </tr>\n",
       "    <tr>\n",
       "      <th>119</th>\n",
       "      <td>USA</td>\n",
       "      <td>1904</td>\n",
       "      <td>St. Louis</td>\n",
       "      <td>USA_Fencing</td>\n",
       "      <td>Fencing</td>\n",
       "    </tr>\n",
       "    <tr>\n",
       "      <th>121</th>\n",
       "      <td>USA</td>\n",
       "      <td>1904</td>\n",
       "      <td>St. Louis</td>\n",
       "      <td>USA_Diving</td>\n",
       "      <td>Diving</td>\n",
       "    </tr>\n",
       "    <tr>\n",
       "      <th>126</th>\n",
       "      <td>USA</td>\n",
       "      <td>1904</td>\n",
       "      <td>St. Louis</td>\n",
       "      <td>USA_Weightlifting</td>\n",
       "      <td>Weightlifting</td>\n",
       "    </tr>\n",
       "    <tr>\n",
       "      <th>179</th>\n",
       "      <td>USA</td>\n",
       "      <td>1908</td>\n",
       "      <td>London</td>\n",
       "      <td>USA_Jeu De Paume</td>\n",
       "      <td>Jeu De Paume</td>\n",
       "    </tr>\n",
       "    <tr>\n",
       "      <th>212</th>\n",
       "      <td>USA</td>\n",
       "      <td>1912</td>\n",
       "      <td>Stockholm</td>\n",
       "      <td>USA_Equestrianism</td>\n",
       "      <td>Equestrianism</td>\n",
       "    </tr>\n",
       "    <tr>\n",
       "      <th>224</th>\n",
       "      <td>USA</td>\n",
       "      <td>1912</td>\n",
       "      <td>Stockholm</td>\n",
       "      <td>USA_Art Competitions</td>\n",
       "      <td>Art Competitions</td>\n",
       "    </tr>\n",
       "    <tr>\n",
       "      <th>237</th>\n",
       "      <td>USA</td>\n",
       "      <td>1920</td>\n",
       "      <td>Antwerpen</td>\n",
       "      <td>USA_Ice Hockey</td>\n",
       "      <td>Ice Hockey</td>\n",
       "    </tr>\n",
       "    <tr>\n",
       "      <th>263</th>\n",
       "      <td>USA</td>\n",
       "      <td>1920</td>\n",
       "      <td>Antwerpen</td>\n",
       "      <td>USA_Figure Skating</td>\n",
       "      <td>Figure Skating</td>\n",
       "    </tr>\n",
       "    <tr>\n",
       "      <th>344</th>\n",
       "      <td>USA</td>\n",
       "      <td>1932</td>\n",
       "      <td>Los Angeles</td>\n",
       "      <td>USA_Hockey</td>\n",
       "      <td>Hockey</td>\n",
       "    </tr>\n",
       "    <tr>\n",
       "      <th>352</th>\n",
       "      <td>USA</td>\n",
       "      <td>1932</td>\n",
       "      <td>Los Angeles</td>\n",
       "      <td>USA_Modern Pentathlon</td>\n",
       "      <td>Modern Pentathlon</td>\n",
       "    </tr>\n",
       "    <tr>\n",
       "      <th>364</th>\n",
       "      <td>USA</td>\n",
       "      <td>1936</td>\n",
       "      <td>Berlin</td>\n",
       "      <td>USA_Basketball</td>\n",
       "      <td>Basketball</td>\n",
       "    </tr>\n",
       "    <tr>\n",
       "      <th>389</th>\n",
       "      <td>USA</td>\n",
       "      <td>1936</td>\n",
       "      <td>Berlin</td>\n",
       "      <td>USA_Canoeing</td>\n",
       "      <td>Canoeing</td>\n",
       "    </tr>\n",
       "    <tr>\n",
       "      <th>517</th>\n",
       "      <td>USA</td>\n",
       "      <td>1964</td>\n",
       "      <td>Tokyo</td>\n",
       "      <td>USA_Judo</td>\n",
       "      <td>Judo</td>\n",
       "    </tr>\n",
       "    <tr>\n",
       "      <th>673</th>\n",
       "      <td>USA</td>\n",
       "      <td>1984</td>\n",
       "      <td>Los Angeles</td>\n",
       "      <td>USA_Volleyball</td>\n",
       "      <td>Volleyball</td>\n",
       "    </tr>\n",
       "    <tr>\n",
       "      <th>683</th>\n",
       "      <td>USA</td>\n",
       "      <td>1984</td>\n",
       "      <td>Los Angeles</td>\n",
       "      <td>USA_Synchronized Swimming</td>\n",
       "      <td>Synchronized Swimming</td>\n",
       "    </tr>\n",
       "    <tr>\n",
       "      <th>817</th>\n",
       "      <td>USA</td>\n",
       "      <td>1996</td>\n",
       "      <td>Atlanta</td>\n",
       "      <td>USA_Baseball</td>\n",
       "      <td>Baseball</td>\n",
       "    </tr>\n",
       "    <tr>\n",
       "      <th>830</th>\n",
       "      <td>USA</td>\n",
       "      <td>1996</td>\n",
       "      <td>Atlanta</td>\n",
       "      <td>USA_Softball</td>\n",
       "      <td>Softball</td>\n",
       "    </tr>\n",
       "    <tr>\n",
       "      <th>845</th>\n",
       "      <td>USA</td>\n",
       "      <td>1996</td>\n",
       "      <td>Atlanta</td>\n",
       "      <td>USA_Beach Volleyball</td>\n",
       "      <td>Beach Volleyball</td>\n",
       "    </tr>\n",
       "    <tr>\n",
       "      <th>959</th>\n",
       "      <td>USA</td>\n",
       "      <td>2000</td>\n",
       "      <td>Sydney</td>\n",
       "      <td>USA_Taekwondo</td>\n",
       "      <td>Taekwondo</td>\n",
       "    </tr>\n",
       "    <tr>\n",
       "      <th>1046</th>\n",
       "      <td>USA</td>\n",
       "      <td>2004</td>\n",
       "      <td>Athina</td>\n",
       "      <td>USA_Triathlon</td>\n",
       "      <td>Triathlon</td>\n",
       "    </tr>\n",
       "    <tr>\n",
       "      <th>1243</th>\n",
       "      <td>USA</td>\n",
       "      <td>2021</td>\n",
       "      <td>Tokyo</td>\n",
       "      <td>USA_Sport Climbing</td>\n",
       "      <td>Sport Climbing</td>\n",
       "    </tr>\n",
       "    <tr>\n",
       "      <th>1249</th>\n",
       "      <td>USA</td>\n",
       "      <td>2021</td>\n",
       "      <td>Tokyo</td>\n",
       "      <td>USA_3x3 Basketball</td>\n",
       "      <td>3x3 Basketball</td>\n",
       "    </tr>\n",
       "    <tr>\n",
       "      <th>1252</th>\n",
       "      <td>USA</td>\n",
       "      <td>2021</td>\n",
       "      <td>Tokyo</td>\n",
       "      <td>USA_Skateboarding</td>\n",
       "      <td>Skateboarding</td>\n",
       "    </tr>\n",
       "    <tr>\n",
       "      <th>1284</th>\n",
       "      <td>USA</td>\n",
       "      <td>2021</td>\n",
       "      <td>Tokyo</td>\n",
       "      <td>USA_Surfing</td>\n",
       "      <td>Surfing</td>\n",
       "    </tr>\n",
       "    <tr>\n",
       "      <th>1302</th>\n",
       "      <td>USA</td>\n",
       "      <td>2021</td>\n",
       "      <td>Tokyo</td>\n",
       "      <td>USA_Karate</td>\n",
       "      <td>Karate</td>\n",
       "    </tr>\n",
       "  </tbody>\n",
       "</table>\n",
       "</div>"
      ],
      "text/plain": [
       "      NOC  Year         City                   Columna2                  Sport\n",
       "3     USA  1896       Athina              USA_Athletics              Athletics\n",
       "28    USA  1896       Athina               USA_Shooting               Shooting\n",
       "35    USA  1900        Paris                   USA_Golf                   Golf\n",
       "36    USA  1900        Paris                 USA_Rowing                 Rowing\n",
       "67    USA  1900        Paris                 USA_Tennis                 Tennis\n",
       "88    USA  1900        Paris                   USA_Polo                   Polo\n",
       "89    USA  1900        Paris                USA_Cycling                Cycling\n",
       "93    USA  1900        Paris                USA_Sailing                Sailing\n",
       "99    USA  1900        Paris                  USA_Rugby                  Rugby\n",
       "105   USA  1904    St. Louis               USA_Swimming               Swimming\n",
       "108   USA  1904    St. Louis               USA_Football               Football\n",
       "109   USA  1904    St. Louis              USA_Wrestling              Wrestling\n",
       "110   USA  1904    St. Louis             USA_Water Polo             Water Polo\n",
       "111   USA  1904    St. Louis                 USA_Boxing                 Boxing\n",
       "112   USA  1904    St. Louis             USA_Gymnastics             Gymnastics\n",
       "113   USA  1904    St. Louis             USA_Tug-Of-War             Tug-Of-War\n",
       "114   USA  1904    St. Louis                  USA_Roque                  Roque\n",
       "115   USA  1904    St. Louis                USA_Archery                Archery\n",
       "117   USA  1904    St. Louis               USA_Lacrosse               Lacrosse\n",
       "119   USA  1904    St. Louis                USA_Fencing                Fencing\n",
       "121   USA  1904    St. Louis                 USA_Diving                 Diving\n",
       "126   USA  1904    St. Louis          USA_Weightlifting          Weightlifting\n",
       "179   USA  1908       London           USA_Jeu De Paume           Jeu De Paume\n",
       "212   USA  1912    Stockholm          USA_Equestrianism          Equestrianism\n",
       "224   USA  1912    Stockholm       USA_Art Competitions       Art Competitions\n",
       "237   USA  1920    Antwerpen             USA_Ice Hockey             Ice Hockey\n",
       "263   USA  1920    Antwerpen         USA_Figure Skating         Figure Skating\n",
       "344   USA  1932  Los Angeles                 USA_Hockey                 Hockey\n",
       "352   USA  1932  Los Angeles      USA_Modern Pentathlon      Modern Pentathlon\n",
       "364   USA  1936       Berlin             USA_Basketball             Basketball\n",
       "389   USA  1936       Berlin               USA_Canoeing               Canoeing\n",
       "517   USA  1964        Tokyo                   USA_Judo                   Judo\n",
       "673   USA  1984  Los Angeles             USA_Volleyball             Volleyball\n",
       "683   USA  1984  Los Angeles  USA_Synchronized Swimming  Synchronized Swimming\n",
       "817   USA  1996      Atlanta               USA_Baseball               Baseball\n",
       "830   USA  1996      Atlanta               USA_Softball               Softball\n",
       "845   USA  1996      Atlanta       USA_Beach Volleyball       Beach Volleyball\n",
       "959   USA  2000       Sydney              USA_Taekwondo              Taekwondo\n",
       "1046  USA  2004       Athina              USA_Triathlon              Triathlon\n",
       "1243  USA  2021        Tokyo         USA_Sport Climbing         Sport Climbing\n",
       "1249  USA  2021        Tokyo         USA_3x3 Basketball         3x3 Basketball\n",
       "1252  USA  2021        Tokyo          USA_Skateboarding          Skateboarding\n",
       "1284  USA  2021        Tokyo                USA_Surfing                Surfing\n",
       "1302  USA  2021        Tokyo                 USA_Karate                 Karate"
      ]
     },
     "execution_count": 83,
     "metadata": {},
     "output_type": "execute_result"
    }
   ],
   "source": [
    "acumulado_por_anio[acumulado_por_anio[\"NOC\"]==\"USA\"]"
   ]
  }
 ],
 "metadata": {
  "kernelspec": {
   "display_name": "Python 3",
   "language": "python",
   "name": "python3"
  },
  "language_info": {
   "codemirror_mode": {
    "name": "ipython",
    "version": 3
   },
   "file_extension": ".py",
   "mimetype": "text/x-python",
   "name": "python",
   "nbconvert_exporter": "python",
   "pygments_lexer": "ipython3",
   "version": "3.7.4"
  },
  "orig_nbformat": 4
 },
 "nbformat": 4,
 "nbformat_minor": 2
}
