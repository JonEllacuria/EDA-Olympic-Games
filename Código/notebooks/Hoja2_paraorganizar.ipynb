{
 "cells": [
  {
   "cell_type": "code",
   "execution_count": 3,
   "metadata": {},
   "outputs": [],
   "source": [
    "import pandas as pd\n",
    "import seaborn as sns\n",
    "import matplotlib.pyplot as plt\n",
    "import plotly.express as px\n",
    "import plotly.graph_objs as go\n",
    "from plotly.subplots import make_subplots\n",
    "from plotly.offline import init_notebook_mode, iplot, plot\n",
    "import plotly.offline as pyo\n",
    "import matplotlib"
   ]
  },
  {
   "cell_type": "code",
   "execution_count": 4,
   "metadata": {},
   "outputs": [],
   "source": [
    "#Vamos con el DF de las Medallas"
   ]
  },
  {
   "cell_type": "code",
   "execution_count": 5,
   "metadata": {},
   "outputs": [],
   "source": [
    "med_2021=pd.read_csv(\"data/Medallas/2021.csv\",sep=\";\")\n",
    "med_2016=pd.read_csv(\"data/Medallas/2016.csv\",sep=\";\")\n",
    "med_2012=pd.read_csv(\"data/Medallas/2012.csv\",sep=\";\")\n",
    "med_2008=pd.read_csv(\"data/Medallas/2008.csv\",sep=\";\")\n",
    "med_2004=pd.read_csv(\"data/Medallas/2004.csv\",sep=\";\")\n",
    "med_2000=pd.read_csv(\"data/Medallas/2000.csv\",sep=\";\")\n",
    "med_1996=pd.read_csv(\"data/Medallas/1996.csv\",sep=\";\")\n",
    "med_1992=pd.read_csv(\"data/Medallas/1992.csv\",sep=\";\")\n",
    "med_1988=pd.read_csv(\"data/Medallas/1988.csv\",sep=\";\")\n",
    "med_1984=pd.read_csv(\"data/Medallas/1984.csv\",sep=\";\")\n",
    "med_1980=pd.read_csv(\"data/Medallas/1980.csv\",sep=\";\")\n",
    "med_1976=pd.read_csv(\"data/Medallas/1976.csv\",sep=\";\")\n",
    "med_1972=pd.read_csv(\"data/Medallas/1972.csv\",sep=\";\")\n",
    "med_1968=pd.read_csv(\"data/Medallas/1968.csv\",sep=\";\")\n",
    "med_1964=pd.read_csv(\"data/Medallas/1964.csv\",sep=\";\")\n",
    "med_1960=pd.read_csv(\"data/Medallas/1960.csv\",sep=\";\")\n",
    "med_1956=pd.read_csv(\"data/Medallas/1956.csv\",sep=\";\")\n",
    "med_1952=pd.read_csv(\"data/Medallas/1952.csv\",sep=\";\")\n",
    "med_1948=pd.read_csv(\"data/Medallas/1948.csv\",sep=\";\")\n",
    "med_1936=pd.read_csv(\"data/Medallas/1936.csv\",sep=\";\")\n",
    "med_1932=pd.read_csv(\"data/Medallas/1932.csv\",sep=\";\")\n",
    "med_1928=pd.read_csv(\"data/Medallas/1928.csv\",sep=\";\")\n",
    "med_1924=pd.read_csv(\"data/Medallas/1924.csv\",sep=\";\")\n",
    "med_1920=pd.read_csv(\"data/Medallas/1920.csv\",sep=\";\")\n",
    "med_1912=pd.read_csv(\"data/Medallas/1912.csv\",sep=\";\")\n",
    "med_1908=pd.read_csv(\"data/Medallas/1908.csv\",sep=\";\")\n",
    "med_1904=pd.read_csv(\"data/Medallas/1904.csv\",sep=\";\")\n",
    "med_1900=pd.read_csv(\"data/Medallas/1900.csv\",sep=\";\")\n",
    "med_1896=pd.read_csv(\"data/Medallas/1896.csv\",sep=\";\")"
   ]
  },
  {
   "cell_type": "code",
   "execution_count": 6,
   "metadata": {},
   "outputs": [],
   "source": [
    "med_2021[\"Año\"]=\"2021\"\n",
    "med_2016[\"Año\"]=\"2016\"\n",
    "med_2012[\"Año\"]=\"2012\"\n",
    "med_2008[\"Año\"]=\"2008\"\n",
    "med_2004[\"Año\"]=\"2004\"\n",
    "med_2000[\"Año\"]=\"2000\"\n",
    "med_1996[\"Año\"]=\"1996\"\n",
    "med_1992[\"Año\"]=\"1992\"\n",
    "med_1988[\"Año\"]=\"1988\"\n",
    "med_1984[\"Año\"]=\"1984\"\n",
    "med_1980[\"Año\"]=\"1980\"\n",
    "med_1976[\"Año\"]=\"1976\"\n",
    "med_1972[\"Año\"]=\"1972\"\n",
    "med_1968[\"Año\"]=\"1968\"\n",
    "med_1964[\"Año\"]=\"1964\"\n",
    "med_1960[\"Año\"]=\"1960\"\n",
    "med_1956[\"Año\"]=\"1956\"\n",
    "med_1952[\"Año\"]=\"1952\"\n",
    "med_1948[\"Año\"]=\"1948\"\n",
    "med_1936[\"Año\"]=\"1936\"\n",
    "med_1932[\"Año\"]=\"1932\"\n",
    "med_1928[\"Año\"]=\"1928\"\n",
    "med_1924[\"Año\"]=\"1924\"\n",
    "med_1920[\"Año\"]=\"1920\"\n",
    "med_1912[\"Año\"]=\"1912\"\n",
    "med_1908[\"Año\"]=\"1908\"\n",
    "med_1904[\"Año\"]=\"1904\"\n",
    "med_1900[\"Año\"]=\"1900\"\n",
    "med_1896[\"Año\"]=\"1896\""
   ]
  },
  {
   "cell_type": "code",
   "execution_count": 7,
   "metadata": {},
   "outputs": [],
   "source": [
    "med_2021.dropna(inplace=True)\n",
    "med_2016.dropna(inplace=True)\n",
    "med_2012.dropna(inplace=True)\n",
    "med_2008.dropna(inplace=True)\n",
    "med_2004.dropna(inplace=True)\n",
    "med_2000.dropna(inplace=True)\n",
    "med_1996.dropna(inplace=True)\n",
    "med_1992.dropna(inplace=True)\n",
    "med_1988.dropna(inplace=True)\n",
    "med_1984.dropna(inplace=True)\n",
    "med_1980.dropna(inplace=True)\n",
    "med_1976.dropna(inplace=True)\n",
    "med_1972.dropna(inplace=True)\n",
    "med_1968.dropna(inplace=True)\n",
    "med_1964.dropna(inplace=True)\n",
    "med_1960.dropna(inplace=True)\n",
    "med_1956.dropna(inplace=True)\n",
    "med_1952.dropna(inplace=True)\n",
    "med_1948.dropna(inplace=True)\n",
    "med_1936.dropna(inplace=True)\n",
    "med_1932.dropna(inplace=True)\n",
    "med_1928.dropna(inplace=True)\n",
    "med_1924.dropna(inplace=True)\n",
    "med_1920.dropna(inplace=True)\n",
    "med_1912.dropna(inplace=True)\n",
    "med_1908.dropna(inplace=True)\n",
    "med_1904.dropna(inplace=True)\n",
    "med_1900.dropna(inplace=True)\n",
    "med_1896.dropna(inplace=True)\n",
    "#Hasta aquí bien"
   ]
  },
  {
   "cell_type": "code",
   "execution_count": 8,
   "metadata": {},
   "outputs": [],
   "source": [
    "dfs_med=[med_1896,med_1900,med_1904,med_1908,med_1912,med_1920,med_1924,med_1928,med_1932,med_1936,\n",
    "         med_1948,med_1952,med_1956,med_1960,med_1964,med_1968,med_1972,med_1976,med_1980,med_1984,\n",
    "         med_1988,med_1992,med_1996,med_2000,med_2004,med_2008,med_2012,med_2016,med_2021]\n",
    "\n",
    "\n"
   ]
  },
  {
   "cell_type": "code",
   "execution_count": 9,
   "metadata": {},
   "outputs": [],
   "source": [
    "#medallas_total=med_1896\n",
    "\n",
    "#for i in dfs_med[1:]:\n",
    "#    medallas_total=pd.merge(medallas_total,i,on=\"País\",how=\"outer\")"
   ]
  },
  {
   "cell_type": "code",
   "execution_count": 10,
   "metadata": {},
   "outputs": [],
   "source": [
    "df_total_medallas= pd.concat(dfs_med, ignore_index=True)"
   ]
  },
  {
   "cell_type": "code",
   "execution_count": 11,
   "metadata": {},
   "outputs": [
    {
     "data": {
      "text/html": [
       "<div>\n",
       "<style scoped>\n",
       "    .dataframe tbody tr th:only-of-type {\n",
       "        vertical-align: middle;\n",
       "    }\n",
       "\n",
       "    .dataframe tbody tr th {\n",
       "        vertical-align: top;\n",
       "    }\n",
       "\n",
       "    .dataframe thead th {\n",
       "        text-align: right;\n",
       "    }\n",
       "</style>\n",
       "<table border=\"1\" class=\"dataframe\">\n",
       "  <thead>\n",
       "    <tr style=\"text-align: right;\">\n",
       "      <th></th>\n",
       "      <th>País</th>\n",
       "      <th>Oro</th>\n",
       "      <th>Plata</th>\n",
       "      <th>Bronce</th>\n",
       "      <th>Total</th>\n",
       "      <th>Año</th>\n",
       "    </tr>\n",
       "  </thead>\n",
       "  <tbody>\n",
       "    <tr>\n",
       "      <th>0</th>\n",
       "      <td>Australia</td>\n",
       "      <td>2.0</td>\n",
       "      <td>-</td>\n",
       "      <td>1</td>\n",
       "      <td>3.0</td>\n",
       "      <td>1896</td>\n",
       "    </tr>\n",
       "    <tr>\n",
       "      <th>1</th>\n",
       "      <td>Austria</td>\n",
       "      <td>2.0</td>\n",
       "      <td>1</td>\n",
       "      <td>2</td>\n",
       "      <td>5.0</td>\n",
       "      <td>1896</td>\n",
       "    </tr>\n",
       "    <tr>\n",
       "      <th>2</th>\n",
       "      <td>Denmark</td>\n",
       "      <td>1.0</td>\n",
       "      <td>2</td>\n",
       "      <td>3</td>\n",
       "      <td>6.0</td>\n",
       "      <td>1896</td>\n",
       "    </tr>\n",
       "    <tr>\n",
       "      <th>3</th>\n",
       "      <td>France</td>\n",
       "      <td>5.0</td>\n",
       "      <td>4</td>\n",
       "      <td>2</td>\n",
       "      <td>11.0</td>\n",
       "      <td>1896</td>\n",
       "    </tr>\n",
       "    <tr>\n",
       "      <th>4</th>\n",
       "      <td>Germany</td>\n",
       "      <td>7.0</td>\n",
       "      <td>5</td>\n",
       "      <td>2</td>\n",
       "      <td>14.0</td>\n",
       "      <td>1896</td>\n",
       "    </tr>\n",
       "    <tr>\n",
       "      <th>...</th>\n",
       "      <td>...</td>\n",
       "      <td>...</td>\n",
       "      <td>...</td>\n",
       "      <td>...</td>\n",
       "      <td>...</td>\n",
       "      <td>...</td>\n",
       "    </tr>\n",
       "    <tr>\n",
       "      <th>1342</th>\n",
       "      <td>Uganda</td>\n",
       "      <td>2</td>\n",
       "      <td>1</td>\n",
       "      <td>1</td>\n",
       "      <td>4.0</td>\n",
       "      <td>2021</td>\n",
       "    </tr>\n",
       "    <tr>\n",
       "      <th>1343</th>\n",
       "      <td>Ukraine</td>\n",
       "      <td>1</td>\n",
       "      <td>6</td>\n",
       "      <td>12</td>\n",
       "      <td>19.0</td>\n",
       "      <td>2021</td>\n",
       "    </tr>\n",
       "    <tr>\n",
       "      <th>1344</th>\n",
       "      <td>United States of America</td>\n",
       "      <td>39</td>\n",
       "      <td>41</td>\n",
       "      <td>33</td>\n",
       "      <td>113.0</td>\n",
       "      <td>2021</td>\n",
       "    </tr>\n",
       "    <tr>\n",
       "      <th>1345</th>\n",
       "      <td>Uzbekistan</td>\n",
       "      <td>3</td>\n",
       "      <td>-</td>\n",
       "      <td>2</td>\n",
       "      <td>5.0</td>\n",
       "      <td>2021</td>\n",
       "    </tr>\n",
       "    <tr>\n",
       "      <th>1346</th>\n",
       "      <td>Venezuela</td>\n",
       "      <td>1</td>\n",
       "      <td>3</td>\n",
       "      <td>0</td>\n",
       "      <td>4.0</td>\n",
       "      <td>2021</td>\n",
       "    </tr>\n",
       "  </tbody>\n",
       "</table>\n",
       "<p>1347 rows × 6 columns</p>\n",
       "</div>"
      ],
      "text/plain": [
       "                          País  Oro Plata Bronce  Total   Año\n",
       "0                    Australia  2.0     -      1    3.0  1896\n",
       "1                      Austria  2.0     1      2    5.0  1896\n",
       "2                      Denmark  1.0     2      3    6.0  1896\n",
       "3                       France  5.0     4      2   11.0  1896\n",
       "4                      Germany  7.0     5      2   14.0  1896\n",
       "...                        ...  ...   ...    ...    ...   ...\n",
       "1342                    Uganda    2     1      1    4.0  2021\n",
       "1343                   Ukraine    1     6     12   19.0  2021\n",
       "1344  United States of America   39    41     33  113.0  2021\n",
       "1345                Uzbekistan    3     -      2    5.0  2021\n",
       "1346                 Venezuela    1     3      0    4.0  2021\n",
       "\n",
       "[1347 rows x 6 columns]"
      ]
     },
     "execution_count": 11,
     "metadata": {},
     "output_type": "execute_result"
    }
   ],
   "source": [
    "df_total_medallas"
   ]
  },
  {
   "cell_type": "code",
   "execution_count": 12,
   "metadata": {},
   "outputs": [
    {
     "name": "stdout",
     "output_type": "stream",
     "text": [
      "<class 'pandas.core.frame.DataFrame'>\n",
      "RangeIndex: 1347 entries, 0 to 1346\n",
      "Data columns (total 6 columns):\n",
      " #   Column  Non-Null Count  Dtype  \n",
      "---  ------  --------------  -----  \n",
      " 0   País    1347 non-null   object \n",
      " 1   Oro     1347 non-null   object \n",
      " 2   Plata   1347 non-null   object \n",
      " 3   Bronce  1347 non-null   object \n",
      " 4   Total   1347 non-null   float64\n",
      " 5   Año     1347 non-null   object \n",
      "dtypes: float64(1), object(5)\n",
      "memory usage: 63.3+ KB\n"
     ]
    }
   ],
   "source": [
    "df_total_medallas.info()"
   ]
  },
  {
   "cell_type": "code",
   "execution_count": 13,
   "metadata": {},
   "outputs": [],
   "source": [
    "df_total_medallas.set_index(\"País\",inplace=True)"
   ]
  },
  {
   "cell_type": "code",
   "execution_count": 14,
   "metadata": {},
   "outputs": [],
   "source": [
    "df_total_medallas = df_total_medallas.replace([\"-\", \"NaN\"], 0)"
   ]
  },
  {
   "cell_type": "code",
   "execution_count": 15,
   "metadata": {},
   "outputs": [],
   "source": [
    "df_total_medallas[[\"Oro\",\"Plata\",\"Bronce\"]]=df_total_medallas[[\"Oro\",\"Plata\",\"Bronce\"]].astype(int)"
   ]
  },
  {
   "cell_type": "code",
   "execution_count": 16,
   "metadata": {},
   "outputs": [
    {
     "data": {
      "text/html": [
       "<div>\n",
       "<style scoped>\n",
       "    .dataframe tbody tr th:only-of-type {\n",
       "        vertical-align: middle;\n",
       "    }\n",
       "\n",
       "    .dataframe tbody tr th {\n",
       "        vertical-align: top;\n",
       "    }\n",
       "\n",
       "    .dataframe thead th {\n",
       "        text-align: right;\n",
       "    }\n",
       "</style>\n",
       "<table border=\"1\" class=\"dataframe\">\n",
       "  <thead>\n",
       "    <tr style=\"text-align: right;\">\n",
       "      <th></th>\n",
       "      <th>Oro</th>\n",
       "      <th>Plata</th>\n",
       "      <th>Bronce</th>\n",
       "      <th>Total</th>\n",
       "      <th>Año</th>\n",
       "    </tr>\n",
       "    <tr>\n",
       "      <th>País</th>\n",
       "      <th></th>\n",
       "      <th></th>\n",
       "      <th></th>\n",
       "      <th></th>\n",
       "      <th></th>\n",
       "    </tr>\n",
       "  </thead>\n",
       "  <tbody>\n",
       "    <tr>\n",
       "      <th>Australia</th>\n",
       "      <td>2</td>\n",
       "      <td>0</td>\n",
       "      <td>1</td>\n",
       "      <td>3.0</td>\n",
       "      <td>1896</td>\n",
       "    </tr>\n",
       "    <tr>\n",
       "      <th>Austria</th>\n",
       "      <td>2</td>\n",
       "      <td>1</td>\n",
       "      <td>2</td>\n",
       "      <td>5.0</td>\n",
       "      <td>1896</td>\n",
       "    </tr>\n",
       "    <tr>\n",
       "      <th>Denmark</th>\n",
       "      <td>1</td>\n",
       "      <td>2</td>\n",
       "      <td>3</td>\n",
       "      <td>6.0</td>\n",
       "      <td>1896</td>\n",
       "    </tr>\n",
       "    <tr>\n",
       "      <th>France</th>\n",
       "      <td>5</td>\n",
       "      <td>4</td>\n",
       "      <td>2</td>\n",
       "      <td>11.0</td>\n",
       "      <td>1896</td>\n",
       "    </tr>\n",
       "    <tr>\n",
       "      <th>Germany</th>\n",
       "      <td>7</td>\n",
       "      <td>5</td>\n",
       "      <td>2</td>\n",
       "      <td>14.0</td>\n",
       "      <td>1896</td>\n",
       "    </tr>\n",
       "    <tr>\n",
       "      <th>...</th>\n",
       "      <td>...</td>\n",
       "      <td>...</td>\n",
       "      <td>...</td>\n",
       "      <td>...</td>\n",
       "      <td>...</td>\n",
       "    </tr>\n",
       "    <tr>\n",
       "      <th>Uganda</th>\n",
       "      <td>2</td>\n",
       "      <td>1</td>\n",
       "      <td>1</td>\n",
       "      <td>4.0</td>\n",
       "      <td>2021</td>\n",
       "    </tr>\n",
       "    <tr>\n",
       "      <th>Ukraine</th>\n",
       "      <td>1</td>\n",
       "      <td>6</td>\n",
       "      <td>12</td>\n",
       "      <td>19.0</td>\n",
       "      <td>2021</td>\n",
       "    </tr>\n",
       "    <tr>\n",
       "      <th>United States of America</th>\n",
       "      <td>39</td>\n",
       "      <td>41</td>\n",
       "      <td>33</td>\n",
       "      <td>113.0</td>\n",
       "      <td>2021</td>\n",
       "    </tr>\n",
       "    <tr>\n",
       "      <th>Uzbekistan</th>\n",
       "      <td>3</td>\n",
       "      <td>0</td>\n",
       "      <td>2</td>\n",
       "      <td>5.0</td>\n",
       "      <td>2021</td>\n",
       "    </tr>\n",
       "    <tr>\n",
       "      <th>Venezuela</th>\n",
       "      <td>1</td>\n",
       "      <td>3</td>\n",
       "      <td>0</td>\n",
       "      <td>4.0</td>\n",
       "      <td>2021</td>\n",
       "    </tr>\n",
       "  </tbody>\n",
       "</table>\n",
       "<p>1347 rows × 5 columns</p>\n",
       "</div>"
      ],
      "text/plain": [
       "                          Oro  Plata  Bronce  Total   Año\n",
       "País                                                     \n",
       "Australia                   2      0       1    3.0  1896\n",
       "Austria                     2      1       2    5.0  1896\n",
       "Denmark                     1      2       3    6.0  1896\n",
       "France                      5      4       2   11.0  1896\n",
       "Germany                     7      5       2   14.0  1896\n",
       "...                       ...    ...     ...    ...   ...\n",
       "Uganda                      2      1       1    4.0  2021\n",
       "Ukraine                     1      6      12   19.0  2021\n",
       "United States of America   39     41      33  113.0  2021\n",
       "Uzbekistan                  3      0       2    5.0  2021\n",
       "Venezuela                   1      3       0    4.0  2021\n",
       "\n",
       "[1347 rows x 5 columns]"
      ]
     },
     "execution_count": 16,
     "metadata": {},
     "output_type": "execute_result"
    }
   ],
   "source": [
    "df_total_medallas"
   ]
  },
  {
   "cell_type": "code",
   "execution_count": 17,
   "metadata": {},
   "outputs": [
    {
     "data": {
      "text/plain": [
       "16872.0"
      ]
     },
     "execution_count": 17,
     "metadata": {},
     "output_type": "execute_result"
    }
   ],
   "source": [
    "df_total_medallas[\"Total\"].sum()"
   ]
  },
  {
   "cell_type": "code",
   "execution_count": 18,
   "metadata": {},
   "outputs": [
    {
     "data": {
      "text/plain": [
       "48"
      ]
     },
     "execution_count": 18,
     "metadata": {},
     "output_type": "execute_result"
    }
   ],
   "source": [
    "df_total_medallas.loc[\"Spain\",\"Oro\"].sum()"
   ]
  },
  {
   "attachments": {},
   "cell_type": "markdown",
   "metadata": {},
   "source": [
    "---\n",
    "---\n",
    "---\n",
    "Voy a limpiar a mano algunos datos"
   ]
  },
  {
   "cell_type": "code",
   "execution_count": 19,
   "metadata": {},
   "outputs": [
    {
     "data": {
      "text/plain": [
       "Index(['Australia', 'Austria', 'Denmark', 'France', 'Germany', 'Great Britain',\n",
       "       'Greece', 'Hungary', 'MIX', 'Switzerland',\n",
       "       ...\n",
       "       'Grenada', 'Guatemala', 'Montenegro', 'Fiji', 'Jordan', 'Kosovo',\n",
       "       'Burkina Faso', 'ROC', 'San Marino', 'Turkmenistan'],\n",
       "      dtype='object', name='País', length=153)"
      ]
     },
     "execution_count": 19,
     "metadata": {},
     "output_type": "execute_result"
    }
   ],
   "source": [
    "df_total_medallas.index.unique()"
   ]
  },
  {
   "cell_type": "code",
   "execution_count": 20,
   "metadata": {},
   "outputs": [
    {
     "name": "stdout",
     "output_type": "stream",
     "text": [
      "Australia\n",
      "Austria\n",
      "Denmark\n",
      "France\n",
      "Germany\n",
      "Great Britain\n",
      "Greece\n",
      "Hungary\n",
      "MIX\n",
      "Switzerland\n",
      "United States of America\n",
      "Belgium\n",
      "Italy\n",
      "Cuba\n",
      "Canada\n",
      "Spain\n",
      "Norway\n",
      "India\n",
      "Netherlands\n",
      "Czech Republic\n",
      "Mexico\n",
      "Sweden\n",
      "Australasia\n",
      "Bohemia\n",
      "Finland\n",
      "Russian Federation\n",
      "South Africa\n",
      "Brazil\n",
      "Czechoslovakia\n",
      "Estonia\n",
      "Japan\n",
      "Luxembourg\n",
      "New Zealand\n",
      "Argentina\n",
      "Haiti\n",
      "Ireland\n",
      "Monaco\n",
      "Poland\n",
      "Portugal\n",
      "Romania\n",
      "Uruguay\n",
      "Yugoslavia\n",
      "Chile\n",
      "Egypt\n",
      "Philippines\n",
      "Latvia\n",
      "Türkiye\n",
      "Islamic Republic of Iran\n",
      "Jamaica\n",
      "Panama\n",
      "Peru\n",
      "Puerto Rico\n",
      "Republic of Korea\n",
      "Sri Lanka\n",
      "Trinidad and Tobago\n",
      "Bulgaria\n",
      "Lebanon\n",
      "Soviet Union\n",
      "Venezuela\n",
      "Bahamas\n",
      "Iceland\n",
      "Pakistan\n",
      "Chinese Taipei\n",
      "Ethiopia\n",
      "Ghana\n",
      "Iraq\n",
      "Morocco\n",
      "Singapore\n",
      "United Arab Republic\n",
      "West Indies Federation\n",
      "Kenya\n",
      "Nigeria\n",
      "Tunisia\n",
      "Cameroon\n",
      "Federal Republic of Germany\n",
      "German Democratic Republic (Germany)\n",
      "Mongolia\n",
      "Uganda\n",
      "Colombia\n",
      "Democratic People's Republic of Korea\n",
      "Niger\n",
      "Bermuda\n",
      "Thailand\n",
      "Guyana\n",
      "United Republic of Tanzania\n",
      "Zimbabwe\n",
      "Algeria\n",
      "Côte d'Ivoire\n",
      "Dominican Republic\n",
      "People's Republic of China\n",
      "Syrian Arab Republic\n",
      "Zambia\n",
      "Costa Rica\n",
      "Djibouti\n",
      "Indonesia\n",
      "Netherlands Antilles\n",
      "Senegal\n",
      "Suriname\n",
      "Virgin Islands, US\n",
      "Croatia\n",
      "Independent Olympic Athletes\n",
      "Israel\n",
      "Lithuania\n",
      "Malaysia\n",
      "Namibia\n",
      "Qatar\n",
      "Slovenia\n",
      "Unified Team\n",
      "Armenia\n",
      "Azerbaijan\n",
      "Belarus\n",
      "Burundi\n",
      "Ecuador\n",
      "Georgia\n",
      "Hong Kong, China\n",
      "Kazakhstan\n",
      "Mozambique\n",
      "Republic of Moldova\n",
      "Serbia and Montenegro\n",
      "Slovakia\n",
      "Tonga\n",
      "Ukraine\n",
      "Uzbekistan\n",
      "Barbados\n",
      "Kuwait\n",
      "Kyrgyzstan\n",
      "North Macedonia\n",
      "Saudi Arabia\n",
      "Vietnam\n",
      "Eritrea\n",
      "Paraguay\n",
      "United Arab Emirates\n",
      "Afghanistan\n",
      "Mauritius\n",
      "Samoa\n",
      "Serbia\n",
      "Sudan\n",
      "Tajikistan\n",
      "Togo\n",
      "Bahrain\n",
      "Botswana\n",
      "Cyprus\n",
      "Gabon\n",
      "Grenada\n",
      "Guatemala\n",
      "Montenegro\n",
      "Fiji\n",
      "Jordan\n",
      "Kosovo\n",
      "Burkina Faso\n",
      "ROC\n",
      "San Marino\n",
      "Turkmenistan\n"
     ]
    }
   ],
   "source": [
    "for i in df_total_medallas.index.unique():\n",
    "    print(i)"
   ]
  },
  {
   "cell_type": "code",
   "execution_count": 21,
   "metadata": {},
   "outputs": [
    {
     "name": "stdout",
     "output_type": "stream",
     "text": [
      "People's Republic of China\n",
      "Hong Kong, China\n"
     ]
    }
   ],
   "source": [
    "for i in df_total_medallas.index.unique():\n",
    "    if \"hina\" in i:\n",
    "        print(i)"
   ]
  },
  {
   "cell_type": "code",
   "execution_count": 22,
   "metadata": {},
   "outputs": [],
   "source": [
    "df_total_medallas = df_total_medallas.rename(index={\"Australasia\": \"Australia\"}) #Cambiamos Australasia\n",
    "df_total_medallas = df_total_medallas.rename(index={\"Czechoslovakia\": \"Czech Republic\"})\n",
    "df_total_medallas = df_total_medallas.rename(index={\"Bohemia\": \"Czech Republic\"})\n",
    "df_total_medallas = df_total_medallas.rename(index={\"German Democratic Republic (Germany)\": \"Germany\"})\n",
    "df_total_medallas = df_total_medallas.rename(index={\"Federal Republic of Germany\": \"Germany\"})\n",
    "df_total_medallas = df_total_medallas.rename(index={\"Soviet Union\": \"Russian Federation\"})\n",
    "\n",
    "\n",
    "#Federal Republic of Germany\n",
    "#German Democratic Republic (Germany)\n",
    "#China\n",
    "#Korea\n",
    "#Russia, URSS, ROC\n",
    "#Germany\n",
    "#Yugoslavia, Serbia, Serbia y Montenegro. Lo dejo diferenciados\n"
   ]
  },
  {
   "cell_type": "code",
   "execution_count": 23,
   "metadata": {},
   "outputs": [
    {
     "name": "stdout",
     "output_type": "stream",
     "text": [
      "[]\n"
     ]
    }
   ],
   "source": [
    "df_australia = df_total_medallas[df_total_medallas.index == \"Federal Republic of Germany\"]\n",
    "años_australia = df_australia[\"Año\"].unique()\n",
    "print(años_australia)"
   ]
  },
  {
   "cell_type": "code",
   "execution_count": 24,
   "metadata": {},
   "outputs": [
    {
     "name": "stdout",
     "output_type": "stream",
     "text": [
      "['1896' '1900' '1904' '1908' '1912' '1928' '1932' '1936' '1952' '1956'\n",
      " '1960' '1964' '1968' '1972' '1976' '1980' '1984' '1988' '1992' '1996'\n",
      " '2000' '2004' '2008' '2012' '2016' '2021']\n"
     ]
    }
   ],
   "source": [
    "df_australia = df_total_medallas[df_total_medallas.index == \"Germany\"]\n",
    "años_australia = df_australia[\"Año\"].unique()\n",
    "print(años_australia)"
   ]
  },
  {
   "attachments": {},
   "cell_type": "markdown",
   "metadata": {},
   "source": [
    "---\n",
    "---\n",
    "---\n",
    "Empiezan los gráficos"
   ]
  },
  {
   "cell_type": "code",
   "execution_count": 25,
   "metadata": {},
   "outputs": [],
   "source": [
    "import seaborn as sns\n",
    "import matplotlib.pyplot as plt\n",
    "import plotly.express as px\n",
    "import plotly.graph_objs as go\n",
    "from plotly.subplots import make_subplots\n",
    "from plotly.offline import init_notebook_mode, iplot, plot\n",
    "\n"
   ]
  },
  {
   "cell_type": "code",
   "execution_count": 26,
   "metadata": {},
   "outputs": [],
   "source": [
    "agrupado_total_medallas=df_total_medallas.groupby(df_total_medallas.index).sum()"
   ]
  },
  {
   "cell_type": "code",
   "execution_count": 27,
   "metadata": {},
   "outputs": [],
   "source": [
    "top_10_medallas=agrupado_total_medallas.nlargest(10,\"Total\")"
   ]
  },
  {
   "cell_type": "code",
   "execution_count": 28,
   "metadata": {},
   "outputs": [
    {
     "data": {
      "text/html": [
       "<div>\n",
       "<style scoped>\n",
       "    .dataframe tbody tr th:only-of-type {\n",
       "        vertical-align: middle;\n",
       "    }\n",
       "\n",
       "    .dataframe tbody tr th {\n",
       "        vertical-align: top;\n",
       "    }\n",
       "\n",
       "    .dataframe thead th {\n",
       "        text-align: right;\n",
       "    }\n",
       "</style>\n",
       "<table border=\"1\" class=\"dataframe\">\n",
       "  <thead>\n",
       "    <tr style=\"text-align: right;\">\n",
       "      <th></th>\n",
       "      <th>Oro</th>\n",
       "      <th>Plata</th>\n",
       "      <th>Bronce</th>\n",
       "      <th>Total</th>\n",
       "    </tr>\n",
       "    <tr>\n",
       "      <th>País</th>\n",
       "      <th></th>\n",
       "      <th></th>\n",
       "      <th></th>\n",
       "      <th></th>\n",
       "    </tr>\n",
       "  </thead>\n",
       "  <tbody>\n",
       "    <tr>\n",
       "      <th>United States of America</th>\n",
       "      <td>1064</td>\n",
       "      <td>840</td>\n",
       "      <td>740</td>\n",
       "      <td>2644.0</td>\n",
       "    </tr>\n",
       "    <tr>\n",
       "      <th>Russian Federation</th>\n",
       "      <td>543</td>\n",
       "      <td>446</td>\n",
       "      <td>448</td>\n",
       "      <td>1437.0</td>\n",
       "    </tr>\n",
       "    <tr>\n",
       "      <th>Germany</th>\n",
       "      <td>446</td>\n",
       "      <td>459</td>\n",
       "      <td>498</td>\n",
       "      <td>1403.0</td>\n",
       "    </tr>\n",
       "    <tr>\n",
       "      <th>Great Britain</th>\n",
       "      <td>287</td>\n",
       "      <td>319</td>\n",
       "      <td>313</td>\n",
       "      <td>919.0</td>\n",
       "    </tr>\n",
       "    <tr>\n",
       "      <th>France</th>\n",
       "      <td>226</td>\n",
       "      <td>256</td>\n",
       "      <td>279</td>\n",
       "      <td>761.0</td>\n",
       "    </tr>\n",
       "    <tr>\n",
       "      <th>People's Republic of China</th>\n",
       "      <td>262</td>\n",
       "      <td>199</td>\n",
       "      <td>174</td>\n",
       "      <td>635.0</td>\n",
       "    </tr>\n",
       "    <tr>\n",
       "      <th>Italy</th>\n",
       "      <td>221</td>\n",
       "      <td>193</td>\n",
       "      <td>213</td>\n",
       "      <td>627.0</td>\n",
       "    </tr>\n",
       "    <tr>\n",
       "      <th>Australia</th>\n",
       "      <td>167</td>\n",
       "      <td>174</td>\n",
       "      <td>215</td>\n",
       "      <td>556.0</td>\n",
       "    </tr>\n",
       "    <tr>\n",
       "      <th>Hungary</th>\n",
       "      <td>182</td>\n",
       "      <td>156</td>\n",
       "      <td>176</td>\n",
       "      <td>514.0</td>\n",
       "    </tr>\n",
       "    <tr>\n",
       "      <th>Sweden</th>\n",
       "      <td>146</td>\n",
       "      <td>175</td>\n",
       "      <td>181</td>\n",
       "      <td>502.0</td>\n",
       "    </tr>\n",
       "  </tbody>\n",
       "</table>\n",
       "</div>"
      ],
      "text/plain": [
       "                             Oro  Plata  Bronce   Total\n",
       "País                                                   \n",
       "United States of America    1064    840     740  2644.0\n",
       "Russian Federation           543    446     448  1437.0\n",
       "Germany                      446    459     498  1403.0\n",
       "Great Britain                287    319     313   919.0\n",
       "France                       226    256     279   761.0\n",
       "People's Republic of China   262    199     174   635.0\n",
       "Italy                        221    193     213   627.0\n",
       "Australia                    167    174     215   556.0\n",
       "Hungary                      182    156     176   514.0\n",
       "Sweden                       146    175     181   502.0"
      ]
     },
     "execution_count": 28,
     "metadata": {},
     "output_type": "execute_result"
    }
   ],
   "source": [
    "top_10_medallas"
   ]
  },
  {
   "cell_type": "code",
   "execution_count": 29,
   "metadata": {},
   "outputs": [],
   "source": [
    "historico_medallas_top10=df_total_medallas[df_total_medallas.index.isin(top_10_medallas.index)]"
   ]
  },
  {
   "cell_type": "code",
   "execution_count": 30,
   "metadata": {},
   "outputs": [
    {
     "data": {
      "text/html": [
       "<div>\n",
       "<style scoped>\n",
       "    .dataframe tbody tr th:only-of-type {\n",
       "        vertical-align: middle;\n",
       "    }\n",
       "\n",
       "    .dataframe tbody tr th {\n",
       "        vertical-align: top;\n",
       "    }\n",
       "\n",
       "    .dataframe thead th {\n",
       "        text-align: right;\n",
       "    }\n",
       "</style>\n",
       "<table border=\"1\" class=\"dataframe\">\n",
       "  <thead>\n",
       "    <tr style=\"text-align: right;\">\n",
       "      <th></th>\n",
       "      <th>Oro</th>\n",
       "      <th>Plata</th>\n",
       "      <th>Bronce</th>\n",
       "      <th>Total</th>\n",
       "      <th>Año</th>\n",
       "    </tr>\n",
       "    <tr>\n",
       "      <th>País</th>\n",
       "      <th></th>\n",
       "      <th></th>\n",
       "      <th></th>\n",
       "      <th></th>\n",
       "      <th></th>\n",
       "    </tr>\n",
       "  </thead>\n",
       "  <tbody>\n",
       "    <tr>\n",
       "      <th>Australia</th>\n",
       "      <td>2</td>\n",
       "      <td>0</td>\n",
       "      <td>1</td>\n",
       "      <td>3.0</td>\n",
       "      <td>1896</td>\n",
       "    </tr>\n",
       "    <tr>\n",
       "      <th>France</th>\n",
       "      <td>5</td>\n",
       "      <td>4</td>\n",
       "      <td>2</td>\n",
       "      <td>11.0</td>\n",
       "      <td>1896</td>\n",
       "    </tr>\n",
       "    <tr>\n",
       "      <th>Germany</th>\n",
       "      <td>7</td>\n",
       "      <td>5</td>\n",
       "      <td>2</td>\n",
       "      <td>14.0</td>\n",
       "      <td>1896</td>\n",
       "    </tr>\n",
       "    <tr>\n",
       "      <th>Great Britain</th>\n",
       "      <td>3</td>\n",
       "      <td>3</td>\n",
       "      <td>3</td>\n",
       "      <td>9.0</td>\n",
       "      <td>1896</td>\n",
       "    </tr>\n",
       "    <tr>\n",
       "      <th>Hungary</th>\n",
       "      <td>2</td>\n",
       "      <td>1</td>\n",
       "      <td>3</td>\n",
       "      <td>6.0</td>\n",
       "      <td>1896</td>\n",
       "    </tr>\n",
       "    <tr>\n",
       "      <th>...</th>\n",
       "      <td>...</td>\n",
       "      <td>...</td>\n",
       "      <td>...</td>\n",
       "      <td>...</td>\n",
       "      <td>...</td>\n",
       "    </tr>\n",
       "    <tr>\n",
       "      <th>Hungary</th>\n",
       "      <td>6</td>\n",
       "      <td>7</td>\n",
       "      <td>7</td>\n",
       "      <td>20.0</td>\n",
       "      <td>2021</td>\n",
       "    </tr>\n",
       "    <tr>\n",
       "      <th>Italy</th>\n",
       "      <td>10</td>\n",
       "      <td>10</td>\n",
       "      <td>20</td>\n",
       "      <td>40.0</td>\n",
       "      <td>2021</td>\n",
       "    </tr>\n",
       "    <tr>\n",
       "      <th>People's Republic of China</th>\n",
       "      <td>38</td>\n",
       "      <td>32</td>\n",
       "      <td>19</td>\n",
       "      <td>89.0</td>\n",
       "      <td>2021</td>\n",
       "    </tr>\n",
       "    <tr>\n",
       "      <th>Sweden</th>\n",
       "      <td>3</td>\n",
       "      <td>6</td>\n",
       "      <td>0</td>\n",
       "      <td>9.0</td>\n",
       "      <td>2021</td>\n",
       "    </tr>\n",
       "    <tr>\n",
       "      <th>United States of America</th>\n",
       "      <td>39</td>\n",
       "      <td>41</td>\n",
       "      <td>33</td>\n",
       "      <td>113.0</td>\n",
       "      <td>2021</td>\n",
       "    </tr>\n",
       "  </tbody>\n",
       "</table>\n",
       "<p>251 rows × 5 columns</p>\n",
       "</div>"
      ],
      "text/plain": [
       "                            Oro  Plata  Bronce  Total   Año\n",
       "País                                                       \n",
       "Australia                     2      0       1    3.0  1896\n",
       "France                        5      4       2   11.0  1896\n",
       "Germany                       7      5       2   14.0  1896\n",
       "Great Britain                 3      3       3    9.0  1896\n",
       "Hungary                       2      1       3    6.0  1896\n",
       "...                         ...    ...     ...    ...   ...\n",
       "Hungary                       6      7       7   20.0  2021\n",
       "Italy                        10     10      20   40.0  2021\n",
       "People's Republic of China   38     32      19   89.0  2021\n",
       "Sweden                        3      6       0    9.0  2021\n",
       "United States of America     39     41      33  113.0  2021\n",
       "\n",
       "[251 rows x 5 columns]"
      ]
     },
     "execution_count": 30,
     "metadata": {},
     "output_type": "execute_result"
    }
   ],
   "source": [
    "historico_medallas_top10"
   ]
  },
  {
   "cell_type": "code",
   "execution_count": 31,
   "metadata": {},
   "outputs": [
    {
     "data": {
      "image/png": "[encoded data removed]",
      "text/plain": [
       "<Figure size 1000x1000 with 1 Axes>"
      ]
     },
     "metadata": {},
     "output_type": "display_data"
    }
   ],
   "source": [
    "sns.set_theme(style=\"darkgrid\")\n",
    "\n",
    "plt.figure(figsize=(10,10))\n",
    "sns.lineplot(x=\"Año\", y=\"Total\",\n",
    "             hue=\"País\",\n",
    "             data=historico_medallas_top10)\n",
    "plt.xticks(rotation=45);"
   ]
  },
  {
   "cell_type": "code",
   "execution_count": 32,
   "metadata": {},
   "outputs": [
    {
     "data": {
      "application/vnd.plotly.v1+json": {
       "config": {
        "linkText": "Export to plot.ly",
        "plotlyServerURL": "https://plot.ly",
        "showLink": false
       },
       "data": [
        {
         "mode": "lines",
         "name": "citations",
         "text": [
          3,
          11,
          14,
          9,
          6,
          19,
          101,
          47,
          30,
          8,
          4,
          5,
          5,
          1,
          242,
          13,
          4,
          2,
          5,
          19,
          13,
          143,
          9,
          4,
          3,
          25,
          46,
          7,
          15,
          26,
          41,
          8,
          8,
          5,
          63,
          63,
          3,
          42,
          43,
          25,
          64,
          95,
          6,
          40,
          35,
          10,
          16,
          29,
          99,
          4,
          25,
          39,
          22,
          10,
          20,
          25,
          56,
          5,
          20,
          24,
          17,
          16,
          36,
          24,
          110,
          1,
          19,
          101,
          14,
          16,
          27,
          21,
          57,
          13,
          32,
          27,
          27,
          30,
          46,
          84,
          11,
          18,
          24,
          11,
          42,
          21,
          70,
          35,
          76,
          35,
          14,
          20,
          21,
          26,
          22,
          98,
          16,
          74,
          22,
          5,
          42,
          20,
          21,
          36,
          103,
          6,
          71,
          18,
          15,
          50,
          18,
          22,
          27,
          93,
          8,
          90,
          17,
          26,
          15,
          25,
          13,
          32,
          16,
          91,
          4,
          107,
          17,
          40,
          13,
          66,
          18,
          35,
          18,
          99,
          16,
          94,
          5,
          39,
          9,
          90,
          13,
          22,
          13,
          124,
          5,
          94,
          9,
          14,
          126,
          21,
          32,
          15,
          195,
          12,
          24,
          59,
          28,
          37,
          32,
          32,
          19,
          173,
          14,
          40,
          16,
          102,
          24,
          23,
          14,
          28,
          132,
          11,
          94,
          27,
          29,
          82,
          20,
          30,
          19,
          54,
          12,
          108,
          41,
          37,
          65,
          15,
          21,
          35,
          50,
          63,
          8,
          101,
          58,
          38,
          56,
          28,
          17,
          34,
          58,
          89,
          12,
          93,
          50,
          33,
          49,
          30,
          17,
          32,
          63,
          90,
          7,
          101,
          46,
          43,
          41,
          51,
          10,
          27,
          100,
          60,
          5,
          112,
          35,
          35,
          44,
          65,
          18,
          28,
          91,
          66,
          8,
          104,
          29,
          42,
          42,
          67,
          15,
          28,
          70,
          56,
          11,
          121,
          46,
          33,
          37,
          64,
          20,
          40,
          89,
          9,
          113
         ],
         "type": "scatter",
         "x": [
          "1896",
          "1896",
          "1896",
          "1896",
          "1896",
          "1896",
          "1900",
          "1900",
          "1900",
          "1900",
          "1900",
          "1900",
          "1900",
          "1900",
          "1904",
          "1904",
          "1904",
          "1904",
          "1908",
          "1908",
          "1908",
          "1908",
          "1908",
          "1908",
          "1908",
          "1908",
          "1908",
          "1912",
          "1912",
          "1912",
          "1912",
          "1912",
          "1912",
          "1912",
          "1912",
          "1912",
          "1920",
          "1920",
          "1920",
          "1920",
          "1920",
          "1920",
          "1924",
          "1924",
          "1924",
          "1924",
          "1924",
          "1924",
          "1924",
          "1928",
          "1928",
          "1928",
          "1928",
          "1928",
          "1928",
          "1928",
          "1928",
          "1932",
          "1932",
          "1932",
          "1932",
          "1932",
          "1932",
          "1932",
          "1932",
          "1936",
          "1936",
          "1936",
          "1936",
          "1936",
          "1936",
          "1936",
          "1936",
          "1948",
          "1948",
          "1948",
          "1948",
          "1948",
          "1948",
          "1948",
          "1952",
          "1952",
          "1952",
          "1952",
          "1952",
          "1952",
          "1952",
          "1952",
          "1952",
          "1956",
          "1956",
          "1956",
          "1956",
          "1956",
          "1956",
          "1956",
          "1956",
          "1956",
          "1960",
          "1960",
          "1960",
          "1960",
          "1960",
          "1960",
          "1960",
          "1960",
          "1960",
          "1964",
          "1964",
          "1964",
          "1964",
          "1964",
          "1964",
          "1964",
          "1964",
          "1964",
          "1968",
          "1968",
          "1968",
          "1968",
          "1968",
          "1968",
          "1968",
          "1968",
          "1968",
          "1968",
          "1972",
          "1972",
          "1972",
          "1972",
          "1972",
          "1972",
          "1972",
          "1972",
          "1972",
          "1972",
          "1976",
          "1976",
          "1976",
          "1976",
          "1976",
          "1976",
          "1976",
          "1976",
          "1976",
          "1976",
          "1980",
          "1980",
          "1980",
          "1980",
          "1980",
          "1980",
          "1980",
          "1980",
          "1984",
          "1984",
          "1984",
          "1984",
          "1984",
          "1984",
          "1984",
          "1984",
          "1988",
          "1988",
          "1988",
          "1988",
          "1988",
          "1988",
          "1988",
          "1988",
          "1988",
          "1988",
          "1988",
          "1992",
          "1992",
          "1992",
          "1992",
          "1992",
          "1992",
          "1992",
          "1992",
          "1992",
          "1996",
          "1996",
          "1996",
          "1996",
          "1996",
          "1996",
          "1996",
          "1996",
          "1996",
          "1996",
          "2000",
          "2000",
          "2000",
          "2000",
          "2000",
          "2000",
          "2000",
          "2000",
          "2000",
          "2000",
          "2004",
          "2004",
          "2004",
          "2004",
          "2004",
          "2004",
          "2004",
          "2004",
          "2004",
          "2004",
          "2008",
          "2008",
          "2008",
          "2008",
          "2008",
          "2008",
          "2008",
          "2008",
          "2008",
          "2008",
          "2012",
          "2012",
          "2012",
          "2012",
          "2012",
          "2012",
          "2012",
          "2012",
          "2012",
          "2012",
          "2016",
          "2016",
          "2016",
          "2016",
          "2016",
          "2016",
          "2016",
          "2016",
          "2016",
          "2016",
          "2021",
          "2021",
          "2021",
          "2021",
          "2021",
          "2021",
          "2021",
          "2021",
          "2021"
         ],
         "y": [
          19,
          47,
          242,
          46,
          63,
          95,
          99,
          56,
          110,
          57,
          84,
          76,
          74,
          71,
          90,
          107,
          94,
          94,
          173,
          94,
          108,
          101,
          93,
          101,
          112,
          104,
          121,
          113
         ]
        }
       ],
       "layout": {
        "template": {
         "data": {
          "bar": [
           {
            "error_x": {
             "color": "#2a3f5f"
            },
            "error_y": {
             "color": "#2a3f5f"
            },
            "marker": {
             "line": {
              "color": "#E5ECF6",
              "width": 0.5
             },
             "pattern": {
              "fillmode": "overlay",
              "size": 10,
              "solidity": 0.2
             }
            },
            "type": "bar"
           }
          ],
          "barpolar": [
           {
            "marker": {
             "line": {
              "color": "#E5ECF6",
              "width": 0.5
             },
             "pattern": {
              "fillmode": "overlay",
              "size": 10,
              "solidity": 0.2
             }
            },
            "type": "barpolar"
           }
          ],
          "carpet": [
           {
            "aaxis": {
             "endlinecolor": "#2a3f5f",
             "gridcolor": "white",
             "linecolor": "white",
             "minorgridcolor": "white",
             "startlinecolor": "#2a3f5f"
            },
            "baxis": {
             "endlinecolor": "#2a3f5f",
             "gridcolor": "white",
             "linecolor": "white",
             "minorgridcolor": "white",
             "startlinecolor": "#2a3f5f"
            },
            "type": "carpet"
           }
          ],
          "choropleth": [
           {
            "colorbar": {
             "outlinewidth": 0,
             "ticks": ""
            },
            "type": "choropleth"
           }
          ],
          "contour": [
           {
            "colorbar": {
             "outlinewidth": 0,
             "ticks": ""
            },
            "colorscale": [
             [
              0,
              "#0d0887"
             ],
             [
              0.1111111111111111,
              "#46039f"
             ],
             [
              0.2222222222222222,
              "#7201a8"
             ],
             [
              0.3333333333333333,
              "#9c179e"
             ],
             [
              0.4444444444444444,
              "#bd3786"
             ],
             [
              0.5555555555555556,
              "#d8576b"
             ],
             [
              0.6666666666666666,
              "#ed7953"
             ],
             [
              0.7777777777777778,
              "#fb9f3a"
             ],
             [
              0.8888888888888888,
              "#fdca26"
             ],
             [
              1,
              "#f0f921"
             ]
            ],
            "type": "contour"
           }
          ],
          "contourcarpet": [
           {
            "colorbar": {
             "outlinewidth": 0,
             "ticks": ""
            },
            "type": "contourcarpet"
           }
          ],
          "heatmap": [
           {
            "colorbar": {
             "outlinewidth": 0,
             "ticks": ""
            },
            "colorscale": [
             [
              0,
              "#0d0887"
             ],
             [
              0.1111111111111111,
              "#46039f"
             ],
             [
              0.2222222222222222,
              "#7201a8"
             ],
             [
              0.3333333333333333,
              "#9c179e"
             ],
             [
              0.4444444444444444,
              "#bd3786"
             ],
             [
              0.5555555555555556,
              "#d8576b"
             ],
             [
              0.6666666666666666,
              "#ed7953"
             ],
             [
              0.7777777777777778,
              "#fb9f3a"
             ],
             [
              0.8888888888888888,
              "#fdca26"
             ],
             [
              1,
              "#f0f921"
             ]
            ],
            "type": "heatmap"
           }
          ],
          "heatmapgl": [
           {
            "colorbar": {
             "outlinewidth": 0,
             "ticks": ""
            },
            "colorscale": [
             [
              0,
              "#0d0887"
             ],
             [
              0.1111111111111111,
              "#46039f"
             ],
             [
              0.2222222222222222,
              "#7201a8"
             ],
             [
              0.3333333333333333,
              "#9c179e"
             ],
             [
              0.4444444444444444,
              "#bd3786"
             ],
             [
              0.5555555555555556,
              "#d8576b"
             ],
             [
              0.6666666666666666,
              "#ed7953"
             ],
             [
              0.7777777777777778,
              "#fb9f3a"
             ],
             [
              0.8888888888888888,
              "#fdca26"
             ],
             [
              1,
              "#f0f921"
             ]
            ],
            "type": "heatmapgl"
           }
          ],
          "histogram": [
           {
            "marker": {
             "pattern": {
              "fillmode": "overlay",
              "size": 10,
              "solidity": 0.2
             }
            },
            "type": "histogram"
           }
          ],
          "histogram2d": [
           {
            "colorbar": {
             "outlinewidth": 0,
             "ticks": ""
            },
            "colorscale": [
             [
              0,
              "#0d0887"
             ],
             [
              0.1111111111111111,
              "#46039f"
             ],
             [
              0.2222222222222222,
              "#7201a8"
             ],
             [
              0.3333333333333333,
              "#9c179e"
             ],
             [
              0.4444444444444444,
              "#bd3786"
             ],
             [
              0.5555555555555556,
              "#d8576b"
             ],
             [
              0.6666666666666666,
              "#ed7953"
             ],
             [
              0.7777777777777778,
              "#fb9f3a"
             ],
             [
              0.8888888888888888,
              "#fdca26"
             ],
             [
              1,
              "#f0f921"
             ]
            ],
            "type": "histogram2d"
           }
          ],
          "histogram2dcontour": [
           {
            "colorbar": {
             "outlinewidth": 0,
             "ticks": ""
            },
            "colorscale": [
             [
              0,
              "#0d0887"
             ],
             [
              0.1111111111111111,
              "#46039f"
             ],
             [
              0.2222222222222222,
              "#7201a8"
             ],
             [
              0.3333333333333333,
              "#9c179e"
             ],
             [
              0.4444444444444444,
              "#bd3786"
             ],
             [
              0.5555555555555556,
              "#d8576b"
             ],
             [
              0.6666666666666666,
              "#ed7953"
             ],
             [
              0.7777777777777778,
              "#fb9f3a"
             ],
             [
              0.8888888888888888,
              "#fdca26"
             ],
             [
              1,
              "#f0f921"
             ]
            ],
            "type": "histogram2dcontour"
           }
          ],
          "mesh3d": [
           {
            "colorbar": {
             "outlinewidth": 0,
             "ticks": ""
            },
            "type": "mesh3d"
           }
          ],
          "parcoords": [
           {
            "line": {
             "colorbar": {
              "outlinewidth": 0,
              "ticks": ""
             }
            },
            "type": "parcoords"
           }
          ],
          "pie": [
           {
            "automargin": true,
            "type": "pie"
           }
          ],
          "scatter": [
           {
            "fillpattern": {
             "fillmode": "overlay",
             "size": 10,
             "solidity": 0.2
            },
            "type": "scatter"
           }
          ],
          "scatter3d": [
           {
            "line": {
             "colorbar": {
              "outlinewidth": 0,
              "ticks": ""
             }
            },
            "marker": {
             "colorbar": {
              "outlinewidth": 0,
              "ticks": ""
             }
            },
            "type": "scatter3d"
           }
          ],
          "scattercarpet": [
           {
            "marker": {
             "colorbar": {
              "outlinewidth": 0,
              "ticks": ""
             }
            },
            "type": "scattercarpet"
           }
          ],
          "scattergeo": [
           {
            "marker": {
             "colorbar": {
              "outlinewidth": 0,
              "ticks": ""
             }
            },
            "type": "scattergeo"
           }
          ],
          "scattergl": [
           {
            "marker": {
             "colorbar": {
              "outlinewidth": 0,
              "ticks": ""
             }
            },
            "type": "scattergl"
           }
          ],
          "scattermapbox": [
           {
            "marker": {
             "colorbar": {
              "outlinewidth": 0,
              "ticks": ""
             }
            },
            "type": "scattermapbox"
           }
          ],
          "scatterpolar": [
           {
            "marker": {
             "colorbar": {
              "outlinewidth": 0,
              "ticks": ""
             }
            },
            "type": "scatterpolar"
           }
          ],
          "scatterpolargl": [
           {
            "marker": {
             "colorbar": {
              "outlinewidth": 0,
              "ticks": ""
             }
            },
            "type": "scatterpolargl"
           }
          ],
          "scatterternary": [
           {
            "marker": {
             "colorbar": {
              "outlinewidth": 0,
              "ticks": ""
             }
            },
            "type": "scatterternary"
           }
          ],
          "surface": [
           {
            "colorbar": {
             "outlinewidth": 0,
             "ticks": ""
            },
            "colorscale": [
             [
              0,
              "#0d0887"
             ],
             [
              0.1111111111111111,
              "#46039f"
             ],
             [
              0.2222222222222222,
              "#7201a8"
             ],
             [
              0.3333333333333333,
              "#9c179e"
             ],
             [
              0.4444444444444444,
              "#bd3786"
             ],
             [
              0.5555555555555556,
              "#d8576b"
             ],
             [
              0.6666666666666666,
              "#ed7953"
             ],
             [
              0.7777777777777778,
              "#fb9f3a"
             ],
             [
              0.8888888888888888,
              "#fdca26"
             ],
             [
              1,
              "#f0f921"
             ]
            ],
            "type": "surface"
           }
          ],
          "table": [
           {
            "cells": {
             "fill": {
              "color": "#EBF0F8"
             },
             "line": {
              "color": "white"
             }
            },
            "header": {
             "fill": {
              "color": "#C8D4E3"
             },
             "line": {
              "color": "white"
             }
            },
            "type": "table"
           }
          ]
         },
         "layout": {
          "annotationdefaults": {
           "arrowcolor": "#2a3f5f",
           "arrowhead": 0,
           "arrowwidth": 1
          },
          "autotypenumbers": "strict",
          "coloraxis": {
           "colorbar": {
            "outlinewidth": 0,
            "ticks": ""
           }
          },
          "colorscale": {
           "diverging": [
            [
             0,
             "#8e0152"
            ],
            [
             0.1,
             "#c51b7d"
            ],
            [
             0.2,
             "#de77ae"
            ],
            [
             0.3,
             "#f1b6da"
            ],
            [
             0.4,
             "#fde0ef"
            ],
            [
             0.5,
             "#f7f7f7"
            ],
            [
             0.6,
             "#e6f5d0"
            ],
            [
             0.7,
             "#b8e186"
            ],
            [
             0.8,
             "#7fbc41"
            ],
            [
             0.9,
             "#4d9221"
            ],
            [
             1,
             "#276419"
            ]
           ],
           "sequential": [
            [
             0,
             "#0d0887"
            ],
            [
             0.1111111111111111,
             "#46039f"
            ],
            [
             0.2222222222222222,
             "#7201a8"
            ],
            [
             0.3333333333333333,
             "#9c179e"
            ],
            [
             0.4444444444444444,
             "#bd3786"
            ],
            [
             0.5555555555555556,
             "#d8576b"
            ],
            [
             0.6666666666666666,
             "#ed7953"
            ],
            [
             0.7777777777777778,
             "#fb9f3a"
            ],
            [
             0.8888888888888888,
             "#fdca26"
            ],
            [
             1,
             "#f0f921"
            ]
           ],
           "sequentialminus": [
            [
             0,
             "#0d0887"
            ],
            [
             0.1111111111111111,
             "#46039f"
            ],
            [
             0.2222222222222222,
             "#7201a8"
            ],
            [
             0.3333333333333333,
             "#9c179e"
            ],
            [
             0.4444444444444444,
             "#bd3786"
            ],
            [
             0.5555555555555556,
             "#d8576b"
            ],
            [
             0.6666666666666666,
             "#ed7953"
            ],
            [
             0.7777777777777778,
             "#fb9f3a"
            ],
            [
             0.8888888888888888,
             "#fdca26"
            ],
            [
             1,
             "#f0f921"
            ]
           ]
          },
          "colorway": [
           "#636efa",
           "#EF553B",
           "#00cc96",
           "#ab63fa",
           "#FFA15A",
           "#19d3f3",
           "#FF6692",
           "#B6E880",
           "#FF97FF",
           "#FECB52"
          ],
          "font": {
           "color": "#2a3f5f"
          },
          "geo": {
           "bgcolor": "white",
           "lakecolor": "white",
           "landcolor": "#E5ECF6",
           "showlakes": true,
           "showland": true,
           "subunitcolor": "white"
          },
          "hoverlabel": {
           "align": "left"
          },
          "hovermode": "closest",
          "mapbox": {
           "style": "light"
          },
          "paper_bgcolor": "white",
          "plot_bgcolor": "#E5ECF6",
          "polar": {
           "angularaxis": {
            "gridcolor": "white",
            "linecolor": "white",
            "ticks": ""
           },
           "bgcolor": "#E5ECF6",
           "radialaxis": {
            "gridcolor": "white",
            "linecolor": "white",
            "ticks": ""
           }
          },
          "scene": {
           "xaxis": {
            "backgroundcolor": "#E5ECF6",
            "gridcolor": "white",
            "gridwidth": 2,
            "linecolor": "white",
            "showbackground": true,
            "ticks": "",
            "zerolinecolor": "white"
           },
           "yaxis": {
            "backgroundcolor": "#E5ECF6",
            "gridcolor": "white",
            "gridwidth": 2,
            "linecolor": "white",
            "showbackground": true,
            "ticks": "",
            "zerolinecolor": "white"
           },
           "zaxis": {
            "backgroundcolor": "#E5ECF6",
            "gridcolor": "white",
            "gridwidth": 2,
            "linecolor": "white",
            "showbackground": true,
            "ticks": "",
            "zerolinecolor": "white"
           }
          },
          "shapedefaults": {
           "line": {
            "color": "#2a3f5f"
           }
          },
          "ternary": {
           "aaxis": {
            "gridcolor": "white",
            "linecolor": "white",
            "ticks": ""
           },
           "baxis": {
            "gridcolor": "white",
            "linecolor": "white",
            "ticks": ""
           },
           "bgcolor": "#E5ECF6",
           "caxis": {
            "gridcolor": "white",
            "linecolor": "white",
            "ticks": ""
           }
          },
          "title": {
           "x": 0.05
          },
          "xaxis": {
           "automargin": true,
           "gridcolor": "white",
           "linecolor": "white",
           "ticks": "",
           "title": {
            "standoff": 15
           },
           "zerolinecolor": "white",
           "zerolinewidth": 2
          },
          "yaxis": {
           "automargin": true,
           "gridcolor": "white",
           "linecolor": "white",
           "ticks": "",
           "title": {
            "standoff": 15
           },
           "zerolinecolor": "white",
           "zerolinewidth": 2
          }
         }
        },
        "title": {
         "text": "Citation and Teaching vs World Rank of Top 100 Universities"
        },
        "xaxis": {
         "ticklen": 10,
         "title": {
          "text": "World Rank"
         }
        }
       }
      }
     },
     "metadata": {},
     "output_type": "display_data"
    }
   ],
   "source": [
    "# prepare data frame\n",
    "df = historico_medallas_top10\n",
    "\n",
    "# Creating trace1\n",
    "trace1 = go.Scatter(\n",
    "                    x = df[\"Año\"],\n",
    "                    y = df['Total'][\"United States of America\"],\n",
    "                    name = 'citations',\n",
    "                    mode= 'lines',\n",
    "                    text = df['Total'])\n",
    "\n",
    "# Creating trace2\n",
    "\n",
    "\n",
    "data = [trace1]\n",
    "\n",
    "layout = dict(title = 'Citation and Teaching vs World Rank of Top 100 Universities',\n",
    "             xaxis= dict(title= 'World Rank',ticklen= 10)\n",
    "           )\n",
    "\n",
    "fig = go.Figure(data = data, layout=layout)\n",
    "\n",
    "iplot(fig)"
   ]
  },
  {
   "cell_type": "code",
   "execution_count": 33,
   "metadata": {},
   "outputs": [
    {
     "data": {
      "application/vnd.plotly.v1+json": {
       "config": {
        "plotlyServerURL": "https://plot.ly"
       },
       "data": [
        {
         "hovertemplate": "País=Australia<br>Año=%{x}<br>Total=%{y}<extra></extra>",
         "legendgroup": "Australia",
         "line": {
          "color": "#636efa",
          "dash": "solid"
         },
         "marker": {
          "symbol": "circle"
         },
         "mode": "lines",
         "name": "Australia",
         "orientation": "v",
         "showlegend": true,
         "type": "scatter",
         "x": [
          "1896",
          "1900",
          "1908",
          "1912",
          "1920",
          "1924",
          "1928",
          "1932",
          "1936",
          "1948",
          "1952",
          "1956",
          "1960",
          "1964",
          "1968",
          "1972",
          "1976",
          "1980",
          "1984",
          "1988",
          "1992",
          "1996",
          "2000",
          "2004",
          "2008",
          "2012",
          "2016",
          "2021"
         ],
         "xaxis": "x",
         "y": [
          3,
          5,
          5,
          7,
          3,
          6,
          4,
          5,
          1,
          13,
          11,
          35,
          22,
          18,
          17,
          17,
          5,
          9,
          24,
          14,
          27,
          41,
          58,
          50,
          46,
          35,
          29,
          46
         ],
         "yaxis": "y"
        },
        {
         "hovertemplate": "País=France<br>Año=%{x}<br>Total=%{y}<extra></extra>",
         "legendgroup": "France",
         "line": {
          "color": "#EF553B",
          "dash": "solid"
         },
         "marker": {
          "symbol": "circle"
         },
         "mode": "lines",
         "name": "France",
         "orientation": "v",
         "showlegend": true,
         "type": "scatter",
         "x": [
          "1896",
          "1900",
          "1908",
          "1912",
          "1920",
          "1924",
          "1928",
          "1932",
          "1936",
          "1948",
          "1952",
          "1956",
          "1960",
          "1964",
          "1968",
          "1972",
          "1976",
          "1980",
          "1984",
          "1988",
          "1992",
          "1996",
          "2000",
          "2004",
          "2008",
          "2012",
          "2016",
          "2021"
         ],
         "xaxis": "x",
         "y": [
          11,
          101,
          19,
          15,
          42,
          40,
          25,
          20,
          19,
          32,
          18,
          14,
          5,
          15,
          15,
          13,
          9,
          14,
          28,
          16,
          29,
          37,
          38,
          33,
          43,
          35,
          42,
          33
         ],
         "yaxis": "y"
        },
        {
         "hovertemplate": "País=Germany<br>Año=%{x}<br>Total=%{y}<extra></extra>",
         "legendgroup": "Germany",
         "line": {
          "color": "#00cc96",
          "dash": "solid"
         },
         "marker": {
          "symbol": "circle"
         },
         "mode": "lines",
         "name": "Germany",
         "orientation": "v",
         "showlegend": true,
         "type": "scatter",
         "x": [
          "1896",
          "1900",
          "1904",
          "1908",
          "1912",
          "1928",
          "1932",
          "1936",
          "1952",
          "1956",
          "1960",
          "1964",
          "1968",
          "1968",
          "1972",
          "1972",
          "1976",
          "1976",
          "1980",
          "1984",
          "1988",
          "1988",
          "1992",
          "1996",
          "2000",
          "2004",
          "2008",
          "2012",
          "2016",
          "2021"
         ],
         "xaxis": "x",
         "y": [
          14,
          8,
          13,
          13,
          26,
          39,
          24,
          101,
          24,
          20,
          42,
          50,
          26,
          25,
          40,
          66,
          39,
          90,
          126,
          59,
          40,
          102,
          82,
          65,
          56,
          49,
          41,
          44,
          42,
          37
         ],
         "yaxis": "y"
        },
        {
         "hovertemplate": "País=Great Britain<br>Año=%{x}<br>Total=%{y}<extra></extra>",
         "legendgroup": "Great Britain",
         "line": {
          "color": "#ab63fa",
          "dash": "solid"
         },
         "marker": {
          "symbol": "circle"
         },
         "mode": "lines",
         "name": "Great Britain",
         "orientation": "v",
         "showlegend": true,
         "type": "scatter",
         "x": [
          "1896",
          "1900",
          "1904",
          "1908",
          "1912",
          "1920",
          "1924",
          "1928",
          "1932",
          "1936",
          "1948",
          "1952",
          "1956",
          "1960",
          "1964",
          "1968",
          "1972",
          "1976",
          "1980",
          "1984",
          "1988",
          "1992",
          "1996",
          "2000",
          "2004",
          "2008",
          "2012",
          "2016",
          "2021"
         ],
         "xaxis": "x",
         "y": [
          9,
          30,
          2,
          143,
          41,
          43,
          35,
          22,
          17,
          14,
          27,
          11,
          21,
          20,
          18,
          13,
          18,
          13,
          21,
          37,
          24,
          20,
          15,
          28,
          30,
          51,
          65,
          67,
          64
         ],
         "yaxis": "y"
        },
        {
         "hovertemplate": "País=Hungary<br>Año=%{x}<br>Total=%{y}<extra></extra>",
         "legendgroup": "Hungary",
         "line": {
          "color": "#FFA15A",
          "dash": "solid"
         },
         "marker": {
          "symbol": "circle"
         },
         "mode": "lines",
         "name": "Hungary",
         "orientation": "v",
         "showlegend": true,
         "type": "scatter",
         "x": [
          "1896",
          "1900",
          "1904",
          "1908",
          "1912",
          "1924",
          "1928",
          "1932",
          "1936",
          "1948",
          "1952",
          "1956",
          "1960",
          "1964",
          "1968",
          "1972",
          "1976",
          "1980",
          "1988",
          "1992",
          "1996",
          "2000",
          "2004",
          "2008",
          "2012",
          "2016",
          "2021"
         ],
         "xaxis": "x",
         "y": [
          6,
          5,
          4,
          9,
          8,
          10,
          10,
          16,
          16,
          27,
          42,
          26,
          21,
          22,
          32,
          35,
          22,
          32,
          23,
          30,
          21,
          17,
          17,
          10,
          18,
          15,
          20
         ],
         "yaxis": "y"
        },
        {
         "hovertemplate": "País=United States of America<br>Año=%{x}<br>Total=%{y}<extra></extra>",
         "legendgroup": "United States of America",
         "line": {
          "color": "#19d3f3",
          "dash": "solid"
         },
         "marker": {
          "symbol": "circle"
         },
         "mode": "lines",
         "name": "United States of America",
         "orientation": "v",
         "showlegend": true,
         "type": "scatter",
         "x": [
          "1896",
          "1900",
          "1904",
          "1908",
          "1912",
          "1920",
          "1924",
          "1928",
          "1932",
          "1936",
          "1948",
          "1952",
          "1956",
          "1960",
          "1964",
          "1968",
          "1972",
          "1976",
          "1984",
          "1988",
          "1992",
          "1996",
          "2000",
          "2004",
          "2008",
          "2012",
          "2016",
          "2021"
         ],
         "xaxis": "x",
         "y": [
          19,
          47,
          242,
          46,
          63,
          95,
          99,
          56,
          110,
          57,
          84,
          76,
          74,
          71,
          90,
          107,
          94,
          94,
          173,
          94,
          108,
          101,
          93,
          101,
          112,
          104,
          121,
          113
         ],
         "yaxis": "y"
        },
        {
         "hovertemplate": "País=Italy<br>Año=%{x}<br>Total=%{y}<extra></extra>",
         "legendgroup": "Italy",
         "line": {
          "color": "#FF6692",
          "dash": "solid"
         },
         "marker": {
          "symbol": "circle"
         },
         "mode": "lines",
         "name": "Italy",
         "orientation": "v",
         "showlegend": true,
         "type": "scatter",
         "x": [
          "1900",
          "1908",
          "1912",
          "1920",
          "1924",
          "1928",
          "1932",
          "1936",
          "1948",
          "1952",
          "1956",
          "1960",
          "1964",
          "1968",
          "1972",
          "1976",
          "1980",
          "1984",
          "1988",
          "1992",
          "1996",
          "2000",
          "2004",
          "2008",
          "2012",
          "2016",
          "2021"
         ],
         "xaxis": "x",
         "y": [
          4,
          4,
          8,
          25,
          16,
          20,
          36,
          27,
          30,
          21,
          22,
          36,
          27,
          16,
          18,
          13,
          15,
          32,
          14,
          19,
          35,
          34,
          32,
          27,
          28,
          28,
          40
         ],
         "yaxis": "y"
        },
        {
         "hovertemplate": "País=Sweden<br>Año=%{x}<br>Total=%{y}<extra></extra>",
         "legendgroup": "Sweden",
         "line": {
          "color": "#B6E880",
          "dash": "solid"
         },
         "marker": {
          "symbol": "circle"
         },
         "mode": "lines",
         "name": "Sweden",
         "orientation": "v",
         "showlegend": true,
         "type": "scatter",
         "x": [
          "1900",
          "1908",
          "1912",
          "1920",
          "1924",
          "1928",
          "1932",
          "1936",
          "1948",
          "1952",
          "1956",
          "1960",
          "1964",
          "1968",
          "1972",
          "1976",
          "1980",
          "1984",
          "1988",
          "1992",
          "1996",
          "2000",
          "2004",
          "2008",
          "2012",
          "2016",
          "2021"
         ],
         "xaxis": "x",
         "y": [
          1,
          25,
          63,
          64,
          29,
          25,
          24,
          21,
          46,
          35,
          16,
          6,
          8,
          4,
          16,
          5,
          12,
          19,
          11,
          12,
          8,
          12,
          7,
          5,
          8,
          11,
          9
         ],
         "yaxis": "y"
        },
        {
         "hovertemplate": "País=Russian Federation<br>Año=%{x}<br>Total=%{y}<extra></extra>",
         "legendgroup": "Russian Federation",
         "line": {
          "color": "#FF97FF",
          "dash": "solid"
         },
         "marker": {
          "symbol": "circle"
         },
         "mode": "lines",
         "name": "Russian Federation",
         "orientation": "v",
         "showlegend": true,
         "type": "scatter",
         "x": [
          "1908",
          "1912",
          "1952",
          "1956",
          "1960",
          "1964",
          "1968",
          "1972",
          "1976",
          "1980",
          "1988",
          "1996",
          "2000",
          "2004",
          "2008",
          "2012",
          "2016"
         ],
         "xaxis": "x",
         "y": [
          3,
          5,
          70,
          98,
          103,
          93,
          91,
          99,
          124,
          195,
          132,
          63,
          89,
          90,
          60,
          66,
          56
         ],
         "yaxis": "y"
        },
        {
         "hovertemplate": "País=People's Republic of China<br>Año=%{x}<br>Total=%{y}<extra></extra>",
         "legendgroup": "People's Republic of China",
         "line": {
          "color": "#FECB52",
          "dash": "solid"
         },
         "marker": {
          "symbol": "circle"
         },
         "mode": "lines",
         "name": "People's Republic of China",
         "orientation": "v",
         "showlegend": true,
         "type": "scatter",
         "x": [
          "1984",
          "1988",
          "1992",
          "1996",
          "2000",
          "2004",
          "2008",
          "2012",
          "2016",
          "2021"
         ],
         "xaxis": "x",
         "y": [
          32,
          28,
          54,
          50,
          58,
          63,
          100,
          91,
          70,
          89
         ],
         "yaxis": "y"
        }
       ],
       "layout": {
        "legend": {
         "title": {
          "text": "País"
         },
         "tracegroupgap": 0
        },
        "margin": {
         "t": 60
        },
        "template": {
         "data": {
          "bar": [
           {
            "error_x": {
             "color": "#2a3f5f"
            },
            "error_y": {
             "color": "#2a3f5f"
            },
            "marker": {
             "line": {
              "color": "#E5ECF6",
              "width": 0.5
             },
             "pattern": {
              "fillmode": "overlay",
              "size": 10,
              "solidity": 0.2
             }
            },
            "type": "bar"
           }
          ],
          "barpolar": [
           {
            "marker": {
             "line": {
              "color": "#E5ECF6",
              "width": 0.5
             },
             "pattern": {
              "fillmode": "overlay",
              "size": 10,
              "solidity": 0.2
             }
            },
            "type": "barpolar"
           }
          ],
          "carpet": [
           {
            "aaxis": {
             "endlinecolor": "#2a3f5f",
             "gridcolor": "white",
             "linecolor": "white",
             "minorgridcolor": "white",
             "startlinecolor": "#2a3f5f"
            },
            "baxis": {
             "endlinecolor": "#2a3f5f",
             "gridcolor": "white",
             "linecolor": "white",
             "minorgridcolor": "white",
             "startlinecolor": "#2a3f5f"
            },
            "type": "carpet"
           }
          ],
          "choropleth": [
           {
            "colorbar": {
             "outlinewidth": 0,
             "ticks": ""
            },
            "type": "choropleth"
           }
          ],
          "contour": [
           {
            "colorbar": {
             "outlinewidth": 0,
             "ticks": ""
            },
            "colorscale": [
             [
              0,
              "#0d0887"
             ],
             [
              0.1111111111111111,
              "#46039f"
             ],
             [
              0.2222222222222222,
              "#7201a8"
             ],
             [
              0.3333333333333333,
              "#9c179e"
             ],
             [
              0.4444444444444444,
              "#bd3786"
             ],
             [
              0.5555555555555556,
              "#d8576b"
             ],
             [
              0.6666666666666666,
              "#ed7953"
             ],
             [
              0.7777777777777778,
              "#fb9f3a"
             ],
             [
              0.8888888888888888,
              "#fdca26"
             ],
             [
              1,
              "#f0f921"
             ]
            ],
            "type": "contour"
           }
          ],
          "contourcarpet": [
           {
            "colorbar": {
             "outlinewidth": 0,
             "ticks": ""
            },
            "type": "contourcarpet"
           }
          ],
          "heatmap": [
           {
            "colorbar": {
             "outlinewidth": 0,
             "ticks": ""
            },
            "colorscale": [
             [
              0,
              "#0d0887"
             ],
             [
              0.1111111111111111,
              "#46039f"
             ],
             [
              0.2222222222222222,
              "#7201a8"
             ],
             [
              0.3333333333333333,
              "#9c179e"
             ],
             [
              0.4444444444444444,
              "#bd3786"
             ],
             [
              0.5555555555555556,
              "#d8576b"
             ],
             [
              0.6666666666666666,
              "#ed7953"
             ],
             [
              0.7777777777777778,
              "#fb9f3a"
             ],
             [
              0.8888888888888888,
              "#fdca26"
             ],
             [
              1,
              "#f0f921"
             ]
            ],
            "type": "heatmap"
           }
          ],
          "heatmapgl": [
           {
            "colorbar": {
             "outlinewidth": 0,
             "ticks": ""
            },
            "colorscale": [
             [
              0,
              "#0d0887"
             ],
             [
              0.1111111111111111,
              "#46039f"
             ],
             [
              0.2222222222222222,
              "#7201a8"
             ],
             [
              0.3333333333333333,
              "#9c179e"
             ],
             [
              0.4444444444444444,
              "#bd3786"
             ],
             [
              0.5555555555555556,
              "#d8576b"
             ],
             [
              0.6666666666666666,
              "#ed7953"
             ],
             [
              0.7777777777777778,
              "#fb9f3a"
             ],
             [
              0.8888888888888888,
              "#fdca26"
             ],
             [
              1,
              "#f0f921"
             ]
            ],
            "type": "heatmapgl"
           }
          ],
          "histogram": [
           {
            "marker": {
             "pattern": {
              "fillmode": "overlay",
              "size": 10,
              "solidity": 0.2
             }
            },
            "type": "histogram"
           }
          ],
          "histogram2d": [
           {
            "colorbar": {
             "outlinewidth": 0,
             "ticks": ""
            },
            "colorscale": [
             [
              0,
              "#0d0887"
             ],
             [
              0.1111111111111111,
              "#46039f"
             ],
             [
              0.2222222222222222,
              "#7201a8"
             ],
             [
              0.3333333333333333,
              "#9c179e"
             ],
             [
              0.4444444444444444,
              "#bd3786"
             ],
             [
              0.5555555555555556,
              "#d8576b"
             ],
             [
              0.6666666666666666,
              "#ed7953"
             ],
             [
              0.7777777777777778,
              "#fb9f3a"
             ],
             [
              0.8888888888888888,
              "#fdca26"
             ],
             [
              1,
              "#f0f921"
             ]
            ],
            "type": "histogram2d"
           }
          ],
          "histogram2dcontour": [
           {
            "colorbar": {
             "outlinewidth": 0,
             "ticks": ""
            },
            "colorscale": [
             [
              0,
              "#0d0887"
             ],
             [
              0.1111111111111111,
              "#46039f"
             ],
             [
              0.2222222222222222,
              "#7201a8"
             ],
             [
              0.3333333333333333,
              "#9c179e"
             ],
             [
              0.4444444444444444,
              "#bd3786"
             ],
             [
              0.5555555555555556,
              "#d8576b"
             ],
             [
              0.6666666666666666,
              "#ed7953"
             ],
             [
              0.7777777777777778,
              "#fb9f3a"
             ],
             [
              0.8888888888888888,
              "#fdca26"
             ],
             [
              1,
              "#f0f921"
             ]
            ],
            "type": "histogram2dcontour"
           }
          ],
          "mesh3d": [
           {
            "colorbar": {
             "outlinewidth": 0,
             "ticks": ""
            },
            "type": "mesh3d"
           }
          ],
          "parcoords": [
           {
            "line": {
             "colorbar": {
              "outlinewidth": 0,
              "ticks": ""
             }
            },
            "type": "parcoords"
           }
          ],
          "pie": [
           {
            "automargin": true,
            "type": "pie"
           }
          ],
          "scatter": [
           {
            "fillpattern": {
             "fillmode": "overlay",
             "size": 10,
             "solidity": 0.2
            },
            "type": "scatter"
           }
          ],
          "scatter3d": [
           {
            "line": {
             "colorbar": {
              "outlinewidth": 0,
              "ticks": ""
             }
            },
            "marker": {
             "colorbar": {
              "outlinewidth": 0,
              "ticks": ""
             }
            },
            "type": "scatter3d"
           }
          ],
          "scattercarpet": [
           {
            "marker": {
             "colorbar": {
              "outlinewidth": 0,
              "ticks": ""
             }
            },
            "type": "scattercarpet"
           }
          ],
          "scattergeo": [
           {
            "marker": {
             "colorbar": {
              "outlinewidth": 0,
              "ticks": ""
             }
            },
            "type": "scattergeo"
           }
          ],
          "scattergl": [
           {
            "marker": {
             "colorbar": {
              "outlinewidth": 0,
              "ticks": ""
             }
            },
            "type": "scattergl"
           }
          ],
          "scattermapbox": [
           {
            "marker": {
             "colorbar": {
              "outlinewidth": 0,
              "ticks": ""
             }
            },
            "type": "scattermapbox"
           }
          ],
          "scatterpolar": [
           {
            "marker": {
             "colorbar": {
              "outlinewidth": 0,
              "ticks": ""
             }
            },
            "type": "scatterpolar"
           }
          ],
          "scatterpolargl": [
           {
            "marker": {
             "colorbar": {
              "outlinewidth": 0,
              "ticks": ""
             }
            },
            "type": "scatterpolargl"
           }
          ],
          "scatterternary": [
           {
            "marker": {
             "colorbar": {
              "outlinewidth": 0,
              "ticks": ""
             }
            },
            "type": "scatterternary"
           }
          ],
          "surface": [
           {
            "colorbar": {
             "outlinewidth": 0,
             "ticks": ""
            },
            "colorscale": [
             [
              0,
              "#0d0887"
             ],
             [
              0.1111111111111111,
              "#46039f"
             ],
             [
              0.2222222222222222,
              "#7201a8"
             ],
             [
              0.3333333333333333,
              "#9c179e"
             ],
             [
              0.4444444444444444,
              "#bd3786"
             ],
             [
              0.5555555555555556,
              "#d8576b"
             ],
             [
              0.6666666666666666,
              "#ed7953"
             ],
             [
              0.7777777777777778,
              "#fb9f3a"
             ],
             [
              0.8888888888888888,
              "#fdca26"
             ],
             [
              1,
              "#f0f921"
             ]
            ],
            "type": "surface"
           }
          ],
          "table": [
           {
            "cells": {
             "fill": {
              "color": "#EBF0F8"
             },
             "line": {
              "color": "white"
             }
            },
            "header": {
             "fill": {
              "color": "#C8D4E3"
             },
             "line": {
              "color": "white"
             }
            },
            "type": "table"
           }
          ]
         },
         "layout": {
          "annotationdefaults": {
           "arrowcolor": "#2a3f5f",
           "arrowhead": 0,
           "arrowwidth": 1
          },
          "autotypenumbers": "strict",
          "coloraxis": {
           "colorbar": {
            "outlinewidth": 0,
            "ticks": ""
           }
          },
          "colorscale": {
           "diverging": [
            [
             0,
             "#8e0152"
            ],
            [
             0.1,
             "#c51b7d"
            ],
            [
             0.2,
             "#de77ae"
            ],
            [
             0.3,
             "#f1b6da"
            ],
            [
             0.4,
             "#fde0ef"
            ],
            [
             0.5,
             "#f7f7f7"
            ],
            [
             0.6,
             "#e6f5d0"
            ],
            [
             0.7,
             "#b8e186"
            ],
            [
             0.8,
             "#7fbc41"
            ],
            [
             0.9,
             "#4d9221"
            ],
            [
             1,
             "#276419"
            ]
           ],
           "sequential": [
            [
             0,
             "#0d0887"
            ],
            [
             0.1111111111111111,
             "#46039f"
            ],
            [
             0.2222222222222222,
             "#7201a8"
            ],
            [
             0.3333333333333333,
             "#9c179e"
            ],
            [
             0.4444444444444444,
             "#bd3786"
            ],
            [
             0.5555555555555556,
             "#d8576b"
            ],
            [
             0.6666666666666666,
             "#ed7953"
            ],
            [
             0.7777777777777778,
             "#fb9f3a"
            ],
            [
             0.8888888888888888,
             "#fdca26"
            ],
            [
             1,
             "#f0f921"
            ]
           ],
           "sequentialminus": [
            [
             0,
             "#0d0887"
            ],
            [
             0.1111111111111111,
             "#46039f"
            ],
            [
             0.2222222222222222,
             "#7201a8"
            ],
            [
             0.3333333333333333,
             "#9c179e"
            ],
            [
             0.4444444444444444,
             "#bd3786"
            ],
            [
             0.5555555555555556,
             "#d8576b"
            ],
            [
             0.6666666666666666,
             "#ed7953"
            ],
            [
             0.7777777777777778,
             "#fb9f3a"
            ],
            [
             0.8888888888888888,
             "#fdca26"
            ],
            [
             1,
             "#f0f921"
            ]
           ]
          },
          "colorway": [
           "#636efa",
           "#EF553B",
           "#00cc96",
           "#ab63fa",
           "#FFA15A",
           "#19d3f3",
           "#FF6692",
           "#B6E880",
           "#FF97FF",
           "#FECB52"
          ],
          "font": {
           "color": "#2a3f5f"
          },
          "geo": {
           "bgcolor": "white",
           "lakecolor": "white",
           "landcolor": "#E5ECF6",
           "showlakes": true,
           "showland": true,
           "subunitcolor": "white"
          },
          "hoverlabel": {
           "align": "left"
          },
          "hovermode": "closest",
          "mapbox": {
           "style": "light"
          },
          "paper_bgcolor": "white",
          "plot_bgcolor": "#E5ECF6",
          "polar": {
           "angularaxis": {
            "gridcolor": "white",
            "linecolor": "white",
            "ticks": ""
           },
           "bgcolor": "#E5ECF6",
           "radialaxis": {
            "gridcolor": "white",
            "linecolor": "white",
            "ticks": ""
           }
          },
          "scene": {
           "xaxis": {
            "backgroundcolor": "#E5ECF6",
            "gridcolor": "white",
            "gridwidth": 2,
            "linecolor": "white",
            "showbackground": true,
            "ticks": "",
            "zerolinecolor": "white"
           },
           "yaxis": {
            "backgroundcolor": "#E5ECF6",
            "gridcolor": "white",
            "gridwidth": 2,
            "linecolor": "white",
            "showbackground": true,
            "ticks": "",
            "zerolinecolor": "white"
           },
           "zaxis": {
            "backgroundcolor": "#E5ECF6",
            "gridcolor": "white",
            "gridwidth": 2,
            "linecolor": "white",
            "showbackground": true,
            "ticks": "",
            "zerolinecolor": "white"
           }
          },
          "shapedefaults": {
           "line": {
            "color": "#2a3f5f"
           }
          },
          "ternary": {
           "aaxis": {
            "gridcolor": "white",
            "linecolor": "white",
            "ticks": ""
           },
           "baxis": {
            "gridcolor": "white",
            "linecolor": "white",
            "ticks": ""
           },
           "bgcolor": "#E5ECF6",
           "caxis": {
            "gridcolor": "white",
            "linecolor": "white",
            "ticks": ""
           }
          },
          "title": {
           "x": 0.05
          },
          "xaxis": {
           "automargin": true,
           "gridcolor": "white",
           "linecolor": "white",
           "ticks": "",
           "title": {
            "standoff": 15
           },
           "zerolinecolor": "white",
           "zerolinewidth": 2
          },
          "yaxis": {
           "automargin": true,
           "gridcolor": "white",
           "linecolor": "white",
           "ticks": "",
           "title": {
            "standoff": 15
           },
           "zerolinecolor": "white",
           "zerolinewidth": 2
          }
         }
        },
        "xaxis": {
         "anchor": "y",
         "categoryarray": [
          "1896",
          "1900",
          "1904",
          "1908"
         ],
         "categoryorder": "array",
         "domain": [
          0,
          1
         ],
         "tickangle": 45,
         "title": {
          "text": "Año"
         }
        },
        "yaxis": {
         "anchor": "x",
         "domain": [
          0,
          1
         ],
         "title": {
          "text": "Total"
         }
        }
       }
      }
     },
     "metadata": {},
     "output_type": "display_data"
    }
   ],
   "source": [
    "fig = px.line(historico_medallas_top10, x=\"Año\", y=\"Total\", color=historico_medallas_top10.index)\n",
    "fig.update_layout(xaxis=dict(tickangle=45))\n",
    "fig.update_layout(xaxis=dict(categoryorder='array', categoryarray=[\"1896\", \"1900\", \"1904\", \"1908\"]))\n",
    "\n",
    "fig.show()"
   ]
  },
  {
   "cell_type": "code",
   "execution_count": 34,
   "metadata": {},
   "outputs": [
    {
     "data": {
      "application/vnd.plotly.v1+json": {
       "config": {
        "plotlyServerURL": "https://plot.ly"
       },
       "data": [
        {
         "hovertemplate": "País=Australia<br>Año=%{x}<br>Total=%{y}<extra></extra>",
         "legendgroup": "Australia",
         "line": {
          "color": "#636efa",
          "dash": "solid"
         },
         "marker": {
          "symbol": "circle"
         },
         "mode": "lines",
         "name": "Australia",
         "orientation": "v",
         "showlegend": true,
         "type": "scatter",
         "x": [
          "1896",
          "1900",
          "1908",
          "1912",
          "1920",
          "1924",
          "1928",
          "1932",
          "1936",
          "1948",
          "1952",
          "1956",
          "1960",
          "1964",
          "1968",
          "1972",
          "1976",
          "1980",
          "1984",
          "1988",
          "1992",
          "1996",
          "2000",
          "2004",
          "2008",
          "2012",
          "2016",
          "2021"
         ],
         "xaxis": "x",
         "y": [
          3,
          8,
          13,
          20,
          23,
          29,
          33,
          38,
          39,
          52,
          63,
          98,
          120,
          138,
          155,
          172,
          177,
          186,
          210,
          224,
          251,
          292,
          350,
          400,
          446,
          481,
          510,
          556
         ],
         "yaxis": "y"
        },
        {
         "hovertemplate": "País=France<br>Año=%{x}<br>Total=%{y}<extra></extra>",
         "legendgroup": "France",
         "line": {
          "color": "#EF553B",
          "dash": "solid"
         },
         "marker": {
          "symbol": "circle"
         },
         "mode": "lines",
         "name": "France",
         "orientation": "v",
         "showlegend": true,
         "type": "scatter",
         "x": [
          "1896",
          "1900",
          "1908",
          "1912",
          "1920",
          "1924",
          "1928",
          "1932",
          "1936",
          "1948",
          "1952",
          "1956",
          "1960",
          "1964",
          "1968",
          "1972",
          "1976",
          "1980",
          "1984",
          "1988",
          "1992",
          "1996",
          "2000",
          "2004",
          "2008",
          "2012",
          "2016",
          "2021"
         ],
         "xaxis": "x",
         "y": [
          11,
          112,
          131,
          146,
          188,
          228,
          253,
          273,
          292,
          324,
          342,
          356,
          361,
          376,
          391,
          404,
          413,
          427,
          455,
          471,
          500,
          537,
          575,
          608,
          651,
          686,
          728,
          761
         ],
         "yaxis": "y"
        },
        {
         "hovertemplate": "País=Germany<br>Año=%{x}<br>Total=%{y}<extra></extra>",
         "legendgroup": "Germany",
         "line": {
          "color": "#00cc96",
          "dash": "solid"
         },
         "marker": {
          "symbol": "circle"
         },
         "mode": "lines",
         "name": "Germany",
         "orientation": "v",
         "showlegend": true,
         "type": "scatter",
         "x": [
          "1896",
          "1900",
          "1904",
          "1908",
          "1912",
          "1928",
          "1932",
          "1936",
          "1952",
          "1956",
          "1960",
          "1964",
          "1968",
          "1972",
          "1976",
          "1980",
          "1984",
          "1988",
          "1992",
          "1996",
          "2000",
          "2004",
          "2008",
          "2012",
          "2016",
          "2021"
         ],
         "xaxis": "x",
         "y": [
          14,
          22,
          35,
          48,
          74,
          113,
          137,
          238,
          262,
          282,
          324,
          374,
          425,
          531,
          660,
          786,
          845,
          987,
          1069,
          1134,
          1190,
          1239,
          1280,
          1324,
          1366,
          1403
         ],
         "yaxis": "y"
        },
        {
         "hovertemplate": "País=Great Britain<br>Año=%{x}<br>Total=%{y}<extra></extra>",
         "legendgroup": "Great Britain",
         "line": {
          "color": "#ab63fa",
          "dash": "solid"
         },
         "marker": {
          "symbol": "circle"
         },
         "mode": "lines",
         "name": "Great Britain",
         "orientation": "v",
         "showlegend": true,
         "type": "scatter",
         "x": [
          "1896",
          "1900",
          "1904",
          "1908",
          "1912",
          "1920",
          "1924",
          "1928",
          "1932",
          "1936",
          "1948",
          "1952",
          "1956",
          "1960",
          "1964",
          "1968",
          "1972",
          "1976",
          "1980",
          "1984",
          "1988",
          "1992",
          "1996",
          "2000",
          "2004",
          "2008",
          "2012",
          "2016",
          "2021"
         ],
         "xaxis": "x",
         "y": [
          9,
          39,
          41,
          184,
          225,
          268,
          303,
          325,
          342,
          356,
          383,
          394,
          415,
          435,
          453,
          466,
          484,
          497,
          518,
          555,
          579,
          599,
          614,
          642,
          672,
          723,
          788,
          855,
          919
         ],
         "yaxis": "y"
        },
        {
         "hovertemplate": "País=Hungary<br>Año=%{x}<br>Total=%{y}<extra></extra>",
         "legendgroup": "Hungary",
         "line": {
          "color": "#FFA15A",
          "dash": "solid"
         },
         "marker": {
          "symbol": "circle"
         },
         "mode": "lines",
         "name": "Hungary",
         "orientation": "v",
         "showlegend": true,
         "type": "scatter",
         "x": [
          "1896",
          "1900",
          "1904",
          "1908",
          "1912",
          "1924",
          "1928",
          "1932",
          "1936",
          "1948",
          "1952",
          "1956",
          "1960",
          "1964",
          "1968",
          "1972",
          "1976",
          "1980",
          "1988",
          "1992",
          "1996",
          "2000",
          "2004",
          "2008",
          "2012",
          "2016",
          "2021"
         ],
         "xaxis": "x",
         "y": [
          6,
          11,
          15,
          24,
          32,
          42,
          52,
          68,
          84,
          111,
          153,
          179,
          200,
          222,
          254,
          289,
          311,
          343,
          366,
          396,
          417,
          434,
          451,
          461,
          479,
          494,
          514
         ],
         "yaxis": "y"
        },
        {
         "hovertemplate": "País=Italy<br>Año=%{x}<br>Total=%{y}<extra></extra>",
         "legendgroup": "Italy",
         "line": {
          "color": "#19d3f3",
          "dash": "solid"
         },
         "marker": {
          "symbol": "circle"
         },
         "mode": "lines",
         "name": "Italy",
         "orientation": "v",
         "showlegend": true,
         "type": "scatter",
         "x": [
          "1900",
          "1908",
          "1912",
          "1920",
          "1924",
          "1928",
          "1932",
          "1936",
          "1948",
          "1952",
          "1956",
          "1960",
          "1964",
          "1968",
          "1972",
          "1976",
          "1980",
          "1984",
          "1988",
          "1992",
          "1996",
          "2000",
          "2004",
          "2008",
          "2012",
          "2016",
          "2021"
         ],
         "xaxis": "x",
         "y": [
          4,
          8,
          16,
          41,
          57,
          77,
          113,
          140,
          170,
          191,
          213,
          249,
          276,
          292,
          310,
          323,
          338,
          370,
          384,
          403,
          438,
          472,
          504,
          531,
          559,
          587,
          627
         ],
         "yaxis": "y"
        },
        {
         "hovertemplate": "País=People's Republic of China<br>Año=%{x}<br>Total=%{y}<extra></extra>",
         "legendgroup": "People's Republic of China",
         "line": {
          "color": "#FF6692",
          "dash": "solid"
         },
         "marker": {
          "symbol": "circle"
         },
         "mode": "lines",
         "name": "People's Republic of China",
         "orientation": "v",
         "showlegend": true,
         "type": "scatter",
         "x": [
          "1984",
          "1988",
          "1992",
          "1996",
          "2000",
          "2004",
          "2008",
          "2012",
          "2016",
          "2021"
         ],
         "xaxis": "x",
         "y": [
          32,
          60,
          114,
          164,
          222,
          285,
          385,
          476,
          546,
          635
         ],
         "yaxis": "y"
        },
        {
         "hovertemplate": "País=Russian Federation<br>Año=%{x}<br>Total=%{y}<extra></extra>",
         "legendgroup": "Russian Federation",
         "line": {
          "color": "#B6E880",
          "dash": "solid"
         },
         "marker": {
          "symbol": "circle"
         },
         "mode": "lines",
         "name": "Russian Federation",
         "orientation": "v",
         "showlegend": true,
         "type": "scatter",
         "x": [
          "1908",
          "1912",
          "1952",
          "1956",
          "1960",
          "1964",
          "1968",
          "1972",
          "1976",
          "1980",
          "1988",
          "1996",
          "2000",
          "2004",
          "2008",
          "2012",
          "2016"
         ],
         "xaxis": "x",
         "y": [
          3,
          8,
          78,
          176,
          279,
          372,
          463,
          562,
          686,
          881,
          1013,
          1076,
          1165,
          1255,
          1315,
          1381,
          1437
         ],
         "yaxis": "y"
        },
        {
         "hovertemplate": "País=Sweden<br>Año=%{x}<br>Total=%{y}<extra></extra>",
         "legendgroup": "Sweden",
         "line": {
          "color": "#FF97FF",
          "dash": "solid"
         },
         "marker": {
          "symbol": "circle"
         },
         "mode": "lines",
         "name": "Sweden",
         "orientation": "v",
         "showlegend": true,
         "type": "scatter",
         "x": [
          "1900",
          "1908",
          "1912",
          "1920",
          "1924",
          "1928",
          "1932",
          "1936",
          "1948",
          "1952",
          "1956",
          "1960",
          "1964",
          "1968",
          "1972",
          "1976",
          "1980",
          "1984",
          "1988",
          "1992",
          "1996",
          "2000",
          "2004",
          "2008",
          "2012",
          "2016",
          "2021"
         ],
         "xaxis": "x",
         "y": [
          1,
          26,
          89,
          153,
          182,
          207,
          231,
          252,
          298,
          333,
          349,
          355,
          363,
          367,
          383,
          388,
          400,
          419,
          430,
          442,
          450,
          462,
          469,
          474,
          482,
          493,
          502
         ],
         "yaxis": "y"
        },
        {
         "hovertemplate": "País=United States of America<br>Año=%{x}<br>Total=%{y}<extra></extra>",
         "legendgroup": "United States of America",
         "line": {
          "color": "#FECB52",
          "dash": "solid"
         },
         "marker": {
          "symbol": "circle"
         },
         "mode": "lines",
         "name": "United States of America",
         "orientation": "v",
         "showlegend": true,
         "type": "scatter",
         "x": [
          "1896",
          "1900",
          "1904",
          "1908",
          "1912",
          "1920",
          "1924",
          "1928",
          "1932",
          "1936",
          "1948",
          "1952",
          "1956",
          "1960",
          "1964",
          "1968",
          "1972",
          "1976",
          "1984",
          "1988",
          "1992",
          "1996",
          "2000",
          "2004",
          "2008",
          "2012",
          "2016",
          "2021"
         ],
         "xaxis": "x",
         "y": [
          19,
          66,
          308,
          354,
          417,
          512,
          611,
          667,
          777,
          834,
          918,
          994,
          1068,
          1139,
          1229,
          1336,
          1430,
          1524,
          1697,
          1791,
          1899,
          2000,
          2093,
          2194,
          2306,
          2410,
          2531,
          2644
         ],
         "yaxis": "y"
        }
       ],
       "layout": {
        "legend": {
         "title": {
          "text": "País"
         },
         "tracegroupgap": 0
        },
        "template": {
         "data": {
          "bar": [
           {
            "error_x": {
             "color": "#2a3f5f"
            },
            "error_y": {
             "color": "#2a3f5f"
            },
            "marker": {
             "line": {
              "color": "#E5ECF6",
              "width": 0.5
             },
             "pattern": {
              "fillmode": "overlay",
              "size": 10,
              "solidity": 0.2
             }
            },
            "type": "bar"
           }
          ],
          "barpolar": [
           {
            "marker": {
             "line": {
              "color": "#E5ECF6",
              "width": 0.5
             },
             "pattern": {
              "fillmode": "overlay",
              "size": 10,
              "solidity": 0.2
             }
            },
            "type": "barpolar"
           }
          ],
          "carpet": [
           {
            "aaxis": {
             "endlinecolor": "#2a3f5f",
             "gridcolor": "white",
             "linecolor": "white",
             "minorgridcolor": "white",
             "startlinecolor": "#2a3f5f"
            },
            "baxis": {
             "endlinecolor": "#2a3f5f",
             "gridcolor": "white",
             "linecolor": "white",
             "minorgridcolor": "white",
             "startlinecolor": "#2a3f5f"
            },
            "type": "carpet"
           }
          ],
          "choropleth": [
           {
            "colorbar": {
             "outlinewidth": 0,
             "ticks": ""
            },
            "type": "choropleth"
           }
          ],
          "contour": [
           {
            "colorbar": {
             "outlinewidth": 0,
             "ticks": ""
            },
            "colorscale": [
             [
              0,
              "#0d0887"
             ],
             [
              0.1111111111111111,
              "#46039f"
             ],
             [
              0.2222222222222222,
              "#7201a8"
             ],
             [
              0.3333333333333333,
              "#9c179e"
             ],
             [
              0.4444444444444444,
              "#bd3786"
             ],
             [
              0.5555555555555556,
              "#d8576b"
             ],
             [
              0.6666666666666666,
              "#ed7953"
             ],
             [
              0.7777777777777778,
              "#fb9f3a"
             ],
             [
              0.8888888888888888,
              "#fdca26"
             ],
             [
              1,
              "#f0f921"
             ]
            ],
            "type": "contour"
           }
          ],
          "contourcarpet": [
           {
            "colorbar": {
             "outlinewidth": 0,
             "ticks": ""
            },
            "type": "contourcarpet"
           }
          ],
          "heatmap": [
           {
            "colorbar": {
             "outlinewidth": 0,
             "ticks": ""
            },
            "colorscale": [
             [
              0,
              "#0d0887"
             ],
             [
              0.1111111111111111,
              "#46039f"
             ],
             [
              0.2222222222222222,
              "#7201a8"
             ],
             [
              0.3333333333333333,
              "#9c179e"
             ],
             [
              0.4444444444444444,
              "#bd3786"
             ],
             [
              0.5555555555555556,
              "#d8576b"
             ],
             [
              0.6666666666666666,
              "#ed7953"
             ],
             [
              0.7777777777777778,
              "#fb9f3a"
             ],
             [
              0.8888888888888888,
              "#fdca26"
             ],
             [
              1,
              "#f0f921"
             ]
            ],
            "type": "heatmap"
           }
          ],
          "heatmapgl": [
           {
            "colorbar": {
             "outlinewidth": 0,
             "ticks": ""
            },
            "colorscale": [
             [
              0,
              "#0d0887"
             ],
             [
              0.1111111111111111,
              "#46039f"
             ],
             [
              0.2222222222222222,
              "#7201a8"
             ],
             [
              0.3333333333333333,
              "#9c179e"
             ],
             [
              0.4444444444444444,
              "#bd3786"
             ],
             [
              0.5555555555555556,
              "#d8576b"
             ],
             [
              0.6666666666666666,
              "#ed7953"
             ],
             [
              0.7777777777777778,
              "#fb9f3a"
             ],
             [
              0.8888888888888888,
              "#fdca26"
             ],
             [
              1,
              "#f0f921"
             ]
            ],
            "type": "heatmapgl"
           }
          ],
          "histogram": [
           {
            "marker": {
             "pattern": {
              "fillmode": "overlay",
              "size": 10,
              "solidity": 0.2
             }
            },
            "type": "histogram"
           }
          ],
          "histogram2d": [
           {
            "colorbar": {
             "outlinewidth": 0,
             "ticks": ""
            },
            "colorscale": [
             [
              0,
              "#0d0887"
             ],
             [
              0.1111111111111111,
              "#46039f"
             ],
             [
              0.2222222222222222,
              "#7201a8"
             ],
             [
              0.3333333333333333,
              "#9c179e"
             ],
             [
              0.4444444444444444,
              "#bd3786"
             ],
             [
              0.5555555555555556,
              "#d8576b"
             ],
             [
              0.6666666666666666,
              "#ed7953"
             ],
             [
              0.7777777777777778,
              "#fb9f3a"
             ],
             [
              0.8888888888888888,
              "#fdca26"
             ],
             [
              1,
              "#f0f921"
             ]
            ],
            "type": "histogram2d"
           }
          ],
          "histogram2dcontour": [
           {
            "colorbar": {
             "outlinewidth": 0,
             "ticks": ""
            },
            "colorscale": [
             [
              0,
              "#0d0887"
             ],
             [
              0.1111111111111111,
              "#46039f"
             ],
             [
              0.2222222222222222,
              "#7201a8"
             ],
             [
              0.3333333333333333,
              "#9c179e"
             ],
             [
              0.4444444444444444,
              "#bd3786"
             ],
             [
              0.5555555555555556,
              "#d8576b"
             ],
             [
              0.6666666666666666,
              "#ed7953"
             ],
             [
              0.7777777777777778,
              "#fb9f3a"
             ],
             [
              0.8888888888888888,
              "#fdca26"
             ],
             [
              1,
              "#f0f921"
             ]
            ],
            "type": "histogram2dcontour"
           }
          ],
          "mesh3d": [
           {
            "colorbar": {
             "outlinewidth": 0,
             "ticks": ""
            },
            "type": "mesh3d"
           }
          ],
          "parcoords": [
           {
            "line": {
             "colorbar": {
              "outlinewidth": 0,
              "ticks": ""
             }
            },
            "type": "parcoords"
           }
          ],
          "pie": [
           {
            "automargin": true,
            "type": "pie"
           }
          ],
          "scatter": [
           {
            "fillpattern": {
             "fillmode": "overlay",
             "size": 10,
             "solidity": 0.2
            },
            "type": "scatter"
           }
          ],
          "scatter3d": [
           {
            "line": {
             "colorbar": {
              "outlinewidth": 0,
              "ticks": ""
             }
            },
            "marker": {
             "colorbar": {
              "outlinewidth": 0,
              "ticks": ""
             }
            },
            "type": "scatter3d"
           }
          ],
          "scattercarpet": [
           {
            "marker": {
             "colorbar": {
              "outlinewidth": 0,
              "ticks": ""
             }
            },
            "type": "scattercarpet"
           }
          ],
          "scattergeo": [
           {
            "marker": {
             "colorbar": {
              "outlinewidth": 0,
              "ticks": ""
             }
            },
            "type": "scattergeo"
           }
          ],
          "scattergl": [
           {
            "marker": {
             "colorbar": {
              "outlinewidth": 0,
              "ticks": ""
             }
            },
            "type": "scattergl"
           }
          ],
          "scattermapbox": [
           {
            "marker": {
             "colorbar": {
              "outlinewidth": 0,
              "ticks": ""
             }
            },
            "type": "scattermapbox"
           }
          ],
          "scatterpolar": [
           {
            "marker": {
             "colorbar": {
              "outlinewidth": 0,
              "ticks": ""
             }
            },
            "type": "scatterpolar"
           }
          ],
          "scatterpolargl": [
           {
            "marker": {
             "colorbar": {
              "outlinewidth": 0,
              "ticks": ""
             }
            },
            "type": "scatterpolargl"
           }
          ],
          "scatterternary": [
           {
            "marker": {
             "colorbar": {
              "outlinewidth": 0,
              "ticks": ""
             }
            },
            "type": "scatterternary"
           }
          ],
          "surface": [
           {
            "colorbar": {
             "outlinewidth": 0,
             "ticks": ""
            },
            "colorscale": [
             [
              0,
              "#0d0887"
             ],
             [
              0.1111111111111111,
              "#46039f"
             ],
             [
              0.2222222222222222,
              "#7201a8"
             ],
             [
              0.3333333333333333,
              "#9c179e"
             ],
             [
              0.4444444444444444,
              "#bd3786"
             ],
             [
              0.5555555555555556,
              "#d8576b"
             ],
             [
              0.6666666666666666,
              "#ed7953"
             ],
             [
              0.7777777777777778,
              "#fb9f3a"
             ],
             [
              0.8888888888888888,
              "#fdca26"
             ],
             [
              1,
              "#f0f921"
             ]
            ],
            "type": "surface"
           }
          ],
          "table": [
           {
            "cells": {
             "fill": {
              "color": "#EBF0F8"
             },
             "line": {
              "color": "white"
             }
            },
            "header": {
             "fill": {
              "color": "#C8D4E3"
             },
             "line": {
              "color": "white"
             }
            },
            "type": "table"
           }
          ]
         },
         "layout": {
          "annotationdefaults": {
           "arrowcolor": "#2a3f5f",
           "arrowhead": 0,
           "arrowwidth": 1
          },
          "autotypenumbers": "strict",
          "coloraxis": {
           "colorbar": {
            "outlinewidth": 0,
            "ticks": ""
           }
          },
          "colorscale": {
           "diverging": [
            [
             0,
             "#8e0152"
            ],
            [
             0.1,
             "#c51b7d"
            ],
            [
             0.2,
             "#de77ae"
            ],
            [
             0.3,
             "#f1b6da"
            ],
            [
             0.4,
             "#fde0ef"
            ],
            [
             0.5,
             "#f7f7f7"
            ],
            [
             0.6,
             "#e6f5d0"
            ],
            [
             0.7,
             "#b8e186"
            ],
            [
             0.8,
             "#7fbc41"
            ],
            [
             0.9,
             "#4d9221"
            ],
            [
             1,
             "#276419"
            ]
           ],
           "sequential": [
            [
             0,
             "#0d0887"
            ],
            [
             0.1111111111111111,
             "#46039f"
            ],
            [
             0.2222222222222222,
             "#7201a8"
            ],
            [
             0.3333333333333333,
             "#9c179e"
            ],
            [
             0.4444444444444444,
             "#bd3786"
            ],
            [
             0.5555555555555556,
             "#d8576b"
            ],
            [
             0.6666666666666666,
             "#ed7953"
            ],
            [
             0.7777777777777778,
             "#fb9f3a"
            ],
            [
             0.8888888888888888,
             "#fdca26"
            ],
            [
             1,
             "#f0f921"
            ]
           ],
           "sequentialminus": [
            [
             0,
             "#0d0887"
            ],
            [
             0.1111111111111111,
             "#46039f"
            ],
            [
             0.2222222222222222,
             "#7201a8"
            ],
            [
             0.3333333333333333,
             "#9c179e"
            ],
            [
             0.4444444444444444,
             "#bd3786"
            ],
            [
             0.5555555555555556,
             "#d8576b"
            ],
            [
             0.6666666666666666,
             "#ed7953"
            ],
            [
             0.7777777777777778,
             "#fb9f3a"
            ],
            [
             0.8888888888888888,
             "#fdca26"
            ],
            [
             1,
             "#f0f921"
            ]
           ]
          },
          "colorway": [
           "#636efa",
           "#EF553B",
           "#00cc96",
           "#ab63fa",
           "#FFA15A",
           "#19d3f3",
           "#FF6692",
           "#B6E880",
           "#FF97FF",
           "#FECB52"
          ],
          "font": {
           "color": "#2a3f5f"
          },
          "geo": {
           "bgcolor": "white",
           "lakecolor": "white",
           "landcolor": "#E5ECF6",
           "showlakes": true,
           "showland": true,
           "subunitcolor": "white"
          },
          "hoverlabel": {
           "align": "left"
          },
          "hovermode": "closest",
          "mapbox": {
           "style": "light"
          },
          "paper_bgcolor": "white",
          "plot_bgcolor": "#E5ECF6",
          "polar": {
           "angularaxis": {
            "gridcolor": "white",
            "linecolor": "white",
            "ticks": ""
           },
           "bgcolor": "#E5ECF6",
           "radialaxis": {
            "gridcolor": "white",
            "linecolor": "white",
            "ticks": ""
           }
          },
          "scene": {
           "xaxis": {
            "backgroundcolor": "#E5ECF6",
            "gridcolor": "white",
            "gridwidth": 2,
            "linecolor": "white",
            "showbackground": true,
            "ticks": "",
            "zerolinecolor": "white"
           },
           "yaxis": {
            "backgroundcolor": "#E5ECF6",
            "gridcolor": "white",
            "gridwidth": 2,
            "linecolor": "white",
            "showbackground": true,
            "ticks": "",
            "zerolinecolor": "white"
           },
           "zaxis": {
            "backgroundcolor": "#E5ECF6",
            "gridcolor": "white",
            "gridwidth": 2,
            "linecolor": "white",
            "showbackground": true,
            "ticks": "",
            "zerolinecolor": "white"
           }
          },
          "shapedefaults": {
           "line": {
            "color": "#2a3f5f"
           }
          },
          "ternary": {
           "aaxis": {
            "gridcolor": "white",
            "linecolor": "white",
            "ticks": ""
           },
           "baxis": {
            "gridcolor": "white",
            "linecolor": "white",
            "ticks": ""
           },
           "bgcolor": "#E5ECF6",
           "caxis": {
            "gridcolor": "white",
            "linecolor": "white",
            "ticks": ""
           }
          },
          "title": {
           "x": 0.05
          },
          "xaxis": {
           "automargin": true,
           "gridcolor": "white",
           "linecolor": "white",
           "ticks": "",
           "title": {
            "standoff": 15
           },
           "zerolinecolor": "white",
           "zerolinewidth": 2
          },
          "yaxis": {
           "automargin": true,
           "gridcolor": "white",
           "linecolor": "white",
           "ticks": "",
           "title": {
            "standoff": 15
           },
           "zerolinecolor": "white",
           "zerolinewidth": 2
          }
         }
        },
        "title": {
         "text": "Histórico de Medallas (Top 10 países)"
        },
        "xaxis": {
         "anchor": "y",
         "categoryarray": [
          "1896",
          "1900",
          "1904",
          "1908"
         ],
         "categoryorder": "array",
         "domain": [
          0,
          1
         ],
         "tickangle": -45,
         "title": {
          "text": "Año"
         }
        },
        "yaxis": {
         "anchor": "x",
         "domain": [
          0,
          1
         ],
         "title": {
          "text": "Total"
         }
        }
       }
      }
     },
     "metadata": {},
     "output_type": "display_data"
    },
    {
     "data": {
      "text/plain": [
       "''"
      ]
     },
     "execution_count": 34,
     "metadata": {},
     "output_type": "execute_result"
    }
   ],
   "source": [
    "# Agrupar el dataframe por país y año y calcular la suma acumulativa de medallas\n",
    "acumulado_medallas_top10 = historico_medallas_top10.groupby(['País','Año']).sum().groupby(level=[0]).cumsum().reset_index()\n",
    "\n",
    "# Graficar los datos\n",
    "fig = px.line(acumulado_medallas_top10, x=\"Año\", y=\"Total\", color=\"País\", title=\"Histórico de Medallas (Top 10 países)\")\n",
    "fig.update_layout(xaxis=dict(tickangle=-45))\n",
    "fig.update_layout(xaxis=dict(categoryorder='array', categoryarray=[\"1896\", \"1900\", \"1904\", \"1908\"]))\n",
    "# Mostrar el gráfico\n",
    "fig.show()\n",
    "\n",
    "pyo.plot(fig, filename='Medals History.html')\n",
    ";"
   ]
  },
  {
   "cell_type": "code",
   "execution_count": 35,
   "metadata": {},
   "outputs": [
    {
     "data": {
      "text/plain": [
       "'Olimpiadas1896_2021.html'"
      ]
     },
     "execution_count": 35,
     "metadata": {},
     "output_type": "execute_result"
    }
   ],
   "source": [
    "plot(fig,filename=\"Olimpiadas1896_2021.html\")"
   ]
  },
  {
   "cell_type": "code",
   "execution_count": 38,
   "metadata": {},
   "outputs": [
    {
     "data": {
      "text/plain": [
       "array(['Australia', 'France', 'Germany', 'Great Britain', 'Hungary',\n",
       "       'Italy', \"People's Republic of China\", 'Russian Federation',\n",
       "       'Sweden', 'United States of America'], dtype=object)"
      ]
     },
     "execution_count": 38,
     "metadata": {},
     "output_type": "execute_result"
    }
   ],
   "source": [
    "acumulado_medallas_top10[\"País\"].unique()"
   ]
  },
  {
   "cell_type": "code",
   "execution_count": 39,
   "metadata": {},
   "outputs": [
    {
     "data": {
      "text/html": [
       "<div>\n",
       "<style scoped>\n",
       "    .dataframe tbody tr th:only-of-type {\n",
       "        vertical-align: middle;\n",
       "    }\n",
       "\n",
       "    .dataframe tbody tr th {\n",
       "        vertical-align: top;\n",
       "    }\n",
       "\n",
       "    .dataframe thead th {\n",
       "        text-align: right;\n",
       "    }\n",
       "</style>\n",
       "<table border=\"1\" class=\"dataframe\">\n",
       "  <thead>\n",
       "    <tr style=\"text-align: right;\">\n",
       "      <th></th>\n",
       "      <th>País</th>\n",
       "      <th>Año</th>\n",
       "      <th>Oro</th>\n",
       "      <th>Plata</th>\n",
       "      <th>Bronce</th>\n",
       "      <th>Total</th>\n",
       "    </tr>\n",
       "  </thead>\n",
       "  <tbody>\n",
       "    <tr>\n",
       "      <th>0</th>\n",
       "      <td>Australia</td>\n",
       "      <td>1896</td>\n",
       "      <td>2</td>\n",
       "      <td>0</td>\n",
       "      <td>1</td>\n",
       "      <td>3.0</td>\n",
       "    </tr>\n",
       "    <tr>\n",
       "      <th>1</th>\n",
       "      <td>Australia</td>\n",
       "      <td>1900</td>\n",
       "      <td>4</td>\n",
       "      <td>0</td>\n",
       "      <td>4</td>\n",
       "      <td>8.0</td>\n",
       "    </tr>\n",
       "    <tr>\n",
       "      <th>2</th>\n",
       "      <td>Australia</td>\n",
       "      <td>1908</td>\n",
       "      <td>5</td>\n",
       "      <td>2</td>\n",
       "      <td>6</td>\n",
       "      <td>13.0</td>\n",
       "    </tr>\n",
       "    <tr>\n",
       "      <th>3</th>\n",
       "      <td>Australia</td>\n",
       "      <td>1912</td>\n",
       "      <td>7</td>\n",
       "      <td>4</td>\n",
       "      <td>9</td>\n",
       "      <td>20.0</td>\n",
       "    </tr>\n",
       "    <tr>\n",
       "      <th>4</th>\n",
       "      <td>Australia</td>\n",
       "      <td>1920</td>\n",
       "      <td>7</td>\n",
       "      <td>6</td>\n",
       "      <td>10</td>\n",
       "      <td>23.0</td>\n",
       "    </tr>\n",
       "    <tr>\n",
       "      <th>...</th>\n",
       "      <td>...</td>\n",
       "      <td>...</td>\n",
       "      <td>...</td>\n",
       "      <td>...</td>\n",
       "      <td>...</td>\n",
       "      <td>...</td>\n",
       "    </tr>\n",
       "    <tr>\n",
       "      <th>242</th>\n",
       "      <td>United States of America</td>\n",
       "      <td>2004</td>\n",
       "      <td>897</td>\n",
       "      <td>695</td>\n",
       "      <td>602</td>\n",
       "      <td>2194.0</td>\n",
       "    </tr>\n",
       "    <tr>\n",
       "      <th>243</th>\n",
       "      <td>United States of America</td>\n",
       "      <td>2008</td>\n",
       "      <td>933</td>\n",
       "      <td>734</td>\n",
       "      <td>639</td>\n",
       "      <td>2306.0</td>\n",
       "    </tr>\n",
       "    <tr>\n",
       "      <th>244</th>\n",
       "      <td>United States of America</td>\n",
       "      <td>2012</td>\n",
       "      <td>979</td>\n",
       "      <td>762</td>\n",
       "      <td>669</td>\n",
       "      <td>2410.0</td>\n",
       "    </tr>\n",
       "    <tr>\n",
       "      <th>245</th>\n",
       "      <td>United States of America</td>\n",
       "      <td>2016</td>\n",
       "      <td>1025</td>\n",
       "      <td>799</td>\n",
       "      <td>707</td>\n",
       "      <td>2531.0</td>\n",
       "    </tr>\n",
       "    <tr>\n",
       "      <th>246</th>\n",
       "      <td>United States of America</td>\n",
       "      <td>2021</td>\n",
       "      <td>1064</td>\n",
       "      <td>840</td>\n",
       "      <td>740</td>\n",
       "      <td>2644.0</td>\n",
       "    </tr>\n",
       "  </tbody>\n",
       "</table>\n",
       "<p>247 rows × 6 columns</p>\n",
       "</div>"
      ],
      "text/plain": [
       "                         País   Año   Oro  Plata  Bronce   Total\n",
       "0                   Australia  1896     2      0       1     3.0\n",
       "1                   Australia  1900     4      0       4     8.0\n",
       "2                   Australia  1908     5      2       6    13.0\n",
       "3                   Australia  1912     7      4       9    20.0\n",
       "4                   Australia  1920     7      6      10    23.0\n",
       "..                        ...   ...   ...    ...     ...     ...\n",
       "242  United States of America  2004   897    695     602  2194.0\n",
       "243  United States of America  2008   933    734     639  2306.0\n",
       "244  United States of America  2012   979    762     669  2410.0\n",
       "245  United States of America  2016  1025    799     707  2531.0\n",
       "246  United States of America  2021  1064    840     740  2644.0\n",
       "\n",
       "[247 rows x 6 columns]"
      ]
     },
     "execution_count": 39,
     "metadata": {},
     "output_type": "execute_result"
    }
   ],
   "source": [
    "acumulado_medallas_top10"
   ]
  },
  {
   "cell_type": "code",
   "execution_count": 50,
   "metadata": {},
   "outputs": [
    {
     "data": {
      "text/html": [
       "<div>\n",
       "<style scoped>\n",
       "    .dataframe tbody tr th:only-of-type {\n",
       "        vertical-align: middle;\n",
       "    }\n",
       "\n",
       "    .dataframe tbody tr th {\n",
       "        vertical-align: top;\n",
       "    }\n",
       "\n",
       "    .dataframe thead th {\n",
       "        text-align: right;\n",
       "    }\n",
       "</style>\n",
       "<table border=\"1\" class=\"dataframe\">\n",
       "  <thead>\n",
       "    <tr style=\"text-align: right;\">\n",
       "      <th></th>\n",
       "      <th>Oro</th>\n",
       "      <th>Plata</th>\n",
       "      <th>Bronce</th>\n",
       "      <th>Total</th>\n",
       "      <th>Año</th>\n",
       "    </tr>\n",
       "    <tr>\n",
       "      <th>País</th>\n",
       "      <th></th>\n",
       "      <th></th>\n",
       "      <th></th>\n",
       "      <th></th>\n",
       "      <th></th>\n",
       "    </tr>\n",
       "  </thead>\n",
       "  <tbody>\n",
       "    <tr>\n",
       "      <th>Australia</th>\n",
       "      <td>2</td>\n",
       "      <td>0</td>\n",
       "      <td>1</td>\n",
       "      <td>3.0</td>\n",
       "      <td>1896</td>\n",
       "    </tr>\n",
       "    <tr>\n",
       "      <th>Austria</th>\n",
       "      <td>2</td>\n",
       "      <td>1</td>\n",
       "      <td>2</td>\n",
       "      <td>5.0</td>\n",
       "      <td>1896</td>\n",
       "    </tr>\n",
       "    <tr>\n",
       "      <th>Denmark</th>\n",
       "      <td>1</td>\n",
       "      <td>2</td>\n",
       "      <td>3</td>\n",
       "      <td>6.0</td>\n",
       "      <td>1896</td>\n",
       "    </tr>\n",
       "    <tr>\n",
       "      <th>France</th>\n",
       "      <td>5</td>\n",
       "      <td>4</td>\n",
       "      <td>2</td>\n",
       "      <td>11.0</td>\n",
       "      <td>1896</td>\n",
       "    </tr>\n",
       "    <tr>\n",
       "      <th>Germany</th>\n",
       "      <td>7</td>\n",
       "      <td>5</td>\n",
       "      <td>2</td>\n",
       "      <td>14.0</td>\n",
       "      <td>1896</td>\n",
       "    </tr>\n",
       "    <tr>\n",
       "      <th>...</th>\n",
       "      <td>...</td>\n",
       "      <td>...</td>\n",
       "      <td>...</td>\n",
       "      <td>...</td>\n",
       "      <td>...</td>\n",
       "    </tr>\n",
       "    <tr>\n",
       "      <th>Uganda</th>\n",
       "      <td>2</td>\n",
       "      <td>1</td>\n",
       "      <td>1</td>\n",
       "      <td>4.0</td>\n",
       "      <td>2021</td>\n",
       "    </tr>\n",
       "    <tr>\n",
       "      <th>Ukraine</th>\n",
       "      <td>1</td>\n",
       "      <td>6</td>\n",
       "      <td>12</td>\n",
       "      <td>19.0</td>\n",
       "      <td>2021</td>\n",
       "    </tr>\n",
       "    <tr>\n",
       "      <th>United States of America</th>\n",
       "      <td>39</td>\n",
       "      <td>41</td>\n",
       "      <td>33</td>\n",
       "      <td>113.0</td>\n",
       "      <td>2021</td>\n",
       "    </tr>\n",
       "    <tr>\n",
       "      <th>Uzbekistan</th>\n",
       "      <td>3</td>\n",
       "      <td>0</td>\n",
       "      <td>2</td>\n",
       "      <td>5.0</td>\n",
       "      <td>2021</td>\n",
       "    </tr>\n",
       "    <tr>\n",
       "      <th>Venezuela</th>\n",
       "      <td>1</td>\n",
       "      <td>3</td>\n",
       "      <td>0</td>\n",
       "      <td>4.0</td>\n",
       "      <td>2021</td>\n",
       "    </tr>\n",
       "  </tbody>\n",
       "</table>\n",
       "<p>1347 rows × 5 columns</p>\n",
       "</div>"
      ],
      "text/plain": [
       "                          Oro  Plata  Bronce  Total   Año\n",
       "País                                                     \n",
       "Australia                   2      0       1    3.0  1896\n",
       "Austria                     2      1       2    5.0  1896\n",
       "Denmark                     1      2       3    6.0  1896\n",
       "France                      5      4       2   11.0  1896\n",
       "Germany                     7      5       2   14.0  1896\n",
       "...                       ...    ...     ...    ...   ...\n",
       "Uganda                      2      1       1    4.0  2021\n",
       "Ukraine                     1      6      12   19.0  2021\n",
       "United States of America   39     41      33  113.0  2021\n",
       "Uzbekistan                  3      0       2    5.0  2021\n",
       "Venezuela                   1      3       0    4.0  2021\n",
       "\n",
       "[1347 rows x 5 columns]"
      ]
     },
     "execution_count": 50,
     "metadata": {},
     "output_type": "execute_result"
    }
   ],
   "source": [
    "df_total_medallas"
   ]
  },
  {
   "cell_type": "code",
   "execution_count": 68,
   "metadata": {},
   "outputs": [],
   "source": [
    "df_total_medallas.reset_index(inplace=True)"
   ]
  },
  {
   "cell_type": "code",
   "execution_count": 82,
   "metadata": {},
   "outputs": [],
   "source": [
    "df_total_medallas.to_csv(\"df_total_medallas.csv\",index=False)"
   ]
  },
  {
   "cell_type": "code",
   "execution_count": 78,
   "metadata": {},
   "outputs": [
    {
     "data": {
      "text/html": [
       "<div>\n",
       "<style scoped>\n",
       "    .dataframe tbody tr th:only-of-type {\n",
       "        vertical-align: middle;\n",
       "    }\n",
       "\n",
       "    .dataframe tbody tr th {\n",
       "        vertical-align: top;\n",
       "    }\n",
       "\n",
       "    .dataframe thead th {\n",
       "        text-align: right;\n",
       "    }\n",
       "</style>\n",
       "<table border=\"1\" class=\"dataframe\">\n",
       "  <thead>\n",
       "    <tr style=\"text-align: right;\">\n",
       "      <th></th>\n",
       "      <th>Year</th>\n",
       "      <th>%Medals</th>\n",
       "    </tr>\n",
       "  </thead>\n",
       "  <tbody>\n",
       "    <tr>\n",
       "      <th>0</th>\n",
       "      <td>1952</td>\n",
       "      <td>Total\n",
       "284   21.0</td>\n",
       "    </tr>\n",
       "    <tr>\n",
       "      <th>1</th>\n",
       "      <td>1956</td>\n",
       "      <td>Empty DataFrame\n",
       "Columns: [Total]\n",
       "Index: []</td>\n",
       "    </tr>\n",
       "    <tr>\n",
       "      <th>2</th>\n",
       "      <td>1960</td>\n",
       "      <td>Total\n",
       "366   36.0</td>\n",
       "    </tr>\n",
       "    <tr>\n",
       "      <th>3</th>\n",
       "      <td>1964</td>\n",
       "      <td>Total\n",
       "409   27.0</td>\n",
       "    </tr>\n",
       "    <tr>\n",
       "      <th>4</th>\n",
       "      <td>1968</td>\n",
       "      <td>Total\n",
       "452   16.0</td>\n",
       "    </tr>\n",
       "  </tbody>\n",
       "</table>\n",
       "</div>"
      ],
      "text/plain": [
       "   Year                                     %Medals\n",
       "0  1952                            Total\n",
       "284   21.0\n",
       "1  1956  Empty DataFrame\n",
       "Columns: [Total]\n",
       "Index: []\n",
       "2  1960                            Total\n",
       "366   36.0\n",
       "3  1964                            Total\n",
       "409   27.0\n",
       "4  1968                            Total\n",
       "452   16.0"
      ]
     },
     "execution_count": 78,
     "metadata": {},
     "output_type": "execute_result"
    }
   ],
   "source": [
    "italia_1960"
   ]
  }
 ],
 "metadata": {
  "kernelspec": {
   "display_name": "Python 3",
   "language": "python",
   "name": "python3"
  },
  "language_info": {
   "codemirror_mode": {
    "name": "ipython",
    "version": 3
   },
   "file_extension": ".py",
   "mimetype": "text/x-python",
   "name": "python",
   "nbconvert_exporter": "python",
   "pygments_lexer": "ipython3",
   "version": "3.7.4"
  },
  "orig_nbformat": 4
 },
 "nbformat": 4,
 "nbformat_minor": 2
}
